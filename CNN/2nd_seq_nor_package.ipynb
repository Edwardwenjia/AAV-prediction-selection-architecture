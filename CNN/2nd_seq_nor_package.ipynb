{
  "cells": [
    {
      "cell_type": "code",
      "execution_count": 1,
      "metadata": {
        "ExecuteTime": {
          "end_time": "2021-06-15T17:13:58.134959Z",
          "start_time": "2021-06-15T17:13:57.550003Z"
        }
      },
      "outputs": [],
      "source": [
        "import pandas as pd\n",
        "import numpy as np\n",
        "import matplotlib as mpl\n",
        "import matplotlib.pyplot as plt\n",
        "import seaborn as sns\n",
        "from IPython.display import Image\n",
        "from scipy.stats import gaussian_kde, norm\n",
        "from sklearn.mixture import GaussianMixture\n",
        "\n",
        "from utils_f4f import CustomEarlyStopping, cnn_seq_model,AA_hotencoding ,heatmap, si_format\n",
        "\n"
      ]
    },
    {
      "cell_type": "code",
      "execution_count": 2,
      "metadata": {},
      "outputs": [],
      "source": [
        "mpl.rcParams['svg.fonttype'] = 'none'\n",
        "mpl.rcParams['font.family'] = ['sans-serif']\n",
        "mpl.rcParams['font.sans-serif'] = ['Arial']\n",
        "mpl.rcParams['text.usetex'] = False\n",
        "mpl.rcParams['pdf.fonttype'] = 42\n",
        "mpl.rcParams['ps.fonttype'] = 42"
      ]
    },
    {
      "cell_type": "markdown",
      "metadata": {},
      "source": [
        "#### Data_preparetion\n",
        "\n"
      ]
    },
    {
      "cell_type": "code",
      "execution_count": 3,
      "metadata": {},
      "outputs": [],
      "source": [
        "\n",
        "df_all = pd.read_csv('../data/2nd_10209_Package_seq.tsv',delimiter='\\t')\n",
        "# df_all = df_all.iloc[::500]\n",
        "df_modeling =df_all\n",
        "df_modeling['label']=0\n",
        "df_modeling = df_modeling[['seq', 'nor_package', 'label']]\n",
        "df_missing = df_modeling[np.isinf(df_modeling['nor_package']) ]#\n",
        "df_modeling = df_modeling[~np.isnan(df_modeling['nor_package']) & ~np.isinf(df_modeling['nor_package'])]\n",
        "df_modeling.reset_index(drop = True, inplace=True)\n",
        "AA_col = 'seq'\n",
        "array = 'nor_package'\n"
      ]
    },
    {
      "cell_type": "code",
      "execution_count": 4,
      "metadata": {},
      "outputs": [
        {
          "data": {
            "image/png": "[encoded data removed]",
            "text/plain": [
              "<Figure size 200x170 with 1 Axes>"
            ]
          },
          "metadata": {},
          "output_type": "display_data"
        }
      ],
      "source": [
        "nor_package = df_all[np.isfinite(df_all[array])][array]\n",
        "data = np.array(nor_package) \n",
        "data = data.reshape(-1, 1)  # Convert the data into a column vector\n",
        "\n",
        "# Fit the data using GaussianMixture\n",
        "n_components = 1 # Set the number of components for the hybrid model\n",
        "gmm = GaussianMixture(n_components=n_components)\n",
        "gmm.fit(data)\n",
        "\n",
        "# Get the mean and covariance matrix for each component\n",
        "means = gmm.means_\n",
        "covariances = gmm.covariances_\n",
        "\n",
        "# Generate the fitted distribution\n",
        "x = np.linspace(-10, 5, 10000)\n",
        "x = x.reshape(-1, 1)\n",
        "y = np.exp(gmm.score_samples(x))\n",
        "\n",
        "fig,ax = plt.subplots(figsize=(2,1.7),dpi=100)\n",
        "# Plot the raw data and the distribution after fitting\n",
        "plt.hist(data, bins=100, density=True, alpha=0.6, color = '#BAB3A3',label='Prediction')\n",
        "\n",
        "# 绘制每个分量的正态分布\n",
        "for i in range(n_components):\n",
        "    component = np.exp(-(x - means[i]) ** 2 / (2 * covariances[i]))\n",
        "    component /= np.sqrt(2 * np.pi * covariances[i])\n",
        "    component *= gmm.weights_[i]\n",
        "    if i == 0:\n",
        "        ax.plot(x, component, '-', label=f'Distribution {i + 1}', color='#F66E68', alpha=1)\n",
        "        ax.fill_between(x.flatten(), 0, component.flatten(), color='#F66E68', alpha=0.4)\n",
        "    else:\n",
        "        ax.plot(x, component, '-', label=f'Distribution {i + 1}', color='#457B9D', alpha=1)\n",
        "        ax.fill_between(x.flatten(), 0, component.flatten(), color='#457B9D', alpha=0.4)\n",
        "\n",
        "\n",
        "plt.title('Truth_distribution',fontsize=10)\n",
        "ax.tick_params(axis='both', which='both', length=2,labelsize=8)\n",
        "ax.set_xticks([-10,-1, 0, 1,2,3,4]); \n",
        "ax.set_xlim([-1,4])\n",
        "plt.ylabel('Density',labelpad=2,fontsize=10)\n",
        "plt.xlabel('Nor_package',labelpad=2,fontsize=10)\n",
        "plt.legend(fontsize=7,frameon=False,loc='best')\n",
        "plt.show()"
      ]
    },
    {
      "cell_type": "markdown",
      "metadata": {},
      "source": []
    },
    {
      "cell_type": "markdown",
      "metadata": {},
      "source": [
        "### Prep data\n",
        " one-hot encode the `AA_sequence` column and split the data into\n",
        "training and test sets. The training split will be split\n",
        "\n"
      ]
    },
    {
      "cell_type": "code",
      "execution_count": 5,
      "metadata": {},
      "outputs": [],
      "source": [
        "# Train-Test split\n",
        "train_size = 9200\n",
        "validation_size = 500\n",
        "train, validate, test = np.split(df_modeling.sample(frac=1),  [train_size, train_size+validation_size])\n",
        "\n",
        "# Hot Encoding\n",
        "\n",
        "train_x =  np.asarray([AA_hotencoding(variant) for variant in train[AA_col]])\n",
        "train_y = train[array]\n",
        "validate_x = np.asarray([AA_hotencoding(variant) for variant in validate[AA_col]])\n",
        "validate_y = validate[array]\n",
        "test_x = np.asarray([AA_hotencoding(variant) for variant in test[AA_col]])\n",
        "test_y = test[array]\n",
        "missing_x = np.asarray([AA_hotencoding(variant) for variant in df_missing[AA_col]])\n"
      ]
    },
    {
      "cell_type": "code",
      "execution_count": 6,
      "metadata": {},
      "outputs": [
        {
          "data": {
            "text/plain": [
              "(9200, 21, 20)"
            ]
          },
          "execution_count": 6,
          "metadata": {},
          "output_type": "execute_result"
        }
      ],
      "source": [
        "train_x.shape"
      ]
    },
    {
      "cell_type": "markdown",
      "metadata": {},
      "source": [
        "#### cnn  model training\n",
        "Default parameterization:Here the model is applied to aa-nor_package learning process, as details"
      ]
    },
    {
      "cell_type": "code",
      "execution_count": 7,
      "metadata": {},
      "outputs": [
        {
          "name": "stdout",
          "output_type": "stream",
          "text": [
            "Epoch 1/120\n",
            "575/575 - 24s - loss: 0.1315 - mae: 0.2852 - val_loss: 0.1021 - val_mae: 0.2487 - 24s/epoch - 42ms/step\n",
            "Epoch 2/120\n",
            "575/575 - 20s - loss: 0.1146 - mae: 0.2662 - val_loss: 0.1077 - val_mae: 0.2644 - 20s/epoch - 35ms/step\n",
            "Epoch 3/120\n",
            "575/575 - 26s - loss: 0.1097 - mae: 0.2604 - val_loss: 0.1028 - val_mae: 0.2462 - 26s/epoch - 45ms/step\n",
            "Epoch 4/120\n",
            "575/575 - 26s - loss: 0.1083 - mae: 0.2576 - val_loss: 0.1020 - val_mae: 0.2537 - 26s/epoch - 46ms/step\n",
            "Epoch 5/120\n",
            "575/575 - 26s - loss: 0.1058 - mae: 0.2553 - val_loss: 0.1079 - val_mae: 0.2620 - 26s/epoch - 46ms/step\n",
            "Epoch 6/120\n",
            "575/575 - 26s - loss: 0.1051 - mae: 0.2538 - val_loss: 0.0976 - val_mae: 0.2399 - 26s/epoch - 45ms/step\n",
            "Epoch 7/120\n",
            "575/575 - 26s - loss: 0.1037 - mae: 0.2523 - val_loss: 0.0934 - val_mae: 0.2352 - 26s/epoch - 44ms/step\n",
            "Epoch 8/120\n",
            "575/575 - 26s - loss: 0.1023 - mae: 0.2506 - val_loss: 0.0969 - val_mae: 0.2326 - 26s/epoch - 45ms/step\n",
            "Epoch 9/120\n",
            "575/575 - 26s - loss: 0.1021 - mae: 0.2502 - val_loss: 0.0965 - val_mae: 0.2348 - 26s/epoch - 46ms/step\n",
            "Epoch 10/120\n",
            "575/575 - 27s - loss: 0.1019 - mae: 0.2498 - val_loss: 0.0939 - val_mae: 0.2360 - 27s/epoch - 47ms/step\n",
            "Epoch 11/120\n",
            "575/575 - 27s - loss: 0.1013 - mae: 0.2495 - val_loss: 0.0975 - val_mae: 0.2466 - 27s/epoch - 47ms/step\n",
            "Epoch 12/120\n",
            "575/575 - 27s - loss: 0.1010 - mae: 0.2487 - val_loss: 0.0990 - val_mae: 0.2506 - 27s/epoch - 47ms/step\n",
            "Epoch 13/120\n",
            "575/575 - 27s - loss: 0.0998 - mae: 0.2467 - val_loss: 0.0948 - val_mae: 0.2323 - 27s/epoch - 48ms/step\n",
            "Epoch 14/120\n",
            "575/575 - 22s - loss: 0.0995 - mae: 0.2467 - val_loss: 0.0981 - val_mae: 0.2360 - 22s/epoch - 39ms/step\n",
            "Epoch 15/120\n",
            "575/575 - 16s - loss: 0.1009 - mae: 0.2488 - val_loss: 0.0998 - val_mae: 0.2524 - 16s/epoch - 28ms/step\n",
            "Epoch 16/120\n",
            "575/575 - 16s - loss: 0.0993 - mae: 0.2464 - val_loss: 0.0954 - val_mae: 0.2417 - 16s/epoch - 28ms/step\n",
            "Epoch 17/120\n",
            "575/575 - 16s - loss: 0.0984 - mae: 0.2456 - val_loss: 0.0964 - val_mae: 0.2467 - 16s/epoch - 28ms/step\n",
            "Epoch 18/120\n",
            "575/575 - 12s - loss: 0.0981 - mae: 0.2451 - val_loss: 0.0932 - val_mae: 0.2380 - 12s/epoch - 21ms/step\n",
            "Epoch 19/120\n",
            "575/575 - 10s - loss: 0.0973 - mae: 0.2432 - val_loss: 0.0945 - val_mae: 0.2393 - 10s/epoch - 17ms/step\n",
            "Epoch 20/120\n",
            "575/575 - 10s - loss: 0.0963 - mae: 0.2428 - val_loss: 0.0930 - val_mae: 0.2290 - 10s/epoch - 17ms/step\n",
            "Epoch 21/120\n",
            "575/575 - 9s - loss: 0.0951 - mae: 0.2403 - val_loss: 0.0977 - val_mae: 0.2357 - 9s/epoch - 16ms/step\n",
            "Epoch 22/120\n",
            "575/575 - 9s - loss: 0.0940 - mae: 0.2388 - val_loss: 0.0944 - val_mae: 0.2394 - 9s/epoch - 16ms/step\n",
            "Epoch 23/120\n",
            "575/575 - 9s - loss: 0.0938 - mae: 0.2376 - val_loss: 0.0890 - val_mae: 0.2327 - 9s/epoch - 17ms/step\n",
            "Epoch 24/120\n",
            "575/575 - 10s - loss: 0.0932 - mae: 0.2370 - val_loss: 0.0930 - val_mae: 0.2368 - 10s/epoch - 17ms/step\n",
            "Epoch 25/120\n",
            "575/575 - 9s - loss: 0.0922 - mae: 0.2356 - val_loss: 0.0906 - val_mae: 0.2336 - 9s/epoch - 16ms/step\n",
            "Epoch 26/120\n",
            "575/575 - 9s - loss: 0.0909 - mae: 0.2341 - val_loss: 0.0926 - val_mae: 0.2375 - 9s/epoch - 16ms/step\n",
            "Epoch 27/120\n",
            "575/575 - 9s - loss: 0.0910 - mae: 0.2343 - val_loss: 0.0930 - val_mae: 0.2325 - 9s/epoch - 16ms/step\n",
            "Epoch 28/120\n",
            "575/575 - 9s - loss: 0.0902 - mae: 0.2331 - val_loss: 0.0929 - val_mae: 0.2327 - 9s/epoch - 15ms/step\n",
            "Epoch 29/120\n",
            "575/575 - 9s - loss: 0.0899 - mae: 0.2326 - val_loss: 0.0918 - val_mae: 0.2321 - 9s/epoch - 15ms/step\n",
            "Epoch 30/120\n",
            "575/575 - 9s - loss: 0.0892 - mae: 0.2319 - val_loss: 0.0921 - val_mae: 0.2356 - 9s/epoch - 15ms/step\n",
            "Epoch 31/120\n",
            "575/575 - 8s - loss: 0.0889 - mae: 0.2313 - val_loss: 0.0975 - val_mae: 0.2464 - 8s/epoch - 15ms/step\n",
            "Epoch 32/120\n",
            "575/575 - 9s - loss: 0.0883 - mae: 0.2304 - val_loss: 0.0911 - val_mae: 0.2282 - 9s/epoch - 15ms/step\n",
            "Epoch 33/120\n",
            "575/575 - 9s - loss: 0.0879 - mae: 0.2302 - val_loss: 0.0910 - val_mae: 0.2316 - 9s/epoch - 15ms/step\n",
            "Epoch 34/120\n",
            "575/575 - 8s - loss: 0.0866 - mae: 0.2285 - val_loss: 0.0928 - val_mae: 0.2411 - 8s/epoch - 15ms/step\n",
            "Epoch 35/120\n",
            "575/575 - 9s - loss: 0.0855 - mae: 0.2264 - val_loss: 0.0910 - val_mae: 0.2361 - 9s/epoch - 16ms/step\n",
            "Epoch 36/120\n",
            "575/575 - 9s - loss: 0.0868 - mae: 0.2284 - val_loss: 0.0930 - val_mae: 0.2313 - 9s/epoch - 15ms/step\n",
            "Epoch 37/120\n",
            "575/575 - 8s - loss: 0.0853 - mae: 0.2261 - val_loss: 0.0919 - val_mae: 0.2332 - 8s/epoch - 15ms/step\n",
            "Epoch 38/120\n",
            "575/575 - 9s - loss: 0.0847 - mae: 0.2254 - val_loss: 0.0921 - val_mae: 0.2381 - 9s/epoch - 15ms/step\n",
            "Epoch 39/120\n",
            "575/575 - 8s - loss: 0.0844 - mae: 0.2254 - val_loss: 0.0970 - val_mae: 0.2431 - 8s/epoch - 14ms/step\n",
            "Epoch 40/120\n",
            "575/575 - 8s - loss: 0.0836 - mae: 0.2241 - val_loss: 0.0934 - val_mae: 0.2349 - 8s/epoch - 15ms/step\n",
            "Epoch 41/120\n",
            "575/575 - 9s - loss: 0.0838 - mae: 0.2238 - val_loss: 0.0954 - val_mae: 0.2348 - 9s/epoch - 15ms/step\n",
            "Epoch 42/120\n",
            "575/575 - 9s - loss: 0.0838 - mae: 0.2236 - val_loss: 0.0916 - val_mae: 0.2293 - 9s/epoch - 15ms/step\n",
            "Epoch 43/120\n",
            "575/575 - 9s - loss: 0.0837 - mae: 0.2230 - val_loss: 0.0891 - val_mae: 0.2291 - 9s/epoch - 15ms/step\n",
            "Epoch 44/120\n",
            "575/575 - 9s - loss: 0.0832 - mae: 0.2232 - val_loss: 0.0928 - val_mae: 0.2290 - 9s/epoch - 15ms/step\n",
            "Epoch 45/120\n",
            "575/575 - 8s - loss: 0.0825 - mae: 0.2224 - val_loss: 0.0902 - val_mae: 0.2328 - 8s/epoch - 15ms/step\n",
            "Epoch 46/120\n",
            "575/575 - 8s - loss: 0.0827 - mae: 0.2224 - val_loss: 0.0908 - val_mae: 0.2310 - 8s/epoch - 15ms/step\n",
            "Epoch 47/120\n",
            "575/575 - 8s - loss: 0.0822 - mae: 0.2218 - val_loss: 0.0967 - val_mae: 0.2462 - 8s/epoch - 14ms/step\n",
            "Epoch 48/120\n",
            "575/575 - 8s - loss: 0.0820 - mae: 0.2219 - val_loss: 0.0936 - val_mae: 0.2335 - 8s/epoch - 15ms/step\n",
            "Epoch 49/120\n",
            "575/575 - 8s - loss: 0.0818 - mae: 0.2210 - val_loss: 0.0917 - val_mae: 0.2343 - 8s/epoch - 15ms/step\n",
            "Epoch 50/120\n",
            "575/575 - 8s - loss: 0.0816 - mae: 0.2209 - val_loss: 0.0988 - val_mae: 0.2501 - 8s/epoch - 14ms/step\n",
            "Epoch 51/120\n",
            "575/575 - 8s - loss: 0.0814 - mae: 0.2207 - val_loss: 0.0932 - val_mae: 0.2335 - 8s/epoch - 14ms/step\n",
            "Epoch 52/120\n",
            "575/575 - 8s - loss: 0.0813 - mae: 0.2208 - val_loss: 0.0884 - val_mae: 0.2301 - 8s/epoch - 14ms/step\n",
            "Epoch 53/120\n",
            "575/575 - 8s - loss: 0.0806 - mae: 0.2193 - val_loss: 0.1060 - val_mae: 0.2632 - 8s/epoch - 14ms/step\n",
            "Epoch 54/120\n",
            "575/575 - 8s - loss: 0.0810 - mae: 0.2201 - val_loss: 0.0912 - val_mae: 0.2348 - 8s/epoch - 15ms/step\n",
            "Epoch 55/120\n",
            "575/575 - 8s - loss: 0.0803 - mae: 0.2192 - val_loss: 0.0963 - val_mae: 0.2458 - 8s/epoch - 15ms/step\n",
            "Epoch 56/120\n",
            "575/575 - 8s - loss: 0.0808 - mae: 0.2197 - val_loss: 0.0941 - val_mae: 0.2400 - 8s/epoch - 15ms/step\n",
            "Epoch 57/120\n",
            "575/575 - 8s - loss: 0.0807 - mae: 0.2199 - val_loss: 0.0921 - val_mae: 0.2354 - 8s/epoch - 15ms/step\n",
            "Epoch 58/120\n",
            "575/575 - 8s - loss: 0.0813 - mae: 0.2208 - val_loss: 0.0933 - val_mae: 0.2325 - 8s/epoch - 15ms/step\n",
            "Epoch 59/120\n",
            "575/575 - 8s - loss: 0.0798 - mae: 0.2187 - val_loss: 0.0914 - val_mae: 0.2312 - 8s/epoch - 15ms/step\n",
            "Epoch 60/120\n",
            "575/575 - 8s - loss: 0.0800 - mae: 0.2183 - val_loss: 0.0915 - val_mae: 0.2333 - 8s/epoch - 15ms/step\n",
            "Epoch 61/120\n",
            "575/575 - 8s - loss: 0.0795 - mae: 0.2176 - val_loss: 0.0910 - val_mae: 0.2311 - 8s/epoch - 14ms/step\n",
            "Epoch 62/120\n",
            "575/575 - 8s - loss: 0.0797 - mae: 0.2180 - val_loss: 0.0901 - val_mae: 0.2286 - 8s/epoch - 15ms/step\n",
            "Epoch 63/120\n",
            "575/575 - 8s - loss: 0.0796 - mae: 0.2183 - val_loss: 0.0903 - val_mae: 0.2316 - 8s/epoch - 15ms/step\n",
            "Epoch 64/120\n",
            "575/575 - 9s - loss: 0.0786 - mae: 0.2170 - val_loss: 0.0936 - val_mae: 0.2333 - 9s/epoch - 15ms/step\n",
            "Epoch 65/120\n",
            "575/575 - 9s - loss: 0.0788 - mae: 0.2168 - val_loss: 0.0973 - val_mae: 0.2474 - 9s/epoch - 15ms/step\n",
            "Epoch 66/120\n",
            "575/575 - 9s - loss: 0.0787 - mae: 0.2164 - val_loss: 0.0926 - val_mae: 0.2328 - 9s/epoch - 15ms/step\n",
            "Epoch 67/120\n",
            "575/575 - 9s - loss: 0.0788 - mae: 0.2175 - val_loss: 0.0908 - val_mae: 0.2296 - 9s/epoch - 15ms/step\n",
            "Epoch 68/120\n",
            "575/575 - 9s - loss: 0.0786 - mae: 0.2165 - val_loss: 0.0888 - val_mae: 0.2264 - 9s/epoch - 15ms/step\n",
            "Epoch 69/120\n",
            "575/575 - 8s - loss: 0.0787 - mae: 0.2172 - val_loss: 0.0916 - val_mae: 0.2348 - 8s/epoch - 15ms/step\n",
            "Epoch 70/120\n",
            "575/575 - 8s - loss: 0.0786 - mae: 0.2170 - val_loss: 0.0934 - val_mae: 0.2346 - 8s/epoch - 15ms/step\n",
            "Epoch 71/120\n",
            "575/575 - 8s - loss: 0.0781 - mae: 0.2159 - val_loss: 0.0931 - val_mae: 0.2316 - 8s/epoch - 15ms/step\n",
            "Epoch 72/120\n",
            "575/575 - 9s - loss: 0.0786 - mae: 0.2175 - val_loss: 0.0903 - val_mae: 0.2318 - 9s/epoch - 15ms/step\n",
            "Epoch 73/120\n",
            "575/575 - 8s - loss: 0.0791 - mae: 0.2177 - val_loss: 0.0902 - val_mae: 0.2320 - 8s/epoch - 15ms/step\n",
            "Epoch 74/120\n",
            "575/575 - 8s - loss: 0.0783 - mae: 0.2165 - val_loss: 0.0907 - val_mae: 0.2298 - 8s/epoch - 15ms/step\n",
            "Epoch 75/120\n",
            "575/575 - 8s - loss: 0.0776 - mae: 0.2153 - val_loss: 0.1045 - val_mae: 0.2572 - 8s/epoch - 15ms/step\n",
            "Epoch 76/120\n",
            "575/575 - 9s - loss: 0.0774 - mae: 0.2154 - val_loss: 0.0914 - val_mae: 0.2326 - 9s/epoch - 15ms/step\n",
            "Epoch 77/120\n",
            "575/575 - 8s - loss: 0.0780 - mae: 0.2160 - val_loss: 0.0956 - val_mae: 0.2407 - 8s/epoch - 15ms/step\n",
            "Epoch 78/120\n",
            "575/575 - 9s - loss: 0.0774 - mae: 0.2151 - val_loss: 0.0920 - val_mae: 0.2332 - 9s/epoch - 15ms/step\n",
            "Epoch 79/120\n",
            "575/575 - 8s - loss: 0.0773 - mae: 0.2145 - val_loss: 0.0919 - val_mae: 0.2313 - 8s/epoch - 15ms/step\n",
            "Epoch 80/120\n",
            "575/575 - 9s - loss: 0.0773 - mae: 0.2142 - val_loss: 0.0888 - val_mae: 0.2281 - 9s/epoch - 15ms/step\n",
            "Epoch 81/120\n",
            "575/575 - 8s - loss: 0.0773 - mae: 0.2150 - val_loss: 0.0906 - val_mae: 0.2293 - 8s/epoch - 15ms/step\n",
            "Epoch 82/120\n",
            "575/575 - 9s - loss: 0.0775 - mae: 0.2149 - val_loss: 0.0946 - val_mae: 0.2391 - 9s/epoch - 16ms/step\n",
            "Epoch 83/120\n",
            "575/575 - 9s - loss: 0.0772 - mae: 0.2149 - val_loss: 0.0907 - val_mae: 0.2277 - 9s/epoch - 16ms/step\n"
          ]
        },
        {
          "name": "stderr",
          "output_type": "stream",
          "text": [
            "d:\\ProgramData\\anaconda3\\envs\\tf\\lib\\site-packages\\keras\\src\\engine\\training.py:3000: UserWarning: You are saving your model as an HDF5 file via `model.save()`. This file format is considered legacy. We recommend using instead the native Keras format, e.g. `model.save('my_model.keras')`.\n",
            "  saving_api.save_model(\n"
          ]
        }
      ],
      "source": [
        "# Training\n",
        "\n",
        "# Define model \n",
        "model = cnn_seq_model(L1=420, L2=60)\n",
        "\n",
        "# Training parameters \n",
        "batch_size = 16\n",
        "EpochCount = 120\n",
        "#EpochCount = 5 #Used for quick excusion of the Notebook; please use a higher number instead to allow proper convergence\n",
        "\n",
        "# train model \n",
        "model.fit(train_x, train_y, batch_size=batch_size, epochs=EpochCount, \n",
        "          validation_data=(validate_x, validate_y),verbose=2,\n",
        "              callbacks=[CustomEarlyStopping(ratio=0.90, patience=30, restore_best_weights = True)])\n",
        "\n",
        "# Save model\n",
        "ModelFileName = 'pretrain/model_2nd_cnn_seq_nor_package'\n",
        "model.save(ModelFileName+'.h5')"
      ]
    },
    {
      "cell_type": "markdown",
      "metadata": {},
      "source": [
        "#### Model validation\n",
        "· `Train-data validation` \n",
        "\n"
      ]
    },
    {
      "cell_type": "code",
      "execution_count": 8,
      "metadata": {
        "ExecuteTime": {
          "end_time": "2021-06-15T18:02:53.571538Z",
          "start_time": "2021-06-15T18:02:46.205042Z"
        }
      },
      "outputs": [
        {
          "name": "stdout",
          "output_type": "stream",
          "text": [
            "288/288 [==============================] - 2s 6ms/step\n"
          ]
        },
        {
          "data": {
            "text/plain": [
              "0.7084285326495681"
            ]
          },
          "execution_count": 8,
          "metadata": {},
          "output_type": "execute_result"
        }
      ],
      "source": [
        "\n",
        "# Predict for train variants\n",
        "y = model.predict(train_x)\n",
        "x = np.array(train_y)\n",
        "y = np.reshape(y, (1,y.shape[0]))[0]\n",
        "preds_df = pd.DataFrame(columns=['y_pred','y_true'])\n",
        "preds_df['y_pred'] = pd.DataFrame(y)\n",
        "preds_df['y_true']  = pd.DataFrame(x)\n",
        "preds_df['y_pred'].corr(preds_df['y_true'])\n"
      ]
    },
    {
      "cell_type": "code",
      "execution_count": 9,
      "metadata": {},
      "outputs": [],
      "source": [
        "x = preds_df['y_pred']  \n",
        "y = preds_df['y_true']   \n",
        "\n",
        "remove = np.isinf(x) & np.isinf(y)\n",
        "x = x[~remove]\n",
        "y = y[~remove]\n",
        "\n",
        "keep = (~np.isinf(x)) & (~np.isinf(y))\n",
        "x_both = x[keep]\n",
        "y_both = y[keep]\n",
        "\n",
        "y_missing = y[np.isinf(x)]\n",
        "x_missing = x[np.isinf(y)]\n",
        "\n",
        "\n",
        "kernel = gaussian_kde(np.vstack([\n",
        "    x_both.sample(n=2000, random_state=1), \n",
        "    y_both.sample(n=2000, random_state=1)\n",
        "]))\n",
        "c_both = kernel(np.vstack([x_both.values, y_both.values]))"
      ]
    },
    {
      "cell_type": "code",
      "execution_count": 10,
      "metadata": {},
      "outputs": [
        {
          "name": "stderr",
          "output_type": "stream",
          "text": [
            "d:\\ProgramData\\anaconda3\\envs\\tf\\lib\\site-packages\\numpy\\lib\\histograms.py:906: RuntimeWarning: invalid value encountered in divide\n",
            "  return n/db/n.sum(), bin_edges\n",
            "meta NOT subset; don't know how to subset; dropped\n"
          ]
        },
        {
          "data": {
            "image/png": "[encoded data removed]",
            "text/plain": [
              "<Figure size 210x195 with 4 Axes>"
            ]
          },
          "metadata": {},
          "output_type": "display_data"
        }
      ],
      "source": [
        "fig = plt.figure(figsize=(1.4,1.3), dpi=150)\n",
        "gs = fig.add_gridspec(2, 2, left=0.275, right=0.95, bottom=0.22, top=0.95, \n",
        "                      width_ratios=[1, 6], height_ratios=[6, 1], hspace=0., wspace=0)\n",
        "ax = fig.add_subplot(gs[0, 1])\n",
        "ax.scatter(x_both, y_both, c=c_both, cmap=mpl.cm.inferno, s=0.2, edgecolor='none', rasterized=True)\n",
        "ax.set_xticks([]); ax.set_yticks([])\n",
        "xlim = [-11, 12]\n",
        "bins = np.linspace(*xlim, 25)\n",
        "ax.set_xlim(xlim); ax.set_ylim(xlim)\n",
        "ax.text(0.03, 0.97, r'$r$ = {:.4f}'.format(np.corrcoef(x_both, y_both)[0, 1]),\n",
        "       transform=ax.transAxes, ha='left', va='top', fontsize=7)\n",
        "\n",
        "ax.text(0.97, 0.01, 'n={}'.format(si_format(len(x_both)), precision=2, format_str='{value}{prefix}',), \n",
        "        transform=ax.transAxes, ha='right', va='bottom', fontsize=7)\n",
        "\n",
        "# Left Marginal\n",
        "ax = fig.add_subplot(gs[0, 0])\n",
        "ax.hist(y_missing, bins=bins, edgecolor='none', orientation='horizontal', density=True, color='r')\n",
        "ax.set_ylim(xlim)\n",
        "ax.set_xticks([]); ax.set_yticks([-5, 0, 5, 10, 15,20])\n",
        "ax.text(0.97, 0.97, 'n={}'.format(si_format(len(y_missing)), precision=2, format_str='{value}{prefix}',), \n",
        "        transform=ax.transAxes, ha='right', va='top', fontsize=7, rotation=90, color='r')\n",
        "ax.set_ylabel('Prediction', labelpad=2,fontsize=8)\n",
        "ax.tick_params(axis='both', labelsize=7, length=2, pad=1)\n",
        "\n",
        "# Bottom Marginal\n",
        "ax = fig.add_subplot(gs[1, 1])\n",
        "ax.hist(x_missing, bins=bins, edgecolor='none', density=True, color='r')\n",
        "ax.set_xlim(xlim)\n",
        "ax.set_xticks([-5, 0, 5, 10, 15,20]); ax.set_yticks([])\n",
        "ax.text(0.97, 0.8, 'n={}'.format(si_format(len(x_missing)), precision=2, format_str='{value}{prefix}',), \n",
        "        transform=ax.transAxes, ha='right', va='top', fontsize=7, color='r')\n",
        "ax.set_xlabel('Truth', labelpad=2,fontsize=8)\n",
        "ax.tick_params(axis='both', labelsize=7, length=2, pad=1)\n",
        "\n",
        "# Missing label (not detected in either)\n",
        "ax = fig.add_subplot(gs[1, 0])\n",
        "for spine in ['bottom', 'left']:\n",
        "    ax.spines[spine].set_visible(False)\n",
        "ax.set_xticks([]); ax.set_yticks([])\n",
        "\n",
        "ax.text(0.8, 0.8, 'Missing', transform=ax.transAxes, color='r', ha='right', va='top', fontsize=7, clip_on=False)\n",
        "fig.savefig('../results/cnn/2nd_results/nor_package/2nd_seq_nor_package_prediction_correlation_train.pdf',dpi=300,bbox_inches='tight')"
      ]
    },
    {
      "cell_type": "code",
      "execution_count": 11,
      "metadata": {},
      "outputs": [
        {
          "name": "stderr",
          "output_type": "stream",
          "text": [
            "meta NOT subset; don't know how to subset; dropped\n"
          ]
        },
        {
          "data": {
            "image/png": "[encoded data removed]",
            "text/plain": [
              "<Figure size 180x150 with 1 Axes>"
            ]
          },
          "metadata": {},
          "output_type": "display_data"
        }
      ],
      "source": [
        "data = np.array(preds_df['y_pred']) \n",
        "data = data.reshape(-1, 1)  # 将数据转换成列向量的形式\n",
        "\n",
        "# 使用GaussianMixture拟合数据\n",
        "n_components = 2 # 设置混合模型的分量个数\n",
        "gmm = GaussianMixture(n_components=n_components)\n",
        "gmm.fit(data)\n",
        "\n",
        "# 获取每个分量的均值和协方差矩阵\n",
        "means = gmm.means_\n",
        "covariances = gmm.covariances_\n",
        "\n",
        "# 生成拟合后的分布\n",
        "x = np.linspace(-7, 8, 100000)\n",
        "x = x.reshape(-1, 1)\n",
        "y = np.exp(gmm.score_samples(x))\n",
        "\n",
        "fig,ax = plt.subplots(figsize=(1.8,1.5),dpi=100)\n",
        "# 绘制原始数据和拟合后的分布\n",
        "plt.hist(data, bins=100, density=True, alpha=0.6, color = '#BAB3A3',label='Prediction')\n",
        "#plt.plot(x, y, '-r', label='GMM fit')\n",
        "\n",
        "\n",
        "# 绘制每个分量的正态分布\n",
        "for i in range(n_components):\n",
        "    component = np.exp(-(x - means[i]) ** 2 / (2 * covariances[i]))\n",
        "    component /= np.sqrt(2 * np.pi * covariances[i])\n",
        "    component *= gmm.weights_[i]\n",
        "    if i == 0:\n",
        "        ax.plot(x, component, '-', label=f'Distribution {i + 1}', color='#F66E68', alpha=1)\n",
        "        ax.fill_between(x.flatten(), 0, component.flatten(), color='#F66E68', alpha=0.4)\n",
        "    else:\n",
        "        ax.plot(x, component, '-', label=f'Distribution {i + 1}', color='#457B9D', alpha=1)\n",
        "        ax.fill_between(x.flatten(), 0, component.flatten(), color='#457B9D', alpha=0.4)\n",
        "\n",
        "\n",
        "plt.title('Prediction',fontsize=10)\n",
        "ax.tick_params(axis='both', which='both', length=2,labelsize=10)\n",
        "ax.set_xticks([-5, 0, 5, ]); \n",
        "\n",
        "plt.ylabel('Density',labelpad=1,fontsize=10)\n",
        "plt.xlabel('Nor_package',labelpad=1,fontsize=10)\n",
        "plt.legend(fontsize=7,frameon=False)\n",
        "fig.savefig('../results/cnn/2nd_results/nor_package/2nd_seq_nor_package_prediction_distribution_train.pdf',dpi=300,bbox_inches='tight')"
      ]
    },
    {
      "cell_type": "markdown",
      "metadata": {},
      "source": [
        "· `Test-data validation` "
      ]
    },
    {
      "cell_type": "code",
      "execution_count": 12,
      "metadata": {},
      "outputs": [
        {
          "name": "stdout",
          "output_type": "stream",
          "text": [
            "16/16 [==============================] - 0s 5ms/step\n"
          ]
        },
        {
          "data": {
            "text/html": [
              "<div>\n",
              "<style scoped>\n",
              "    .dataframe tbody tr th:only-of-type {\n",
              "        vertical-align: middle;\n",
              "    }\n",
              "\n",
              "    .dataframe tbody tr th {\n",
              "        vertical-align: top;\n",
              "    }\n",
              "\n",
              "    .dataframe thead th {\n",
              "        text-align: right;\n",
              "    }\n",
              "</style>\n",
              "<table border=\"1\" class=\"dataframe\">\n",
              "  <thead>\n",
              "    <tr style=\"text-align: right;\">\n",
              "      <th></th>\n",
              "      <th>y_pred</th>\n",
              "      <th>y_true</th>\n",
              "    </tr>\n",
              "  </thead>\n",
              "  <tbody>\n",
              "    <tr>\n",
              "      <th>0</th>\n",
              "      <td>1.185972</td>\n",
              "      <td>1.756718</td>\n",
              "    </tr>\n",
              "    <tr>\n",
              "      <th>1</th>\n",
              "      <td>0.920738</td>\n",
              "      <td>1.295122</td>\n",
              "    </tr>\n",
              "    <tr>\n",
              "      <th>2</th>\n",
              "      <td>1.292018</td>\n",
              "      <td>1.561005</td>\n",
              "    </tr>\n",
              "    <tr>\n",
              "      <th>3</th>\n",
              "      <td>0.875916</td>\n",
              "      <td>0.907001</td>\n",
              "    </tr>\n",
              "    <tr>\n",
              "      <th>4</th>\n",
              "      <td>1.005198</td>\n",
              "      <td>1.261570</td>\n",
              "    </tr>\n",
              "    <tr>\n",
              "      <th>...</th>\n",
              "      <td>...</td>\n",
              "      <td>...</td>\n",
              "    </tr>\n",
              "    <tr>\n",
              "      <th>504</th>\n",
              "      <td>1.039799</td>\n",
              "      <td>0.185725</td>\n",
              "    </tr>\n",
              "    <tr>\n",
              "      <th>505</th>\n",
              "      <td>1.250781</td>\n",
              "      <td>1.101800</td>\n",
              "    </tr>\n",
              "    <tr>\n",
              "      <th>506</th>\n",
              "      <td>1.001298</td>\n",
              "      <td>1.364552</td>\n",
              "    </tr>\n",
              "    <tr>\n",
              "      <th>507</th>\n",
              "      <td>0.625210</td>\n",
              "      <td>1.097180</td>\n",
              "    </tr>\n",
              "    <tr>\n",
              "      <th>508</th>\n",
              "      <td>1.117126</td>\n",
              "      <td>1.422517</td>\n",
              "    </tr>\n",
              "  </tbody>\n",
              "</table>\n",
              "<p>509 rows × 2 columns</p>\n",
              "</div>"
            ],
            "text/plain": [
              "       y_pred    y_true\n",
              "0    1.185972  1.756718\n",
              "1    0.920738  1.295122\n",
              "2    1.292018  1.561005\n",
              "3    0.875916  0.907001\n",
              "4    1.005198  1.261570\n",
              "..        ...       ...\n",
              "504  1.039799  0.185725\n",
              "505  1.250781  1.101800\n",
              "506  1.001298  1.364552\n",
              "507  0.625210  1.097180\n",
              "508  1.117126  1.422517\n",
              "\n",
              "[509 rows x 2 columns]"
            ]
          },
          "execution_count": 12,
          "metadata": {},
          "output_type": "execute_result"
        }
      ],
      "source": [
        "\n",
        "# Predict for test variants\n",
        "y = model.predict(test_x)\n",
        "x = np.array(test_y)\n",
        "y = np.reshape(y, (1,y.shape[0]))[0]\n",
        "preds_df = pd.DataFrame(columns=['y_pred','y_true'])\n",
        "preds_df['y_pred'] = pd.DataFrame(y)\n",
        "preds_df['y_true']  = pd.DataFrame(x)\n",
        "preds_df \n"
      ]
    },
    {
      "cell_type": "code",
      "execution_count": 14,
      "metadata": {},
      "outputs": [
        {
          "name": "stderr",
          "output_type": "stream",
          "text": [
            "d:\\ProgramData\\anaconda3\\envs\\tf\\lib\\site-packages\\numpy\\lib\\histograms.py:906: RuntimeWarning: invalid value encountered in divide\n",
            "  return n/db/n.sum(), bin_edges\n",
            "meta NOT subset; don't know how to subset; dropped\n"
          ]
        },
        {
          "data": {
            "image/png": "[encoded data removed]",
            "text/plain": [
              "<Figure size 210x195 with 4 Axes>"
            ]
          },
          "metadata": {},
          "output_type": "display_data"
        }
      ],
      "source": [
        "x = preds_df['y_pred']  \n",
        "y = preds_df['y_true']   \n",
        "preds_df['y_pred'][:1000].corr(preds_df['y_true'][:1000])\n",
        "remove = np.isinf(x) & np.isinf(y)\n",
        "x = x[~remove]\n",
        "y = y[~remove]\n",
        "\n",
        "keep = (~np.isinf(x)) & (~np.isinf(y))\n",
        "x_both = x[keep]\n",
        "y_both = y[keep]\n",
        "\n",
        "y_missing = y[np.isinf(x)]\n",
        "x_missing = x[np.isinf(y)]\n",
        "\n",
        "\n",
        "kernel = gaussian_kde(np.vstack([\n",
        "    x_both.sample(n=500, random_state=1), \n",
        "    y_both.sample(n=500, random_state=1)\n",
        "]))\n",
        "c_both = kernel(np.vstack([x_both.values, y_both.values]))\n",
        "\n",
        "fig = plt.figure(figsize=(1.4,1.3), dpi=150)\n",
        "gs = fig.add_gridspec(2, 2, left=0.275, right=0.95, bottom=0.22, top=0.95, \n",
        "                      width_ratios=[1, 6], height_ratios=[6, 1], hspace=0., wspace=0)\n",
        "ax = fig.add_subplot(gs[0, 1])\n",
        "ax.scatter(x_both, y_both, c=c_both, cmap=mpl.cm.inferno, s=0.2, edgecolor='none', rasterized=True)\n",
        "ax.set_xticks([]); ax.set_yticks([])\n",
        "xlim = [-11, 12]\n",
        "bins = np.linspace(*xlim, 25)\n",
        "ax.set_xlim(xlim); ax.set_ylim(xlim)\n",
        "ax.text(0.03, 0.97, r'$r$ = {:.4f}'.format(np.corrcoef(x_both, y_both)[0, 1]),\n",
        "       transform=ax.transAxes, ha='left', va='top', fontsize=7)\n",
        "\n",
        "ax.text(0.97, 0.01, 'n={}'.format(si_format(len(x_both)), precision=2, format_str='{value}{prefix}',), \n",
        "        transform=ax.transAxes, ha='right', va='bottom', fontsize=7)\n",
        "\n",
        "# Left Marginal\n",
        "ax = fig.add_subplot(gs[0, 0])\n",
        "ax.hist(y_missing, bins=bins, edgecolor='none', orientation='horizontal', density=True, color='r')\n",
        "ax.set_ylim(xlim)\n",
        "ax.set_xticks([]); ax.set_yticks([-5, 0, 5, 10, 15,20])\n",
        "ax.text(0.97, 0.97, 'n={}'.format(si_format(len(y_missing)), precision=2, format_str='{value}{prefix}',), \n",
        "        transform=ax.transAxes, ha='right', va='top', fontsize=7, rotation=90, color='r')\n",
        "ax.set_ylabel('Prediction', labelpad=2,fontsize=8)\n",
        "ax.tick_params(axis='both', labelsize=7, length=2, pad=1)\n",
        "\n",
        "# Bottom Marginal\n",
        "ax = fig.add_subplot(gs[1, 1])\n",
        "ax.hist(x_missing, bins=bins, edgecolor='none', density=True, color='r')\n",
        "ax.set_xlim(xlim)\n",
        "ax.set_xticks([-5, 0, 5, 10, 15,20]); ax.set_yticks([])\n",
        "ax.text(0.97, 0.8, 'n={}'.format(si_format(len(x_missing)), precision=2, format_str='{value}{prefix}',), \n",
        "        transform=ax.transAxes, ha='right', va='top', fontsize=7, color='r')\n",
        "ax.set_xlabel('Truth', labelpad=2,fontsize=8)\n",
        "ax.tick_params(axis='both', labelsize=6, length=2, pad=1)\n",
        "\n",
        "# Missing label (not detected in either)\n",
        "ax = fig.add_subplot(gs[1, 0])\n",
        "for spine in ['bottom', 'left']:\n",
        "    ax.spines[spine].set_visible(False)\n",
        "ax.set_xticks([]); ax.set_yticks([])\n",
        "\n",
        "ax.text(0.8, 0.8, 'Missing', transform=ax.transAxes, color='r', ha='right', va='top', fontsize=7, clip_on=False)\n",
        "fig.savefig('../results/cnn/2nd_results/nor_package/2nd_seq_nor_package_prediction_correlation_test.pdf',dpi=300,bbox_inches='tight')"
      ]
    },
    {
      "cell_type": "code",
      "execution_count": 17,
      "metadata": {
        "ExecuteTime": {
          "end_time": "2021-06-15T18:04:49.108828Z",
          "start_time": "2021-06-15T18:04:38.468240Z"
        }
      },
      "outputs": [
        {
          "name": "stderr",
          "output_type": "stream",
          "text": [
            "meta NOT subset; don't know how to subset; dropped\n"
          ]
        },
        {
          "data": {
            "image/png": "[encoded data removed]",
            "text/plain": [
              "<Figure size 180x150 with 1 Axes>"
            ]
          },
          "metadata": {},
          "output_type": "display_data"
        }
      ],
      "source": [
        "data = np.array(preds_df['y_pred']) \n",
        "data = data.reshape(-1, 1)  # 将数据转换成列向量的形式\n",
        "\n",
        "# 使用GaussianMixture拟合数据\n",
        "n_components = 1 # 设置混合模型的分量个数\n",
        "gmm = GaussianMixture(n_components=n_components)\n",
        "gmm.fit(data)\n",
        "\n",
        "# 获取每个分量的均值和协方差矩阵\n",
        "means = gmm.means_\n",
        "covariances = gmm.covariances_\n",
        "\n",
        "# 生成拟合后的分布\n",
        "x = np.linspace(-7, 8, 100000)\n",
        "x = x.reshape(-1, 1)\n",
        "y = np.exp(gmm.score_samples(x))\n",
        "\n",
        "fig,ax = plt.subplots(figsize=(1.8,1.5),dpi=100)\n",
        "# 绘制原始数据和拟合后的分布\n",
        "plt.hist(data, bins=100, density=True, alpha=0.6, color = '#BAB3A3',label='Prediction')\n",
        "#plt.plot(x, y, '-r', label='GMM fit')\n",
        "\n",
        "\n",
        "# 绘制每个分量的正态分布\n",
        "for i in range(n_components):\n",
        "    component = np.exp(-(x - means[i]) ** 2 / (2 * covariances[i]))\n",
        "    component /= np.sqrt(2 * np.pi * covariances[i])\n",
        "    component *= gmm.weights_[i]\n",
        "    if i == 0:\n",
        "        ax.plot(x, component, '-', label=f'Distribution {i + 1}', color='#F66E68', alpha=1)\n",
        "        ax.fill_between(x.flatten(), 0, component.flatten(), color='#F66E68', alpha=0.4)\n",
        "    else:\n",
        "        ax.plot(x, component, '-', label=f'Distribution {i + 1}', color='#457B9D', alpha=1)\n",
        "        ax.fill_between(x.flatten(), 0, component.flatten(), color='#457B9D', alpha=0.4)\n",
        "\n",
        "\n",
        "plt.title('Prediction',fontsize=10)\n",
        "ax.tick_params(axis='both', which='both', length=2,labelsize=10)\n",
        "ax.set_xticks([-1, 0, 1,2,3,4]); \n",
        "ax.set_xlim([-1,4])\n",
        "plt.ylabel('Density',labelpad=1,fontsize=10)\n",
        "plt.xlabel('Nor_package',labelpad=1,fontsize=10)\n",
        "plt.legend(fontsize=7,frameon=False)\n",
        "fig.savefig('../results/cnn/2nd_results/nor_package/2nd_seq_nor_package_prediction_distribution_test.pdf',dpi=300,bbox_inches='tight')"
      ]
    },
    {
      "cell_type": "code",
      "execution_count": null,
      "metadata": {},
      "outputs": [],
      "source": []
    }
  ],
  "metadata": {
    "kernelspec": {
      "display_name": "Python 3 (ipykernel)",
      "language": "python",
      "name": "python3"
    },
    "language_info": {
      "codemirror_mode": {
        "name": "ipython",
        "version": 3
      },
      "file_extension": ".py",
      "mimetype": "text/x-python",
      "name": "python",
      "nbconvert_exporter": "python",
      "pygments_lexer": "ipython3",
      "version": "3.8.16"
    },
    "toc": {
      "base_numbering": 1,
      "nav_menu": {},
      "number_sections": true,
      "sideBar": true,
      "skip_h1_title": false,
      "title_cell": "Table of Contents",
      "title_sidebar": "Contents",
      "toc_cell": true,
      "toc_position": {
        "height": "calc(100% - 180px)",
        "left": "10px",
        "top": "150px",
        "width": "320px"
      },
      "toc_section_display": true,
      "toc_window_display": true
    }
  },
  "nbformat": 4,
  "nbformat_minor": 4
}
