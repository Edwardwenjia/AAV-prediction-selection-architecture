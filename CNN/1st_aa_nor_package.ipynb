{
 "cells": [
  {
   "cell_type": "code",
   "execution_count": 1,
   "metadata": {
    "ExecuteTime": {
     "end_time": "2021-06-15T17:13:58.134959Z",
     "start_time": "2021-06-15T17:13:57.550003Z"
    }
   },
   "outputs": [],
   "source": [
    "import pandas as pd\n",
    "import numpy as np\n",
    "import matplotlib as mpl\n",
    "import matplotlib.pyplot as plt\n",
    "import seaborn as sns\n",
    "from IPython.display import Image\n",
    "from scipy.stats import gaussian_kde, norm\n",
    "from sklearn.mixture import GaussianMixture\n",
    "\n",
    "from utils_f4f import CustomEarlyStopping, cnn_aa_model,AA_hotencoding ,heatmap, si_format\n",
    "\n"
   ]
  },
  {
   "cell_type": "code",
   "execution_count": 2,
   "metadata": {},
   "outputs": [],
   "source": [
    "mpl.rcParams['svg.fonttype'] = 'none'\n",
    "mpl.rcParams['font.family'] = ['sans-serif']\n",
    "mpl.rcParams['font.sans-serif'] = ['Arial']\n",
    "mpl.rcParams['text.usetex'] = False\n",
    "mpl.rcParams['pdf.fonttype'] = 42\n",
    "mpl.rcParams['ps.fonttype'] = 42"
   ]
  },
  {
   "cell_type": "markdown",
   "metadata": {},
   "source": [
    "#### Data_preparetion\n",
    "\n"
   ]
  },
  {
   "cell_type": "code",
   "execution_count": null,
   "metadata": {},
   "outputs": [],
   "source": [
    "df_all = pd.read_csv('../data/1st_780w_packseq_aa.tsv',delimiter='\\t')\n",
    "df_all = df_all.iloc[::5]\n",
    "df_modeling = df_all.rename(columns={'aa':'AA_seqenece'})\n",
    "df_modeling['label']=0\n",
    "df_modeling = df_modeling[['AA_seqenece', 'nor_package', 'label']]\n",
    "df_missing = df_modeling[np.isinf(df_modeling['nor_package']) ]#\n",
    "df_modeling = df_modeling[~np.isnan(df_modeling['nor_package']) & ~np.isinf(df_modeling['nor_package'])]\n",
    "df_modeling.reset_index(drop = True, inplace=True)\n",
    "AA_col = 'AA_seqenece'\n",
    "array = 'nor_package'\n"
   ]
  },
  {
   "cell_type": "code",
   "execution_count": 4,
   "metadata": {},
   "outputs": [
    {
     "data": {
      "image/png": "[encoded data removed]",
      "text/plain": [
       "<Figure size 200x170 with 1 Axes>"
      ]
     },
     "metadata": {},
     "output_type": "display_data"
    }
   ],
   "source": [
    "nor_package = df_all[np.isfinite(df_all[array])][array]\n",
    "data = np.array(nor_package) \n",
    "data = data.reshape(-1, 1)  # Convert the data into a column vector\n",
    "\n",
    "# Fit the data using GaussianMixture\n",
    "n_components = 2 # Set the number of components for the hybrid model\n",
    "gmm = GaussianMixture(n_components=n_components)\n",
    "gmm.fit(data)\n",
    "\n",
    "# Get the mean and covariance matrix for each component\n",
    "means = gmm.means_\n",
    "covariances = gmm.covariances_\n",
    "\n",
    "# Generate the fitted distribution\n",
    "x = np.linspace(-10, 5, 10000)\n",
    "x = x.reshape(-1, 1)\n",
    "y = np.exp(gmm.score_samples(x))\n",
    "\n",
    "fig,ax = plt.subplots(figsize=(2,1.7),dpi=100)\n",
    "# Plot the raw data and the distribution after fitting\n",
    "plt.hist(data, bins=100, density=True, alpha=0.6, color = '#BAB3A3',label='Prediction')\n",
    "\n",
    "# 绘制每个分量的正态分布\n",
    "for i in range(n_components):\n",
    "    component = np.exp(-(x - means[i]) ** 2 / (2 * covariances[i]))\n",
    "    component /= np.sqrt(2 * np.pi * covariances[i])\n",
    "    component *= gmm.weights_[i]\n",
    "    if i == 0:\n",
    "        ax.plot(x, component, '-', label=f'Distribution {i + 1}', color='#F66E68', alpha=1)\n",
    "        ax.fill_between(x.flatten(), 0, component.flatten(), color='#F66E68', alpha=0.4)\n",
    "    else:\n",
    "        ax.plot(x, component, '-', label=f'Distribution {i + 1}', color='#457B9D', alpha=1)\n",
    "        ax.fill_between(x.flatten(), 0, component.flatten(), color='#457B9D', alpha=0.4)\n",
    "\n",
    "\n",
    "plt.title('Truth_distribution',fontsize=10)\n",
    "ax.tick_params(axis='both', which='both', length=2,labelsize=8)\n",
    "ax.set_xticks([-10,-5, 0, 5,10]); \n",
    "ax.set_xlim([-10,10])\n",
    "plt.ylabel('Density',labelpad=2,fontsize=10)\n",
    "plt.xlabel('Nor_package',labelpad=2,fontsize=10)\n",
    "plt.legend(fontsize=7,frameon=False,loc='best')\n",
    "plt.show()"
   ]
  },
  {
   "cell_type": "markdown",
   "metadata": {},
   "source": [
    "### Prep data\n",
    " one-hot encode the `AA_sequence` column and split the data into\n",
    "training and test sets. The training split will be split\n",
    "\n"
   ]
  },
  {
   "cell_type": "code",
   "execution_count": null,
   "metadata": {},
   "outputs": [],
   "source": [
    "# Train-Test split\n",
    "train_size = 1400000\n",
    "validation_size = 140000\n",
    "train, validate, test = np.split(df_modeling.sample(frac=1),  [train_size, train_size+validation_size])\n",
    "\n",
    "\n",
    "# Hot Encoding\n",
    "train_x =  np.asarray([AA_hotencoding(variant) for variant in train[AA_col]])\n",
    "train_y = train[array]\n",
    "validate_x = np.asarray([AA_hotencoding(variant) for variant in validate[AA_col]])\n",
    "validate_y = validate[array]\n",
    "test_x = np.asarray([AA_hotencoding(variant) for variant in test[AA_col]])\n",
    "test_y = test[array]\n",
    "missing_x = np.asarray([AA_hotencoding(variant) for variant in df_missing[AA_col]])\n"
   ]
  },
  {
   "cell_type": "code",
   "execution_count": 15,
   "metadata": {},
   "outputs": [
    {
     "data": {
      "text/plain": [
       "(14000, 7, 20)"
      ]
     },
     "execution_count": 15,
     "metadata": {},
     "output_type": "execute_result"
    }
   ],
   "source": [
    "train_x.shape"
   ]
  },
  {
   "cell_type": "markdown",
   "metadata": {},
   "source": [
    "## CNN  model training\n",
    "Default parameterization:Here the model is applied to aa-nor_package learning process, as details"
   ]
  },
  {
   "cell_type": "code",
   "execution_count": 16,
   "metadata": {},
   "outputs": [
    {
     "name": "stdout",
     "output_type": "stream",
     "text": [
      "Epoch 1/120\n"
     ]
    },
    {
     "name": "stdout",
     "output_type": "stream",
     "text": [
      "28/28 - 5s - loss: 6.6388 - mae: 2.2143 - val_loss: 5.9186 - val_mae: 2.0920 - 5s/epoch - 176ms/step\n",
      "Epoch 2/120\n",
      "28/28 - 2s - loss: 5.4597 - mae: 2.0198 - val_loss: 5.3973 - val_mae: 1.9842 - 2s/epoch - 60ms/step\n",
      "Epoch 3/120\n",
      "28/28 - 2s - loss: 4.8753 - mae: 1.8728 - val_loss: 4.9846 - val_mae: 1.8725 - 2s/epoch - 65ms/step\n",
      "Epoch 4/120\n",
      "28/28 - 2s - loss: 4.4331 - mae: 1.7393 - val_loss: 4.6754 - val_mae: 1.7779 - 2s/epoch - 64ms/step\n",
      "Epoch 5/120\n",
      "28/28 - 2s - loss: 4.1781 - mae: 1.6649 - val_loss: 4.4871 - val_mae: 1.7309 - 2s/epoch - 63ms/step\n",
      "Epoch 6/120\n",
      "28/28 - 2s - loss: 4.0432 - mae: 1.6289 - val_loss: 4.3768 - val_mae: 1.7041 - 2s/epoch - 66ms/step\n",
      "Epoch 7/120\n",
      "28/28 - 2s - loss: 3.9658 - mae: 1.6103 - val_loss: 4.3096 - val_mae: 1.6886 - 2s/epoch - 59ms/step\n",
      "Epoch 8/120\n",
      "28/28 - 2s - loss: 3.9177 - mae: 1.5992 - val_loss: 4.2601 - val_mae: 1.6716 - 2s/epoch - 60ms/step\n",
      "Epoch 9/120\n",
      "28/28 - 2s - loss: 3.8772 - mae: 1.5883 - val_loss: 4.2319 - val_mae: 1.6709 - 2s/epoch - 63ms/step\n",
      "Epoch 10/120\n",
      "28/28 - 2s - loss: 3.8439 - mae: 1.5804 - val_loss: 4.1928 - val_mae: 1.6569 - 2s/epoch - 62ms/step\n",
      "Epoch 11/120\n",
      "28/28 - 2s - loss: 3.8225 - mae: 1.5740 - val_loss: 4.1764 - val_mae: 1.6566 - 2s/epoch - 65ms/step\n",
      "Epoch 12/120\n",
      "28/28 - 2s - loss: 3.8000 - mae: 1.5689 - val_loss: 4.1475 - val_mae: 1.6497 - 2s/epoch - 61ms/step\n",
      "Epoch 13/120\n",
      "28/28 - 2s - loss: 3.7799 - mae: 1.5645 - val_loss: 4.1468 - val_mae: 1.6516 - 2s/epoch - 63ms/step\n",
      "Epoch 14/120\n",
      "28/28 - 2s - loss: 3.7684 - mae: 1.5604 - val_loss: 4.1320 - val_mae: 1.6493 - 2s/epoch - 62ms/step\n",
      "Epoch 15/120\n",
      "28/28 - 2s - loss: 3.7476 - mae: 1.5555 - val_loss: 4.1010 - val_mae: 1.6418 - 2s/epoch - 58ms/step\n",
      "Epoch 16/120\n",
      "28/28 - 2s - loss: 3.7315 - mae: 1.5528 - val_loss: 4.0835 - val_mae: 1.6321 - 2s/epoch - 60ms/step\n",
      "Epoch 17/120\n",
      "28/28 - 2s - loss: 3.7212 - mae: 1.5486 - val_loss: 4.0616 - val_mae: 1.6298 - 2s/epoch - 60ms/step\n",
      "Epoch 18/120\n",
      "28/28 - 2s - loss: 3.7050 - mae: 1.5458 - val_loss: 4.0655 - val_mae: 1.6328 - 2s/epoch - 62ms/step\n",
      "Epoch 19/120\n",
      "28/28 - 2s - loss: 3.6947 - mae: 1.5438 - val_loss: 4.0421 - val_mae: 1.6225 - 2s/epoch - 60ms/step\n",
      "Epoch 20/120\n",
      "28/28 - 2s - loss: 3.6850 - mae: 1.5388 - val_loss: 4.0287 - val_mae: 1.6221 - 2s/epoch - 67ms/step\n",
      "Epoch 21/120\n",
      "28/28 - 2s - loss: 3.6800 - mae: 1.5391 - val_loss: 4.0366 - val_mae: 1.6215 - 2s/epoch - 59ms/step\n",
      "Epoch 22/120\n",
      "28/28 - 2s - loss: 3.6712 - mae: 1.5361 - val_loss: 4.0338 - val_mae: 1.6239 - 2s/epoch - 61ms/step\n",
      "Epoch 23/120\n",
      "28/28 - 2s - loss: 3.6592 - mae: 1.5342 - val_loss: 4.0060 - val_mae: 1.6173 - 2s/epoch - 63ms/step\n",
      "Epoch 24/120\n",
      "28/28 - 2s - loss: 3.6477 - mae: 1.5306 - val_loss: 3.9851 - val_mae: 1.6110 - 2s/epoch - 61ms/step\n",
      "Epoch 25/120\n",
      "28/28 - 2s - loss: 3.6401 - mae: 1.5288 - val_loss: 3.9939 - val_mae: 1.6130 - 2s/epoch - 64ms/step\n",
      "Epoch 26/120\n",
      "28/28 - 2s - loss: 3.6265 - mae: 1.5252 - val_loss: 3.9769 - val_mae: 1.6102 - 2s/epoch - 65ms/step\n",
      "Epoch 27/120\n",
      "28/28 - 2s - loss: 3.6205 - mae: 1.5224 - val_loss: 3.9549 - val_mae: 1.6063 - 2s/epoch - 59ms/step\n",
      "Epoch 28/120\n",
      "28/28 - 2s - loss: 3.6145 - mae: 1.5231 - val_loss: 3.9676 - val_mae: 1.6078 - 2s/epoch - 65ms/step\n",
      "Epoch 29/120\n",
      "28/28 - 2s - loss: 3.6046 - mae: 1.5205 - val_loss: 3.9555 - val_mae: 1.6015 - 2s/epoch - 61ms/step\n",
      "Epoch 30/120\n",
      "28/28 - 2s - loss: 3.6035 - mae: 1.5179 - val_loss: 3.9539 - val_mae: 1.6020 - 2s/epoch - 65ms/step\n",
      "Epoch 31/120\n",
      "28/28 - 2s - loss: 3.5916 - mae: 1.5162 - val_loss: 3.9425 - val_mae: 1.5981 - 2s/epoch - 61ms/step\n",
      "Epoch 32/120\n",
      "28/28 - 2s - loss: 3.5873 - mae: 1.5141 - val_loss: 3.9417 - val_mae: 1.6003 - 2s/epoch - 58ms/step\n",
      "Epoch 33/120\n",
      "28/28 - 2s - loss: 3.5763 - mae: 1.5102 - val_loss: 3.9423 - val_mae: 1.6002 - 2s/epoch - 67ms/step\n",
      "Epoch 34/120\n",
      "28/28 - 2s - loss: 3.5718 - mae: 1.5109 - val_loss: 3.9402 - val_mae: 1.5981 - 2s/epoch - 64ms/step\n",
      "Epoch 35/120\n",
      "28/28 - 2s - loss: 3.5608 - mae: 1.5068 - val_loss: 3.9249 - val_mae: 1.5926 - 2s/epoch - 63ms/step\n",
      "Epoch 36/120\n",
      "28/28 - 2s - loss: 3.5540 - mae: 1.5051 - val_loss: 3.9098 - val_mae: 1.5901 - 2s/epoch - 61ms/step\n",
      "Epoch 37/120\n",
      "28/28 - 2s - loss: 3.5591 - mae: 1.5061 - val_loss: 3.9905 - val_mae: 1.6093 - 2s/epoch - 62ms/step\n",
      "Epoch 38/120\n",
      "28/28 - 2s - loss: 3.5580 - mae: 1.5064 - val_loss: 3.9654 - val_mae: 1.5984 - 2s/epoch - 58ms/step\n",
      "Epoch 39/120\n",
      "28/28 - 2s - loss: 3.5412 - mae: 1.5000 - val_loss: 3.9131 - val_mae: 1.5903 - 2s/epoch - 60ms/step\n",
      "Epoch 40/120\n",
      "28/28 - 2s - loss: 3.5272 - mae: 1.4974 - val_loss: 3.9076 - val_mae: 1.5914 - 2s/epoch - 63ms/step\n",
      "Epoch 41/120\n",
      "28/28 - 2s - loss: 3.5296 - mae: 1.4971 - val_loss: 3.9042 - val_mae: 1.5856 - 2s/epoch - 60ms/step\n",
      "Epoch 42/120\n",
      "28/28 - 2s - loss: 3.5168 - mae: 1.4936 - val_loss: 3.8988 - val_mae: 1.5875 - 2s/epoch - 64ms/step\n",
      "Epoch 43/120\n",
      "28/28 - 2s - loss: 3.5170 - mae: 1.4947 - val_loss: 3.9484 - val_mae: 1.5938 - 2s/epoch - 63ms/step\n",
      "Epoch 44/120\n",
      "28/28 - 2s - loss: 3.5120 - mae: 1.4919 - val_loss: 3.8919 - val_mae: 1.5860 - 2s/epoch - 60ms/step\n",
      "Epoch 45/120\n",
      "28/28 - 2s - loss: 3.4990 - mae: 1.4899 - val_loss: 3.8914 - val_mae: 1.5793 - 2s/epoch - 60ms/step\n",
      "Epoch 46/120\n",
      "28/28 - 2s - loss: 3.4979 - mae: 1.4874 - val_loss: 3.8727 - val_mae: 1.5809 - 2s/epoch - 63ms/step\n",
      "Epoch 47/120\n",
      "28/28 - 2s - loss: 3.4968 - mae: 1.4866 - val_loss: 3.8737 - val_mae: 1.5760 - 2s/epoch - 63ms/step\n",
      "Epoch 48/120\n",
      "28/28 - 2s - loss: 3.4872 - mae: 1.4865 - val_loss: 3.9096 - val_mae: 1.5834 - 2s/epoch - 59ms/step\n",
      "Epoch 49/120\n",
      "28/28 - 2s - loss: 3.4834 - mae: 1.4839 - val_loss: 3.8700 - val_mae: 1.5763 - 2s/epoch - 63ms/step\n",
      "Epoch 50/120\n",
      "28/28 - 2s - loss: 3.4758 - mae: 1.4816 - val_loss: 3.8778 - val_mae: 1.5752 - 2s/epoch - 60ms/step\n",
      "Epoch 51/120\n",
      "28/28 - 2s - loss: 3.4726 - mae: 1.4809 - val_loss: 3.8736 - val_mae: 1.5732 - 2s/epoch - 62ms/step\n",
      "Epoch 52/120\n",
      "28/28 - 2s - loss: 3.4578 - mae: 1.4779 - val_loss: 3.8769 - val_mae: 1.5722 - 2s/epoch - 61ms/step\n",
      "Epoch 53/120\n",
      "28/28 - 2s - loss: 3.4552 - mae: 1.4759 - val_loss: 3.8724 - val_mae: 1.5701 - 2s/epoch - 60ms/step\n",
      "Epoch 54/120\n",
      "28/28 - 2s - loss: 3.4484 - mae: 1.4753 - val_loss: 3.8570 - val_mae: 1.5688 - 2s/epoch - 60ms/step\n",
      "Epoch 55/120\n",
      "28/28 - 2s - loss: 3.4512 - mae: 1.4751 - val_loss: 3.8647 - val_mae: 1.5698 - 2s/epoch - 62ms/step\n",
      "Epoch 56/120\n",
      "28/28 - 2s - loss: 3.4312 - mae: 1.4707 - val_loss: 3.8616 - val_mae: 1.5666 - 2s/epoch - 62ms/step\n",
      "Epoch 57/120\n",
      "28/28 - 2s - loss: 3.4300 - mae: 1.4676 - val_loss: 3.8449 - val_mae: 1.5684 - 2s/epoch - 64ms/step\n",
      "Epoch 58/120\n",
      "28/28 - 2s - loss: 3.4276 - mae: 1.4686 - val_loss: 3.8541 - val_mae: 1.5676 - 2s/epoch - 65ms/step\n",
      "Epoch 59/120\n",
      "28/28 - 2s - loss: 3.4188 - mae: 1.4666 - val_loss: 3.8705 - val_mae: 1.5676 - 2s/epoch - 61ms/step\n",
      "Epoch 60/120\n",
      "28/28 - 2s - loss: 3.4207 - mae: 1.4660 - val_loss: 3.8776 - val_mae: 1.5747 - 2s/epoch - 62ms/step\n",
      "Epoch 61/120\n",
      "28/28 - 2s - loss: 3.4127 - mae: 1.4650 - val_loss: 3.8636 - val_mae: 1.5702 - 2s/epoch - 67ms/step\n",
      "Epoch 62/120\n",
      "28/28 - 2s - loss: 3.4107 - mae: 1.4650 - val_loss: 3.8370 - val_mae: 1.5620 - 2s/epoch - 68ms/step\n",
      "Epoch 63/120\n",
      "28/28 - 2s - loss: 3.3946 - mae: 1.4599 - val_loss: 3.8290 - val_mae: 1.5638 - 2s/epoch - 60ms/step\n",
      "Epoch 64/120\n",
      "28/28 - 2s - loss: 3.3901 - mae: 1.4581 - val_loss: 3.8447 - val_mae: 1.5601 - 2s/epoch - 60ms/step\n",
      "Epoch 65/120\n",
      "28/28 - 2s - loss: 3.3912 - mae: 1.4569 - val_loss: 3.8307 - val_mae: 1.5613 - 2s/epoch - 59ms/step\n",
      "Epoch 66/120\n",
      "28/28 - 2s - loss: 3.3800 - mae: 1.4561 - val_loss: 3.8328 - val_mae: 1.5624 - 2s/epoch - 62ms/step\n",
      "Epoch 67/120\n",
      "28/28 - 2s - loss: 3.3735 - mae: 1.4540 - val_loss: 3.8437 - val_mae: 1.5655 - 2s/epoch - 62ms/step\n",
      "Epoch 68/120\n",
      "28/28 - 2s - loss: 3.3679 - mae: 1.4522 - val_loss: 3.8258 - val_mae: 1.5565 - 2s/epoch - 61ms/step\n",
      "Epoch 69/120\n",
      "28/28 - 2s - loss: 3.3601 - mae: 1.4483 - val_loss: 3.8450 - val_mae: 1.5654 - 2s/epoch - 60ms/step\n",
      "Epoch 70/120\n",
      "28/28 - 2s - loss: 3.3656 - mae: 1.4524 - val_loss: 3.8364 - val_mae: 1.5587 - 2s/epoch - 64ms/step\n"
     ]
    },
    {
     "name": "stderr",
     "output_type": "stream",
     "text": [
      "d:\\ProgramData\\anaconda3\\envs\\tf\\lib\\site-packages\\keras\\src\\engine\\training.py:3000: UserWarning: You are saving your model as an HDF5 file via `model.save()`. This file format is considered legacy. We recommend using instead the native Keras format, e.g. `model.save('my_model.keras')`.\n",
      "  saving_api.save_model(\n"
     ]
    }
   ],
   "source": [
    "# Training\n",
    "\n",
    "# Define model \n",
    "model = cnn_aa_model(L1=140, L2=60)\n",
    "\n",
    "# Training parameters \n",
    "batch_size = 500\n",
    "EpochCount = 120\n",
    "#EpochCount = 5 #Used for quick excusion of the Notebook; please use a higher number instead to allow proper convergence\n",
    "\n",
    "# train model \n",
    "model.fit(train_x, train_y, batch_size=batch_size, epochs=EpochCount, \n",
    "          validation_data=(validate_x, validate_y),verbose=2,\n",
    "              callbacks=[CustomEarlyStopping(ratio=0.90, patience=20, restore_best_weights = True)])\n",
    "\n",
    "# Save model\n",
    "ModelFileName = 'pretrain/model_1st_cnn_aa_nor_package'\n",
    "model.save(ModelFileName+'.h5')"
   ]
  },
  {
   "cell_type": "markdown",
   "metadata": {},
   "source": [
    "#### Model validation\n",
    "· `Train-data validation` \n",
    "\n"
   ]
  },
  {
   "cell_type": "code",
   "execution_count": 17,
   "metadata": {
    "ExecuteTime": {
     "end_time": "2021-06-15T18:02:53.571538Z",
     "start_time": "2021-06-15T18:02:46.205042Z"
    }
   },
   "outputs": [
    {
     "name": "stdout",
     "output_type": "stream",
     "text": [
      "438/438 [==============================] - 4s 9ms/step\n"
     ]
    },
    {
     "data": {
      "text/html": [
       "<div>\n",
       "<style scoped>\n",
       "    .dataframe tbody tr th:only-of-type {\n",
       "        vertical-align: middle;\n",
       "    }\n",
       "\n",
       "    .dataframe tbody tr th {\n",
       "        vertical-align: top;\n",
       "    }\n",
       "\n",
       "    .dataframe thead th {\n",
       "        text-align: right;\n",
       "    }\n",
       "</style>\n",
       "<table border=\"1\" class=\"dataframe\">\n",
       "  <thead>\n",
       "    <tr style=\"text-align: right;\">\n",
       "      <th></th>\n",
       "      <th>y_pred</th>\n",
       "      <th>y_true</th>\n",
       "    </tr>\n",
       "  </thead>\n",
       "  <tbody>\n",
       "    <tr>\n",
       "      <th>0</th>\n",
       "      <td>-1.011140</td>\n",
       "      <td>1.45920</td>\n",
       "    </tr>\n",
       "    <tr>\n",
       "      <th>1</th>\n",
       "      <td>-0.630582</td>\n",
       "      <td>2.42001</td>\n",
       "    </tr>\n",
       "    <tr>\n",
       "      <th>2</th>\n",
       "      <td>-3.885046</td>\n",
       "      <td>-3.95174</td>\n",
       "    </tr>\n",
       "    <tr>\n",
       "      <th>3</th>\n",
       "      <td>-1.302945</td>\n",
       "      <td>-0.59810</td>\n",
       "    </tr>\n",
       "    <tr>\n",
       "      <th>4</th>\n",
       "      <td>-3.003271</td>\n",
       "      <td>-5.31631</td>\n",
       "    </tr>\n",
       "    <tr>\n",
       "      <th>...</th>\n",
       "      <td>...</td>\n",
       "      <td>...</td>\n",
       "    </tr>\n",
       "    <tr>\n",
       "      <th>13995</th>\n",
       "      <td>-2.275019</td>\n",
       "      <td>-1.95174</td>\n",
       "    </tr>\n",
       "    <tr>\n",
       "      <th>13996</th>\n",
       "      <td>-0.132693</td>\n",
       "      <td>-4.93359</td>\n",
       "    </tr>\n",
       "    <tr>\n",
       "      <th>13997</th>\n",
       "      <td>-2.805488</td>\n",
       "      <td>-3.89034</td>\n",
       "    </tr>\n",
       "    <tr>\n",
       "      <th>13998</th>\n",
       "      <td>-0.494026</td>\n",
       "      <td>-1.36677</td>\n",
       "    </tr>\n",
       "    <tr>\n",
       "      <th>13999</th>\n",
       "      <td>-2.754316</td>\n",
       "      <td>-4.66223</td>\n",
       "    </tr>\n",
       "  </tbody>\n",
       "</table>\n",
       "<p>14000 rows × 2 columns</p>\n",
       "</div>"
      ],
      "text/plain": [
       "         y_pred   y_true\n",
       "0     -1.011140  1.45920\n",
       "1     -0.630582  2.42001\n",
       "2     -3.885046 -3.95174\n",
       "3     -1.302945 -0.59810\n",
       "4     -3.003271 -5.31631\n",
       "...         ...      ...\n",
       "13995 -2.275019 -1.95174\n",
       "13996 -0.132693 -4.93359\n",
       "13997 -2.805488 -3.89034\n",
       "13998 -0.494026 -1.36677\n",
       "13999 -2.754316 -4.66223\n",
       "\n",
       "[14000 rows x 2 columns]"
      ]
     },
     "execution_count": 17,
     "metadata": {},
     "output_type": "execute_result"
    }
   ],
   "source": [
    "\n",
    "# Predict for train variants\n",
    "y = model.predict(train_x)\n",
    "x = np.array(train_y)\n",
    "y = np.reshape(y, (1,y.shape[0]))[0]\n",
    "preds_df = pd.DataFrame(columns=['y_pred','y_true'])\n",
    "preds_df['y_pred'] = pd.DataFrame(y)\n",
    "preds_df['y_true']  = pd.DataFrame(x)\n",
    "preds_df \n"
   ]
  },
  {
   "cell_type": "code",
   "execution_count": 18,
   "metadata": {},
   "outputs": [],
   "source": [
    "x = preds_df['y_pred']  \n",
    "y = preds_df['y_true']   \n",
    "preds_df['y_pred'][:1000].corr(preds_df['y_true'][:1000])\n",
    "remove = np.isinf(x) & np.isinf(y)\n",
    "x = x[~remove]\n",
    "y = y[~remove]\n",
    "\n",
    "keep = (~np.isinf(x)) & (~np.isinf(y))\n",
    "x_both = x[keep]\n",
    "y_both = y[keep]\n",
    "\n",
    "y_missing = y[np.isinf(x)]\n",
    "x_missing = x[np.isinf(y)]\n",
    "\n",
    "\n",
    "kernel = gaussian_kde(np.vstack([\n",
    "    x_both.sample(n=200, random_state=1), \n",
    "    y_both.sample(n=200, random_state=1)\n",
    "]))\n",
    "c_both = kernel(np.vstack([x_both.values, y_both.values]))"
   ]
  },
  {
   "cell_type": "code",
   "execution_count": 19,
   "metadata": {},
   "outputs": [
    {
     "name": "stderr",
     "output_type": "stream",
     "text": [
      "d:\\ProgramData\\anaconda3\\envs\\tf\\lib\\site-packages\\numpy\\lib\\histograms.py:906: RuntimeWarning: invalid value encountered in divide\n",
      "  return n/db/n.sum(), bin_edges\n"
     ]
    },
    {
     "name": "stderr",
     "output_type": "stream",
     "text": [
      "meta NOT subset; don't know how to subset; dropped\n"
     ]
    },
    {
     "data": {
      "image/png": "[encoded data removed]",
      "text/plain": [
       "<Figure size 210x195 with 4 Axes>"
      ]
     },
     "metadata": {},
     "output_type": "display_data"
    }
   ],
   "source": [
    "fig = plt.figure(figsize=(1.4,1.3), dpi=150)\n",
    "gs = fig.add_gridspec(2, 2, left=0.275, right=0.95, bottom=0.22, top=0.95, \n",
    "                      width_ratios=[1, 6], height_ratios=[6, 1], hspace=0., wspace=0)\n",
    "ax = fig.add_subplot(gs[0, 1])\n",
    "ax.scatter(x_both, y_both, c=c_both, cmap=mpl.cm.inferno, s=0.2, edgecolor='none', rasterized=True)\n",
    "ax.set_xticks([]); ax.set_yticks([])\n",
    "xlim = [-11, 12]\n",
    "bins = np.linspace(*xlim, 25)\n",
    "ax.set_xlim(xlim); ax.set_ylim(xlim)\n",
    "ax.text(0.03, 0.97, r'$r$ = {:.4f}'.format(np.corrcoef(x_both, y_both)[0, 1]),\n",
    "       transform=ax.transAxes, ha='left', va='top', fontsize=7)\n",
    "\n",
    "ax.text(0.97, 0.01, 'n={}'.format(si_format(len(x_both)), precision=2, format_str='{value}{prefix}',), \n",
    "        transform=ax.transAxes, ha='right', va='bottom', fontsize=7)\n",
    "\n",
    "# Left Marginal\n",
    "ax = fig.add_subplot(gs[0, 0])\n",
    "ax.hist(y_missing, bins=bins, edgecolor='none', orientation='horizontal', density=True, color='r')\n",
    "ax.set_ylim(xlim)\n",
    "ax.set_xticks([]); ax.set_yticks([-5, 0, 5, 10, 15,20])\n",
    "ax.text(0.97, 0.97, 'n={}'.format(si_format(len(y_missing)), precision=2, format_str='{value}{prefix}',), \n",
    "        transform=ax.transAxes, ha='right', va='top', fontsize=7, rotation=90, color='r')\n",
    "ax.set_ylabel('Prediction', labelpad=2,fontsize=8)\n",
    "ax.tick_params(axis='both', labelsize=7, length=2, pad=1)\n",
    "\n",
    "# Bottom Marginal\n",
    "ax = fig.add_subplot(gs[1, 1])\n",
    "ax.hist(x_missing, bins=bins, edgecolor='none', density=True, color='r')\n",
    "ax.set_xlim(xlim)\n",
    "ax.set_xticks([-5, 0, 5, 10, 15,20]); ax.set_yticks([])\n",
    "ax.text(0.97, 0.8, 'n={}'.format(si_format(len(x_missing)), precision=2, format_str='{value}{prefix}',), \n",
    "        transform=ax.transAxes, ha='right', va='top', fontsize=7, color='r')\n",
    "ax.set_xlabel('Truth', labelpad=2,fontsize=8)\n",
    "ax.tick_params(axis='both', labelsize=7, length=2, pad=1)\n",
    "\n",
    "# Missing label (not detected in either)\n",
    "ax = fig.add_subplot(gs[1, 0])\n",
    "for spine in ['bottom', 'left']:\n",
    "    ax.spines[spine].set_visible(False)\n",
    "ax.set_xticks([]); ax.set_yticks([])\n",
    "\n",
    "ax.text(0.8, 0.8, 'Missing', transform=ax.transAxes, color='r', ha='right', va='top', fontsize=7, clip_on=False)\n",
    "fig.savefig('../results/cnn/1st_results/nor_package/1st_aa_nor_package_prediction_correlation_train.pdf',dpi=300,bbox_inches='tight')"
   ]
  },
  {
   "cell_type": "code",
   "execution_count": 36,
   "metadata": {},
   "outputs": [
    {
     "data": {
      "image/png": "[encoded data removed]",
      "text/plain": [
       "<Figure size 180x150 with 1 Axes>"
      ]
     },
     "metadata": {},
     "output_type": "display_data"
    }
   ],
   "source": [
    "data = np.array(preds_df['y_pred']) \n",
    "data = data.reshape(-1, 1)  # 将数据转换成列向量的形式\n",
    "\n",
    "# 使用GaussianMixture拟合数据\n",
    "n_components = 2 # 设置混合模型的分量个数\n",
    "gmm = GaussianMixture(n_components=n_components)\n",
    "gmm.fit(data)\n",
    "\n",
    "# 获取每个分量的均值和协方差矩阵\n",
    "means = gmm.means_\n",
    "covariances = gmm.covariances_\n",
    "\n",
    "# 生成拟合后的分布\n",
    "x = np.linspace(-7, 8, 100000)\n",
    "x = x.reshape(-1, 1)\n",
    "y = np.exp(gmm.score_samples(x))\n",
    "\n",
    "fig,ax = plt.subplots(figsize=(1.8,1.5),dpi=100)\n",
    "# 绘制原始数据和拟合后的分布\n",
    "plt.hist(data, bins=100, density=True, alpha=0.6, color = '#BAB3A3',label='Prediction')\n",
    "#plt.plot(x, y, '-r', label='GMM fit')\n",
    "\n",
    "\n",
    "# 绘制每个分量的正态分布\n",
    "for i in range(n_components):\n",
    "    component = np.exp(-(x - means[i]) ** 2 / (2 * covariances[i]))\n",
    "    component /= np.sqrt(2 * np.pi * covariances[i])\n",
    "    component *= gmm.weights_[i]\n",
    "    if i == 0:\n",
    "        ax.plot(x, component, '-', label=f'Distribution {i + 1}', color='#F66E68', alpha=1)\n",
    "        ax.fill_between(x.flatten(), 0, component.flatten(), color='#F66E68', alpha=0.4)\n",
    "    else:\n",
    "        ax.plot(x, component, '-', label=f'Distribution {i + 1}', color='#457B9D', alpha=1)\n",
    "        ax.fill_between(x.flatten(), 0, component.flatten(), color='#457B9D', alpha=0.4)\n",
    "\n",
    "# ax.spines['top'].set_visible(False)\n",
    "# ax.spines['top'].set_visible(False)\n",
    "# ax.spines['right'].set_visible(False)\n",
    "# ax.spines['left'].set_visible(False)\n",
    "plt.title('Prediction',fontsize=10)\n",
    "ax.tick_params(axis='both', which='both', length=2,labelsize=10)\n",
    "ax.set_xticks([-5, 0, 5, ]); \n",
    "# ax.set_yticks([])\n",
    "plt.ylabel('Density',labelpad=1,fontsize=10)\n",
    "plt.xlabel('Nor_package',labelpad=1,fontsize=10)\n",
    "plt.legend(fontsize=7,frameon=False)\n",
    "fig.savefig('../results/cnn/1st_results/nor_package/1st_aa_nor_package_prediction_distribution_train.pdf',dpi=300,bbox_inches='tight')"
   ]
  },
  {
   "cell_type": "markdown",
   "metadata": {},
   "source": [
    "· `Test-data validation` "
   ]
  },
  {
   "cell_type": "code",
   "execution_count": 20,
   "metadata": {},
   "outputs": [
    {
     "name": "stdout",
     "output_type": "stream",
     "text": [
      "7/7 [==============================] - 0s 8ms/step\n"
     ]
    },
    {
     "data": {
      "text/html": [
       "<div>\n",
       "<style scoped>\n",
       "    .dataframe tbody tr th:only-of-type {\n",
       "        vertical-align: middle;\n",
       "    }\n",
       "\n",
       "    .dataframe tbody tr th {\n",
       "        vertical-align: top;\n",
       "    }\n",
       "\n",
       "    .dataframe thead th {\n",
       "        text-align: right;\n",
       "    }\n",
       "</style>\n",
       "<table border=\"1\" class=\"dataframe\">\n",
       "  <thead>\n",
       "    <tr style=\"text-align: right;\">\n",
       "      <th></th>\n",
       "      <th>y_pred</th>\n",
       "      <th>y_true</th>\n",
       "    </tr>\n",
       "  </thead>\n",
       "  <tbody>\n",
       "    <tr>\n",
       "      <th>0</th>\n",
       "      <td>-2.446725</td>\n",
       "      <td>-3.103740</td>\n",
       "    </tr>\n",
       "    <tr>\n",
       "      <th>1</th>\n",
       "      <td>-2.873966</td>\n",
       "      <td>-2.877740</td>\n",
       "    </tr>\n",
       "    <tr>\n",
       "      <th>2</th>\n",
       "      <td>-0.308700</td>\n",
       "      <td>1.131250</td>\n",
       "    </tr>\n",
       "    <tr>\n",
       "      <th>3</th>\n",
       "      <td>-0.817888</td>\n",
       "      <td>1.668850</td>\n",
       "    </tr>\n",
       "    <tr>\n",
       "      <th>4</th>\n",
       "      <td>-1.651373</td>\n",
       "      <td>0.410834</td>\n",
       "    </tr>\n",
       "    <tr>\n",
       "      <th>...</th>\n",
       "      <td>...</td>\n",
       "      <td>...</td>\n",
       "    </tr>\n",
       "    <tr>\n",
       "      <th>218</th>\n",
       "      <td>-3.655057</td>\n",
       "      <td>-5.424220</td>\n",
       "    </tr>\n",
       "    <tr>\n",
       "      <th>219</th>\n",
       "      <td>-2.574812</td>\n",
       "      <td>-5.733100</td>\n",
       "    </tr>\n",
       "    <tr>\n",
       "      <th>220</th>\n",
       "      <td>-0.292859</td>\n",
       "      <td>1.593420</td>\n",
       "    </tr>\n",
       "    <tr>\n",
       "      <th>221</th>\n",
       "      <td>-1.869724</td>\n",
       "      <td>-0.707500</td>\n",
       "    </tr>\n",
       "    <tr>\n",
       "      <th>222</th>\n",
       "      <td>-3.096639</td>\n",
       "      <td>-3.411170</td>\n",
       "    </tr>\n",
       "  </tbody>\n",
       "</table>\n",
       "<p>223 rows × 2 columns</p>\n",
       "</div>"
      ],
      "text/plain": [
       "       y_pred    y_true\n",
       "0   -2.446725 -3.103740\n",
       "1   -2.873966 -2.877740\n",
       "2   -0.308700  1.131250\n",
       "3   -0.817888  1.668850\n",
       "4   -1.651373  0.410834\n",
       "..        ...       ...\n",
       "218 -3.655057 -5.424220\n",
       "219 -2.574812 -5.733100\n",
       "220 -0.292859  1.593420\n",
       "221 -1.869724 -0.707500\n",
       "222 -3.096639 -3.411170\n",
       "\n",
       "[223 rows x 2 columns]"
      ]
     },
     "execution_count": 20,
     "metadata": {},
     "output_type": "execute_result"
    }
   ],
   "source": [
    "\n",
    "# Predict for test variants\n",
    "y = model.predict(test_x)\n",
    "x = np.array(test_y)\n",
    "y = np.reshape(y, (1,y.shape[0]))[0]\n",
    "preds_df = pd.DataFrame(columns=['y_pred','y_true'])\n",
    "preds_df['y_pred'] = pd.DataFrame(y)\n",
    "preds_df['y_true']  = pd.DataFrame(x)\n",
    "preds_df \n"
   ]
  },
  {
   "cell_type": "code",
   "execution_count": 42,
   "metadata": {},
   "outputs": [
    {
     "name": "stderr",
     "output_type": "stream",
     "text": [
      "d:\\ProgramData\\anaconda3\\envs\\tf\\lib\\site-packages\\numpy\\lib\\histograms.py:906: RuntimeWarning: invalid value encountered in divide\n",
      "  return n/db/n.sum(), bin_edges\n"
     ]
    },
    {
     "data": {
      "image/png": "[encoded data removed]",
      "text/plain": [
       "<Figure size 210x195 with 4 Axes>"
      ]
     },
     "metadata": {},
     "output_type": "display_data"
    }
   ],
   "source": [
    "x = preds_df['y_pred']  \n",
    "y = preds_df['y_true']   \n",
    "preds_df['y_pred'][:1000].corr(preds_df['y_true'][:1000])\n",
    "remove = np.isinf(x) & np.isinf(y)\n",
    "x = x[~remove]\n",
    "y = y[~remove]\n",
    "\n",
    "keep = (~np.isinf(x)) & (~np.isinf(y))\n",
    "x_both = x[keep]\n",
    "y_both = y[keep]\n",
    "\n",
    "y_missing = y[np.isinf(x)]\n",
    "x_missing = x[np.isinf(y)]\n",
    "\n",
    "\n",
    "kernel = gaussian_kde(np.vstack([\n",
    "    x_both.sample(n=2000, random_state=1), \n",
    "    y_both.sample(n=2000, random_state=1)\n",
    "]))\n",
    "c_both = kernel(np.vstack([x_both.values, y_both.values]))\n",
    "\n",
    "fig = plt.figure(figsize=(1.4,1.3), dpi=150)\n",
    "gs = fig.add_gridspec(2, 2, left=0.275, right=0.95, bottom=0.22, top=0.95, \n",
    "                      width_ratios=[1, 6], height_ratios=[6, 1], hspace=0., wspace=0)\n",
    "ax = fig.add_subplot(gs[0, 1])\n",
    "ax.scatter(x_both, y_both, c=c_both, cmap=mpl.cm.inferno, s=0.2, edgecolor='none', rasterized=True)\n",
    "ax.set_xticks([]); ax.set_yticks([])\n",
    "xlim = [-11, 12]\n",
    "bins = np.linspace(*xlim, 25)\n",
    "ax.set_xlim(xlim); ax.set_ylim(xlim)\n",
    "ax.text(0.03, 0.97, r'$r$ = {:.4f}'.format(np.corrcoef(x_both, y_both)[0, 1]),\n",
    "       transform=ax.transAxes, ha='left', va='top', fontsize=7)\n",
    "\n",
    "ax.text(0.97, 0.01, 'n={}'.format(si_format(len(x_both)), precision=2, format_str='{value}{prefix}',), \n",
    "        transform=ax.transAxes, ha='right', va='bottom', fontsize=7)\n",
    "\n",
    "# Left Marginal\n",
    "ax = fig.add_subplot(gs[0, 0])\n",
    "ax.hist(y_missing, bins=bins, edgecolor='none', orientation='horizontal', density=True, color='r')\n",
    "ax.set_ylim(xlim)\n",
    "ax.set_xticks([]); ax.set_yticks([-5, 0, 5, 10, 15,20])\n",
    "ax.text(0.97, 0.97, 'n={}'.format(si_format(len(y_missing)), precision=2, format_str='{value}{prefix}',), \n",
    "        transform=ax.transAxes, ha='right', va='top', fontsize=7, rotation=90, color='r')\n",
    "ax.set_ylabel('Prediction', labelpad=2,fontsize=8)\n",
    "ax.tick_params(axis='both', labelsize=7, length=2, pad=1)\n",
    "\n",
    "# Bottom Marginal\n",
    "ax = fig.add_subplot(gs[1, 1])\n",
    "ax.hist(x_missing, bins=bins, edgecolor='none', density=True, color='r')\n",
    "ax.set_xlim(xlim)\n",
    "ax.set_xticks([-5, 0, 5, 10, 15,20]); ax.set_yticks([])\n",
    "ax.text(0.97, 0.8, 'n={}'.format(si_format(len(x_missing)), precision=2, format_str='{value}{prefix}',), \n",
    "        transform=ax.transAxes, ha='right', va='top', fontsize=7, color='r')\n",
    "ax.set_xlabel('Truth', labelpad=2,fontsize=8)\n",
    "ax.tick_params(axis='both', labelsize=6, length=2, pad=1)\n",
    "\n",
    "# Missing label (not detected in either)\n",
    "ax = fig.add_subplot(gs[1, 0])\n",
    "for spine in ['bottom', 'left']:\n",
    "    ax.spines[spine].set_visible(False)\n",
    "ax.set_xticks([]); ax.set_yticks([])\n",
    "\n",
    "ax.text(0.8, 0.8, 'Missing', transform=ax.transAxes, color='r', ha='right', va='top', fontsize=7, clip_on=False)\n",
    "fig.savefig('../results/cnn/1st_results/nor_package/1st_aa_nor_package_prediction_correlation_test.pdf',dpi=300,bbox_inches='tight')"
   ]
  },
  {
   "cell_type": "code",
   "execution_count": 21,
   "metadata": {
    "ExecuteTime": {
     "end_time": "2021-06-15T18:04:49.108828Z",
     "start_time": "2021-06-15T18:04:38.468240Z"
    }
   },
   "outputs": [
    {
     "name": "stderr",
     "output_type": "stream",
     "text": [
      "meta NOT subset; don't know how to subset; dropped\n"
     ]
    },
    {
     "data": {
      "image/png": "[encoded data removed]",
      "text/plain": [
       "<Figure size 180x150 with 1 Axes>"
      ]
     },
     "metadata": {},
     "output_type": "display_data"
    }
   ],
   "source": [
    "data = np.array(preds_df['y_pred']) \n",
    "data = data.reshape(-1, 1)  # 将数据转换成列向量的形式\n",
    "\n",
    "# 使用GaussianMixture拟合数据\n",
    "n_components = 2 # 设置混合模型的分量个数\n",
    "gmm = GaussianMixture(n_components=n_components)\n",
    "gmm.fit(data)\n",
    "\n",
    "# 获取每个分量的均值和协方差矩阵\n",
    "means = gmm.means_\n",
    "covariances = gmm.covariances_\n",
    "\n",
    "# 生成拟合后的分布\n",
    "x = np.linspace(-7, 8, 100000)\n",
    "x = x.reshape(-1, 1)\n",
    "y = np.exp(gmm.score_samples(x))\n",
    "\n",
    "fig,ax = plt.subplots(figsize=(1.8,1.5),dpi=100)\n",
    "# 绘制原始数据和拟合后的分布\n",
    "plt.hist(data, bins=100, density=True, alpha=0.6, color = '#BAB3A3',label='Prediction')\n",
    "#plt.plot(x, y, '-r', label='GMM fit')\n",
    "\n",
    "\n",
    "# 绘制每个分量的正态分布\n",
    "for i in range(n_components):\n",
    "    component = np.exp(-(x - means[i]) ** 2 / (2 * covariances[i]))\n",
    "    component /= np.sqrt(2 * np.pi * covariances[i])\n",
    "    component *= gmm.weights_[i]\n",
    "    if i == 0:\n",
    "        ax.plot(x, component, '-', label=f'Distribution {i + 1}', color='#F66E68', alpha=1)\n",
    "        ax.fill_between(x.flatten(), 0, component.flatten(), color='#F66E68', alpha=0.4)\n",
    "    else:\n",
    "        ax.plot(x, component, '-', label=f'Distribution {i + 1}', color='#457B9D', alpha=1)\n",
    "        ax.fill_between(x.flatten(), 0, component.flatten(), color='#457B9D', alpha=0.4)\n",
    "\n",
    "# ax.spines['top'].set_visible(False)\n",
    "# ax.spines['top'].set_visible(False)\n",
    "# ax.spines['right'].set_visible(False)\n",
    "# ax.spines['left'].set_visible(False)\n",
    "plt.title('Prediction',fontsize=10)\n",
    "ax.tick_params(axis='both', which='both', length=2,labelsize=10)\n",
    "ax.set_xticks([-5, 0, 5, ]); \n",
    "# ax.set_yticks([])\n",
    "plt.ylabel('Density',labelpad=1,fontsize=10)\n",
    "plt.xlabel('Nor_package',labelpad=1,fontsize=10)\n",
    "plt.legend(fontsize=7,frameon=False)\n",
    "fig.savefig('../results/cnn/1st_results/nor_package/1st_aa_nor_package_prediction_distribution_test.pdf',dpi=300,bbox_inches='tight')"
   ]
  },
  {
   "cell_type": "code",
   "execution_count": null,
   "metadata": {},
   "outputs": [],
   "source": []
  }
 ],
 "metadata": {
  "kernelspec": {
   "display_name": "Python 3 (ipykernel)",
   "language": "python",
   "name": "python3"
  },
  "language_info": {
   "codemirror_mode": {
    "name": "ipython",
    "version": 3
   },
   "file_extension": ".py",
   "mimetype": "text/x-python",
   "name": "python",
   "nbconvert_exporter": "python",
   "pygments_lexer": "ipython3",
   "version": "3.8.16"
  },
  "toc": {
   "base_numbering": 1,
   "nav_menu": {},
   "number_sections": true,
   "sideBar": true,
   "skip_h1_title": false,
   "title_cell": "Table of Contents",
   "title_sidebar": "Contents",
   "toc_cell": true,
   "toc_position": {
    "height": "calc(100% - 180px)",
    "left": "10px",
    "top": "150px",
    "width": "320px"
   },
   "toc_section_display": true,
   "toc_window_display": true
  }
 },
 "nbformat": 4,
 "nbformat_minor": 4
}
