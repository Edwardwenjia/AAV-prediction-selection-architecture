{
  "cells": [
    {
      "cell_type": "code",
      "execution_count": 1,
      "metadata": {
        "ExecuteTime": {
          "end_time": "2021-06-15T17:13:58.134959Z",
          "start_time": "2021-06-15T17:13:57.550003Z"
        }
      },
      "outputs": [],
      "source": [
        "import pandas as pd\n",
        "import numpy as np\n",
        "import matplotlib as mpl\n",
        "import matplotlib.pyplot as plt\n",
        "import seaborn as sns\n",
        "from IPython.display import Image\n",
        "from scipy.stats import gaussian_kde, norm\n",
        "from sklearn.mixture import GaussianMixture\n",
        "\n",
        "from utils_f4f import CustomEarlyStopping, cnn_seq_model,AA_hotencoding ,heatmap, si_format\n",
        "\n"
      ]
    },
    {
      "cell_type": "code",
      "execution_count": 2,
      "metadata": {},
      "outputs": [],
      "source": [
        "mpl.rcParams['svg.fonttype'] = 'none'\n",
        "mpl.rcParams['font.family'] = ['sans-serif']\n",
        "mpl.rcParams['font.sans-serif'] = ['Arial']\n",
        "mpl.rcParams['text.usetex'] = False\n",
        "mpl.rcParams['pdf.fonttype'] = 42\n",
        "mpl.rcParams['ps.fonttype'] = 42"
      ]
    },
    {
      "cell_type": "markdown",
      "metadata": {},
      "source": [
        "#### Data_preparetion\n",
        "\n"
      ]
    },
    {
      "cell_type": "code",
      "execution_count": 3,
      "metadata": {},
      "outputs": [],
      "source": [
        "\n",
        "df_all = pd.read_csv('../data/1st_780w_packseq_aa.tsv',delimiter='\\t')\n",
        "df_all = df_all.iloc[::5000]\n",
        "df_modeling = df_all.rename(columns={'aa':'AA_seqenece'})\n",
        "df_modeling['label']=0\n",
        "df_modeling = df_modeling[['seq', 'nor_package', 'label']]\n",
        "df_missing = df_modeling[np.isinf(df_modeling['nor_package']) ]#\n",
        "df_modeling = df_modeling[~np.isnan(df_modeling['nor_package']) & ~np.isinf(df_modeling['nor_package'])]\n",
        "df_modeling.reset_index(drop = True, inplace=True)\n",
        "AA_col = 'seq'\n",
        "array = 'nor_package'\n"
      ]
    },
    {
      "cell_type": "code",
      "execution_count": 4,
      "metadata": {},
      "outputs": [
        {
          "data": {
            "image/png": "[encoded data removed]",
            "text/plain": [
              "<Figure size 200x170 with 1 Axes>"
            ]
          },
          "metadata": {},
          "output_type": "display_data"
        }
      ],
      "source": [
        "nor_package = df_all[np.isfinite(df_all[array])][array]\n",
        "data = np.array(nor_package) \n",
        "data = data.reshape(-1, 1)  # Convert the data into a column vector\n",
        "\n",
        "# Fit the data using GaussianMixture\n",
        "n_components = 2 # Set the number of components for the hybrid model\n",
        "gmm = GaussianMixture(n_components=n_components)\n",
        "gmm.fit(data)\n",
        "\n",
        "# Get the mean and covariance matrix for each component\n",
        "means = gmm.means_\n",
        "covariances = gmm.covariances_\n",
        "\n",
        "# Generate the fitted distribution\n",
        "x = np.linspace(-10, 5, 10000)\n",
        "x = x.reshape(-1, 1)\n",
        "y = np.exp(gmm.score_samples(x))\n",
        "\n",
        "fig,ax = plt.subplots(figsize=(2,1.7),dpi=100)\n",
        "# Plot the raw data and the distribution after fitting\n",
        "plt.hist(data, bins=100, density=True, alpha=0.6, color = '#BAB3A3',label='Prediction')\n",
        "\n",
        "# 绘制每个分量的正态分布\n",
        "for i in range(n_components):\n",
        "    component = np.exp(-(x - means[i]) ** 2 / (2 * covariances[i]))\n",
        "    component /= np.sqrt(2 * np.pi * covariances[i])\n",
        "    component *= gmm.weights_[i]\n",
        "    if i == 0:\n",
        "        ax.plot(x, component, '-', label=f'Distribution {i + 1}', color='#F66E68', alpha=1)\n",
        "        ax.fill_between(x.flatten(), 0, component.flatten(), color='#F66E68', alpha=0.4)\n",
        "    else:\n",
        "        ax.plot(x, component, '-', label=f'Distribution {i + 1}', color='#457B9D', alpha=1)\n",
        "        ax.fill_between(x.flatten(), 0, component.flatten(), color='#457B9D', alpha=0.4)\n",
        "\n",
        "\n",
        "plt.title('Truth_distribution',fontsize=10)\n",
        "ax.tick_params(axis='both', which='both', length=2,labelsize=8)\n",
        "ax.set_xticks([-10,-5, 0, 5,10]); \n",
        "ax.set_xlim([-10,10])\n",
        "plt.ylabel('Density',labelpad=2,fontsize=10)\n",
        "plt.xlabel('Nor_package',labelpad=2,fontsize=10)\n",
        "plt.legend(fontsize=7,frameon=False,loc='best')\n",
        "plt.show()"
      ]
    },
    {
      "cell_type": "markdown",
      "metadata": {},
      "source": [
        "### Prep data\n",
        " one-hot encode the `AA_sequence` column and split the data into\n",
        "training and test sets. The training split will be split\n",
        "\n"
      ]
    },
    {
      "cell_type": "code",
      "execution_count": 7,
      "metadata": {},
      "outputs": [],
      "source": [
        "# Train-Test split\n",
        "train_size = 1400\n",
        "validation_size = 100\n",
        "train, validate, test = np.split(df_modeling.sample(frac=1),  [train_size, train_size+validation_size])\n",
        "\n",
        "# Hot Encoding\n",
        "\n",
        "train_x =  np.asarray([AA_hotencoding(variant) for variant in train[AA_col]])\n",
        "train_y = train[array]\n",
        "validate_x = np.asarray([AA_hotencoding(variant) for variant in validate[AA_col]])\n",
        "validate_y = validate[array]\n",
        "test_x = np.asarray([AA_hotencoding(variant) for variant in test[AA_col]])\n",
        "test_y = test[array]\n",
        "missing_x = np.asarray([AA_hotencoding(variant) for variant in df_missing[AA_col]])\n"
      ]
    },
    {
      "cell_type": "code",
      "execution_count": 8,
      "metadata": {},
      "outputs": [
        {
          "data": {
            "text/plain": [
              "(1400, 21, 20)"
            ]
          },
          "execution_count": 8,
          "metadata": {},
          "output_type": "execute_result"
        }
      ],
      "source": [
        "train_x.shape"
      ]
    },
    {
      "cell_type": "markdown",
      "metadata": {},
      "source": [
        "#### cnn  model training\n",
        "Default parameterization:Here the model is applied to aa-nor_package learning process, as details"
      ]
    },
    {
      "cell_type": "code",
      "execution_count": 9,
      "metadata": {},
      "outputs": [
        {
          "name": "stdout",
          "output_type": "stream",
          "text": [
            "Epoch 1/120\n",
            "3/3 - 2s - loss: 7.7671 - mae: 2.3960 - val_loss: 5.7139 - val_mae: 2.1210 - 2s/epoch - 555ms/step\n",
            "Epoch 2/120\n",
            "3/3 - 1s - loss: 6.0811 - mae: 2.0895 - val_loss: 6.2341 - val_mae: 2.0646 - 814ms/epoch - 271ms/step\n",
            "Epoch 3/120\n",
            "3/3 - 1s - loss: 6.1433 - mae: 2.0677 - val_loss: 5.6223 - val_mae: 2.0732 - 793ms/epoch - 264ms/step\n",
            "Epoch 4/120\n",
            "3/3 - 1s - loss: 5.7156 - mae: 2.0655 - val_loss: 5.6172 - val_mae: 2.1165 - 783ms/epoch - 261ms/step\n",
            "Epoch 5/120\n",
            "3/3 - 1s - loss: 5.7521 - mae: 2.0890 - val_loss: 5.5785 - val_mae: 2.1076 - 831ms/epoch - 277ms/step\n",
            "Epoch 6/120\n",
            "3/3 - 1s - loss: 5.5940 - mae: 2.0569 - val_loss: 5.3986 - val_mae: 2.0573 - 844ms/epoch - 281ms/step\n",
            "Epoch 7/120\n",
            "3/3 - 1s - loss: 5.4287 - mae: 1.9987 - val_loss: 5.4047 - val_mae: 2.0167 - 812ms/epoch - 271ms/step\n",
            "Epoch 8/120\n",
            "3/3 - 1s - loss: 5.3568 - mae: 1.9575 - val_loss: 5.3678 - val_mae: 2.0016 - 838ms/epoch - 279ms/step\n",
            "Epoch 9/120\n",
            "3/3 - 1s - loss: 5.2612 - mae: 1.9426 - val_loss: 5.2319 - val_mae: 1.9987 - 792ms/epoch - 264ms/step\n",
            "Epoch 10/120\n",
            "3/3 - 1s - loss: 5.1273 - mae: 1.9321 - val_loss: 5.1657 - val_mae: 1.9959 - 778ms/epoch - 259ms/step\n",
            "Epoch 11/120\n",
            "3/3 - 1s - loss: 5.0615 - mae: 1.9255 - val_loss: 5.1192 - val_mae: 1.9830 - 815ms/epoch - 272ms/step\n",
            "Epoch 12/120\n",
            "3/3 - 1s - loss: 4.9803 - mae: 1.9015 - val_loss: 5.0836 - val_mae: 1.9562 - 826ms/epoch - 275ms/step\n",
            "Epoch 13/120\n",
            "3/3 - 1s - loss: 4.8907 - mae: 1.8654 - val_loss: 5.0795 - val_mae: 1.9301 - 809ms/epoch - 270ms/step\n",
            "Epoch 14/120\n",
            "3/3 - 1s - loss: 4.8206 - mae: 1.8386 - val_loss: 5.0386 - val_mae: 1.9175 - 830ms/epoch - 277ms/step\n",
            "Epoch 15/120\n",
            "3/3 - 1s - loss: 4.7467 - mae: 1.8224 - val_loss: 4.9938 - val_mae: 1.9113 - 763ms/epoch - 254ms/step\n",
            "Epoch 16/120\n",
            "3/3 - 1s - loss: 4.6908 - mae: 1.8128 - val_loss: 4.9673 - val_mae: 1.9003 - 827ms/epoch - 276ms/step\n",
            "Epoch 17/120\n",
            "3/3 - 1s - loss: 4.6221 - mae: 1.7888 - val_loss: 4.9785 - val_mae: 1.8806 - 763ms/epoch - 254ms/step\n",
            "Epoch 18/120\n",
            "3/3 - 1s - loss: 4.5731 - mae: 1.7645 - val_loss: 4.9679 - val_mae: 1.8721 - 824ms/epoch - 275ms/step\n",
            "Epoch 19/120\n",
            "3/3 - 1s - loss: 4.5114 - mae: 1.7524 - val_loss: 4.9102 - val_mae: 1.8728 - 797ms/epoch - 266ms/step\n",
            "Epoch 20/120\n",
            "3/3 - 1s - loss: 4.4638 - mae: 1.7450 - val_loss: 4.9153 - val_mae: 1.8609 - 777ms/epoch - 259ms/step\n",
            "Epoch 21/120\n",
            "3/3 - 1s - loss: 4.4042 - mae: 1.7264 - val_loss: 4.9003 - val_mae: 1.8535 - 790ms/epoch - 263ms/step\n",
            "Epoch 22/120\n",
            "3/3 - 1s - loss: 4.3590 - mae: 1.7144 - val_loss: 4.8946 - val_mae: 1.8451 - 822ms/epoch - 274ms/step\n",
            "Epoch 23/120\n",
            "3/3 - 1s - loss: 4.3302 - mae: 1.6949 - val_loss: 4.9210 - val_mae: 1.8405 - 832ms/epoch - 277ms/step\n",
            "Epoch 24/120\n",
            "3/3 - 1s - loss: 4.2660 - mae: 1.6861 - val_loss: 4.8110 - val_mae: 1.8462 - 836ms/epoch - 279ms/step\n",
            "Epoch 25/120\n",
            "3/3 - 1s - loss: 4.2287 - mae: 1.6893 - val_loss: 4.8278 - val_mae: 1.8343 - 818ms/epoch - 273ms/step\n",
            "Epoch 26/120\n",
            "3/3 - 1s - loss: 4.1729 - mae: 1.6617 - val_loss: 4.8495 - val_mae: 1.8322 - 814ms/epoch - 271ms/step\n",
            "Epoch 27/120\n",
            "3/3 - 1s - loss: 4.1371 - mae: 1.6530 - val_loss: 4.7624 - val_mae: 1.8312 - 780ms/epoch - 260ms/step\n",
            "Epoch 28/120\n",
            "3/3 - 1s - loss: 4.1070 - mae: 1.6537 - val_loss: 4.7538 - val_mae: 1.8280 - 812ms/epoch - 271ms/step\n",
            "Epoch 29/120\n",
            "3/3 - 1s - loss: 4.0667 - mae: 1.6395 - val_loss: 4.7430 - val_mae: 1.8224 - 831ms/epoch - 277ms/step\n",
            "Epoch 30/120\n",
            "3/3 - 1s - loss: 4.0437 - mae: 1.6363 - val_loss: 4.7044 - val_mae: 1.8204 - 811ms/epoch - 270ms/step\n",
            "Epoch 31/120\n",
            "3/3 - 1s - loss: 4.0149 - mae: 1.6289 - val_loss: 4.6863 - val_mae: 1.8157 - 799ms/epoch - 266ms/step\n",
            "Epoch 32/120\n",
            "3/3 - 1s - loss: 3.9787 - mae: 1.6204 - val_loss: 4.6652 - val_mae: 1.8124 - 814ms/epoch - 271ms/step\n",
            "Epoch 33/120\n",
            "3/3 - 1s - loss: 3.9631 - mae: 1.6170 - val_loss: 4.6561 - val_mae: 1.8064 - 815ms/epoch - 272ms/step\n",
            "Epoch 34/120\n",
            "3/3 - 1s - loss: 3.9380 - mae: 1.6067 - val_loss: 4.6267 - val_mae: 1.8041 - 798ms/epoch - 266ms/step\n",
            "Epoch 35/120\n",
            "3/3 - 1s - loss: 3.9241 - mae: 1.6077 - val_loss: 4.6121 - val_mae: 1.8009 - 813ms/epoch - 271ms/step\n",
            "Epoch 36/120\n",
            "3/3 - 1s - loss: 3.8925 - mae: 1.5976 - val_loss: 4.6321 - val_mae: 1.7971 - 824ms/epoch - 275ms/step\n",
            "Epoch 37/120\n",
            "3/3 - 1s - loss: 3.8841 - mae: 1.5941 - val_loss: 4.5729 - val_mae: 1.7958 - 824ms/epoch - 275ms/step\n",
            "Epoch 38/120\n",
            "3/3 - 1s - loss: 3.8623 - mae: 1.5921 - val_loss: 4.5732 - val_mae: 1.7940 - 816ms/epoch - 272ms/step\n",
            "Epoch 39/120\n",
            "3/3 - 1s - loss: 3.8477 - mae: 1.5870 - val_loss: 4.5664 - val_mae: 1.7929 - 821ms/epoch - 274ms/step\n",
            "Epoch 40/120\n",
            "3/3 - 1s - loss: 3.8308 - mae: 1.5835 - val_loss: 4.5487 - val_mae: 1.7938 - 824ms/epoch - 275ms/step\n",
            "Epoch 41/120\n",
            "3/3 - 1s - loss: 3.8156 - mae: 1.5798 - val_loss: 4.5683 - val_mae: 1.7894 - 815ms/epoch - 272ms/step\n",
            "Epoch 42/120\n",
            "3/3 - 1s - loss: 3.8056 - mae: 1.5753 - val_loss: 4.5407 - val_mae: 1.7895 - 802ms/epoch - 267ms/step\n",
            "Epoch 43/120\n",
            "3/3 - 1s - loss: 3.7962 - mae: 1.5726 - val_loss: 4.5106 - val_mae: 1.7923 - 756ms/epoch - 252ms/step\n",
            "Epoch 44/120\n",
            "3/3 - 1s - loss: 3.7835 - mae: 1.5757 - val_loss: 4.5277 - val_mae: 1.7877 - 762ms/epoch - 254ms/step\n",
            "Epoch 45/120\n",
            "3/3 - 1s - loss: 3.7655 - mae: 1.5669 - val_loss: 4.5390 - val_mae: 1.7888 - 776ms/epoch - 259ms/step\n",
            "Epoch 46/120\n",
            "3/3 - 1s - loss: 3.7651 - mae: 1.5663 - val_loss: 4.5021 - val_mae: 1.7971 - 758ms/epoch - 253ms/step\n",
            "Epoch 47/120\n",
            "3/3 - 1s - loss: 3.7490 - mae: 1.5689 - val_loss: 4.5453 - val_mae: 1.7866 - 767ms/epoch - 256ms/step\n",
            "Epoch 48/120\n",
            "3/3 - 1s - loss: 3.7484 - mae: 1.5597 - val_loss: 4.4936 - val_mae: 1.7946 - 800ms/epoch - 267ms/step\n",
            "Epoch 49/120\n",
            "3/3 - 1s - loss: 3.7706 - mae: 1.5782 - val_loss: 4.5166 - val_mae: 1.7897 - 829ms/epoch - 276ms/step\n",
            "Epoch 50/120\n",
            "3/3 - 1s - loss: 3.7723 - mae: 1.5612 - val_loss: 4.5170 - val_mae: 1.7880 - 793ms/epoch - 264ms/step\n",
            "Epoch 51/120\n",
            "3/3 - 1s - loss: 3.7516 - mae: 1.5736 - val_loss: 4.4719 - val_mae: 1.7979 - 833ms/epoch - 278ms/step\n"
          ]
        },
        {
          "name": "stderr",
          "output_type": "stream",
          "text": [
            "d:\\ProgramData\\anaconda3\\envs\\tf\\lib\\site-packages\\keras\\src\\engine\\training.py:3000: UserWarning: You are saving your model as an HDF5 file via `model.save()`. This file format is considered legacy. We recommend using instead the native Keras format, e.g. `model.save('my_model.keras')`.\n",
            "  saving_api.save_model(\n"
          ]
        }
      ],
      "source": [
        "# Training\n",
        "\n",
        "# Define model \n",
        "model = cnn_seq_model(L1=420, L2=60)\n",
        "\n",
        "# Training parameters \n",
        "batch_size = 500\n",
        "EpochCount = 120\n",
        "#EpochCount = 5 #Used for quick excusion of the Notebook; please use a higher number instead to allow proper convergence\n",
        "\n",
        "# train model \n",
        "model.fit(train_x, train_y, batch_size=batch_size, epochs=EpochCount, \n",
        "          validation_data=(validate_x, validate_y),verbose=2,\n",
        "              callbacks=[CustomEarlyStopping(ratio=0.90, patience=30, restore_best_weights = True)])\n",
        "\n",
        "# Save model\n",
        "ModelFileName = 'pretrain/model_1st_cnn_seq_nor_package'\n",
        "model.save(ModelFileName+'.h5')"
      ]
    },
    {
      "cell_type": "markdown",
      "metadata": {},
      "source": [
        "#### Model validation\n",
        "· `Train-data validation` \n",
        "\n"
      ]
    },
    {
      "cell_type": "code",
      "execution_count": 10,
      "metadata": {
        "ExecuteTime": {
          "end_time": "2021-06-15T18:02:53.571538Z",
          "start_time": "2021-06-15T18:02:46.205042Z"
        }
      },
      "outputs": [
        {
          "name": "stdout",
          "output_type": "stream",
          "text": [
            "44/44 [==============================] - 0s 5ms/step\n"
          ]
        },
        {
          "data": {
            "text/html": [
              "<div>\n",
              "<style scoped>\n",
              "    .dataframe tbody tr th:only-of-type {\n",
              "        vertical-align: middle;\n",
              "    }\n",
              "\n",
              "    .dataframe tbody tr th {\n",
              "        vertical-align: top;\n",
              "    }\n",
              "\n",
              "    .dataframe thead th {\n",
              "        text-align: right;\n",
              "    }\n",
              "</style>\n",
              "<table border=\"1\" class=\"dataframe\">\n",
              "  <thead>\n",
              "    <tr style=\"text-align: right;\">\n",
              "      <th></th>\n",
              "      <th>y_pred</th>\n",
              "      <th>y_true</th>\n",
              "    </tr>\n",
              "  </thead>\n",
              "  <tbody>\n",
              "    <tr>\n",
              "      <th>0</th>\n",
              "      <td>0.002503</td>\n",
              "      <td>-0.656281</td>\n",
              "    </tr>\n",
              "    <tr>\n",
              "      <th>1</th>\n",
              "      <td>-1.796160</td>\n",
              "      <td>-2.905930</td>\n",
              "    </tr>\n",
              "    <tr>\n",
              "      <th>2</th>\n",
              "      <td>-0.813735</td>\n",
              "      <td>0.435287</td>\n",
              "    </tr>\n",
              "    <tr>\n",
              "      <th>3</th>\n",
              "      <td>-0.999000</td>\n",
              "      <td>-2.924770</td>\n",
              "    </tr>\n",
              "    <tr>\n",
              "      <th>4</th>\n",
              "      <td>-2.222145</td>\n",
              "      <td>-5.273660</td>\n",
              "    </tr>\n",
              "    <tr>\n",
              "      <th>...</th>\n",
              "      <td>...</td>\n",
              "      <td>...</td>\n",
              "    </tr>\n",
              "    <tr>\n",
              "      <th>1395</th>\n",
              "      <td>-1.763734</td>\n",
              "      <td>-0.927489</td>\n",
              "    </tr>\n",
              "    <tr>\n",
              "      <th>1396</th>\n",
              "      <td>-3.886574</td>\n",
              "      <td>-3.629810</td>\n",
              "    </tr>\n",
              "    <tr>\n",
              "      <th>1397</th>\n",
              "      <td>-2.791126</td>\n",
              "      <td>-0.686392</td>\n",
              "    </tr>\n",
              "    <tr>\n",
              "      <th>1398</th>\n",
              "      <td>-1.099182</td>\n",
              "      <td>1.677620</td>\n",
              "    </tr>\n",
              "    <tr>\n",
              "      <th>1399</th>\n",
              "      <td>-3.532357</td>\n",
              "      <td>-3.759090</td>\n",
              "    </tr>\n",
              "  </tbody>\n",
              "</table>\n",
              "<p>1400 rows × 2 columns</p>\n",
              "</div>"
            ],
            "text/plain": [
              "        y_pred    y_true\n",
              "0     0.002503 -0.656281\n",
              "1    -1.796160 -2.905930\n",
              "2    -0.813735  0.435287\n",
              "3    -0.999000 -2.924770\n",
              "4    -2.222145 -5.273660\n",
              "...        ...       ...\n",
              "1395 -1.763734 -0.927489\n",
              "1396 -3.886574 -3.629810\n",
              "1397 -2.791126 -0.686392\n",
              "1398 -1.099182  1.677620\n",
              "1399 -3.532357 -3.759090\n",
              "\n",
              "[1400 rows x 2 columns]"
            ]
          },
          "execution_count": 10,
          "metadata": {},
          "output_type": "execute_result"
        }
      ],
      "source": [
        "\n",
        "# Predict for train variants\n",
        "y = model.predict(train_x)\n",
        "x = np.array(train_y)\n",
        "y = np.reshape(y, (1,y.shape[0]))[0]\n",
        "preds_df = pd.DataFrame(columns=['y_pred','y_true'])\n",
        "preds_df['y_pred'] = pd.DataFrame(y)\n",
        "preds_df['y_true']  = pd.DataFrame(x)\n",
        "preds_df \n"
      ]
    },
    {
      "cell_type": "code",
      "execution_count": 11,
      "metadata": {},
      "outputs": [
        {
          "ename": "ValueError",
          "evalue": "Cannot take a larger sample than population when 'replace=False'",
          "output_type": "error",
          "traceback": [
            "\u001b[1;31m---------------------------------------------------------------------------\u001b[0m",
            "\u001b[1;31mValueError\u001b[0m                                Traceback (most recent call last)",
            "Cell \u001b[1;32mIn[11], line 17\u001b[0m\n\u001b[0;32m     12\u001b[0m y_missing \u001b[38;5;241m=\u001b[39m y[np\u001b[38;5;241m.\u001b[39misinf(x)]\n\u001b[0;32m     13\u001b[0m x_missing \u001b[38;5;241m=\u001b[39m x[np\u001b[38;5;241m.\u001b[39misinf(y)]\n\u001b[0;32m     16\u001b[0m kernel \u001b[38;5;241m=\u001b[39m gaussian_kde(np\u001b[38;5;241m.\u001b[39mvstack([\n\u001b[1;32m---> 17\u001b[0m     \u001b[43mx_both\u001b[49m\u001b[38;5;241;43m.\u001b[39;49m\u001b[43msample\u001b[49m\u001b[43m(\u001b[49m\u001b[43mn\u001b[49m\u001b[38;5;241;43m=\u001b[39;49m\u001b[38;5;241;43m2000\u001b[39;49m\u001b[43m,\u001b[49m\u001b[43m \u001b[49m\u001b[43mrandom_state\u001b[49m\u001b[38;5;241;43m=\u001b[39;49m\u001b[38;5;241;43m1\u001b[39;49m\u001b[43m)\u001b[49m, \n\u001b[0;32m     18\u001b[0m     y_both\u001b[38;5;241m.\u001b[39msample(n\u001b[38;5;241m=\u001b[39m\u001b[38;5;241m2000\u001b[39m, random_state\u001b[38;5;241m=\u001b[39m\u001b[38;5;241m1\u001b[39m)\n\u001b[0;32m     19\u001b[0m ]))\n\u001b[0;32m     20\u001b[0m c_both \u001b[38;5;241m=\u001b[39m kernel(np\u001b[38;5;241m.\u001b[39mvstack([x_both\u001b[38;5;241m.\u001b[39mvalues, y_both\u001b[38;5;241m.\u001b[39mvalues]))\n",
            "File \u001b[1;32md:\\ProgramData\\anaconda3\\envs\\tf\\lib\\site-packages\\pandas\\core\\generic.py:5858\u001b[0m, in \u001b[0;36mNDFrame.sample\u001b[1;34m(self, n, frac, replace, weights, random_state, axis, ignore_index)\u001b[0m\n\u001b[0;32m   5855\u001b[0m \u001b[38;5;28;01mif\u001b[39;00m weights \u001b[38;5;129;01mis\u001b[39;00m \u001b[38;5;129;01mnot\u001b[39;00m \u001b[38;5;28;01mNone\u001b[39;00m:\n\u001b[0;32m   5856\u001b[0m     weights \u001b[38;5;241m=\u001b[39m sample\u001b[38;5;241m.\u001b[39mpreprocess_weights(\u001b[38;5;28mself\u001b[39m, weights, axis)\n\u001b[1;32m-> 5858\u001b[0m sampled_indices \u001b[38;5;241m=\u001b[39m \u001b[43msample\u001b[49m\u001b[38;5;241;43m.\u001b[39;49m\u001b[43msample\u001b[49m\u001b[43m(\u001b[49m\u001b[43mobj_len\u001b[49m\u001b[43m,\u001b[49m\u001b[43m \u001b[49m\u001b[43msize\u001b[49m\u001b[43m,\u001b[49m\u001b[43m \u001b[49m\u001b[43mreplace\u001b[49m\u001b[43m,\u001b[49m\u001b[43m \u001b[49m\u001b[43mweights\u001b[49m\u001b[43m,\u001b[49m\u001b[43m \u001b[49m\u001b[43mrs\u001b[49m\u001b[43m)\u001b[49m\n\u001b[0;32m   5859\u001b[0m result \u001b[38;5;241m=\u001b[39m \u001b[38;5;28mself\u001b[39m\u001b[38;5;241m.\u001b[39mtake(sampled_indices, axis\u001b[38;5;241m=\u001b[39maxis)\n\u001b[0;32m   5861\u001b[0m \u001b[38;5;28;01mif\u001b[39;00m ignore_index:\n",
            "File \u001b[1;32md:\\ProgramData\\anaconda3\\envs\\tf\\lib\\site-packages\\pandas\\core\\sample.py:151\u001b[0m, in \u001b[0;36msample\u001b[1;34m(obj_len, size, replace, weights, random_state)\u001b[0m\n\u001b[0;32m    148\u001b[0m     \u001b[38;5;28;01melse\u001b[39;00m:\n\u001b[0;32m    149\u001b[0m         \u001b[38;5;28;01mraise\u001b[39;00m \u001b[38;5;167;01mValueError\u001b[39;00m(\u001b[38;5;124m\"\u001b[39m\u001b[38;5;124mInvalid weights: weights sum to zero\u001b[39m\u001b[38;5;124m\"\u001b[39m)\n\u001b[1;32m--> 151\u001b[0m \u001b[38;5;28;01mreturn\u001b[39;00m \u001b[43mrandom_state\u001b[49m\u001b[38;5;241;43m.\u001b[39;49m\u001b[43mchoice\u001b[49m\u001b[43m(\u001b[49m\u001b[43mobj_len\u001b[49m\u001b[43m,\u001b[49m\u001b[43m \u001b[49m\u001b[43msize\u001b[49m\u001b[38;5;241;43m=\u001b[39;49m\u001b[43msize\u001b[49m\u001b[43m,\u001b[49m\u001b[43m \u001b[49m\u001b[43mreplace\u001b[49m\u001b[38;5;241;43m=\u001b[39;49m\u001b[43mreplace\u001b[49m\u001b[43m,\u001b[49m\u001b[43m \u001b[49m\u001b[43mp\u001b[49m\u001b[38;5;241;43m=\u001b[39;49m\u001b[43mweights\u001b[49m\u001b[43m)\u001b[49m\u001b[38;5;241m.\u001b[39mastype(\n\u001b[0;32m    152\u001b[0m     np\u001b[38;5;241m.\u001b[39mintp, copy\u001b[38;5;241m=\u001b[39m\u001b[38;5;28;01mFalse\u001b[39;00m\n\u001b[0;32m    153\u001b[0m )\n",
            "File \u001b[1;32mmtrand.pyx:965\u001b[0m, in \u001b[0;36mnumpy.random.mtrand.RandomState.choice\u001b[1;34m()\u001b[0m\n",
            "\u001b[1;31mValueError\u001b[0m: Cannot take a larger sample than population when 'replace=False'"
          ]
        }
      ],
      "source": [
        "x = preds_df['y_pred']  \n",
        "y = preds_df['y_true']   \n",
        "preds_df['y_pred'][:1000].corr(preds_df['y_true'][:1000])\n",
        "remove = np.isinf(x) & np.isinf(y)\n",
        "x = x[~remove]\n",
        "y = y[~remove]\n",
        "\n",
        "keep = (~np.isinf(x)) & (~np.isinf(y))\n",
        "x_both = x[keep]\n",
        "y_both = y[keep]\n",
        "\n",
        "y_missing = y[np.isinf(x)]\n",
        "x_missing = x[np.isinf(y)]\n",
        "\n",
        "\n",
        "kernel = gaussian_kde(np.vstack([\n",
        "    x_both.sample(n=2000, random_state=1), \n",
        "    y_both.sample(n=2000, random_state=1)\n",
        "]))\n",
        "c_both = kernel(np.vstack([x_both.values, y_both.values]))"
      ]
    },
    {
      "cell_type": "code",
      "execution_count": null,
      "metadata": {},
      "outputs": [
        {
          "name": "stderr",
          "output_type": "stream",
          "text": [
            "d:\\ProgramData\\anaconda3\\envs\\tf\\lib\\site-packages\\numpy\\lib\\histograms.py:906: RuntimeWarning: invalid value encountered in divide\n",
            "  return n/db/n.sum(), bin_edges\n",
            "meta NOT subset; don't know how to subset; dropped\n"
          ]
        },
        {
          "data": {
            "image/png": "[encoded data removed]",
            "text/plain": [
              "<Figure size 210x195 with 4 Axes>"
            ]
          },
          "metadata": {},
          "output_type": "display_data"
        }
      ],
      "source": [
        "fig = plt.figure(figsize=(1.4,1.3), dpi=150)\n",
        "gs = fig.add_gridspec(2, 2, left=0.275, right=0.95, bottom=0.22, top=0.95, \n",
        "                      width_ratios=[1, 6], height_ratios=[6, 1], hspace=0., wspace=0)\n",
        "ax = fig.add_subplot(gs[0, 1])\n",
        "ax.scatter(x_both, y_both, c=c_both, cmap=mpl.cm.inferno, s=0.2, edgecolor='none', rasterized=True)\n",
        "ax.set_xticks([]); ax.set_yticks([])\n",
        "xlim = [-11, 12]\n",
        "bins = np.linspace(*xlim, 25)\n",
        "ax.set_xlim(xlim); ax.set_ylim(xlim)\n",
        "ax.text(0.03, 0.97, r'$r$ = {:.4f}'.format(np.corrcoef(x_both, y_both)[0, 1]),\n",
        "       transform=ax.transAxes, ha='left', va='top', fontsize=7)\n",
        "\n",
        "ax.text(0.97, 0.01, 'n={}'.format(si_format(len(x_both)), precision=2, format_str='{value}{prefix}',), \n",
        "        transform=ax.transAxes, ha='right', va='bottom', fontsize=7)\n",
        "\n",
        "# Left Marginal\n",
        "ax = fig.add_subplot(gs[0, 0])\n",
        "ax.hist(y_missing, bins=bins, edgecolor='none', orientation='horizontal', density=True, color='r')\n",
        "ax.set_ylim(xlim)\n",
        "ax.set_xticks([]); ax.set_yticks([-5, 0, 5, 10, 15,20])\n",
        "ax.text(0.97, 0.97, 'n={}'.format(si_format(len(y_missing)), precision=2, format_str='{value}{prefix}',), \n",
        "        transform=ax.transAxes, ha='right', va='top', fontsize=7, rotation=90, color='r')\n",
        "ax.set_ylabel('Prediction', labelpad=2,fontsize=8)\n",
        "ax.tick_params(axis='both', labelsize=7, length=2, pad=1)\n",
        "\n",
        "# Bottom Marginal\n",
        "ax = fig.add_subplot(gs[1, 1])\n",
        "ax.hist(x_missing, bins=bins, edgecolor='none', density=True, color='r')\n",
        "ax.set_xlim(xlim)\n",
        "ax.set_xticks([-5, 0, 5, 10, 15,20]); ax.set_yticks([])\n",
        "ax.text(0.97, 0.8, 'n={}'.format(si_format(len(x_missing)), precision=2, format_str='{value}{prefix}',), \n",
        "        transform=ax.transAxes, ha='right', va='top', fontsize=7, color='r')\n",
        "ax.set_xlabel('Truth', labelpad=2,fontsize=8)\n",
        "ax.tick_params(axis='both', labelsize=7, length=2, pad=1)\n",
        "\n",
        "# Missing label (not detected in either)\n",
        "ax = fig.add_subplot(gs[1, 0])\n",
        "for spine in ['bottom', 'left']:\n",
        "    ax.spines[spine].set_visible(False)\n",
        "ax.set_xticks([]); ax.set_yticks([])\n",
        "\n",
        "ax.text(0.8, 0.8, 'Missing', transform=ax.transAxes, color='r', ha='right', va='top', fontsize=7, clip_on=False)\n",
        "fig.savefig('../results/cnn/1st_results/nor_package/1st_seq_nor_package_prediction_correlation_train.pdf',dpi=300,bbox_inches='tight')"
      ]
    },
    {
      "cell_type": "code",
      "execution_count": null,
      "metadata": {},
      "outputs": [
        {
          "name": "stderr",
          "output_type": "stream",
          "text": [
            "meta NOT subset; don't know how to subset; dropped\n"
          ]
        },
        {
          "data": {
            "image/png": "[encoded data removed]",
            "text/plain": [
              "<Figure size 180x150 with 1 Axes>"
            ]
          },
          "metadata": {},
          "output_type": "display_data"
        }
      ],
      "source": [
        "data = np.array(preds_df['y_pred']) \n",
        "data = data.reshape(-1, 1)  # 将数据转换成列向量的形式\n",
        "\n",
        "# 使用GaussianMixture拟合数据\n",
        "n_components = 2 # 设置混合模型的分量个数\n",
        "gmm = GaussianMixture(n_components=n_components)\n",
        "gmm.fit(data)\n",
        "\n",
        "# 获取每个分量的均值和协方差矩阵\n",
        "means = gmm.means_\n",
        "covariances = gmm.covariances_\n",
        "\n",
        "# 生成拟合后的分布\n",
        "x = np.linspace(-7, 8, 100000)\n",
        "x = x.reshape(-1, 1)\n",
        "y = np.exp(gmm.score_samples(x))\n",
        "\n",
        "fig,ax = plt.subplots(figsize=(1.8,1.5),dpi=100)\n",
        "# 绘制原始数据和拟合后的分布\n",
        "plt.hist(data, bins=100, density=True, alpha=0.6, color = '#BAB3A3',label='Prediction')\n",
        "#plt.plot(x, y, '-r', label='GMM fit')\n",
        "\n",
        "\n",
        "# 绘制每个分量的正态分布\n",
        "for i in range(n_components):\n",
        "    component = np.exp(-(x - means[i]) ** 2 / (2 * covariances[i]))\n",
        "    component /= np.sqrt(2 * np.pi * covariances[i])\n",
        "    component *= gmm.weights_[i]\n",
        "    if i == 0:\n",
        "        ax.plot(x, component, '-', label=f'Distribution {i + 1}', color='#F66E68', alpha=1)\n",
        "        ax.fill_between(x.flatten(), 0, component.flatten(), color='#F66E68', alpha=0.4)\n",
        "    else:\n",
        "        ax.plot(x, component, '-', label=f'Distribution {i + 1}', color='#457B9D', alpha=1)\n",
        "        ax.fill_between(x.flatten(), 0, component.flatten(), color='#457B9D', alpha=0.4)\n",
        "\n",
        "\n",
        "plt.title('Prediction',fontsize=10)\n",
        "ax.tick_params(axis='both', which='both', length=2,labelsize=10)\n",
        "ax.set_xticks([-5, 0, 5, ]); \n",
        "\n",
        "plt.ylabel('Density',labelpad=1,fontsize=10)\n",
        "plt.xlabel('Nor_package',labelpad=1,fontsize=10)\n",
        "plt.legend(fontsize=7,frameon=False)\n",
        "fig.savefig('../results/cnn/1st_results/nor_package/1st_seq_nor_package_prediction_distribution_train.pdf',dpi=300,bbox_inches='tight')"
      ]
    },
    {
      "cell_type": "markdown",
      "metadata": {},
      "source": [
        "· `Test-data validation` "
      ]
    },
    {
      "cell_type": "code",
      "execution_count": null,
      "metadata": {},
      "outputs": [
        {
          "name": "stdout",
          "output_type": "stream",
          "text": [
            "48358/48358 [==============================] - 259s 5ms/step\n"
          ]
        },
        {
          "data": {
            "text/html": [
              "<div>\n",
              "<style scoped>\n",
              "    .dataframe tbody tr th:only-of-type {\n",
              "        vertical-align: middle;\n",
              "    }\n",
              "\n",
              "    .dataframe tbody tr th {\n",
              "        vertical-align: top;\n",
              "    }\n",
              "\n",
              "    .dataframe thead th {\n",
              "        text-align: right;\n",
              "    }\n",
              "</style>\n",
              "<table border=\"1\" class=\"dataframe\">\n",
              "  <thead>\n",
              "    <tr style=\"text-align: right;\">\n",
              "      <th></th>\n",
              "      <th>y_pred</th>\n",
              "      <th>y_true</th>\n",
              "    </tr>\n",
              "  </thead>\n",
              "  <tbody>\n",
              "    <tr>\n",
              "      <th>0</th>\n",
              "      <td>-1.602834</td>\n",
              "      <td>1.017890</td>\n",
              "    </tr>\n",
              "    <tr>\n",
              "      <th>1</th>\n",
              "      <td>-1.107539</td>\n",
              "      <td>-0.394519</td>\n",
              "    </tr>\n",
              "    <tr>\n",
              "      <th>2</th>\n",
              "      <td>-4.582668</td>\n",
              "      <td>-5.905930</td>\n",
              "    </tr>\n",
              "    <tr>\n",
              "      <th>3</th>\n",
              "      <td>-1.461334</td>\n",
              "      <td>-4.121660</td>\n",
              "    </tr>\n",
              "    <tr>\n",
              "      <th>4</th>\n",
              "      <td>-2.475054</td>\n",
              "      <td>1.048260</td>\n",
              "    </tr>\n",
              "    <tr>\n",
              "      <th>...</th>\n",
              "      <td>...</td>\n",
              "      <td>...</td>\n",
              "    </tr>\n",
              "    <tr>\n",
              "      <th>1547442</th>\n",
              "      <td>-1.347496</td>\n",
              "      <td>-2.247190</td>\n",
              "    </tr>\n",
              "    <tr>\n",
              "      <th>1547443</th>\n",
              "      <td>-4.305791</td>\n",
              "      <td>-0.688702</td>\n",
              "    </tr>\n",
              "    <tr>\n",
              "      <th>1547444</th>\n",
              "      <td>-3.904228</td>\n",
              "      <td>-5.389140</td>\n",
              "    </tr>\n",
              "    <tr>\n",
              "      <th>1547445</th>\n",
              "      <td>-4.562573</td>\n",
              "      <td>-1.951740</td>\n",
              "    </tr>\n",
              "    <tr>\n",
              "      <th>1547446</th>\n",
              "      <td>-5.074244</td>\n",
              "      <td>-4.121660</td>\n",
              "    </tr>\n",
              "  </tbody>\n",
              "</table>\n",
              "<p>1547447 rows × 2 columns</p>\n",
              "</div>"
            ],
            "text/plain": [
              "           y_pred    y_true\n",
              "0       -1.602834  1.017890\n",
              "1       -1.107539 -0.394519\n",
              "2       -4.582668 -5.905930\n",
              "3       -1.461334 -4.121660\n",
              "4       -2.475054  1.048260\n",
              "...           ...       ...\n",
              "1547442 -1.347496 -2.247190\n",
              "1547443 -4.305791 -0.688702\n",
              "1547444 -3.904228 -5.389140\n",
              "1547445 -4.562573 -1.951740\n",
              "1547446 -5.074244 -4.121660\n",
              "\n",
              "[1547447 rows x 2 columns]"
            ]
          },
          "execution_count": 18,
          "metadata": {},
          "output_type": "execute_result"
        }
      ],
      "source": [
        "\n",
        "# Predict for test variants\n",
        "y = model.predict(test_x)\n",
        "x = np.array(test_y)\n",
        "y = np.reshape(y, (1,y.shape[0]))[0]\n",
        "preds_df = pd.DataFrame(columns=['y_pred','y_true'])\n",
        "preds_df['y_pred'] = pd.DataFrame(y)\n",
        "preds_df['y_true']  = pd.DataFrame(x)\n",
        "preds_df \n"
      ]
    },
    {
      "cell_type": "code",
      "execution_count": null,
      "metadata": {},
      "outputs": [
        {
          "name": "stderr",
          "output_type": "stream",
          "text": [
            "d:\\ProgramData\\anaconda3\\envs\\tf\\lib\\site-packages\\numpy\\lib\\histograms.py:906: RuntimeWarning: invalid value encountered in divide\n",
            "  return n/db/n.sum(), bin_edges\n",
            "meta NOT subset; don't know how to subset; dropped\n"
          ]
        },
        {
          "data": {
            "image/png": "[encoded data removed]",
            "text/plain": [
              "<Figure size 210x195 with 4 Axes>"
            ]
          },
          "metadata": {},
          "output_type": "display_data"
        }
      ],
      "source": [
        "x = preds_df['y_pred']  \n",
        "y = preds_df['y_true']   \n",
        "preds_df['y_pred'][:1000].corr(preds_df['y_true'][:1000])\n",
        "remove = np.isinf(x) & np.isinf(y)\n",
        "x = x[~remove]\n",
        "y = y[~remove]\n",
        "\n",
        "keep = (~np.isinf(x)) & (~np.isinf(y))\n",
        "x_both = x[keep]\n",
        "y_both = y[keep]\n",
        "\n",
        "y_missing = y[np.isinf(x)]\n",
        "x_missing = x[np.isinf(y)]\n",
        "\n",
        "\n",
        "kernel = gaussian_kde(np.vstack([\n",
        "    x_both.sample(n=2000, random_state=1), \n",
        "    y_both.sample(n=2000, random_state=1)\n",
        "]))\n",
        "c_both = kernel(np.vstack([x_both.values, y_both.values]))\n",
        "\n",
        "fig = plt.figure(figsize=(1.4,1.3), dpi=150)\n",
        "gs = fig.add_gridspec(2, 2, left=0.275, right=0.95, bottom=0.22, top=0.95, \n",
        "                      width_ratios=[1, 6], height_ratios=[6, 1], hspace=0., wspace=0)\n",
        "ax = fig.add_subplot(gs[0, 1])\n",
        "ax.scatter(x_both, y_both, c=c_both, cmap=mpl.cm.inferno, s=0.2, edgecolor='none', rasterized=True)\n",
        "ax.set_xticks([]); ax.set_yticks([])\n",
        "xlim = [-11, 12]\n",
        "bins = np.linspace(*xlim, 25)\n",
        "ax.set_xlim(xlim); ax.set_ylim(xlim)\n",
        "ax.text(0.03, 0.97, r'$r$ = {:.4f}'.format(np.corrcoef(x_both, y_both)[0, 1]),\n",
        "       transform=ax.transAxes, ha='left', va='top', fontsize=7)\n",
        "\n",
        "ax.text(0.97, 0.01, 'n={}'.format(si_format(len(x_both)), precision=2, format_str='{value}{prefix}',), \n",
        "        transform=ax.transAxes, ha='right', va='bottom', fontsize=7)\n",
        "\n",
        "# Left Marginal\n",
        "ax = fig.add_subplot(gs[0, 0])\n",
        "ax.hist(y_missing, bins=bins, edgecolor='none', orientation='horizontal', density=True, color='r')\n",
        "ax.set_ylim(xlim)\n",
        "ax.set_xticks([]); ax.set_yticks([-5, 0, 5, 10, 15,20])\n",
        "ax.text(0.97, 0.97, 'n={}'.format(si_format(len(y_missing)), precision=2, format_str='{value}{prefix}',), \n",
        "        transform=ax.transAxes, ha='right', va='top', fontsize=7, rotation=90, color='r')\n",
        "ax.set_ylabel('Prediction', labelpad=2,fontsize=8)\n",
        "ax.tick_params(axis='both', labelsize=7, length=2, pad=1)\n",
        "\n",
        "# Bottom Marginal\n",
        "ax = fig.add_subplot(gs[1, 1])\n",
        "ax.hist(x_missing, bins=bins, edgecolor='none', density=True, color='r')\n",
        "ax.set_xlim(xlim)\n",
        "ax.set_xticks([-5, 0, 5, 10, 15,20]); ax.set_yticks([])\n",
        "ax.text(0.97, 0.8, 'n={}'.format(si_format(len(x_missing)), precision=2, format_str='{value}{prefix}',), \n",
        "        transform=ax.transAxes, ha='right', va='top', fontsize=7, color='r')\n",
        "ax.set_xlabel('Truth', labelpad=2,fontsize=8)\n",
        "ax.tick_params(axis='both', labelsize=6, length=2, pad=1)\n",
        "\n",
        "# Missing label (not detected in either)\n",
        "ax = fig.add_subplot(gs[1, 0])\n",
        "for spine in ['bottom', 'left']:\n",
        "    ax.spines[spine].set_visible(False)\n",
        "ax.set_xticks([]); ax.set_yticks([])\n",
        "\n",
        "ax.text(0.8, 0.8, 'Missing', transform=ax.transAxes, color='r', ha='right', va='top', fontsize=7, clip_on=False)\n",
        "fig.savefig('../results/cnn/1st_results/nor_package/1st_seq_nor_package_prediction_correlation_test.pdf',dpi=300,bbox_inches='tight')"
      ]
    },
    {
      "cell_type": "code",
      "execution_count": 12,
      "metadata": {
        "ExecuteTime": {
          "end_time": "2021-06-15T18:04:49.108828Z",
          "start_time": "2021-06-15T18:04:38.468240Z"
        }
      },
      "outputs": [
        {
          "name": "stderr",
          "output_type": "stream",
          "text": [
            "meta NOT subset; don't know how to subset; dropped\n"
          ]
        },
        {
          "data": {
            "image/png": "[encoded data removed]",
            "text/plain": [
              "<Figure size 180x150 with 1 Axes>"
            ]
          },
          "metadata": {},
          "output_type": "display_data"
        }
      ],
      "source": [
        "data = np.array(preds_df['y_pred']) \n",
        "data = data.reshape(-1, 1)  # 将数据转换成列向量的形式\n",
        "\n",
        "# 使用GaussianMixture拟合数据\n",
        "n_components = 2 # 设置混合模型的分量个数\n",
        "gmm = GaussianMixture(n_components=n_components)\n",
        "gmm.fit(data)\n",
        "\n",
        "# 获取每个分量的均值和协方差矩阵\n",
        "means = gmm.means_\n",
        "covariances = gmm.covariances_\n",
        "\n",
        "# 生成拟合后的分布\n",
        "x = np.linspace(-7, 8, 100000)\n",
        "x = x.reshape(-1, 1)\n",
        "y = np.exp(gmm.score_samples(x))\n",
        "\n",
        "fig,ax = plt.subplots(figsize=(1.8,1.5),dpi=100)\n",
        "# 绘制原始数据和拟合后的分布\n",
        "plt.hist(data, bins=100, density=True, alpha=0.6, color = '#BAB3A3',label='Prediction')\n",
        "#plt.plot(x, y, '-r', label='GMM fit')\n",
        "\n",
        "\n",
        "# 绘制每个分量的正态分布\n",
        "for i in range(n_components):\n",
        "    component = np.exp(-(x - means[i]) ** 2 / (2 * covariances[i]))\n",
        "    component /= np.sqrt(2 * np.pi * covariances[i])\n",
        "    component *= gmm.weights_[i]\n",
        "    if i == 0:\n",
        "        ax.plot(x, component, '-', label=f'Distribution {i + 1}', color='#F66E68', alpha=1)\n",
        "        ax.fill_between(x.flatten(), 0, component.flatten(), color='#F66E68', alpha=0.4)\n",
        "    else:\n",
        "        ax.plot(x, component, '-', label=f'Distribution {i + 1}', color='#457B9D', alpha=1)\n",
        "        ax.fill_between(x.flatten(), 0, component.flatten(), color='#457B9D', alpha=0.4)\n",
        "\n",
        "\n",
        "plt.title('Prediction',fontsize=10)\n",
        "ax.tick_params(axis='both', which='both', length=2,labelsize=10)\n",
        "ax.set_xticks([-5, 0, 5, ]); \n",
        "# ax.set_yticks([])\n",
        "plt.ylabel('Density',labelpad=1,fontsize=10)\n",
        "plt.xlabel('Nor_package',labelpad=1,fontsize=10)\n",
        "plt.legend(fontsize=7,frameon=False)\n",
        "fig.savefig('../results/cnn/1st_results/nor_package/1st_seq_nor_package_prediction_distribution_test.pdf',dpi=300,bbox_inches='tight')"
      ]
    },
    {
      "cell_type": "code",
      "execution_count": null,
      "metadata": {},
      "outputs": [],
      "source": []
    }
  ],
  "metadata": {
    "kernelspec": {
      "display_name": "Python 3 (ipykernel)",
      "language": "python",
      "name": "python3"
    },
    "language_info": {
      "codemirror_mode": {
        "name": "ipython",
        "version": 3
      },
      "file_extension": ".py",
      "mimetype": "text/x-python",
      "name": "python",
      "nbconvert_exporter": "python",
      "pygments_lexer": "ipython3",
      "version": "3.8.16"
    },
    "toc": {
      "base_numbering": 1,
      "nav_menu": {},
      "number_sections": true,
      "sideBar": true,
      "skip_h1_title": false,
      "title_cell": "Table of Contents",
      "title_sidebar": "Contents",
      "toc_cell": true,
      "toc_position": {
        "height": "calc(100% - 180px)",
        "left": "10px",
        "top": "150px",
        "width": "320px"
      },
      "toc_section_display": true,
      "toc_window_display": true
    }
  },
  "nbformat": 4,
  "nbformat_minor": 4
}
