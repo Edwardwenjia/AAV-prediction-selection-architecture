{
  "cells": [
    {
      "cell_type": "code",
      "execution_count": 1,
      "metadata": {
        "ExecuteTime": {
          "end_time": "2021-06-15T17:13:58.134959Z",
          "start_time": "2021-06-15T17:13:57.550003Z"
        }
      },
      "outputs": [],
      "source": [
        "import pandas as pd\n",
        "import numpy as np\n",
        "import matplotlib as mpl\n",
        "import matplotlib.pyplot as plt\n",
        "import seaborn as sns\n",
        "from IPython.display import Image\n",
        "from scipy.stats import gaussian_kde, norm\n",
        "from sklearn.mixture import GaussianMixture\n",
        "\n",
        "from utils_f4f import CustomEarlyStopping, cnn_aa_model,AA_hotencoding ,heatmap, si_format\n",
        "\n"
      ]
    },
    {
      "cell_type": "code",
      "execution_count": 2,
      "metadata": {
        "ExecuteTime": {
          "end_time": "2021-06-15T17:13:58.138092Z",
          "start_time": "2021-06-15T17:13:58.136004Z"
        }
      },
      "outputs": [],
      "source": [
        "mpl.rcParams['svg.fonttype'] = 'none'\n",
        "mpl.rcParams['font.family'] = ['sans-serif']\n",
        "mpl.rcParams['font.sans-serif'] = ['Arial']\n",
        "mpl.rcParams['text.usetex'] = False\n",
        "mpl.rcParams['pdf.fonttype'] = 42\n",
        "mpl.rcParams['ps.fonttype'] = 42"
      ]
    },
    {
      "cell_type": "markdown",
      "metadata": {},
      "source": [
        "------\n",
        "\n",
        "# Production Fitness Modeling\n"
      ]
    },
    {
      "cell_type": "code",
      "execution_count": 3,
      "metadata": {},
      "outputs": [],
      "source": [
        "# Data\n",
        "# Modeling data file \n",
        "df_all = pd.read_csv('../data/2nd_10209_Package_aa.tsv', delimiter='\\t')\n",
        "df_modeling = df_all.rename(columns={'aa':'AA_seqenece'})\n",
        "df_modeling['label']=0\n",
        "df_modeling = df_modeling[['AA_seqenece', 'nor_package', 'label']]\n",
        "df_missing = df_modeling[np.isinf(df_modeling['nor_package']) ]#\n",
        "df_modeling = df_modeling[~np.isnan(df_modeling['nor_package']) & ~np.isinf(df_modeling['nor_package'])]\n",
        "df_modeling.reset_index(drop = True, inplace=True)\n",
        "AA_col = 'AA_seqenece'\n",
        "array = 'nor_package'\n",
        "\n"
      ]
    },
    {
      "cell_type": "code",
      "execution_count": 4,
      "metadata": {},
      "outputs": [
        {
          "data": {
            "image/png": "[encoded data removed]",
            "text/plain": [
              "<Figure size 200x170 with 1 Axes>"
            ]
          },
          "metadata": {},
          "output_type": "display_data"
        }
      ],
      "source": [
        "nor_package = df_all[np.isfinite(df_all[array])][array]\n",
        "data = np.array(nor_package) \n",
        "data = data.reshape(-1, 1)  # Convert the data into a column vector\n",
        "\n",
        "# Fit the data using GaussianMixture\n",
        "n_components = 1 # Set the number of components for the hybrid model\n",
        "gmm = GaussianMixture(n_components=n_components)\n",
        "gmm.fit(data)\n",
        "\n",
        "# Get the mean and covariance matrix for each component\n",
        "means = gmm.means_\n",
        "covariances = gmm.covariances_\n",
        "\n",
        "# Generate the fitted distribution\n",
        "x = np.linspace(-10, 5, 10000)\n",
        "x = x.reshape(-1, 1)\n",
        "y = np.exp(gmm.score_samples(x))\n",
        "\n",
        "fig,ax = plt.subplots(figsize=(2,1.7),dpi=100)\n",
        "# Plot the raw data and the distribution after fitting\n",
        "plt.hist(data, bins=100, density=True, alpha=0.6, color = '#BAB3A3',label='Prediction')\n",
        "\n",
        "# 绘制每个分量的正态分布\n",
        "for i in range(n_components):\n",
        "    component = np.exp(-(x - means[i]) ** 2 / (2 * covariances[i]))\n",
        "    component /= np.sqrt(2 * np.pi * covariances[i])\n",
        "    component *= gmm.weights_[i]\n",
        "    if i == 0:\n",
        "        ax.plot(x, component, '-', label=f'Distribution {i + 1}', color='#F66E68', alpha=1)\n",
        "        ax.fill_between(x.flatten(), 0, component.flatten(), color='#F66E68', alpha=0.4)\n",
        "    else:\n",
        "        ax.plot(x, component, '-', label=f'Distribution {i + 1}', color='#457B9D', alpha=1)\n",
        "        ax.fill_between(x.flatten(), 0, component.flatten(), color='#457B9D', alpha=0.4)\n",
        "\n",
        "\n",
        "plt.title('Truth_distribution',fontsize=10)\n",
        "ax.tick_params(axis='both', which='both', length=2,labelsize=8)\n",
        "ax.set_xticks([-1, 0, 1,2,3,4]); \n",
        "ax.set_xlim([-1,4])\n",
        "plt.ylabel('Density',labelpad=2,fontsize=10)\n",
        "plt.xlabel('Nor_package',labelpad=2,fontsize=10)\n",
        "plt.legend(fontsize=7,frameon=False,loc='best')\n",
        "plt.show()"
      ]
    },
    {
      "cell_type": "code",
      "execution_count": null,
      "metadata": {},
      "outputs": [],
      "source": []
    },
    {
      "cell_type": "code",
      "execution_count": null,
      "metadata": {},
      "outputs": [],
      "source": []
    },
    {
      "cell_type": "markdown",
      "metadata": {},
      "source": [
        "### Prep data\n",
        " one-hot encode the `AA_sequence` column and split the data into\n",
        "training and test sets. The training split will be split"
      ]
    },
    {
      "cell_type": "code",
      "execution_count": 5,
      "metadata": {},
      "outputs": [],
      "source": [
        "# Preprocessing\n",
        "df_missing = df_modeling[np.isinf(df_modeling['nor_package']) ]#\n",
        "df_modeling = df_modeling[~np.isnan(df_modeling['nor_package']) & ~np.isinf(df_modeling['nor_package'])]\n",
        "df_modeling.reset_index(drop = True, inplace=True)"
      ]
    },
    {
      "cell_type": "code",
      "execution_count": 6,
      "metadata": {},
      "outputs": [],
      "source": [
        "# Train-Test split\n",
        "train_size = 9160\n",
        "validation_size = 1000\n",
        "train, validate, test = np.split(df_modeling.sample(frac=1), \n",
        "                                 [train_size, train_size+validation_size])"
      ]
    },
    {
      "cell_type": "code",
      "execution_count": 7,
      "metadata": {},
      "outputs": [
        {
          "name": "stdout",
          "output_type": "stream",
          "text": [
            "[[0 0 0 1 0 0 0 0 0 0 0 0 0 0 0 0 0 0 0 0]\n",
            " [0 0 0 0 0 0 0 0 0 0 1 0 0 0 0 0 0 0 0 0]\n",
            " [0 0 0 0 0 0 0 0 0 0 0 0 1 0 0 0 0 0 0 0]\n",
            " [0 0 0 0 0 0 0 0 0 0 0 0 0 0 0 1 0 0 0 0]\n",
            " [0 0 0 0 0 0 0 0 0 0 0 1 0 0 0 0 0 0 0 0]\n",
            " [0 0 0 0 0 0 0 0 0 0 0 0 0 0 0 0 1 0 0 0]\n",
            " [0 0 0 0 0 0 0 0 0 0 0 0 0 0 0 1 0 0 0 0]]\n"
          ]
        }
      ],
      "source": [
        "# Hot Encoding\n",
        "AA_col = 'AA_seqenece'\n",
        "train_x =  np.asarray([AA_hotencoding(variant) for variant in train[AA_col]])\n",
        "train_y = train['nor_package']\n",
        "validate_x = np.asarray([AA_hotencoding(variant) for variant in validate[AA_col]])\n",
        "validate_y = validate['nor_package']\n",
        "test_x = np.asarray([AA_hotencoding(variant) for variant in test[AA_col]])\n",
        "test_y = test['nor_package']\n",
        "missing_x = np.asarray([AA_hotencoding(variant) for variant in df_missing[AA_col]])\n",
        "\n",
        "\n",
        "\n",
        "\n",
        "print(test_x[0])"
      ]
    },
    {
      "cell_type": "code",
      "execution_count": 8,
      "metadata": {},
      "outputs": [
        {
          "name": "stdout",
          "output_type": "stream",
          "text": [
            "Epoch 1/300\n",
            "573/573 - 9s - loss: 0.1379 - mae: 0.2883 - val_loss: 0.1064 - val_mae: 0.2655 - 9s/epoch - 15ms/step\n",
            "Epoch 2/300\n",
            "573/573 - 4s - loss: 0.0966 - mae: 0.2417 - val_loss: 0.0918 - val_mae: 0.2412 - 4s/epoch - 7ms/step\n",
            "Epoch 3/300\n",
            "573/573 - 5s - loss: 0.0914 - mae: 0.2344 - val_loss: 0.0880 - val_mae: 0.2300 - 5s/epoch - 8ms/step\n",
            "Epoch 4/300\n",
            "573/573 - 7s - loss: 0.0898 - mae: 0.2324 - val_loss: 0.0919 - val_mae: 0.2385 - 7s/epoch - 12ms/step\n",
            "Epoch 5/300\n",
            "573/573 - 8s - loss: 0.0879 - mae: 0.2286 - val_loss: 0.0887 - val_mae: 0.2313 - 8s/epoch - 15ms/step\n",
            "Epoch 6/300\n",
            "573/573 - 7s - loss: 0.0858 - mae: 0.2261 - val_loss: 0.0887 - val_mae: 0.2351 - 7s/epoch - 12ms/step\n",
            "Epoch 7/300\n",
            "573/573 - 8s - loss: 0.0855 - mae: 0.2258 - val_loss: 0.0851 - val_mae: 0.2247 - 8s/epoch - 14ms/step\n",
            "Epoch 8/300\n",
            "573/573 - 9s - loss: 0.0846 - mae: 0.2238 - val_loss: 0.0844 - val_mae: 0.2253 - 9s/epoch - 16ms/step\n",
            "Epoch 9/300\n",
            "573/573 - 11s - loss: 0.0842 - mae: 0.2233 - val_loss: 0.0863 - val_mae: 0.2305 - 11s/epoch - 19ms/step\n",
            "Epoch 10/300\n",
            "573/573 - 12s - loss: 0.0833 - mae: 0.2221 - val_loss: 0.0855 - val_mae: 0.2223 - 12s/epoch - 21ms/step\n",
            "Epoch 11/300\n",
            "573/573 - 13s - loss: 0.0838 - mae: 0.2234 - val_loss: 0.0847 - val_mae: 0.2218 - 13s/epoch - 23ms/step\n",
            "Epoch 12/300\n",
            "573/573 - 13s - loss: 0.0816 - mae: 0.2204 - val_loss: 0.0855 - val_mae: 0.2307 - 13s/epoch - 23ms/step\n",
            "Epoch 13/300\n",
            "573/573 - 13s - loss: 0.0814 - mae: 0.2199 - val_loss: 0.0838 - val_mae: 0.2205 - 13s/epoch - 23ms/step\n",
            "Epoch 14/300\n",
            "573/573 - 12s - loss: 0.0806 - mae: 0.2193 - val_loss: 0.0838 - val_mae: 0.2229 - 12s/epoch - 22ms/step\n",
            "Epoch 15/300\n",
            "573/573 - 13s - loss: 0.0795 - mae: 0.2167 - val_loss: 0.0833 - val_mae: 0.2246 - 13s/epoch - 23ms/step\n",
            "Epoch 16/300\n",
            "573/573 - 13s - loss: 0.0790 - mae: 0.2165 - val_loss: 0.0826 - val_mae: 0.2254 - 13s/epoch - 22ms/step\n",
            "Epoch 17/300\n",
            "573/573 - 13s - loss: 0.0785 - mae: 0.2157 - val_loss: 0.0813 - val_mae: 0.2212 - 13s/epoch - 22ms/step\n",
            "Epoch 18/300\n",
            "573/573 - 12s - loss: 0.0781 - mae: 0.2150 - val_loss: 0.0813 - val_mae: 0.2225 - 12s/epoch - 21ms/step\n",
            "Epoch 19/300\n",
            "573/573 - 12s - loss: 0.0779 - mae: 0.2153 - val_loss: 0.0811 - val_mae: 0.2209 - 12s/epoch - 20ms/step\n",
            "Epoch 20/300\n",
            "573/573 - 13s - loss: 0.0777 - mae: 0.2148 - val_loss: 0.0838 - val_mae: 0.2230 - 13s/epoch - 22ms/step\n",
            "Epoch 21/300\n",
            "573/573 - 12s - loss: 0.0771 - mae: 0.2137 - val_loss: 0.0792 - val_mae: 0.2175 - 12s/epoch - 21ms/step\n",
            "Epoch 22/300\n",
            "573/573 - 13s - loss: 0.0769 - mae: 0.2133 - val_loss: 0.0823 - val_mae: 0.2220 - 13s/epoch - 23ms/step\n",
            "Epoch 23/300\n",
            "573/573 - 13s - loss: 0.0762 - mae: 0.2127 - val_loss: 0.0816 - val_mae: 0.2221 - 13s/epoch - 23ms/step\n",
            "Epoch 24/300\n",
            "573/573 - 13s - loss: 0.0766 - mae: 0.2126 - val_loss: 0.0809 - val_mae: 0.2236 - 13s/epoch - 23ms/step\n",
            "Epoch 25/300\n",
            "573/573 - 13s - loss: 0.0755 - mae: 0.2117 - val_loss: 0.0849 - val_mae: 0.2268 - 13s/epoch - 23ms/step\n",
            "Epoch 26/300\n",
            "573/573 - 13s - loss: 0.0750 - mae: 0.2106 - val_loss: 0.0824 - val_mae: 0.2250 - 13s/epoch - 23ms/step\n",
            "Epoch 27/300\n",
            "573/573 - 13s - loss: 0.0750 - mae: 0.2100 - val_loss: 0.0832 - val_mae: 0.2229 - 13s/epoch - 23ms/step\n",
            "Epoch 28/300\n",
            "573/573 - 13s - loss: 0.0745 - mae: 0.2097 - val_loss: 0.0803 - val_mae: 0.2207 - 13s/epoch - 23ms/step\n",
            "Epoch 29/300\n",
            "573/573 - 13s - loss: 0.0741 - mae: 0.2094 - val_loss: 0.0811 - val_mae: 0.2230 - 13s/epoch - 23ms/step\n",
            "Epoch 30/300\n",
            "573/573 - 13s - loss: 0.0733 - mae: 0.2077 - val_loss: 0.0837 - val_mae: 0.2224 - 13s/epoch - 23ms/step\n",
            "Epoch 31/300\n",
            "573/573 - 13s - loss: 0.0731 - mae: 0.2078 - val_loss: 0.0811 - val_mae: 0.2211 - 13s/epoch - 23ms/step\n",
            "Epoch 32/300\n",
            "573/573 - 13s - loss: 0.0721 - mae: 0.2068 - val_loss: 0.0821 - val_mae: 0.2233 - 13s/epoch - 23ms/step\n",
            "Epoch 33/300\n",
            "573/573 - 9s - loss: 0.0717 - mae: 0.2055 - val_loss: 0.0829 - val_mae: 0.2227 - 9s/epoch - 16ms/step\n",
            "Epoch 34/300\n",
            "573/573 - 8s - loss: 0.0721 - mae: 0.2062 - val_loss: 0.0852 - val_mae: 0.2290 - 8s/epoch - 13ms/step\n",
            "Epoch 35/300\n",
            "573/573 - 8s - loss: 0.0707 - mae: 0.2045 - val_loss: 0.0809 - val_mae: 0.2213 - 8s/epoch - 14ms/step\n",
            "Epoch 36/300\n",
            "573/573 - 8s - loss: 0.0695 - mae: 0.2032 - val_loss: 0.0801 - val_mae: 0.2190 - 8s/epoch - 13ms/step\n",
            "Epoch 37/300\n",
            "573/573 - 8s - loss: 0.0682 - mae: 0.2009 - val_loss: 0.0810 - val_mae: 0.2193 - 8s/epoch - 14ms/step\n",
            "Epoch 38/300\n",
            "573/573 - 7s - loss: 0.0680 - mae: 0.2008 - val_loss: 0.0803 - val_mae: 0.2210 - 7s/epoch - 13ms/step\n",
            "Epoch 39/300\n",
            "573/573 - 8s - loss: 0.0670 - mae: 0.1990 - val_loss: 0.0798 - val_mae: 0.2209 - 8s/epoch - 14ms/step\n",
            "Epoch 40/300\n",
            "573/573 - 7s - loss: 0.0661 - mae: 0.1978 - val_loss: 0.0802 - val_mae: 0.2191 - 7s/epoch - 13ms/step\n",
            "Epoch 41/300\n",
            "573/573 - 5s - loss: 0.0661 - mae: 0.1978 - val_loss: 0.0792 - val_mae: 0.2203 - 5s/epoch - 9ms/step\n",
            "Epoch 42/300\n",
            "573/573 - 4s - loss: 0.0651 - mae: 0.1962 - val_loss: 0.0829 - val_mae: 0.2259 - 4s/epoch - 7ms/step\n",
            "Epoch 43/300\n",
            "573/573 - 4s - loss: 0.0652 - mae: 0.1956 - val_loss: 0.0804 - val_mae: 0.2203 - 4s/epoch - 7ms/step\n",
            "Epoch 44/300\n",
            "573/573 - 4s - loss: 0.0639 - mae: 0.1949 - val_loss: 0.0795 - val_mae: 0.2177 - 4s/epoch - 7ms/step\n",
            "Epoch 45/300\n",
            "573/573 - 4s - loss: 0.0631 - mae: 0.1938 - val_loss: 0.0801 - val_mae: 0.2214 - 4s/epoch - 7ms/step\n",
            "Epoch 46/300\n",
            "573/573 - 4s - loss: 0.0628 - mae: 0.1930 - val_loss: 0.0816 - val_mae: 0.2216 - 4s/epoch - 7ms/step\n",
            "Epoch 47/300\n",
            "573/573 - 4s - loss: 0.0622 - mae: 0.1916 - val_loss: 0.0816 - val_mae: 0.2230 - 4s/epoch - 7ms/step\n",
            "Epoch 48/300\n",
            "573/573 - 4s - loss: 0.0612 - mae: 0.1897 - val_loss: 0.0796 - val_mae: 0.2185 - 4s/epoch - 7ms/step\n",
            "Epoch 49/300\n",
            "573/573 - 4s - loss: 0.0608 - mae: 0.1891 - val_loss: 0.0825 - val_mae: 0.2224 - 4s/epoch - 7ms/step\n",
            "Epoch 50/300\n",
            "573/573 - 4s - loss: 0.0602 - mae: 0.1878 - val_loss: 0.0803 - val_mae: 0.2185 - 4s/epoch - 7ms/step\n",
            "Epoch 51/300\n",
            "573/573 - 4s - loss: 0.0594 - mae: 0.1870 - val_loss: 0.0813 - val_mae: 0.2216 - 4s/epoch - 7ms/step\n",
            "Epoch 52/300\n",
            "573/573 - 4s - loss: 0.0592 - mae: 0.1870 - val_loss: 0.0827 - val_mae: 0.2215 - 4s/epoch - 7ms/step\n",
            "Epoch 53/300\n",
            "573/573 - 4s - loss: 0.0585 - mae: 0.1851 - val_loss: 0.0799 - val_mae: 0.2174 - 4s/epoch - 7ms/step\n",
            "Epoch 54/300\n",
            "573/573 - 4s - loss: 0.0575 - mae: 0.1839 - val_loss: 0.0810 - val_mae: 0.2193 - 4s/epoch - 7ms/step\n",
            "Epoch 55/300\n",
            "573/573 - 4s - loss: 0.0576 - mae: 0.1837 - val_loss: 0.0809 - val_mae: 0.2197 - 4s/epoch - 7ms/step\n",
            "Epoch 56/300\n",
            "573/573 - 4s - loss: 0.0571 - mae: 0.1828 - val_loss: 0.0895 - val_mae: 0.2326 - 4s/epoch - 7ms/step\n",
            "Epoch 57/300\n",
            "573/573 - 4s - loss: 0.0567 - mae: 0.1819 - val_loss: 0.0821 - val_mae: 0.2192 - 4s/epoch - 7ms/step\n",
            "Epoch 58/300\n",
            "573/573 - 4s - loss: 0.0559 - mae: 0.1811 - val_loss: 0.0837 - val_mae: 0.2227 - 4s/epoch - 7ms/step\n",
            "Epoch 59/300\n",
            "573/573 - 4s - loss: 0.0560 - mae: 0.1813 - val_loss: 0.0848 - val_mae: 0.2231 - 4s/epoch - 7ms/step\n",
            "Epoch 60/300\n",
            "573/573 - 4s - loss: 0.0552 - mae: 0.1796 - val_loss: 0.0836 - val_mae: 0.2235 - 4s/epoch - 7ms/step\n",
            "Epoch 61/300\n",
            "573/573 - 4s - loss: 0.0548 - mae: 0.1800 - val_loss: 0.0824 - val_mae: 0.2217 - 4s/epoch - 7ms/step\n",
            "Epoch 62/300\n",
            "573/573 - 4s - loss: 0.0544 - mae: 0.1787 - val_loss: 0.0849 - val_mae: 0.2233 - 4s/epoch - 7ms/step\n"
          ]
        },
        {
          "name": "stderr",
          "output_type": "stream",
          "text": [
            "d:\\ProgramData\\anaconda3\\envs\\tf\\lib\\site-packages\\keras\\src\\engine\\training.py:3000: UserWarning: You are saving your model as an HDF5 file via `model.save()`. This file format is considered legacy. We recommend using instead the native Keras format, e.g. `model.save('my_model.keras')`.\n",
            "  saving_api.save_model(\n"
          ]
        }
      ],
      "source": [
        "# Define model \n",
        "model = cnn_aa_model(L1=140,L2=60)\n",
        "\n",
        "# Training parameters \n",
        "batch_size = 16\n",
        "EpochCount = 300\n",
        "#EpochCount = 5 #Used for quick excusion of the Notebook; please use a higher number instead to allow proper convergence\n",
        "\n",
        "\n",
        "# Fit model \n",
        "model.fit(train_x, train_y, batch_size=batch_size, epochs=EpochCount, \n",
        "          validation_data=(validate_x, validate_y),verbose=2,\n",
        "              callbacks=[CustomEarlyStopping(ratio=0.90, patience=30, restore_best_weights = True)])\n",
        "\n",
        "\n",
        "# Save model\n",
        "ModelFileName = 'pretrain/model_2nd_cnn_aa_nor_package'\n",
        "model.save(ModelFileName+'.h5')"
      ]
    },
    {
      "cell_type": "markdown",
      "metadata": {},
      "source": [
        "#### Model validation\n",
        "· `Train-data validation` "
      ]
    },
    {
      "cell_type": "code",
      "execution_count": 9,
      "metadata": {},
      "outputs": [
        {
          "name": "stdout",
          "output_type": "stream",
          "text": [
            "287/287 [==============================] - 2s 6ms/step\n"
          ]
        },
        {
          "data": {
            "text/html": [
              "<div>\n",
              "<style scoped>\n",
              "    .dataframe tbody tr th:only-of-type {\n",
              "        vertical-align: middle;\n",
              "    }\n",
              "\n",
              "    .dataframe tbody tr th {\n",
              "        vertical-align: top;\n",
              "    }\n",
              "\n",
              "    .dataframe thead th {\n",
              "        text-align: right;\n",
              "    }\n",
              "</style>\n",
              "<table border=\"1\" class=\"dataframe\">\n",
              "  <thead>\n",
              "    <tr style=\"text-align: right;\">\n",
              "      <th></th>\n",
              "      <th>y_pred</th>\n",
              "      <th>y_true</th>\n",
              "    </tr>\n",
              "  </thead>\n",
              "  <tbody>\n",
              "    <tr>\n",
              "      <th>0</th>\n",
              "      <td>1.029093</td>\n",
              "      <td>1.141464</td>\n",
              "    </tr>\n",
              "    <tr>\n",
              "      <th>1</th>\n",
              "      <td>1.262027</td>\n",
              "      <td>1.140871</td>\n",
              "    </tr>\n",
              "    <tr>\n",
              "      <th>2</th>\n",
              "      <td>1.108851</td>\n",
              "      <td>0.865928</td>\n",
              "    </tr>\n",
              "    <tr>\n",
              "      <th>3</th>\n",
              "      <td>1.418953</td>\n",
              "      <td>1.470844</td>\n",
              "    </tr>\n",
              "    <tr>\n",
              "      <th>4</th>\n",
              "      <td>1.174952</td>\n",
              "      <td>1.070952</td>\n",
              "    </tr>\n",
              "    <tr>\n",
              "      <th>...</th>\n",
              "      <td>...</td>\n",
              "      <td>...</td>\n",
              "    </tr>\n",
              "    <tr>\n",
              "      <th>9155</th>\n",
              "      <td>1.143784</td>\n",
              "      <td>1.390266</td>\n",
              "    </tr>\n",
              "    <tr>\n",
              "      <th>9156</th>\n",
              "      <td>0.211700</td>\n",
              "      <td>0.398747</td>\n",
              "    </tr>\n",
              "    <tr>\n",
              "      <th>9157</th>\n",
              "      <td>-0.054169</td>\n",
              "      <td>0.004808</td>\n",
              "    </tr>\n",
              "    <tr>\n",
              "      <th>9158</th>\n",
              "      <td>1.103872</td>\n",
              "      <td>1.203612</td>\n",
              "    </tr>\n",
              "    <tr>\n",
              "      <th>9159</th>\n",
              "      <td>1.251456</td>\n",
              "      <td>1.166434</td>\n",
              "    </tr>\n",
              "  </tbody>\n",
              "</table>\n",
              "<p>9160 rows × 2 columns</p>\n",
              "</div>"
            ],
            "text/plain": [
              "        y_pred    y_true\n",
              "0     1.029093  1.141464\n",
              "1     1.262027  1.140871\n",
              "2     1.108851  0.865928\n",
              "3     1.418953  1.470844\n",
              "4     1.174952  1.070952\n",
              "...        ...       ...\n",
              "9155  1.143784  1.390266\n",
              "9156  0.211700  0.398747\n",
              "9157 -0.054169  0.004808\n",
              "9158  1.103872  1.203612\n",
              "9159  1.251456  1.166434\n",
              "\n",
              "[9160 rows x 2 columns]"
            ]
          },
          "execution_count": 9,
          "metadata": {},
          "output_type": "execute_result"
        }
      ],
      "source": [
        "\n",
        "# Predict for train variants\n",
        "y = model.predict(train_x)\n",
        "x = np.array(train_y)\n",
        "y = np.reshape(y, (1,y.shape[0]))[0]\n",
        "preds_df = pd.DataFrame(columns=['y_pred','y_true'])\n",
        "preds_df['y_pred'] = pd.DataFrame(y)\n",
        "preds_df['y_true']  = pd.DataFrame(x)\n",
        "preds_df \n"
      ]
    },
    {
      "cell_type": "code",
      "execution_count": 10,
      "metadata": {},
      "outputs": [
        {
          "name": "stderr",
          "output_type": "stream",
          "text": [
            "d:\\ProgramData\\anaconda3\\envs\\tf\\lib\\site-packages\\numpy\\lib\\histograms.py:906: RuntimeWarning: invalid value encountered in divide\n",
            "  return n/db/n.sum(), bin_edges\n",
            "meta NOT subset; don't know how to subset; dropped\n"
          ]
        },
        {
          "data": {
            "image/png": "[encoded data removed]",
            "text/plain": [
              "<Figure size 210x195 with 4 Axes>"
            ]
          },
          "metadata": {},
          "output_type": "display_data"
        }
      ],
      "source": [
        "x = preds_df['y_pred']  \n",
        "y = preds_df['y_true']   \n",
        "preds_df['y_pred'][:1000].corr(preds_df['y_true'][:1000])\n",
        "remove = np.isinf(x) & np.isinf(y)\n",
        "x = x[~remove]\n",
        "y = y[~remove]\n",
        "\n",
        "keep = (~np.isinf(x)) & (~np.isinf(y))\n",
        "x_both = x[keep]\n",
        "y_both = y[keep]\n",
        "\n",
        "y_missing = y[np.isinf(x)]\n",
        "x_missing = x[np.isinf(y)]\n",
        "\n",
        "\n",
        "kernel = gaussian_kde(np.vstack([\n",
        "    x_both.sample(n=2000, random_state=1), \n",
        "    y_both.sample(n=2000, random_state=1)\n",
        "]))\n",
        "c_both = kernel(np.vstack([x_both.values, y_both.values]))\n",
        "\n",
        "\n",
        "fig = plt.figure(figsize=(1.4,1.3), dpi=150)\n",
        "gs = fig.add_gridspec(2, 2, left=0.275, right=0.95, bottom=0.22, top=0.95, \n",
        "                      width_ratios=[1, 6], height_ratios=[6, 1], hspace=0., wspace=0)\n",
        "ax = fig.add_subplot(gs[0, 1])\n",
        "ax.scatter(x_both, y_both, c=c_both, cmap=mpl.cm.inferno, s=0.2, edgecolor='none', rasterized=True)\n",
        "ax.set_xticks([]); ax.set_yticks([])\n",
        "xlim = [-11, 12]\n",
        "bins = np.linspace(*xlim, 25)\n",
        "ax.set_xlim(xlim); ax.set_ylim(xlim)\n",
        "ax.text(0.03, 0.97, r'$r$ = {:.4f}'.format(np.corrcoef(x_both, y_both)[0, 1]),\n",
        "       transform=ax.transAxes, ha='left', va='top', fontsize=7)\n",
        "\n",
        "ax.text(0.97, 0.01, 'n={}'.format(si_format(len(x_both)), precision=2, format_str='{value}{prefix}',), \n",
        "        transform=ax.transAxes, ha='right', va='bottom', fontsize=7)\n",
        "\n",
        "# Left Marginal\n",
        "ax = fig.add_subplot(gs[0, 0])\n",
        "ax.hist(y_missing, bins=bins, edgecolor='none', orientation='horizontal', density=True, color='r')\n",
        "ax.set_ylim(xlim)\n",
        "ax.set_xticks([]); ax.set_yticks([-5, 0, 5, 10, 15,20])\n",
        "ax.text(0.97, 0.97, 'n={}'.format(si_format(len(y_missing)), precision=2, format_str='{value}{prefix}',), \n",
        "        transform=ax.transAxes, ha='right', va='top', fontsize=7, rotation=90, color='r')\n",
        "ax.set_ylabel('Prediction', labelpad=2,fontsize=8)\n",
        "ax.tick_params(axis='both', labelsize=7, length=2, pad=1)\n",
        "\n",
        "# Bottom Marginal\n",
        "ax = fig.add_subplot(gs[1, 1])\n",
        "ax.hist(x_missing, bins=bins, edgecolor='none', density=True, color='r')\n",
        "ax.set_xlim(xlim)\n",
        "ax.set_xticks([-5, 0, 5, 10, 15,20]); ax.set_yticks([])\n",
        "ax.text(0.97, 0.8, 'n={}'.format(si_format(len(x_missing)), precision=2, format_str='{value}{prefix}',), \n",
        "        transform=ax.transAxes, ha='right', va='top', fontsize=7, color='r')\n",
        "ax.set_xlabel('Truth', labelpad=2,fontsize=8)\n",
        "ax.tick_params(axis='both', labelsize=7, length=2, pad=1)\n",
        "\n",
        "# Missing label (not detected in either)\n",
        "ax = fig.add_subplot(gs[1, 0])\n",
        "for spine in ['bottom', 'left']:\n",
        "    ax.spines[spine].set_visible(False)\n",
        "ax.set_xticks([]); ax.set_yticks([])\n",
        "\n",
        "ax.text(0.8, 0.8, 'Missing', transform=ax.transAxes, color='r', ha='right', va='top', fontsize=7, clip_on=False)\n",
        "fig.savefig('../results/cnn/2nd_results/nor_package/2nd_aa_nor_package_prediction_correlation_train.pdf',dpi=300,bbox_inches='tight')"
      ]
    },
    {
      "cell_type": "code",
      "execution_count": 11,
      "metadata": {},
      "outputs": [
        {
          "name": "stderr",
          "output_type": "stream",
          "text": [
            "meta NOT subset; don't know how to subset; dropped\n"
          ]
        },
        {
          "data": {
            "image/png": "[encoded data removed]",
            "text/plain": [
              "<Figure size 180x150 with 1 Axes>"
            ]
          },
          "metadata": {},
          "output_type": "display_data"
        }
      ],
      "source": [
        "data = np.array(preds_df['y_pred']) \n",
        "data = data.reshape(-1, 1)  # 将数据转换成列向量的形式\n",
        "\n",
        "# 使用GaussianMixture拟合数据\n",
        "n_components = 1 # 设置混合模型的分量个数\n",
        "gmm = GaussianMixture(n_components=n_components)\n",
        "gmm.fit(data)\n",
        "\n",
        "# 获取每个分量的均值和协方差矩阵\n",
        "means = gmm.means_\n",
        "covariances = gmm.covariances_\n",
        "\n",
        "# 生成拟合后的分布\n",
        "x = np.linspace(-7, 8, 100000)\n",
        "x = x.reshape(-1, 1)\n",
        "y = np.exp(gmm.score_samples(x))\n",
        "\n",
        "fig,ax = plt.subplots(figsize=(1.8,1.5),dpi=100)\n",
        "# 绘制原始数据和拟合后的分布\n",
        "plt.hist(data, bins=100, density=True, alpha=0.6, color = '#BAB3A3',label='Prediction')\n",
        "#plt.plot(x, y, '-r', label='GMM fit')\n",
        "\n",
        "\n",
        "# 绘制每个分量的正态分布\n",
        "for i in range(n_components):\n",
        "    component = np.exp(-(x - means[i]) ** 2 / (2 * covariances[i]))\n",
        "    component /= np.sqrt(2 * np.pi * covariances[i])\n",
        "    component *= gmm.weights_[i]\n",
        "    if i == 0:\n",
        "        ax.plot(x, component, '-', label=f'Distribution {i + 1}', color='#F66E68', alpha=1)\n",
        "        ax.fill_between(x.flatten(), 0, component.flatten(), color='#F66E68', alpha=0.4)\n",
        "    else:\n",
        "        ax.plot(x, component, '-', label=f'Distribution {i + 1}', color='#457B9D', alpha=1)\n",
        "        ax.fill_between(x.flatten(), 0, component.flatten(), color='#457B9D', alpha=0.4)\n",
        "\n",
        "\n",
        "plt.title('Prediction',fontsize=10)\n",
        "ax.tick_params(axis='both', which='both', length=2,labelsize=10)\n",
        "ax.set_xticks([-1, 0, 1,2,3,4 ]); \n",
        "ax.set_xlim([-1,4])\n",
        "plt.ylabel('Density',labelpad=1,fontsize=10)\n",
        "plt.xlabel('Nor_package',labelpad=1,fontsize=10)\n",
        "plt.legend(fontsize=7,frameon=False)\n",
        "fig.savefig('../results/cnn/2nd_results/nor_package/2nd_aa_nor_package_prediction_distribution_train.pdf',dpi=300,bbox_inches='tight')"
      ]
    },
    {
      "cell_type": "markdown",
      "metadata": {},
      "source": [
        "· `Test-data validation` "
      ]
    },
    {
      "cell_type": "code",
      "execution_count": 12,
      "metadata": {},
      "outputs": [
        {
          "name": "stdout",
          "output_type": "stream",
          "text": [
            "2/2 [==============================] - 0s 2ms/step\n"
          ]
        },
        {
          "data": {
            "text/plain": [
              "0.6902805957508714"
            ]
          },
          "execution_count": 12,
          "metadata": {},
          "output_type": "execute_result"
        }
      ],
      "source": [
        "\n",
        "# Predict for test variants\n",
        "y = model.predict(test_x)\n",
        "x = np.array(test_y)\n",
        "y = np.reshape(y, (1,y.shape[0]))[0]\n",
        "preds_df = pd.DataFrame(columns=['y_pred','y_true'])\n",
        "preds_df['y_pred'] = pd.DataFrame(y)\n",
        "preds_df['y_true']  = pd.DataFrame(x)\n",
        "preds_df['y_pred'].corr(preds_df['y_true'])\n"
      ]
    },
    {
      "cell_type": "code",
      "execution_count": 13,
      "metadata": {},
      "outputs": [
        {
          "name": "stderr",
          "output_type": "stream",
          "text": [
            "d:\\ProgramData\\anaconda3\\envs\\tf\\lib\\site-packages\\numpy\\lib\\histograms.py:906: RuntimeWarning: invalid value encountered in divide\n",
            "  return n/db/n.sum(), bin_edges\n",
            "meta NOT subset; don't know how to subset; dropped\n"
          ]
        },
        {
          "data": {
            "image/png": "[encoded data removed]",
            "text/plain": [
              "<Figure size 210x195 with 4 Axes>"
            ]
          },
          "metadata": {},
          "output_type": "display_data"
        }
      ],
      "source": [
        "x = preds_df['y_pred']  \n",
        "y = preds_df['y_true']   \n",
        "\n",
        "remove = np.isinf(x) & np.isinf(y)\n",
        "x = x[~remove]\n",
        "y = y[~remove]\n",
        "\n",
        "keep = (~np.isinf(x)) & (~np.isinf(y))\n",
        "x_both = x[keep]\n",
        "y_both = y[keep]\n",
        "\n",
        "y_missing = y[np.isinf(x)]\n",
        "x_missing = x[np.isinf(y)]\n",
        "\n",
        "\n",
        "kernel = gaussian_kde(np.vstack([\n",
        "    x_both.sample(n=49, random_state=1), \n",
        "    y_both.sample(n=49, random_state=1)\n",
        "]))\n",
        "c_both = kernel(np.vstack([x_both.values, y_both.values]))\n",
        "\n",
        "fig = plt.figure(figsize=(1.4,1.3), dpi=150)\n",
        "gs = fig.add_gridspec(2, 2, left=0.275, right=0.95, bottom=0.22, top=0.95, \n",
        "                      width_ratios=[1, 6], height_ratios=[6, 1], hspace=0., wspace=0)\n",
        "ax = fig.add_subplot(gs[0, 1])\n",
        "ax.scatter(x_both, y_both, c=c_both, cmap=mpl.cm.inferno, s=0.2, edgecolor='none', rasterized=True)\n",
        "ax.set_xticks([]); ax.set_yticks([])\n",
        "xlim = [-11, 12]\n",
        "bins = np.linspace(*xlim, 25)\n",
        "ax.set_xlim(xlim); ax.set_ylim(xlim)\n",
        "ax.text(0.03, 0.97, r'$r$ = {:.4f}'.format(np.corrcoef(x_both, y_both)[0, 1]),\n",
        "       transform=ax.transAxes, ha='left', va='top', fontsize=7)\n",
        "\n",
        "ax.text(0.97, 0.01, 'n={}'.format(si_format(len(x_both)), precision=2, format_str='{value}{prefix}',), \n",
        "        transform=ax.transAxes, ha='right', va='bottom', fontsize=7)\n",
        "\n",
        "# Left Marginal\n",
        "ax = fig.add_subplot(gs[0, 0])\n",
        "ax.hist(y_missing, bins=bins, edgecolor='none', orientation='horizontal', density=True, color='r')\n",
        "ax.set_ylim(xlim)\n",
        "ax.set_xticks([]); ax.set_yticks([-5, 0, 5, 10, 15,20])\n",
        "ax.text(0.97, 0.97, 'n={}'.format(si_format(len(y_missing)), precision=2, format_str='{value}{prefix}',), \n",
        "        transform=ax.transAxes, ha='right', va='top', fontsize=7, rotation=90, color='r')\n",
        "ax.set_ylabel('Prediction', labelpad=2,fontsize=8)\n",
        "ax.tick_params(axis='both', labelsize=7, length=2, pad=1)\n",
        "\n",
        "# Bottom Marginal\n",
        "ax = fig.add_subplot(gs[1, 1])\n",
        "ax.hist(x_missing, bins=bins, edgecolor='none', density=True, color='r')\n",
        "ax.set_xlim(xlim)\n",
        "ax.set_xticks([-5, 0, 5, 10, 15,20]); ax.set_yticks([])\n",
        "ax.text(0.97, 0.8, 'n={}'.format(si_format(len(x_missing)), precision=2, format_str='{value}{prefix}',), \n",
        "        transform=ax.transAxes, ha='right', va='top', fontsize=7, color='r')\n",
        "ax.set_xlabel('Truth', labelpad=2,fontsize=8)\n",
        "ax.tick_params(axis='both', labelsize=6, length=2, pad=1)\n",
        "\n",
        "# Missing label (not detected in either)\n",
        "ax = fig.add_subplot(gs[1, 0])\n",
        "for spine in ['bottom', 'left']:\n",
        "    ax.spines[spine].set_visible(False)\n",
        "ax.set_xticks([]); ax.set_yticks([])\n",
        "\n",
        "ax.text(0.8, 0.8, 'Missing', transform=ax.transAxes, color='r', ha='right', va='top', fontsize=7, clip_on=False)\n",
        "fig.savefig('../results/cnn/2nd_results/nor_package/2nd_aa_nor_package_prediction_correlation_test.pdf',dpi=300,bbox_inches='tight')"
      ]
    },
    {
      "cell_type": "code",
      "execution_count": 14,
      "metadata": {},
      "outputs": [
        {
          "name": "stderr",
          "output_type": "stream",
          "text": [
            "meta NOT subset; don't know how to subset; dropped\n"
          ]
        },
        {
          "data": {
            "image/png": "[encoded data removed]",
            "text/plain": [
              "<Figure size 180x150 with 1 Axes>"
            ]
          },
          "metadata": {},
          "output_type": "display_data"
        }
      ],
      "source": [
        "data = np.array(preds_df['y_pred']) \n",
        "data = data.reshape(-1, 1)  # 将数据转换成列向量的形式\n",
        "\n",
        "# 使用GaussianMixture拟合数据\n",
        "n_components = 1 # 设置混合模型的分量个数\n",
        "gmm = GaussianMixture(n_components=n_components)\n",
        "gmm.fit(data)\n",
        "\n",
        "# 获取每个分量的均值和协方差矩阵\n",
        "means = gmm.means_\n",
        "covariances = gmm.covariances_\n",
        "\n",
        "# 生成拟合后的分布\n",
        "x = np.linspace(-7, 8, 100000)\n",
        "x = x.reshape(-1, 1)\n",
        "y = np.exp(gmm.score_samples(x))\n",
        "\n",
        "fig,ax = plt.subplots(figsize=(1.8,1.5),dpi=100)\n",
        "# 绘制原始数据和拟合后的分布\n",
        "plt.hist(data, bins=100, density=True, alpha=0.6, color = '#BAB3A3',label='Prediction')\n",
        "#plt.plot(x, y, '-r', label='GMM fit')\n",
        "\n",
        "\n",
        "# 绘制每个分量的正态分布\n",
        "for i in range(n_components):\n",
        "    component = np.exp(-(x - means[i]) ** 2 / (2 * covariances[i]))\n",
        "    component /= np.sqrt(2 * np.pi * covariances[i])\n",
        "    component *= gmm.weights_[i]\n",
        "    if i == 0:\n",
        "        ax.plot(x, component, '-', label=f'Distribution {i + 1}', color='#F66E68', alpha=1)\n",
        "        ax.fill_between(x.flatten(), 0, component.flatten(), color='#F66E68', alpha=0.4)\n",
        "    else:\n",
        "        ax.plot(x, component, '-', label=f'Distribution {i + 1}', color='#457B9D', alpha=1)\n",
        "        ax.fill_between(x.flatten(), 0, component.flatten(), color='#457B9D', alpha=0.4)\n",
        "\n",
        "\n",
        "plt.title('Prediction',fontsize=10)\n",
        "ax.tick_params(axis='both', which='both', length=2,labelsize=10)\n",
        "ax.set_xticks([-1, 0, 1,2,3,4 ]); \n",
        "ax.set_xlim([0,2])\n",
        "plt.ylabel('Density',labelpad=1,fontsize=10)\n",
        "plt.xlabel('Nor_package',labelpad=1,fontsize=10)\n",
        "plt.legend(fontsize=7,frameon=False)\n",
        "fig.savefig('../results/cnn/2nd_results/nor_package/2nd_aa_nor_package_prediction_distribution_test.pdf',dpi=300,bbox_inches='tight')"
      ]
    },
    {
      "cell_type": "code",
      "execution_count": null,
      "metadata": {},
      "outputs": [],
      "source": []
    }
  ],
  "metadata": {
    "kernelspec": {
      "display_name": "Python 3 (ipykernel)",
      "language": "python",
      "name": "python3"
    },
    "language_info": {
      "codemirror_mode": {
        "name": "ipython",
        "version": 3
      },
      "file_extension": ".py",
      "mimetype": "text/x-python",
      "name": "python",
      "nbconvert_exporter": "python",
      "pygments_lexer": "ipython3",
      "version": "3.8.16"
    },
    "toc": {
      "base_numbering": 1,
      "nav_menu": {},
      "number_sections": true,
      "sideBar": true,
      "skip_h1_title": false,
      "title_cell": "Table of Contents",
      "title_sidebar": "Contents",
      "toc_cell": true,
      "toc_position": {
        "height": "calc(100% - 180px)",
        "left": "10px",
        "top": "150px",
        "width": "320px"
      },
      "toc_section_display": true,
      "toc_window_display": true
    }
  },
  "nbformat": 4,
  "nbformat_minor": 4
}
