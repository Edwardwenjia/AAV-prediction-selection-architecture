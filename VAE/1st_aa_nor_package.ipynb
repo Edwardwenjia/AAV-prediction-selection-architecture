{
 "cells": [
  {
   "cell_type": "code",
   "execution_count": 67,
   "metadata": {
    "is_executing": true
   },
   "outputs": [
    {
     "name": "stdout",
     "output_type": "stream",
     "text": [
      "The autoreload extension is already loaded. To reload it, use:\n",
      "  %reload_ext autoreload\n"
     ]
    }
   ],
   "source": [
    "%load_ext autoreload\n",
    "%autoreload 2"
   ]
  },
  {
   "cell_type": "code",
   "execution_count": 68,
   "metadata": {},
   "outputs": [],
   "source": [
    "import numpy as np\n",
    "import pandas as pd\n",
    "import pickle\n",
    "import random\n",
    "import tensorflow as tf\n",
    "import os\n",
    "import sys\n",
    "from pathlib import Path\n",
    "from sklearn.preprocessing import StandardScaler\n",
    "from mpl_toolkits.axes_grid1 import make_axes_locatable\n",
    "from scipy.stats import gaussian_kde, norm\n",
    "import matplotlib as mpl\n",
    "import matplotlib.pyplot as plt\n",
    "from sklearn.mixture import GaussianMixture\n",
    "\n",
    "from vae.vae import SVAE\n",
    "from vae.train import train,train_new\n",
    "from utils.data_processing import prep_data, make_tf_batches, seq_to_onehot\n",
    "from vae.predict import predict\n",
    "from utils.utils_f4f import heatmap, si_format\n",
    "os.environ['TF_CPP_MIN_LOG_LEVEL'] = '0'\n"
   ]
  },
  {
   "cell_type": "code",
   "execution_count": 69,
   "metadata": {},
   "outputs": [],
   "source": [
    "mpl.rcParams['svg.fonttype'] = 'none'\n",
    "mpl.rcParams['font.family'] = ['sans-serif']\n",
    "mpl.rcParams['font.sans-serif'] = ['Arial']\n",
    "mpl.rcParams['text.usetex'] = False\n",
    "mpl.rcParams['pdf.fonttype'] = 42\n",
    "mpl.rcParams['ps.fonttype'] = 42"
   ]
  },
  {
   "cell_type": "markdown",
   "metadata": {},
   "source": [
    "#### Data_preparetion\n"
   ]
  },
  {
   "cell_type": "code",
   "execution_count": 70,
   "metadata": {},
   "outputs": [
    {
     "data": {
      "text/html": [
       "<div>\n",
       "<style scoped>\n",
       "    .dataframe tbody tr th:only-of-type {\n",
       "        vertical-align: middle;\n",
       "    }\n",
       "\n",
       "    .dataframe tbody tr th {\n",
       "        vertical-align: top;\n",
       "    }\n",
       "\n",
       "    .dataframe thead th {\n",
       "        text-align: right;\n",
       "    }\n",
       "</style>\n",
       "<table border=\"1\" class=\"dataframe\">\n",
       "  <thead>\n",
       "    <tr style=\"text-align: right;\">\n",
       "      <th></th>\n",
       "      <th>AA_sequence</th>\n",
       "      <th>nor_package</th>\n",
       "    </tr>\n",
       "  </thead>\n",
       "  <tbody>\n",
       "    <tr>\n",
       "      <th>1467121</th>\n",
       "      <td>SRYSSKH</td>\n",
       "      <td>-8.48312</td>\n",
       "    </tr>\n",
       "    <tr>\n",
       "      <th>8590886</th>\n",
       "      <td>FRMSHSK</td>\n",
       "      <td>-7.18056</td>\n",
       "    </tr>\n",
       "    <tr>\n",
       "      <th>2519232</th>\n",
       "      <td>ICILDVL</td>\n",
       "      <td>-7.03920</td>\n",
       "    </tr>\n",
       "    <tr>\n",
       "      <th>8447804</th>\n",
       "      <td>LWHSVVG</td>\n",
       "      <td>-6.95174</td>\n",
       "    </tr>\n",
       "    <tr>\n",
       "      <th>3816202</th>\n",
       "      <td>LILFRLF</td>\n",
       "      <td>-6.88247</td>\n",
       "    </tr>\n",
       "    <tr>\n",
       "      <th>...</th>\n",
       "      <td>...</td>\n",
       "      <td>...</td>\n",
       "    </tr>\n",
       "    <tr>\n",
       "      <th>7582338</th>\n",
       "      <td>WGVSAAP</td>\n",
       "      <td>5.91863</td>\n",
       "    </tr>\n",
       "    <tr>\n",
       "      <th>5195113</th>\n",
       "      <td>GGVGRVV</td>\n",
       "      <td>6.08169</td>\n",
       "    </tr>\n",
       "    <tr>\n",
       "      <th>7540111</th>\n",
       "      <td>WDGEGRG</td>\n",
       "      <td>6.30093</td>\n",
       "    </tr>\n",
       "    <tr>\n",
       "      <th>5216835</th>\n",
       "      <td>GVHGKGL</td>\n",
       "      <td>6.61051</td>\n",
       "    </tr>\n",
       "    <tr>\n",
       "      <th>1421680</th>\n",
       "      <td>SKLEFVQ</td>\n",
       "      <td>7.13041</td>\n",
       "    </tr>\n",
       "  </tbody>\n",
       "</table>\n",
       "<p>15611 rows × 2 columns</p>\n",
       "</div>"
      ],
      "text/plain": [
       "        AA_sequence  nor_package\n",
       "1467121     SRYSSKH     -8.48312\n",
       "8590886     FRMSHSK     -7.18056\n",
       "2519232     ICILDVL     -7.03920\n",
       "8447804     LWHSVVG     -6.95174\n",
       "3816202     LILFRLF     -6.88247\n",
       "...             ...          ...\n",
       "7582338     WGVSAAP      5.91863\n",
       "5195113     GGVGRVV      6.08169\n",
       "7540111     WDGEGRG      6.30093\n",
       "5216835     GVHGKGL      6.61051\n",
       "1421680     SKLEFVQ      7.13041\n",
       "\n",
       "[15611 rows x 2 columns]"
      ]
     },
     "execution_count": 70,
     "metadata": {},
     "output_type": "execute_result"
    }
   ],
   "source": [
    "# Import data \n",
    "assay = 'nor_package'\n",
    "array = 'AA_sequence'\n",
    "\n",
    "df_all = pd.read_csv('../data/1st_780w_packseq_aa.tsv',delimiter='\\t')\n",
    "df_all = df_all.rename(columns={'aa':'AA_sequence'})\n",
    "df = df_all[['AA_sequence', 'nor_package']]\n",
    "df= df.sort_values(by='nor_package')\n",
    "\n",
    "#Fill in the nan data and replace the inf value\n",
    "df['nor_package'] = df['nor_package'].fillna(0)  \n",
    "df['nor_package'] = df['nor_package'].replace([np.inf, -np.inf], np.nan)\n",
    "df = df.dropna(subset=['nor_package','AA_sequence'])\n",
    "df = df.iloc[::500]\n",
    "df"
   ]
  },
  {
   "cell_type": "code",
   "execution_count": 71,
   "metadata": {},
   "outputs": [
    {
     "data": {
      "image/png": "[encoded data removed]",
      "text/plain": [
       "<Figure size 200x170 with 1 Axes>"
      ]
     },
     "metadata": {},
     "output_type": "display_data"
    }
   ],
   "source": [
    "nor_package = df_all[np.isfinite(df_all[assay])][assay]\n",
    "data = np.array(nor_package) \n",
    "data = data.reshape(-1, 1)  # Convert the data into a column vector\n",
    "\n",
    "# Fit the data using GaussianMixture\n",
    "n_components = 2 # Set the number of components for the hybrid model\n",
    "gmm = GaussianMixture(n_components=n_components)\n",
    "gmm.fit(data)\n",
    "\n",
    "# Get the mean and covariance matrix for each component\n",
    "means = gmm.means_\n",
    "covariances = gmm.covariances_\n",
    "\n",
    "# Generate the fitted distribution\n",
    "x = np.linspace(-10, 5, 10000)\n",
    "x = x.reshape(-1, 1)\n",
    "y = np.exp(gmm.score_samples(x))\n",
    "\n",
    "fig,ax = plt.subplots(figsize=(2,1.7),dpi=100)\n",
    "# Plot the raw data and the distribution after fitting\n",
    "plt.hist(data, bins=100, density=True, alpha=0.6, color = '#BAB3A3',label='Prediction')\n",
    "\n",
    "# 绘制每个分量的正态分布\n",
    "for i in range(n_components):\n",
    "    component = np.exp(-(x - means[i]) ** 2 / (2 * covariances[i]))\n",
    "    component /= np.sqrt(2 * np.pi * covariances[i])\n",
    "    component *= gmm.weights_[i]\n",
    "    if i == 0:\n",
    "        ax.plot(x, component, '-', label=f'Distribution {i + 1}', color='#F66E68', alpha=1)\n",
    "        ax.fill_between(x.flatten(), 0, component.flatten(), color='#F66E68', alpha=0.4)\n",
    "    else:\n",
    "        ax.plot(x, component, '-', label=f'Distribution {i + 1}', color='#457B9D', alpha=1)\n",
    "        ax.fill_between(x.flatten(), 0, component.flatten(), color='#457B9D', alpha=0.4)\n",
    "\n",
    "\n",
    "plt.title('Truth_distribution',fontsize=10)\n",
    "ax.tick_params(axis='both', which='both', length=2,labelsize=8)\n",
    "ax.set_xticks([-5, 0, 5]); \n",
    "# ax.set_yticks([])\n",
    "plt.ylabel('Density',labelpad=2,fontsize=10)\n",
    "plt.xlabel('Nor_package',labelpad=2,fontsize=10)\n",
    "plt.legend(fontsize=7,frameon=False,loc='best')\n",
    "plt.show()"
   ]
  },
  {
   "cell_type": "markdown",
   "metadata": {},
   "source": [
    "### Prep data \n",
    "\n",
    "`prep_data()` will one-hot encode the `AA_sequence` column and split the data into\n",
    "training and test sets. The training split will be split\n",
    "futher into training and validation batches with `make_tf_batches()`.\n"
   ]
  },
  {
   "cell_type": "code",
   "execution_count": 72,
   "metadata": {},
   "outputs": [],
   "source": [
    "(data_list, train_df, test_df, prepped_df) = prep_data(df, AA_colname=array, target_assay_col=assay)\n",
    "train_df['Y--nor_package'] = train_df['AA_sequence'].map(df.drop_duplicates('AA_sequence').set_index('AA_sequence')['nor_package'])\n",
    "test_df['Y--nor_package'] = test_df['AA_sequence'].map(df.drop_duplicates('AA_sequence').set_index('AA_sequence')['nor_package'])\n",
    "prepped_df['Y--nor_package'] = test_df['AA_sequence'].map(df.drop_duplicates('AA_sequence').set_index('AA_sequence')['nor_package'])"
   ]
  },
  {
   "cell_type": "code",
   "execution_count": 73,
   "metadata": {},
   "outputs": [
    {
     "data": {
      "text/html": [
       "<div>\n",
       "<style scoped>\n",
       "    .dataframe tbody tr th:only-of-type {\n",
       "        vertical-align: middle;\n",
       "    }\n",
       "\n",
       "    .dataframe tbody tr th {\n",
       "        vertical-align: top;\n",
       "    }\n",
       "\n",
       "    .dataframe thead th {\n",
       "        text-align: right;\n",
       "    }\n",
       "</style>\n",
       "<table border=\"1\" class=\"dataframe\">\n",
       "  <thead>\n",
       "    <tr style=\"text-align: right;\">\n",
       "      <th></th>\n",
       "      <th>AA_sequence</th>\n",
       "      <th>x0</th>\n",
       "      <th>x1</th>\n",
       "      <th>x2</th>\n",
       "      <th>x3</th>\n",
       "      <th>x4</th>\n",
       "      <th>x5</th>\n",
       "      <th>x6</th>\n",
       "      <th>x7</th>\n",
       "      <th>x8</th>\n",
       "      <th>...</th>\n",
       "      <th>x132</th>\n",
       "      <th>x133</th>\n",
       "      <th>x134</th>\n",
       "      <th>x135</th>\n",
       "      <th>x136</th>\n",
       "      <th>x137</th>\n",
       "      <th>x138</th>\n",
       "      <th>x139</th>\n",
       "      <th>Y--nor_package</th>\n",
       "      <th>test</th>\n",
       "    </tr>\n",
       "  </thead>\n",
       "  <tbody>\n",
       "    <tr>\n",
       "      <th>count</th>\n",
       "      <td>15611</td>\n",
       "      <td>15611</td>\n",
       "      <td>15611</td>\n",
       "      <td>15611</td>\n",
       "      <td>15611</td>\n",
       "      <td>15611</td>\n",
       "      <td>15611</td>\n",
       "      <td>15611</td>\n",
       "      <td>15611</td>\n",
       "      <td>15611</td>\n",
       "      <td>...</td>\n",
       "      <td>15611</td>\n",
       "      <td>15611</td>\n",
       "      <td>15611</td>\n",
       "      <td>15611</td>\n",
       "      <td>15611</td>\n",
       "      <td>15611</td>\n",
       "      <td>15611</td>\n",
       "      <td>15611</td>\n",
       "      <td>15611</td>\n",
       "      <td>15611</td>\n",
       "    </tr>\n",
       "    <tr>\n",
       "      <th>unique</th>\n",
       "      <td>1</td>\n",
       "      <td>1</td>\n",
       "      <td>1</td>\n",
       "      <td>1</td>\n",
       "      <td>1</td>\n",
       "      <td>1</td>\n",
       "      <td>1</td>\n",
       "      <td>1</td>\n",
       "      <td>1</td>\n",
       "      <td>1</td>\n",
       "      <td>...</td>\n",
       "      <td>1</td>\n",
       "      <td>1</td>\n",
       "      <td>1</td>\n",
       "      <td>1</td>\n",
       "      <td>1</td>\n",
       "      <td>1</td>\n",
       "      <td>1</td>\n",
       "      <td>1</td>\n",
       "      <td>2</td>\n",
       "      <td>1</td>\n",
       "    </tr>\n",
       "    <tr>\n",
       "      <th>top</th>\n",
       "      <td>False</td>\n",
       "      <td>False</td>\n",
       "      <td>False</td>\n",
       "      <td>False</td>\n",
       "      <td>False</td>\n",
       "      <td>False</td>\n",
       "      <td>False</td>\n",
       "      <td>False</td>\n",
       "      <td>False</td>\n",
       "      <td>False</td>\n",
       "      <td>...</td>\n",
       "      <td>False</td>\n",
       "      <td>False</td>\n",
       "      <td>False</td>\n",
       "      <td>False</td>\n",
       "      <td>False</td>\n",
       "      <td>False</td>\n",
       "      <td>False</td>\n",
       "      <td>False</td>\n",
       "      <td>True</td>\n",
       "      <td>False</td>\n",
       "    </tr>\n",
       "    <tr>\n",
       "      <th>freq</th>\n",
       "      <td>15611</td>\n",
       "      <td>15611</td>\n",
       "      <td>15611</td>\n",
       "      <td>15611</td>\n",
       "      <td>15611</td>\n",
       "      <td>15611</td>\n",
       "      <td>15611</td>\n",
       "      <td>15611</td>\n",
       "      <td>15611</td>\n",
       "      <td>15611</td>\n",
       "      <td>...</td>\n",
       "      <td>15611</td>\n",
       "      <td>15611</td>\n",
       "      <td>15611</td>\n",
       "      <td>15611</td>\n",
       "      <td>15611</td>\n",
       "      <td>15611</td>\n",
       "      <td>15611</td>\n",
       "      <td>15611</td>\n",
       "      <td>14050</td>\n",
       "      <td>15611</td>\n",
       "    </tr>\n",
       "  </tbody>\n",
       "</table>\n",
       "<p>4 rows × 143 columns</p>\n",
       "</div>"
      ],
      "text/plain": [
       "       AA_sequence     x0     x1     x2     x3     x4     x5     x6     x7   \n",
       "count        15611  15611  15611  15611  15611  15611  15611  15611  15611  \\\n",
       "unique           1      1      1      1      1      1      1      1      1   \n",
       "top          False  False  False  False  False  False  False  False  False   \n",
       "freq         15611  15611  15611  15611  15611  15611  15611  15611  15611   \n",
       "\n",
       "           x8  ...   x132   x133   x134   x135   x136   x137   x138   x139   \n",
       "count   15611  ...  15611  15611  15611  15611  15611  15611  15611  15611  \\\n",
       "unique      1  ...      1      1      1      1      1      1      1      1   \n",
       "top     False  ...  False  False  False  False  False  False  False  False   \n",
       "freq    15611  ...  15611  15611  15611  15611  15611  15611  15611  15611   \n",
       "\n",
       "       Y--nor_package   test  \n",
       "count           15611  15611  \n",
       "unique              2      1  \n",
       "top              True  False  \n",
       "freq            14050  15611  \n",
       "\n",
       "[4 rows x 143 columns]"
      ]
     },
     "execution_count": 73,
     "metadata": {},
     "output_type": "execute_result"
    }
   ],
   "source": [
    "train_df.isnull().describe()\n",
    "prepped_df.isnull().describe()"
   ]
  },
  {
   "cell_type": "markdown",
   "metadata": {},
   "source": [
    "Now we split `train_df` into TensorFlow-compatible training and validation batches using\n",
    "`make_tf_batches()`. `unbatched_data` is a tuple of Numpy arrays corresponding to the X, Y\n",
    "and CV (if using) values across both the training and validation batches.\n"
   ]
  },
  {
   "cell_type": "code",
   "execution_count": 74,
   "metadata": {},
   "outputs": [],
   "source": [
    "X, Y  = data_list\n",
    "train_batches, val_batches, unbatched_data = make_tf_batches(X, Y)"
   ]
  },
  {
   "cell_type": "code",
   "execution_count": null,
   "metadata": {},
   "outputs": [],
   "source": []
  },
  {
   "cell_type": "markdown",
   "metadata": {},
   "source": [
    "## VAE  model training\n",
    "\n",
    "Default parameterization:Here the model is applied to aa-nor_package learning process, as details\n",
    "\n",
    "- `input_dim = 140`\n",
    "- `latent_dim = 2`\n",
    "- `enc_hidden_dims = [100,40]`\n",
    "- `dec_hidden_dims = [40,100]`\n",
    "- `reg_hidden_dims = [100,10]`\n"
   ]
  },
  {
   "cell_type": "code",
   "execution_count": 75,
   "metadata": {},
   "outputs": [
    {
     "name": "stdout",
     "output_type": "stream",
     "text": [
      "Model: \"svae\"\n",
      "__________________________________________________________________________________________________\n",
      " Layer (type)                Output Shape                 Param #   Connected to                  \n",
      "==================================================================================================\n",
      " encoder_input (InputLayer)  [(None, 140)]                0         []                            \n",
      "                                                                                                  \n",
      " encoder (Functional)        [(None, 2),                  18304     ['encoder_input[0][0]',       \n",
      "                              (None, 2),                             'encoder_input[0][0]']       \n",
      "                              (None, 2)]                                                          \n",
      "                                                                                                  \n",
      " tf.concat_7 (TFOpLambda)    (None, 142)                  0         ['encoder[1][0]',             \n",
      "                                                                     'encoder_input[0][0]']       \n",
      "                                                                                                  \n",
      " decoder (Functional)        (None, 140)                  18360     ['encoder[0][2]']             \n",
      "                                                                                                  \n",
      " regressor (Functional)      (None, 1)                    16421     ['tf.concat_7[0][0]']         \n",
      "                                                                                                  \n",
      "==================================================================================================\n",
      "Total params: 53085 (207.36 KB)\n",
      "Trainable params: 53085 (207.36 KB)\n",
      "Non-trainable params: 0 (0.00 Byte)\n",
      "__________________________________________________________________________________________________\n"
     ]
    }
   ],
   "source": [
    "# SVAE parameters (same as default)\n",
    "input_dim = 140\n",
    "latent_dim = 2\n",
    "enc_hidden_dims = [100,40]\n",
    "dec_hidden_dims = [40,100]\n",
    "reg_hidden_dims = [100,10]\n",
    "\n",
    "# training parameters \n",
    "\n",
    "outpath = 'pretrain/vae/1st_aa_nor_package'\n",
    "loss_weights = [1.0,0.8,1.5] # [reconstruction, KL, regression]\n",
    "\n",
    "initial_learning_rate = 5e-3\n",
    "optimizer = tf.keras.optimizers.Adam(initial_learning_rate)\n",
    "\n",
    "# Initialize SVAE model (with default parameterizations)\n",
    "model = SVAE(input_dim=140, latent_dim=2, enc_hidden_dims=[100,40], dec_hidden_dims=[40,100], reg_hidden_dims=[100,10], name='svae')\n",
    "model.summary()"
   ]
  },
  {
   "cell_type": "markdown",
   "metadata": {},
   "source": [
    "The `train()` function returns the trained `model` and `preds_df`, a DataFrame of\n",
    "regressor predictions on the X values in `unbatched_data`, along with their latent space\n",
    "projections and their true Y values.\n",
    "\n",
    "`train()` saves the trained model, as well as a log of the training and validation loss\n",
    "values per epoch and `preds_df`, to disk. These saves will be made to an optional\n",
    "parameter `model_outdir` - if not specified, `train()` will make a new,\n",
    "informatively-named directory to write to (path is returned)."
   ]
  },
  {
   "cell_type": "code",
   "execution_count": 76,
   "metadata": {},
   "outputs": [
    {
     "name": "stdout",
     "output_type": "stream",
     "text": [
      "Logging following metrics: ['train_model_loss', 'train_reconstruction_loss', 'train_kl_loss', 'train_regression_loss', 'val_model_loss', 'val_reconstruction_loss', 'val_kl_loss', 'val_regression_loss']\n",
      "\n",
      "\n",
      "----- Beginning training. -----\n",
      "\n",
      "epoch 1\n",
      "6248/6248 [==============================] - 51s 8ms/step - train_model_loss: 26.2834 - train_reconstruction_loss: 20.4277 - train_kl_loss: 0.0108 - train_regression_loss: 3.8999 - val_model_loss: 25.8126 - val_reconstruction_loss: 20.3576 - val_kl_loss: 0.0016 - val_regression_loss: 3.6393\n",
      "WARNING:tensorflow:Compiled the loaded model, but the compiled metrics have yet to be built. `model.compile_metrics` will be empty until you train or evaluate the model.\n"
     ]
    },
    {
     "name": "stderr",
     "output_type": "stream",
     "text": [
      "WARNING:tensorflow:Compiled the loaded model, but the compiled metrics have yet to be built. `model.compile_metrics` will be empty until you train or evaluate the model.\n"
     ]
    },
    {
     "name": "stdout",
     "output_type": "stream",
     "text": [
      "INFO:tensorflow:Assets written to: pretrain/vae/1st_aa_nor_package\\assets\n"
     ]
    },
    {
     "name": "stderr",
     "output_type": "stream",
     "text": [
      "INFO:tensorflow:Assets written to: pretrain/vae/1st_aa_nor_package\\assets\n"
     ]
    },
    {
     "name": "stdout",
     "output_type": "stream",
     "text": [
      "Model saved to pretrain/vae/1st_aa_nor_package.\n",
      "\n",
      "epoch 2\n",
      "6248/6248 [==============================] - 53s 9ms/step - train_model_loss: 25.8307 - train_reconstruction_loss: 20.3677 - train_kl_loss: 7.4752e-04 - train_regression_loss: 3.6371 - val_model_loss: 25.5530 - val_reconstruction_loss: 20.3165 - val_kl_loss: 3.5173e-04 - val_regression_loss: 3.4833\n",
      "WARNING:tensorflow:Compiled the loaded model, but the compiled metrics have yet to be built. `model.compile_metrics` will be empty until you train or evaluate the model.\n"
     ]
    },
    {
     "name": "stderr",
     "output_type": "stream",
     "text": [
      "WARNING:tensorflow:Compiled the loaded model, but the compiled metrics have yet to be built. `model.compile_metrics` will be empty until you train or evaluate the model.\n"
     ]
    },
    {
     "name": "stdout",
     "output_type": "stream",
     "text": [
      "INFO:tensorflow:Assets written to: pretrain/vae/1st_aa_nor_package\\assets\n"
     ]
    },
    {
     "name": "stderr",
     "output_type": "stream",
     "text": [
      "INFO:tensorflow:Assets written to: pretrain/vae/1st_aa_nor_package\\assets\n"
     ]
    },
    {
     "name": "stdout",
     "output_type": "stream",
     "text": [
      "Model saved to pretrain/vae/1st_aa_nor_package.\n",
      "\n",
      "epoch 3\n",
      "6248/6248 [==============================] - 53s 8ms/step - train_model_loss: 25.5805 - train_reconstruction_loss: 20.3535 - train_kl_loss: 4.5205e-04 - train_regression_loss: 3.4817 - val_model_loss: 25.4821 - val_reconstruction_loss: 20.3762 - val_kl_loss: 4.4907e-04 - val_regression_loss: 3.3991\n",
      "WARNING:tensorflow:Compiled the loaded model, but the compiled metrics have yet to be built. `model.compile_metrics` will be empty until you train or evaluate the model.\n"
     ]
    },
    {
     "name": "stderr",
     "output_type": "stream",
     "text": [
      "WARNING:tensorflow:Compiled the loaded model, but the compiled metrics have yet to be built. `model.compile_metrics` will be empty until you train or evaluate the model.\n"
     ]
    },
    {
     "name": "stdout",
     "output_type": "stream",
     "text": [
      "INFO:tensorflow:Assets written to: pretrain/vae/1st_aa_nor_package\\assets\n"
     ]
    },
    {
     "name": "stderr",
     "output_type": "stream",
     "text": [
      "INFO:tensorflow:Assets written to: pretrain/vae/1st_aa_nor_package\\assets\n"
     ]
    },
    {
     "name": "stdout",
     "output_type": "stream",
     "text": [
      "Model saved to pretrain/vae/1st_aa_nor_package.\n",
      "\n",
      "epoch 4\n",
      "6248/6248 [==============================] - 53s 8ms/step - train_model_loss: 25.4431 - train_reconstruction_loss: 20.3680 - train_kl_loss: 4.1830e-04 - train_regression_loss: 3.3820 - val_model_loss: 25.1322 - val_reconstruction_loss: 20.3658 - val_kl_loss: 4.7406e-04 - val_regression_loss: 3.1754\n",
      "WARNING:tensorflow:Compiled the loaded model, but the compiled metrics have yet to be built. `model.compile_metrics` will be empty until you train or evaluate the model.\n"
     ]
    },
    {
     "name": "stderr",
     "output_type": "stream",
     "text": [
      "WARNING:tensorflow:Compiled the loaded model, but the compiled metrics have yet to be built. `model.compile_metrics` will be empty until you train or evaluate the model.\n"
     ]
    },
    {
     "name": "stdout",
     "output_type": "stream",
     "text": [
      "INFO:tensorflow:Assets written to: pretrain/vae/1st_aa_nor_package\\assets\n"
     ]
    },
    {
     "name": "stderr",
     "output_type": "stream",
     "text": [
      "INFO:tensorflow:Assets written to: pretrain/vae/1st_aa_nor_package\\assets\n"
     ]
    },
    {
     "name": "stdout",
     "output_type": "stream",
     "text": [
      "Model saved to pretrain/vae/1st_aa_nor_package.\n",
      "\n",
      "epoch 5\n",
      "6248/6248 [==============================] - 53s 8ms/step - train_model_loss: 25.2063 - train_reconstruction_loss: 20.3583 - train_kl_loss: 2.7250e-04 - train_regression_loss: 3.2333 - val_model_loss: 25.1490 - val_reconstruction_loss: 20.3866 - val_kl_loss: 2.1943e-04 - val_regression_loss: 3.1686\n",
      "WARNING:tensorflow:Compiled the loaded model, but the compiled metrics have yet to be built. `model.compile_metrics` will be empty until you train or evaluate the model.\n"
     ]
    },
    {
     "name": "stderr",
     "output_type": "stream",
     "text": [
      "WARNING:tensorflow:Compiled the loaded model, but the compiled metrics have yet to be built. `model.compile_metrics` will be empty until you train or evaluate the model.\n"
     ]
    },
    {
     "name": "stdout",
     "output_type": "stream",
     "text": [
      "INFO:tensorflow:Assets written to: pretrain/vae/1st_aa_nor_package\\assets\n"
     ]
    },
    {
     "name": "stderr",
     "output_type": "stream",
     "text": [
      "INFO:tensorflow:Assets written to: pretrain/vae/1st_aa_nor_package\\assets\n"
     ]
    },
    {
     "name": "stdout",
     "output_type": "stream",
     "text": [
      "Model saved to pretrain/vae/1st_aa_nor_package.\n",
      "\n",
      "epoch 6\n",
      "6248/6248 [==============================] - 54s 9ms/step - train_model_loss: 25.1168 - train_reconstruction_loss: 20.3527 - train_kl_loss: 2.1351e-04 - train_regression_loss: 3.1735 - val_model_loss: 24.9437 - val_reconstruction_loss: 20.3544 - val_kl_loss: 2.4736e-04 - val_regression_loss: 3.0561\n",
      "WARNING:tensorflow:Compiled the loaded model, but the compiled metrics have yet to be built. `model.compile_metrics` will be empty until you train or evaluate the model.\n"
     ]
    },
    {
     "name": "stderr",
     "output_type": "stream",
     "text": [
      "WARNING:tensorflow:Compiled the loaded model, but the compiled metrics have yet to be built. `model.compile_metrics` will be empty until you train or evaluate the model.\n"
     ]
    },
    {
     "name": "stdout",
     "output_type": "stream",
     "text": [
      "INFO:tensorflow:Assets written to: pretrain/vae/1st_aa_nor_package\\assets\n"
     ]
    },
    {
     "name": "stderr",
     "output_type": "stream",
     "text": [
      "INFO:tensorflow:Assets written to: pretrain/vae/1st_aa_nor_package\\assets\n"
     ]
    },
    {
     "name": "stdout",
     "output_type": "stream",
     "text": [
      "Model saved to pretrain/vae/1st_aa_nor_package.\n",
      "\n",
      "epoch 7\n",
      "6248/6248 [==============================] - 51s 8ms/step - train_model_loss: 25.0162 - train_reconstruction_loss: 20.3567 - train_kl_loss: 1.7418e-04 - train_regression_loss: 3.1065 - val_model_loss: 24.8871 - val_reconstruction_loss: 20.3310 - val_kl_loss: 1.3912e-04 - val_regression_loss: 3.0311\n",
      "WARNING:tensorflow:Compiled the loaded model, but the compiled metrics have yet to be built. `model.compile_metrics` will be empty until you train or evaluate the model.\n"
     ]
    },
    {
     "name": "stderr",
     "output_type": "stream",
     "text": [
      "WARNING:tensorflow:Compiled the loaded model, but the compiled metrics have yet to be built. `model.compile_metrics` will be empty until you train or evaluate the model.\n"
     ]
    },
    {
     "name": "stdout",
     "output_type": "stream",
     "text": [
      "INFO:tensorflow:Assets written to: pretrain/vae/1st_aa_nor_package\\assets\n"
     ]
    },
    {
     "name": "stderr",
     "output_type": "stream",
     "text": [
      "INFO:tensorflow:Assets written to: pretrain/vae/1st_aa_nor_package\\assets\n"
     ]
    },
    {
     "name": "stdout",
     "output_type": "stream",
     "text": [
      "Model saved to pretrain/vae/1st_aa_nor_package.\n",
      "\n",
      "epoch 8\n",
      "6248/6248 [==============================] - 54s 9ms/step - train_model_loss: 24.9699 - train_reconstruction_loss: 20.3552 - train_kl_loss: 1.2899e-04 - train_regression_loss: 3.0766 - val_model_loss: 24.6051 - val_reconstruction_loss: 20.3404 - val_kl_loss: 1.2265e-04 - val_regression_loss: 2.8376\n",
      "WARNING:tensorflow:Compiled the loaded model, but the compiled metrics have yet to be built. `model.compile_metrics` will be empty until you train or evaluate the model.\n"
     ]
    },
    {
     "name": "stderr",
     "output_type": "stream",
     "text": [
      "WARNING:tensorflow:Compiled the loaded model, but the compiled metrics have yet to be built. `model.compile_metrics` will be empty until you train or evaluate the model.\n"
     ]
    },
    {
     "name": "stdout",
     "output_type": "stream",
     "text": [
      "INFO:tensorflow:Assets written to: pretrain/vae/1st_aa_nor_package\\assets\n"
     ]
    },
    {
     "name": "stderr",
     "output_type": "stream",
     "text": [
      "INFO:tensorflow:Assets written to: pretrain/vae/1st_aa_nor_package\\assets\n"
     ]
    },
    {
     "name": "stdout",
     "output_type": "stream",
     "text": [
      "Model saved to pretrain/vae/1st_aa_nor_package.\n",
      "\n",
      "epoch 9\n",
      "6248/6248 [==============================] - 51s 8ms/step - train_model_loss: 24.8618 - train_reconstruction_loss: 20.3479 - train_kl_loss: 1.5891e-04 - train_regression_loss: 3.0169 - val_model_loss: 24.9258 - val_reconstruction_loss: 20.3643 - val_kl_loss: 1.4990e-04 - val_regression_loss: 3.0409\n",
      "WARNING:tensorflow:Compiled the loaded model, but the compiled metrics have yet to be built. `model.compile_metrics` will be empty until you train or evaluate the model.\n"
     ]
    },
    {
     "name": "stderr",
     "output_type": "stream",
     "text": [
      "WARNING:tensorflow:Compiled the loaded model, but the compiled metrics have yet to be built. `model.compile_metrics` will be empty until you train or evaluate the model.\n"
     ]
    },
    {
     "name": "stdout",
     "output_type": "stream",
     "text": [
      "INFO:tensorflow:Assets written to: pretrain/vae/1st_aa_nor_package\\assets\n"
     ]
    },
    {
     "name": "stderr",
     "output_type": "stream",
     "text": [
      "INFO:tensorflow:Assets written to: pretrain/vae/1st_aa_nor_package\\assets\n"
     ]
    },
    {
     "name": "stdout",
     "output_type": "stream",
     "text": [
      "Model saved to pretrain/vae/1st_aa_nor_package.\n",
      "\n",
      "epoch 10\n",
      "6248/6248 [==============================] - 52s 8ms/step - train_model_loss: 24.8457 - train_reconstruction_loss: 20.3616 - train_kl_loss: 1.8185e-04 - train_regression_loss: 2.9943 - val_model_loss: 24.5144 - val_reconstruction_loss: 20.3617 - val_kl_loss: 2.7749e-04 - val_regression_loss: 2.7780\n",
      "WARNING:tensorflow:Compiled the loaded model, but the compiled metrics have yet to be built. `model.compile_metrics` will be empty until you train or evaluate the model.\n"
     ]
    },
    {
     "name": "stderr",
     "output_type": "stream",
     "text": [
      "WARNING:tensorflow:Compiled the loaded model, but the compiled metrics have yet to be built. `model.compile_metrics` will be empty until you train or evaluate the model.\n"
     ]
    },
    {
     "name": "stdout",
     "output_type": "stream",
     "text": [
      "INFO:tensorflow:Assets written to: pretrain/vae/1st_aa_nor_package\\assets\n"
     ]
    },
    {
     "name": "stderr",
     "output_type": "stream",
     "text": [
      "INFO:tensorflow:Assets written to: pretrain/vae/1st_aa_nor_package\\assets\n"
     ]
    },
    {
     "name": "stdout",
     "output_type": "stream",
     "text": [
      "Model saved to pretrain/vae/1st_aa_nor_package.\n",
      "\n",
      "epoch 11\n",
      "6248/6248 [==============================] - 53s 9ms/step - train_model_loss: 24.7527 - train_reconstruction_loss: 20.3596 - train_kl_loss: 2.2002e-04 - train_regression_loss: 2.9258 - val_model_loss: 24.7387 - val_reconstruction_loss: 20.3479 - val_kl_loss: 5.1097e-04 - val_regression_loss: 2.9216\n",
      "WARNING:tensorflow:Compiled the loaded model, but the compiled metrics have yet to be built. `model.compile_metrics` will be empty until you train or evaluate the model.\n"
     ]
    },
    {
     "name": "stderr",
     "output_type": "stream",
     "text": [
      "WARNING:tensorflow:Compiled the loaded model, but the compiled metrics have yet to be built. `model.compile_metrics` will be empty until you train or evaluate the model.\n"
     ]
    },
    {
     "name": "stdout",
     "output_type": "stream",
     "text": [
      "INFO:tensorflow:Assets written to: pretrain/vae/1st_aa_nor_package\\assets\n"
     ]
    },
    {
     "name": "stderr",
     "output_type": "stream",
     "text": [
      "INFO:tensorflow:Assets written to: pretrain/vae/1st_aa_nor_package\\assets\n"
     ]
    },
    {
     "name": "stdout",
     "output_type": "stream",
     "text": [
      "Model saved to pretrain/vae/1st_aa_nor_package.\n",
      "\n",
      "epoch 12\n",
      "6248/6248 [==============================] - 51s 8ms/step - train_model_loss: 24.6864 - train_reconstruction_loss: 20.3614 - train_kl_loss: 3.6578e-04 - train_regression_loss: 2.8839 - val_model_loss: 24.7073 - val_reconstruction_loss: 20.3583 - val_kl_loss: 2.9297e-04 - val_regression_loss: 2.9064\n",
      "WARNING:tensorflow:Compiled the loaded model, but the compiled metrics have yet to be built. `model.compile_metrics` will be empty until you train or evaluate the model.\n"
     ]
    },
    {
     "name": "stderr",
     "output_type": "stream",
     "text": [
      "WARNING:tensorflow:Compiled the loaded model, but the compiled metrics have yet to be built. `model.compile_metrics` will be empty until you train or evaluate the model.\n"
     ]
    },
    {
     "name": "stdout",
     "output_type": "stream",
     "text": [
      "INFO:tensorflow:Assets written to: pretrain/vae/1st_aa_nor_package\\assets\n"
     ]
    },
    {
     "name": "stderr",
     "output_type": "stream",
     "text": [
      "INFO:tensorflow:Assets written to: pretrain/vae/1st_aa_nor_package\\assets\n"
     ]
    },
    {
     "name": "stdout",
     "output_type": "stream",
     "text": [
      "Model saved to pretrain/vae/1st_aa_nor_package.\n",
      "\n",
      "epoch 13\n",
      "6248/6248 [==============================] - 53s 8ms/step - train_model_loss: 24.6043 - train_reconstruction_loss: 20.3516 - train_kl_loss: 3.9991e-04 - train_regression_loss: 2.8417 - val_model_loss: 24.2174 - val_reconstruction_loss: 20.3332 - val_kl_loss: 1.3107e-04 - val_regression_loss: 2.5843\n",
      "WARNING:tensorflow:Compiled the loaded model, but the compiled metrics have yet to be built. `model.compile_metrics` will be empty until you train or evaluate the model.\n"
     ]
    },
    {
     "name": "stderr",
     "output_type": "stream",
     "text": [
      "WARNING:tensorflow:Compiled the loaded model, but the compiled metrics have yet to be built. `model.compile_metrics` will be empty until you train or evaluate the model.\n"
     ]
    },
    {
     "name": "stdout",
     "output_type": "stream",
     "text": [
      "INFO:tensorflow:Assets written to: pretrain/vae/1st_aa_nor_package\\assets\n"
     ]
    },
    {
     "name": "stderr",
     "output_type": "stream",
     "text": [
      "INFO:tensorflow:Assets written to: pretrain/vae/1st_aa_nor_package\\assets\n"
     ]
    },
    {
     "name": "stdout",
     "output_type": "stream",
     "text": [
      "Model saved to pretrain/vae/1st_aa_nor_package.\n",
      "\n",
      "epoch 14\n",
      "6248/6248 [==============================] - 51s 8ms/step - train_model_loss: 24.4986 - train_reconstruction_loss: 20.3499 - train_kl_loss: 2.4487e-04 - train_regression_loss: 2.7629 - val_model_loss: 24.0693 - val_reconstruction_loss: 20.3410 - val_kl_loss: 3.1143e-04 - val_regression_loss: 2.4854\n",
      "WARNING:tensorflow:Compiled the loaded model, but the compiled metrics have yet to be built. `model.compile_metrics` will be empty until you train or evaluate the model.\n"
     ]
    },
    {
     "name": "stderr",
     "output_type": "stream",
     "text": [
      "WARNING:tensorflow:Compiled the loaded model, but the compiled metrics have yet to be built. `model.compile_metrics` will be empty until you train or evaluate the model.\n"
     ]
    },
    {
     "name": "stdout",
     "output_type": "stream",
     "text": [
      "INFO:tensorflow:Assets written to: pretrain/vae/1st_aa_nor_package\\assets\n"
     ]
    },
    {
     "name": "stderr",
     "output_type": "stream",
     "text": [
      "INFO:tensorflow:Assets written to: pretrain/vae/1st_aa_nor_package\\assets\n"
     ]
    },
    {
     "name": "stdout",
     "output_type": "stream",
     "text": [
      "Model saved to pretrain/vae/1st_aa_nor_package.\n",
      "\n",
      "epoch 15\n",
      "6248/6248 [==============================] - 51s 8ms/step - train_model_loss: 24.4507 - train_reconstruction_loss: 20.3510 - train_kl_loss: 3.3765e-04 - train_regression_loss: 2.7312 - val_model_loss: 24.0445 - val_reconstruction_loss: 20.3724 - val_kl_loss: 6.3920e-04 - val_regression_loss: 2.4437\n",
      "WARNING:tensorflow:Compiled the loaded model, but the compiled metrics have yet to be built. `model.compile_metrics` will be empty until you train or evaluate the model.\n"
     ]
    },
    {
     "name": "stderr",
     "output_type": "stream",
     "text": [
      "WARNING:tensorflow:Compiled the loaded model, but the compiled metrics have yet to be built. `model.compile_metrics` will be empty until you train or evaluate the model.\n"
     ]
    },
    {
     "name": "stdout",
     "output_type": "stream",
     "text": [
      "INFO:tensorflow:Assets written to: pretrain/vae/1st_aa_nor_package\\assets\n"
     ]
    },
    {
     "name": "stderr",
     "output_type": "stream",
     "text": [
      "INFO:tensorflow:Assets written to: pretrain/vae/1st_aa_nor_package\\assets\n"
     ]
    },
    {
     "name": "stdout",
     "output_type": "stream",
     "text": [
      "Model saved to pretrain/vae/1st_aa_nor_package.\n",
      "\n",
      "epoch 16\n",
      "6248/6248 [==============================] - 54s 9ms/step - train_model_loss: 24.3241 - train_reconstruction_loss: 20.3554 - train_kl_loss: 4.2825e-04 - train_regression_loss: 2.6530 - val_model_loss: 23.9968 - val_reconstruction_loss: 20.3673 - val_kl_loss: 4.8421e-04 - val_regression_loss: 2.4193\n",
      "WARNING:tensorflow:Compiled the loaded model, but the compiled metrics have yet to be built. `model.compile_metrics` will be empty until you train or evaluate the model.\n"
     ]
    },
    {
     "name": "stderr",
     "output_type": "stream",
     "text": [
      "WARNING:tensorflow:Compiled the loaded model, but the compiled metrics have yet to be built. `model.compile_metrics` will be empty until you train or evaluate the model.\n"
     ]
    },
    {
     "name": "stdout",
     "output_type": "stream",
     "text": [
      "INFO:tensorflow:Assets written to: pretrain/vae/1st_aa_nor_package\\assets\n"
     ]
    },
    {
     "name": "stderr",
     "output_type": "stream",
     "text": [
      "INFO:tensorflow:Assets written to: pretrain/vae/1st_aa_nor_package\\assets\n"
     ]
    },
    {
     "name": "stdout",
     "output_type": "stream",
     "text": [
      "Model saved to pretrain/vae/1st_aa_nor_package.\n",
      "\n",
      "epoch 17\n",
      "6248/6248 [==============================] - 55s 9ms/step - train_model_loss: 24.2147 - train_reconstruction_loss: 20.3482 - train_kl_loss: 0.0022 - train_regression_loss: 2.5768 - val_model_loss: 24.0359 - val_reconstruction_loss: 20.3348 - val_kl_loss: 3.3840e-04 - val_regression_loss: 2.4659\n",
      "WARNING:tensorflow:Compiled the loaded model, but the compiled metrics have yet to be built. `model.compile_metrics` will be empty until you train or evaluate the model.\n"
     ]
    },
    {
     "name": "stderr",
     "output_type": "stream",
     "text": [
      "WARNING:tensorflow:Compiled the loaded model, but the compiled metrics have yet to be built. `model.compile_metrics` will be empty until you train or evaluate the model.\n"
     ]
    },
    {
     "name": "stdout",
     "output_type": "stream",
     "text": [
      "INFO:tensorflow:Assets written to: pretrain/vae/1st_aa_nor_package\\assets\n"
     ]
    },
    {
     "name": "stderr",
     "output_type": "stream",
     "text": [
      "INFO:tensorflow:Assets written to: pretrain/vae/1st_aa_nor_package\\assets\n"
     ]
    },
    {
     "name": "stdout",
     "output_type": "stream",
     "text": [
      "Model saved to pretrain/vae/1st_aa_nor_package.\n",
      "\n",
      "epoch 18\n",
      "6248/6248 [==============================] - 52s 8ms/step - train_model_loss: 24.0757 - train_reconstruction_loss: 20.3451 - train_kl_loss: 3.0149e-04 - train_regression_loss: 2.4917 - val_model_loss: 23.7759 - val_reconstruction_loss: 20.3096 - val_kl_loss: 4.9207e-04 - val_regression_loss: 2.3078\n",
      "WARNING:tensorflow:Compiled the loaded model, but the compiled metrics have yet to be built. `model.compile_metrics` will be empty until you train or evaluate the model.\n"
     ]
    },
    {
     "name": "stderr",
     "output_type": "stream",
     "text": [
      "WARNING:tensorflow:Compiled the loaded model, but the compiled metrics have yet to be built. `model.compile_metrics` will be empty until you train or evaluate the model.\n"
     ]
    },
    {
     "name": "stdout",
     "output_type": "stream",
     "text": [
      "INFO:tensorflow:Assets written to: pretrain/vae/1st_aa_nor_package\\assets\n"
     ]
    },
    {
     "name": "stderr",
     "output_type": "stream",
     "text": [
      "INFO:tensorflow:Assets written to: pretrain/vae/1st_aa_nor_package\\assets\n"
     ]
    },
    {
     "name": "stdout",
     "output_type": "stream",
     "text": [
      "Model saved to pretrain/vae/1st_aa_nor_package.\n",
      "\n",
      "epoch 19\n",
      "6248/6248 [==============================] - 51s 8ms/step - train_model_loss: 23.9976 - train_reconstruction_loss: 20.3479 - train_kl_loss: 1.7187e-04 - train_regression_loss: 2.4319 - val_model_loss: 23.9864 - val_reconstruction_loss: 20.3442 - val_kl_loss: 1.9037e-04 - val_regression_loss: 2.4269\n",
      "WARNING:tensorflow:Compiled the loaded model, but the compiled metrics have yet to be built. `model.compile_metrics` will be empty until you train or evaluate the model.\n"
     ]
    },
    {
     "name": "stderr",
     "output_type": "stream",
     "text": [
      "WARNING:tensorflow:Compiled the loaded model, but the compiled metrics have yet to be built. `model.compile_metrics` will be empty until you train or evaluate the model.\n"
     ]
    },
    {
     "name": "stdout",
     "output_type": "stream",
     "text": [
      "INFO:tensorflow:Assets written to: pretrain/vae/1st_aa_nor_package\\assets\n"
     ]
    },
    {
     "name": "stderr",
     "output_type": "stream",
     "text": [
      "INFO:tensorflow:Assets written to: pretrain/vae/1st_aa_nor_package\\assets\n"
     ]
    },
    {
     "name": "stdout",
     "output_type": "stream",
     "text": [
      "Model saved to pretrain/vae/1st_aa_nor_package.\n",
      "\n",
      "epoch 20\n",
      "6248/6248 [==============================] - 51s 8ms/step - train_model_loss: 23.8671 - train_reconstruction_loss: 20.3481 - train_kl_loss: 1.9480e-04 - train_regression_loss: 2.3479 - val_model_loss: 23.5159 - val_reconstruction_loss: 20.3581 - val_kl_loss: 1.6577e-04 - val_regression_loss: 2.1061\n",
      "WARNING:tensorflow:Compiled the loaded model, but the compiled metrics have yet to be built. `model.compile_metrics` will be empty until you train or evaluate the model.\n"
     ]
    },
    {
     "name": "stderr",
     "output_type": "stream",
     "text": [
      "WARNING:tensorflow:Compiled the loaded model, but the compiled metrics have yet to be built. `model.compile_metrics` will be empty until you train or evaluate the model.\n"
     ]
    },
    {
     "name": "stdout",
     "output_type": "stream",
     "text": [
      "INFO:tensorflow:Assets written to: pretrain/vae/1st_aa_nor_package\\assets\n"
     ]
    },
    {
     "name": "stderr",
     "output_type": "stream",
     "text": [
      "INFO:tensorflow:Assets written to: pretrain/vae/1st_aa_nor_package\\assets\n"
     ]
    },
    {
     "name": "stdout",
     "output_type": "stream",
     "text": [
      "Model saved to pretrain/vae/1st_aa_nor_package.\n",
      "\n",
      "epoch 21\n",
      "6248/6248 [==============================] - 51s 8ms/step - train_model_loss: 23.7587 - train_reconstruction_loss: 20.3561 - train_kl_loss: 3.0934e-04 - train_regression_loss: 2.2731 - val_model_loss: 23.5469 - val_reconstruction_loss: 20.3346 - val_kl_loss: 5.8368e-04 - val_regression_loss: 2.1407\n",
      "WARNING:tensorflow:Compiled the loaded model, but the compiled metrics have yet to be built. `model.compile_metrics` will be empty until you train or evaluate the model.\n"
     ]
    },
    {
     "name": "stderr",
     "output_type": "stream",
     "text": [
      "WARNING:tensorflow:Compiled the loaded model, but the compiled metrics have yet to be built. `model.compile_metrics` will be empty until you train or evaluate the model.\n"
     ]
    },
    {
     "name": "stdout",
     "output_type": "stream",
     "text": [
      "INFO:tensorflow:Assets written to: pretrain/vae/1st_aa_nor_package\\assets\n"
     ]
    },
    {
     "name": "stderr",
     "output_type": "stream",
     "text": [
      "INFO:tensorflow:Assets written to: pretrain/vae/1st_aa_nor_package\\assets\n"
     ]
    },
    {
     "name": "stdout",
     "output_type": "stream",
     "text": [
      "Model saved to pretrain/vae/1st_aa_nor_package.\n",
      "\n",
      "epoch 22\n",
      "6248/6248 [==============================] - 51s 8ms/step - train_model_loss: 23.5774 - train_reconstruction_loss: 20.3521 - train_kl_loss: 0.0020 - train_regression_loss: 2.1480 - val_model_loss: 23.1906 - val_reconstruction_loss: 20.3380 - val_kl_loss: 3.9725e-04 - val_regression_loss: 1.9041\n",
      "WARNING:tensorflow:Compiled the loaded model, but the compiled metrics have yet to be built. `model.compile_metrics` will be empty until you train or evaluate the model.\n"
     ]
    },
    {
     "name": "stderr",
     "output_type": "stream",
     "text": [
      "WARNING:tensorflow:Compiled the loaded model, but the compiled metrics have yet to be built. `model.compile_metrics` will be empty until you train or evaluate the model.\n"
     ]
    },
    {
     "name": "stdout",
     "output_type": "stream",
     "text": [
      "INFO:tensorflow:Assets written to: pretrain/vae/1st_aa_nor_package\\assets\n"
     ]
    },
    {
     "name": "stderr",
     "output_type": "stream",
     "text": [
      "INFO:tensorflow:Assets written to: pretrain/vae/1st_aa_nor_package\\assets\n"
     ]
    },
    {
     "name": "stdout",
     "output_type": "stream",
     "text": [
      "Model saved to pretrain/vae/1st_aa_nor_package.\n",
      "\n",
      "epoch 23\n",
      "6248/6248 [==============================] - 53s 8ms/step - train_model_loss: 23.4838 - train_reconstruction_loss: 20.3515 - train_kl_loss: 4.4389e-04 - train_regression_loss: 2.0890 - val_model_loss: 23.2990 - val_reconstruction_loss: 20.3734 - val_kl_loss: 0.0014 - val_regression_loss: 1.9478\n",
      "WARNING:tensorflow:Compiled the loaded model, but the compiled metrics have yet to be built. `model.compile_metrics` will be empty until you train or evaluate the model.\n"
     ]
    },
    {
     "name": "stderr",
     "output_type": "stream",
     "text": [
      "WARNING:tensorflow:Compiled the loaded model, but the compiled metrics have yet to be built. `model.compile_metrics` will be empty until you train or evaluate the model.\n"
     ]
    },
    {
     "name": "stdout",
     "output_type": "stream",
     "text": [
      "INFO:tensorflow:Assets written to: pretrain/vae/1st_aa_nor_package\\assets\n"
     ]
    },
    {
     "name": "stderr",
     "output_type": "stream",
     "text": [
      "INFO:tensorflow:Assets written to: pretrain/vae/1st_aa_nor_package\\assets\n"
     ]
    },
    {
     "name": "stdout",
     "output_type": "stream",
     "text": [
      "Model saved to pretrain/vae/1st_aa_nor_package.\n",
      "\n",
      "epoch 24\n",
      "6248/6248 [==============================] - 51s 8ms/step - train_model_loss: 23.3645 - train_reconstruction_loss: 20.3462 - train_kl_loss: 3.6050e-04 - train_regression_loss: 2.0101 - val_model_loss: 23.0198 - val_reconstruction_loss: 20.3587 - val_kl_loss: 2.6231e-04 - val_regression_loss: 1.7794\n",
      "WARNING:tensorflow:Compiled the loaded model, but the compiled metrics have yet to be built. `model.compile_metrics` will be empty until you train or evaluate the model.\n"
     ]
    },
    {
     "name": "stderr",
     "output_type": "stream",
     "text": [
      "WARNING:tensorflow:Compiled the loaded model, but the compiled metrics have yet to be built. `model.compile_metrics` will be empty until you train or evaluate the model.\n"
     ]
    },
    {
     "name": "stdout",
     "output_type": "stream",
     "text": [
      "INFO:tensorflow:Assets written to: pretrain/vae/1st_aa_nor_package\\assets\n"
     ]
    },
    {
     "name": "stderr",
     "output_type": "stream",
     "text": [
      "INFO:tensorflow:Assets written to: pretrain/vae/1st_aa_nor_package\\assets\n"
     ]
    },
    {
     "name": "stdout",
     "output_type": "stream",
     "text": [
      "Model saved to pretrain/vae/1st_aa_nor_package.\n",
      "\n",
      "epoch 25\n",
      "6248/6248 [==============================] - 51s 8ms/step - train_model_loss: 23.2365 - train_reconstruction_loss: 20.3587 - train_kl_loss: 1.9493e-04 - train_regression_loss: 1.9204 - val_model_loss: 22.9249 - val_reconstruction_loss: 20.3628 - val_kl_loss: 4.4238e-04 - val_regression_loss: 1.7092\n",
      "WARNING:tensorflow:Compiled the loaded model, but the compiled metrics have yet to be built. `model.compile_metrics` will be empty until you train or evaluate the model.\n"
     ]
    },
    {
     "name": "stderr",
     "output_type": "stream",
     "text": [
      "WARNING:tensorflow:Compiled the loaded model, but the compiled metrics have yet to be built. `model.compile_metrics` will be empty until you train or evaluate the model.\n"
     ]
    },
    {
     "name": "stdout",
     "output_type": "stream",
     "text": [
      "INFO:tensorflow:Assets written to: pretrain/vae/1st_aa_nor_package\\assets\n"
     ]
    },
    {
     "name": "stderr",
     "output_type": "stream",
     "text": [
      "INFO:tensorflow:Assets written to: pretrain/vae/1st_aa_nor_package\\assets\n"
     ]
    },
    {
     "name": "stdout",
     "output_type": "stream",
     "text": [
      "Model saved to pretrain/vae/1st_aa_nor_package.\n",
      "\n",
      "epoch 26\n",
      "6248/6248 [==============================] - 52s 8ms/step - train_model_loss: 23.1378 - train_reconstruction_loss: 20.3527 - train_kl_loss: 4.0764e-04 - train_regression_loss: 1.8546 - val_model_loss: 22.9143 - val_reconstruction_loss: 20.3714 - val_kl_loss: 5.4446e-04 - val_regression_loss: 1.6931\n",
      "WARNING:tensorflow:Compiled the loaded model, but the compiled metrics have yet to be built. `model.compile_metrics` will be empty until you train or evaluate the model.\n"
     ]
    },
    {
     "name": "stderr",
     "output_type": "stream",
     "text": [
      "WARNING:tensorflow:Compiled the loaded model, but the compiled metrics have yet to be built. `model.compile_metrics` will be empty until you train or evaluate the model.\n"
     ]
    },
    {
     "name": "stdout",
     "output_type": "stream",
     "text": [
      "INFO:tensorflow:Assets written to: pretrain/vae/1st_aa_nor_package\\assets\n"
     ]
    },
    {
     "name": "stderr",
     "output_type": "stream",
     "text": [
      "INFO:tensorflow:Assets written to: pretrain/vae/1st_aa_nor_package\\assets\n"
     ]
    },
    {
     "name": "stdout",
     "output_type": "stream",
     "text": [
      "Model saved to pretrain/vae/1st_aa_nor_package.\n",
      "\n",
      "epoch 27\n",
      "6248/6248 [==============================] - 52s 8ms/step - train_model_loss: 22.9912 - train_reconstruction_loss: 20.3452 - train_kl_loss: 0.0011 - train_regression_loss: 1.7658 - val_model_loss: 22.7955 - val_reconstruction_loss: 20.3243 - val_kl_loss: 2.9372e-04 - val_regression_loss: 1.6472\n",
      "WARNING:tensorflow:Compiled the loaded model, but the compiled metrics have yet to be built. `model.compile_metrics` will be empty until you train or evaluate the model.\n"
     ]
    },
    {
     "name": "stderr",
     "output_type": "stream",
     "text": [
      "WARNING:tensorflow:Compiled the loaded model, but the compiled metrics have yet to be built. `model.compile_metrics` will be empty until you train or evaluate the model.\n"
     ]
    },
    {
     "name": "stdout",
     "output_type": "stream",
     "text": [
      "INFO:tensorflow:Assets written to: pretrain/vae/1st_aa_nor_package\\assets\n"
     ]
    },
    {
     "name": "stderr",
     "output_type": "stream",
     "text": [
      "INFO:tensorflow:Assets written to: pretrain/vae/1st_aa_nor_package\\assets\n"
     ]
    },
    {
     "name": "stdout",
     "output_type": "stream",
     "text": [
      "Model saved to pretrain/vae/1st_aa_nor_package.\n",
      "\n",
      "epoch 28\n",
      "6248/6248 [==============================] - 55s 9ms/step - train_model_loss: 22.9141 - train_reconstruction_loss: 20.3549 - train_kl_loss: 3.3029e-04 - train_regression_loss: 1.7080 - val_model_loss: 22.6939 - val_reconstruction_loss: 20.3463 - val_kl_loss: 4.7226e-04 - val_regression_loss: 1.5650\n",
      "WARNING:tensorflow:Compiled the loaded model, but the compiled metrics have yet to be built. `model.compile_metrics` will be empty until you train or evaluate the model.\n"
     ]
    },
    {
     "name": "stderr",
     "output_type": "stream",
     "text": [
      "WARNING:tensorflow:Compiled the loaded model, but the compiled metrics have yet to be built. `model.compile_metrics` will be empty until you train or evaluate the model.\n"
     ]
    },
    {
     "name": "stdout",
     "output_type": "stream",
     "text": [
      "INFO:tensorflow:Assets written to: pretrain/vae/1st_aa_nor_package\\assets\n"
     ]
    },
    {
     "name": "stderr",
     "output_type": "stream",
     "text": [
      "INFO:tensorflow:Assets written to: pretrain/vae/1st_aa_nor_package\\assets\n"
     ]
    },
    {
     "name": "stdout",
     "output_type": "stream",
     "text": [
      "Model saved to pretrain/vae/1st_aa_nor_package.\n",
      "\n",
      "epoch 29\n",
      "6248/6248 [==============================] - 52s 8ms/step - train_model_loss: 22.8292 - train_reconstruction_loss: 20.3510 - train_kl_loss: 2.3141e-04 - train_regression_loss: 1.6545 - val_model_loss: 22.4886 - val_reconstruction_loss: 20.3582 - val_kl_loss: 2.1318e-04 - val_regression_loss: 1.4180\n",
      "WARNING:tensorflow:Compiled the loaded model, but the compiled metrics have yet to be built. `model.compile_metrics` will be empty until you train or evaluate the model.\n"
     ]
    },
    {
     "name": "stderr",
     "output_type": "stream",
     "text": [
      "WARNING:tensorflow:Compiled the loaded model, but the compiled metrics have yet to be built. `model.compile_metrics` will be empty until you train or evaluate the model.\n"
     ]
    },
    {
     "name": "stdout",
     "output_type": "stream",
     "text": [
      "INFO:tensorflow:Assets written to: pretrain/vae/1st_aa_nor_package\\assets\n"
     ]
    },
    {
     "name": "stderr",
     "output_type": "stream",
     "text": [
      "INFO:tensorflow:Assets written to: pretrain/vae/1st_aa_nor_package\\assets\n"
     ]
    },
    {
     "name": "stdout",
     "output_type": "stream",
     "text": [
      "Model saved to pretrain/vae/1st_aa_nor_package.\n",
      "\n",
      "epoch 30\n",
      "6248/6248 [==============================] - 51s 8ms/step - train_model_loss: 22.7186 - train_reconstruction_loss: 20.3514 - train_kl_loss: 5.5617e-04 - train_regression_loss: 1.5781 - val_model_loss: 22.3955 - val_reconstruction_loss: 20.3540 - val_kl_loss: 5.4592e-04 - val_regression_loss: 1.3591\n",
      "WARNING:tensorflow:Compiled the loaded model, but the compiled metrics have yet to be built. `model.compile_metrics` will be empty until you train or evaluate the model.\n"
     ]
    },
    {
     "name": "stderr",
     "output_type": "stream",
     "text": [
      "WARNING:tensorflow:Compiled the loaded model, but the compiled metrics have yet to be built. `model.compile_metrics` will be empty until you train or evaluate the model.\n"
     ]
    },
    {
     "name": "stdout",
     "output_type": "stream",
     "text": [
      "INFO:tensorflow:Assets written to: pretrain/vae/1st_aa_nor_package\\assets\n"
     ]
    },
    {
     "name": "stderr",
     "output_type": "stream",
     "text": [
      "INFO:tensorflow:Assets written to: pretrain/vae/1st_aa_nor_package\\assets\n"
     ]
    },
    {
     "name": "stdout",
     "output_type": "stream",
     "text": [
      "Model saved to pretrain/vae/1st_aa_nor_package.\n",
      "Convergence history: [1]\n",
      "\n",
      "epoch 31\n",
      "6248/6248 [==============================] - 51s 8ms/step - train_model_loss: 22.5744 - train_reconstruction_loss: 20.3460 - train_kl_loss: 1.8140e-04 - train_regression_loss: 1.4863 - val_model_loss: 22.2868 - val_reconstruction_loss: 20.3304 - val_kl_loss: 1.8350e-04 - val_regression_loss: 1.3072\n",
      "WARNING:tensorflow:Compiled the loaded model, but the compiled metrics have yet to be built. `model.compile_metrics` will be empty until you train or evaluate the model.\n"
     ]
    },
    {
     "name": "stderr",
     "output_type": "stream",
     "text": [
      "WARNING:tensorflow:Compiled the loaded model, but the compiled metrics have yet to be built. `model.compile_metrics` will be empty until you train or evaluate the model.\n"
     ]
    },
    {
     "name": "stdout",
     "output_type": "stream",
     "text": [
      "INFO:tensorflow:Assets written to: pretrain/vae/1st_aa_nor_package\\assets\n"
     ]
    },
    {
     "name": "stderr",
     "output_type": "stream",
     "text": [
      "INFO:tensorflow:Assets written to: pretrain/vae/1st_aa_nor_package\\assets\n"
     ]
    },
    {
     "name": "stdout",
     "output_type": "stream",
     "text": [
      "Model saved to pretrain/vae/1st_aa_nor_package.\n",
      "Convergence history: [1, 1]\n",
      "\n",
      "epoch 32\n",
      "6248/6248 [==============================] - 51s 8ms/step - train_model_loss: 22.4961 - train_reconstruction_loss: 20.3513 - train_kl_loss: 1.9860e-04 - train_regression_loss: 1.4292 - val_model_loss: 22.1697 - val_reconstruction_loss: 20.3436 - val_kl_loss: 1.7105e-04 - val_regression_loss: 1.2191\n",
      "WARNING:tensorflow:Compiled the loaded model, but the compiled metrics have yet to be built. `model.compile_metrics` will be empty until you train or evaluate the model.\n"
     ]
    },
    {
     "name": "stderr",
     "output_type": "stream",
     "text": [
      "WARNING:tensorflow:Compiled the loaded model, but the compiled metrics have yet to be built. `model.compile_metrics` will be empty until you train or evaluate the model.\n"
     ]
    },
    {
     "name": "stdout",
     "output_type": "stream",
     "text": [
      "INFO:tensorflow:Assets written to: pretrain/vae/1st_aa_nor_package\\assets\n"
     ]
    },
    {
     "name": "stderr",
     "output_type": "stream",
     "text": [
      "INFO:tensorflow:Assets written to: pretrain/vae/1st_aa_nor_package\\assets\n"
     ]
    },
    {
     "name": "stdout",
     "output_type": "stream",
     "text": [
      "Model saved to pretrain/vae/1st_aa_nor_package.\n",
      "Convergence history: [1, 1, 0]\n",
      "\n",
      "epoch 33\n",
      "6248/6248 [==============================] - 54s 9ms/step - train_model_loss: 22.3575 - train_reconstruction_loss: 20.3408 - train_kl_loss: 2.1735e-04 - train_regression_loss: 1.3438 - val_model_loss: 22.1259 - val_reconstruction_loss: 20.3206 - val_kl_loss: 1.9706e-04 - val_regression_loss: 1.2057\n",
      "WARNING:tensorflow:Compiled the loaded model, but the compiled metrics have yet to be built. `model.compile_metrics` will be empty until you train or evaluate the model.\n"
     ]
    },
    {
     "name": "stderr",
     "output_type": "stream",
     "text": [
      "WARNING:tensorflow:Compiled the loaded model, but the compiled metrics have yet to be built. `model.compile_metrics` will be empty until you train or evaluate the model.\n"
     ]
    },
    {
     "name": "stdout",
     "output_type": "stream",
     "text": [
      "INFO:tensorflow:Assets written to: pretrain/vae/1st_aa_nor_package\\assets\n"
     ]
    },
    {
     "name": "stderr",
     "output_type": "stream",
     "text": [
      "INFO:tensorflow:Assets written to: pretrain/vae/1st_aa_nor_package\\assets\n"
     ]
    },
    {
     "name": "stdout",
     "output_type": "stream",
     "text": [
      "Model saved to pretrain/vae/1st_aa_nor_package.\n",
      "Convergence history: [1, 1, 0, 1]\n",
      "\n",
      "epoch 34\n",
      "6248/6248 [==============================] - 51s 8ms/step - train_model_loss: 22.3551 - train_reconstruction_loss: 20.3470 - train_kl_loss: 2.8478e-04 - train_regression_loss: 1.3374 - val_model_loss: 22.1035 - val_reconstruction_loss: 20.3649 - val_kl_loss: 2.2267e-04 - val_regression_loss: 1.1580\n",
      "WARNING:tensorflow:Compiled the loaded model, but the compiled metrics have yet to be built. `model.compile_metrics` will be empty until you train or evaluate the model.\n"
     ]
    },
    {
     "name": "stderr",
     "output_type": "stream",
     "text": [
      "WARNING:tensorflow:Compiled the loaded model, but the compiled metrics have yet to be built. `model.compile_metrics` will be empty until you train or evaluate the model.\n"
     ]
    },
    {
     "name": "stdout",
     "output_type": "stream",
     "text": [
      "INFO:tensorflow:Assets written to: pretrain/vae/1st_aa_nor_package\\assets\n"
     ]
    },
    {
     "name": "stderr",
     "output_type": "stream",
     "text": [
      "INFO:tensorflow:Assets written to: pretrain/vae/1st_aa_nor_package\\assets\n"
     ]
    },
    {
     "name": "stdout",
     "output_type": "stream",
     "text": [
      "Model saved to pretrain/vae/1st_aa_nor_package.\n",
      "Convergence history: [1, 1, 0, 1, 0]\n",
      "\n",
      "epoch 35\n",
      "6248/6248 [==============================] - 52s 8ms/step - train_model_loss: 22.2336 - train_reconstruction_loss: 20.3574 - train_kl_loss: 4.9070e-04 - train_regression_loss: 1.2496 - val_model_loss: 21.9696 - val_reconstruction_loss: 20.3488 - val_kl_loss: 0.0065 - val_regression_loss: 1.0796\n",
      "WARNING:tensorflow:Compiled the loaded model, but the compiled metrics have yet to be built. `model.compile_metrics` will be empty until you train or evaluate the model.\n"
     ]
    },
    {
     "name": "stderr",
     "output_type": "stream",
     "text": [
      "WARNING:tensorflow:Compiled the loaded model, but the compiled metrics have yet to be built. `model.compile_metrics` will be empty until you train or evaluate the model.\n"
     ]
    },
    {
     "name": "stdout",
     "output_type": "stream",
     "text": [
      "INFO:tensorflow:Assets written to: pretrain/vae/1st_aa_nor_package\\assets\n"
     ]
    },
    {
     "name": "stderr",
     "output_type": "stream",
     "text": [
      "INFO:tensorflow:Assets written to: pretrain/vae/1st_aa_nor_package\\assets\n"
     ]
    },
    {
     "name": "stdout",
     "output_type": "stream",
     "text": [
      "Model saved to pretrain/vae/1st_aa_nor_package.\n",
      "Convergence history: [1, 1, 0, 1, 0, 0]\n",
      "\n",
      "epoch 36\n",
      "6248/6248 [==============================] - 51s 8ms/step - train_model_loss: 22.1895 - train_reconstruction_loss: 20.3582 - train_kl_loss: 0.0014 - train_regression_loss: 1.2203 - val_model_loss: 22.0689 - val_reconstruction_loss: 20.3547 - val_kl_loss: 0.0015 - val_regression_loss: 1.1401\n",
      "WARNING:tensorflow:Compiled the loaded model, but the compiled metrics have yet to be built. `model.compile_metrics` will be empty until you train or evaluate the model.\n"
     ]
    },
    {
     "name": "stderr",
     "output_type": "stream",
     "text": [
      "WARNING:tensorflow:Compiled the loaded model, but the compiled metrics have yet to be built. `model.compile_metrics` will be empty until you train or evaluate the model.\n"
     ]
    },
    {
     "name": "stdout",
     "output_type": "stream",
     "text": [
      "INFO:tensorflow:Assets written to: pretrain/vae/1st_aa_nor_package\\assets\n"
     ]
    },
    {
     "name": "stderr",
     "output_type": "stream",
     "text": [
      "INFO:tensorflow:Assets written to: pretrain/vae/1st_aa_nor_package\\assets\n"
     ]
    },
    {
     "name": "stdout",
     "output_type": "stream",
     "text": [
      "Model saved to pretrain/vae/1st_aa_nor_package.\n",
      "Convergence history: [1, 1, 0, 1, 0, 0, 1]\n",
      "\n",
      "epoch 37\n",
      "6248/6248 [==============================] - 51s 8ms/step - train_model_loss: 22.1364 - train_reconstruction_loss: 20.3465 - train_kl_loss: 0.0013 - train_regression_loss: 1.1954 - val_model_loss: 21.8609 - val_reconstruction_loss: 20.3270 - val_kl_loss: 3.1266e-04 - val_regression_loss: 1.0203\n",
      "WARNING:tensorflow:Compiled the loaded model, but the compiled metrics have yet to be built. `model.compile_metrics` will be empty until you train or evaluate the model.\n"
     ]
    },
    {
     "name": "stderr",
     "output_type": "stream",
     "text": [
      "WARNING:tensorflow:Compiled the loaded model, but the compiled metrics have yet to be built. `model.compile_metrics` will be empty until you train or evaluate the model.\n"
     ]
    },
    {
     "name": "stdout",
     "output_type": "stream",
     "text": [
      "INFO:tensorflow:Assets written to: pretrain/vae/1st_aa_nor_package\\assets\n"
     ]
    },
    {
     "name": "stderr",
     "output_type": "stream",
     "text": [
      "INFO:tensorflow:Assets written to: pretrain/vae/1st_aa_nor_package\\assets\n"
     ]
    },
    {
     "name": "stdout",
     "output_type": "stream",
     "text": [
      "Model saved to pretrain/vae/1st_aa_nor_package.\n",
      "Convergence history: [1, 1, 0, 1, 0, 0, 1, 1]\n",
      "\n",
      "epoch 38\n",
      "6248/6248 [==============================] - 52s 8ms/step - train_model_loss: 22.0462 - train_reconstruction_loss: 20.3558 - train_kl_loss: 2.6649e-04 - train_regression_loss: 1.1271 - val_model_loss: 21.8705 - val_reconstruction_loss: 20.3432 - val_kl_loss: 2.0305e-04 - val_regression_loss: 1.0180\n",
      "WARNING:tensorflow:Compiled the loaded model, but the compiled metrics have yet to be built. `model.compile_metrics` will be empty until you train or evaluate the model.\n"
     ]
    },
    {
     "name": "stderr",
     "output_type": "stream",
     "text": [
      "WARNING:tensorflow:Compiled the loaded model, but the compiled metrics have yet to be built. `model.compile_metrics` will be empty until you train or evaluate the model.\n"
     ]
    },
    {
     "name": "stdout",
     "output_type": "stream",
     "text": [
      "INFO:tensorflow:Assets written to: pretrain/vae/1st_aa_nor_package\\assets\n"
     ]
    },
    {
     "name": "stderr",
     "output_type": "stream",
     "text": [
      "INFO:tensorflow:Assets written to: pretrain/vae/1st_aa_nor_package\\assets\n"
     ]
    },
    {
     "name": "stdout",
     "output_type": "stream",
     "text": [
      "Model saved to pretrain/vae/1st_aa_nor_package.\n",
      "Convergence history: [1, 1, 0, 1, 0, 0, 1, 1, 0]\n",
      "\n",
      "epoch 39\n",
      "6248/6248 [==============================] - 52s 8ms/step - train_model_loss: 22.0183 - train_reconstruction_loss: 20.3560 - train_kl_loss: 0.0014 - train_regression_loss: 1.1071 - val_model_loss: 21.7991 - val_reconstruction_loss: 20.3398 - val_kl_loss: 8.2660e-04 - val_regression_loss: 0.9724\n",
      "WARNING:tensorflow:Compiled the loaded model, but the compiled metrics have yet to be built. `model.compile_metrics` will be empty until you train or evaluate the model.\n"
     ]
    },
    {
     "name": "stderr",
     "output_type": "stream",
     "text": [
      "WARNING:tensorflow:Compiled the loaded model, but the compiled metrics have yet to be built. `model.compile_metrics` will be empty until you train or evaluate the model.\n"
     ]
    },
    {
     "name": "stdout",
     "output_type": "stream",
     "text": [
      "INFO:tensorflow:Assets written to: pretrain/vae/1st_aa_nor_package\\assets\n"
     ]
    },
    {
     "name": "stderr",
     "output_type": "stream",
     "text": [
      "INFO:tensorflow:Assets written to: pretrain/vae/1st_aa_nor_package\\assets\n"
     ]
    },
    {
     "name": "stdout",
     "output_type": "stream",
     "text": [
      "Model saved to pretrain/vae/1st_aa_nor_package.\n",
      "Convergence history: [1, 1, 0, 1, 0, 0, 1, 1, 0, 1]\n",
      "\n",
      "epoch 40\n",
      "6248/6248 [==============================] - 52s 8ms/step - train_model_loss: 21.9405 - train_reconstruction_loss: 20.3582 - train_kl_loss: 2.6798e-04 - train_regression_loss: 1.0547 - val_model_loss: 21.7869 - val_reconstruction_loss: 20.3544 - val_kl_loss: 2.5007e-04 - val_regression_loss: 0.9552\n",
      "WARNING:tensorflow:Compiled the loaded model, but the compiled metrics have yet to be built. `model.compile_metrics` will be empty until you train or evaluate the model.\n"
     ]
    },
    {
     "name": "stderr",
     "output_type": "stream",
     "text": [
      "WARNING:tensorflow:Compiled the loaded model, but the compiled metrics have yet to be built. `model.compile_metrics` will be empty until you train or evaluate the model.\n"
     ]
    },
    {
     "name": "stdout",
     "output_type": "stream",
     "text": [
      "INFO:tensorflow:Assets written to: pretrain/vae/1st_aa_nor_package\\assets\n"
     ]
    },
    {
     "name": "stderr",
     "output_type": "stream",
     "text": [
      "INFO:tensorflow:Assets written to: pretrain/vae/1st_aa_nor_package\\assets\n"
     ]
    },
    {
     "name": "stdout",
     "output_type": "stream",
     "text": [
      "Model saved to pretrain/vae/1st_aa_nor_package.\n",
      "Hit maximum epochs.\n",
      "Finished training model. Final overall losses:\n",
      "train: 21.940    val:21.787\n",
      "440/440 [==============================] - 1s 1ms/step\n",
      "440/440 [==============================] - 0s 593us/step\n",
      "\n",
      "MSE of predictions vs true labels: 0.9037927985191345\n",
      "WARNING:tensorflow:Compiled the loaded model, but the compiled metrics have yet to be built. `model.compile_metrics` will be empty until you train or evaluate the model.\n"
     ]
    },
    {
     "name": "stderr",
     "output_type": "stream",
     "text": [
      "WARNING:tensorflow:Compiled the loaded model, but the compiled metrics have yet to be built. `model.compile_metrics` will be empty until you train or evaluate the model.\n"
     ]
    },
    {
     "name": "stdout",
     "output_type": "stream",
     "text": [
      "INFO:tensorflow:Assets written to: e:\\Elite\\Now_repority\\20240220\\trained_models\\2024420_nor_package_2D_40epochs_21.94T_21.79V\\model\\assets\n"
     ]
    },
    {
     "name": "stderr",
     "output_type": "stream",
     "text": [
      "INFO:tensorflow:Assets written to: e:\\Elite\\Now_repority\\20240220\\trained_models\\2024420_nor_package_2D_40epochs_21.94T_21.79V\\model\\assets\n"
     ]
    },
    {
     "name": "stdout",
     "output_type": "stream",
     "text": [
      "Model saved to e:\\Elite\\Now_repority\\20240220\\trained_models\\2024420_nor_package_2D_40epochs_21.94T_21.79V\\model.\n",
      "Losses saved to e:\\Elite\\Now_repority\\20240220\\trained_models\\2024420_nor_package_2D_40epochs_21.94T_21.79V\\loss_log.csv.\n",
      "Train predictions saved to e:\\Elite\\Now_repority\\20240220\\trained_models\\2024420_nor_package_2D_40epochs_21.94T_21.79V\\preds.csv.\n"
     ]
    }
   ],
   "source": [
    "# Train model\n",
    "model, preds_df, model_outdir = train_new(model, train_batches, val_batches, array,outpath,\n",
    "                                        train_df, optimizer=optimizer,                    \n",
    "                                        loss_weights=loss_weights           \n",
    "                        )"
   ]
  },
  {
   "cell_type": "markdown",
   "metadata": {},
   "source": [
    "####  Correlation between result and prediction "
   ]
  },
  {
   "cell_type": "code",
   "execution_count": 77,
   "metadata": {},
   "outputs": [
    {
     "name": "stderr",
     "output_type": "stream",
     "text": [
      "d:\\ProgramData\\anaconda3\\envs\\tf\\lib\\site-packages\\numpy\\lib\\histograms.py:906: RuntimeWarning: invalid value encountered in divide\n",
      "  return n/db/n.sum(), bin_edges\n",
      "WARNING:fontTools.subset:meta NOT subset; don't know how to subset; dropped\n"
     ]
    },
    {
     "data": {
      "image/png": "[encoded data removed]",
      "text/plain": [
       "<Figure size 210x195 with 4 Axes>"
      ]
     },
     "metadata": {},
     "output_type": "display_data"
    }
   ],
   "source": [
    "\n",
    "\n",
    "x = preds_df['y_pred']\n",
    "y = preds_df['y_true']\n",
    "\n",
    "remove = np.isinf(x) & np.isinf(y)\n",
    "x = x[~remove]\n",
    "y = y[~remove]\n",
    "\n",
    "keep = (~np.isinf(x)) & (~np.isinf(y))\n",
    "x_both = x[keep]\n",
    "y_both = y[keep]\n",
    "\n",
    "y_missing = y[np.isinf(x)]\n",
    "x_missing = x[np.isinf(y)]\n",
    "\n",
    "\n",
    "kernel = gaussian_kde(np.vstack([\n",
    "    x_both.sample(n=100, random_state=1), \n",
    "    y_both.sample(n=100, random_state=1)\n",
    "]))\n",
    "c_both = kernel(np.vstack([x_both.values, y_both.values]))\n",
    "\n",
    "\n",
    "fig = plt.figure(figsize=(1.4,1.3), dpi=150)\n",
    "\n",
    "gs = fig.add_gridspec(2, 2, left=0.275, right=0.95, bottom=0.22, top=0.95, \n",
    "                      width_ratios=[1, 6], height_ratios=[6, 1], hspace=0., wspace=0)\n",
    "ax = fig.add_subplot(gs[0, 1])\n",
    "ax.scatter(x_both, y_both, c=c_both, cmap=mpl.cm.inferno, s=0.2, edgecolor='none', rasterized=True)\n",
    "ax.set_xticks([]); ax.set_yticks([])\n",
    "xlim = [-11, 12]\n",
    "bins = np.linspace(*xlim, 25)\n",
    "ax.set_xlim(xlim); ax.set_ylim(xlim)\n",
    "ax.text(0.03, 0.97, r'$r$ = {:.2f}'.format(np.corrcoef(x_both, y_both)[0, 1]),\n",
    "       transform=ax.transAxes, ha='left', va='top', fontsize=7)\n",
    "\n",
    "ax.text(0.97, 0.01, 'n={}'.format(si_format(len(x_both)), precision=2, format_str='{value}{prefix}',), \n",
    "        transform=ax.transAxes, ha='right', va='bottom', fontsize=7)\n",
    "\n",
    "# Left Marginal\n",
    "ax = fig.add_subplot(gs[0, 0])\n",
    "ax.hist(y_missing, bins=bins, edgecolor='none', orientation='horizontal', density=True, color='r')\n",
    "ax.set_ylim(xlim)\n",
    "ax.set_xticks([]); ax.set_yticks([-5, 0, 5, 10, 15,20])\n",
    "ax.text(0.97, 0.97, 'n={}'.format(si_format(len(y_missing)), precision=2, format_str='{value}{prefix}',), \n",
    "        transform=ax.transAxes, ha='right', va='top', fontsize=7, rotation=90, color='r')\n",
    "ax.set_ylabel('Prediction', labelpad=1,fontsize=7)\n",
    "ax.tick_params(axis='both', labelsize=6, length=2, pad=1)\n",
    "\n",
    "# Bottom Marginal\n",
    "ax = fig.add_subplot(gs[1, 1])\n",
    "ax.hist(x_missing, bins=bins, edgecolor='none', density=True, color='r')\n",
    "ax.set_xlim(xlim)\n",
    "ax.set_xticks([-5, 0, 5, 10, 15,20]); ax.set_yticks([])\n",
    "ax.text(0.97, 0.8, 'n={}'.format(si_format(len(x_missing)), precision=2, format_str='{value}{prefix}',), \n",
    "        transform=ax.transAxes, ha='right', va='top', fontsize=7, color='r')\n",
    "ax.set_xlabel('Truth', labelpad=2,fontsize=7)\n",
    "ax.tick_params(axis='both', labelsize=6, length=2, pad=1)\n",
    "\n",
    "\n",
    "# Missing label (not detected in either)\n",
    "ax = fig.add_subplot(gs[1, 0])\n",
    "for spine in ['bottom', 'left']:\n",
    "    ax.spines[spine].set_visible(False)\n",
    "ax.set_xticks([]); ax.set_yticks([])\n",
    "\n",
    "ax.text(0.8, 0.8, 'Missing', transform=ax.transAxes, color='r', ha='right', va='top', fontsize=7, clip_on=False)\n",
    "fig.savefig('../results/vae/1st_results/nor_package/1st_vae_aa_nor_package_correlation_train.pdf',dpi=300,bbox_inches='tight')\n",
    "plt.show()"
   ]
  },
  {
   "cell_type": "code",
   "execution_count": 82,
   "metadata": {},
   "outputs": [
    {
     "data": {
      "image/png": "[encoded data removed]",
      "text/plain": [
       "<Figure size 200x170 with 1 Axes>"
      ]
     },
     "metadata": {},
     "output_type": "display_data"
    },
    {
     "name": "stderr",
     "output_type": "stream",
     "text": [
      "WARNING:fontTools.subset:meta NOT subset; don't know how to subset; dropped\n"
     ]
    }
   ],
   "source": [
    "\n",
    "data = np.array(preds_df['y_pred']) \n",
    "data = data.reshape(-1, 1)  # Convert the data into a column vector\n",
    "\n",
    "# Fit the data using GaussianMixture\n",
    "n_components = 2 # Set the number of components for the hybrid model\n",
    "gmm = GaussianMixture(n_components=n_components)\n",
    "gmm.fit(data)\n",
    "\n",
    "# Get the mean and covariance matrix for each component\n",
    "means = gmm.means_\n",
    "covariances = gmm.covariances_\n",
    "\n",
    "# Generate the fitted distribution\n",
    "x = np.linspace(-7, 5, 100000)\n",
    "x = x.reshape(-1, 1)\n",
    "y = np.exp(gmm.score_samples(x))\n",
    "\n",
    "fig,ax = plt.subplots(figsize=(2,1.7),dpi=100)\n",
    "# Plot the raw data and the distribution after fitting\n",
    "plt.hist(data, bins=100, density=True, alpha=0.6, color = '#BAB3A3',label='Prediction')\n",
    "\n",
    "# 绘制每个分量的正态分布\n",
    "for i in range(n_components):\n",
    "    component = np.exp(-(x - means[i]) ** 2 / (2 * covariances[i]))\n",
    "    component /= np.sqrt(2 * np.pi * covariances[i])\n",
    "    component *= gmm.weights_[i]\n",
    "    if i == 0:\n",
    "        ax.plot(x, component, '-', label=f'Distribution {i + 1}', color='#F66E68', alpha=1)\n",
    "        ax.fill_between(x.flatten(), 0, component.flatten(), color='#F66E68', alpha=0.4)\n",
    "    else:\n",
    "        ax.plot(x, component, '-', label=f'Distribution {i + 1}', color='#457B9D', alpha=1)\n",
    "        ax.fill_between(x.flatten(), 0, component.flatten(), color='#457B9D', alpha=0.4)\n",
    "\n",
    "\n",
    "plt.title('Prediction',fontsize=10)\n",
    "ax.tick_params(axis='both', which='both', length=2,labelsize=10)\n",
    "ax.set_xticks([-5, 0, 5]); \n",
    "# ax.set_yticks([])\n",
    "plt.ylabel('Density',labelpad=1,fontsize=10)\n",
    "plt.xlabel('Nor_package',labelpad=1,fontsize=10)\n",
    "plt.legend(fontsize=7,frameon=False)\n",
    "plt.show()\n",
    "fig.savefig('../results/vae/1st_results/nor_package/1st_vae_prediction_nor_package_distribution_train.pdf',dpi=300,bbox_inches='tight')"
   ]
  },
  {
   "cell_type": "code",
   "execution_count": 83,
   "metadata": {},
   "outputs": [
    {
     "name": "stdout",
     "output_type": "stream",
     "text": [
      "49/49 [==============================] - 0s 611us/step\n",
      "49/49 [==============================] - 0s 626us/step\n",
      "\n",
      "MSE of predictions vs true labels: 0.9807030558586121\n"
     ]
    },
    {
     "data": {
      "text/plain": [
       "0.9120682341049854"
      ]
     },
     "execution_count": 83,
     "metadata": {},
     "output_type": "execute_result"
    }
   ],
   "source": [
    "AA = test_df[array].values\n",
    "X = test_df.drop(columns=[array,'Y--nor_package'])\n",
    "Y = test_df['Y--nor_package'].values\n",
    "preds_df = predict(model, X,array, Y=Y, AA=AA)\n",
    "preds_df['y_pred'].corr(preds_df['y_true'])"
   ]
  },
  {
   "cell_type": "code",
   "execution_count": 84,
   "metadata": {},
   "outputs": [
    {
     "name": "stderr",
     "output_type": "stream",
     "text": [
      "d:\\ProgramData\\anaconda3\\envs\\tf\\lib\\site-packages\\numpy\\lib\\histograms.py:906: RuntimeWarning: invalid value encountered in divide\n",
      "  return n/db/n.sum(), bin_edges\n",
      "WARNING:fontTools.subset:meta NOT subset; don't know how to subset; dropped\n"
     ]
    },
    {
     "data": {
      "image/png": "[encoded data removed]",
      "text/plain": [
       "<Figure size 210x195 with 4 Axes>"
      ]
     },
     "metadata": {},
     "output_type": "display_data"
    }
   ],
   "source": [
    "\n",
    "\n",
    "x = preds_df['y_pred']\n",
    "y = preds_df['y_true']\n",
    "\n",
    "remove = np.isinf(x) & np.isinf(y)\n",
    "x = x[~remove]\n",
    "y = y[~remove]\n",
    "\n",
    "keep = (~np.isinf(x)) & (~np.isinf(y))\n",
    "x_both = x[keep]\n",
    "y_both = y[keep]\n",
    "\n",
    "y_missing = y[np.isinf(x)]\n",
    "x_missing = x[np.isinf(y)]\n",
    "\n",
    "\n",
    "kernel = gaussian_kde(np.vstack([\n",
    "    x_both.sample(n=19, random_state=1), \n",
    "    y_both.sample(n=19, random_state=1)\n",
    "]))\n",
    "c_both = kernel(np.vstack([x_both.values, y_both.values]))\n",
    "\n",
    "\n",
    "fig = plt.figure(figsize=(1.4,1.3), dpi=150)\n",
    "\n",
    "gs = fig.add_gridspec(2, 2, left=0.275, right=0.95, bottom=0.22, top=0.95, \n",
    "                      width_ratios=[1, 6], height_ratios=[6, 1], hspace=0., wspace=0)\n",
    "ax = fig.add_subplot(gs[0, 1])\n",
    "ax.scatter(x_both, y_both, c=c_both, cmap=mpl.cm.inferno, s=0.2, edgecolor='none', rasterized=True)\n",
    "ax.set_xticks([]); ax.set_yticks([])\n",
    "xlim = [-11, 12]\n",
    "bins = np.linspace(*xlim, 25)\n",
    "ax.set_xlim(xlim); ax.set_ylim(xlim)\n",
    "ax.text(0.03, 0.97, r'$r$ = {:.2f}'.format(np.corrcoef(x_both, y_both)[0, 1]),\n",
    "       transform=ax.transAxes, ha='left', va='top', fontsize=7)\n",
    "\n",
    "ax.text(0.97, 0.01, 'n={}'.format(si_format(len(x_both)), precision=2, format_str='{value}{prefix}',), \n",
    "        transform=ax.transAxes, ha='right', va='bottom', fontsize=7)\n",
    "\n",
    "# Left Marginal\n",
    "ax = fig.add_subplot(gs[0, 0])\n",
    "ax.hist(y_missing, bins=bins, edgecolor='none', orientation='horizontal', density=True, color='r')\n",
    "ax.set_ylim(xlim)\n",
    "ax.set_xticks([]); ax.set_yticks([-5, 0, 5, 10, 15,20])\n",
    "ax.text(0.97, 0.97, 'n={}'.format(si_format(len(y_missing)), precision=2, format_str='{value}{prefix}',), \n",
    "        transform=ax.transAxes, ha='right', va='top', fontsize=7, rotation=90, color='r')\n",
    "ax.set_ylabel('Prediction', labelpad=1,fontsize=7)\n",
    "ax.tick_params(axis='both', labelsize=6, length=2, pad=1)\n",
    "\n",
    "# Bottom Marginal\n",
    "ax = fig.add_subplot(gs[1, 1])\n",
    "ax.hist(x_missing, bins=bins, edgecolor='none', density=True, color='r')\n",
    "ax.set_xlim(xlim)\n",
    "ax.set_xticks([-5, 0, 5, 10, 15,20]); ax.set_yticks([])\n",
    "ax.text(0.97, 0.8, 'n={}'.format(si_format(len(x_missing)), precision=2, format_str='{value}{prefix}',), \n",
    "        transform=ax.transAxes, ha='right', va='top', fontsize=7, color='r')\n",
    "ax.set_xlabel('Truth', labelpad=2,fontsize=7)\n",
    "ax.tick_params(axis='both', labelsize=6, length=2, pad=1)\n",
    "\n",
    "\n",
    "# Missing label (not detected in either)\n",
    "ax = fig.add_subplot(gs[1, 0])\n",
    "for spine in ['bottom', 'left']:\n",
    "    ax.spines[spine].set_visible(False)\n",
    "ax.set_xticks([]); ax.set_yticks([])\n",
    "\n",
    "ax.text(0.8, 0.8, 'Missing', transform=ax.transAxes, color='r', ha='right', va='top', fontsize=7, clip_on=False)\n",
    "fig.savefig('../results/vae/1st_results/nor_package/1st_vae_aa_nor_package_correlation_test.pdf',dpi=300,bbox_inches='tight')\n",
    "\n"
   ]
  },
  {
   "cell_type": "code",
   "execution_count": 85,
   "metadata": {},
   "outputs": [
    {
     "data": {
      "image/png": "[encoded data removed]",
      "text/plain": [
       "<Figure size 200x170 with 1 Axes>"
      ]
     },
     "metadata": {},
     "output_type": "display_data"
    },
    {
     "name": "stderr",
     "output_type": "stream",
     "text": [
      "WARNING:fontTools.subset:meta NOT subset; don't know how to subset; dropped\n"
     ]
    }
   ],
   "source": [
    "\n",
    "data = np.array(preds_df['y_pred']) \n",
    "data = data.reshape(-1, 1)  # Convert the data into a column vector\n",
    "\n",
    "# Fit the data using GaussianMixture\n",
    "n_components = 2 # Set the number of components for the hybrid model\n",
    "gmm = GaussianMixture(n_components=n_components)\n",
    "gmm.fit(data)\n",
    "\n",
    "# Get the mean and covariance matrix for each component\n",
    "means = gmm.means_\n",
    "covariances = gmm.covariances_\n",
    "\n",
    "# Generate the fitted distribution\n",
    "x = np.linspace(-7, 5, 100000)\n",
    "x = x.reshape(-1, 1)\n",
    "y = np.exp(gmm.score_samples(x))\n",
    "\n",
    "fig,ax = plt.subplots(figsize=(2,1.7),dpi=100)\n",
    "# Plot the raw data and the distribution after fitting\n",
    "plt.hist(data, bins=100, density=True, alpha=0.6, color = '#BAB3A3',label='Prediction')\n",
    "\n",
    "# 绘制每个分量的正态分布\n",
    "for i in range(n_components):\n",
    "    component = np.exp(-(x - means[i]) ** 2 / (2 * covariances[i]))\n",
    "    component /= np.sqrt(2 * np.pi * covariances[i])\n",
    "    component *= gmm.weights_[i]\n",
    "    if i == 0:\n",
    "        ax.plot(x, component, '-', label=f'Distribution {i + 1}', color='#F66E68', alpha=1)\n",
    "        ax.fill_between(x.flatten(), 0, component.flatten(), color='#F66E68', alpha=0.4)\n",
    "    else:\n",
    "        ax.plot(x, component, '-', label=f'Distribution {i + 1}', color='#457B9D', alpha=1)\n",
    "        ax.fill_between(x.flatten(), 0, component.flatten(), color='#457B9D', alpha=0.4)\n",
    "\n",
    "\n",
    "plt.title('Prediction',fontsize=10)\n",
    "ax.tick_params(axis='both', which='both', length=2,labelsize=10)\n",
    "ax.set_xticks([-5, 0, 5]); \n",
    "# ax.set_yticks([])\n",
    "plt.ylabel('Density',labelpad=1,fontsize=10)\n",
    "plt.xlabel('Nor_package',labelpad=1,fontsize=10)\n",
    "plt.legend(fontsize=7,frameon=False)\n",
    "plt.show()\n",
    "fig.savefig('../results/vae/1st_results/nor_package/1st_vae_prediction_nor_package_distribution_test.pdf',dpi=300,bbox_inches='tight')"
   ]
  },
  {
   "cell_type": "code",
   "execution_count": null,
   "metadata": {},
   "outputs": [],
   "source": []
  },
  {
   "cell_type": "code",
   "execution_count": null,
   "metadata": {},
   "outputs": [],
   "source": []
  }
 ],
 "metadata": {
  "kernelspec": {
   "display_name": "Python 3 (ipykernel)",
   "language": "python",
   "name": "python3"
  },
  "language_info": {
   "codemirror_mode": {
    "name": "ipython",
    "version": 3
   },
   "file_extension": ".py",
   "mimetype": "text/x-python",
   "name": "python",
   "nbconvert_exporter": "python",
   "pygments_lexer": "ipython3",
   "version": "3.8.16"
  },
  "vscode": {
   "interpreter": {
    "hash": "00dedd32bda6164f33307b9f113fca69379b5d26ecb5a9003c28a7bd4ecd46dd"
   }
  }
 },
 "nbformat": 4,
 "nbformat_minor": 4
}
