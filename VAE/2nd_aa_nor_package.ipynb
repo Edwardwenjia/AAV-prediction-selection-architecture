{
 "cells": [
  {
   "cell_type": "code",
   "execution_count": 21,
   "metadata": {
    "is_executing": true
   },
   "outputs": [
    {
     "name": "stdout",
     "output_type": "stream",
     "text": [
      "The autoreload extension is already loaded. To reload it, use:\n",
      "  %reload_ext autoreload\n"
     ]
    }
   ],
   "source": [
    "%load_ext autoreload\n",
    "%autoreload 2"
   ]
  },
  {
   "cell_type": "code",
   "execution_count": 2,
   "metadata": {},
   "outputs": [],
   "source": [
    "import numpy as np\n",
    "import pandas as pd\n",
    "import pickle\n",
    "import random\n",
    "import tensorflow as tf\n",
    "import os\n",
    "import sys\n",
    "from pathlib import Path\n",
    "from sklearn.preprocessing import StandardScaler\n",
    "from mpl_toolkits.axes_grid1 import make_axes_locatable\n",
    "from scipy.stats import gaussian_kde, norm\n",
    "import matplotlib as mpl\n",
    "import matplotlib.pyplot as plt\n",
    "from sklearn.mixture import GaussianMixture\n",
    "\n",
    "from vae.vae import SVAE\n",
    "from vae.train import train,train_new\n",
    "from utils.data_processing import prep_data, make_tf_batches, seq_to_onehot\n",
    "from vae.predict import predict\n",
    "from utils.utils_f4f import heatmap, si_format\n",
    "os.environ['TF_CPP_MIN_LOG_LEVEL'] = '0'\n"
   ]
  },
  {
   "cell_type": "markdown",
   "metadata": {},
   "source": [
    "#### Data_preparetion\n"
   ]
  },
  {
   "cell_type": "code",
   "execution_count": 6,
   "metadata": {},
   "outputs": [
    {
     "data": {
      "text/html": [
       "<div>\n",
       "<style scoped>\n",
       "    .dataframe tbody tr th:only-of-type {\n",
       "        vertical-align: middle;\n",
       "    }\n",
       "\n",
       "    .dataframe tbody tr th {\n",
       "        vertical-align: top;\n",
       "    }\n",
       "\n",
       "    .dataframe thead th {\n",
       "        text-align: right;\n",
       "    }\n",
       "</style>\n",
       "<table border=\"1\" class=\"dataframe\">\n",
       "  <thead>\n",
       "    <tr style=\"text-align: right;\">\n",
       "      <th></th>\n",
       "      <th>AA_sequence</th>\n",
       "      <th>nor_package</th>\n",
       "    </tr>\n",
       "  </thead>\n",
       "  <tbody>\n",
       "    <tr>\n",
       "      <th>6135</th>\n",
       "      <td>QGWFYLH</td>\n",
       "      <td>0.000000</td>\n",
       "    </tr>\n",
       "    <tr>\n",
       "      <th>2265</th>\n",
       "      <td>SGARVVG</td>\n",
       "      <td>0.000000</td>\n",
       "    </tr>\n",
       "    <tr>\n",
       "      <th>7430</th>\n",
       "      <td>KKCLPFA</td>\n",
       "      <td>0.000000</td>\n",
       "    </tr>\n",
       "    <tr>\n",
       "      <th>1321</th>\n",
       "      <td>RLHITVS</td>\n",
       "      <td>0.000000</td>\n",
       "    </tr>\n",
       "    <tr>\n",
       "      <th>3625</th>\n",
       "      <td>YIAFYLS</td>\n",
       "      <td>0.000000</td>\n",
       "    </tr>\n",
       "    <tr>\n",
       "      <th>...</th>\n",
       "      <td>...</td>\n",
       "      <td>...</td>\n",
       "    </tr>\n",
       "    <tr>\n",
       "      <th>8002</th>\n",
       "      <td>GRLVDQM</td>\n",
       "      <td>2.142577</td>\n",
       "    </tr>\n",
       "    <tr>\n",
       "      <th>4345</th>\n",
       "      <td>GRERGAL</td>\n",
       "      <td>2.154674</td>\n",
       "    </tr>\n",
       "    <tr>\n",
       "      <th>3823</th>\n",
       "      <td>SGTGGGG</td>\n",
       "      <td>2.164042</td>\n",
       "    </tr>\n",
       "    <tr>\n",
       "      <th>3541</th>\n",
       "      <td>KGKSLDD</td>\n",
       "      <td>2.188249</td>\n",
       "    </tr>\n",
       "    <tr>\n",
       "      <th>1542</th>\n",
       "      <td>GSSARAE</td>\n",
       "      <td>2.648714</td>\n",
       "    </tr>\n",
       "  </tbody>\n",
       "</table>\n",
       "<p>10209 rows × 2 columns</p>\n",
       "</div>"
      ],
      "text/plain": [
       "     AA_sequence  nor_package\n",
       "6135     QGWFYLH     0.000000\n",
       "2265     SGARVVG     0.000000\n",
       "7430     KKCLPFA     0.000000\n",
       "1321     RLHITVS     0.000000\n",
       "3625     YIAFYLS     0.000000\n",
       "...          ...          ...\n",
       "8002     GRLVDQM     2.142577\n",
       "4345     GRERGAL     2.154674\n",
       "3823     SGTGGGG     2.164042\n",
       "3541     KGKSLDD     2.188249\n",
       "1542     GSSARAE     2.648714\n",
       "\n",
       "[10209 rows x 2 columns]"
      ]
     },
     "execution_count": 6,
     "metadata": {},
     "output_type": "execute_result"
    }
   ],
   "source": [
    "# Import data \n",
    "assay = 'nor_package'\n",
    "array = 'AA_sequence'\n",
    "\n",
    "df_all = pd.read_csv('../data/2nd_10209_Package_aa.tsv',delimiter='\\t')\n",
    "df_all = df_all.rename(columns={'aa':'AA_sequence'})\n",
    "df = df_all[['AA_sequence', 'nor_package']]\n",
    "df= df.sort_values(by='nor_package')\n",
    "\n",
    "#Fill in the nan data and replace the inf value\n",
    "df['nor_package'] = df['nor_package'].fillna(0)  \n",
    "df['nor_package'] = df['nor_package'].replace([np.inf, -np.inf], np.nan)\n",
    "df = df.dropna(subset=['nor_package','AA_sequence'])\n",
    "# df = df.iloc[::50]\n",
    "df"
   ]
  },
  {
   "cell_type": "code",
   "execution_count": 7,
   "metadata": {},
   "outputs": [
    {
     "data": {
      "image/png": "[encoded data removed]",
      "text/plain": [
       "<Figure size 200x170 with 1 Axes>"
      ]
     },
     "metadata": {},
     "output_type": "display_data"
    }
   ],
   "source": [
    "data = np.array(df_all['nor_package']) \n",
    "data = data.reshape(-1, 1)  # Convert the data into a column vector\n",
    "\n",
    "# Fit the data using GaussianMixture\n",
    "n_components = 1 # Set the number of components for the hybrid model\n",
    "gmm = GaussianMixture(n_components=n_components)\n",
    "gmm.fit(data)\n",
    "\n",
    "# Get the mean and covariance matrix for each component\n",
    "means = gmm.means_\n",
    "covariances = gmm.covariances_\n",
    "\n",
    "# Generate the fitted distribution\n",
    "x = np.linspace(-1, 3, 1000)\n",
    "x = x.reshape(-1, 1)\n",
    "y = np.exp(gmm.score_samples(x))\n",
    "\n",
    "fig,ax = plt.subplots(figsize=(2,1.7),dpi=100)\n",
    "# Plot the raw data and the distribution after fitting\n",
    "plt.hist(data, bins=100, density=True, alpha=0.6, color = '#BAB3A3',label='Prediction')\n",
    "\n",
    "# 绘制每个分量的正态分布\n",
    "for i in range(n_components):\n",
    "    component = np.exp(-(x - means[i]) ** 2 / (2 * covariances[i]))\n",
    "    component /= np.sqrt(2 * np.pi * covariances[i])\n",
    "    component *= gmm.weights_[i]\n",
    "    if i == 0:\n",
    "        ax.plot(x, component, '-', label=f'Distribution {i + 1}', color='#F66E68', alpha=1)\n",
    "        ax.fill_between(x.flatten(), 0, component.flatten(), color='#F66E68', alpha=0.4)\n",
    "    else:\n",
    "        ax.plot(x, component, '-', label=f'Distribution {i + 1}', color='#457B9D', alpha=1)\n",
    "        ax.fill_between(x.flatten(), 0, component.flatten(), color='#457B9D', alpha=0.4)\n",
    "\n",
    "\n",
    "plt.title('Truth_distribution',fontsize=10)\n",
    "ax.tick_params(axis='both', which='both', length=2,labelsize=8)\n",
    "ax.set_xticks([-1, 0, 1,2,3,4]); \n",
    "ax.set_xlim([-1,4])\n",
    "plt.ylabel('Density',labelpad=2,fontsize=10)\n",
    "plt.xlabel('Nor_package',labelpad=2,fontsize=10)\n",
    "plt.legend(fontsize=7,frameon=False,loc='best')\n",
    "plt.show()"
   ]
  },
  {
   "cell_type": "markdown",
   "metadata": {},
   "source": [
    "### Prep data and make Tensorflow-compatible data batches\n",
    "\n",
    "`prep_data()` will one-hot encode the `AA_sequence` column and split the data into\n",
    "training and test sets. The training split will be split\n",
    "futher into training and validation batches with `make_tf_batches()`.\n"
   ]
  },
  {
   "cell_type": "code",
   "execution_count": 8,
   "metadata": {},
   "outputs": [],
   "source": [
    "(data_list, train_df, test_df, prepped_df) = prep_data(df, AA_colname=array, target_assay_col=assay)\n",
    "train_df['Y--nor_package'] = train_df['AA_sequence'].map(df.drop_duplicates('AA_sequence').set_index('AA_sequence')['nor_package'])\n",
    "test_df['Y--nor_package'] = test_df['AA_sequence'].map(df.drop_duplicates('AA_sequence').set_index('AA_sequence')['nor_package'])\n",
    "prepped_df['Y--nor_package'] = test_df['AA_sequence'].map(df.drop_duplicates('AA_sequence').set_index('AA_sequence')['nor_package'])"
   ]
  },
  {
   "cell_type": "code",
   "execution_count": 9,
   "metadata": {},
   "outputs": [
    {
     "data": {
      "text/html": [
       "<div>\n",
       "<style scoped>\n",
       "    .dataframe tbody tr th:only-of-type {\n",
       "        vertical-align: middle;\n",
       "    }\n",
       "\n",
       "    .dataframe tbody tr th {\n",
       "        vertical-align: top;\n",
       "    }\n",
       "\n",
       "    .dataframe thead th {\n",
       "        text-align: right;\n",
       "    }\n",
       "</style>\n",
       "<table border=\"1\" class=\"dataframe\">\n",
       "  <thead>\n",
       "    <tr style=\"text-align: right;\">\n",
       "      <th></th>\n",
       "      <th>AA_sequence</th>\n",
       "      <th>x0</th>\n",
       "      <th>x1</th>\n",
       "      <th>x2</th>\n",
       "      <th>x3</th>\n",
       "      <th>x4</th>\n",
       "      <th>x5</th>\n",
       "      <th>x6</th>\n",
       "      <th>x7</th>\n",
       "      <th>x8</th>\n",
       "      <th>...</th>\n",
       "      <th>x132</th>\n",
       "      <th>x133</th>\n",
       "      <th>x134</th>\n",
       "      <th>x135</th>\n",
       "      <th>x136</th>\n",
       "      <th>x137</th>\n",
       "      <th>x138</th>\n",
       "      <th>x139</th>\n",
       "      <th>Y--nor_package</th>\n",
       "      <th>test</th>\n",
       "    </tr>\n",
       "  </thead>\n",
       "  <tbody>\n",
       "    <tr>\n",
       "      <th>count</th>\n",
       "      <td>10209</td>\n",
       "      <td>10209</td>\n",
       "      <td>10209</td>\n",
       "      <td>10209</td>\n",
       "      <td>10209</td>\n",
       "      <td>10209</td>\n",
       "      <td>10209</td>\n",
       "      <td>10209</td>\n",
       "      <td>10209</td>\n",
       "      <td>10209</td>\n",
       "      <td>...</td>\n",
       "      <td>10209</td>\n",
       "      <td>10209</td>\n",
       "      <td>10209</td>\n",
       "      <td>10209</td>\n",
       "      <td>10209</td>\n",
       "      <td>10209</td>\n",
       "      <td>10209</td>\n",
       "      <td>10209</td>\n",
       "      <td>10209</td>\n",
       "      <td>10209</td>\n",
       "    </tr>\n",
       "    <tr>\n",
       "      <th>unique</th>\n",
       "      <td>1</td>\n",
       "      <td>1</td>\n",
       "      <td>1</td>\n",
       "      <td>1</td>\n",
       "      <td>1</td>\n",
       "      <td>1</td>\n",
       "      <td>1</td>\n",
       "      <td>1</td>\n",
       "      <td>1</td>\n",
       "      <td>1</td>\n",
       "      <td>...</td>\n",
       "      <td>1</td>\n",
       "      <td>1</td>\n",
       "      <td>1</td>\n",
       "      <td>1</td>\n",
       "      <td>1</td>\n",
       "      <td>1</td>\n",
       "      <td>1</td>\n",
       "      <td>1</td>\n",
       "      <td>2</td>\n",
       "      <td>1</td>\n",
       "    </tr>\n",
       "    <tr>\n",
       "      <th>top</th>\n",
       "      <td>False</td>\n",
       "      <td>False</td>\n",
       "      <td>False</td>\n",
       "      <td>False</td>\n",
       "      <td>False</td>\n",
       "      <td>False</td>\n",
       "      <td>False</td>\n",
       "      <td>False</td>\n",
       "      <td>False</td>\n",
       "      <td>False</td>\n",
       "      <td>...</td>\n",
       "      <td>False</td>\n",
       "      <td>False</td>\n",
       "      <td>False</td>\n",
       "      <td>False</td>\n",
       "      <td>False</td>\n",
       "      <td>False</td>\n",
       "      <td>False</td>\n",
       "      <td>False</td>\n",
       "      <td>True</td>\n",
       "      <td>False</td>\n",
       "    </tr>\n",
       "    <tr>\n",
       "      <th>freq</th>\n",
       "      <td>10209</td>\n",
       "      <td>10209</td>\n",
       "      <td>10209</td>\n",
       "      <td>10209</td>\n",
       "      <td>10209</td>\n",
       "      <td>10209</td>\n",
       "      <td>10209</td>\n",
       "      <td>10209</td>\n",
       "      <td>10209</td>\n",
       "      <td>10209</td>\n",
       "      <td>...</td>\n",
       "      <td>10209</td>\n",
       "      <td>10209</td>\n",
       "      <td>10209</td>\n",
       "      <td>10209</td>\n",
       "      <td>10209</td>\n",
       "      <td>10209</td>\n",
       "      <td>10209</td>\n",
       "      <td>10209</td>\n",
       "      <td>9189</td>\n",
       "      <td>10209</td>\n",
       "    </tr>\n",
       "  </tbody>\n",
       "</table>\n",
       "<p>4 rows × 143 columns</p>\n",
       "</div>"
      ],
      "text/plain": [
       "       AA_sequence     x0     x1     x2     x3     x4     x5     x6     x7   \n",
       "count        10209  10209  10209  10209  10209  10209  10209  10209  10209  \\\n",
       "unique           1      1      1      1      1      1      1      1      1   \n",
       "top          False  False  False  False  False  False  False  False  False   \n",
       "freq         10209  10209  10209  10209  10209  10209  10209  10209  10209   \n",
       "\n",
       "           x8  ...   x132   x133   x134   x135   x136   x137   x138   x139   \n",
       "count   10209  ...  10209  10209  10209  10209  10209  10209  10209  10209  \\\n",
       "unique      1  ...      1      1      1      1      1      1      1      1   \n",
       "top     False  ...  False  False  False  False  False  False  False  False   \n",
       "freq    10209  ...  10209  10209  10209  10209  10209  10209  10209  10209   \n",
       "\n",
       "       Y--nor_package   test  \n",
       "count           10209  10209  \n",
       "unique              2      1  \n",
       "top              True  False  \n",
       "freq             9189  10209  \n",
       "\n",
       "[4 rows x 143 columns]"
      ]
     },
     "execution_count": 9,
     "metadata": {},
     "output_type": "execute_result"
    }
   ],
   "source": [
    "train_df.isnull().describe()\n",
    "prepped_df.isnull().describe()"
   ]
  },
  {
   "cell_type": "markdown",
   "metadata": {},
   "source": [
    "Now we split `train_df` into TensorFlow-compatible training and validation batches using\n",
    "`make_tf_batches()`. `unbatched_data` is a tuple of Numpy arrays corresponding to the X, Y\n",
    "and CV (if using) values across both the training and validation batches.\n"
   ]
  },
  {
   "cell_type": "code",
   "execution_count": 10,
   "metadata": {},
   "outputs": [],
   "source": [
    "X, Y  = data_list\n",
    "train_batches, val_batches, unbatched_data = make_tf_batches(X, Y)"
   ]
  },
  {
   "cell_type": "code",
   "execution_count": null,
   "metadata": {},
   "outputs": [],
   "source": []
  },
  {
   "cell_type": "markdown",
   "metadata": {},
   "source": [
    "## VAE  model training\n",
    "\n",
    "Default parameterization:Here the model is applied to aa-nor_package learning process, as details\n",
    "\n",
    "- `input_dim = 140`\n",
    "- `latent_dim = 2`\n",
    "- `enc_hidden_dims = [100,40]`\n",
    "- `dec_hidden_dims = [40,100]`\n",
    "- `reg_hidden_dims = [100,10]`\n"
   ]
  },
  {
   "cell_type": "code",
   "execution_count": 11,
   "metadata": {},
   "outputs": [
    {
     "name": "stdout",
     "output_type": "stream",
     "text": [
      "Model: \"svae\"\n",
      "__________________________________________________________________________________________________\n",
      " Layer (type)                Output Shape                 Param #   Connected to                  \n",
      "==================================================================================================\n",
      " encoder_input (InputLayer)  [(None, 140)]                0         []                            \n",
      "                                                                                                  \n",
      " encoder (Functional)        [(None, 2),                  18304     ['encoder_input[0][0]',       \n",
      "                              (None, 2),                             'encoder_input[0][0]']       \n",
      "                              (None, 2)]                                                          \n",
      "                                                                                                  \n",
      " tf.concat_1 (TFOpLambda)    (None, 142)                  0         ['encoder[1][0]',             \n",
      "                                                                     'encoder_input[0][0]']       \n",
      "                                                                                                  \n",
      " decoder (Functional)        (None, 140)                  18360     ['encoder[0][2]']             \n",
      "                                                                                                  \n",
      " regressor (Functional)      (None, 1)                    16421     ['tf.concat_1[0][0]']         \n",
      "                                                                                                  \n",
      "==================================================================================================\n",
      "Total params: 53085 (207.36 KB)\n",
      "Trainable params: 53085 (207.36 KB)\n",
      "Non-trainable params: 0 (0.00 Byte)\n",
      "__________________________________________________________________________________________________\n"
     ]
    }
   ],
   "source": [
    "# SVAE parameters (same as default)\n",
    "input_dim = 140\n",
    "latent_dim = 2\n",
    "enc_hidden_dims = [100,40]\n",
    "dec_hidden_dims = [40,100]\n",
    "reg_hidden_dims = [100,10]\n",
    "\n",
    "# training parameters \n",
    "\n",
    "outpath = 'pretrain/vae/2nd_aa_nor_package'\n",
    "loss_weights = [1.0,0.8,1.5] # [reconstruction, KL, regression]\n",
    "\n",
    "initial_learning_rate = 5e-3\n",
    "optimizer = tf.keras.optimizers.Adam(initial_learning_rate)\n",
    "\n",
    "# Initialize SVAE model (with default parameterizations)\n",
    "model = SVAE(input_dim=140, latent_dim=2, enc_hidden_dims=[100,40], dec_hidden_dims=[40,100], reg_hidden_dims=[100,10], name='svae')\n",
    "model.summary()"
   ]
  },
  {
   "cell_type": "markdown",
   "metadata": {},
   "source": [
    "The `train()` function returns the trained `model` and `preds_df`, a DataFrame of\n",
    "regressor predictions on the X values in `unbatched_data`, along with their latent space\n",
    "projections and their true Y values.\n",
    "\n",
    "`train()` saves the trained model, as well as a log of the training and validation loss\n",
    "values per epoch and `preds_df`, to disk. These saves will be made to an optional\n",
    "parameter `model_outdir` - if not specified, `train()` will make a new,\n",
    "informatively-named directory to write to (path is returned)."
   ]
  },
  {
   "cell_type": "code",
   "execution_count": 12,
   "metadata": {},
   "outputs": [
    {
     "name": "stdout",
     "output_type": "stream",
     "text": [
      "Logging following metrics: ['train_model_loss', 'train_reconstruction_loss', 'train_kl_loss', 'train_regression_loss', 'val_model_loss', 'val_reconstruction_loss', 'val_kl_loss', 'val_regression_loss']\n",
      "\n",
      "\n",
      "----- Beginning training. -----\n",
      "\n",
      "epoch 1\n",
      "4087/4087 [==============================] - 33s 8ms/step - train_model_loss: 19.6810 - train_reconstruction_loss: 19.5146 - train_kl_loss: 0.0060 - train_regression_loss: 0.1078 - val_model_loss: 19.4736 - val_reconstruction_loss: 19.3448 - val_kl_loss: 0.0020 - val_regression_loss: 0.0847\n",
      "WARNING:tensorflow:Compiled the loaded model, but the compiled metrics have yet to be built. `model.compile_metrics` will be empty until you train or evaluate the model.\n",
      "INFO:tensorflow:Assets written to: pretrain/vae/2nd_aa_nor_package\\assets\n"
     ]
    },
    {
     "name": "stderr",
     "output_type": "stream",
     "text": [
      "INFO:tensorflow:Assets written to: pretrain/vae/2nd_aa_nor_package\\assets\n"
     ]
    },
    {
     "name": "stdout",
     "output_type": "stream",
     "text": [
      "Model saved to pretrain/vae/2nd_aa_nor_package.\n",
      "\n",
      "epoch 2\n",
      "4087/4087 [==============================] - 33s 8ms/step - train_model_loss: 19.4841 - train_reconstruction_loss: 19.3668 - train_kl_loss: 0.0012 - train_regression_loss: 0.0775 - val_model_loss: 19.4784 - val_reconstruction_loss: 19.3672 - val_kl_loss: 0.0013 - val_regression_loss: 0.0735\n",
      "WARNING:tensorflow:Compiled the loaded model, but the compiled metrics have yet to be built. `model.compile_metrics` will be empty until you train or evaluate the model.\n"
     ]
    },
    {
     "name": "stderr",
     "output_type": "stream",
     "text": [
      "WARNING:tensorflow:Compiled the loaded model, but the compiled metrics have yet to be built. `model.compile_metrics` will be empty until you train or evaluate the model.\n"
     ]
    },
    {
     "name": "stdout",
     "output_type": "stream",
     "text": [
      "INFO:tensorflow:Assets written to: pretrain/vae/2nd_aa_nor_package\\assets\n"
     ]
    },
    {
     "name": "stderr",
     "output_type": "stream",
     "text": [
      "INFO:tensorflow:Assets written to: pretrain/vae/2nd_aa_nor_package\\assets\n"
     ]
    },
    {
     "name": "stdout",
     "output_type": "stream",
     "text": [
      "Model saved to pretrain/vae/2nd_aa_nor_package.\n",
      "\n",
      "epoch 3\n",
      "4087/4087 [==============================] - 33s 8ms/step - train_model_loss: 19.4572 - train_reconstruction_loss: 19.3526 - train_kl_loss: 6.7342e-04 - train_regression_loss: 0.0693 - val_model_loss: 19.4365 - val_reconstruction_loss: 19.3411 - val_kl_loss: 2.4696e-04 - val_regression_loss: 0.0634\n",
      "WARNING:tensorflow:Compiled the loaded model, but the compiled metrics have yet to be built. `model.compile_metrics` will be empty until you train or evaluate the model.\n"
     ]
    },
    {
     "name": "stderr",
     "output_type": "stream",
     "text": [
      "WARNING:tensorflow:Compiled the loaded model, but the compiled metrics have yet to be built. `model.compile_metrics` will be empty until you train or evaluate the model.\n"
     ]
    },
    {
     "name": "stdout",
     "output_type": "stream",
     "text": [
      "INFO:tensorflow:Assets written to: pretrain/vae/2nd_aa_nor_package\\assets\n"
     ]
    },
    {
     "name": "stderr",
     "output_type": "stream",
     "text": [
      "INFO:tensorflow:Assets written to: pretrain/vae/2nd_aa_nor_package\\assets\n"
     ]
    },
    {
     "name": "stdout",
     "output_type": "stream",
     "text": [
      "Model saved to pretrain/vae/2nd_aa_nor_package.\n",
      "\n",
      "epoch 4\n",
      "4087/4087 [==============================] - 33s 8ms/step - train_model_loss: 19.4451 - train_reconstruction_loss: 19.3562 - train_kl_loss: 3.0602e-04 - train_regression_loss: 0.0590 - val_model_loss: 19.3828 - val_reconstruction_loss: 19.2957 - val_kl_loss: 1.2103e-04 - val_regression_loss: 0.0580\n",
      "WARNING:tensorflow:Compiled the loaded model, but the compiled metrics have yet to be built. `model.compile_metrics` will be empty until you train or evaluate the model.\n"
     ]
    },
    {
     "name": "stderr",
     "output_type": "stream",
     "text": [
      "WARNING:tensorflow:Compiled the loaded model, but the compiled metrics have yet to be built. `model.compile_metrics` will be empty until you train or evaluate the model.\n"
     ]
    },
    {
     "name": "stdout",
     "output_type": "stream",
     "text": [
      "INFO:tensorflow:Assets written to: pretrain/vae/2nd_aa_nor_package\\assets\n"
     ]
    },
    {
     "name": "stderr",
     "output_type": "stream",
     "text": [
      "INFO:tensorflow:Assets written to: pretrain/vae/2nd_aa_nor_package\\assets\n"
     ]
    },
    {
     "name": "stdout",
     "output_type": "stream",
     "text": [
      "Model saved to pretrain/vae/2nd_aa_nor_package.\n",
      "\n",
      "epoch 5\n",
      "4087/4087 [==============================] - 34s 8ms/step - train_model_loss: 19.4302 - train_reconstruction_loss: 19.3480 - train_kl_loss: 3.0641e-04 - train_regression_loss: 0.0549 - val_model_loss: 19.4078 - val_reconstruction_loss: 19.3270 - val_kl_loss: 2.1943e-04 - val_regression_loss: 0.0538\n",
      "WARNING:tensorflow:Compiled the loaded model, but the compiled metrics have yet to be built. `model.compile_metrics` will be empty until you train or evaluate the model.\n"
     ]
    },
    {
     "name": "stderr",
     "output_type": "stream",
     "text": [
      "WARNING:tensorflow:Compiled the loaded model, but the compiled metrics have yet to be built. `model.compile_metrics` will be empty until you train or evaluate the model.\n"
     ]
    },
    {
     "name": "stdout",
     "output_type": "stream",
     "text": [
      "INFO:tensorflow:Assets written to: pretrain/vae/2nd_aa_nor_package\\assets\n"
     ]
    },
    {
     "name": "stderr",
     "output_type": "stream",
     "text": [
      "INFO:tensorflow:Assets written to: pretrain/vae/2nd_aa_nor_package\\assets\n"
     ]
    },
    {
     "name": "stdout",
     "output_type": "stream",
     "text": [
      "Model saved to pretrain/vae/2nd_aa_nor_package.\n",
      "\n",
      "epoch 6\n",
      "4087/4087 [==============================] - 35s 9ms/step - train_model_loss: 19.4342 - train_reconstruction_loss: 19.3561 - train_kl_loss: 3.0630e-04 - train_regression_loss: 0.0518 - val_model_loss: 19.4151 - val_reconstruction_loss: 19.3385 - val_kl_loss: 2.3776e-04 - val_regression_loss: 0.0509\n",
      "WARNING:tensorflow:Compiled the loaded model, but the compiled metrics have yet to be built. `model.compile_metrics` will be empty until you train or evaluate the model.\n"
     ]
    },
    {
     "name": "stderr",
     "output_type": "stream",
     "text": [
      "WARNING:tensorflow:Compiled the loaded model, but the compiled metrics have yet to be built. `model.compile_metrics` will be empty until you train or evaluate the model.\n"
     ]
    },
    {
     "name": "stdout",
     "output_type": "stream",
     "text": [
      "INFO:tensorflow:Assets written to: pretrain/vae/2nd_aa_nor_package\\assets\n"
     ]
    },
    {
     "name": "stderr",
     "output_type": "stream",
     "text": [
      "INFO:tensorflow:Assets written to: pretrain/vae/2nd_aa_nor_package\\assets\n"
     ]
    },
    {
     "name": "stdout",
     "output_type": "stream",
     "text": [
      "Model saved to pretrain/vae/2nd_aa_nor_package.\n",
      "\n",
      "epoch 7\n",
      "4087/4087 [==============================] - 34s 8ms/step - train_model_loss: 19.4286 - train_reconstruction_loss: 19.3531 - train_kl_loss: 2.7222e-04 - train_regression_loss: 0.0502 - val_model_loss: 19.4282 - val_reconstruction_loss: 19.3569 - val_kl_loss: 2.2171e-04 - val_regression_loss: 0.0474\n",
      "WARNING:tensorflow:Compiled the loaded model, but the compiled metrics have yet to be built. `model.compile_metrics` will be empty until you train or evaluate the model.\n"
     ]
    },
    {
     "name": "stderr",
     "output_type": "stream",
     "text": [
      "WARNING:tensorflow:Compiled the loaded model, but the compiled metrics have yet to be built. `model.compile_metrics` will be empty until you train or evaluate the model.\n"
     ]
    },
    {
     "name": "stdout",
     "output_type": "stream",
     "text": [
      "INFO:tensorflow:Assets written to: pretrain/vae/2nd_aa_nor_package\\assets\n"
     ]
    },
    {
     "name": "stderr",
     "output_type": "stream",
     "text": [
      "INFO:tensorflow:Assets written to: pretrain/vae/2nd_aa_nor_package\\assets\n"
     ]
    },
    {
     "name": "stdout",
     "output_type": "stream",
     "text": [
      "Model saved to pretrain/vae/2nd_aa_nor_package.\n",
      "\n",
      "epoch 8\n",
      "4087/4087 [==============================] - 33s 8ms/step - train_model_loss: 19.4063 - train_reconstruction_loss: 19.3315 - train_kl_loss: 2.7039e-04 - train_regression_loss: 0.0497 - val_model_loss: 19.4353 - val_reconstruction_loss: 19.3747 - val_kl_loss: 2.3325e-04 - val_regression_loss: 0.0402\n",
      "WARNING:tensorflow:Compiled the loaded model, but the compiled metrics have yet to be built. `model.compile_metrics` will be empty until you train or evaluate the model.\n"
     ]
    },
    {
     "name": "stderr",
     "output_type": "stream",
     "text": [
      "WARNING:tensorflow:Compiled the loaded model, but the compiled metrics have yet to be built. `model.compile_metrics` will be empty until you train or evaluate the model.\n"
     ]
    },
    {
     "name": "stdout",
     "output_type": "stream",
     "text": [
      "INFO:tensorflow:Assets written to: pretrain/vae/2nd_aa_nor_package\\assets\n"
     ]
    },
    {
     "name": "stderr",
     "output_type": "stream",
     "text": [
      "INFO:tensorflow:Assets written to: pretrain/vae/2nd_aa_nor_package\\assets\n"
     ]
    },
    {
     "name": "stdout",
     "output_type": "stream",
     "text": [
      "Model saved to pretrain/vae/2nd_aa_nor_package.\n",
      "\n",
      "epoch 9\n",
      "4087/4087 [==============================] - 33s 8ms/step - train_model_loss: 19.4206 - train_reconstruction_loss: 19.3497 - train_kl_loss: 3.1780e-04 - train_regression_loss: 0.0471 - val_model_loss: 19.4322 - val_reconstruction_loss: 19.3688 - val_kl_loss: 3.1790e-04 - val_regression_loss: 0.0422\n",
      "WARNING:tensorflow:Compiled the loaded model, but the compiled metrics have yet to be built. `model.compile_metrics` will be empty until you train or evaluate the model.\n"
     ]
    },
    {
     "name": "stderr",
     "output_type": "stream",
     "text": [
      "WARNING:tensorflow:Compiled the loaded model, but the compiled metrics have yet to be built. `model.compile_metrics` will be empty until you train or evaluate the model.\n"
     ]
    },
    {
     "name": "stdout",
     "output_type": "stream",
     "text": [
      "INFO:tensorflow:Assets written to: pretrain/vae/2nd_aa_nor_package\\assets\n"
     ]
    },
    {
     "name": "stderr",
     "output_type": "stream",
     "text": [
      "INFO:tensorflow:Assets written to: pretrain/vae/2nd_aa_nor_package\\assets\n"
     ]
    },
    {
     "name": "stdout",
     "output_type": "stream",
     "text": [
      "Model saved to pretrain/vae/2nd_aa_nor_package.\n",
      "\n",
      "epoch 10\n",
      "4087/4087 [==============================] - 34s 8ms/step - train_model_loss: 19.4115 - train_reconstruction_loss: 19.3421 - train_kl_loss: 3.1925e-04 - train_regression_loss: 0.0461 - val_model_loss: 19.4388 - val_reconstruction_loss: 19.3775 - val_kl_loss: 4.3218e-04 - val_regression_loss: 0.0407\n",
      "WARNING:tensorflow:Compiled the loaded model, but the compiled metrics have yet to be built. `model.compile_metrics` will be empty until you train or evaluate the model.\n"
     ]
    },
    {
     "name": "stderr",
     "output_type": "stream",
     "text": [
      "WARNING:tensorflow:Compiled the loaded model, but the compiled metrics have yet to be built. `model.compile_metrics` will be empty until you train or evaluate the model.\n"
     ]
    },
    {
     "name": "stdout",
     "output_type": "stream",
     "text": [
      "INFO:tensorflow:Assets written to: pretrain/vae/2nd_aa_nor_package\\assets\n"
     ]
    },
    {
     "name": "stderr",
     "output_type": "stream",
     "text": [
      "INFO:tensorflow:Assets written to: pretrain/vae/2nd_aa_nor_package\\assets\n"
     ]
    },
    {
     "name": "stdout",
     "output_type": "stream",
     "text": [
      "Model saved to pretrain/vae/2nd_aa_nor_package.\n",
      "\n",
      "epoch 11\n",
      "4087/4087 [==============================] - 34s 8ms/step - train_model_loss: 19.4196 - train_reconstruction_loss: 19.3549 - train_kl_loss: 2.6130e-04 - train_regression_loss: 0.0429 - val_model_loss: 19.3691 - val_reconstruction_loss: 19.3085 - val_kl_loss: 2.6769e-04 - val_regression_loss: 0.0403\n",
      "WARNING:tensorflow:Compiled the loaded model, but the compiled metrics have yet to be built. `model.compile_metrics` will be empty until you train or evaluate the model.\n"
     ]
    },
    {
     "name": "stderr",
     "output_type": "stream",
     "text": [
      "WARNING:tensorflow:Compiled the loaded model, but the compiled metrics have yet to be built. `model.compile_metrics` will be empty until you train or evaluate the model.\n"
     ]
    },
    {
     "name": "stdout",
     "output_type": "stream",
     "text": [
      "INFO:tensorflow:Assets written to: pretrain/vae/2nd_aa_nor_package\\assets\n"
     ]
    },
    {
     "name": "stderr",
     "output_type": "stream",
     "text": [
      "INFO:tensorflow:Assets written to: pretrain/vae/2nd_aa_nor_package\\assets\n"
     ]
    },
    {
     "name": "stdout",
     "output_type": "stream",
     "text": [
      "Model saved to pretrain/vae/2nd_aa_nor_package.\n",
      "\n",
      "epoch 12\n",
      "4087/4087 [==============================] - 34s 8ms/step - train_model_loss: 19.4013 - train_reconstruction_loss: 19.3361 - train_kl_loss: 3.0741e-04 - train_regression_loss: 0.0434 - val_model_loss: 19.4053 - val_reconstruction_loss: 19.3464 - val_kl_loss: 0.0012 - val_regression_loss: 0.0386\n",
      "WARNING:tensorflow:Compiled the loaded model, but the compiled metrics have yet to be built. `model.compile_metrics` will be empty until you train or evaluate the model.\n"
     ]
    },
    {
     "name": "stderr",
     "output_type": "stream",
     "text": [
      "WARNING:tensorflow:Compiled the loaded model, but the compiled metrics have yet to be built. `model.compile_metrics` will be empty until you train or evaluate the model.\n"
     ]
    },
    {
     "name": "stdout",
     "output_type": "stream",
     "text": [
      "INFO:tensorflow:Assets written to: pretrain/vae/2nd_aa_nor_package\\assets\n"
     ]
    },
    {
     "name": "stderr",
     "output_type": "stream",
     "text": [
      "INFO:tensorflow:Assets written to: pretrain/vae/2nd_aa_nor_package\\assets\n"
     ]
    },
    {
     "name": "stdout",
     "output_type": "stream",
     "text": [
      "Model saved to pretrain/vae/2nd_aa_nor_package.\n",
      "\n",
      "epoch 13\n",
      "4087/4087 [==============================] - 34s 8ms/step - train_model_loss: 19.4064 - train_reconstruction_loss: 19.3434 - train_kl_loss: 3.9367e-04 - train_regression_loss: 0.0417 - val_model_loss: 19.3883 - val_reconstruction_loss: 19.3306 - val_kl_loss: 2.9469e-04 - val_regression_loss: 0.0383\n",
      "WARNING:tensorflow:Compiled the loaded model, but the compiled metrics have yet to be built. `model.compile_metrics` will be empty until you train or evaluate the model.\n"
     ]
    },
    {
     "name": "stderr",
     "output_type": "stream",
     "text": [
      "WARNING:tensorflow:Compiled the loaded model, but the compiled metrics have yet to be built. `model.compile_metrics` will be empty until you train or evaluate the model.\n"
     ]
    },
    {
     "name": "stdout",
     "output_type": "stream",
     "text": [
      "INFO:tensorflow:Assets written to: pretrain/vae/2nd_aa_nor_package\\assets\n"
     ]
    },
    {
     "name": "stderr",
     "output_type": "stream",
     "text": [
      "INFO:tensorflow:Assets written to: pretrain/vae/2nd_aa_nor_package\\assets\n"
     ]
    },
    {
     "name": "stdout",
     "output_type": "stream",
     "text": [
      "Model saved to pretrain/vae/2nd_aa_nor_package.\n",
      "\n",
      "epoch 14\n",
      "4087/4087 [==============================] - 34s 8ms/step - train_model_loss: 19.3893 - train_reconstruction_loss: 19.3285 - train_kl_loss: 4.1437e-04 - train_regression_loss: 0.0403 - val_model_loss: 19.3592 - val_reconstruction_loss: 19.3042 - val_kl_loss: 2.6402e-04 - val_regression_loss: 0.0365\n",
      "WARNING:tensorflow:Compiled the loaded model, but the compiled metrics have yet to be built. `model.compile_metrics` will be empty until you train or evaluate the model.\n"
     ]
    },
    {
     "name": "stderr",
     "output_type": "stream",
     "text": [
      "WARNING:tensorflow:Compiled the loaded model, but the compiled metrics have yet to be built. `model.compile_metrics` will be empty until you train or evaluate the model.\n"
     ]
    },
    {
     "name": "stdout",
     "output_type": "stream",
     "text": [
      "INFO:tensorflow:Assets written to: pretrain/vae/2nd_aa_nor_package\\assets\n"
     ]
    },
    {
     "name": "stderr",
     "output_type": "stream",
     "text": [
      "INFO:tensorflow:Assets written to: pretrain/vae/2nd_aa_nor_package\\assets\n"
     ]
    },
    {
     "name": "stdout",
     "output_type": "stream",
     "text": [
      "Model saved to pretrain/vae/2nd_aa_nor_package.\n",
      "\n",
      "epoch 15\n",
      "4087/4087 [==============================] - 34s 8ms/step - train_model_loss: 19.4064 - train_reconstruction_loss: 19.3481 - train_kl_loss: 2.8190e-04 - train_regression_loss: 0.0387 - val_model_loss: 19.3894 - val_reconstruction_loss: 19.3349 - val_kl_loss: 0.0012 - val_regression_loss: 0.0357\n",
      "WARNING:tensorflow:Compiled the loaded model, but the compiled metrics have yet to be built. `model.compile_metrics` will be empty until you train or evaluate the model.\n"
     ]
    },
    {
     "name": "stderr",
     "output_type": "stream",
     "text": [
      "WARNING:tensorflow:Compiled the loaded model, but the compiled metrics have yet to be built. `model.compile_metrics` will be empty until you train or evaluate the model.\n"
     ]
    },
    {
     "name": "stdout",
     "output_type": "stream",
     "text": [
      "INFO:tensorflow:Assets written to: pretrain/vae/2nd_aa_nor_package\\assets\n"
     ]
    },
    {
     "name": "stderr",
     "output_type": "stream",
     "text": [
      "INFO:tensorflow:Assets written to: pretrain/vae/2nd_aa_nor_package\\assets\n"
     ]
    },
    {
     "name": "stdout",
     "output_type": "stream",
     "text": [
      "Model saved to pretrain/vae/2nd_aa_nor_package.\n",
      "\n",
      "epoch 16\n",
      "4087/4087 [==============================] - 34s 8ms/step - train_model_loss: 19.4024 - train_reconstruction_loss: 19.3453 - train_kl_loss: 4.9220e-04 - train_regression_loss: 0.0379 - val_model_loss: 19.4154 - val_reconstruction_loss: 19.3610 - val_kl_loss: 3.9048e-04 - val_regression_loss: 0.0361\n",
      "WARNING:tensorflow:Compiled the loaded model, but the compiled metrics have yet to be built. `model.compile_metrics` will be empty until you train or evaluate the model.\n"
     ]
    },
    {
     "name": "stderr",
     "output_type": "stream",
     "text": [
      "WARNING:tensorflow:Compiled the loaded model, but the compiled metrics have yet to be built. `model.compile_metrics` will be empty until you train or evaluate the model.\n"
     ]
    },
    {
     "name": "stdout",
     "output_type": "stream",
     "text": [
      "INFO:tensorflow:Assets written to: pretrain/vae/2nd_aa_nor_package\\assets\n"
     ]
    },
    {
     "name": "stderr",
     "output_type": "stream",
     "text": [
      "INFO:tensorflow:Assets written to: pretrain/vae/2nd_aa_nor_package\\assets\n"
     ]
    },
    {
     "name": "stdout",
     "output_type": "stream",
     "text": [
      "Model saved to pretrain/vae/2nd_aa_nor_package.\n",
      "\n",
      "epoch 17\n",
      "4087/4087 [==============================] - 34s 8ms/step - train_model_loss: 19.3970 - train_reconstruction_loss: 19.3420 - train_kl_loss: 3.4333e-04 - train_regression_loss: 0.0365 - val_model_loss: 19.3842 - val_reconstruction_loss: 19.3377 - val_kl_loss: 2.9478e-04 - val_regression_loss: 0.0308\n",
      "WARNING:tensorflow:Compiled the loaded model, but the compiled metrics have yet to be built. `model.compile_metrics` will be empty until you train or evaluate the model.\n"
     ]
    },
    {
     "name": "stderr",
     "output_type": "stream",
     "text": [
      "WARNING:tensorflow:Compiled the loaded model, but the compiled metrics have yet to be built. `model.compile_metrics` will be empty until you train or evaluate the model.\n"
     ]
    },
    {
     "name": "stdout",
     "output_type": "stream",
     "text": [
      "INFO:tensorflow:Assets written to: pretrain/vae/2nd_aa_nor_package\\assets\n"
     ]
    },
    {
     "name": "stderr",
     "output_type": "stream",
     "text": [
      "INFO:tensorflow:Assets written to: pretrain/vae/2nd_aa_nor_package\\assets\n"
     ]
    },
    {
     "name": "stdout",
     "output_type": "stream",
     "text": [
      "Model saved to pretrain/vae/2nd_aa_nor_package.\n",
      "\n",
      "epoch 18\n",
      "4087/4087 [==============================] - 34s 8ms/step - train_model_loss: 19.3746 - train_reconstruction_loss: 19.3210 - train_kl_loss: 3.0866e-04 - train_regression_loss: 0.0358 - val_model_loss: 19.4043 - val_reconstruction_loss: 19.3489 - val_kl_loss: 4.0574e-04 - val_regression_loss: 0.0367\n",
      "WARNING:tensorflow:Compiled the loaded model, but the compiled metrics have yet to be built. `model.compile_metrics` will be empty until you train or evaluate the model.\n"
     ]
    },
    {
     "name": "stderr",
     "output_type": "stream",
     "text": [
      "WARNING:tensorflow:Compiled the loaded model, but the compiled metrics have yet to be built. `model.compile_metrics` will be empty until you train or evaluate the model.\n"
     ]
    },
    {
     "name": "stdout",
     "output_type": "stream",
     "text": [
      "INFO:tensorflow:Assets written to: pretrain/vae/2nd_aa_nor_package\\assets\n"
     ]
    },
    {
     "name": "stderr",
     "output_type": "stream",
     "text": [
      "INFO:tensorflow:Assets written to: pretrain/vae/2nd_aa_nor_package\\assets\n"
     ]
    },
    {
     "name": "stdout",
     "output_type": "stream",
     "text": [
      "Model saved to pretrain/vae/2nd_aa_nor_package.\n",
      "\n",
      "epoch 19\n",
      "4087/4087 [==============================] - 33s 8ms/step - train_model_loss: 19.3774 - train_reconstruction_loss: 19.3246 - train_kl_loss: 5.8472e-04 - train_regression_loss: 0.0349 - val_model_loss: 19.3676 - val_reconstruction_loss: 19.3180 - val_kl_loss: 0.0010 - val_regression_loss: 0.0326\n",
      "WARNING:tensorflow:Compiled the loaded model, but the compiled metrics have yet to be built. `model.compile_metrics` will be empty until you train or evaluate the model.\n"
     ]
    },
    {
     "name": "stderr",
     "output_type": "stream",
     "text": [
      "WARNING:tensorflow:Compiled the loaded model, but the compiled metrics have yet to be built. `model.compile_metrics` will be empty until you train or evaluate the model.\n"
     ]
    },
    {
     "name": "stdout",
     "output_type": "stream",
     "text": [
      "INFO:tensorflow:Assets written to: pretrain/vae/2nd_aa_nor_package\\assets\n"
     ]
    },
    {
     "name": "stderr",
     "output_type": "stream",
     "text": [
      "INFO:tensorflow:Assets written to: pretrain/vae/2nd_aa_nor_package\\assets\n"
     ]
    },
    {
     "name": "stdout",
     "output_type": "stream",
     "text": [
      "Model saved to pretrain/vae/2nd_aa_nor_package.\n",
      "\n",
      "epoch 20\n",
      "4087/4087 [==============================] - 33s 8ms/step - train_model_loss: 19.3923 - train_reconstruction_loss: 19.3415 - train_kl_loss: 5.5107e-04 - train_regression_loss: 0.0335 - val_model_loss: 19.4080 - val_reconstruction_loss: 19.3647 - val_kl_loss: 6.8434e-04 - val_regression_loss: 0.0285\n",
      "WARNING:tensorflow:Compiled the loaded model, but the compiled metrics have yet to be built. `model.compile_metrics` will be empty until you train or evaluate the model.\n"
     ]
    },
    {
     "name": "stderr",
     "output_type": "stream",
     "text": [
      "WARNING:tensorflow:Compiled the loaded model, but the compiled metrics have yet to be built. `model.compile_metrics` will be empty until you train or evaluate the model.\n"
     ]
    },
    {
     "name": "stdout",
     "output_type": "stream",
     "text": [
      "INFO:tensorflow:Assets written to: pretrain/vae/2nd_aa_nor_package\\assets\n"
     ]
    },
    {
     "name": "stderr",
     "output_type": "stream",
     "text": [
      "INFO:tensorflow:Assets written to: pretrain/vae/2nd_aa_nor_package\\assets\n"
     ]
    },
    {
     "name": "stdout",
     "output_type": "stream",
     "text": [
      "Model saved to pretrain/vae/2nd_aa_nor_package.\n",
      "\n",
      "epoch 21\n",
      "4087/4087 [==============================] - 33s 8ms/step - train_model_loss: 19.3887 - train_reconstruction_loss: 19.3413 - train_kl_loss: 4.9630e-04 - train_regression_loss: 0.0314 - val_model_loss: 19.3726 - val_reconstruction_loss: 19.3306 - val_kl_loss: 5.0220e-04 - val_regression_loss: 0.0277\n",
      "WARNING:tensorflow:Compiled the loaded model, but the compiled metrics have yet to be built. `model.compile_metrics` will be empty until you train or evaluate the model.\n"
     ]
    },
    {
     "name": "stderr",
     "output_type": "stream",
     "text": [
      "WARNING:tensorflow:Compiled the loaded model, but the compiled metrics have yet to be built. `model.compile_metrics` will be empty until you train or evaluate the model.\n"
     ]
    },
    {
     "name": "stdout",
     "output_type": "stream",
     "text": [
      "INFO:tensorflow:Assets written to: pretrain/vae/2nd_aa_nor_package\\assets\n"
     ]
    },
    {
     "name": "stderr",
     "output_type": "stream",
     "text": [
      "INFO:tensorflow:Assets written to: pretrain/vae/2nd_aa_nor_package\\assets\n"
     ]
    },
    {
     "name": "stdout",
     "output_type": "stream",
     "text": [
      "Model saved to pretrain/vae/2nd_aa_nor_package.\n",
      "\n",
      "epoch 22\n",
      "4087/4087 [==============================] - 34s 8ms/step - train_model_loss: 19.3842 - train_reconstruction_loss: 19.3360 - train_kl_loss: 4.5376e-04 - train_regression_loss: 0.0319 - val_model_loss: 19.3992 - val_reconstruction_loss: 19.3580 - val_kl_loss: 4.2303e-04 - val_regression_loss: 0.0272\n",
      "WARNING:tensorflow:Compiled the loaded model, but the compiled metrics have yet to be built. `model.compile_metrics` will be empty until you train or evaluate the model.\n"
     ]
    },
    {
     "name": "stderr",
     "output_type": "stream",
     "text": [
      "WARNING:tensorflow:Compiled the loaded model, but the compiled metrics have yet to be built. `model.compile_metrics` will be empty until you train or evaluate the model.\n"
     ]
    },
    {
     "name": "stdout",
     "output_type": "stream",
     "text": [
      "INFO:tensorflow:Assets written to: pretrain/vae/2nd_aa_nor_package\\assets\n"
     ]
    },
    {
     "name": "stderr",
     "output_type": "stream",
     "text": [
      "INFO:tensorflow:Assets written to: pretrain/vae/2nd_aa_nor_package\\assets\n"
     ]
    },
    {
     "name": "stdout",
     "output_type": "stream",
     "text": [
      "Model saved to pretrain/vae/2nd_aa_nor_package.\n",
      "\n",
      "epoch 23\n",
      "4087/4087 [==============================] - 34s 8ms/step - train_model_loss: 19.3883 - train_reconstruction_loss: 19.3433 - train_kl_loss: 5.4103e-04 - train_regression_loss: 0.0297 - val_model_loss: 19.4127 - val_reconstruction_loss: 19.3710 - val_kl_loss: 2.8622e-04 - val_regression_loss: 0.0277\n",
      "WARNING:tensorflow:Compiled the loaded model, but the compiled metrics have yet to be built. `model.compile_metrics` will be empty until you train or evaluate the model.\n"
     ]
    },
    {
     "name": "stderr",
     "output_type": "stream",
     "text": [
      "WARNING:tensorflow:Compiled the loaded model, but the compiled metrics have yet to be built. `model.compile_metrics` will be empty until you train or evaluate the model.\n"
     ]
    },
    {
     "name": "stdout",
     "output_type": "stream",
     "text": [
      "INFO:tensorflow:Assets written to: pretrain/vae/2nd_aa_nor_package\\assets\n"
     ]
    },
    {
     "name": "stderr",
     "output_type": "stream",
     "text": [
      "INFO:tensorflow:Assets written to: pretrain/vae/2nd_aa_nor_package\\assets\n"
     ]
    },
    {
     "name": "stdout",
     "output_type": "stream",
     "text": [
      "Model saved to pretrain/vae/2nd_aa_nor_package.\n",
      "\n",
      "epoch 24\n",
      "4087/4087 [==============================] - 34s 8ms/step - train_model_loss: 19.3788 - train_reconstruction_loss: 19.3351 - train_kl_loss: 6.4466e-04 - train_regression_loss: 0.0288 - val_model_loss: 19.3786 - val_reconstruction_loss: 19.3420 - val_kl_loss: 4.4171e-04 - val_regression_loss: 0.0242\n",
      "WARNING:tensorflow:Compiled the loaded model, but the compiled metrics have yet to be built. `model.compile_metrics` will be empty until you train or evaluate the model.\n"
     ]
    },
    {
     "name": "stderr",
     "output_type": "stream",
     "text": [
      "WARNING:tensorflow:Compiled the loaded model, but the compiled metrics have yet to be built. `model.compile_metrics` will be empty until you train or evaluate the model.\n"
     ]
    },
    {
     "name": "stdout",
     "output_type": "stream",
     "text": [
      "INFO:tensorflow:Assets written to: pretrain/vae/2nd_aa_nor_package\\assets\n"
     ]
    },
    {
     "name": "stderr",
     "output_type": "stream",
     "text": [
      "INFO:tensorflow:Assets written to: pretrain/vae/2nd_aa_nor_package\\assets\n"
     ]
    },
    {
     "name": "stdout",
     "output_type": "stream",
     "text": [
      "Model saved to pretrain/vae/2nd_aa_nor_package.\n",
      "\n",
      "epoch 25\n",
      "4087/4087 [==============================] - 34s 8ms/step - train_model_loss: 19.3824 - train_reconstruction_loss: 19.3413 - train_kl_loss: 6.3442e-04 - train_regression_loss: 0.0270 - val_model_loss: 19.3683 - val_reconstruction_loss: 19.3306 - val_kl_loss: 2.5437e-04 - val_regression_loss: 0.0250\n",
      "WARNING:tensorflow:Compiled the loaded model, but the compiled metrics have yet to be built. `model.compile_metrics` will be empty until you train or evaluate the model.\n"
     ]
    },
    {
     "name": "stderr",
     "output_type": "stream",
     "text": [
      "WARNING:tensorflow:Compiled the loaded model, but the compiled metrics have yet to be built. `model.compile_metrics` will be empty until you train or evaluate the model.\n"
     ]
    },
    {
     "name": "stdout",
     "output_type": "stream",
     "text": [
      "INFO:tensorflow:Assets written to: pretrain/vae/2nd_aa_nor_package\\assets\n"
     ]
    },
    {
     "name": "stderr",
     "output_type": "stream",
     "text": [
      "INFO:tensorflow:Assets written to: pretrain/vae/2nd_aa_nor_package\\assets\n"
     ]
    },
    {
     "name": "stdout",
     "output_type": "stream",
     "text": [
      "Model saved to pretrain/vae/2nd_aa_nor_package.\n",
      "\n",
      "epoch 26\n",
      "4087/4087 [==============================] - 33s 8ms/step - train_model_loss: 19.3719 - train_reconstruction_loss: 19.3322 - train_kl_loss: 4.8196e-04 - train_regression_loss: 0.0262 - val_model_loss: 19.4058 - val_reconstruction_loss: 19.3718 - val_kl_loss: 4.7010e-04 - val_regression_loss: 0.0224\n",
      "WARNING:tensorflow:Compiled the loaded model, but the compiled metrics have yet to be built. `model.compile_metrics` will be empty until you train or evaluate the model.\n"
     ]
    },
    {
     "name": "stderr",
     "output_type": "stream",
     "text": [
      "WARNING:tensorflow:Compiled the loaded model, but the compiled metrics have yet to be built. `model.compile_metrics` will be empty until you train or evaluate the model.\n"
     ]
    },
    {
     "name": "stdout",
     "output_type": "stream",
     "text": [
      "INFO:tensorflow:Assets written to: pretrain/vae/2nd_aa_nor_package\\assets\n"
     ]
    },
    {
     "name": "stderr",
     "output_type": "stream",
     "text": [
      "INFO:tensorflow:Assets written to: pretrain/vae/2nd_aa_nor_package\\assets\n"
     ]
    },
    {
     "name": "stdout",
     "output_type": "stream",
     "text": [
      "Model saved to pretrain/vae/2nd_aa_nor_package.\n",
      "\n",
      "epoch 27\n",
      "4087/4087 [==============================] - 33s 8ms/step - train_model_loss: 19.3729 - train_reconstruction_loss: 19.3327 - train_kl_loss: 5.9517e-04 - train_regression_loss: 0.0264 - val_model_loss: 19.3174 - val_reconstruction_loss: 19.2837 - val_kl_loss: 3.2740e-04 - val_regression_loss: 0.0223\n",
      "WARNING:tensorflow:Compiled the loaded model, but the compiled metrics have yet to be built. `model.compile_metrics` will be empty until you train or evaluate the model.\n"
     ]
    },
    {
     "name": "stderr",
     "output_type": "stream",
     "text": [
      "WARNING:tensorflow:Compiled the loaded model, but the compiled metrics have yet to be built. `model.compile_metrics` will be empty until you train or evaluate the model.\n"
     ]
    },
    {
     "name": "stdout",
     "output_type": "stream",
     "text": [
      "INFO:tensorflow:Assets written to: pretrain/vae/2nd_aa_nor_package\\assets\n"
     ]
    },
    {
     "name": "stderr",
     "output_type": "stream",
     "text": [
      "INFO:tensorflow:Assets written to: pretrain/vae/2nd_aa_nor_package\\assets\n"
     ]
    },
    {
     "name": "stdout",
     "output_type": "stream",
     "text": [
      "Model saved to pretrain/vae/2nd_aa_nor_package.\n",
      "\n",
      "epoch 28\n",
      "4087/4087 [==============================] - 34s 8ms/step - train_model_loss: 19.3686 - train_reconstruction_loss: 19.3299 - train_kl_loss: 6.3619e-04 - train_regression_loss: 0.0255 - val_model_loss: 19.2852 - val_reconstruction_loss: 19.2520 - val_kl_loss: 0.0011 - val_regression_loss: 0.0216\n",
      "WARNING:tensorflow:Compiled the loaded model, but the compiled metrics have yet to be built. `model.compile_metrics` will be empty until you train or evaluate the model.\n"
     ]
    },
    {
     "name": "stderr",
     "output_type": "stream",
     "text": [
      "WARNING:tensorflow:Compiled the loaded model, but the compiled metrics have yet to be built. `model.compile_metrics` will be empty until you train or evaluate the model.\n"
     ]
    },
    {
     "name": "stdout",
     "output_type": "stream",
     "text": [
      "INFO:tensorflow:Assets written to: pretrain/vae/2nd_aa_nor_package\\assets\n"
     ]
    },
    {
     "name": "stderr",
     "output_type": "stream",
     "text": [
      "INFO:tensorflow:Assets written to: pretrain/vae/2nd_aa_nor_package\\assets\n"
     ]
    },
    {
     "name": "stdout",
     "output_type": "stream",
     "text": [
      "Model saved to pretrain/vae/2nd_aa_nor_package.\n",
      "\n",
      "epoch 29\n",
      "4087/4087 [==============================] - 34s 8ms/step - train_model_loss: 19.3789 - train_reconstruction_loss: 19.3424 - train_kl_loss: 5.6875e-04 - train_regression_loss: 0.0241 - val_model_loss: 19.3177 - val_reconstruction_loss: 19.2822 - val_kl_loss: 2.8707e-04 - val_regression_loss: 0.0235\n",
      "WARNING:tensorflow:Compiled the loaded model, but the compiled metrics have yet to be built. `model.compile_metrics` will be empty until you train or evaluate the model.\n"
     ]
    },
    {
     "name": "stderr",
     "output_type": "stream",
     "text": [
      "WARNING:tensorflow:Compiled the loaded model, but the compiled metrics have yet to be built. `model.compile_metrics` will be empty until you train or evaluate the model.\n"
     ]
    },
    {
     "name": "stdout",
     "output_type": "stream",
     "text": [
      "INFO:tensorflow:Assets written to: pretrain/vae/2nd_aa_nor_package\\assets\n"
     ]
    },
    {
     "name": "stderr",
     "output_type": "stream",
     "text": [
      "INFO:tensorflow:Assets written to: pretrain/vae/2nd_aa_nor_package\\assets\n"
     ]
    },
    {
     "name": "stdout",
     "output_type": "stream",
     "text": [
      "Model saved to pretrain/vae/2nd_aa_nor_package.\n",
      "\n",
      "epoch 30\n",
      "4087/4087 [==============================] - 34s 8ms/step - train_model_loss: 19.3637 - train_reconstruction_loss: 19.3284 - train_kl_loss: 3.5016e-04 - train_regression_loss: 0.0233 - val_model_loss: 19.3561 - val_reconstruction_loss: 19.3226 - val_kl_loss: 2.9949e-04 - val_regression_loss: 0.0222\n",
      "WARNING:tensorflow:Compiled the loaded model, but the compiled metrics have yet to be built. `model.compile_metrics` will be empty until you train or evaluate the model.\n"
     ]
    },
    {
     "name": "stderr",
     "output_type": "stream",
     "text": [
      "WARNING:tensorflow:Compiled the loaded model, but the compiled metrics have yet to be built. `model.compile_metrics` will be empty until you train or evaluate the model.\n"
     ]
    },
    {
     "name": "stdout",
     "output_type": "stream",
     "text": [
      "INFO:tensorflow:Assets written to: pretrain/vae/2nd_aa_nor_package\\assets\n"
     ]
    },
    {
     "name": "stderr",
     "output_type": "stream",
     "text": [
      "INFO:tensorflow:Assets written to: pretrain/vae/2nd_aa_nor_package\\assets\n"
     ]
    },
    {
     "name": "stdout",
     "output_type": "stream",
     "text": [
      "Model saved to pretrain/vae/2nd_aa_nor_package.\n",
      "Convergence history: [1]\n",
      "\n",
      "epoch 31\n",
      "4087/4087 [==============================] - 35s 9ms/step - train_model_loss: 19.3793 - train_reconstruction_loss: 19.3441 - train_kl_loss: 5.8074e-04 - train_regression_loss: 0.0232 - val_model_loss: 19.4546 - val_reconstruction_loss: 19.4247 - val_kl_loss: 7.0735e-04 - val_regression_loss: 0.0196\n",
      "WARNING:tensorflow:Compiled the loaded model, but the compiled metrics have yet to be built. `model.compile_metrics` will be empty until you train or evaluate the model.\n"
     ]
    },
    {
     "name": "stderr",
     "output_type": "stream",
     "text": [
      "WARNING:tensorflow:Compiled the loaded model, but the compiled metrics have yet to be built. `model.compile_metrics` will be empty until you train or evaluate the model.\n"
     ]
    },
    {
     "name": "stdout",
     "output_type": "stream",
     "text": [
      "INFO:tensorflow:Assets written to: pretrain/vae/2nd_aa_nor_package\\assets\n"
     ]
    },
    {
     "name": "stderr",
     "output_type": "stream",
     "text": [
      "INFO:tensorflow:Assets written to: pretrain/vae/2nd_aa_nor_package\\assets\n"
     ]
    },
    {
     "name": "stdout",
     "output_type": "stream",
     "text": [
      "Model saved to pretrain/vae/2nd_aa_nor_package.\n",
      "Convergence history: [1, 0]\n",
      "\n",
      "epoch 32\n",
      "4087/4087 [==============================] - 35s 9ms/step - train_model_loss: 19.3718 - train_reconstruction_loss: 19.3387 - train_kl_loss: 5.8420e-04 - train_regression_loss: 0.0217 - val_model_loss: 19.3339 - val_reconstruction_loss: 19.3064 - val_kl_loss: 5.7930e-04 - val_regression_loss: 0.0180\n",
      "WARNING:tensorflow:Compiled the loaded model, but the compiled metrics have yet to be built. `model.compile_metrics` will be empty until you train or evaluate the model.\n"
     ]
    },
    {
     "name": "stderr",
     "output_type": "stream",
     "text": [
      "WARNING:tensorflow:Compiled the loaded model, but the compiled metrics have yet to be built. `model.compile_metrics` will be empty until you train or evaluate the model.\n"
     ]
    },
    {
     "name": "stdout",
     "output_type": "stream",
     "text": [
      "INFO:tensorflow:Assets written to: pretrain/vae/2nd_aa_nor_package\\assets\n"
     ]
    },
    {
     "name": "stderr",
     "output_type": "stream",
     "text": [
      "INFO:tensorflow:Assets written to: pretrain/vae/2nd_aa_nor_package\\assets\n"
     ]
    },
    {
     "name": "stdout",
     "output_type": "stream",
     "text": [
      "Model saved to pretrain/vae/2nd_aa_nor_package.\n",
      "Convergence history: [1, 0, 1]\n",
      "\n",
      "epoch 33\n",
      "4087/4087 [==============================] - 34s 8ms/step - train_model_loss: 19.3654 - train_reconstruction_loss: 19.3323 - train_kl_loss: 6.0582e-04 - train_regression_loss: 0.0218 - val_model_loss: 19.4264 - val_reconstruction_loss: 19.3914 - val_kl_loss: 1.2241e-04 - val_regression_loss: 0.0233\n",
      "WARNING:tensorflow:Compiled the loaded model, but the compiled metrics have yet to be built. `model.compile_metrics` will be empty until you train or evaluate the model.\n"
     ]
    },
    {
     "name": "stderr",
     "output_type": "stream",
     "text": [
      "WARNING:tensorflow:Compiled the loaded model, but the compiled metrics have yet to be built. `model.compile_metrics` will be empty until you train or evaluate the model.\n"
     ]
    },
    {
     "name": "stdout",
     "output_type": "stream",
     "text": [
      "INFO:tensorflow:Assets written to: pretrain/vae/2nd_aa_nor_package\\assets\n"
     ]
    },
    {
     "name": "stderr",
     "output_type": "stream",
     "text": [
      "INFO:tensorflow:Assets written to: pretrain/vae/2nd_aa_nor_package\\assets\n"
     ]
    },
    {
     "name": "stdout",
     "output_type": "stream",
     "text": [
      "Model saved to pretrain/vae/2nd_aa_nor_package.\n",
      "Convergence history: [1, 0, 1, 1]\n",
      "\n",
      "epoch 34\n",
      "4087/4087 [==============================] - 35s 9ms/step - train_model_loss: 19.3664 - train_reconstruction_loss: 19.3340 - train_kl_loss: 6.3586e-04 - train_regression_loss: 0.0213 - val_model_loss: 19.4102 - val_reconstruction_loss: 19.3755 - val_kl_loss: 0.0013 - val_regression_loss: 0.0225\n",
      "WARNING:tensorflow:Compiled the loaded model, but the compiled metrics have yet to be built. `model.compile_metrics` will be empty until you train or evaluate the model.\n"
     ]
    },
    {
     "name": "stderr",
     "output_type": "stream",
     "text": [
      "WARNING:tensorflow:Compiled the loaded model, but the compiled metrics have yet to be built. `model.compile_metrics` will be empty until you train or evaluate the model.\n"
     ]
    },
    {
     "name": "stdout",
     "output_type": "stream",
     "text": [
      "INFO:tensorflow:Assets written to: pretrain/vae/2nd_aa_nor_package\\assets\n"
     ]
    },
    {
     "name": "stderr",
     "output_type": "stream",
     "text": [
      "INFO:tensorflow:Assets written to: pretrain/vae/2nd_aa_nor_package\\assets\n"
     ]
    },
    {
     "name": "stdout",
     "output_type": "stream",
     "text": [
      "Model saved to pretrain/vae/2nd_aa_nor_package.\n",
      "Convergence history: [1, 0, 1, 1, 1]\n",
      "\n",
      "epoch 35\n",
      "Converged. Stall: 1/10\n",
      "4087/4087 [==============================] - 36s 9ms/step - train_model_loss: 19.3700 - train_reconstruction_loss: 19.3386 - train_kl_loss: 6.0810e-04 - train_regression_loss: 0.0207 - val_model_loss: 19.3384 - val_reconstruction_loss: 19.3108 - val_kl_loss: 6.3339e-04 - val_regression_loss: 0.0180\n",
      "WARNING:tensorflow:Compiled the loaded model, but the compiled metrics have yet to be built. `model.compile_metrics` will be empty until you train or evaluate the model.\n"
     ]
    },
    {
     "name": "stderr",
     "output_type": "stream",
     "text": [
      "WARNING:tensorflow:Compiled the loaded model, but the compiled metrics have yet to be built. `model.compile_metrics` will be empty until you train or evaluate the model.\n"
     ]
    },
    {
     "name": "stdout",
     "output_type": "stream",
     "text": [
      "INFO:tensorflow:Assets written to: pretrain/vae/2nd_aa_nor_package\\assets\n"
     ]
    },
    {
     "name": "stderr",
     "output_type": "stream",
     "text": [
      "INFO:tensorflow:Assets written to: pretrain/vae/2nd_aa_nor_package\\assets\n"
     ]
    },
    {
     "name": "stdout",
     "output_type": "stream",
     "text": [
      "Model saved to pretrain/vae/2nd_aa_nor_package.\n",
      "\n",
      "epoch 36\n",
      "Converged. Stall: 2/10\n",
      "4087/4087 [==============================] - 35s 9ms/step - train_model_loss: 19.3726 - train_reconstruction_loss: 19.3428 - train_kl_loss: 4.9114e-04 - train_regression_loss: 0.0197 - val_model_loss: 19.3525 - val_reconstruction_loss: 19.3253 - val_kl_loss: 2.0250e-04 - val_regression_loss: 0.0180\n",
      "WARNING:tensorflow:Compiled the loaded model, but the compiled metrics have yet to be built. `model.compile_metrics` will be empty until you train or evaluate the model.\n"
     ]
    },
    {
     "name": "stderr",
     "output_type": "stream",
     "text": [
      "WARNING:tensorflow:Compiled the loaded model, but the compiled metrics have yet to be built. `model.compile_metrics` will be empty until you train or evaluate the model.\n"
     ]
    },
    {
     "name": "stdout",
     "output_type": "stream",
     "text": [
      "INFO:tensorflow:Assets written to: pretrain/vae/2nd_aa_nor_package\\assets\n"
     ]
    },
    {
     "name": "stderr",
     "output_type": "stream",
     "text": [
      "INFO:tensorflow:Assets written to: pretrain/vae/2nd_aa_nor_package\\assets\n"
     ]
    },
    {
     "name": "stdout",
     "output_type": "stream",
     "text": [
      "Model saved to pretrain/vae/2nd_aa_nor_package.\n",
      "\n",
      "epoch 37\n",
      "Converged. Stall: 3/10\n",
      "4087/4087 [==============================] - 34s 8ms/step - train_model_loss: 19.3599 - train_reconstruction_loss: 19.3317 - train_kl_loss: 6.5143e-04 - train_regression_loss: 0.0184 - val_model_loss: 19.2600 - val_reconstruction_loss: 19.2327 - val_kl_loss: 8.9994e-04 - val_regression_loss: 0.0178\n",
      "WARNING:tensorflow:Compiled the loaded model, but the compiled metrics have yet to be built. `model.compile_metrics` will be empty until you train or evaluate the model.\n"
     ]
    },
    {
     "name": "stderr",
     "output_type": "stream",
     "text": [
      "WARNING:tensorflow:Compiled the loaded model, but the compiled metrics have yet to be built. `model.compile_metrics` will be empty until you train or evaluate the model.\n"
     ]
    },
    {
     "name": "stdout",
     "output_type": "stream",
     "text": [
      "INFO:tensorflow:Assets written to: pretrain/vae/2nd_aa_nor_package\\assets\n"
     ]
    },
    {
     "name": "stderr",
     "output_type": "stream",
     "text": [
      "INFO:tensorflow:Assets written to: pretrain/vae/2nd_aa_nor_package\\assets\n"
     ]
    },
    {
     "name": "stdout",
     "output_type": "stream",
     "text": [
      "Model saved to pretrain/vae/2nd_aa_nor_package.\n",
      "\n",
      "epoch 38\n",
      "Converged. Stall: 4/10\n",
      "4087/4087 [==============================] - 33s 8ms/step - train_model_loss: 19.3545 - train_reconstruction_loss: 19.3275 - train_kl_loss: 6.6924e-04 - train_regression_loss: 0.0176 - val_model_loss: 19.3356 - val_reconstruction_loss: 19.3113 - val_kl_loss: 6.3985e-04 - val_regression_loss: 0.0160\n",
      "WARNING:tensorflow:Compiled the loaded model, but the compiled metrics have yet to be built. `model.compile_metrics` will be empty until you train or evaluate the model.\n"
     ]
    },
    {
     "name": "stderr",
     "output_type": "stream",
     "text": [
      "WARNING:tensorflow:Compiled the loaded model, but the compiled metrics have yet to be built. `model.compile_metrics` will be empty until you train or evaluate the model.\n"
     ]
    },
    {
     "name": "stdout",
     "output_type": "stream",
     "text": [
      "INFO:tensorflow:Assets written to: pretrain/vae/2nd_aa_nor_package\\assets\n"
     ]
    },
    {
     "name": "stderr",
     "output_type": "stream",
     "text": [
      "INFO:tensorflow:Assets written to: pretrain/vae/2nd_aa_nor_package\\assets\n"
     ]
    },
    {
     "name": "stdout",
     "output_type": "stream",
     "text": [
      "Model saved to pretrain/vae/2nd_aa_nor_package.\n",
      "\n",
      "epoch 39\n",
      "Converged. Stall: 5/10\n",
      "4087/4087 [==============================] - 33s 8ms/step - train_model_loss: 19.3537 - train_reconstruction_loss: 19.3273 - train_kl_loss: 6.8351e-04 - train_regression_loss: 0.0172 - val_model_loss: 19.3996 - val_reconstruction_loss: 19.3742 - val_kl_loss: 4.4727e-04 - val_regression_loss: 0.0167\n",
      "WARNING:tensorflow:Compiled the loaded model, but the compiled metrics have yet to be built. `model.compile_metrics` will be empty until you train or evaluate the model.\n"
     ]
    },
    {
     "name": "stderr",
     "output_type": "stream",
     "text": [
      "WARNING:tensorflow:Compiled the loaded model, but the compiled metrics have yet to be built. `model.compile_metrics` will be empty until you train or evaluate the model.\n"
     ]
    },
    {
     "name": "stdout",
     "output_type": "stream",
     "text": [
      "INFO:tensorflow:Assets written to: pretrain/vae/2nd_aa_nor_package\\assets\n"
     ]
    },
    {
     "name": "stderr",
     "output_type": "stream",
     "text": [
      "INFO:tensorflow:Assets written to: pretrain/vae/2nd_aa_nor_package\\assets\n"
     ]
    },
    {
     "name": "stdout",
     "output_type": "stream",
     "text": [
      "Model saved to pretrain/vae/2nd_aa_nor_package.\n",
      "\n",
      "epoch 40\n",
      "Converged. Stall: 6/10\n",
      "4087/4087 [==============================] - 33s 8ms/step - train_model_loss: 19.3511 - train_reconstruction_loss: 19.3257 - train_kl_loss: 4.6814e-04 - train_regression_loss: 0.0167 - val_model_loss: 19.3140 - val_reconstruction_loss: 19.2914 - val_kl_loss: 3.0245e-04 - val_regression_loss: 0.0150\n",
      "WARNING:tensorflow:Compiled the loaded model, but the compiled metrics have yet to be built. `model.compile_metrics` will be empty until you train or evaluate the model.\n"
     ]
    },
    {
     "name": "stderr",
     "output_type": "stream",
     "text": [
      "WARNING:tensorflow:Compiled the loaded model, but the compiled metrics have yet to be built. `model.compile_metrics` will be empty until you train or evaluate the model.\n"
     ]
    },
    {
     "name": "stdout",
     "output_type": "stream",
     "text": [
      "INFO:tensorflow:Assets written to: pretrain/vae/2nd_aa_nor_package\\assets\n"
     ]
    },
    {
     "name": "stderr",
     "output_type": "stream",
     "text": [
      "INFO:tensorflow:Assets written to: pretrain/vae/2nd_aa_nor_package\\assets\n"
     ]
    },
    {
     "name": "stdout",
     "output_type": "stream",
     "text": [
      "Model saved to pretrain/vae/2nd_aa_nor_package.\n",
      "Hit maximum epochs.\n",
      "Finished training model. Final overall losses:\n",
      "train: 19.351    val:19.314\n",
      "288/288 [==============================] - 0s 736us/step\n",
      "288/288 [==============================] - 0s 653us/step\n",
      "\n",
      "MSE of predictions vs true labels: 0.015252804383635521\n",
      "WARNING:tensorflow:Compiled the loaded model, but the compiled metrics have yet to be built. `model.compile_metrics` will be empty until you train or evaluate the model.\n"
     ]
    },
    {
     "name": "stderr",
     "output_type": "stream",
     "text": [
      "WARNING:tensorflow:Compiled the loaded model, but the compiled metrics have yet to be built. `model.compile_metrics` will be empty until you train or evaluate the model.\n"
     ]
    },
    {
     "name": "stdout",
     "output_type": "stream",
     "text": [
      "INFO:tensorflow:Assets written to: e:\\Elite\\Now_repority\\20240220\\trained_models\\2024420_nor_package_2D_40epochs_19.35T_19.31V\\model\\assets\n"
     ]
    },
    {
     "name": "stderr",
     "output_type": "stream",
     "text": [
      "INFO:tensorflow:Assets written to: e:\\Elite\\Now_repority\\20240220\\trained_models\\2024420_nor_package_2D_40epochs_19.35T_19.31V\\model\\assets\n"
     ]
    },
    {
     "name": "stdout",
     "output_type": "stream",
     "text": [
      "Model saved to e:\\Elite\\Now_repority\\20240220\\trained_models\\2024420_nor_package_2D_40epochs_19.35T_19.31V\\model.\n",
      "Losses saved to e:\\Elite\\Now_repority\\20240220\\trained_models\\2024420_nor_package_2D_40epochs_19.35T_19.31V\\loss_log.csv.\n",
      "Train predictions saved to e:\\Elite\\Now_repority\\20240220\\trained_models\\2024420_nor_package_2D_40epochs_19.35T_19.31V\\preds.csv.\n"
     ]
    }
   ],
   "source": [
    "# Train model\n",
    "model, preds_df, model_outdir = train_new(model, train_batches, val_batches, array,outpath,\n",
    "                                        train_df, optimizer=optimizer,                    \n",
    "                                        loss_weights=loss_weights           \n",
    "                        )"
   ]
  },
  {
   "cell_type": "markdown",
   "metadata": {},
   "source": [
    "####  Correlation between result and prediction "
   ]
  },
  {
   "cell_type": "code",
   "execution_count": 15,
   "metadata": {},
   "outputs": [
    {
     "data": {
      "image/png": "[encoded data removed]",
      "text/plain": [
       "<Figure size 210x195 with 4 Axes>"
      ]
     },
     "metadata": {},
     "output_type": "display_data"
    }
   ],
   "source": [
    "\n",
    "\n",
    "x = preds_df['y_pred']\n",
    "y = preds_df['y_true']\n",
    "\n",
    "remove = np.isinf(x) & np.isinf(y)\n",
    "x = x[~remove]\n",
    "y = y[~remove]\n",
    "\n",
    "keep = (~np.isinf(x)) & (~np.isinf(y))\n",
    "x_both = x[keep]\n",
    "y_both = y[keep]\n",
    "\n",
    "y_missing = y[np.isinf(x)]\n",
    "x_missing = x[np.isinf(y)]\n",
    "\n",
    "\n",
    "kernel = gaussian_kde(np.vstack([\n",
    "    x_both.sample(n=100, random_state=1), \n",
    "    y_both.sample(n=100, random_state=1)\n",
    "]))\n",
    "c_both = kernel(np.vstack([x_both.values, y_both.values]))\n",
    "\n",
    "\n",
    "fig = plt.figure(figsize=(1.4,1.3), dpi=150)\n",
    "\n",
    "gs = fig.add_gridspec(2, 2, left=0.275, right=0.95, bottom=0.22, top=0.95, \n",
    "                      width_ratios=[1, 6], height_ratios=[6, 1], hspace=0., wspace=0)\n",
    "ax = fig.add_subplot(gs[0, 1])\n",
    "ax.scatter(x_both, y_both, c=c_both, cmap=mpl.cm.inferno, s=0.2, edgecolor='none', rasterized=True)\n",
    "ax.set_xticks([]); ax.set_yticks([])\n",
    "xlim = [-11, 12]\n",
    "bins = np.linspace(*xlim, 25)\n",
    "ax.set_xlim(xlim); ax.set_ylim(xlim)\n",
    "ax.text(0.03, 0.97, r'$r$ = {:.2f}'.format(np.corrcoef(x_both, y_both)[0, 1]),\n",
    "       transform=ax.transAxes, ha='left', va='top', fontsize=7)\n",
    "\n",
    "ax.text(0.97, 0.01, 'n={}'.format(si_format(len(x_both)), precision=2, format_str='{value}{prefix}',), \n",
    "        transform=ax.transAxes, ha='right', va='bottom', fontsize=7)\n",
    "\n",
    "# Left Marginal\n",
    "ax = fig.add_subplot(gs[0, 0])\n",
    "ax.hist(y_missing, bins=bins, edgecolor='none', orientation='horizontal', density=True, color='r')\n",
    "ax.set_ylim(xlim)\n",
    "ax.set_xticks([]); ax.set_yticks([-5, 0, 5, 10, 15,20])\n",
    "ax.text(0.97, 0.97, 'n={}'.format(si_format(len(y_missing)), precision=2, format_str='{value}{prefix}',), \n",
    "        transform=ax.transAxes, ha='right', va='top', fontsize=7, rotation=90, color='r')\n",
    "ax.set_ylabel('Prediction', labelpad=1,fontsize=7)\n",
    "ax.tick_params(axis='both', labelsize=6, length=2, pad=1)\n",
    "\n",
    "# Bottom Marginal\n",
    "ax = fig.add_subplot(gs[1, 1])\n",
    "ax.hist(x_missing, bins=bins, edgecolor='none', density=True, color='r')\n",
    "ax.set_xlim(xlim)\n",
    "ax.set_xticks([-5, 0, 5, 10, 15,20]); ax.set_yticks([])\n",
    "ax.text(0.97, 0.8, 'n={}'.format(si_format(len(x_missing)), precision=2, format_str='{value}{prefix}',), \n",
    "        transform=ax.transAxes, ha='right', va='top', fontsize=7, color='r')\n",
    "ax.set_xlabel('Truth', labelpad=2,fontsize=7)\n",
    "ax.tick_params(axis='both', labelsize=6, length=2, pad=1)\n",
    "\n",
    "\n",
    "# Missing label (not detected in either)\n",
    "ax = fig.add_subplot(gs[1, 0])\n",
    "for spine in ['bottom', 'left']:\n",
    "    ax.spines[spine].set_visible(False)\n",
    "ax.set_xticks([]); ax.set_yticks([])\n",
    "\n",
    "ax.text(0.8, 0.8, 'Missing', transform=ax.transAxes, color='r', ha='right', va='top', fontsize=7, clip_on=False)\n",
    "fig.savefig('../results/vae/2nd_results/nor_package/2nd_vae_aa_nor_package_correlation_train.pdf',dpi=300,bbox_inches='tight')"
   ]
  },
  {
   "cell_type": "code",
   "execution_count": 16,
   "metadata": {},
   "outputs": [
    {
     "data": {
      "image/png": "[encoded data removed]",
      "text/plain": [
       "<Figure size 200x170 with 1 Axes>"
      ]
     },
     "metadata": {},
     "output_type": "display_data"
    }
   ],
   "source": [
    "\n",
    "data = np.array(preds_df['y_pred']) \n",
    "data = data.reshape(-1, 1)  # Convert the data into a column vector\n",
    "\n",
    "# Fit the data using GaussianMixture\n",
    "n_components = 1 # Set the number of components for the hybrid model\n",
    "gmm = GaussianMixture(n_components=n_components)\n",
    "gmm.fit(data)\n",
    "\n",
    "# Get the mean and covariance matrix for each component\n",
    "means = gmm.means_\n",
    "covariances = gmm.covariances_\n",
    "\n",
    "# Generate the fitted distribution\n",
    "x = np.linspace(-5, 3, 1000)\n",
    "x = x.reshape(-1, 1)\n",
    "y = np.exp(gmm.score_samples(x))\n",
    "\n",
    "fig,ax = plt.subplots(figsize=(2,1.7),dpi=100)\n",
    "# Plot the raw data and the distribution after fitting\n",
    "plt.hist(data, bins=100, density=True, alpha=0.6, color = '#BAB3A3',label='Prediction')\n",
    "\n",
    "# 绘制每个分量的正态分布\n",
    "for i in range(n_components):\n",
    "    component = np.exp(-(x - means[i]) ** 2 / (2 * covariances[i]))\n",
    "    component /= np.sqrt(2 * np.pi * covariances[i])\n",
    "    component *= gmm.weights_[i]\n",
    "    if i == 0:\n",
    "        ax.plot(x, component, '-', label=f'Distribution {i + 1}', color='#F66E68', alpha=1)\n",
    "        ax.fill_between(x.flatten(), 0, component.flatten(), color='#F66E68', alpha=0.4)\n",
    "    else:\n",
    "        ax.plot(x, component, '-', label=f'Distribution {i + 1}', color='#457B9D', alpha=1)\n",
    "        ax.fill_between(x.flatten(), 0, component.flatten(), color='#457B9D', alpha=0.4)\n",
    "\n",
    "\n",
    "plt.title('Prediction',fontsize=10)\n",
    "ax.tick_params(axis='both', which='both', length=2,labelsize=10)\n",
    "ax.set_xticks([-1, 0, 1,2,3,4]); \n",
    "ax.set_xlim([-1,4])\n",
    "plt.ylabel('Density',labelpad=1,fontsize=10)\n",
    "plt.xlabel('Nor_package',labelpad=1,fontsize=10)\n",
    "plt.legend(fontsize=7,frameon=False)\n",
    "plt.show()\n",
    "fig.savefig('../results/vae/2nd_results/nor_package/2nd_vae_nor_package_distribution_train.pdf',dpi=300,bbox_inches='tight')"
   ]
  },
  {
   "cell_type": "code",
   "execution_count": 17,
   "metadata": {},
   "outputs": [
    {
     "name": "stdout",
     "output_type": "stream",
     "text": [
      "32/32 [==============================] - 0s 987us/step\n",
      "32/32 [==============================] - 0s 537us/step\n",
      "\n",
      "MSE of predictions vs true labels: 0.013774584978818893\n"
     ]
    },
    {
     "data": {
      "text/plain": [
       "0.9530633588986005"
      ]
     },
     "execution_count": 17,
     "metadata": {},
     "output_type": "execute_result"
    }
   ],
   "source": [
    "AA = test_df[array].values\n",
    "X = test_df.drop(columns=[array,'Y--nor_package'])\n",
    "Y = test_df['Y--nor_package'].values\n",
    "preds_df = predict(model, X,array, Y=Y, AA=AA)\n",
    "preds_df['y_pred'].corr(preds_df['y_true'])"
   ]
  },
  {
   "cell_type": "code",
   "execution_count": 18,
   "metadata": {},
   "outputs": [
    {
     "name": "stderr",
     "output_type": "stream",
     "text": [
      "d:\\ProgramData\\anaconda3\\envs\\tf\\lib\\site-packages\\numpy\\lib\\histograms.py:906: RuntimeWarning: invalid value encountered in divide\n",
      "  return n/db/n.sum(), bin_edges\n"
     ]
    },
    {
     "data": {
      "image/png": "[encoded data removed]",
      "text/plain": [
       "<Figure size 210x195 with 4 Axes>"
      ]
     },
     "metadata": {},
     "output_type": "display_data"
    }
   ],
   "source": [
    "\n",
    "\n",
    "x = preds_df['y_pred']\n",
    "y = preds_df['y_true']\n",
    "\n",
    "remove = np.isinf(x) & np.isinf(y)\n",
    "x = x[~remove]\n",
    "y = y[~remove]\n",
    "\n",
    "keep = (~np.isinf(x)) & (~np.isinf(y))\n",
    "x_both = x[keep]\n",
    "y_both = y[keep]\n",
    "\n",
    "y_missing = y[np.isinf(x)]\n",
    "x_missing = x[np.isinf(y)]\n",
    "\n",
    "\n",
    "kernel = gaussian_kde(np.vstack([\n",
    "    x_both.sample(n=100, random_state=1), \n",
    "    y_both.sample(n=100, random_state=1)\n",
    "]))\n",
    "c_both = kernel(np.vstack([x_both.values, y_both.values]))\n",
    "\n",
    "\n",
    "fig = plt.figure(figsize=(1.4,1.3), dpi=150)\n",
    "\n",
    "gs = fig.add_gridspec(2, 2, left=0.275, right=0.95, bottom=0.22, top=0.95, \n",
    "                      width_ratios=[1, 6], height_ratios=[6, 1], hspace=0., wspace=0)\n",
    "ax = fig.add_subplot(gs[0, 1])\n",
    "ax.scatter(x_both, y_both, c=c_both, cmap=mpl.cm.inferno, s=0.2, edgecolor='none', rasterized=True)\n",
    "ax.set_xticks([]); ax.set_yticks([])\n",
    "xlim = [-11, 12]\n",
    "bins = np.linspace(*xlim, 25)\n",
    "ax.set_xlim(xlim); ax.set_ylim(xlim)\n",
    "ax.text(0.03, 0.97, r'$r$ = {:.2f}'.format(np.corrcoef(x_both, y_both)[0, 1]),\n",
    "       transform=ax.transAxes, ha='left', va='top', fontsize=7)\n",
    "\n",
    "ax.text(0.97, 0.01, 'n={}'.format(si_format(len(x_both)), precision=2, format_str='{value}{prefix}',), \n",
    "        transform=ax.transAxes, ha='right', va='bottom', fontsize=7)\n",
    "\n",
    "# Left Marginal\n",
    "ax = fig.add_subplot(gs[0, 0])\n",
    "ax.hist(y_missing, bins=bins, edgecolor='none', orientation='horizontal', density=True, color='r')\n",
    "ax.set_ylim(xlim)\n",
    "ax.set_xticks([]); ax.set_yticks([-5, 0, 5, 10, 15,20])\n",
    "ax.text(0.97, 0.97, 'n={}'.format(si_format(len(y_missing)), precision=2, format_str='{value}{prefix}',), \n",
    "        transform=ax.transAxes, ha='right', va='top', fontsize=7, rotation=90, color='r')\n",
    "ax.set_ylabel('Prediction', labelpad=1,fontsize=7)\n",
    "ax.tick_params(axis='both', labelsize=6, length=2, pad=1)\n",
    "\n",
    "# Bottom Marginal\n",
    "ax = fig.add_subplot(gs[1, 1])\n",
    "ax.hist(x_missing, bins=bins, edgecolor='none', density=True, color='r')\n",
    "ax.set_xlim(xlim)\n",
    "ax.set_xticks([-5, 0, 5, 10, 15,20]); ax.set_yticks([])\n",
    "ax.text(0.97, 0.8, 'n={}'.format(si_format(len(x_missing)), precision=2, format_str='{value}{prefix}',), \n",
    "        transform=ax.transAxes, ha='right', va='top', fontsize=7, color='r')\n",
    "ax.set_xlabel('Truth', labelpad=2,fontsize=7)\n",
    "ax.tick_params(axis='both', labelsize=6, length=2, pad=1)\n",
    "\n",
    "\n",
    "# Missing label (not detected in either)\n",
    "ax = fig.add_subplot(gs[1, 0])\n",
    "for spine in ['bottom', 'left']:\n",
    "    ax.spines[spine].set_visible(False)\n",
    "ax.set_xticks([]); ax.set_yticks([])\n",
    "\n",
    "ax.text(0.8, 0.8, 'Missing', transform=ax.transAxes, color='r', ha='right', va='top', fontsize=7, clip_on=False)\n",
    "fig.savefig('../results/vae/2nd_results/nor_package/2nd_vae_aa_nor_package_correlation_test.pdf',dpi=300,bbox_inches='tight')"
   ]
  },
  {
   "cell_type": "code",
   "execution_count": 19,
   "metadata": {},
   "outputs": [
    {
     "data": {
      "image/png": "[encoded data removed]",
      "text/plain": [
       "<Figure size 200x170 with 1 Axes>"
      ]
     },
     "metadata": {},
     "output_type": "display_data"
    }
   ],
   "source": [
    "\n",
    "data = np.array(preds_df['y_pred']) \n",
    "data = data.reshape(-1, 1)  # Convert the data into a column vector\n",
    "\n",
    "# Fit the data using GaussianMixture\n",
    "n_components = 1 # Set the number of components for the hybrid model\n",
    "gmm = GaussianMixture(n_components=n_components)\n",
    "gmm.fit(data)\n",
    "\n",
    "# Get the mean and covariance matrix for each component\n",
    "means = gmm.means_\n",
    "covariances = gmm.covariances_\n",
    "\n",
    "# Generate the fitted distribution\n",
    "x = np.linspace(-10, 8, 1000)\n",
    "x = x.reshape(-1, 1)\n",
    "y = np.exp(gmm.score_samples(x))\n",
    "\n",
    "fig,ax = plt.subplots(figsize=(2,1.7),dpi=100)\n",
    "# Plot the raw data and the distribution after fitting\n",
    "plt.hist(data, bins=100, density=True, alpha=0.6, color = '#BAB3A3',label='Prediction')\n",
    "\n",
    "# 绘制每个分量的正态分布\n",
    "for i in range(n_components):\n",
    "    component = np.exp(-(x - means[i]) ** 2 / (2 * covariances[i]))\n",
    "    component /= np.sqrt(2 * np.pi * covariances[i])\n",
    "    component *= gmm.weights_[i]\n",
    "    if i == 0:\n",
    "        ax.plot(x, component, '-', label=f'Distribution {i + 1}', color='#F66E68', alpha=1)\n",
    "        ax.fill_between(x.flatten(), 0, component.flatten(), color='#F66E68', alpha=0.4)\n",
    "    else:\n",
    "        ax.plot(x, component, '-', label=f'Distribution {i + 1}', color='#457B9D', alpha=1)\n",
    "        ax.fill_between(x.flatten(), 0, component.flatten(), color='#457B9D', alpha=0.4)\n",
    "\n",
    "\n",
    "plt.title('Prediction',fontsize=10)\n",
    "ax.tick_params(axis='both', which='both', length=2,labelsize=10)\n",
    "ax.set_xticks([-1, 0, 1,2,3,4]); \n",
    "ax.set_xlim([-1,4])\n",
    "plt.ylabel('Density',labelpad=1,fontsize=10)\n",
    "plt.xlabel('Nor_package',labelpad=1,fontsize=10)\n",
    "plt.legend(fontsize=7,frameon=False)\n",
    "plt.show()\n",
    "fig.savefig('../results/vae/2nd_results/nor_package/2nd_vae_nor_package_distribution_test.pdf',dpi=300,bbox_inches='tight')"
   ]
  },
  {
   "cell_type": "code",
   "execution_count": null,
   "metadata": {},
   "outputs": [],
   "source": []
  },
  {
   "cell_type": "code",
   "execution_count": null,
   "metadata": {},
   "outputs": [],
   "source": []
  }
 ],
 "metadata": {
  "kernelspec": {
   "display_name": "Python 3 (ipykernel)",
   "language": "python",
   "name": "python3"
  },
  "language_info": {
   "codemirror_mode": {
    "name": "ipython",
    "version": 3
   },
   "file_extension": ".py",
   "mimetype": "text/x-python",
   "name": "python",
   "nbconvert_exporter": "python",
   "pygments_lexer": "ipython3",
   "version": "3.8.16"
  },
  "vscode": {
   "interpreter": {
    "hash": "00dedd32bda6164f33307b9f113fca69379b5d26ecb5a9003c28a7bd4ecd46dd"
   }
  }
 },
 "nbformat": 4,
 "nbformat_minor": 4
}
