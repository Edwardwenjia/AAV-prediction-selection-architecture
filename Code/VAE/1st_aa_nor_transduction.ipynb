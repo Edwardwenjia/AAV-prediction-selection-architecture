{
 "cells": [
  {
   "cell_type": "code",
   "execution_count": 49,
   "metadata": {
    "is_executing": true
   },
   "outputs": [
    {
     "name": "stdout",
     "output_type": "stream",
     "text": [
      "The autoreload extension is already loaded. To reload it, use:\n",
      "  %reload_ext autoreload\n"
     ]
    }
   ],
   "source": [
    "%load_ext autoreload\n",
    "%autoreload 2"
   ]
  },
  {
   "cell_type": "code",
   "execution_count": 50,
   "metadata": {},
   "outputs": [],
   "source": [
    "import numpy as np\n",
    "import pandas as pd\n",
    "import pickle\n",
    "import random\n",
    "import tensorflow as tf\n",
    "import os\n",
    "import sys\n",
    "from pathlib import Path\n",
    "from sklearn.preprocessing import StandardScaler\n",
    "from mpl_toolkits.axes_grid1 import make_axes_locatable\n",
    "from scipy.stats import gaussian_kde, norm\n",
    "import matplotlib as mpl\n",
    "import matplotlib.pyplot as plt\n",
    "from sklearn.mixture import GaussianMixture\n",
    "\n",
    "from vae.vae import SVAE\n",
    "from vae.train import train,train_new\n",
    "from utils.data_processing import prep_data, make_tf_batches, seq_to_onehot\n",
    "from vae.predict import predict\n",
    "from utils.utils_f4f import heatmap, si_format\n",
    "os.environ['TF_CPP_MIN_LOG_LEVEL'] = '0'\n"
   ]
  },
  {
   "cell_type": "markdown",
   "metadata": {},
   "source": [
    "#### Data_preparetion\n"
   ]
  },
  {
   "cell_type": "code",
   "execution_count": 51,
   "metadata": {},
   "outputs": [
    {
     "data": {
      "text/html": [
       "<div>\n",
       "<style scoped>\n",
       "    .dataframe tbody tr th:only-of-type {\n",
       "        vertical-align: middle;\n",
       "    }\n",
       "\n",
       "    .dataframe tbody tr th {\n",
       "        vertical-align: top;\n",
       "    }\n",
       "\n",
       "    .dataframe thead th {\n",
       "        text-align: right;\n",
       "    }\n",
       "</style>\n",
       "<table border=\"1\" class=\"dataframe\">\n",
       "  <thead>\n",
       "    <tr style=\"text-align: right;\">\n",
       "      <th></th>\n",
       "      <th>AA_sequence</th>\n",
       "      <th>transduction</th>\n",
       "    </tr>\n",
       "  </thead>\n",
       "  <tbody>\n",
       "    <tr>\n",
       "      <th>5233</th>\n",
       "      <td>FRQGSVS</td>\n",
       "      <td>-16.459544</td>\n",
       "    </tr>\n",
       "    <tr>\n",
       "      <th>572</th>\n",
       "      <td>IGGRVSA</td>\n",
       "      <td>-16.317739</td>\n",
       "    </tr>\n",
       "    <tr>\n",
       "      <th>5812</th>\n",
       "      <td>RRGEGVN</td>\n",
       "      <td>-16.047279</td>\n",
       "    </tr>\n",
       "    <tr>\n",
       "      <th>3895</th>\n",
       "      <td>LFRSGVG</td>\n",
       "      <td>-15.042787</td>\n",
       "    </tr>\n",
       "    <tr>\n",
       "      <th>2311</th>\n",
       "      <td>ISNNTRG</td>\n",
       "      <td>-14.920620</td>\n",
       "    </tr>\n",
       "    <tr>\n",
       "      <th>...</th>\n",
       "      <td>...</td>\n",
       "      <td>...</td>\n",
       "    </tr>\n",
       "    <tr>\n",
       "      <th>6467</th>\n",
       "      <td>CGISGDG</td>\n",
       "      <td>8.701060</td>\n",
       "    </tr>\n",
       "    <tr>\n",
       "      <th>3742</th>\n",
       "      <td>GKRSGGI</td>\n",
       "      <td>8.780375</td>\n",
       "    </tr>\n",
       "    <tr>\n",
       "      <th>6211</th>\n",
       "      <td>MRAVNVK</td>\n",
       "      <td>8.813766</td>\n",
       "    </tr>\n",
       "    <tr>\n",
       "      <th>8327</th>\n",
       "      <td>YTDLQFI</td>\n",
       "      <td>9.087205</td>\n",
       "    </tr>\n",
       "    <tr>\n",
       "      <th>6674</th>\n",
       "      <td>SDKQGGS</td>\n",
       "      <td>9.465030</td>\n",
       "    </tr>\n",
       "  </tbody>\n",
       "</table>\n",
       "<p>10209 rows × 2 columns</p>\n",
       "</div>"
      ],
      "text/plain": [
       "     AA_sequence  transduction\n",
       "5233     FRQGSVS    -16.459544\n",
       "572      IGGRVSA    -16.317739\n",
       "5812     RRGEGVN    -16.047279\n",
       "3895     LFRSGVG    -15.042787\n",
       "2311     ISNNTRG    -14.920620\n",
       "...          ...           ...\n",
       "6467     CGISGDG      8.701060\n",
       "3742     GKRSGGI      8.780375\n",
       "6211     MRAVNVK      8.813766\n",
       "8327     YTDLQFI      9.087205\n",
       "6674     SDKQGGS      9.465030\n",
       "\n",
       "[10209 rows x 2 columns]"
      ]
     },
     "execution_count": 51,
     "metadata": {},
     "output_type": "execute_result"
    }
   ],
   "source": [
    "# Import data \n",
    "target_assay = 'transduction'\n",
    "array = 'AA_sequence'\n",
    "\n",
    "df_all = pd.read_csv('../data/1stseq_aa_transduction.tsv',delimiter='\\t')\n",
    "df_all = df_all.rename(columns={'aa':'AA_sequence'})\n",
    "df = df_all[['AA_sequence', target_assay]]\n",
    "df= df.sort_values(by=target_assay)\n",
    "\n",
    "#Fill in the nan data and replace the inf value\n",
    "df[target_assay] = df[target_assay].fillna(0)  \n",
    "df[target_assay] = df[target_assay].replace([np.inf, -np.inf], np.nan)\n",
    "df = df.dropna(subset=[target_assay,'AA_sequence'])\n",
    "# df = df.iloc[::50]\n",
    "df"
   ]
  },
  {
   "cell_type": "code",
   "execution_count": 52,
   "metadata": {},
   "outputs": [
    {
     "data": {
      "image/png": "[encoded data removed]",
      "text/plain": [
       "<Figure size 200x170 with 1 Axes>"
      ]
     },
     "metadata": {},
     "output_type": "display_data"
    }
   ],
   "source": [
    "nor_package = df_all[np.isfinite(df_all[target_assay])][target_assay]\n",
    "data = np.array(nor_package) \n",
    "data = data.reshape(-1, 1)  # Convert the data into a column vector\n",
    "\n",
    "# Fit the data using GaussianMixture\n",
    "n_components = 1 # Set the number of components for the hybrid model\n",
    "gmm = GaussianMixture(n_components=n_components)\n",
    "gmm.fit(data)\n",
    "\n",
    "# Get the mean and covariance matrix for each component\n",
    "means = gmm.means_\n",
    "covariances = gmm.covariances_\n",
    "\n",
    "# Generate the fitted distribution\n",
    "x = np.linspace(-10, 8, 10000)\n",
    "x = x.reshape(-1, 1)\n",
    "y = np.exp(gmm.score_samples(x))\n",
    "\n",
    "fig,ax = plt.subplots(figsize=(2,1.7),dpi=100)\n",
    "# Plot the raw data and the distribution after fitting\n",
    "plt.hist(data, bins=100, density=True, alpha=0.6, color = '#BAB3A3',label='Prediction')\n",
    "\n",
    "# 绘制每个分量的正态分布\n",
    "for i in range(n_components):\n",
    "    component = np.exp(-(x - means[i]) ** 2 / (2 * covariances[i]))\n",
    "    component /= np.sqrt(2 * np.pi * covariances[i])\n",
    "    component *= gmm.weights_[i]\n",
    "    if i == 0:\n",
    "        ax.plot(x, component, '-', label=f'Distribution {i + 1}', color='#F66E68', alpha=1)\n",
    "        ax.fill_between(x.flatten(), 0, component.flatten(), color='#F66E68', alpha=0.4)\n",
    "    else:\n",
    "        ax.plot(x, component, '-', label=f'Distribution {i + 1}', color='#457B9D', alpha=1)\n",
    "        ax.fill_between(x.flatten(), 0, component.flatten(), color='#457B9D', alpha=0.4)\n",
    "\n",
    "\n",
    "plt.title('Truth_distribution',fontsize=10)\n",
    "ax.tick_params(axis='both', which='both', length=2,labelsize=8)\n",
    "ax.set_xticks([-5, 0, 5]); \n",
    "# ax.set_yticks([])\n",
    "plt.ylabel('Density',labelpad=2,fontsize=10)\n",
    "plt.xlabel('Nor_package',labelpad=2,fontsize=10)\n",
    "plt.legend(fontsize=7,frameon=False,loc='best')\n",
    "plt.show()"
   ]
  },
  {
   "cell_type": "markdown",
   "metadata": {},
   "source": [
    "### Prep data and make Tensorflow-compatible data batches\n",
    "\n",
    "`prep_data()` will one-hot encode the `AA_sequence` column and split the data into\n",
    "training and test sets. The training split will be split\n",
    "futher into training and validation batches with `make_tf_batches()`.\n"
   ]
  },
  {
   "cell_type": "code",
   "execution_count": 53,
   "metadata": {},
   "outputs": [],
   "source": [
    "(data_list, train_df, test_df, prepped_df) = prep_data(df, AA_colname=array, target_assay_col=target_assay)\n",
    "train_df['Y--transduction'] = train_df[array].map(df.drop_duplicates(array).set_index(array)[target_assay])\n",
    "test_df['Y--transduction'] = test_df[array].map(df.drop_duplicates(array).set_index(array)[target_assay])\n",
    "prepped_df['Y--transduction'] = test_df[array].map(df.drop_duplicates(array).set_index(array)[target_assay])"
   ]
  },
  {
   "cell_type": "code",
   "execution_count": 54,
   "metadata": {},
   "outputs": [
    {
     "data": {
      "text/html": [
       "<div>\n",
       "<style scoped>\n",
       "    .dataframe tbody tr th:only-of-type {\n",
       "        vertical-align: middle;\n",
       "    }\n",
       "\n",
       "    .dataframe tbody tr th {\n",
       "        vertical-align: top;\n",
       "    }\n",
       "\n",
       "    .dataframe thead th {\n",
       "        text-align: right;\n",
       "    }\n",
       "</style>\n",
       "<table border=\"1\" class=\"dataframe\">\n",
       "  <thead>\n",
       "    <tr style=\"text-align: right;\">\n",
       "      <th></th>\n",
       "      <th>AA_sequence</th>\n",
       "      <th>x0</th>\n",
       "      <th>x1</th>\n",
       "      <th>x2</th>\n",
       "      <th>x3</th>\n",
       "      <th>x4</th>\n",
       "      <th>x5</th>\n",
       "      <th>x6</th>\n",
       "      <th>x7</th>\n",
       "      <th>x8</th>\n",
       "      <th>...</th>\n",
       "      <th>x131</th>\n",
       "      <th>x132</th>\n",
       "      <th>x133</th>\n",
       "      <th>x134</th>\n",
       "      <th>x135</th>\n",
       "      <th>x136</th>\n",
       "      <th>x137</th>\n",
       "      <th>x138</th>\n",
       "      <th>x139</th>\n",
       "      <th>Y--transduction</th>\n",
       "    </tr>\n",
       "  </thead>\n",
       "  <tbody>\n",
       "    <tr>\n",
       "      <th>0</th>\n",
       "      <td>IGGRVSA</td>\n",
       "      <td>0</td>\n",
       "      <td>0</td>\n",
       "      <td>0</td>\n",
       "      <td>0</td>\n",
       "      <td>0</td>\n",
       "      <td>0</td>\n",
       "      <td>0</td>\n",
       "      <td>1</td>\n",
       "      <td>0</td>\n",
       "      <td>...</td>\n",
       "      <td>0</td>\n",
       "      <td>0</td>\n",
       "      <td>0</td>\n",
       "      <td>0</td>\n",
       "      <td>0</td>\n",
       "      <td>0</td>\n",
       "      <td>0</td>\n",
       "      <td>0</td>\n",
       "      <td>0</td>\n",
       "      <td>-16.317739</td>\n",
       "    </tr>\n",
       "    <tr>\n",
       "      <th>1</th>\n",
       "      <td>RRGEGVN</td>\n",
       "      <td>0</td>\n",
       "      <td>0</td>\n",
       "      <td>0</td>\n",
       "      <td>0</td>\n",
       "      <td>0</td>\n",
       "      <td>0</td>\n",
       "      <td>0</td>\n",
       "      <td>0</td>\n",
       "      <td>0</td>\n",
       "      <td>...</td>\n",
       "      <td>1</td>\n",
       "      <td>0</td>\n",
       "      <td>0</td>\n",
       "      <td>0</td>\n",
       "      <td>0</td>\n",
       "      <td>0</td>\n",
       "      <td>0</td>\n",
       "      <td>0</td>\n",
       "      <td>0</td>\n",
       "      <td>-16.047279</td>\n",
       "    </tr>\n",
       "    <tr>\n",
       "      <th>2</th>\n",
       "      <td>ISNNTRG</td>\n",
       "      <td>0</td>\n",
       "      <td>0</td>\n",
       "      <td>0</td>\n",
       "      <td>0</td>\n",
       "      <td>0</td>\n",
       "      <td>0</td>\n",
       "      <td>0</td>\n",
       "      <td>1</td>\n",
       "      <td>0</td>\n",
       "      <td>...</td>\n",
       "      <td>0</td>\n",
       "      <td>0</td>\n",
       "      <td>0</td>\n",
       "      <td>0</td>\n",
       "      <td>0</td>\n",
       "      <td>0</td>\n",
       "      <td>0</td>\n",
       "      <td>0</td>\n",
       "      <td>0</td>\n",
       "      <td>-14.920620</td>\n",
       "    </tr>\n",
       "    <tr>\n",
       "      <th>3</th>\n",
       "      <td>SGQNSHQ</td>\n",
       "      <td>0</td>\n",
       "      <td>0</td>\n",
       "      <td>0</td>\n",
       "      <td>0</td>\n",
       "      <td>0</td>\n",
       "      <td>0</td>\n",
       "      <td>0</td>\n",
       "      <td>0</td>\n",
       "      <td>0</td>\n",
       "      <td>...</td>\n",
       "      <td>0</td>\n",
       "      <td>0</td>\n",
       "      <td>1</td>\n",
       "      <td>0</td>\n",
       "      <td>0</td>\n",
       "      <td>0</td>\n",
       "      <td>0</td>\n",
       "      <td>0</td>\n",
       "      <td>0</td>\n",
       "      <td>-14.750743</td>\n",
       "    </tr>\n",
       "    <tr>\n",
       "      <th>4</th>\n",
       "      <td>YSVKTSV</td>\n",
       "      <td>0</td>\n",
       "      <td>0</td>\n",
       "      <td>0</td>\n",
       "      <td>0</td>\n",
       "      <td>0</td>\n",
       "      <td>0</td>\n",
       "      <td>0</td>\n",
       "      <td>0</td>\n",
       "      <td>0</td>\n",
       "      <td>...</td>\n",
       "      <td>0</td>\n",
       "      <td>0</td>\n",
       "      <td>0</td>\n",
       "      <td>0</td>\n",
       "      <td>0</td>\n",
       "      <td>0</td>\n",
       "      <td>1</td>\n",
       "      <td>0</td>\n",
       "      <td>0</td>\n",
       "      <td>-14.718122</td>\n",
       "    </tr>\n",
       "    <tr>\n",
       "      <th>...</th>\n",
       "      <td>...</td>\n",
       "      <td>...</td>\n",
       "      <td>...</td>\n",
       "      <td>...</td>\n",
       "      <td>...</td>\n",
       "      <td>...</td>\n",
       "      <td>...</td>\n",
       "      <td>...</td>\n",
       "      <td>...</td>\n",
       "      <td>...</td>\n",
       "      <td>...</td>\n",
       "      <td>...</td>\n",
       "      <td>...</td>\n",
       "      <td>...</td>\n",
       "      <td>...</td>\n",
       "      <td>...</td>\n",
       "      <td>...</td>\n",
       "      <td>...</td>\n",
       "      <td>...</td>\n",
       "      <td>...</td>\n",
       "      <td>...</td>\n",
       "    </tr>\n",
       "    <tr>\n",
       "      <th>9184</th>\n",
       "      <td>CGISGDG</td>\n",
       "      <td>0</td>\n",
       "      <td>1</td>\n",
       "      <td>0</td>\n",
       "      <td>0</td>\n",
       "      <td>0</td>\n",
       "      <td>0</td>\n",
       "      <td>0</td>\n",
       "      <td>0</td>\n",
       "      <td>0</td>\n",
       "      <td>...</td>\n",
       "      <td>0</td>\n",
       "      <td>0</td>\n",
       "      <td>0</td>\n",
       "      <td>0</td>\n",
       "      <td>0</td>\n",
       "      <td>0</td>\n",
       "      <td>0</td>\n",
       "      <td>0</td>\n",
       "      <td>0</td>\n",
       "      <td>8.701060</td>\n",
       "    </tr>\n",
       "    <tr>\n",
       "      <th>9185</th>\n",
       "      <td>GKRSGGI</td>\n",
       "      <td>0</td>\n",
       "      <td>0</td>\n",
       "      <td>0</td>\n",
       "      <td>0</td>\n",
       "      <td>0</td>\n",
       "      <td>1</td>\n",
       "      <td>0</td>\n",
       "      <td>0</td>\n",
       "      <td>0</td>\n",
       "      <td>...</td>\n",
       "      <td>0</td>\n",
       "      <td>0</td>\n",
       "      <td>0</td>\n",
       "      <td>0</td>\n",
       "      <td>0</td>\n",
       "      <td>0</td>\n",
       "      <td>0</td>\n",
       "      <td>0</td>\n",
       "      <td>0</td>\n",
       "      <td>8.780375</td>\n",
       "    </tr>\n",
       "    <tr>\n",
       "      <th>9186</th>\n",
       "      <td>MRAVNVK</td>\n",
       "      <td>0</td>\n",
       "      <td>0</td>\n",
       "      <td>0</td>\n",
       "      <td>0</td>\n",
       "      <td>0</td>\n",
       "      <td>0</td>\n",
       "      <td>0</td>\n",
       "      <td>0</td>\n",
       "      <td>0</td>\n",
       "      <td>...</td>\n",
       "      <td>0</td>\n",
       "      <td>0</td>\n",
       "      <td>0</td>\n",
       "      <td>0</td>\n",
       "      <td>0</td>\n",
       "      <td>0</td>\n",
       "      <td>0</td>\n",
       "      <td>0</td>\n",
       "      <td>0</td>\n",
       "      <td>8.813766</td>\n",
       "    </tr>\n",
       "    <tr>\n",
       "      <th>9187</th>\n",
       "      <td>YTDLQFI</td>\n",
       "      <td>0</td>\n",
       "      <td>0</td>\n",
       "      <td>0</td>\n",
       "      <td>0</td>\n",
       "      <td>0</td>\n",
       "      <td>0</td>\n",
       "      <td>0</td>\n",
       "      <td>0</td>\n",
       "      <td>0</td>\n",
       "      <td>...</td>\n",
       "      <td>0</td>\n",
       "      <td>0</td>\n",
       "      <td>0</td>\n",
       "      <td>0</td>\n",
       "      <td>0</td>\n",
       "      <td>0</td>\n",
       "      <td>0</td>\n",
       "      <td>0</td>\n",
       "      <td>0</td>\n",
       "      <td>9.087205</td>\n",
       "    </tr>\n",
       "    <tr>\n",
       "      <th>9188</th>\n",
       "      <td>SDKQGGS</td>\n",
       "      <td>0</td>\n",
       "      <td>0</td>\n",
       "      <td>0</td>\n",
       "      <td>0</td>\n",
       "      <td>0</td>\n",
       "      <td>0</td>\n",
       "      <td>0</td>\n",
       "      <td>0</td>\n",
       "      <td>0</td>\n",
       "      <td>...</td>\n",
       "      <td>0</td>\n",
       "      <td>0</td>\n",
       "      <td>0</td>\n",
       "      <td>0</td>\n",
       "      <td>1</td>\n",
       "      <td>0</td>\n",
       "      <td>0</td>\n",
       "      <td>0</td>\n",
       "      <td>0</td>\n",
       "      <td>9.465030</td>\n",
       "    </tr>\n",
       "  </tbody>\n",
       "</table>\n",
       "<p>9189 rows × 142 columns</p>\n",
       "</div>"
      ],
      "text/plain": [
       "     AA_sequence  x0  x1  x2  x3  x4  x5  x6  x7  x8  ...  x131  x132  x133   \n",
       "0        IGGRVSA   0   0   0   0   0   0   0   1   0  ...     0     0     0  \\\n",
       "1        RRGEGVN   0   0   0   0   0   0   0   0   0  ...     1     0     0   \n",
       "2        ISNNTRG   0   0   0   0   0   0   0   1   0  ...     0     0     0   \n",
       "3        SGQNSHQ   0   0   0   0   0   0   0   0   0  ...     0     0     1   \n",
       "4        YSVKTSV   0   0   0   0   0   0   0   0   0  ...     0     0     0   \n",
       "...          ...  ..  ..  ..  ..  ..  ..  ..  ..  ..  ...   ...   ...   ...   \n",
       "9184     CGISGDG   0   1   0   0   0   0   0   0   0  ...     0     0     0   \n",
       "9185     GKRSGGI   0   0   0   0   0   1   0   0   0  ...     0     0     0   \n",
       "9186     MRAVNVK   0   0   0   0   0   0   0   0   0  ...     0     0     0   \n",
       "9187     YTDLQFI   0   0   0   0   0   0   0   0   0  ...     0     0     0   \n",
       "9188     SDKQGGS   0   0   0   0   0   0   0   0   0  ...     0     0     0   \n",
       "\n",
       "      x134  x135  x136  x137  x138  x139  Y--transduction  \n",
       "0        0     0     0     0     0     0       -16.317739  \n",
       "1        0     0     0     0     0     0       -16.047279  \n",
       "2        0     0     0     0     0     0       -14.920620  \n",
       "3        0     0     0     0     0     0       -14.750743  \n",
       "4        0     0     0     1     0     0       -14.718122  \n",
       "...    ...   ...   ...   ...   ...   ...              ...  \n",
       "9184     0     0     0     0     0     0         8.701060  \n",
       "9185     0     0     0     0     0     0         8.780375  \n",
       "9186     0     0     0     0     0     0         8.813766  \n",
       "9187     0     0     0     0     0     0         9.087205  \n",
       "9188     0     1     0     0     0     0         9.465030  \n",
       "\n",
       "[9189 rows x 142 columns]"
      ]
     },
     "execution_count": 54,
     "metadata": {},
     "output_type": "execute_result"
    }
   ],
   "source": [
    "train_df"
   ]
  },
  {
   "cell_type": "code",
   "execution_count": 55,
   "metadata": {},
   "outputs": [
    {
     "data": {
      "text/html": [
       "<div>\n",
       "<style scoped>\n",
       "    .dataframe tbody tr th:only-of-type {\n",
       "        vertical-align: middle;\n",
       "    }\n",
       "\n",
       "    .dataframe tbody tr th {\n",
       "        vertical-align: top;\n",
       "    }\n",
       "\n",
       "    .dataframe thead th {\n",
       "        text-align: right;\n",
       "    }\n",
       "</style>\n",
       "<table border=\"1\" class=\"dataframe\">\n",
       "  <thead>\n",
       "    <tr style=\"text-align: right;\">\n",
       "      <th></th>\n",
       "      <th>AA_sequence</th>\n",
       "      <th>x0</th>\n",
       "      <th>x1</th>\n",
       "      <th>x2</th>\n",
       "      <th>x3</th>\n",
       "      <th>x4</th>\n",
       "      <th>x5</th>\n",
       "      <th>x6</th>\n",
       "      <th>x7</th>\n",
       "      <th>x8</th>\n",
       "      <th>...</th>\n",
       "      <th>x132</th>\n",
       "      <th>x133</th>\n",
       "      <th>x134</th>\n",
       "      <th>x135</th>\n",
       "      <th>x136</th>\n",
       "      <th>x137</th>\n",
       "      <th>x138</th>\n",
       "      <th>x139</th>\n",
       "      <th>Y--transduction</th>\n",
       "      <th>test</th>\n",
       "    </tr>\n",
       "  </thead>\n",
       "  <tbody>\n",
       "    <tr>\n",
       "      <th>count</th>\n",
       "      <td>10209</td>\n",
       "      <td>10209</td>\n",
       "      <td>10209</td>\n",
       "      <td>10209</td>\n",
       "      <td>10209</td>\n",
       "      <td>10209</td>\n",
       "      <td>10209</td>\n",
       "      <td>10209</td>\n",
       "      <td>10209</td>\n",
       "      <td>10209</td>\n",
       "      <td>...</td>\n",
       "      <td>10209</td>\n",
       "      <td>10209</td>\n",
       "      <td>10209</td>\n",
       "      <td>10209</td>\n",
       "      <td>10209</td>\n",
       "      <td>10209</td>\n",
       "      <td>10209</td>\n",
       "      <td>10209</td>\n",
       "      <td>10209</td>\n",
       "      <td>10209</td>\n",
       "    </tr>\n",
       "    <tr>\n",
       "      <th>unique</th>\n",
       "      <td>1</td>\n",
       "      <td>1</td>\n",
       "      <td>1</td>\n",
       "      <td>1</td>\n",
       "      <td>1</td>\n",
       "      <td>1</td>\n",
       "      <td>1</td>\n",
       "      <td>1</td>\n",
       "      <td>1</td>\n",
       "      <td>1</td>\n",
       "      <td>...</td>\n",
       "      <td>1</td>\n",
       "      <td>1</td>\n",
       "      <td>1</td>\n",
       "      <td>1</td>\n",
       "      <td>1</td>\n",
       "      <td>1</td>\n",
       "      <td>1</td>\n",
       "      <td>1</td>\n",
       "      <td>2</td>\n",
       "      <td>1</td>\n",
       "    </tr>\n",
       "    <tr>\n",
       "      <th>top</th>\n",
       "      <td>False</td>\n",
       "      <td>False</td>\n",
       "      <td>False</td>\n",
       "      <td>False</td>\n",
       "      <td>False</td>\n",
       "      <td>False</td>\n",
       "      <td>False</td>\n",
       "      <td>False</td>\n",
       "      <td>False</td>\n",
       "      <td>False</td>\n",
       "      <td>...</td>\n",
       "      <td>False</td>\n",
       "      <td>False</td>\n",
       "      <td>False</td>\n",
       "      <td>False</td>\n",
       "      <td>False</td>\n",
       "      <td>False</td>\n",
       "      <td>False</td>\n",
       "      <td>False</td>\n",
       "      <td>True</td>\n",
       "      <td>False</td>\n",
       "    </tr>\n",
       "    <tr>\n",
       "      <th>freq</th>\n",
       "      <td>10209</td>\n",
       "      <td>10209</td>\n",
       "      <td>10209</td>\n",
       "      <td>10209</td>\n",
       "      <td>10209</td>\n",
       "      <td>10209</td>\n",
       "      <td>10209</td>\n",
       "      <td>10209</td>\n",
       "      <td>10209</td>\n",
       "      <td>10209</td>\n",
       "      <td>...</td>\n",
       "      <td>10209</td>\n",
       "      <td>10209</td>\n",
       "      <td>10209</td>\n",
       "      <td>10209</td>\n",
       "      <td>10209</td>\n",
       "      <td>10209</td>\n",
       "      <td>10209</td>\n",
       "      <td>10209</td>\n",
       "      <td>9189</td>\n",
       "      <td>10209</td>\n",
       "    </tr>\n",
       "  </tbody>\n",
       "</table>\n",
       "<p>4 rows × 143 columns</p>\n",
       "</div>"
      ],
      "text/plain": [
       "       AA_sequence     x0     x1     x2     x3     x4     x5     x6     x7   \n",
       "count        10209  10209  10209  10209  10209  10209  10209  10209  10209  \\\n",
       "unique           1      1      1      1      1      1      1      1      1   \n",
       "top          False  False  False  False  False  False  False  False  False   \n",
       "freq         10209  10209  10209  10209  10209  10209  10209  10209  10209   \n",
       "\n",
       "           x8  ...   x132   x133   x134   x135   x136   x137   x138   x139   \n",
       "count   10209  ...  10209  10209  10209  10209  10209  10209  10209  10209  \\\n",
       "unique      1  ...      1      1      1      1      1      1      1      1   \n",
       "top     False  ...  False  False  False  False  False  False  False  False   \n",
       "freq    10209  ...  10209  10209  10209  10209  10209  10209  10209  10209   \n",
       "\n",
       "       Y--transduction   test  \n",
       "count            10209  10209  \n",
       "unique               2      1  \n",
       "top               True  False  \n",
       "freq              9189  10209  \n",
       "\n",
       "[4 rows x 143 columns]"
      ]
     },
     "execution_count": 55,
     "metadata": {},
     "output_type": "execute_result"
    }
   ],
   "source": [
    "train_df.isnull().describe()\n",
    "prepped_df.isnull().describe()"
   ]
  },
  {
   "cell_type": "markdown",
   "metadata": {},
   "source": [
    "Now we split `train_df` into TensorFlow-compatible training and validation batches using\n",
    "`make_tf_batches()`. `unbatched_data` is a tuple of Numpy arrays corresponding to the X, Y\n",
    "and CV (if using) values across both the training and validation batches.\n"
   ]
  },
  {
   "cell_type": "code",
   "execution_count": 56,
   "metadata": {},
   "outputs": [],
   "source": [
    "X, Y  = data_list\n",
    "train_batches, val_batches, unbatched_data = make_tf_batches(X, Y)"
   ]
  },
  {
   "cell_type": "markdown",
   "metadata": {},
   "source": [
    "## VAE  model training\n",
    "\n",
    "Default parameterization:Here the model is applied to aa-nor_package learning process, as details\n",
    "\n",
    "- `input_dim = 140`\n",
    "- `latent_dim = 2`\n",
    "- `enc_hidden_dims = [100,40]`\n",
    "- `dec_hidden_dims = [40,100]`\n",
    "- `reg_hidden_dims = [100,10]`\n"
   ]
  },
  {
   "cell_type": "code",
   "execution_count": 57,
   "metadata": {},
   "outputs": [
    {
     "name": "stdout",
     "output_type": "stream",
     "text": [
      "Model: \"svae\"\n",
      "__________________________________________________________________________________________________\n",
      " Layer (type)                Output Shape                 Param #   Connected to                  \n",
      "==================================================================================================\n",
      " encoder_input (InputLayer)  [(None, 140)]                0         []                            \n",
      "                                                                                                  \n",
      " encoder (Functional)        [(None, 2),                  18304     ['encoder_input[0][0]',       \n",
      "                              (None, 2),                             'encoder_input[0][0]']       \n",
      "                              (None, 2)]                                                          \n",
      "                                                                                                  \n",
      " tf.concat_5 (TFOpLambda)    (None, 142)                  0         ['encoder[1][0]',             \n",
      "                                                                     'encoder_input[0][0]']       \n",
      "                                                                                                  \n",
      " decoder (Functional)        (None, 140)                  18360     ['encoder[0][2]']             \n",
      "                                                                                                  \n",
      " regressor (Functional)      (None, 1)                    16421     ['tf.concat_5[0][0]']         \n",
      "                                                                                                  \n",
      "==================================================================================================\n",
      "Total params: 53085 (207.36 KB)\n",
      "Trainable params: 53085 (207.36 KB)\n",
      "Non-trainable params: 0 (0.00 Byte)\n",
      "__________________________________________________________________________________________________\n"
     ]
    }
   ],
   "source": [
    "# SVAE parameters (same as default)\n",
    "input_dim = 140\n",
    "latent_dim = 2\n",
    "enc_hidden_dims = [100,40]\n",
    "dec_hidden_dims = [40,100]\n",
    "reg_hidden_dims = [100,10]\n",
    "\n",
    "# training parameters \n",
    "\n",
    "outpath = 'pretrain/vae/1st_aa_nor_transduction'\n",
    "loss_weights = [1.0,0.8,1.5] # [reconstruction, KL, regression]\n",
    "\n",
    "initial_learning_rate = 5e-3\n",
    "optimizer = tf.keras.optimizers.Adam(initial_learning_rate)\n",
    "\n",
    "# Initialize SVAE model (with default parameterizations)\n",
    "model = SVAE(input_dim=140, latent_dim=2, enc_hidden_dims=[100,40], dec_hidden_dims=[40,100], reg_hidden_dims=[100,10], name='svae')\n",
    "model.summary()"
   ]
  },
  {
   "cell_type": "markdown",
   "metadata": {},
   "source": [
    "The `train()` function returns the trained `model` and `preds_df`, a DataFrame of\n",
    "regressor predictions on the X values in `unbatched_data`, along with their latent space\n",
    "projections and their true Y values.\n",
    "\n",
    "`train()` saves the trained model, as well as a log of the training and validation loss\n",
    "values per epoch and `preds_df`, to disk. These saves will be made to an optional\n",
    "parameter `model_outdir` - if not specified, `train()` will make a new,\n",
    "informatively-named directory to write to (path is returned)."
   ]
  },
  {
   "cell_type": "code",
   "execution_count": 58,
   "metadata": {},
   "outputs": [
    {
     "name": "stdout",
     "output_type": "stream",
     "text": [
      "Logging following metrics: ['train_model_loss', 'train_reconstruction_loss', 'train_kl_loss', 'train_regression_loss', 'val_model_loss', 'val_reconstruction_loss', 'val_kl_loss', 'val_regression_loss']\n",
      "\n",
      "\n",
      "----- Beginning training. -----\n",
      "\n",
      "epoch 1\n",
      "4087/4087 [==============================] - 42s 10ms/step - train_model_loss: 31.7741 - train_reconstruction_loss: 19.5199 - train_kl_loss: 0.0078 - train_regression_loss: 8.1449 - val_model_loss: 31.7305 - val_reconstruction_loss: 19.3444 - val_kl_loss: 0.0028 - val_regression_loss: 8.2615\n",
      "WARNING:tensorflow:Compiled the loaded model, but the compiled metrics have yet to be built. `model.compile_metrics` will be empty until you train or evaluate the model.\n"
     ]
    },
    {
     "name": "stderr",
     "output_type": "stream",
     "text": [
      "WARNING:tensorflow:Compiled the loaded model, but the compiled metrics have yet to be built. `model.compile_metrics` will be empty until you train or evaluate the model.\n"
     ]
    },
    {
     "name": "stdout",
     "output_type": "stream",
     "text": [
      "INFO:tensorflow:Assets written to: pretrain/vae/1st_aa_nor_transduction\\assets\n"
     ]
    },
    {
     "name": "stderr",
     "output_type": "stream",
     "text": [
      "INFO:tensorflow:Assets written to: pretrain/vae/1st_aa_nor_transduction\\assets\n"
     ]
    },
    {
     "name": "stdout",
     "output_type": "stream",
     "text": [
      "Model saved to pretrain/vae/1st_aa_nor_transduction.\n",
      "\n",
      "epoch 2\n",
      "4087/4087 [==============================] - 42s 10ms/step - train_model_loss: 31.6004 - train_reconstruction_loss: 19.3761 - train_kl_loss: 0.0015 - train_regression_loss: 8.1375 - val_model_loss: 30.4033 - val_reconstruction_loss: 19.3039 - val_kl_loss: 6.6734e-04 - val_regression_loss: 7.4022\n",
      "WARNING:tensorflow:Compiled the loaded model, but the compiled metrics have yet to be built. `model.compile_metrics` will be empty until you train or evaluate the model.\n"
     ]
    },
    {
     "name": "stderr",
     "output_type": "stream",
     "text": [
      "WARNING:tensorflow:Compiled the loaded model, but the compiled metrics have yet to be built. `model.compile_metrics` will be empty until you train or evaluate the model.\n"
     ]
    },
    {
     "name": "stdout",
     "output_type": "stream",
     "text": [
      "INFO:tensorflow:Assets written to: pretrain/vae/1st_aa_nor_transduction\\assets\n"
     ]
    },
    {
     "name": "stderr",
     "output_type": "stream",
     "text": [
      "INFO:tensorflow:Assets written to: pretrain/vae/1st_aa_nor_transduction\\assets\n"
     ]
    },
    {
     "name": "stdout",
     "output_type": "stream",
     "text": [
      "Model saved to pretrain/vae/1st_aa_nor_transduction.\n",
      "\n",
      "epoch 3\n",
      "4087/4087 [==============================] - 43s 10ms/step - train_model_loss: 31.3415 - train_reconstruction_loss: 19.3730 - train_kl_loss: 7.0422e-04 - train_regression_loss: 7.9679 - val_model_loss: 30.2971 - val_reconstruction_loss: 19.3309 - val_kl_loss: 3.9927e-04 - val_regression_loss: 7.2997\n",
      "WARNING:tensorflow:Compiled the loaded model, but the compiled metrics have yet to be built. `model.compile_metrics` will be empty until you train or evaluate the model.\n"
     ]
    },
    {
     "name": "stderr",
     "output_type": "stream",
     "text": [
      "WARNING:tensorflow:Compiled the loaded model, but the compiled metrics have yet to be built. `model.compile_metrics` will be empty until you train or evaluate the model.\n"
     ]
    },
    {
     "name": "stdout",
     "output_type": "stream",
     "text": [
      "INFO:tensorflow:Assets written to: pretrain/vae/1st_aa_nor_transduction\\assets\n"
     ]
    },
    {
     "name": "stderr",
     "output_type": "stream",
     "text": [
      "INFO:tensorflow:Assets written to: pretrain/vae/1st_aa_nor_transduction\\assets\n"
     ]
    },
    {
     "name": "stdout",
     "output_type": "stream",
     "text": [
      "Model saved to pretrain/vae/1st_aa_nor_transduction.\n",
      "\n",
      "epoch 4\n",
      "4087/4087 [==============================] - 44s 11ms/step - train_model_loss: 31.4853 - train_reconstruction_loss: 19.3567 - train_kl_loss: 3.4599e-04 - train_regression_loss: 8.0820 - val_model_loss: 31.1393 - val_reconstruction_loss: 19.2761 - val_kl_loss: 2.6964e-04 - val_regression_loss: 7.9116\n",
      "WARNING:tensorflow:Compiled the loaded model, but the compiled metrics have yet to be built. `model.compile_metrics` will be empty until you train or evaluate the model.\n"
     ]
    },
    {
     "name": "stderr",
     "output_type": "stream",
     "text": [
      "WARNING:tensorflow:Compiled the loaded model, but the compiled metrics have yet to be built. `model.compile_metrics` will be empty until you train or evaluate the model.\n"
     ]
    },
    {
     "name": "stdout",
     "output_type": "stream",
     "text": [
      "INFO:tensorflow:Assets written to: pretrain/vae/1st_aa_nor_transduction\\assets\n"
     ]
    },
    {
     "name": "stderr",
     "output_type": "stream",
     "text": [
      "INFO:tensorflow:Assets written to: pretrain/vae/1st_aa_nor_transduction\\assets\n"
     ]
    },
    {
     "name": "stdout",
     "output_type": "stream",
     "text": [
      "Model saved to pretrain/vae/1st_aa_nor_transduction.\n",
      "\n",
      "epoch 5\n",
      "4087/4087 [==============================] - 43s 10ms/step - train_model_loss: 31.1521 - train_reconstruction_loss: 19.3609 - train_kl_loss: 1.7307e-04 - train_regression_loss: 7.8503 - val_model_loss: 30.6291 - val_reconstruction_loss: 19.3549 - val_kl_loss: 1.3680e-04 - val_regression_loss: 7.5207\n",
      "WARNING:tensorflow:Compiled the loaded model, but the compiled metrics have yet to be built. `model.compile_metrics` will be empty until you train or evaluate the model.\n"
     ]
    },
    {
     "name": "stderr",
     "output_type": "stream",
     "text": [
      "WARNING:tensorflow:Compiled the loaded model, but the compiled metrics have yet to be built. `model.compile_metrics` will be empty until you train or evaluate the model.\n"
     ]
    },
    {
     "name": "stdout",
     "output_type": "stream",
     "text": [
      "INFO:tensorflow:Assets written to: pretrain/vae/1st_aa_nor_transduction\\assets\n"
     ]
    },
    {
     "name": "stderr",
     "output_type": "stream",
     "text": [
      "INFO:tensorflow:Assets written to: pretrain/vae/1st_aa_nor_transduction\\assets\n"
     ]
    },
    {
     "name": "stdout",
     "output_type": "stream",
     "text": [
      "Model saved to pretrain/vae/1st_aa_nor_transduction.\n",
      "\n",
      "epoch 6\n",
      "4087/4087 [==============================] - 43s 11ms/step - train_model_loss: 30.9310 - train_reconstruction_loss: 19.3387 - train_kl_loss: 2.0779e-04 - train_regression_loss: 7.8032 - val_model_loss: 30.9934 - val_reconstruction_loss: 19.3148 - val_kl_loss: 1.3088e-04 - val_regression_loss: 7.7808\n",
      "WARNING:tensorflow:Compiled the loaded model, but the compiled metrics have yet to be built. `model.compile_metrics` will be empty until you train or evaluate the model.\n"
     ]
    },
    {
     "name": "stderr",
     "output_type": "stream",
     "text": [
      "WARNING:tensorflow:Compiled the loaded model, but the compiled metrics have yet to be built. `model.compile_metrics` will be empty until you train or evaluate the model.\n"
     ]
    },
    {
     "name": "stdout",
     "output_type": "stream",
     "text": [
      "INFO:tensorflow:Assets written to: pretrain/vae/1st_aa_nor_transduction\\assets\n"
     ]
    },
    {
     "name": "stderr",
     "output_type": "stream",
     "text": [
      "INFO:tensorflow:Assets written to: pretrain/vae/1st_aa_nor_transduction\\assets\n"
     ]
    },
    {
     "name": "stdout",
     "output_type": "stream",
     "text": [
      "Model saved to pretrain/vae/1st_aa_nor_transduction.\n",
      "\n",
      "epoch 7\n",
      "4087/4087 [==============================] - 39s 9ms/step - train_model_loss: 31.1009 - train_reconstruction_loss: 19.3557 - train_kl_loss: 2.8811e-04 - train_regression_loss: 7.8300 - val_model_loss: 29.8136 - val_reconstruction_loss: 19.3832 - val_kl_loss: 1.6920e-04 - val_regression_loss: 6.9465\n",
      "WARNING:tensorflow:Compiled the loaded model, but the compiled metrics have yet to be built. `model.compile_metrics` will be empty until you train or evaluate the model.\n"
     ]
    },
    {
     "name": "stderr",
     "output_type": "stream",
     "text": [
      "WARNING:tensorflow:Compiled the loaded model, but the compiled metrics have yet to be built. `model.compile_metrics` will be empty until you train or evaluate the model.\n"
     ]
    },
    {
     "name": "stdout",
     "output_type": "stream",
     "text": [
      "INFO:tensorflow:Assets written to: pretrain/vae/1st_aa_nor_transduction\\assets\n"
     ]
    },
    {
     "name": "stderr",
     "output_type": "stream",
     "text": [
      "INFO:tensorflow:Assets written to: pretrain/vae/1st_aa_nor_transduction\\assets\n"
     ]
    },
    {
     "name": "stdout",
     "output_type": "stream",
     "text": [
      "Model saved to pretrain/vae/1st_aa_nor_transduction.\n",
      "\n",
      "epoch 8\n",
      "4087/4087 [==============================] - 39s 9ms/step - train_model_loss: 30.9329 - train_reconstruction_loss: 19.3423 - train_kl_loss: 3.5756e-04 - train_regression_loss: 7.7067 - val_model_loss: 31.1961 - val_reconstruction_loss: 19.3561 - val_kl_loss: 5.1906e-04 - val_regression_loss: 7.9286\n",
      "WARNING:tensorflow:Compiled the loaded model, but the compiled metrics have yet to be built. `model.compile_metrics` will be empty until you train or evaluate the model.\n"
     ]
    },
    {
     "name": "stderr",
     "output_type": "stream",
     "text": [
      "WARNING:tensorflow:Compiled the loaded model, but the compiled metrics have yet to be built. `model.compile_metrics` will be empty until you train or evaluate the model.\n"
     ]
    },
    {
     "name": "stdout",
     "output_type": "stream",
     "text": [
      "INFO:tensorflow:Assets written to: pretrain/vae/1st_aa_nor_transduction\\assets\n"
     ]
    },
    {
     "name": "stderr",
     "output_type": "stream",
     "text": [
      "INFO:tensorflow:Assets written to: pretrain/vae/1st_aa_nor_transduction\\assets\n"
     ]
    },
    {
     "name": "stdout",
     "output_type": "stream",
     "text": [
      "Model saved to pretrain/vae/1st_aa_nor_transduction.\n",
      "\n",
      "epoch 9\n",
      "4087/4087 [==============================] - 39s 10ms/step - train_model_loss: 30.8083 - train_reconstruction_loss: 19.3477 - train_kl_loss: 0.0048 - train_regression_loss: 7.6225 - val_model_loss: 29.3848 - val_reconstruction_loss: 19.3189 - val_kl_loss: 0.0061 - val_regression_loss: 6.7147\n",
      "WARNING:tensorflow:Compiled the loaded model, but the compiled metrics have yet to be built. `model.compile_metrics` will be empty until you train or evaluate the model.\n"
     ]
    },
    {
     "name": "stderr",
     "output_type": "stream",
     "text": [
      "WARNING:tensorflow:Compiled the loaded model, but the compiled metrics have yet to be built. `model.compile_metrics` will be empty until you train or evaluate the model.\n"
     ]
    },
    {
     "name": "stdout",
     "output_type": "stream",
     "text": [
      "INFO:tensorflow:Assets written to: pretrain/vae/1st_aa_nor_transduction\\assets\n"
     ]
    },
    {
     "name": "stderr",
     "output_type": "stream",
     "text": [
      "INFO:tensorflow:Assets written to: pretrain/vae/1st_aa_nor_transduction\\assets\n"
     ]
    },
    {
     "name": "stdout",
     "output_type": "stream",
     "text": [
      "Model saved to pretrain/vae/1st_aa_nor_transduction.\n",
      "\n",
      "epoch 10\n",
      "4087/4087 [==============================] - 40s 10ms/step - train_model_loss: 30.8029 - train_reconstruction_loss: 19.3548 - train_kl_loss: 0.0018 - train_regression_loss: 7.6259 - val_model_loss: 31.4127 - val_reconstruction_loss: 19.3767 - val_kl_loss: 1.9598e-04 - val_regression_loss: 8.0148\n",
      "WARNING:tensorflow:Compiled the loaded model, but the compiled metrics have yet to be built. `model.compile_metrics` will be empty until you train or evaluate the model.\n"
     ]
    },
    {
     "name": "stderr",
     "output_type": "stream",
     "text": [
      "WARNING:tensorflow:Compiled the loaded model, but the compiled metrics have yet to be built. `model.compile_metrics` will be empty until you train or evaluate the model.\n"
     ]
    },
    {
     "name": "stdout",
     "output_type": "stream",
     "text": [
      "INFO:tensorflow:Assets written to: pretrain/vae/1st_aa_nor_transduction\\assets\n"
     ]
    },
    {
     "name": "stderr",
     "output_type": "stream",
     "text": [
      "INFO:tensorflow:Assets written to: pretrain/vae/1st_aa_nor_transduction\\assets\n"
     ]
    },
    {
     "name": "stdout",
     "output_type": "stream",
     "text": [
      "Model saved to pretrain/vae/1st_aa_nor_transduction.\n",
      "\n",
      "epoch 11\n",
      "4087/4087 [==============================] - 39s 10ms/step - train_model_loss: 30.5696 - train_reconstruction_loss: 19.3367 - train_kl_loss: 0.0011 - train_regression_loss: 7.4733 - val_model_loss: 30.6761 - val_reconstruction_loss: 19.2710 - val_kl_loss: 9.6353e-04 - val_regression_loss: 7.6095\n",
      "WARNING:tensorflow:Compiled the loaded model, but the compiled metrics have yet to be built. `model.compile_metrics` will be empty until you train or evaluate the model.\n"
     ]
    },
    {
     "name": "stderr",
     "output_type": "stream",
     "text": [
      "WARNING:tensorflow:Compiled the loaded model, but the compiled metrics have yet to be built. `model.compile_metrics` will be empty until you train or evaluate the model.\n"
     ]
    },
    {
     "name": "stdout",
     "output_type": "stream",
     "text": [
      "INFO:tensorflow:Assets written to: pretrain/vae/1st_aa_nor_transduction\\assets\n"
     ]
    },
    {
     "name": "stderr",
     "output_type": "stream",
     "text": [
      "INFO:tensorflow:Assets written to: pretrain/vae/1st_aa_nor_transduction\\assets\n"
     ]
    },
    {
     "name": "stdout",
     "output_type": "stream",
     "text": [
      "Model saved to pretrain/vae/1st_aa_nor_transduction.\n",
      "\n",
      "epoch 12\n",
      "4087/4087 [==============================] - 38s 9ms/step - train_model_loss: 30.3101 - train_reconstruction_loss: 19.3361 - train_kl_loss: 6.7263e-04 - train_regression_loss: 7.3192 - val_model_loss: 30.7129 - val_reconstruction_loss: 19.3381 - val_kl_loss: 1.1112e-04 - val_regression_loss: 7.5803\n",
      "WARNING:tensorflow:Compiled the loaded model, but the compiled metrics have yet to be built. `model.compile_metrics` will be empty until you train or evaluate the model.\n"
     ]
    },
    {
     "name": "stderr",
     "output_type": "stream",
     "text": [
      "WARNING:tensorflow:Compiled the loaded model, but the compiled metrics have yet to be built. `model.compile_metrics` will be empty until you train or evaluate the model.\n"
     ]
    },
    {
     "name": "stdout",
     "output_type": "stream",
     "text": [
      "INFO:tensorflow:Assets written to: pretrain/vae/1st_aa_nor_transduction\\assets\n"
     ]
    },
    {
     "name": "stderr",
     "output_type": "stream",
     "text": [
      "INFO:tensorflow:Assets written to: pretrain/vae/1st_aa_nor_transduction\\assets\n"
     ]
    },
    {
     "name": "stdout",
     "output_type": "stream",
     "text": [
      "Model saved to pretrain/vae/1st_aa_nor_transduction.\n",
      "\n",
      "epoch 13\n",
      "4087/4087 [==============================] - 38s 9ms/step - train_model_loss: 30.1821 - train_reconstruction_loss: 19.3513 - train_kl_loss: 1.4157e-04 - train_regression_loss: 7.2208 - val_model_loss: 30.6836 - val_reconstruction_loss: 19.2929 - val_kl_loss: 2.8792e-04 - val_regression_loss: 7.5989\n",
      "WARNING:tensorflow:Compiled the loaded model, but the compiled metrics have yet to be built. `model.compile_metrics` will be empty until you train or evaluate the model.\n"
     ]
    },
    {
     "name": "stderr",
     "output_type": "stream",
     "text": [
      "WARNING:tensorflow:Compiled the loaded model, but the compiled metrics have yet to be built. `model.compile_metrics` will be empty until you train or evaluate the model.\n"
     ]
    },
    {
     "name": "stdout",
     "output_type": "stream",
     "text": [
      "INFO:tensorflow:Assets written to: pretrain/vae/1st_aa_nor_transduction\\assets\n"
     ]
    },
    {
     "name": "stderr",
     "output_type": "stream",
     "text": [
      "INFO:tensorflow:Assets written to: pretrain/vae/1st_aa_nor_transduction\\assets\n"
     ]
    },
    {
     "name": "stdout",
     "output_type": "stream",
     "text": [
      "Model saved to pretrain/vae/1st_aa_nor_transduction.\n",
      "\n",
      "epoch 14\n",
      "4087/4087 [==============================] - 40s 10ms/step - train_model_loss: 30.2393 - train_reconstruction_loss: 19.3362 - train_kl_loss: 7.8071e-04 - train_regression_loss: 7.2533 - val_model_loss: 29.7352 - val_reconstruction_loss: 19.3409 - val_kl_loss: 0.0029 - val_regression_loss: 6.9259\n",
      "WARNING:tensorflow:Compiled the loaded model, but the compiled metrics have yet to be built. `model.compile_metrics` will be empty until you train or evaluate the model.\n"
     ]
    },
    {
     "name": "stderr",
     "output_type": "stream",
     "text": [
      "WARNING:tensorflow:Compiled the loaded model, but the compiled metrics have yet to be built. `model.compile_metrics` will be empty until you train or evaluate the model.\n"
     ]
    },
    {
     "name": "stdout",
     "output_type": "stream",
     "text": [
      "INFO:tensorflow:Assets written to: pretrain/vae/1st_aa_nor_transduction\\assets\n"
     ]
    },
    {
     "name": "stderr",
     "output_type": "stream",
     "text": [
      "INFO:tensorflow:Assets written to: pretrain/vae/1st_aa_nor_transduction\\assets\n"
     ]
    },
    {
     "name": "stdout",
     "output_type": "stream",
     "text": [
      "Model saved to pretrain/vae/1st_aa_nor_transduction.\n",
      "\n",
      "epoch 15\n",
      "4087/4087 [==============================] - 39s 9ms/step - train_model_loss: 29.6533 - train_reconstruction_loss: 19.3366 - train_kl_loss: 0.0019 - train_regression_loss: 6.8821 - val_model_loss: 28.9816 - val_reconstruction_loss: 19.3627 - val_kl_loss: 0.0016 - val_regression_loss: 6.4259\n",
      "WARNING:tensorflow:Compiled the loaded model, but the compiled metrics have yet to be built. `model.compile_metrics` will be empty until you train or evaluate the model.\n"
     ]
    },
    {
     "name": "stderr",
     "output_type": "stream",
     "text": [
      "WARNING:tensorflow:Compiled the loaded model, but the compiled metrics have yet to be built. `model.compile_metrics` will be empty until you train or evaluate the model.\n"
     ]
    },
    {
     "name": "stdout",
     "output_type": "stream",
     "text": [
      "INFO:tensorflow:Assets written to: pretrain/vae/1st_aa_nor_transduction\\assets\n"
     ]
    },
    {
     "name": "stderr",
     "output_type": "stream",
     "text": [
      "INFO:tensorflow:Assets written to: pretrain/vae/1st_aa_nor_transduction\\assets\n"
     ]
    },
    {
     "name": "stdout",
     "output_type": "stream",
     "text": [
      "Model saved to pretrain/vae/1st_aa_nor_transduction.\n",
      "\n",
      "epoch 16\n",
      "4087/4087 [==============================] - 40s 10ms/step - train_model_loss: 29.8370 - train_reconstruction_loss: 19.3339 - train_kl_loss: 9.5843e-04 - train_regression_loss: 7.0360 - val_model_loss: 28.4181 - val_reconstruction_loss: 19.3355 - val_kl_loss: 5.3182e-04 - val_regression_loss: 6.0593\n",
      "WARNING:tensorflow:Compiled the loaded model, but the compiled metrics have yet to be built. `model.compile_metrics` will be empty until you train or evaluate the model.\n"
     ]
    },
    {
     "name": "stderr",
     "output_type": "stream",
     "text": [
      "WARNING:tensorflow:Compiled the loaded model, but the compiled metrics have yet to be built. `model.compile_metrics` will be empty until you train or evaluate the model.\n"
     ]
    },
    {
     "name": "stdout",
     "output_type": "stream",
     "text": [
      "INFO:tensorflow:Assets written to: pretrain/vae/1st_aa_nor_transduction\\assets\n"
     ]
    },
    {
     "name": "stderr",
     "output_type": "stream",
     "text": [
      "INFO:tensorflow:Assets written to: pretrain/vae/1st_aa_nor_transduction\\assets\n"
     ]
    },
    {
     "name": "stdout",
     "output_type": "stream",
     "text": [
      "Model saved to pretrain/vae/1st_aa_nor_transduction.\n",
      "\n",
      "epoch 17\n",
      "4087/4087 [==============================] - 41s 10ms/step - train_model_loss: 29.7339 - train_reconstruction_loss: 19.3450 - train_kl_loss: 3.6778e-04 - train_regression_loss: 6.9728 - val_model_loss: 28.8233 - val_reconstruction_loss: 19.3302 - val_kl_loss: 3.7475e-04 - val_regression_loss: 6.3243\n",
      "WARNING:tensorflow:Compiled the loaded model, but the compiled metrics have yet to be built. `model.compile_metrics` will be empty until you train or evaluate the model.\n"
     ]
    },
    {
     "name": "stderr",
     "output_type": "stream",
     "text": [
      "WARNING:tensorflow:Compiled the loaded model, but the compiled metrics have yet to be built. `model.compile_metrics` will be empty until you train or evaluate the model.\n"
     ]
    },
    {
     "name": "stdout",
     "output_type": "stream",
     "text": [
      "INFO:tensorflow:Assets written to: pretrain/vae/1st_aa_nor_transduction\\assets\n"
     ]
    },
    {
     "name": "stderr",
     "output_type": "stream",
     "text": [
      "INFO:tensorflow:Assets written to: pretrain/vae/1st_aa_nor_transduction\\assets\n"
     ]
    },
    {
     "name": "stdout",
     "output_type": "stream",
     "text": [
      "Model saved to pretrain/vae/1st_aa_nor_transduction.\n",
      "\n",
      "epoch 18\n",
      "4087/4087 [==============================] - 41s 10ms/step - train_model_loss: 29.2432 - train_reconstruction_loss: 19.3381 - train_kl_loss: 1.4045e-04 - train_regression_loss: 6.5958 - val_model_loss: 29.1422 - val_reconstruction_loss: 19.3203 - val_kl_loss: 7.1484e-05 - val_regression_loss: 6.5571\n",
      "WARNING:tensorflow:Compiled the loaded model, but the compiled metrics have yet to be built. `model.compile_metrics` will be empty until you train or evaluate the model.\n"
     ]
    },
    {
     "name": "stderr",
     "output_type": "stream",
     "text": [
      "WARNING:tensorflow:Compiled the loaded model, but the compiled metrics have yet to be built. `model.compile_metrics` will be empty until you train or evaluate the model.\n"
     ]
    },
    {
     "name": "stdout",
     "output_type": "stream",
     "text": [
      "INFO:tensorflow:Assets written to: pretrain/vae/1st_aa_nor_transduction\\assets\n"
     ]
    },
    {
     "name": "stderr",
     "output_type": "stream",
     "text": [
      "INFO:tensorflow:Assets written to: pretrain/vae/1st_aa_nor_transduction\\assets\n"
     ]
    },
    {
     "name": "stdout",
     "output_type": "stream",
     "text": [
      "Model saved to pretrain/vae/1st_aa_nor_transduction.\n",
      "\n",
      "epoch 19\n",
      "4087/4087 [==============================] - 40s 10ms/step - train_model_loss: 28.8230 - train_reconstruction_loss: 19.3537 - train_kl_loss: 1.5274e-04 - train_regression_loss: 6.3039 - val_model_loss: 27.3110 - val_reconstruction_loss: 19.2822 - val_kl_loss: 1.2655e-04 - val_regression_loss: 5.3494\n",
      "WARNING:tensorflow:Compiled the loaded model, but the compiled metrics have yet to be built. `model.compile_metrics` will be empty until you train or evaluate the model.\n"
     ]
    },
    {
     "name": "stderr",
     "output_type": "stream",
     "text": [
      "WARNING:tensorflow:Compiled the loaded model, but the compiled metrics have yet to be built. `model.compile_metrics` will be empty until you train or evaluate the model.\n"
     ]
    },
    {
     "name": "stdout",
     "output_type": "stream",
     "text": [
      "INFO:tensorflow:Assets written to: pretrain/vae/1st_aa_nor_transduction\\assets\n"
     ]
    },
    {
     "name": "stderr",
     "output_type": "stream",
     "text": [
      "INFO:tensorflow:Assets written to: pretrain/vae/1st_aa_nor_transduction\\assets\n"
     ]
    },
    {
     "name": "stdout",
     "output_type": "stream",
     "text": [
      "Model saved to pretrain/vae/1st_aa_nor_transduction.\n",
      "\n",
      "epoch 20\n",
      "4087/4087 [==============================] - 39s 9ms/step - train_model_loss: 28.4373 - train_reconstruction_loss: 19.3395 - train_kl_loss: 1.3315e-04 - train_regression_loss: 6.0657 - val_model_loss: 27.6484 - val_reconstruction_loss: 19.2951 - val_kl_loss: 3.2993e-04 - val_regression_loss: 5.5621\n",
      "WARNING:tensorflow:Compiled the loaded model, but the compiled metrics have yet to be built. `model.compile_metrics` will be empty until you train or evaluate the model.\n"
     ]
    },
    {
     "name": "stderr",
     "output_type": "stream",
     "text": [
      "WARNING:tensorflow:Compiled the loaded model, but the compiled metrics have yet to be built. `model.compile_metrics` will be empty until you train or evaluate the model.\n"
     ]
    },
    {
     "name": "stdout",
     "output_type": "stream",
     "text": [
      "INFO:tensorflow:Assets written to: pretrain/vae/1st_aa_nor_transduction\\assets\n"
     ]
    },
    {
     "name": "stderr",
     "output_type": "stream",
     "text": [
      "INFO:tensorflow:Assets written to: pretrain/vae/1st_aa_nor_transduction\\assets\n"
     ]
    },
    {
     "name": "stdout",
     "output_type": "stream",
     "text": [
      "Model saved to pretrain/vae/1st_aa_nor_transduction.\n",
      "\n",
      "epoch 21\n",
      "4087/4087 [==============================] - 38s 9ms/step - train_model_loss: 28.2376 - train_reconstruction_loss: 19.3399 - train_kl_loss: 2.0203e-04 - train_regression_loss: 5.9564 - val_model_loss: 27.0630 - val_reconstruction_loss: 19.3446 - val_kl_loss: 1.5347e-04 - val_regression_loss: 5.1636\n",
      "WARNING:tensorflow:Compiled the loaded model, but the compiled metrics have yet to be built. `model.compile_metrics` will be empty until you train or evaluate the model.\n"
     ]
    },
    {
     "name": "stderr",
     "output_type": "stream",
     "text": [
      "WARNING:tensorflow:Compiled the loaded model, but the compiled metrics have yet to be built. `model.compile_metrics` will be empty until you train or evaluate the model.\n"
     ]
    },
    {
     "name": "stdout",
     "output_type": "stream",
     "text": [
      "INFO:tensorflow:Assets written to: pretrain/vae/1st_aa_nor_transduction\\assets\n"
     ]
    },
    {
     "name": "stderr",
     "output_type": "stream",
     "text": [
      "INFO:tensorflow:Assets written to: pretrain/vae/1st_aa_nor_transduction\\assets\n"
     ]
    },
    {
     "name": "stdout",
     "output_type": "stream",
     "text": [
      "Model saved to pretrain/vae/1st_aa_nor_transduction.\n",
      "\n",
      "epoch 22\n",
      "4087/4087 [==============================] - 38s 9ms/step - train_model_loss: 27.8670 - train_reconstruction_loss: 19.3304 - train_kl_loss: 1.4511e-04 - train_regression_loss: 5.7151 - val_model_loss: 26.2626 - val_reconstruction_loss: 19.3081 - val_kl_loss: 1.5242e-04 - val_regression_loss: 4.6418\n",
      "WARNING:tensorflow:Compiled the loaded model, but the compiled metrics have yet to be built. `model.compile_metrics` will be empty until you train or evaluate the model.\n"
     ]
    },
    {
     "name": "stderr",
     "output_type": "stream",
     "text": [
      "WARNING:tensorflow:Compiled the loaded model, but the compiled metrics have yet to be built. `model.compile_metrics` will be empty until you train or evaluate the model.\n"
     ]
    },
    {
     "name": "stdout",
     "output_type": "stream",
     "text": [
      "INFO:tensorflow:Assets written to: pretrain/vae/1st_aa_nor_transduction\\assets\n"
     ]
    },
    {
     "name": "stderr",
     "output_type": "stream",
     "text": [
      "INFO:tensorflow:Assets written to: pretrain/vae/1st_aa_nor_transduction\\assets\n"
     ]
    },
    {
     "name": "stdout",
     "output_type": "stream",
     "text": [
      "Model saved to pretrain/vae/1st_aa_nor_transduction.\n",
      "\n",
      "epoch 23\n",
      "4087/4087 [==============================] - 38s 9ms/step - train_model_loss: 27.6122 - train_reconstruction_loss: 19.3399 - train_kl_loss: 3.6403e-04 - train_regression_loss: 5.5387 - val_model_loss: 26.7937 - val_reconstruction_loss: 19.3254 - val_kl_loss: 0.0408 - val_regression_loss: 4.9684\n",
      "WARNING:tensorflow:Compiled the loaded model, but the compiled metrics have yet to be built. `model.compile_metrics` will be empty until you train or evaluate the model.\n"
     ]
    },
    {
     "name": "stderr",
     "output_type": "stream",
     "text": [
      "WARNING:tensorflow:Compiled the loaded model, but the compiled metrics have yet to be built. `model.compile_metrics` will be empty until you train or evaluate the model.\n"
     ]
    },
    {
     "name": "stdout",
     "output_type": "stream",
     "text": [
      "INFO:tensorflow:Assets written to: pretrain/vae/1st_aa_nor_transduction\\assets\n"
     ]
    },
    {
     "name": "stderr",
     "output_type": "stream",
     "text": [
      "INFO:tensorflow:Assets written to: pretrain/vae/1st_aa_nor_transduction\\assets\n"
     ]
    },
    {
     "name": "stdout",
     "output_type": "stream",
     "text": [
      "Model saved to pretrain/vae/1st_aa_nor_transduction.\n",
      "\n",
      "epoch 24\n",
      "4087/4087 [==============================] - 38s 9ms/step - train_model_loss: 27.2185 - train_reconstruction_loss: 19.3473 - train_kl_loss: 0.0074 - train_regression_loss: 5.2362 - val_model_loss: 26.7745 - val_reconstruction_loss: 19.2969 - val_kl_loss: 0.0020 - val_regression_loss: 4.9830\n",
      "WARNING:tensorflow:Compiled the loaded model, but the compiled metrics have yet to be built. `model.compile_metrics` will be empty until you train or evaluate the model.\n"
     ]
    },
    {
     "name": "stderr",
     "output_type": "stream",
     "text": [
      "WARNING:tensorflow:Compiled the loaded model, but the compiled metrics have yet to be built. `model.compile_metrics` will be empty until you train or evaluate the model.\n"
     ]
    },
    {
     "name": "stdout",
     "output_type": "stream",
     "text": [
      "INFO:tensorflow:Assets written to: pretrain/vae/1st_aa_nor_transduction\\assets\n"
     ]
    },
    {
     "name": "stderr",
     "output_type": "stream",
     "text": [
      "INFO:tensorflow:Assets written to: pretrain/vae/1st_aa_nor_transduction\\assets\n"
     ]
    },
    {
     "name": "stdout",
     "output_type": "stream",
     "text": [
      "Model saved to pretrain/vae/1st_aa_nor_transduction.\n",
      "\n",
      "epoch 25\n",
      "4087/4087 [==============================] - 38s 9ms/step - train_model_loss: 26.7938 - train_reconstruction_loss: 19.3431 - train_kl_loss: 0.0019 - train_regression_loss: 4.9564 - val_model_loss: 26.1094 - val_reconstruction_loss: 19.2845 - val_kl_loss: 0.0018 - val_regression_loss: 4.5441\n",
      "WARNING:tensorflow:Compiled the loaded model, but the compiled metrics have yet to be built. `model.compile_metrics` will be empty until you train or evaluate the model.\n"
     ]
    },
    {
     "name": "stderr",
     "output_type": "stream",
     "text": [
      "WARNING:tensorflow:Compiled the loaded model, but the compiled metrics have yet to be built. `model.compile_metrics` will be empty until you train or evaluate the model.\n"
     ]
    },
    {
     "name": "stdout",
     "output_type": "stream",
     "text": [
      "INFO:tensorflow:Assets written to: pretrain/vae/1st_aa_nor_transduction\\assets\n"
     ]
    },
    {
     "name": "stderr",
     "output_type": "stream",
     "text": [
      "INFO:tensorflow:Assets written to: pretrain/vae/1st_aa_nor_transduction\\assets\n"
     ]
    },
    {
     "name": "stdout",
     "output_type": "stream",
     "text": [
      "Model saved to pretrain/vae/1st_aa_nor_transduction.\n",
      "\n",
      "epoch 26\n",
      "4087/4087 [==============================] - 38s 9ms/step - train_model_loss: 26.5562 - train_reconstruction_loss: 19.3407 - train_kl_loss: 0.0033 - train_regression_loss: 4.8029 - val_model_loss: 25.5875 - val_reconstruction_loss: 19.3083 - val_kl_loss: 0.0023 - val_regression_loss: 4.1908\n",
      "WARNING:tensorflow:Compiled the loaded model, but the compiled metrics have yet to be built. `model.compile_metrics` will be empty until you train or evaluate the model.\n"
     ]
    },
    {
     "name": "stderr",
     "output_type": "stream",
     "text": [
      "WARNING:tensorflow:Compiled the loaded model, but the compiled metrics have yet to be built. `model.compile_metrics` will be empty until you train or evaluate the model.\n"
     ]
    },
    {
     "name": "stdout",
     "output_type": "stream",
     "text": [
      "INFO:tensorflow:Assets written to: pretrain/vae/1st_aa_nor_transduction\\assets\n"
     ]
    },
    {
     "name": "stderr",
     "output_type": "stream",
     "text": [
      "INFO:tensorflow:Assets written to: pretrain/vae/1st_aa_nor_transduction\\assets\n"
     ]
    },
    {
     "name": "stdout",
     "output_type": "stream",
     "text": [
      "Model saved to pretrain/vae/1st_aa_nor_transduction.\n",
      "\n",
      "epoch 27\n",
      "4087/4087 [==============================] - 38s 9ms/step - train_model_loss: 26.2965 - train_reconstruction_loss: 19.3511 - train_kl_loss: 7.0623e-04 - train_regression_loss: 4.6388 - val_model_loss: 25.9094 - val_reconstruction_loss: 19.3238 - val_kl_loss: 5.3581e-04 - val_regression_loss: 4.3841\n",
      "WARNING:tensorflow:Compiled the loaded model, but the compiled metrics have yet to be built. `model.compile_metrics` will be empty until you train or evaluate the model.\n"
     ]
    },
    {
     "name": "stderr",
     "output_type": "stream",
     "text": [
      "WARNING:tensorflow:Compiled the loaded model, but the compiled metrics have yet to be built. `model.compile_metrics` will be empty until you train or evaluate the model.\n"
     ]
    },
    {
     "name": "stdout",
     "output_type": "stream",
     "text": [
      "INFO:tensorflow:Assets written to: pretrain/vae/1st_aa_nor_transduction\\assets\n"
     ]
    },
    {
     "name": "stderr",
     "output_type": "stream",
     "text": [
      "INFO:tensorflow:Assets written to: pretrain/vae/1st_aa_nor_transduction\\assets\n"
     ]
    },
    {
     "name": "stdout",
     "output_type": "stream",
     "text": [
      "Model saved to pretrain/vae/1st_aa_nor_transduction.\n",
      "\n",
      "epoch 28\n",
      "4087/4087 [==============================] - 43518s 11s/step - train_model_loss: 25.9026 - train_reconstruction_loss: 19.3528 - train_kl_loss: 2.2910e-04 - train_regression_loss: 4.3733 - val_model_loss: 24.9289 - val_reconstruction_loss: 19.3424 - val_kl_loss: 1.6893e-04 - val_regression_loss: 3.7182\n",
      "WARNING:tensorflow:Compiled the loaded model, but the compiled metrics have yet to be built. `model.compile_metrics` will be empty until you train or evaluate the model.\n"
     ]
    },
    {
     "name": "stderr",
     "output_type": "stream",
     "text": [
      "WARNING:tensorflow:Compiled the loaded model, but the compiled metrics have yet to be built. `model.compile_metrics` will be empty until you train or evaluate the model.\n"
     ]
    },
    {
     "name": "stdout",
     "output_type": "stream",
     "text": [
      "INFO:tensorflow:Assets written to: pretrain/vae/1st_aa_nor_transduction\\assets\n"
     ]
    },
    {
     "name": "stderr",
     "output_type": "stream",
     "text": [
      "INFO:tensorflow:Assets written to: pretrain/vae/1st_aa_nor_transduction\\assets\n"
     ]
    },
    {
     "name": "stdout",
     "output_type": "stream",
     "text": [
      "Model saved to pretrain/vae/1st_aa_nor_transduction.\n",
      "\n",
      "epoch 29\n",
      "4087/4087 [==============================] - 46s 11ms/step - train_model_loss: 25.5780 - train_reconstruction_loss: 19.3399 - train_kl_loss: 2.0070e-04 - train_regression_loss: 4.1510 - val_model_loss: 24.5190 - val_reconstruction_loss: 19.3475 - val_kl_loss: 3.8257e-04 - val_regression_loss: 3.4434\n",
      "WARNING:tensorflow:Compiled the loaded model, but the compiled metrics have yet to be built. `model.compile_metrics` will be empty until you train or evaluate the model.\n"
     ]
    },
    {
     "name": "stderr",
     "output_type": "stream",
     "text": [
      "WARNING:tensorflow:Compiled the loaded model, but the compiled metrics have yet to be built. `model.compile_metrics` will be empty until you train or evaluate the model.\n"
     ]
    },
    {
     "name": "stdout",
     "output_type": "stream",
     "text": [
      "INFO:tensorflow:Assets written to: pretrain/vae/1st_aa_nor_transduction\\assets\n"
     ]
    },
    {
     "name": "stderr",
     "output_type": "stream",
     "text": [
      "INFO:tensorflow:Assets written to: pretrain/vae/1st_aa_nor_transduction\\assets\n"
     ]
    },
    {
     "name": "stdout",
     "output_type": "stream",
     "text": [
      "Model saved to pretrain/vae/1st_aa_nor_transduction.\n",
      "\n",
      "epoch 30\n",
      "4087/4087 [==============================] - 43s 10ms/step - train_model_loss: 25.3043 - train_reconstruction_loss: 19.3339 - train_kl_loss: 1.7339e-04 - train_regression_loss: 3.9743 - val_model_loss: 24.9113 - val_reconstruction_loss: 19.3244 - val_kl_loss: 1.1022e-04 - val_regression_loss: 3.7293\n",
      "WARNING:tensorflow:Compiled the loaded model, but the compiled metrics have yet to be built. `model.compile_metrics` will be empty until you train or evaluate the model.\n"
     ]
    },
    {
     "name": "stderr",
     "output_type": "stream",
     "text": [
      "WARNING:tensorflow:Compiled the loaded model, but the compiled metrics have yet to be built. `model.compile_metrics` will be empty until you train or evaluate the model.\n"
     ]
    },
    {
     "name": "stdout",
     "output_type": "stream",
     "text": [
      "INFO:tensorflow:Assets written to: pretrain/vae/1st_aa_nor_transduction\\assets\n"
     ]
    },
    {
     "name": "stderr",
     "output_type": "stream",
     "text": [
      "INFO:tensorflow:Assets written to: pretrain/vae/1st_aa_nor_transduction\\assets\n"
     ]
    },
    {
     "name": "stdout",
     "output_type": "stream",
     "text": [
      "Model saved to pretrain/vae/1st_aa_nor_transduction.\n",
      "Convergence history: [1]\n",
      "\n",
      "epoch 31\n",
      "4087/4087 [==============================] - 46s 11ms/step - train_model_loss: 25.0294 - train_reconstruction_loss: 19.3319 - train_kl_loss: 1.7584e-04 - train_regression_loss: 3.7916 - val_model_loss: 24.1568 - val_reconstruction_loss: 19.3426 - val_kl_loss: 3.2439e-04 - val_regression_loss: 3.2080\n",
      "WARNING:tensorflow:Compiled the loaded model, but the compiled metrics have yet to be built. `model.compile_metrics` will be empty until you train or evaluate the model.\n"
     ]
    },
    {
     "name": "stderr",
     "output_type": "stream",
     "text": [
      "WARNING:tensorflow:Compiled the loaded model, but the compiled metrics have yet to be built. `model.compile_metrics` will be empty until you train or evaluate the model.\n"
     ]
    },
    {
     "name": "stdout",
     "output_type": "stream",
     "text": [
      "INFO:tensorflow:Assets written to: pretrain/vae/1st_aa_nor_transduction\\assets\n"
     ]
    },
    {
     "name": "stderr",
     "output_type": "stream",
     "text": [
      "INFO:tensorflow:Assets written to: pretrain/vae/1st_aa_nor_transduction\\assets\n"
     ]
    },
    {
     "name": "stdout",
     "output_type": "stream",
     "text": [
      "Model saved to pretrain/vae/1st_aa_nor_transduction.\n",
      "Convergence history: [1, 1]\n",
      "\n",
      "epoch 32\n",
      "4087/4087 [==============================] - 40s 10ms/step - train_model_loss: 24.9043 - train_reconstruction_loss: 19.3359 - train_kl_loss: 1.8248e-04 - train_regression_loss: 3.7051 - val_model_loss: 24.7634 - val_reconstruction_loss: 19.3653 - val_kl_loss: 1.4937e-04 - val_regression_loss: 3.5979\n",
      "WARNING:tensorflow:Compiled the loaded model, but the compiled metrics have yet to be built. `model.compile_metrics` will be empty until you train or evaluate the model.\n"
     ]
    },
    {
     "name": "stderr",
     "output_type": "stream",
     "text": [
      "WARNING:tensorflow:Compiled the loaded model, but the compiled metrics have yet to be built. `model.compile_metrics` will be empty until you train or evaluate the model.\n"
     ]
    },
    {
     "name": "stdout",
     "output_type": "stream",
     "text": [
      "INFO:tensorflow:Assets written to: pretrain/vae/1st_aa_nor_transduction\\assets\n"
     ]
    },
    {
     "name": "stderr",
     "output_type": "stream",
     "text": [
      "INFO:tensorflow:Assets written to: pretrain/vae/1st_aa_nor_transduction\\assets\n"
     ]
    },
    {
     "name": "stdout",
     "output_type": "stream",
     "text": [
      "Model saved to pretrain/vae/1st_aa_nor_transduction.\n",
      "Convergence history: [1, 1, 1]\n",
      "\n",
      "epoch 33\n",
      "4087/4087 [==============================] - 38s 9ms/step - train_model_loss: 24.6821 - train_reconstruction_loss: 19.3347 - train_kl_loss: 1.8903e-04 - train_regression_loss: 3.5570 - val_model_loss: 23.8645 - val_reconstruction_loss: 19.3035 - val_kl_loss: 1.4322e-04 - val_regression_loss: 3.0455\n",
      "WARNING:tensorflow:Compiled the loaded model, but the compiled metrics have yet to be built. `model.compile_metrics` will be empty until you train or evaluate the model.\n"
     ]
    },
    {
     "name": "stderr",
     "output_type": "stream",
     "text": [
      "WARNING:tensorflow:Compiled the loaded model, but the compiled metrics have yet to be built. `model.compile_metrics` will be empty until you train or evaluate the model.\n"
     ]
    },
    {
     "name": "stdout",
     "output_type": "stream",
     "text": [
      "INFO:tensorflow:Assets written to: pretrain/vae/1st_aa_nor_transduction\\assets\n"
     ]
    },
    {
     "name": "stderr",
     "output_type": "stream",
     "text": [
      "INFO:tensorflow:Assets written to: pretrain/vae/1st_aa_nor_transduction\\assets\n"
     ]
    },
    {
     "name": "stdout",
     "output_type": "stream",
     "text": [
      "Model saved to pretrain/vae/1st_aa_nor_transduction.\n",
      "Convergence history: [1, 1, 1, 1]\n",
      "\n",
      "epoch 34\n",
      "4087/4087 [==============================] - 39s 10ms/step - train_model_loss: 24.5451 - train_reconstruction_loss: 19.3355 - train_kl_loss: 1.6780e-04 - train_regression_loss: 3.4785 - val_model_loss: 23.6405 - val_reconstruction_loss: 19.3067 - val_kl_loss: 2.3122e-04 - val_regression_loss: 2.8913\n",
      "WARNING:tensorflow:Compiled the loaded model, but the compiled metrics have yet to be built. `model.compile_metrics` will be empty until you train or evaluate the model.\n"
     ]
    },
    {
     "name": "stderr",
     "output_type": "stream",
     "text": [
      "WARNING:tensorflow:Compiled the loaded model, but the compiled metrics have yet to be built. `model.compile_metrics` will be empty until you train or evaluate the model.\n"
     ]
    },
    {
     "name": "stdout",
     "output_type": "stream",
     "text": [
      "INFO:tensorflow:Assets written to: pretrain/vae/1st_aa_nor_transduction\\assets\n"
     ]
    },
    {
     "name": "stderr",
     "output_type": "stream",
     "text": [
      "INFO:tensorflow:Assets written to: pretrain/vae/1st_aa_nor_transduction\\assets\n"
     ]
    },
    {
     "name": "stdout",
     "output_type": "stream",
     "text": [
      "Model saved to pretrain/vae/1st_aa_nor_transduction.\n",
      "Convergence history: [1, 1, 1, 1, 1]\n",
      "\n",
      "epoch 35\n",
      "Converged. Stall: 1/10\n",
      "4087/4087 [==============================] - 39s 10ms/step - train_model_loss: 24.3001 - train_reconstruction_loss: 19.3564 - train_kl_loss: 2.8928e-04 - train_regression_loss: 3.3120 - val_model_loss: 23.8402 - val_reconstruction_loss: 19.3639 - val_kl_loss: 9.4415e-04 - val_regression_loss: 2.9914\n",
      "WARNING:tensorflow:Compiled the loaded model, but the compiled metrics have yet to be built. `model.compile_metrics` will be empty until you train or evaluate the model.\n"
     ]
    },
    {
     "name": "stderr",
     "output_type": "stream",
     "text": [
      "WARNING:tensorflow:Compiled the loaded model, but the compiled metrics have yet to be built. `model.compile_metrics` will be empty until you train or evaluate the model.\n"
     ]
    },
    {
     "name": "stdout",
     "output_type": "stream",
     "text": [
      "INFO:tensorflow:Assets written to: pretrain/vae/1st_aa_nor_transduction\\assets\n"
     ]
    },
    {
     "name": "stderr",
     "output_type": "stream",
     "text": [
      "INFO:tensorflow:Assets written to: pretrain/vae/1st_aa_nor_transduction\\assets\n"
     ]
    },
    {
     "name": "stdout",
     "output_type": "stream",
     "text": [
      "Model saved to pretrain/vae/1st_aa_nor_transduction.\n",
      "\n",
      "epoch 36\n",
      "Converged. Stall: 2/10\n",
      "4087/4087 [==============================] - 39s 9ms/step - train_model_loss: 24.0060 - train_reconstruction_loss: 19.3127 - train_kl_loss: 0.0026 - train_regression_loss: 3.1344 - val_model_loss: 23.7861 - val_reconstruction_loss: 19.3044 - val_kl_loss: 0.0011 - val_regression_loss: 2.9876\n",
      "WARNING:tensorflow:Compiled the loaded model, but the compiled metrics have yet to be built. `model.compile_metrics` will be empty until you train or evaluate the model.\n"
     ]
    },
    {
     "name": "stderr",
     "output_type": "stream",
     "text": [
      "WARNING:tensorflow:Compiled the loaded model, but the compiled metrics have yet to be built. `model.compile_metrics` will be empty until you train or evaluate the model.\n"
     ]
    },
    {
     "name": "stdout",
     "output_type": "stream",
     "text": [
      "INFO:tensorflow:Assets written to: pretrain/vae/1st_aa_nor_transduction\\assets\n"
     ]
    },
    {
     "name": "stderr",
     "output_type": "stream",
     "text": [
      "INFO:tensorflow:Assets written to: pretrain/vae/1st_aa_nor_transduction\\assets\n"
     ]
    },
    {
     "name": "stdout",
     "output_type": "stream",
     "text": [
      "Model saved to pretrain/vae/1st_aa_nor_transduction.\n",
      "\n",
      "epoch 37\n",
      "Converged. Stall: 3/10\n",
      "4087/4087 [==============================] - 41s 10ms/step - train_model_loss: 23.7768 - train_reconstruction_loss: 19.3415 - train_kl_loss: 6.0633e-04 - train_regression_loss: 2.9580 - val_model_loss: 23.5660 - val_reconstruction_loss: 19.3205 - val_kl_loss: 8.5936e-04 - val_regression_loss: 2.8241\n",
      "WARNING:tensorflow:Compiled the loaded model, but the compiled metrics have yet to be built. `model.compile_metrics` will be empty until you train or evaluate the model.\n"
     ]
    },
    {
     "name": "stderr",
     "output_type": "stream",
     "text": [
      "WARNING:tensorflow:Compiled the loaded model, but the compiled metrics have yet to be built. `model.compile_metrics` will be empty until you train or evaluate the model.\n"
     ]
    },
    {
     "name": "stdout",
     "output_type": "stream",
     "text": [
      "INFO:tensorflow:Assets written to: pretrain/vae/1st_aa_nor_transduction\\assets\n"
     ]
    },
    {
     "name": "stderr",
     "output_type": "stream",
     "text": [
      "INFO:tensorflow:Assets written to: pretrain/vae/1st_aa_nor_transduction\\assets\n"
     ]
    },
    {
     "name": "stdout",
     "output_type": "stream",
     "text": [
      "Model saved to pretrain/vae/1st_aa_nor_transduction.\n",
      "\n",
      "epoch 38\n",
      "Converged. Stall: 4/10\n",
      "4087/4087 [==============================] - 38s 9ms/step - train_model_loss: 23.7431 - train_reconstruction_loss: 19.3402 - train_kl_loss: 4.9451e-04 - train_regression_loss: 2.9301 - val_model_loss: 23.5864 - val_reconstruction_loss: 19.3197 - val_kl_loss: 3.0882e-04 - val_regression_loss: 2.8488\n",
      "WARNING:tensorflow:Compiled the loaded model, but the compiled metrics have yet to be built. `model.compile_metrics` will be empty until you train or evaluate the model.\n"
     ]
    },
    {
     "name": "stderr",
     "output_type": "stream",
     "text": [
      "WARNING:tensorflow:Compiled the loaded model, but the compiled metrics have yet to be built. `model.compile_metrics` will be empty until you train or evaluate the model.\n"
     ]
    },
    {
     "name": "stdout",
     "output_type": "stream",
     "text": [
      "INFO:tensorflow:Assets written to: pretrain/vae/1st_aa_nor_transduction\\assets\n"
     ]
    },
    {
     "name": "stderr",
     "output_type": "stream",
     "text": [
      "INFO:tensorflow:Assets written to: pretrain/vae/1st_aa_nor_transduction\\assets\n"
     ]
    },
    {
     "name": "stdout",
     "output_type": "stream",
     "text": [
      "Model saved to pretrain/vae/1st_aa_nor_transduction.\n",
      "\n",
      "epoch 39\n",
      "Converged. Stall: 5/10\n",
      "4087/4087 [==============================] - 37s 9ms/step - train_model_loss: 23.5503 - train_reconstruction_loss: 19.3361 - train_kl_loss: 3.6857e-04 - train_regression_loss: 2.8074 - val_model_loss: 22.9156 - val_reconstruction_loss: 19.3158 - val_kl_loss: 3.1531e-04 - val_regression_loss: 2.3988\n",
      "WARNING:tensorflow:Compiled the loaded model, but the compiled metrics have yet to be built. `model.compile_metrics` will be empty until you train or evaluate the model.\n"
     ]
    },
    {
     "name": "stderr",
     "output_type": "stream",
     "text": [
      "WARNING:tensorflow:Compiled the loaded model, but the compiled metrics have yet to be built. `model.compile_metrics` will be empty until you train or evaluate the model.\n"
     ]
    },
    {
     "name": "stdout",
     "output_type": "stream",
     "text": [
      "INFO:tensorflow:Assets written to: pretrain/vae/1st_aa_nor_transduction\\assets\n"
     ]
    },
    {
     "name": "stderr",
     "output_type": "stream",
     "text": [
      "INFO:tensorflow:Assets written to: pretrain/vae/1st_aa_nor_transduction\\assets\n"
     ]
    },
    {
     "name": "stdout",
     "output_type": "stream",
     "text": [
      "Model saved to pretrain/vae/1st_aa_nor_transduction.\n",
      "\n",
      "epoch 40\n",
      "Converged. Stall: 6/10\n",
      "4087/4087 [==============================] - 39s 10ms/step - train_model_loss: 23.2726 - train_reconstruction_loss: 19.3366 - train_kl_loss: 6.1987e-04 - train_regression_loss: 2.6182 - val_model_loss: 22.9752 - val_reconstruction_loss: 19.3390 - val_kl_loss: 0.0015 - val_regression_loss: 2.4248\n",
      "WARNING:tensorflow:Compiled the loaded model, but the compiled metrics have yet to be built. `model.compile_metrics` will be empty until you train or evaluate the model.\n"
     ]
    },
    {
     "name": "stderr",
     "output_type": "stream",
     "text": [
      "WARNING:tensorflow:Compiled the loaded model, but the compiled metrics have yet to be built. `model.compile_metrics` will be empty until you train or evaluate the model.\n"
     ]
    },
    {
     "name": "stdout",
     "output_type": "stream",
     "text": [
      "INFO:tensorflow:Assets written to: pretrain/vae/1st_aa_nor_transduction\\assets\n"
     ]
    },
    {
     "name": "stderr",
     "output_type": "stream",
     "text": [
      "INFO:tensorflow:Assets written to: pretrain/vae/1st_aa_nor_transduction\\assets\n"
     ]
    },
    {
     "name": "stdout",
     "output_type": "stream",
     "text": [
      "Model saved to pretrain/vae/1st_aa_nor_transduction.\n",
      "Hit maximum epochs.\n",
      "Finished training model. Final overall losses:\n",
      "train: 23.273    val:22.975\n",
      "288/288 [==============================] - 0s 1ms/step\n",
      "288/288 [==============================] - 0s 1ms/step\n",
      "\n",
      "MSE of predictions vs true labels: 2.471489429473877\n",
      "WARNING:tensorflow:Compiled the loaded model, but the compiled metrics have yet to be built. `model.compile_metrics` will be empty until you train or evaluate the model.\n"
     ]
    },
    {
     "name": "stderr",
     "output_type": "stream",
     "text": [
      "WARNING:tensorflow:Compiled the loaded model, but the compiled metrics have yet to be built. `model.compile_metrics` will be empty until you train or evaluate the model.\n"
     ]
    },
    {
     "name": "stdout",
     "output_type": "stream",
     "text": [
      "INFO:tensorflow:Assets written to: e:\\Elite\\Now_repority\\20240220\\trained_models\\2024421_transduction_2D_40epochs_23.27T_22.98V\\model\\assets\n"
     ]
    },
    {
     "name": "stderr",
     "output_type": "stream",
     "text": [
      "INFO:tensorflow:Assets written to: e:\\Elite\\Now_repority\\20240220\\trained_models\\2024421_transduction_2D_40epochs_23.27T_22.98V\\model\\assets\n"
     ]
    },
    {
     "name": "stdout",
     "output_type": "stream",
     "text": [
      "Model saved to e:\\Elite\\Now_repority\\20240220\\trained_models\\2024421_transduction_2D_40epochs_23.27T_22.98V\\model.\n",
      "Losses saved to e:\\Elite\\Now_repority\\20240220\\trained_models\\2024421_transduction_2D_40epochs_23.27T_22.98V\\loss_log.csv.\n",
      "Train predictions saved to e:\\Elite\\Now_repority\\20240220\\trained_models\\2024421_transduction_2D_40epochs_23.27T_22.98V\\preds.csv.\n"
     ]
    }
   ],
   "source": [
    "# Train model\n",
    "model, preds_df, model_outdir = train_new(model, train_batches, val_batches, array,outpath,\n",
    "                                        train_df, optimizer=optimizer,                    \n",
    "                                        loss_weights=loss_weights           \n",
    "                        )"
   ]
  },
  {
   "cell_type": "markdown",
   "metadata": {},
   "source": [
    "####  Correlation between result and prediction "
   ]
  },
  {
   "cell_type": "code",
   "execution_count": 65,
   "metadata": {},
   "outputs": [
    {
     "name": "stderr",
     "output_type": "stream",
     "text": [
      "d:\\ProgramData\\anaconda3\\envs\\tf\\lib\\site-packages\\numpy\\lib\\histograms.py:906: RuntimeWarning: invalid value encountered in divide\n",
      "  return n/db/n.sum(), bin_edges\n"
     ]
    },
    {
     "data": {
      "image/png": "[encoded data removed]",
      "text/plain": [
       "<Figure size 210x195 with 4 Axes>"
      ]
     },
     "metadata": {},
     "output_type": "display_data"
    }
   ],
   "source": [
    "\n",
    "\n",
    "x = preds_df['y_pred']\n",
    "y = preds_df['y_true']\n",
    "\n",
    "remove = np.isinf(x) & np.isinf(y)\n",
    "x = x[~remove]\n",
    "y = y[~remove]\n",
    "\n",
    "keep = (~np.isinf(x)) & (~np.isinf(y))\n",
    "x_both = x[keep]\n",
    "y_both = y[keep]\n",
    "\n",
    "y_missing = y[np.isinf(x)]\n",
    "x_missing = x[np.isinf(y)]\n",
    "\n",
    "\n",
    "kernel = gaussian_kde(np.vstack([\n",
    "    x_both.sample(n=1000, random_state=1), \n",
    "    y_both.sample(n=1000, random_state=1)\n",
    "]))\n",
    "c_both = kernel(np.vstack([x_both.values, y_both.values]))\n",
    "\n",
    "\n",
    "fig = plt.figure(figsize=(1.4,1.3), dpi=150)\n",
    "\n",
    "gs = fig.add_gridspec(2, 2, left=0.275, right=0.95, bottom=0.22, top=0.95, \n",
    "                      width_ratios=[1, 6], height_ratios=[6, 1], hspace=0., wspace=0)\n",
    "ax = fig.add_subplot(gs[0, 1])\n",
    "ax.scatter(x_both, y_both, c=c_both, cmap=mpl.cm.inferno, s=0.2, edgecolor='none', rasterized=True)\n",
    "ax.set_xticks([]); ax.set_yticks([])\n",
    "xlim = [-11, 12]\n",
    "bins = np.linspace(*xlim, 25)\n",
    "ax.set_xlim(xlim); ax.set_ylim(xlim)\n",
    "ax.text(0.03, 0.97, r'$r$ = {:.2f}'.format(np.corrcoef(x_both, y_both)[0, 1]),\n",
    "       transform=ax.transAxes, ha='left', va='top', fontsize=7)\n",
    "\n",
    "ax.text(0.97, 0.01, 'n={}'.format(si_format(len(x_both)), precision=2, format_str='{value}{prefix}',), \n",
    "        transform=ax.transAxes, ha='right', va='bottom', fontsize=7)\n",
    "\n",
    "# Left Marginal\n",
    "ax = fig.add_subplot(gs[0, 0])\n",
    "ax.hist(y_missing, bins=bins, edgecolor='none', orientation='horizontal', density=True, color='r')\n",
    "ax.set_ylim(xlim)\n",
    "ax.set_xticks([]); ax.set_yticks([-5, 0, 5, 10, 15,20])\n",
    "ax.text(0.97, 0.97, 'n={}'.format(si_format(len(y_missing)), precision=2, format_str='{value}{prefix}',), \n",
    "        transform=ax.transAxes, ha='right', va='top', fontsize=7, rotation=90, color='r')\n",
    "ax.set_ylabel('Prediction', labelpad=1,fontsize=7)\n",
    "ax.tick_params(axis='both', labelsize=6, length=2, pad=1)\n",
    "\n",
    "# Bottom Marginal\n",
    "ax = fig.add_subplot(gs[1, 1])\n",
    "ax.hist(x_missing, bins=bins, edgecolor='none', density=True, color='r')\n",
    "ax.set_xlim(xlim)\n",
    "ax.set_xticks([-5, 0, 5, 10, 15,20]); ax.set_yticks([])\n",
    "ax.text(0.97, 0.8, 'n={}'.format(si_format(len(x_missing)), precision=2, format_str='{value}{prefix}',), \n",
    "        transform=ax.transAxes, ha='right', va='top', fontsize=7, color='r')\n",
    "ax.set_xlabel('Truth', labelpad=2,fontsize=7)\n",
    "ax.tick_params(axis='both', labelsize=6, length=2, pad=1)\n",
    "\n",
    "\n",
    "# Missing label (not detected in either)\n",
    "ax = fig.add_subplot(gs[1, 0])\n",
    "for spine in ['bottom', 'left']:\n",
    "    ax.spines[spine].set_visible(False)\n",
    "ax.set_xticks([]); ax.set_yticks([])\n",
    "\n",
    "ax.text(0.8, 0.8, 'Missing', transform=ax.transAxes, color='r', ha='right', va='top', fontsize=7, clip_on=False)\n",
    "fig.savefig('../results/vae/1st_results/nor_transduction/1st_vae_aa_nor_transduction_correlation_train.pdf',dpi=300,bbox_inches='tight')"
   ]
  },
  {
   "cell_type": "code",
   "execution_count": 66,
   "metadata": {},
   "outputs": [
    {
     "data": {
      "image/png": "[encoded data removed]",
      "text/plain": [
       "<Figure size 200x170 with 1 Axes>"
      ]
     },
     "metadata": {},
     "output_type": "display_data"
    }
   ],
   "source": [
    "\n",
    "data = np.array(preds_df['y_pred']) \n",
    "data = data.reshape(-1, 1)  # Convert the data into a column vector\n",
    "\n",
    "# Fit the data using GaussianMixture\n",
    "n_components = 1 # Set the number of components for the hybrid model\n",
    "gmm = GaussianMixture(n_components=n_components)\n",
    "gmm.fit(data)\n",
    "\n",
    "# Get the mean and covariance matrix for each component\n",
    "means = gmm.means_\n",
    "covariances = gmm.covariances_\n",
    "\n",
    "# Generate the fitted distribution\n",
    "x = np.linspace(-10, 10, 100000)\n",
    "x = x.reshape(-1, 1)\n",
    "y = np.exp(gmm.score_samples(x))\n",
    "\n",
    "fig,ax = plt.subplots(figsize=(2,1.7),dpi=100)\n",
    "# Plot the raw data and the distribution after fitting\n",
    "plt.hist(data, bins=100, density=True, alpha=0.6, color = '#BAB3A3',label='Prediction')\n",
    "\n",
    "# 绘制每个分量的正态分布\n",
    "for i in range(n_components):\n",
    "    component = np.exp(-(x - means[i]) ** 2 / (2 * covariances[i]))\n",
    "    component /= np.sqrt(2 * np.pi * covariances[i])\n",
    "    component *= gmm.weights_[i]\n",
    "    if i == 0:\n",
    "        ax.plot(x, component, '-', label=f'Distribution {i + 1}', color='#F66E68', alpha=1)\n",
    "        ax.fill_between(x.flatten(), 0, component.flatten(), color='#F66E68', alpha=0.4)\n",
    "    else:\n",
    "        ax.plot(x, component, '-', label=f'Distribution {i + 1}', color='#457B9D', alpha=1)\n",
    "        ax.fill_between(x.flatten(), 0, component.flatten(), color='#457B9D', alpha=0.4)\n",
    "\n",
    "\n",
    "plt.title('Prediction',fontsize=10)\n",
    "ax.tick_params(axis='both', which='both', length=2,labelsize=10)\n",
    "ax.set_xticks([-5, 0, 5]); \n",
    "ax.set_xlim([-10,10])\n",
    "plt.ylabel('Density',labelpad=1,fontsize=10)\n",
    "plt.xlabel('Nor_package',labelpad=1,fontsize=10)\n",
    "plt.legend(fontsize=7,frameon=False)\n",
    "plt.show()\n",
    "fig.savefig('../results/vae/1st_results/nor_transduction/1st_vae_prediction_nor_transduction_distribution_train.pdf',dpi=300,bbox_inches='tight')"
   ]
  },
  {
   "cell_type": "code",
   "execution_count": 67,
   "metadata": {},
   "outputs": [
    {
     "name": "stdout",
     "output_type": "stream",
     "text": [
      "32/32 [==============================] - 0s 819us/step\n",
      "32/32 [==============================] - 0s 615us/step\n",
      "\n",
      "MSE of predictions vs true labels: 2.855494260787964\n"
     ]
    },
    {
     "data": {
      "text/plain": [
       "0.815939452337962"
      ]
     },
     "execution_count": 67,
     "metadata": {},
     "output_type": "execute_result"
    }
   ],
   "source": [
    "AA = test_df[array].values\n",
    "X = test_df.drop(columns=['AA_sequence','Y--transduction'])\n",
    "Y = test_df['Y--transduction'].values\n",
    "preds_df = predict(model, X,array, Y=Y, AA=AA)\n",
    "preds_df['y_pred'].corr(preds_df['y_true'])"
   ]
  },
  {
   "cell_type": "code",
   "execution_count": 68,
   "metadata": {},
   "outputs": [
    {
     "name": "stderr",
     "output_type": "stream",
     "text": [
      "d:\\ProgramData\\anaconda3\\envs\\tf\\lib\\site-packages\\numpy\\lib\\histograms.py:906: RuntimeWarning: invalid value encountered in divide\n",
      "  return n/db/n.sum(), bin_edges\n"
     ]
    },
    {
     "data": {
      "image/png": "[encoded data removed]",
      "text/plain": [
       "<Figure size 210x195 with 4 Axes>"
      ]
     },
     "metadata": {},
     "output_type": "display_data"
    }
   ],
   "source": [
    "\n",
    "\n",
    "x = preds_df['y_pred']\n",
    "y = preds_df['y_true']\n",
    "\n",
    "remove = np.isinf(x) & np.isinf(y)\n",
    "x = x[~remove]\n",
    "y = y[~remove]\n",
    "\n",
    "keep = (~np.isinf(x)) & (~np.isinf(y))\n",
    "x_both = x[keep]\n",
    "y_both = y[keep]\n",
    "\n",
    "y_missing = y[np.isinf(x)]\n",
    "x_missing = x[np.isinf(y)]\n",
    "\n",
    "\n",
    "kernel = gaussian_kde(np.vstack([\n",
    "    x_both.sample(n=19, random_state=1), \n",
    "    y_both.sample(n=19, random_state=1)\n",
    "]))\n",
    "c_both = kernel(np.vstack([x_both.values, y_both.values]))\n",
    "\n",
    "\n",
    "fig = plt.figure(figsize=(1.4,1.3), dpi=150)\n",
    "\n",
    "gs = fig.add_gridspec(2, 2, left=0.275, right=0.95, bottom=0.22, top=0.95, \n",
    "                      width_ratios=[1, 6], height_ratios=[6, 1], hspace=0., wspace=0)\n",
    "ax = fig.add_subplot(gs[0, 1])\n",
    "ax.scatter(x_both, y_both, c=c_both, cmap=mpl.cm.inferno, s=0.2, edgecolor='none', rasterized=True)\n",
    "ax.set_xticks([]); ax.set_yticks([])\n",
    "xlim = [-11, 12]\n",
    "bins = np.linspace(*xlim, 25)\n",
    "ax.set_xlim(xlim); ax.set_ylim(xlim)\n",
    "ax.text(0.03, 0.97, r'$r$ = {:.2f}'.format(np.corrcoef(x_both, y_both)[0, 1]),\n",
    "       transform=ax.transAxes, ha='left', va='top', fontsize=7)\n",
    "\n",
    "ax.text(0.97, 0.01, 'n={}'.format(si_format(len(x_both)), precision=2, format_str='{value}{prefix}',), \n",
    "        transform=ax.transAxes, ha='right', va='bottom', fontsize=7)\n",
    "\n",
    "# Left Marginal\n",
    "ax = fig.add_subplot(gs[0, 0])\n",
    "ax.hist(y_missing, bins=bins, edgecolor='none', orientation='horizontal', density=True, color='r')\n",
    "ax.set_ylim(xlim)\n",
    "ax.set_xticks([]); ax.set_yticks([-5, 0, 5, 10, 15,20])\n",
    "ax.text(0.97, 0.97, 'n={}'.format(si_format(len(y_missing)), precision=2, format_str='{value}{prefix}',), \n",
    "        transform=ax.transAxes, ha='right', va='top', fontsize=7, rotation=90, color='r')\n",
    "ax.set_ylabel('Prediction', labelpad=1,fontsize=7)\n",
    "ax.tick_params(axis='both', labelsize=6, length=2, pad=1)\n",
    "\n",
    "# Bottom Marginal\n",
    "ax = fig.add_subplot(gs[1, 1])\n",
    "ax.hist(x_missing, bins=bins, edgecolor='none', density=True, color='r')\n",
    "ax.set_xlim(xlim)\n",
    "ax.set_xticks([-5, 0, 5, 10, 15,20]); ax.set_yticks([])\n",
    "ax.text(0.97, 0.8, 'n={}'.format(si_format(len(x_missing)), precision=2, format_str='{value}{prefix}',), \n",
    "        transform=ax.transAxes, ha='right', va='top', fontsize=7, color='r')\n",
    "ax.set_xlabel('Truth', labelpad=2,fontsize=7)\n",
    "ax.tick_params(axis='both', labelsize=6, length=2, pad=1)\n",
    "\n",
    "\n",
    "# Missing label (not detected in either)\n",
    "ax = fig.add_subplot(gs[1, 0])\n",
    "for spine in ['bottom', 'left']:\n",
    "    ax.spines[spine].set_visible(False)\n",
    "ax.set_xticks([]); ax.set_yticks([])\n",
    "\n",
    "ax.text(0.8, 0.8, 'Missing', transform=ax.transAxes, color='r', ha='right', va='top', fontsize=7, clip_on=False)\n",
    "fig.savefig('../results/vae/1st_results/nor_transduction/1st_vae_aa_nor_transduction_correlation_test.pdf',dpi=300,bbox_inches='tight')\n"
   ]
  },
  {
   "cell_type": "code",
   "execution_count": 69,
   "metadata": {},
   "outputs": [
    {
     "data": {
      "image/png": "[encoded data removed]",
      "text/plain": [
       "<Figure size 200x170 with 1 Axes>"
      ]
     },
     "metadata": {},
     "output_type": "display_data"
    }
   ],
   "source": [
    "\n",
    "data = np.array(preds_df['y_pred']) \n",
    "data = data.reshape(-1, 1)  # Convert the data into a column vector\n",
    "\n",
    "# Fit the data using GaussianMixture\n",
    "n_components = 1 # Set the number of components for the hybrid model\n",
    "gmm = GaussianMixture(n_components=n_components)\n",
    "gmm.fit(data)\n",
    "\n",
    "# Get the mean and covariance matrix for each component\n",
    "means = gmm.means_\n",
    "covariances = gmm.covariances_\n",
    "\n",
    "# Generate the fitted distribution\n",
    "x = np.linspace(-10, 10, 100000)\n",
    "x = x.reshape(-1, 1)\n",
    "y = np.exp(gmm.score_samples(x))\n",
    "\n",
    "fig,ax = plt.subplots(figsize=(2,1.7),dpi=100)\n",
    "# Plot the raw data and the distribution after fitting\n",
    "plt.hist(data, bins=100, density=True, alpha=0.6, color = '#BAB3A3',label='Prediction')\n",
    "\n",
    "# 绘制每个分量的正态分布\n",
    "for i in range(n_components):\n",
    "    component = np.exp(-(x - means[i]) ** 2 / (2 * covariances[i]))\n",
    "    component /= np.sqrt(2 * np.pi * covariances[i])\n",
    "    component *= gmm.weights_[i]\n",
    "    if i == 0:\n",
    "        ax.plot(x, component, '-', label=f'Distribution {i + 1}', color='#F66E68', alpha=1)\n",
    "        ax.fill_between(x.flatten(), 0, component.flatten(), color='#F66E68', alpha=0.4)\n",
    "    else:\n",
    "        ax.plot(x, component, '-', label=f'Distribution {i + 1}', color='#457B9D', alpha=1)\n",
    "        ax.fill_between(x.flatten(), 0, component.flatten(), color='#457B9D', alpha=0.4)\n",
    "\n",
    "\n",
    "plt.title('Prediction',fontsize=10)\n",
    "ax.tick_params(axis='both', which='both', length=2,labelsize=10)\n",
    "ax.set_xticks([-5, 0, 5]); \n",
    "ax.set_xlim([-10,10])\n",
    "plt.ylabel('Density',labelpad=1,fontsize=10)\n",
    "plt.xlabel('Nor_package',labelpad=1,fontsize=10)\n",
    "plt.legend(fontsize=7,frameon=False)\n",
    "plt.show()\n",
    "fig.savefig('../results/vae/1st_results/nor_transduction/1st_vae_prediction_nor_transduction_distribution_test.pdf',dpi=300,bbox_inches='tight')"
   ]
  },
  {
   "cell_type": "code",
   "execution_count": null,
   "metadata": {},
   "outputs": [],
   "source": []
  },
  {
   "cell_type": "code",
   "execution_count": null,
   "metadata": {},
   "outputs": [],
   "source": []
  },
  {
   "cell_type": "code",
   "execution_count": null,
   "metadata": {},
   "outputs": [],
   "source": []
  }
 ],
 "metadata": {
  "kernelspec": {
   "display_name": "Python 3 (ipykernel)",
   "language": "python",
   "name": "python3"
  },
  "language_info": {
   "codemirror_mode": {
    "name": "ipython",
    "version": 3
   },
   "file_extension": ".py",
   "mimetype": "text/x-python",
   "name": "python",
   "nbconvert_exporter": "python",
   "pygments_lexer": "ipython3",
   "version": "3.8.16"
  },
  "vscode": {
   "interpreter": {
    "hash": "00dedd32bda6164f33307b9f113fca69379b5d26ecb5a9003c28a7bd4ecd46dd"
   }
  }
 },
 "nbformat": 4,
 "nbformat_minor": 4
}
