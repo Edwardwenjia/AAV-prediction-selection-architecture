{
 "cells": [
  {
   "cell_type": "code",
   "execution_count": 11,
   "metadata": {
    "is_executing": true
   },
   "outputs": [
    {
     "name": "stdout",
     "output_type": "stream",
     "text": [
      "The autoreload extension is already loaded. To reload it, use:\n",
      "  %reload_ext autoreload\n"
     ]
    }
   ],
   "source": [
    "%load_ext autoreload\n",
    "%autoreload 2"
   ]
  },
  {
   "cell_type": "code",
   "execution_count": 12,
   "metadata": {},
   "outputs": [],
   "source": [
    "import numpy as np\n",
    "import pandas as pd\n",
    "import pickle\n",
    "import random\n",
    "import tensorflow as tf\n",
    "import os\n",
    "import sys\n",
    "from pathlib import Path\n",
    "from sklearn.preprocessing import StandardScaler\n",
    "from mpl_toolkits.axes_grid1 import make_axes_locatable\n",
    "from scipy.stats import gaussian_kde, norm\n",
    "import matplotlib as mpl\n",
    "import matplotlib.pyplot as plt\n",
    "from sklearn.mixture import GaussianMixture\n",
    "\n",
    "from vae.vae import SVAE\n",
    "from vae.train import train,train_new\n",
    "from utils.data_processing import prep_data, make_tf_batches, seq_to_onehot\n",
    "from vae.predict import predict\n",
    "from utils.utils_f4f import heatmap, si_format\n",
    "os.environ['TF_CPP_MIN_LOG_LEVEL'] = '0'\n"
   ]
  },
  {
   "cell_type": "markdown",
   "metadata": {},
   "source": [
    "#### Data_preparetion\n"
   ]
  },
  {
   "cell_type": "code",
   "execution_count": 13,
   "metadata": {},
   "outputs": [
    {
     "data": {
      "text/html": [
       "<div>\n",
       "<style scoped>\n",
       "    .dataframe tbody tr th:only-of-type {\n",
       "        vertical-align: middle;\n",
       "    }\n",
       "\n",
       "    .dataframe tbody tr th {\n",
       "        vertical-align: top;\n",
       "    }\n",
       "\n",
       "    .dataframe thead th {\n",
       "        text-align: right;\n",
       "    }\n",
       "</style>\n",
       "<table border=\"1\" class=\"dataframe\">\n",
       "  <thead>\n",
       "    <tr style=\"text-align: right;\">\n",
       "      <th></th>\n",
       "      <th>seq</th>\n",
       "      <th>transduction</th>\n",
       "    </tr>\n",
       "  </thead>\n",
       "  <tbody>\n",
       "    <tr>\n",
       "      <th>2555</th>\n",
       "      <td>AGGAATCGGGATTCTCATGAT</td>\n",
       "      <td>-11.920341</td>\n",
       "    </tr>\n",
       "    <tr>\n",
       "      <th>2554</th>\n",
       "      <td>GGTAGGAGTACGGGGGTGGTG</td>\n",
       "      <td>-11.811235</td>\n",
       "    </tr>\n",
       "    <tr>\n",
       "      <th>2553</th>\n",
       "      <td>AGGATGGTGAATACGAATGTT</td>\n",
       "      <td>-11.808872</td>\n",
       "    </tr>\n",
       "    <tr>\n",
       "      <th>2552</th>\n",
       "      <td>ACGCATTCTAAGTCTGGTGGG</td>\n",
       "      <td>-11.796203</td>\n",
       "    </tr>\n",
       "    <tr>\n",
       "      <th>2551</th>\n",
       "      <td>AGTGGGAAGCCTAGTGTTAGT</td>\n",
       "      <td>-11.778599</td>\n",
       "    </tr>\n",
       "    <tr>\n",
       "      <th>...</th>\n",
       "      <td>...</td>\n",
       "      <td>...</td>\n",
       "    </tr>\n",
       "    <tr>\n",
       "      <th>4</th>\n",
       "      <td>TCTTCGCATATTTTTGGTGTT</td>\n",
       "      <td>5.748775</td>\n",
       "    </tr>\n",
       "    <tr>\n",
       "      <th>3</th>\n",
       "      <td>GGTGTGTGTTTTTTGCTTTAT</td>\n",
       "      <td>6.276683</td>\n",
       "    </tr>\n",
       "    <tr>\n",
       "      <th>2</th>\n",
       "      <td>CCGCAGAAGTGGCGGATTTAT</td>\n",
       "      <td>6.661751</td>\n",
       "    </tr>\n",
       "    <tr>\n",
       "      <th>1</th>\n",
       "      <td>CGGGCGGCTACTCATCATAGT</td>\n",
       "      <td>6.743405</td>\n",
       "    </tr>\n",
       "    <tr>\n",
       "      <th>0</th>\n",
       "      <td>AATAATATTTTTGGTTGTTTT</td>\n",
       "      <td>7.704007</td>\n",
       "    </tr>\n",
       "  </tbody>\n",
       "</table>\n",
       "<p>2556 rows × 2 columns</p>\n",
       "</div>"
      ],
      "text/plain": [
       "                        seq  transduction\n",
       "2555  AGGAATCGGGATTCTCATGAT    -11.920341\n",
       "2554  GGTAGGAGTACGGGGGTGGTG    -11.811235\n",
       "2553  AGGATGGTGAATACGAATGTT    -11.808872\n",
       "2552  ACGCATTCTAAGTCTGGTGGG    -11.796203\n",
       "2551  AGTGGGAAGCCTAGTGTTAGT    -11.778599\n",
       "...                     ...           ...\n",
       "4     TCTTCGCATATTTTTGGTGTT      5.748775\n",
       "3     GGTGTGTGTTTTTTGCTTTAT      6.276683\n",
       "2     CCGCAGAAGTGGCGGATTTAT      6.661751\n",
       "1     CGGGCGGCTACTCATCATAGT      6.743405\n",
       "0     AATAATATTTTTGGTTGTTTT      7.704007\n",
       "\n",
       "[2556 rows x 2 columns]"
      ]
     },
     "execution_count": 13,
     "metadata": {},
     "output_type": "execute_result"
    }
   ],
   "source": [
    "# Import data \n",
    "target_assay = 'transduction'  # nor_package\n",
    "array = 'seq'    #  RNA\n",
    "\n",
    "\n",
    "df_all = pd.read_csv('../data/2nd_seq_aa_transduction.tsv',delimiter='\\t')\n",
    "df_all = df_all.rename(columns={'aa':'AA_sequence'})\n",
    "df = df_all[[array, target_assay]]\n",
    "df= df.sort_values(by=target_assay)\n",
    "\n",
    "#Fill in the nan data and replace the inf value\n",
    "df[target_assay] = df[target_assay].fillna(0)  \n",
    "df[target_assay] = df[target_assay].replace([np.inf, -np.inf], np.nan)\n",
    "df = df.dropna(subset=[target_assay,array])\n",
    "# df = df.iloc[::20]\n",
    "df"
   ]
  },
  {
   "cell_type": "code",
   "execution_count": 14,
   "metadata": {},
   "outputs": [
    {
     "data": {
      "image/png": "[encoded data removed]",
      "text/plain": [
       "<Figure size 200x170 with 1 Axes>"
      ]
     },
     "metadata": {},
     "output_type": "display_data"
    }
   ],
   "source": [
    "nor_package = df_all[np.isfinite(df_all[target_assay])][target_assay]\n",
    "data = np.array(nor_package) \n",
    "data = data.reshape(-1, 1)  # Convert the data into a column vector\n",
    "\n",
    "# Fit the data using GaussianMixture\n",
    "n_components = 1 # Set the number of components for the hybrid model\n",
    "gmm = GaussianMixture(n_components=n_components)\n",
    "gmm.fit(data)\n",
    "\n",
    "# Get the mean and covariance matrix for each component\n",
    "means = gmm.means_\n",
    "covariances = gmm.covariances_\n",
    "\n",
    "# Generate the fitted distribution\n",
    "x = np.linspace(-10, 10, 10000)\n",
    "x = x.reshape(-1, 1)\n",
    "y = np.exp(gmm.score_samples(x))\n",
    "\n",
    "fig,ax = plt.subplots(figsize=(2,1.7),dpi=100)\n",
    "# Plot the raw data and the distribution after fitting\n",
    "plt.hist(data, bins=100, density=True, alpha=0.6, color = '#BAB3A3',label='Prediction')\n",
    "\n",
    "# 绘制每个分量的正态分布\n",
    "for i in range(n_components):\n",
    "    component = np.exp(-(x - means[i]) ** 2 / (2 * covariances[i]))\n",
    "    component /= np.sqrt(2 * np.pi * covariances[i])\n",
    "    component *= gmm.weights_[i]\n",
    "    if i == 0:\n",
    "        ax.plot(x, component, '-', label=f'Distribution {i + 1}', color='#F66E68', alpha=1)\n",
    "        ax.fill_between(x.flatten(), 0, component.flatten(), color='#F66E68', alpha=0.4)\n",
    "    else:\n",
    "        ax.plot(x, component, '-', label=f'Distribution {i + 1}', color='#457B9D', alpha=1)\n",
    "        ax.fill_between(x.flatten(), 0, component.flatten(), color='#457B9D', alpha=0.4)\n",
    "\n",
    "\n",
    "plt.title('Truth_distribution',fontsize=10)\n",
    "ax.tick_params(axis='both', which='both', length=2,labelsize=8)\n",
    "ax.set_xlim([-9,9])\n",
    "ax.set_xticks([-10,5,0,5,10]); \n",
    "\n",
    "plt.ylabel('Density',labelpad=2,fontsize=10)\n",
    "plt.xlabel('Nor_package',labelpad=2,fontsize=10)\n",
    "plt.legend(fontsize=7,frameon=False,loc='best')\n",
    "plt.show()"
   ]
  },
  {
   "cell_type": "markdown",
   "metadata": {},
   "source": [
    "#### Prep data and make Tensorflow-compatible data batches\n",
    "\n",
    "`prep_data()` will one-hot encode the `AA_sequence` column and split the data into\n",
    "training and test sets. The training split will be split\n",
    "futher into training and validation batches with `make_tf_batches()`.\n"
   ]
  },
  {
   "cell_type": "code",
   "execution_count": 15,
   "metadata": {},
   "outputs": [],
   "source": [
    "(data_list, train_df, test_df, prepped_df) = prep_data(df, AA_colname=array,target_assay_col=target_assay)\n",
    "train_df['Y--transduction'] = train_df['seq'].map(df.drop_duplicates('seq').set_index('seq')[target_assay])\n",
    "test_df['Y--transduction'] = test_df['seq'].map(df.drop_duplicates('seq').set_index('seq')[target_assay])\n",
    "prepped_df['Y--transduction'] = test_df['seq'].map(df.drop_duplicates('seq').set_index('seq')[target_assay])"
   ]
  },
  {
   "cell_type": "code",
   "execution_count": 16,
   "metadata": {},
   "outputs": [
    {
     "data": {
      "text/html": [
       "<div>\n",
       "<style scoped>\n",
       "    .dataframe tbody tr th:only-of-type {\n",
       "        vertical-align: middle;\n",
       "    }\n",
       "\n",
       "    .dataframe tbody tr th {\n",
       "        vertical-align: top;\n",
       "    }\n",
       "\n",
       "    .dataframe thead th {\n",
       "        text-align: right;\n",
       "    }\n",
       "</style>\n",
       "<table border=\"1\" class=\"dataframe\">\n",
       "  <thead>\n",
       "    <tr style=\"text-align: right;\">\n",
       "      <th></th>\n",
       "      <th>seq</th>\n",
       "      <th>x0</th>\n",
       "      <th>x1</th>\n",
       "      <th>x2</th>\n",
       "      <th>x3</th>\n",
       "      <th>x4</th>\n",
       "      <th>x5</th>\n",
       "      <th>x6</th>\n",
       "      <th>x7</th>\n",
       "      <th>x8</th>\n",
       "      <th>...</th>\n",
       "      <th>x411</th>\n",
       "      <th>x412</th>\n",
       "      <th>x413</th>\n",
       "      <th>x414</th>\n",
       "      <th>x415</th>\n",
       "      <th>x416</th>\n",
       "      <th>x417</th>\n",
       "      <th>x418</th>\n",
       "      <th>x419</th>\n",
       "      <th>Y--transduction</th>\n",
       "    </tr>\n",
       "  </thead>\n",
       "  <tbody>\n",
       "    <tr>\n",
       "      <th>0</th>\n",
       "      <td>AGGAATCGGGATTCTCATGAT</td>\n",
       "      <td>1</td>\n",
       "      <td>0</td>\n",
       "      <td>0</td>\n",
       "      <td>0</td>\n",
       "      <td>0</td>\n",
       "      <td>0</td>\n",
       "      <td>0</td>\n",
       "      <td>0</td>\n",
       "      <td>0</td>\n",
       "      <td>...</td>\n",
       "      <td>0</td>\n",
       "      <td>0</td>\n",
       "      <td>0</td>\n",
       "      <td>0</td>\n",
       "      <td>0</td>\n",
       "      <td>1</td>\n",
       "      <td>0</td>\n",
       "      <td>0</td>\n",
       "      <td>0</td>\n",
       "      <td>-11.920341</td>\n",
       "    </tr>\n",
       "    <tr>\n",
       "      <th>1</th>\n",
       "      <td>GGTAGGAGTACGGGGGTGGTG</td>\n",
       "      <td>0</td>\n",
       "      <td>0</td>\n",
       "      <td>0</td>\n",
       "      <td>0</td>\n",
       "      <td>0</td>\n",
       "      <td>1</td>\n",
       "      <td>0</td>\n",
       "      <td>0</td>\n",
       "      <td>0</td>\n",
       "      <td>...</td>\n",
       "      <td>0</td>\n",
       "      <td>0</td>\n",
       "      <td>0</td>\n",
       "      <td>0</td>\n",
       "      <td>0</td>\n",
       "      <td>0</td>\n",
       "      <td>0</td>\n",
       "      <td>0</td>\n",
       "      <td>0</td>\n",
       "      <td>-11.811235</td>\n",
       "    </tr>\n",
       "    <tr>\n",
       "      <th>2</th>\n",
       "      <td>AGGATGGTGAATACGAATGTT</td>\n",
       "      <td>1</td>\n",
       "      <td>0</td>\n",
       "      <td>0</td>\n",
       "      <td>0</td>\n",
       "      <td>0</td>\n",
       "      <td>0</td>\n",
       "      <td>0</td>\n",
       "      <td>0</td>\n",
       "      <td>0</td>\n",
       "      <td>...</td>\n",
       "      <td>0</td>\n",
       "      <td>0</td>\n",
       "      <td>0</td>\n",
       "      <td>0</td>\n",
       "      <td>0</td>\n",
       "      <td>1</td>\n",
       "      <td>0</td>\n",
       "      <td>0</td>\n",
       "      <td>0</td>\n",
       "      <td>-11.808872</td>\n",
       "    </tr>\n",
       "    <tr>\n",
       "      <th>3</th>\n",
       "      <td>ACGCATTCTAAGTCTGGTGGG</td>\n",
       "      <td>1</td>\n",
       "      <td>0</td>\n",
       "      <td>0</td>\n",
       "      <td>0</td>\n",
       "      <td>0</td>\n",
       "      <td>0</td>\n",
       "      <td>0</td>\n",
       "      <td>0</td>\n",
       "      <td>0</td>\n",
       "      <td>...</td>\n",
       "      <td>0</td>\n",
       "      <td>0</td>\n",
       "      <td>0</td>\n",
       "      <td>0</td>\n",
       "      <td>0</td>\n",
       "      <td>0</td>\n",
       "      <td>0</td>\n",
       "      <td>0</td>\n",
       "      <td>0</td>\n",
       "      <td>-11.796203</td>\n",
       "    </tr>\n",
       "    <tr>\n",
       "      <th>4</th>\n",
       "      <td>AGTGGGAAGCCTAGTGTTAGT</td>\n",
       "      <td>1</td>\n",
       "      <td>0</td>\n",
       "      <td>0</td>\n",
       "      <td>0</td>\n",
       "      <td>0</td>\n",
       "      <td>0</td>\n",
       "      <td>0</td>\n",
       "      <td>0</td>\n",
       "      <td>0</td>\n",
       "      <td>...</td>\n",
       "      <td>0</td>\n",
       "      <td>0</td>\n",
       "      <td>0</td>\n",
       "      <td>0</td>\n",
       "      <td>0</td>\n",
       "      <td>1</td>\n",
       "      <td>0</td>\n",
       "      <td>0</td>\n",
       "      <td>0</td>\n",
       "      <td>-11.778599</td>\n",
       "    </tr>\n",
       "    <tr>\n",
       "      <th>...</th>\n",
       "      <td>...</td>\n",
       "      <td>...</td>\n",
       "      <td>...</td>\n",
       "      <td>...</td>\n",
       "      <td>...</td>\n",
       "      <td>...</td>\n",
       "      <td>...</td>\n",
       "      <td>...</td>\n",
       "      <td>...</td>\n",
       "      <td>...</td>\n",
       "      <td>...</td>\n",
       "      <td>...</td>\n",
       "      <td>...</td>\n",
       "      <td>...</td>\n",
       "      <td>...</td>\n",
       "      <td>...</td>\n",
       "      <td>...</td>\n",
       "      <td>...</td>\n",
       "      <td>...</td>\n",
       "      <td>...</td>\n",
       "      <td>...</td>\n",
       "    </tr>\n",
       "    <tr>\n",
       "      <th>2296</th>\n",
       "      <td>CCGGCTTCGAGTGGGCGGTCT</td>\n",
       "      <td>0</td>\n",
       "      <td>1</td>\n",
       "      <td>0</td>\n",
       "      <td>0</td>\n",
       "      <td>0</td>\n",
       "      <td>0</td>\n",
       "      <td>0</td>\n",
       "      <td>0</td>\n",
       "      <td>0</td>\n",
       "      <td>...</td>\n",
       "      <td>0</td>\n",
       "      <td>0</td>\n",
       "      <td>0</td>\n",
       "      <td>0</td>\n",
       "      <td>0</td>\n",
       "      <td>1</td>\n",
       "      <td>0</td>\n",
       "      <td>0</td>\n",
       "      <td>0</td>\n",
       "      <td>5.367261</td>\n",
       "    </tr>\n",
       "    <tr>\n",
       "      <th>2297</th>\n",
       "      <td>TCTTCGCATATTTTTGGTGTT</td>\n",
       "      <td>0</td>\n",
       "      <td>0</td>\n",
       "      <td>0</td>\n",
       "      <td>0</td>\n",
       "      <td>0</td>\n",
       "      <td>0</td>\n",
       "      <td>0</td>\n",
       "      <td>0</td>\n",
       "      <td>0</td>\n",
       "      <td>...</td>\n",
       "      <td>0</td>\n",
       "      <td>0</td>\n",
       "      <td>0</td>\n",
       "      <td>0</td>\n",
       "      <td>0</td>\n",
       "      <td>1</td>\n",
       "      <td>0</td>\n",
       "      <td>0</td>\n",
       "      <td>0</td>\n",
       "      <td>5.748775</td>\n",
       "    </tr>\n",
       "    <tr>\n",
       "      <th>2298</th>\n",
       "      <td>GGTGTGTGTTTTTTGCTTTAT</td>\n",
       "      <td>0</td>\n",
       "      <td>0</td>\n",
       "      <td>0</td>\n",
       "      <td>0</td>\n",
       "      <td>0</td>\n",
       "      <td>1</td>\n",
       "      <td>0</td>\n",
       "      <td>0</td>\n",
       "      <td>0</td>\n",
       "      <td>...</td>\n",
       "      <td>0</td>\n",
       "      <td>0</td>\n",
       "      <td>0</td>\n",
       "      <td>0</td>\n",
       "      <td>0</td>\n",
       "      <td>1</td>\n",
       "      <td>0</td>\n",
       "      <td>0</td>\n",
       "      <td>0</td>\n",
       "      <td>6.276683</td>\n",
       "    </tr>\n",
       "    <tr>\n",
       "      <th>2299</th>\n",
       "      <td>CCGCAGAAGTGGCGGATTTAT</td>\n",
       "      <td>0</td>\n",
       "      <td>1</td>\n",
       "      <td>0</td>\n",
       "      <td>0</td>\n",
       "      <td>0</td>\n",
       "      <td>0</td>\n",
       "      <td>0</td>\n",
       "      <td>0</td>\n",
       "      <td>0</td>\n",
       "      <td>...</td>\n",
       "      <td>0</td>\n",
       "      <td>0</td>\n",
       "      <td>0</td>\n",
       "      <td>0</td>\n",
       "      <td>0</td>\n",
       "      <td>1</td>\n",
       "      <td>0</td>\n",
       "      <td>0</td>\n",
       "      <td>0</td>\n",
       "      <td>6.661751</td>\n",
       "    </tr>\n",
       "    <tr>\n",
       "      <th>2300</th>\n",
       "      <td>AATAATATTTTTGGTTGTTTT</td>\n",
       "      <td>1</td>\n",
       "      <td>0</td>\n",
       "      <td>0</td>\n",
       "      <td>0</td>\n",
       "      <td>0</td>\n",
       "      <td>0</td>\n",
       "      <td>0</td>\n",
       "      <td>0</td>\n",
       "      <td>0</td>\n",
       "      <td>...</td>\n",
       "      <td>0</td>\n",
       "      <td>0</td>\n",
       "      <td>0</td>\n",
       "      <td>0</td>\n",
       "      <td>0</td>\n",
       "      <td>1</td>\n",
       "      <td>0</td>\n",
       "      <td>0</td>\n",
       "      <td>0</td>\n",
       "      <td>7.704007</td>\n",
       "    </tr>\n",
       "  </tbody>\n",
       "</table>\n",
       "<p>2301 rows × 422 columns</p>\n",
       "</div>"
      ],
      "text/plain": [
       "                        seq  x0  x1  x2  x3  x4  x5  x6  x7  x8  ...  x411   \n",
       "0     AGGAATCGGGATTCTCATGAT   1   0   0   0   0   0   0   0   0  ...     0  \\\n",
       "1     GGTAGGAGTACGGGGGTGGTG   0   0   0   0   0   1   0   0   0  ...     0   \n",
       "2     AGGATGGTGAATACGAATGTT   1   0   0   0   0   0   0   0   0  ...     0   \n",
       "3     ACGCATTCTAAGTCTGGTGGG   1   0   0   0   0   0   0   0   0  ...     0   \n",
       "4     AGTGGGAAGCCTAGTGTTAGT   1   0   0   0   0   0   0   0   0  ...     0   \n",
       "...                     ...  ..  ..  ..  ..  ..  ..  ..  ..  ..  ...   ...   \n",
       "2296  CCGGCTTCGAGTGGGCGGTCT   0   1   0   0   0   0   0   0   0  ...     0   \n",
       "2297  TCTTCGCATATTTTTGGTGTT   0   0   0   0   0   0   0   0   0  ...     0   \n",
       "2298  GGTGTGTGTTTTTTGCTTTAT   0   0   0   0   0   1   0   0   0  ...     0   \n",
       "2299  CCGCAGAAGTGGCGGATTTAT   0   1   0   0   0   0   0   0   0  ...     0   \n",
       "2300  AATAATATTTTTGGTTGTTTT   1   0   0   0   0   0   0   0   0  ...     0   \n",
       "\n",
       "      x412  x413  x414  x415  x416  x417  x418  x419  Y--transduction  \n",
       "0        0     0     0     0     1     0     0     0       -11.920341  \n",
       "1        0     0     0     0     0     0     0     0       -11.811235  \n",
       "2        0     0     0     0     1     0     0     0       -11.808872  \n",
       "3        0     0     0     0     0     0     0     0       -11.796203  \n",
       "4        0     0     0     0     1     0     0     0       -11.778599  \n",
       "...    ...   ...   ...   ...   ...   ...   ...   ...              ...  \n",
       "2296     0     0     0     0     1     0     0     0         5.367261  \n",
       "2297     0     0     0     0     1     0     0     0         5.748775  \n",
       "2298     0     0     0     0     1     0     0     0         6.276683  \n",
       "2299     0     0     0     0     1     0     0     0         6.661751  \n",
       "2300     0     0     0     0     1     0     0     0         7.704007  \n",
       "\n",
       "[2301 rows x 422 columns]"
      ]
     },
     "execution_count": 16,
     "metadata": {},
     "output_type": "execute_result"
    }
   ],
   "source": [
    "train_df"
   ]
  },
  {
   "cell_type": "markdown",
   "metadata": {},
   "source": [
    "Now we split `train_df` into TensorFlow-compatible training and validation batches using\n",
    "`make_tf_batches()`. `unbatched_data` is a tuple of Numpy arrays corresponding to the X, Y\n",
    "and CV (if using) values across both the training and validation batches.\n"
   ]
  },
  {
   "cell_type": "code",
   "execution_count": 17,
   "metadata": {},
   "outputs": [],
   "source": [
    "X, Y = data_list\n",
    "train_batches, val_batches, unbatched_data = make_tf_batches(X, Y)"
   ]
  },
  {
   "cell_type": "markdown",
   "metadata": {},
   "source": [
    "#### VAE training\n",
    "\n",
    "Default parameterization (used in paper):\n",
    "\n",
    "- `input_dim = 140`\n",
    "- `latent_dim = 2`\n",
    "- `enc_hidden_dims = [100,40]`\n",
    "- `dec_hidden_dims = [40,100]`\n",
    "- `reg_hidden_dims = [100,10]`\n"
   ]
  },
  {
   "cell_type": "code",
   "execution_count": 18,
   "metadata": {},
   "outputs": [
    {
     "name": "stdout",
     "output_type": "stream",
     "text": [
      "Model: \"svae\"\n",
      "__________________________________________________________________________________________________\n",
      " Layer (type)                Output Shape                 Param #   Connected to                  \n",
      "==================================================================================================\n",
      " encoder_input (InputLayer)  [(None, 420)]                0         []                            \n",
      "                                                                                                  \n",
      " encoder (Functional)        [(None, 6),                  163872    ['encoder_input[0][0]',       \n",
      "                              (None, 6),                             'encoder_input[0][0]']       \n",
      "                              (None, 6)]                                                          \n",
      "                                                                                                  \n",
      " tf.concat_3 (TFOpLambda)    (None, 426)                  0         ['encoder[1][0]',             \n",
      "                                                                     'encoder_input[0][0]']       \n",
      "                                                                                                  \n",
      " decoder (Functional)        (None, 420)                  163560    ['encoder[0][2]']             \n",
      "                                                                                                  \n",
      " regressor (Functional)      (None, 1)                    146461    ['tf.concat_3[0][0]']         \n",
      "                                                                                                  \n",
      "==================================================================================================\n",
      "Total params: 473893 (1.81 MB)\n",
      "Trainable params: 473893 (1.81 MB)\n",
      "Non-trainable params: 0 (0.00 Byte)\n",
      "__________________________________________________________________________________________________\n"
     ]
    }
   ],
   "source": [
    "# SVAE parameters (same as default)\n",
    "input_dim = 420\n",
    "latent_dim = 2\n",
    "enc_hidden_dims = [300,120]\n",
    "dec_hidden_dims = [120,300]\n",
    "reg_hidden_dims = [300,30]\n",
    "\n",
    "# training parameters \n",
    "loss_weights = [1.0,0.8,1.5] # [reconstruction, KL, regression]\n",
    "\n",
    "initial_learning_rate = 5e-3\n",
    "optimizer = tf.keras.optimizers.Adam(initial_learning_rate)\n",
    "\n",
    "outpath = 'pretrain/vae/2nd_seq_nor_transduction'\n",
    "\n",
    "initial_learning_rate = 5e-3\n",
    "optimizer = tf.keras.optimizers.Adam(initial_learning_rate)\n",
    "\n",
    "# Initialize SVAE model (with default parameterizations)\n",
    "model = SVAE(input_dim=420, latent_dim=6, enc_hidden_dims=[300,120], dec_hidden_dims=[120,300], reg_hidden_dims=[300,30], name='svae')\n",
    "model.summary()"
   ]
  },
  {
   "cell_type": "markdown",
   "metadata": {},
   "source": [
    "The `train()` function returns the trained `model` and `preds_df`, a DataFrame of\n",
    "regressor predictions on the X values in `unbatched_data`, along with their latent space\n",
    "projections and their true Y values.\n",
    "\n",
    "`train()` saves the trained model, as well as a log of the training and validation loss\n",
    "values per epoch and `preds_df`, to disk. These saves will be made to an optional\n",
    "parameter `model_outdir` - if not specified, `train()` will make a new,\n",
    "informatively-named directory to write to (path is returned)."
   ]
  },
  {
   "cell_type": "code",
   "execution_count": 19,
   "metadata": {},
   "outputs": [
    {
     "name": "stdout",
     "output_type": "stream",
     "text": [
      "Logging following metrics: ['train_model_loss', 'train_reconstruction_loss', 'train_kl_loss', 'train_regression_loss', 'val_model_loss', 'val_reconstruction_loss', 'val_kl_loss', 'val_regression_loss']\n",
      "\n",
      "\n",
      "----- Beginning training. -----\n",
      "\n",
      "epoch 1\n",
      "1036/1036 [==============================] - 12s 12ms/step - train_model_loss: 36.2548 - train_reconstruction_loss: 27.2233 - train_kl_loss: 0.4594 - train_regression_loss: 5.7777 - val_model_loss: 31.3752 - val_reconstruction_loss: 23.3113 - val_kl_loss: 0.1968 - val_regression_loss: 5.2710\n",
      "WARNING:tensorflow:Compiled the loaded model, but the compiled metrics have yet to be built. `model.compile_metrics` will be empty until you train or evaluate the model.\n"
     ]
    },
    {
     "name": "stderr",
     "output_type": "stream",
     "text": [
      "WARNING:tensorflow:Compiled the loaded model, but the compiled metrics have yet to be built. `model.compile_metrics` will be empty until you train or evaluate the model.\n"
     ]
    },
    {
     "name": "stdout",
     "output_type": "stream",
     "text": [
      "INFO:tensorflow:Assets written to: pretrain/vae/2nd_seq_nor_transduction\\assets\n"
     ]
    },
    {
     "name": "stderr",
     "output_type": "stream",
     "text": [
      "INFO:tensorflow:Assets written to: pretrain/vae/2nd_seq_nor_transduction\\assets\n"
     ]
    },
    {
     "name": "stdout",
     "output_type": "stream",
     "text": [
      "Model saved to pretrain/vae/2nd_seq_nor_transduction.\n",
      "\n",
      "epoch 2\n",
      "1036/1036 [==============================] - 12s 12ms/step - train_model_loss: 31.4185 - train_reconstruction_loss: 23.1666 - train_kl_loss: 0.1713 - train_regression_loss: 5.4054 - val_model_loss: 30.3221 - val_reconstruction_loss: 22.9968 - val_kl_loss: 0.1728 - val_regression_loss: 4.7914\n",
      "WARNING:tensorflow:Compiled the loaded model, but the compiled metrics have yet to be built. `model.compile_metrics` will be empty until you train or evaluate the model.\n"
     ]
    },
    {
     "name": "stderr",
     "output_type": "stream",
     "text": [
      "WARNING:tensorflow:Compiled the loaded model, but the compiled metrics have yet to be built. `model.compile_metrics` will be empty until you train or evaluate the model.\n"
     ]
    },
    {
     "name": "stdout",
     "output_type": "stream",
     "text": [
      "INFO:tensorflow:Assets written to: pretrain/vae/2nd_seq_nor_transduction\\assets\n"
     ]
    },
    {
     "name": "stderr",
     "output_type": "stream",
     "text": [
      "INFO:tensorflow:Assets written to: pretrain/vae/2nd_seq_nor_transduction\\assets\n"
     ]
    },
    {
     "name": "stdout",
     "output_type": "stream",
     "text": [
      "Model saved to pretrain/vae/2nd_seq_nor_transduction.\n",
      "\n",
      "epoch 3\n",
      "1036/1036 [==============================] - 12s 12ms/step - train_model_loss: 31.0891 - train_reconstruction_loss: 22.7801 - train_kl_loss: 0.1911 - train_regression_loss: 5.4357 - val_model_loss: 31.6683 - val_reconstruction_loss: 22.6543 - val_kl_loss: 0.2082 - val_regression_loss: 5.8983\n",
      "WARNING:tensorflow:Compiled the loaded model, but the compiled metrics have yet to be built. `model.compile_metrics` will be empty until you train or evaluate the model.\n"
     ]
    },
    {
     "name": "stderr",
     "output_type": "stream",
     "text": [
      "WARNING:tensorflow:Compiled the loaded model, but the compiled metrics have yet to be built. `model.compile_metrics` will be empty until you train or evaluate the model.\n"
     ]
    },
    {
     "name": "stdout",
     "output_type": "stream",
     "text": [
      "INFO:tensorflow:Assets written to: pretrain/vae/2nd_seq_nor_transduction\\assets\n"
     ]
    },
    {
     "name": "stderr",
     "output_type": "stream",
     "text": [
      "INFO:tensorflow:Assets written to: pretrain/vae/2nd_seq_nor_transduction\\assets\n"
     ]
    },
    {
     "name": "stdout",
     "output_type": "stream",
     "text": [
      "Model saved to pretrain/vae/2nd_seq_nor_transduction.\n",
      "\n",
      "epoch 4\n",
      "1036/1036 [==============================] - 12s 12ms/step - train_model_loss: 30.6898 - train_reconstruction_loss: 22.4791 - train_kl_loss: 0.2422 - train_regression_loss: 5.3420 - val_model_loss: 31.7009 - val_reconstruction_loss: 22.4628 - val_kl_loss: 0.2381 - val_regression_loss: 6.0317\n",
      "WARNING:tensorflow:Compiled the loaded model, but the compiled metrics have yet to be built. `model.compile_metrics` will be empty until you train or evaluate the model.\n"
     ]
    },
    {
     "name": "stderr",
     "output_type": "stream",
     "text": [
      "WARNING:tensorflow:Compiled the loaded model, but the compiled metrics have yet to be built. `model.compile_metrics` will be empty until you train or evaluate the model.\n"
     ]
    },
    {
     "name": "stdout",
     "output_type": "stream",
     "text": [
      "INFO:tensorflow:Assets written to: pretrain/vae/2nd_seq_nor_transduction\\assets\n"
     ]
    },
    {
     "name": "stderr",
     "output_type": "stream",
     "text": [
      "INFO:tensorflow:Assets written to: pretrain/vae/2nd_seq_nor_transduction\\assets\n"
     ]
    },
    {
     "name": "stdout",
     "output_type": "stream",
     "text": [
      "Model saved to pretrain/vae/2nd_seq_nor_transduction.\n",
      "\n",
      "epoch 5\n",
      "1036/1036 [==============================] - 12s 12ms/step - train_model_loss: 30.4712 - train_reconstruction_loss: 22.3328 - train_kl_loss: 0.2595 - train_regression_loss: 5.2800 - val_model_loss: 29.0565 - val_reconstruction_loss: 22.2097 - val_kl_loss: 0.2588 - val_regression_loss: 4.4265\n",
      "WARNING:tensorflow:Compiled the loaded model, but the compiled metrics have yet to be built. `model.compile_metrics` will be empty until you train or evaluate the model.\n"
     ]
    },
    {
     "name": "stderr",
     "output_type": "stream",
     "text": [
      "WARNING:tensorflow:Compiled the loaded model, but the compiled metrics have yet to be built. `model.compile_metrics` will be empty until you train or evaluate the model.\n"
     ]
    },
    {
     "name": "stdout",
     "output_type": "stream",
     "text": [
      "INFO:tensorflow:Assets written to: pretrain/vae/2nd_seq_nor_transduction\\assets\n"
     ]
    },
    {
     "name": "stderr",
     "output_type": "stream",
     "text": [
      "INFO:tensorflow:Assets written to: pretrain/vae/2nd_seq_nor_transduction\\assets\n"
     ]
    },
    {
     "name": "stdout",
     "output_type": "stream",
     "text": [
      "Model saved to pretrain/vae/2nd_seq_nor_transduction.\n",
      "\n",
      "epoch 6\n",
      "1036/1036 [==============================] - 12s 12ms/step - train_model_loss: 30.2343 - train_reconstruction_loss: 22.0355 - train_kl_loss: 0.2988 - train_regression_loss: 5.3064 - val_model_loss: 28.8325 - val_reconstruction_loss: 21.6725 - val_kl_loss: 0.3217 - val_regression_loss: 4.6017\n",
      "WARNING:tensorflow:Compiled the loaded model, but the compiled metrics have yet to be built. `model.compile_metrics` will be empty until you train or evaluate the model.\n"
     ]
    },
    {
     "name": "stderr",
     "output_type": "stream",
     "text": [
      "WARNING:tensorflow:Compiled the loaded model, but the compiled metrics have yet to be built. `model.compile_metrics` will be empty until you train or evaluate the model.\n"
     ]
    },
    {
     "name": "stdout",
     "output_type": "stream",
     "text": [
      "INFO:tensorflow:Assets written to: pretrain/vae/2nd_seq_nor_transduction\\assets\n"
     ]
    },
    {
     "name": "stderr",
     "output_type": "stream",
     "text": [
      "INFO:tensorflow:Assets written to: pretrain/vae/2nd_seq_nor_transduction\\assets\n"
     ]
    },
    {
     "name": "stdout",
     "output_type": "stream",
     "text": [
      "Model saved to pretrain/vae/2nd_seq_nor_transduction.\n",
      "\n",
      "epoch 7\n",
      "1036/1036 [==============================] - 12s 12ms/step - train_model_loss: 29.9574 - train_reconstruction_loss: 21.7724 - train_kl_loss: 0.3319 - train_regression_loss: 5.2802 - val_model_loss: 29.4472 - val_reconstruction_loss: 22.1197 - val_kl_loss: 0.3076 - val_regression_loss: 4.7210\n",
      "WARNING:tensorflow:Compiled the loaded model, but the compiled metrics have yet to be built. `model.compile_metrics` will be empty until you train or evaluate the model.\n"
     ]
    },
    {
     "name": "stderr",
     "output_type": "stream",
     "text": [
      "WARNING:tensorflow:Compiled the loaded model, but the compiled metrics have yet to be built. `model.compile_metrics` will be empty until you train or evaluate the model.\n"
     ]
    },
    {
     "name": "stdout",
     "output_type": "stream",
     "text": [
      "INFO:tensorflow:Assets written to: pretrain/vae/2nd_seq_nor_transduction\\assets\n"
     ]
    },
    {
     "name": "stderr",
     "output_type": "stream",
     "text": [
      "INFO:tensorflow:Assets written to: pretrain/vae/2nd_seq_nor_transduction\\assets\n"
     ]
    },
    {
     "name": "stdout",
     "output_type": "stream",
     "text": [
      "Model saved to pretrain/vae/2nd_seq_nor_transduction.\n",
      "\n",
      "epoch 8\n",
      "1036/1036 [==============================] - 12s 12ms/step - train_model_loss: 29.2963 - train_reconstruction_loss: 21.7329 - train_kl_loss: 0.3438 - train_regression_loss: 4.8676 - val_model_loss: 30.7633 - val_reconstruction_loss: 21.6309 - val_kl_loss: 0.3322 - val_regression_loss: 5.9111\n",
      "WARNING:tensorflow:Compiled the loaded model, but the compiled metrics have yet to be built. `model.compile_metrics` will be empty until you train or evaluate the model.\n"
     ]
    },
    {
     "name": "stderr",
     "output_type": "stream",
     "text": [
      "WARNING:tensorflow:Compiled the loaded model, but the compiled metrics have yet to be built. `model.compile_metrics` will be empty until you train or evaluate the model.\n"
     ]
    },
    {
     "name": "stdout",
     "output_type": "stream",
     "text": [
      "INFO:tensorflow:Assets written to: pretrain/vae/2nd_seq_nor_transduction\\assets\n"
     ]
    },
    {
     "name": "stderr",
     "output_type": "stream",
     "text": [
      "INFO:tensorflow:Assets written to: pretrain/vae/2nd_seq_nor_transduction\\assets\n"
     ]
    },
    {
     "name": "stdout",
     "output_type": "stream",
     "text": [
      "Model saved to pretrain/vae/2nd_seq_nor_transduction.\n",
      "\n",
      "epoch 9\n",
      "1036/1036 [==============================] - 12s 12ms/step - train_model_loss: 30.0217 - train_reconstruction_loss: 21.6668 - train_kl_loss: 0.3403 - train_regression_loss: 5.3969 - val_model_loss: 30.2306 - val_reconstruction_loss: 21.4651 - val_kl_loss: 0.3495 - val_regression_loss: 5.6573\n",
      "WARNING:tensorflow:Compiled the loaded model, but the compiled metrics have yet to be built. `model.compile_metrics` will be empty until you train or evaluate the model.\n"
     ]
    },
    {
     "name": "stderr",
     "output_type": "stream",
     "text": [
      "WARNING:tensorflow:Compiled the loaded model, but the compiled metrics have yet to be built. `model.compile_metrics` will be empty until you train or evaluate the model.\n"
     ]
    },
    {
     "name": "stdout",
     "output_type": "stream",
     "text": [
      "INFO:tensorflow:Assets written to: pretrain/vae/2nd_seq_nor_transduction\\assets\n"
     ]
    },
    {
     "name": "stderr",
     "output_type": "stream",
     "text": [
      "INFO:tensorflow:Assets written to: pretrain/vae/2nd_seq_nor_transduction\\assets\n"
     ]
    },
    {
     "name": "stdout",
     "output_type": "stream",
     "text": [
      "Model saved to pretrain/vae/2nd_seq_nor_transduction.\n",
      "\n",
      "epoch 10\n",
      "1036/1036 [==============================] - 12s 12ms/step - train_model_loss: 29.6238 - train_reconstruction_loss: 21.6364 - train_kl_loss: 0.3495 - train_regression_loss: 5.1400 - val_model_loss: 30.4103 - val_reconstruction_loss: 21.3902 - val_kl_loss: 0.3452 - val_regression_loss: 5.8293\n",
      "WARNING:tensorflow:Compiled the loaded model, but the compiled metrics have yet to be built. `model.compile_metrics` will be empty until you train or evaluate the model.\n"
     ]
    },
    {
     "name": "stderr",
     "output_type": "stream",
     "text": [
      "WARNING:tensorflow:Compiled the loaded model, but the compiled metrics have yet to be built. `model.compile_metrics` will be empty until you train or evaluate the model.\n"
     ]
    },
    {
     "name": "stdout",
     "output_type": "stream",
     "text": [
      "INFO:tensorflow:Assets written to: pretrain/vae/2nd_seq_nor_transduction\\assets\n"
     ]
    },
    {
     "name": "stderr",
     "output_type": "stream",
     "text": [
      "INFO:tensorflow:Assets written to: pretrain/vae/2nd_seq_nor_transduction\\assets\n"
     ]
    },
    {
     "name": "stdout",
     "output_type": "stream",
     "text": [
      "Model saved to pretrain/vae/2nd_seq_nor_transduction.\n",
      "\n",
      "epoch 11\n",
      "1036/1036 [==============================] - 12s 12ms/step - train_model_loss: 29.3774 - train_reconstruction_loss: 21.6365 - train_kl_loss: 0.3456 - train_regression_loss: 4.9719 - val_model_loss: 29.6596 - val_reconstruction_loss: 21.3377 - val_kl_loss: 0.3555 - val_regression_loss: 5.3584\n",
      "WARNING:tensorflow:Compiled the loaded model, but the compiled metrics have yet to be built. `model.compile_metrics` will be empty until you train or evaluate the model.\n"
     ]
    },
    {
     "name": "stderr",
     "output_type": "stream",
     "text": [
      "WARNING:tensorflow:Compiled the loaded model, but the compiled metrics have yet to be built. `model.compile_metrics` will be empty until you train or evaluate the model.\n"
     ]
    },
    {
     "name": "stdout",
     "output_type": "stream",
     "text": [
      "INFO:tensorflow:Assets written to: pretrain/vae/2nd_seq_nor_transduction\\assets\n"
     ]
    },
    {
     "name": "stderr",
     "output_type": "stream",
     "text": [
      "INFO:tensorflow:Assets written to: pretrain/vae/2nd_seq_nor_transduction\\assets\n"
     ]
    },
    {
     "name": "stdout",
     "output_type": "stream",
     "text": [
      "Model saved to pretrain/vae/2nd_seq_nor_transduction.\n",
      "\n",
      "epoch 12\n",
      "1036/1036 [==============================] - 12s 12ms/step - train_model_loss: 29.6057 - train_reconstruction_loss: 21.6445 - train_kl_loss: 0.3409 - train_regression_loss: 5.1255 - val_model_loss: 30.0431 - val_reconstruction_loss: 21.7622 - val_kl_loss: 0.3297 - val_regression_loss: 5.3447\n",
      "WARNING:tensorflow:Compiled the loaded model, but the compiled metrics have yet to be built. `model.compile_metrics` will be empty until you train or evaluate the model.\n"
     ]
    },
    {
     "name": "stderr",
     "output_type": "stream",
     "text": [
      "WARNING:tensorflow:Compiled the loaded model, but the compiled metrics have yet to be built. `model.compile_metrics` will be empty until you train or evaluate the model.\n"
     ]
    },
    {
     "name": "stdout",
     "output_type": "stream",
     "text": [
      "INFO:tensorflow:Assets written to: pretrain/vae/2nd_seq_nor_transduction\\assets\n"
     ]
    },
    {
     "name": "stderr",
     "output_type": "stream",
     "text": [
      "INFO:tensorflow:Assets written to: pretrain/vae/2nd_seq_nor_transduction\\assets\n"
     ]
    },
    {
     "name": "stdout",
     "output_type": "stream",
     "text": [
      "Model saved to pretrain/vae/2nd_seq_nor_transduction.\n",
      "\n",
      "epoch 13\n",
      "1036/1036 [==============================] - 12s 12ms/step - train_model_loss: 29.5235 - train_reconstruction_loss: 21.5166 - train_kl_loss: 0.3533 - train_regression_loss: 5.1448 - val_model_loss: 27.2485 - val_reconstruction_loss: 21.3255 - val_kl_loss: 0.3562 - val_regression_loss: 3.7587\n",
      "WARNING:tensorflow:Compiled the loaded model, but the compiled metrics have yet to be built. `model.compile_metrics` will be empty until you train or evaluate the model.\n"
     ]
    },
    {
     "name": "stderr",
     "output_type": "stream",
     "text": [
      "WARNING:tensorflow:Compiled the loaded model, but the compiled metrics have yet to be built. `model.compile_metrics` will be empty until you train or evaluate the model.\n"
     ]
    },
    {
     "name": "stdout",
     "output_type": "stream",
     "text": [
      "INFO:tensorflow:Assets written to: pretrain/vae/2nd_seq_nor_transduction\\assets\n"
     ]
    },
    {
     "name": "stderr",
     "output_type": "stream",
     "text": [
      "INFO:tensorflow:Assets written to: pretrain/vae/2nd_seq_nor_transduction\\assets\n"
     ]
    },
    {
     "name": "stdout",
     "output_type": "stream",
     "text": [
      "Model saved to pretrain/vae/2nd_seq_nor_transduction.\n",
      "\n",
      "epoch 14\n",
      "1036/1036 [==============================] - 12s 12ms/step - train_model_loss: 28.5588 - train_reconstruction_loss: 21.3485 - train_kl_loss: 0.3788 - train_regression_loss: 4.6026 - val_model_loss: 28.6034 - val_reconstruction_loss: 21.4157 - val_kl_loss: 0.3678 - val_regression_loss: 4.5957\n",
      "WARNING:tensorflow:Compiled the loaded model, but the compiled metrics have yet to be built. `model.compile_metrics` will be empty until you train or evaluate the model.\n"
     ]
    },
    {
     "name": "stderr",
     "output_type": "stream",
     "text": [
      "WARNING:tensorflow:Compiled the loaded model, but the compiled metrics have yet to be built. `model.compile_metrics` will be empty until you train or evaluate the model.\n"
     ]
    },
    {
     "name": "stdout",
     "output_type": "stream",
     "text": [
      "INFO:tensorflow:Assets written to: pretrain/vae/2nd_seq_nor_transduction\\assets\n"
     ]
    },
    {
     "name": "stderr",
     "output_type": "stream",
     "text": [
      "INFO:tensorflow:Assets written to: pretrain/vae/2nd_seq_nor_transduction\\assets\n"
     ]
    },
    {
     "name": "stdout",
     "output_type": "stream",
     "text": [
      "Model saved to pretrain/vae/2nd_seq_nor_transduction.\n",
      "\n",
      "epoch 15\n",
      "1036/1036 [==============================] - 13s 12ms/step - train_model_loss: 29.7045 - train_reconstruction_loss: 21.5365 - train_kl_loss: 0.3592 - train_regression_loss: 5.2559 - val_model_loss: 28.7922 - val_reconstruction_loss: 21.5432 - val_kl_loss: 0.3370 - val_regression_loss: 4.6529\n",
      "WARNING:tensorflow:Compiled the loaded model, but the compiled metrics have yet to be built. `model.compile_metrics` will be empty until you train or evaluate the model.\n"
     ]
    },
    {
     "name": "stderr",
     "output_type": "stream",
     "text": [
      "WARNING:tensorflow:Compiled the loaded model, but the compiled metrics have yet to be built. `model.compile_metrics` will be empty until you train or evaluate the model.\n"
     ]
    },
    {
     "name": "stdout",
     "output_type": "stream",
     "text": [
      "INFO:tensorflow:Assets written to: pretrain/vae/2nd_seq_nor_transduction\\assets\n"
     ]
    },
    {
     "name": "stderr",
     "output_type": "stream",
     "text": [
      "INFO:tensorflow:Assets written to: pretrain/vae/2nd_seq_nor_transduction\\assets\n"
     ]
    },
    {
     "name": "stdout",
     "output_type": "stream",
     "text": [
      "Model saved to pretrain/vae/2nd_seq_nor_transduction.\n",
      "\n",
      "epoch 16\n",
      "1036/1036 [==============================] - 12s 12ms/step - train_model_loss: 29.3792 - train_reconstruction_loss: 21.3928 - train_kl_loss: 0.3764 - train_regression_loss: 5.1225 - val_model_loss: 27.8475 - val_reconstruction_loss: 21.2478 - val_kl_loss: 0.3880 - val_regression_loss: 4.1929\n",
      "WARNING:tensorflow:Compiled the loaded model, but the compiled metrics have yet to be built. `model.compile_metrics` will be empty until you train or evaluate the model.\n"
     ]
    },
    {
     "name": "stderr",
     "output_type": "stream",
     "text": [
      "WARNING:tensorflow:Compiled the loaded model, but the compiled metrics have yet to be built. `model.compile_metrics` will be empty until you train or evaluate the model.\n"
     ]
    },
    {
     "name": "stdout",
     "output_type": "stream",
     "text": [
      "INFO:tensorflow:Assets written to: pretrain/vae/2nd_seq_nor_transduction\\assets\n"
     ]
    },
    {
     "name": "stderr",
     "output_type": "stream",
     "text": [
      "INFO:tensorflow:Assets written to: pretrain/vae/2nd_seq_nor_transduction\\assets\n"
     ]
    },
    {
     "name": "stdout",
     "output_type": "stream",
     "text": [
      "Model saved to pretrain/vae/2nd_seq_nor_transduction.\n",
      "\n",
      "epoch 17\n",
      "1036/1036 [==============================] - 12s 12ms/step - train_model_loss: 29.1895 - train_reconstruction_loss: 21.4255 - train_kl_loss: 0.3725 - train_regression_loss: 4.9708 - val_model_loss: 28.4397 - val_reconstruction_loss: 21.2115 - val_kl_loss: 0.3676 - val_regression_loss: 4.6228\n",
      "WARNING:tensorflow:Compiled the loaded model, but the compiled metrics have yet to be built. `model.compile_metrics` will be empty until you train or evaluate the model.\n"
     ]
    },
    {
     "name": "stderr",
     "output_type": "stream",
     "text": [
      "WARNING:tensorflow:Compiled the loaded model, but the compiled metrics have yet to be built. `model.compile_metrics` will be empty until you train or evaluate the model.\n"
     ]
    },
    {
     "name": "stdout",
     "output_type": "stream",
     "text": [
      "INFO:tensorflow:Assets written to: pretrain/vae/2nd_seq_nor_transduction\\assets\n"
     ]
    },
    {
     "name": "stderr",
     "output_type": "stream",
     "text": [
      "INFO:tensorflow:Assets written to: pretrain/vae/2nd_seq_nor_transduction\\assets\n"
     ]
    },
    {
     "name": "stdout",
     "output_type": "stream",
     "text": [
      "Model saved to pretrain/vae/2nd_seq_nor_transduction.\n",
      "\n",
      "epoch 18\n",
      "1036/1036 [==============================] - 12s 12ms/step - train_model_loss: 29.2502 - train_reconstruction_loss: 21.2620 - train_kl_loss: 0.3795 - train_regression_loss: 5.1187 - val_model_loss: 28.0559 - val_reconstruction_loss: 21.2621 - val_kl_loss: 0.3878 - val_regression_loss: 4.3223\n",
      "WARNING:tensorflow:Compiled the loaded model, but the compiled metrics have yet to be built. `model.compile_metrics` will be empty until you train or evaluate the model.\n"
     ]
    },
    {
     "name": "stderr",
     "output_type": "stream",
     "text": [
      "WARNING:tensorflow:Compiled the loaded model, but the compiled metrics have yet to be built. `model.compile_metrics` will be empty until you train or evaluate the model.\n"
     ]
    },
    {
     "name": "stdout",
     "output_type": "stream",
     "text": [
      "INFO:tensorflow:Assets written to: pretrain/vae/2nd_seq_nor_transduction\\assets\n"
     ]
    },
    {
     "name": "stderr",
     "output_type": "stream",
     "text": [
      "INFO:tensorflow:Assets written to: pretrain/vae/2nd_seq_nor_transduction\\assets\n"
     ]
    },
    {
     "name": "stdout",
     "output_type": "stream",
     "text": [
      "Model saved to pretrain/vae/2nd_seq_nor_transduction.\n",
      "\n",
      "epoch 19\n",
      "1036/1036 [==============================] - 13s 13ms/step - train_model_loss: 29.2401 - train_reconstruction_loss: 21.2936 - train_kl_loss: 0.3841 - train_regression_loss: 5.0874 - val_model_loss: 29.0804 - val_reconstruction_loss: 21.4693 - val_kl_loss: 0.3610 - val_regression_loss: 4.8815\n",
      "WARNING:tensorflow:Compiled the loaded model, but the compiled metrics have yet to be built. `model.compile_metrics` will be empty until you train or evaluate the model.\n"
     ]
    },
    {
     "name": "stderr",
     "output_type": "stream",
     "text": [
      "WARNING:tensorflow:Compiled the loaded model, but the compiled metrics have yet to be built. `model.compile_metrics` will be empty until you train or evaluate the model.\n"
     ]
    },
    {
     "name": "stdout",
     "output_type": "stream",
     "text": [
      "INFO:tensorflow:Assets written to: pretrain/vae/2nd_seq_nor_transduction\\assets\n"
     ]
    },
    {
     "name": "stderr",
     "output_type": "stream",
     "text": [
      "INFO:tensorflow:Assets written to: pretrain/vae/2nd_seq_nor_transduction\\assets\n"
     ]
    },
    {
     "name": "stdout",
     "output_type": "stream",
     "text": [
      "Model saved to pretrain/vae/2nd_seq_nor_transduction.\n",
      "\n",
      "epoch 20\n",
      "1036/1036 [==============================] - 12s 12ms/step - train_model_loss: 28.7664 - train_reconstruction_loss: 21.2957 - train_kl_loss: 0.3876 - train_regression_loss: 4.7720 - val_model_loss: 28.2667 - val_reconstruction_loss: 20.9490 - val_kl_loss: 0.3964 - val_regression_loss: 4.6670\n",
      "WARNING:tensorflow:Compiled the loaded model, but the compiled metrics have yet to be built. `model.compile_metrics` will be empty until you train or evaluate the model.\n"
     ]
    },
    {
     "name": "stderr",
     "output_type": "stream",
     "text": [
      "WARNING:tensorflow:Compiled the loaded model, but the compiled metrics have yet to be built. `model.compile_metrics` will be empty until you train or evaluate the model.\n"
     ]
    },
    {
     "name": "stdout",
     "output_type": "stream",
     "text": [
      "INFO:tensorflow:Assets written to: pretrain/vae/2nd_seq_nor_transduction\\assets\n"
     ]
    },
    {
     "name": "stderr",
     "output_type": "stream",
     "text": [
      "INFO:tensorflow:Assets written to: pretrain/vae/2nd_seq_nor_transduction\\assets\n"
     ]
    },
    {
     "name": "stdout",
     "output_type": "stream",
     "text": [
      "Model saved to pretrain/vae/2nd_seq_nor_transduction.\n",
      "\n",
      "epoch 21\n",
      "1036/1036 [==============================] - 12s 12ms/step - train_model_loss: 28.8783 - train_reconstruction_loss: 21.1771 - train_kl_loss: 0.3951 - train_regression_loss: 4.9254 - val_model_loss: 27.8334 - val_reconstruction_loss: 20.9042 - val_kl_loss: 0.4168 - val_regression_loss: 4.3971\n",
      "WARNING:tensorflow:Compiled the loaded model, but the compiled metrics have yet to be built. `model.compile_metrics` will be empty until you train or evaluate the model.\n"
     ]
    },
    {
     "name": "stderr",
     "output_type": "stream",
     "text": [
      "WARNING:tensorflow:Compiled the loaded model, but the compiled metrics have yet to be built. `model.compile_metrics` will be empty until you train or evaluate the model.\n"
     ]
    },
    {
     "name": "stdout",
     "output_type": "stream",
     "text": [
      "INFO:tensorflow:Assets written to: pretrain/vae/2nd_seq_nor_transduction\\assets\n"
     ]
    },
    {
     "name": "stderr",
     "output_type": "stream",
     "text": [
      "INFO:tensorflow:Assets written to: pretrain/vae/2nd_seq_nor_transduction\\assets\n"
     ]
    },
    {
     "name": "stdout",
     "output_type": "stream",
     "text": [
      "Model saved to pretrain/vae/2nd_seq_nor_transduction.\n",
      "\n",
      "epoch 22\n",
      "1036/1036 [==============================] - 12s 12ms/step - train_model_loss: 28.6844 - train_reconstruction_loss: 21.1124 - train_kl_loss: 0.4127 - train_regression_loss: 4.8323 - val_model_loss: 29.2910 - val_reconstruction_loss: 21.1360 - val_kl_loss: 0.4188 - val_regression_loss: 5.2133\n",
      "WARNING:tensorflow:Compiled the loaded model, but the compiled metrics have yet to be built. `model.compile_metrics` will be empty until you train or evaluate the model.\n"
     ]
    },
    {
     "name": "stderr",
     "output_type": "stream",
     "text": [
      "WARNING:tensorflow:Compiled the loaded model, but the compiled metrics have yet to be built. `model.compile_metrics` will be empty until you train or evaluate the model.\n"
     ]
    },
    {
     "name": "stdout",
     "output_type": "stream",
     "text": [
      "INFO:tensorflow:Assets written to: pretrain/vae/2nd_seq_nor_transduction\\assets\n"
     ]
    },
    {
     "name": "stderr",
     "output_type": "stream",
     "text": [
      "INFO:tensorflow:Assets written to: pretrain/vae/2nd_seq_nor_transduction\\assets\n"
     ]
    },
    {
     "name": "stdout",
     "output_type": "stream",
     "text": [
      "Model saved to pretrain/vae/2nd_seq_nor_transduction.\n",
      "\n",
      "epoch 23\n",
      "1036/1036 [==============================] - 12s 12ms/step - train_model_loss: 28.2864 - train_reconstruction_loss: 21.0839 - train_kl_loss: 0.4132 - train_regression_loss: 4.5915 - val_model_loss: 27.1576 - val_reconstruction_loss: 21.1525 - val_kl_loss: 0.3909 - val_regression_loss: 3.7949\n",
      "WARNING:tensorflow:Compiled the loaded model, but the compiled metrics have yet to be built. `model.compile_metrics` will be empty until you train or evaluate the model.\n"
     ]
    },
    {
     "name": "stderr",
     "output_type": "stream",
     "text": [
      "WARNING:tensorflow:Compiled the loaded model, but the compiled metrics have yet to be built. `model.compile_metrics` will be empty until you train or evaluate the model.\n"
     ]
    },
    {
     "name": "stdout",
     "output_type": "stream",
     "text": [
      "INFO:tensorflow:Assets written to: pretrain/vae/2nd_seq_nor_transduction\\assets\n"
     ]
    },
    {
     "name": "stderr",
     "output_type": "stream",
     "text": [
      "INFO:tensorflow:Assets written to: pretrain/vae/2nd_seq_nor_transduction\\assets\n"
     ]
    },
    {
     "name": "stdout",
     "output_type": "stream",
     "text": [
      "Model saved to pretrain/vae/2nd_seq_nor_transduction.\n",
      "\n",
      "epoch 24\n",
      "1036/1036 [==============================] - 13s 12ms/step - train_model_loss: 28.8201 - train_reconstruction_loss: 21.1520 - train_kl_loss: 0.4038 - train_regression_loss: 4.8984 - val_model_loss: 28.5196 - val_reconstruction_loss: 21.2620 - val_kl_loss: 0.3705 - val_regression_loss: 4.6408\n",
      "WARNING:tensorflow:Compiled the loaded model, but the compiled metrics have yet to be built. `model.compile_metrics` will be empty until you train or evaluate the model.\n"
     ]
    },
    {
     "name": "stderr",
     "output_type": "stream",
     "text": [
      "WARNING:tensorflow:Compiled the loaded model, but the compiled metrics have yet to be built. `model.compile_metrics` will be empty until you train or evaluate the model.\n"
     ]
    },
    {
     "name": "stdout",
     "output_type": "stream",
     "text": [
      "INFO:tensorflow:Assets written to: pretrain/vae/2nd_seq_nor_transduction\\assets\n"
     ]
    },
    {
     "name": "stderr",
     "output_type": "stream",
     "text": [
      "INFO:tensorflow:Assets written to: pretrain/vae/2nd_seq_nor_transduction\\assets\n"
     ]
    },
    {
     "name": "stdout",
     "output_type": "stream",
     "text": [
      "Model saved to pretrain/vae/2nd_seq_nor_transduction.\n",
      "\n",
      "epoch 25\n",
      "1036/1036 [==============================] - 13s 12ms/step - train_model_loss: 28.2420 - train_reconstruction_loss: 21.1640 - train_kl_loss: 0.4100 - train_regression_loss: 4.4949 - val_model_loss: 28.4618 - val_reconstruction_loss: 20.8095 - val_kl_loss: 0.4428 - val_regression_loss: 4.8654\n",
      "WARNING:tensorflow:Compiled the loaded model, but the compiled metrics have yet to be built. `model.compile_metrics` will be empty until you train or evaluate the model.\n"
     ]
    },
    {
     "name": "stderr",
     "output_type": "stream",
     "text": [
      "WARNING:tensorflow:Compiled the loaded model, but the compiled metrics have yet to be built. `model.compile_metrics` will be empty until you train or evaluate the model.\n"
     ]
    },
    {
     "name": "stdout",
     "output_type": "stream",
     "text": [
      "INFO:tensorflow:Assets written to: pretrain/vae/2nd_seq_nor_transduction\\assets\n"
     ]
    },
    {
     "name": "stderr",
     "output_type": "stream",
     "text": [
      "INFO:tensorflow:Assets written to: pretrain/vae/2nd_seq_nor_transduction\\assets\n"
     ]
    },
    {
     "name": "stdout",
     "output_type": "stream",
     "text": [
      "Model saved to pretrain/vae/2nd_seq_nor_transduction.\n",
      "\n",
      "epoch 26\n",
      "1036/1036 [==============================] - 12s 12ms/step - train_model_loss: 28.3527 - train_reconstruction_loss: 21.0709 - train_kl_loss: 0.4096 - train_regression_loss: 4.6322 - val_model_loss: 27.9411 - val_reconstruction_loss: 20.9111 - val_kl_loss: 0.4342 - val_regression_loss: 4.4551\n",
      "WARNING:tensorflow:Compiled the loaded model, but the compiled metrics have yet to be built. `model.compile_metrics` will be empty until you train or evaluate the model.\n"
     ]
    },
    {
     "name": "stderr",
     "output_type": "stream",
     "text": [
      "WARNING:tensorflow:Compiled the loaded model, but the compiled metrics have yet to be built. `model.compile_metrics` will be empty until you train or evaluate the model.\n"
     ]
    },
    {
     "name": "stdout",
     "output_type": "stream",
     "text": [
      "INFO:tensorflow:Assets written to: pretrain/vae/2nd_seq_nor_transduction\\assets\n"
     ]
    },
    {
     "name": "stderr",
     "output_type": "stream",
     "text": [
      "INFO:tensorflow:Assets written to: pretrain/vae/2nd_seq_nor_transduction\\assets\n"
     ]
    },
    {
     "name": "stdout",
     "output_type": "stream",
     "text": [
      "Model saved to pretrain/vae/2nd_seq_nor_transduction.\n",
      "\n",
      "epoch 27\n",
      "1036/1036 [==============================] - 12s 12ms/step - train_model_loss: 28.3168 - train_reconstruction_loss: 21.0509 - train_kl_loss: 0.4197 - train_regression_loss: 4.6156 - val_model_loss: 27.6867 - val_reconstruction_loss: 20.8708 - val_kl_loss: 0.4451 - val_regression_loss: 4.3066\n",
      "WARNING:tensorflow:Compiled the loaded model, but the compiled metrics have yet to be built. `model.compile_metrics` will be empty until you train or evaluate the model.\n"
     ]
    },
    {
     "name": "stderr",
     "output_type": "stream",
     "text": [
      "WARNING:tensorflow:Compiled the loaded model, but the compiled metrics have yet to be built. `model.compile_metrics` will be empty until you train or evaluate the model.\n"
     ]
    },
    {
     "name": "stdout",
     "output_type": "stream",
     "text": [
      "INFO:tensorflow:Assets written to: pretrain/vae/2nd_seq_nor_transduction\\assets\n"
     ]
    },
    {
     "name": "stderr",
     "output_type": "stream",
     "text": [
      "INFO:tensorflow:Assets written to: pretrain/vae/2nd_seq_nor_transduction\\assets\n"
     ]
    },
    {
     "name": "stdout",
     "output_type": "stream",
     "text": [
      "Model saved to pretrain/vae/2nd_seq_nor_transduction.\n",
      "\n",
      "epoch 28\n",
      "1036/1036 [==============================] - 12s 12ms/step - train_model_loss: 28.1678 - train_reconstruction_loss: 21.0668 - train_kl_loss: 0.4142 - train_regression_loss: 4.5123 - val_model_loss: 27.8013 - val_reconstruction_loss: 20.7840 - val_kl_loss: 0.4466 - val_regression_loss: 4.4400\n",
      "WARNING:tensorflow:Compiled the loaded model, but the compiled metrics have yet to be built. `model.compile_metrics` will be empty until you train or evaluate the model.\n"
     ]
    },
    {
     "name": "stderr",
     "output_type": "stream",
     "text": [
      "WARNING:tensorflow:Compiled the loaded model, but the compiled metrics have yet to be built. `model.compile_metrics` will be empty until you train or evaluate the model.\n"
     ]
    },
    {
     "name": "stdout",
     "output_type": "stream",
     "text": [
      "INFO:tensorflow:Assets written to: pretrain/vae/2nd_seq_nor_transduction\\assets\n"
     ]
    },
    {
     "name": "stderr",
     "output_type": "stream",
     "text": [
      "INFO:tensorflow:Assets written to: pretrain/vae/2nd_seq_nor_transduction\\assets\n"
     ]
    },
    {
     "name": "stdout",
     "output_type": "stream",
     "text": [
      "Model saved to pretrain/vae/2nd_seq_nor_transduction.\n",
      "\n",
      "epoch 29\n",
      "1036/1036 [==============================] - 13s 12ms/step - train_model_loss: 28.2538 - train_reconstruction_loss: 20.9158 - train_kl_loss: 0.4279 - train_regression_loss: 4.6605 - val_model_loss: 27.5092 - val_reconstruction_loss: 20.8366 - val_kl_loss: 0.4247 - val_regression_loss: 4.2219\n",
      "WARNING:tensorflow:Compiled the loaded model, but the compiled metrics have yet to be built. `model.compile_metrics` will be empty until you train or evaluate the model.\n"
     ]
    },
    {
     "name": "stderr",
     "output_type": "stream",
     "text": [
      "WARNING:tensorflow:Compiled the loaded model, but the compiled metrics have yet to be built. `model.compile_metrics` will be empty until you train or evaluate the model.\n"
     ]
    },
    {
     "name": "stdout",
     "output_type": "stream",
     "text": [
      "INFO:tensorflow:Assets written to: pretrain/vae/2nd_seq_nor_transduction\\assets\n"
     ]
    },
    {
     "name": "stderr",
     "output_type": "stream",
     "text": [
      "INFO:tensorflow:Assets written to: pretrain/vae/2nd_seq_nor_transduction\\assets\n"
     ]
    },
    {
     "name": "stdout",
     "output_type": "stream",
     "text": [
      "Model saved to pretrain/vae/2nd_seq_nor_transduction.\n",
      "\n",
      "epoch 30\n",
      "1036/1036 [==============================] - 12s 12ms/step - train_model_loss: 28.3467 - train_reconstruction_loss: 21.0681 - train_kl_loss: 0.4133 - train_regression_loss: 4.6282 - val_model_loss: 27.8316 - val_reconstruction_loss: 21.0390 - val_kl_loss: 0.4095 - val_regression_loss: 4.3100\n",
      "WARNING:tensorflow:Compiled the loaded model, but the compiled metrics have yet to be built. `model.compile_metrics` will be empty until you train or evaluate the model.\n"
     ]
    },
    {
     "name": "stderr",
     "output_type": "stream",
     "text": [
      "WARNING:tensorflow:Compiled the loaded model, but the compiled metrics have yet to be built. `model.compile_metrics` will be empty until you train or evaluate the model.\n"
     ]
    },
    {
     "name": "stdout",
     "output_type": "stream",
     "text": [
      "INFO:tensorflow:Assets written to: pretrain/vae/2nd_seq_nor_transduction\\assets\n"
     ]
    },
    {
     "name": "stderr",
     "output_type": "stream",
     "text": [
      "INFO:tensorflow:Assets written to: pretrain/vae/2nd_seq_nor_transduction\\assets\n"
     ]
    },
    {
     "name": "stdout",
     "output_type": "stream",
     "text": [
      "Model saved to pretrain/vae/2nd_seq_nor_transduction.\n",
      "Convergence history: [0]\n",
      "\n",
      "epoch 31\n",
      "1036/1036 [==============================] - 12s 12ms/step - train_model_loss: 28.2656 - train_reconstruction_loss: 20.9585 - train_kl_loss: 0.4247 - train_regression_loss: 4.6400 - val_model_loss: 28.3268 - val_reconstruction_loss: 20.6293 - val_kl_loss: 0.4792 - val_regression_loss: 4.8761\n",
      "WARNING:tensorflow:Compiled the loaded model, but the compiled metrics have yet to be built. `model.compile_metrics` will be empty until you train or evaluate the model.\n"
     ]
    },
    {
     "name": "stderr",
     "output_type": "stream",
     "text": [
      "WARNING:tensorflow:Compiled the loaded model, but the compiled metrics have yet to be built. `model.compile_metrics` will be empty until you train or evaluate the model.\n"
     ]
    },
    {
     "name": "stdout",
     "output_type": "stream",
     "text": [
      "INFO:tensorflow:Assets written to: pretrain/vae/2nd_seq_nor_transduction\\assets\n"
     ]
    },
    {
     "name": "stderr",
     "output_type": "stream",
     "text": [
      "INFO:tensorflow:Assets written to: pretrain/vae/2nd_seq_nor_transduction\\assets\n"
     ]
    },
    {
     "name": "stdout",
     "output_type": "stream",
     "text": [
      "Model saved to pretrain/vae/2nd_seq_nor_transduction.\n",
      "Convergence history: [0, 0]\n",
      "\n",
      "epoch 32\n",
      "1036/1036 [==============================] - 12s 12ms/step - train_model_loss: 27.7182 - train_reconstruction_loss: 20.8258 - train_kl_loss: 0.4466 - train_regression_loss: 4.3538 - val_model_loss: 27.2349 - val_reconstruction_loss: 20.7415 - val_kl_loss: 0.4285 - val_regression_loss: 4.1004\n",
      "WARNING:tensorflow:Compiled the loaded model, but the compiled metrics have yet to be built. `model.compile_metrics` will be empty until you train or evaluate the model.\n"
     ]
    },
    {
     "name": "stderr",
     "output_type": "stream",
     "text": [
      "WARNING:tensorflow:Compiled the loaded model, but the compiled metrics have yet to be built. `model.compile_metrics` will be empty until you train or evaluate the model.\n"
     ]
    },
    {
     "name": "stdout",
     "output_type": "stream",
     "text": [
      "INFO:tensorflow:Assets written to: pretrain/vae/2nd_seq_nor_transduction\\assets\n"
     ]
    },
    {
     "name": "stderr",
     "output_type": "stream",
     "text": [
      "INFO:tensorflow:Assets written to: pretrain/vae/2nd_seq_nor_transduction\\assets\n"
     ]
    },
    {
     "name": "stdout",
     "output_type": "stream",
     "text": [
      "Model saved to pretrain/vae/2nd_seq_nor_transduction.\n",
      "Convergence history: [0, 0, 0]\n",
      "\n",
      "epoch 33\n",
      "1036/1036 [==============================] - 12s 12ms/step - train_model_loss: 27.5456 - train_reconstruction_loss: 20.7584 - train_kl_loss: 0.4399 - train_regression_loss: 4.2874 - val_model_loss: 27.5941 - val_reconstruction_loss: 20.7300 - val_kl_loss: 0.4591 - val_regression_loss: 4.3312\n",
      "WARNING:tensorflow:Compiled the loaded model, but the compiled metrics have yet to be built. `model.compile_metrics` will be empty until you train or evaluate the model.\n"
     ]
    },
    {
     "name": "stderr",
     "output_type": "stream",
     "text": [
      "WARNING:tensorflow:Compiled the loaded model, but the compiled metrics have yet to be built. `model.compile_metrics` will be empty until you train or evaluate the model.\n"
     ]
    },
    {
     "name": "stdout",
     "output_type": "stream",
     "text": [
      "INFO:tensorflow:Assets written to: pretrain/vae/2nd_seq_nor_transduction\\assets\n"
     ]
    },
    {
     "name": "stderr",
     "output_type": "stream",
     "text": [
      "INFO:tensorflow:Assets written to: pretrain/vae/2nd_seq_nor_transduction\\assets\n"
     ]
    },
    {
     "name": "stdout",
     "output_type": "stream",
     "text": [
      "Model saved to pretrain/vae/2nd_seq_nor_transduction.\n",
      "Convergence history: [0, 0, 0, 1]\n",
      "\n",
      "epoch 34\n",
      "1036/1036 [==============================] - 12s 12ms/step - train_model_loss: 28.1106 - train_reconstruction_loss: 20.8647 - train_kl_loss: 0.4455 - train_regression_loss: 4.5881 - val_model_loss: 28.5749 - val_reconstruction_loss: 20.6960 - val_kl_loss: 0.4626 - val_regression_loss: 5.0058\n",
      "WARNING:tensorflow:Compiled the loaded model, but the compiled metrics have yet to be built. `model.compile_metrics` will be empty until you train or evaluate the model.\n"
     ]
    },
    {
     "name": "stderr",
     "output_type": "stream",
     "text": [
      "WARNING:tensorflow:Compiled the loaded model, but the compiled metrics have yet to be built. `model.compile_metrics` will be empty until you train or evaluate the model.\n"
     ]
    },
    {
     "name": "stdout",
     "output_type": "stream",
     "text": [
      "INFO:tensorflow:Assets written to: pretrain/vae/2nd_seq_nor_transduction\\assets\n"
     ]
    },
    {
     "name": "stderr",
     "output_type": "stream",
     "text": [
      "INFO:tensorflow:Assets written to: pretrain/vae/2nd_seq_nor_transduction\\assets\n"
     ]
    },
    {
     "name": "stdout",
     "output_type": "stream",
     "text": [
      "Model saved to pretrain/vae/2nd_seq_nor_transduction.\n",
      "Convergence history: [0, 0, 0, 1, 0]\n",
      "\n",
      "epoch 35\n",
      "1036/1036 [==============================] - 12s 12ms/step - train_model_loss: 27.3003 - train_reconstruction_loss: 20.6981 - train_kl_loss: 0.4586 - train_regression_loss: 4.1564 - val_model_loss: 28.6904 - val_reconstruction_loss: 20.5542 - val_kl_loss: 0.4634 - val_regression_loss: 5.1770\n",
      "WARNING:tensorflow:Compiled the loaded model, but the compiled metrics have yet to be built. `model.compile_metrics` will be empty until you train or evaluate the model.\n"
     ]
    },
    {
     "name": "stderr",
     "output_type": "stream",
     "text": [
      "WARNING:tensorflow:Compiled the loaded model, but the compiled metrics have yet to be built. `model.compile_metrics` will be empty until you train or evaluate the model.\n"
     ]
    },
    {
     "name": "stdout",
     "output_type": "stream",
     "text": [
      "INFO:tensorflow:Assets written to: pretrain/vae/2nd_seq_nor_transduction\\assets\n"
     ]
    },
    {
     "name": "stderr",
     "output_type": "stream",
     "text": [
      "INFO:tensorflow:Assets written to: pretrain/vae/2nd_seq_nor_transduction\\assets\n"
     ]
    },
    {
     "name": "stdout",
     "output_type": "stream",
     "text": [
      "Model saved to pretrain/vae/2nd_seq_nor_transduction.\n",
      "Convergence history: [0, 0, 0, 1, 0, 0]\n",
      "\n",
      "epoch 36\n",
      "1036/1036 [==============================] - 12s 12ms/step - train_model_loss: 27.7926 - train_reconstruction_loss: 20.7444 - train_kl_loss: 0.4595 - train_regression_loss: 4.4502 - val_model_loss: 27.3515 - val_reconstruction_loss: 20.3363 - val_kl_loss: 0.4856 - val_regression_loss: 4.4178\n",
      "WARNING:tensorflow:Compiled the loaded model, but the compiled metrics have yet to be built. `model.compile_metrics` will be empty until you train or evaluate the model.\n"
     ]
    },
    {
     "name": "stderr",
     "output_type": "stream",
     "text": [
      "WARNING:tensorflow:Compiled the loaded model, but the compiled metrics have yet to be built. `model.compile_metrics` will be empty until you train or evaluate the model.\n"
     ]
    },
    {
     "name": "stdout",
     "output_type": "stream",
     "text": [
      "INFO:tensorflow:Assets written to: pretrain/vae/2nd_seq_nor_transduction\\assets\n"
     ]
    },
    {
     "name": "stderr",
     "output_type": "stream",
     "text": [
      "INFO:tensorflow:Assets written to: pretrain/vae/2nd_seq_nor_transduction\\assets\n"
     ]
    },
    {
     "name": "stdout",
     "output_type": "stream",
     "text": [
      "Model saved to pretrain/vae/2nd_seq_nor_transduction.\n",
      "Convergence history: [0, 0, 0, 1, 0, 0, 0]\n",
      "\n",
      "epoch 37\n",
      "1036/1036 [==============================] - 13s 12ms/step - train_model_loss: 27.3557 - train_reconstruction_loss: 20.7071 - train_kl_loss: 0.4658 - train_regression_loss: 4.1781 - val_model_loss: 26.8641 - val_reconstruction_loss: 20.5789 - val_kl_loss: 0.4731 - val_regression_loss: 3.9378\n",
      "WARNING:tensorflow:Compiled the loaded model, but the compiled metrics have yet to be built. `model.compile_metrics` will be empty until you train or evaluate the model.\n"
     ]
    },
    {
     "name": "stderr",
     "output_type": "stream",
     "text": [
      "WARNING:tensorflow:Compiled the loaded model, but the compiled metrics have yet to be built. `model.compile_metrics` will be empty until you train or evaluate the model.\n"
     ]
    },
    {
     "name": "stdout",
     "output_type": "stream",
     "text": [
      "INFO:tensorflow:Assets written to: pretrain/vae/2nd_seq_nor_transduction\\assets\n"
     ]
    },
    {
     "name": "stderr",
     "output_type": "stream",
     "text": [
      "INFO:tensorflow:Assets written to: pretrain/vae/2nd_seq_nor_transduction\\assets\n"
     ]
    },
    {
     "name": "stdout",
     "output_type": "stream",
     "text": [
      "Model saved to pretrain/vae/2nd_seq_nor_transduction.\n",
      "Convergence history: [0, 0, 0, 1, 0, 0, 0, 0]\n",
      "\n",
      "epoch 38\n",
      "1036/1036 [==============================] - 13s 12ms/step - train_model_loss: 27.2533 - train_reconstruction_loss: 20.6164 - train_kl_loss: 0.4781 - train_regression_loss: 4.1796 - val_model_loss: 27.8243 - val_reconstruction_loss: 20.7016 - val_kl_loss: 0.4739 - val_regression_loss: 4.4957\n",
      "WARNING:tensorflow:Compiled the loaded model, but the compiled metrics have yet to be built. `model.compile_metrics` will be empty until you train or evaluate the model.\n"
     ]
    },
    {
     "name": "stderr",
     "output_type": "stream",
     "text": [
      "WARNING:tensorflow:Compiled the loaded model, but the compiled metrics have yet to be built. `model.compile_metrics` will be empty until you train or evaluate the model.\n"
     ]
    },
    {
     "name": "stdout",
     "output_type": "stream",
     "text": [
      "INFO:tensorflow:Assets written to: pretrain/vae/2nd_seq_nor_transduction\\assets\n"
     ]
    },
    {
     "name": "stderr",
     "output_type": "stream",
     "text": [
      "INFO:tensorflow:Assets written to: pretrain/vae/2nd_seq_nor_transduction\\assets\n"
     ]
    },
    {
     "name": "stdout",
     "output_type": "stream",
     "text": [
      "Model saved to pretrain/vae/2nd_seq_nor_transduction.\n",
      "Convergence history: [0, 0, 0, 1, 0, 0, 0, 0, 0]\n",
      "\n",
      "epoch 39\n",
      "1036/1036 [==============================] - 13s 12ms/step - train_model_loss: 27.4929 - train_reconstruction_loss: 20.6755 - train_kl_loss: 0.4753 - train_regression_loss: 4.2974 - val_model_loss: 26.6513 - val_reconstruction_loss: 20.5259 - val_kl_loss: 0.4920 - val_regression_loss: 3.8211\n",
      "WARNING:tensorflow:Compiled the loaded model, but the compiled metrics have yet to be built. `model.compile_metrics` will be empty until you train or evaluate the model.\n"
     ]
    },
    {
     "name": "stderr",
     "output_type": "stream",
     "text": [
      "WARNING:tensorflow:Compiled the loaded model, but the compiled metrics have yet to be built. `model.compile_metrics` will be empty until you train or evaluate the model.\n"
     ]
    },
    {
     "name": "stdout",
     "output_type": "stream",
     "text": [
      "INFO:tensorflow:Assets written to: pretrain/vae/2nd_seq_nor_transduction\\assets\n"
     ]
    },
    {
     "name": "stderr",
     "output_type": "stream",
     "text": [
      "INFO:tensorflow:Assets written to: pretrain/vae/2nd_seq_nor_transduction\\assets\n"
     ]
    },
    {
     "name": "stdout",
     "output_type": "stream",
     "text": [
      "Model saved to pretrain/vae/2nd_seq_nor_transduction.\n",
      "Convergence history: [0, 0, 0, 1, 0, 0, 0, 0, 0, 0]\n",
      "\n",
      "epoch 40\n",
      "1036/1036 [==============================] - 12s 12ms/step - train_model_loss: 27.1498 - train_reconstruction_loss: 20.7149 - train_kl_loss: 0.4747 - train_regression_loss: 4.0309 - val_model_loss: 26.8981 - val_reconstruction_loss: 20.5286 - val_kl_loss: 0.4531 - val_regression_loss: 4.0047\n",
      "WARNING:tensorflow:Compiled the loaded model, but the compiled metrics have yet to be built. `model.compile_metrics` will be empty until you train or evaluate the model.\n"
     ]
    },
    {
     "name": "stderr",
     "output_type": "stream",
     "text": [
      "WARNING:tensorflow:Compiled the loaded model, but the compiled metrics have yet to be built. `model.compile_metrics` will be empty until you train or evaluate the model.\n"
     ]
    },
    {
     "name": "stdout",
     "output_type": "stream",
     "text": [
      "INFO:tensorflow:Assets written to: pretrain/vae/2nd_seq_nor_transduction\\assets\n"
     ]
    },
    {
     "name": "stderr",
     "output_type": "stream",
     "text": [
      "INFO:tensorflow:Assets written to: pretrain/vae/2nd_seq_nor_transduction\\assets\n"
     ]
    },
    {
     "name": "stdout",
     "output_type": "stream",
     "text": [
      "Model saved to pretrain/vae/2nd_seq_nor_transduction.\n",
      "Hit maximum epochs.\n",
      "Finished training model. Final overall losses:\n",
      "train: 27.150    val:26.898\n",
      "72/72 [==============================] - 0s 1ms/step\n",
      "72/72 [==============================] - 0s 694us/step\n",
      "\n",
      "MSE of predictions vs true labels: 4.2723236083984375\n",
      "WARNING:tensorflow:Compiled the loaded model, but the compiled metrics have yet to be built. `model.compile_metrics` will be empty until you train or evaluate the model.\n"
     ]
    },
    {
     "name": "stderr",
     "output_type": "stream",
     "text": [
      "WARNING:tensorflow:Compiled the loaded model, but the compiled metrics have yet to be built. `model.compile_metrics` will be empty until you train or evaluate the model.\n"
     ]
    },
    {
     "name": "stdout",
     "output_type": "stream",
     "text": [
      "INFO:tensorflow:Assets written to: e:\\Elite\\Now_repority\\20240220\\trained_models\\2024420_transduction_6D_40epochs_27.15T_26.90V\\model\\assets\n"
     ]
    },
    {
     "name": "stderr",
     "output_type": "stream",
     "text": [
      "INFO:tensorflow:Assets written to: e:\\Elite\\Now_repority\\20240220\\trained_models\\2024420_transduction_6D_40epochs_27.15T_26.90V\\model\\assets\n"
     ]
    },
    {
     "name": "stdout",
     "output_type": "stream",
     "text": [
      "Model saved to e:\\Elite\\Now_repority\\20240220\\trained_models\\2024420_transduction_6D_40epochs_27.15T_26.90V\\model.\n",
      "Losses saved to e:\\Elite\\Now_repority\\20240220\\trained_models\\2024420_transduction_6D_40epochs_27.15T_26.90V\\loss_log.csv.\n",
      "Train predictions saved to e:\\Elite\\Now_repority\\20240220\\trained_models\\2024420_transduction_6D_40epochs_27.15T_26.90V\\preds.csv.\n"
     ]
    }
   ],
   "source": [
    "# Train model\n",
    "model, preds_df, model_outdir = train_new(model, train_batches, val_batches, array,outpath,train_df, \n",
    "                        optimizer=optimizer,\n",
    "                        loss_weights=loss_weights           \n",
    "                        )\n"
   ]
  },
  {
   "cell_type": "markdown",
   "metadata": {},
   "source": [
    "####  Correlation between result and prediction "
   ]
  },
  {
   "cell_type": "code",
   "execution_count": 20,
   "metadata": {},
   "outputs": [
    {
     "name": "stderr",
     "output_type": "stream",
     "text": [
      "d:\\ProgramData\\anaconda3\\envs\\tf\\lib\\site-packages\\numpy\\lib\\histograms.py:906: RuntimeWarning: invalid value encountered in divide\n",
      "  return n/db/n.sum(), bin_edges\n"
     ]
    },
    {
     "data": {
      "image/png": "[encoded data removed]",
      "text/plain": [
       "<Figure size 210x195 with 4 Axes>"
      ]
     },
     "metadata": {},
     "output_type": "display_data"
    }
   ],
   "source": [
    "x = preds_df['y_pred']\n",
    "y = preds_df['y_true']\n",
    "\n",
    "remove = np.isinf(x) & np.isinf(y)\n",
    "x = x[~remove]\n",
    "y = y[~remove]\n",
    "\n",
    "keep = (~np.isinf(x)) & (~np.isinf(y))\n",
    "x_both = x[keep]\n",
    "y_both = y[keep]\n",
    "\n",
    "y_missing = y[np.isinf(x)]\n",
    "x_missing = x[np.isinf(y)]\n",
    "\n",
    "\n",
    "kernel = gaussian_kde(np.vstack([\n",
    "    x_both.sample(n=10, random_state=1), \n",
    "    y_both.sample(n=10, random_state=1)\n",
    "]))\n",
    "c_both = kernel(np.vstack([x_both.values, y_both.values]))\n",
    "\n",
    "\n",
    "fig = plt.figure(figsize=(1.4,1.3), dpi=150)\n",
    "\n",
    "gs = fig.add_gridspec(2, 2, left=0.275, right=0.95, bottom=0.22, top=0.95, \n",
    "                      width_ratios=[1, 6], height_ratios=[6, 1], hspace=0., wspace=0)\n",
    "ax = fig.add_subplot(gs[0, 1])\n",
    "ax.scatter(x_both, y_both, c=c_both, cmap=mpl.cm.inferno, s=0.2, edgecolor='none', rasterized=True)\n",
    "ax.set_xticks([]); ax.set_yticks([])\n",
    "xlim = [-11, 12]\n",
    "bins = np.linspace(*xlim, 25)\n",
    "ax.set_xlim(xlim); ax.set_ylim(xlim)\n",
    "ax.text(0.03, 0.97, r'$r$ = {:.2f}'.format(np.corrcoef(x_both, y_both)[0, 1]),\n",
    "       transform=ax.transAxes, ha='left', va='top', fontsize=7)\n",
    "\n",
    "ax.text(0.97, 0.01, 'n={}'.format(si_format(len(x_both)), precision=2, format_str='{value}{prefix}',), \n",
    "        transform=ax.transAxes, ha='right', va='bottom', fontsize=7)\n",
    "\n",
    "# Left Marginal\n",
    "ax = fig.add_subplot(gs[0, 0])\n",
    "ax.hist(y_missing, bins=bins, edgecolor='none', orientation='horizontal', density=True, color='r')\n",
    "ax.set_ylim(xlim)\n",
    "ax.set_xticks([]); ax.set_yticks([-5, 0, 5, 10, 15,20])\n",
    "ax.text(0.97, 0.97, 'n={}'.format(si_format(len(y_missing)), precision=2, format_str='{value}{prefix}',), \n",
    "        transform=ax.transAxes, ha='right', va='top', fontsize=7, rotation=90, color='r')\n",
    "ax.set_ylabel('Prediction', labelpad=1,fontsize=7)\n",
    "ax.tick_params(axis='both', labelsize=6, length=2, pad=1)\n",
    "\n",
    "# Bottom Marginal\n",
    "ax = fig.add_subplot(gs[1, 1])\n",
    "ax.hist(x_missing, bins=bins, edgecolor='none', density=True, color='r')\n",
    "ax.set_xlim(xlim)\n",
    "ax.set_xticks([-5, 0, 5, 10, 15,20]); ax.set_yticks([])\n",
    "ax.text(0.97, 0.8, 'n={}'.format(si_format(len(x_missing)), precision=2, format_str='{value}{prefix}',), \n",
    "        transform=ax.transAxes, ha='right', va='top', fontsize=7, color='r')\n",
    "ax.set_xlabel('Truth', labelpad=2,fontsize=7)\n",
    "ax.tick_params(axis='both', labelsize=6, length=2, pad=1)\n",
    "\n",
    "\n",
    "# Missing label (not detected in either)\n",
    "ax = fig.add_subplot(gs[1, 0])\n",
    "for spine in ['bottom', 'left']:\n",
    "    ax.spines[spine].set_visible(False)\n",
    "ax.set_xticks([]); ax.set_yticks([])\n",
    "\n",
    "ax.text(0.8, 0.8, 'Missing', transform=ax.transAxes, color='r', ha='right', va='top', fontsize=7, clip_on=False)\n",
    "fig.savefig('../results/vae/2nd_results/nor_transduction/2nd_vae_seq_nor_transduction_correlation_train.pdf',dpi=300,bbox_inches='tight')"
   ]
  },
  {
   "cell_type": "code",
   "execution_count": 21,
   "metadata": {},
   "outputs": [
    {
     "data": {
      "image/png": "[encoded data removed]",
      "text/plain": [
       "<Figure size 200x170 with 1 Axes>"
      ]
     },
     "metadata": {},
     "output_type": "display_data"
    }
   ],
   "source": [
    "data = np.array(preds_df['y_pred']) \n",
    "data = data.reshape(-1, 1)  # Convert the data into a column vector\n",
    "\n",
    "# Fit the data using GaussianMixture\n",
    "n_components = 1 # Set the number of components for the hybrid model\n",
    "gmm = GaussianMixture(n_components=n_components)\n",
    "gmm.fit(data)\n",
    "\n",
    "# Get the mean and covariance matrix for each component\n",
    "means = gmm.means_\n",
    "covariances = gmm.covariances_\n",
    "\n",
    "# Generate the fitted distribution\n",
    "x = np.linspace(-10,7, 10000)\n",
    "x = x.reshape(-1, 1)\n",
    "y = np.exp(gmm.score_samples(x))\n",
    "\n",
    "fig,ax = plt.subplots(figsize=(2,1.7),dpi=100)\n",
    "# Plot the raw data and the distribution after fitting\n",
    "plt.hist(data, bins=100, density=True, alpha=0.6, color = '#BAB3A3',label='Prediction')\n",
    "\n",
    "# 绘制每个分量的正态分布\n",
    "for i in range(n_components):\n",
    "    component = np.exp(-(x - means[i]) ** 2 / (2 * covariances[i]))\n",
    "    component /= np.sqrt(2 * np.pi * covariances[i])\n",
    "    component *= gmm.weights_[i]\n",
    "    if i == 0:\n",
    "        ax.plot(x, component, '-', label=f'Distribution {i + 1}', color='#F66E68', alpha=1)\n",
    "        ax.fill_between(x.flatten(), 0, component.flatten(), color='#F66E68', alpha=0.4)\n",
    "    else:\n",
    "        ax.plot(x, component, '-', label=f'Distribution {i + 1}', color='#457B9D', alpha=1)\n",
    "        ax.fill_between(x.flatten(), 0, component.flatten(), color='#457B9D', alpha=0.4)\n",
    "\n",
    "\n",
    "plt.title('Prediction',fontsize=10)\n",
    "ax.tick_params(axis='both', which='both', length=2,labelsize=10)\n",
    "ax.set_xticks([-5, 0, 5]); \n",
    "# ax.set_yticks([])\n",
    "plt.ylabel('Density',labelpad=1,fontsize=10)\n",
    "plt.xlabel('Nor_package',labelpad=1,fontsize=10)\n",
    "plt.legend(fontsize=7,frameon=False)\n",
    "plt.show()\n",
    "fig.savefig('../results/vae/2nd_results/nor_transduction/2nd_vae_seq_nor_transduction_distribution_train.pdf',dpi=300,bbox_inches='tight')"
   ]
  },
  {
   "cell_type": "code",
   "execution_count": 22,
   "metadata": {},
   "outputs": [
    {
     "name": "stdout",
     "output_type": "stream",
     "text": [
      "8/8 [==============================] - 0s 2ms/step\n",
      "8/8 [==============================] - 0s 0s/step\n",
      "\n",
      "MSE of predictions vs true labels: 3.348593235015869\n"
     ]
    },
    {
     "data": {
      "text/plain": [
       "0.4799839115852569"
      ]
     },
     "execution_count": 22,
     "metadata": {},
     "output_type": "execute_result"
    }
   ],
   "source": [
    "AA = test_df[array].values\n",
    "X = test_df.drop(columns=['seq','Y--transduction'])\n",
    "Y = test_df['Y--transduction'].values\n",
    "preds_df = predict(model, X,array,Y=Y, AA=AA)\n",
    "preds_df['y_pred'].corr(preds_df['y_true'])"
   ]
  },
  {
   "cell_type": "code",
   "execution_count": 23,
   "metadata": {},
   "outputs": [
    {
     "name": "stderr",
     "output_type": "stream",
     "text": [
      "d:\\ProgramData\\anaconda3\\envs\\tf\\lib\\site-packages\\numpy\\lib\\histograms.py:906: RuntimeWarning: invalid value encountered in divide\n",
      "  return n/db/n.sum(), bin_edges\n"
     ]
    },
    {
     "data": {
      "image/png": "[encoded data removed]",
      "text/plain": [
       "<Figure size 210x195 with 4 Axes>"
      ]
     },
     "metadata": {},
     "output_type": "display_data"
    }
   ],
   "source": [
    "x = preds_df['y_pred']\n",
    "y = preds_df['y_true']\n",
    "\n",
    "remove = np.isinf(x) & np.isinf(y)\n",
    "x = x[~remove]\n",
    "y = y[~remove]\n",
    "\n",
    "keep = (~np.isinf(x)) & (~np.isinf(y))\n",
    "x_both = x[keep]\n",
    "y_both = y[keep]\n",
    "\n",
    "y_missing = y[np.isinf(x)]\n",
    "x_missing = x[np.isinf(y)]\n",
    "\n",
    "\n",
    "kernel = gaussian_kde(np.vstack([\n",
    "    x_both.sample(n=10, random_state=1), \n",
    "    y_both.sample(n=10, random_state=1)\n",
    "]))\n",
    "c_both = kernel(np.vstack([x_both.values, y_both.values]))\n",
    "\n",
    "\n",
    "fig = plt.figure(figsize=(1.4,1.3), dpi=150)\n",
    "\n",
    "gs = fig.add_gridspec(2, 2, left=0.275, right=0.95, bottom=0.22, top=0.95, \n",
    "                      width_ratios=[1, 6], height_ratios=[6, 1], hspace=0., wspace=0)\n",
    "ax = fig.add_subplot(gs[0, 1])\n",
    "ax.scatter(x_both, y_both, c=c_both, cmap=mpl.cm.inferno, s=0.2, edgecolor='none', rasterized=True)\n",
    "ax.set_xticks([]); ax.set_yticks([])\n",
    "xlim = [-11, 12]\n",
    "bins = np.linspace(*xlim, 25)\n",
    "ax.set_xlim(xlim); ax.set_ylim(xlim)\n",
    "ax.text(0.03, 0.97, r'$r$ = {:.2f}'.format(np.corrcoef(x_both, y_both)[0, 1]),\n",
    "       transform=ax.transAxes, ha='left', va='top', fontsize=7)\n",
    "\n",
    "ax.text(0.97, 0.01, 'n={}'.format(si_format(len(x_both)), precision=2, format_str='{value}{prefix}',), \n",
    "        transform=ax.transAxes, ha='right', va='bottom', fontsize=7)\n",
    "\n",
    "# Left Marginal\n",
    "ax = fig.add_subplot(gs[0, 0])\n",
    "ax.hist(y_missing, bins=bins, edgecolor='none', orientation='horizontal', density=True, color='r')\n",
    "ax.set_ylim(xlim)\n",
    "ax.set_xticks([]); ax.set_yticks([-5, 0, 5, 10, 15,20])\n",
    "ax.text(0.97, 0.97, 'n={}'.format(si_format(len(y_missing)), precision=2, format_str='{value}{prefix}',), \n",
    "        transform=ax.transAxes, ha='right', va='top', fontsize=7, rotation=90, color='r')\n",
    "ax.set_ylabel('Prediction', labelpad=1,fontsize=7)\n",
    "ax.tick_params(axis='both', labelsize=6, length=2, pad=1)\n",
    "\n",
    "# Bottom Marginal\n",
    "ax = fig.add_subplot(gs[1, 1])\n",
    "ax.hist(x_missing, bins=bins, edgecolor='none', density=True, color='r')\n",
    "ax.set_xlim(xlim)\n",
    "ax.set_xticks([-5, 0, 5, 10, 15,20]); ax.set_yticks([])\n",
    "ax.text(0.97, 0.8, 'n={}'.format(si_format(len(x_missing)), precision=2, format_str='{value}{prefix}',), \n",
    "        transform=ax.transAxes, ha='right', va='top', fontsize=7, color='r')\n",
    "ax.set_xlabel('Truth', labelpad=2,fontsize=7)\n",
    "ax.tick_params(axis='both', labelsize=6, length=2, pad=1)\n",
    "\n",
    "\n",
    "# Missing label (not detected in either)\n",
    "ax = fig.add_subplot(gs[1, 0])\n",
    "for spine in ['bottom', 'left']:\n",
    "    ax.spines[spine].set_visible(False)\n",
    "ax.set_xticks([]); ax.set_yticks([])\n",
    "\n",
    "ax.text(0.8, 0.8, 'Missing', transform=ax.transAxes, color='r', ha='right', va='top', fontsize=7, clip_on=False)\n",
    "fig.savefig('../results/vae/2nd_results/nor_transduction/2nd_vae_seq_nor_transduction_correlation_test.pdf',dpi=300,bbox_inches='tight')"
   ]
  },
  {
   "cell_type": "code",
   "execution_count": 24,
   "metadata": {},
   "outputs": [
    {
     "data": {
      "image/png": "[encoded data removed]",
      "text/plain": [
       "<Figure size 200x170 with 1 Axes>"
      ]
     },
     "metadata": {},
     "output_type": "display_data"
    }
   ],
   "source": [
    "\n",
    "data = np.array(preds_df['y_pred']) \n",
    "data = data.reshape(-1, 1)  # Convert the data into a column vector\n",
    "\n",
    "# Fit the data using GaussianMixture\n",
    "n_components = 1 # Set the number of components for the hybrid model\n",
    "gmm = GaussianMixture(n_components=n_components)\n",
    "gmm.fit(data)\n",
    "\n",
    "# Get the mean and covariance matrix for each component\n",
    "means = gmm.means_\n",
    "covariances = gmm.covariances_\n",
    "\n",
    "# Generate the fitted distribution\n",
    "x = np.linspace(-10,7, 10000)\n",
    "x = x.reshape(-1, 1)\n",
    "y = np.exp(gmm.score_samples(x))\n",
    "\n",
    "fig,ax = plt.subplots(figsize=(2,1.7),dpi=100)\n",
    "# Plot the raw data and the distribution after fitting\n",
    "plt.hist(data, bins=100, density=True, alpha=0.6, color = '#BAB3A3',label='Prediction')\n",
    "\n",
    "# 绘制每个分量的正态分布\n",
    "for i in range(n_components):\n",
    "    component = np.exp(-(x - means[i]) ** 2 / (2 * covariances[i]))\n",
    "    component /= np.sqrt(2 * np.pi * covariances[i])\n",
    "    component *= gmm.weights_[i]\n",
    "    if i == 0:\n",
    "        ax.plot(x, component, '-', label=f'Distribution {i + 1}', color='#F66E68', alpha=1)\n",
    "        ax.fill_between(x.flatten(), 0, component.flatten(), color='#F66E68', alpha=0.4)\n",
    "    else:\n",
    "        ax.plot(x, component, '-', label=f'Distribution {i + 1}', color='#457B9D', alpha=1)\n",
    "        ax.fill_between(x.flatten(), 0, component.flatten(), color='#457B9D', alpha=0.4)\n",
    "\n",
    "\n",
    "plt.title('Prediction',fontsize=10)\n",
    "ax.tick_params(axis='both', which='both', length=2,labelsize=10)\n",
    "ax.set_xticks([-5, 0, 5]); \n",
    "# ax.set_yticks([])\n",
    "plt.ylabel('Density',labelpad=1,fontsize=10)\n",
    "plt.xlabel('Nor_package',labelpad=1,fontsize=10)\n",
    "plt.legend(fontsize=7,frameon=False)\n",
    "plt.show()\n",
    "fig.savefig('../results/vae/2nd_results/nor_transduction/2nd_vae_seq_nor_transduction_distribution_test.pdf',dpi=300,bbox_inches='tight')\n"
   ]
  }
 ],
 "metadata": {
  "kernelspec": {
   "display_name": "Python 3 (ipykernel)",
   "language": "python",
   "name": "python3"
  },
  "language_info": {
   "codemirror_mode": {
    "name": "ipython",
    "version": 3
   },
   "file_extension": ".py",
   "mimetype": "text/x-python",
   "name": "python",
   "nbconvert_exporter": "python",
   "pygments_lexer": "ipython3",
   "version": "3.8.16"
  },
  "vscode": {
   "interpreter": {
    "hash": "00dedd32bda6164f33307b9f113fca69379b5d26ecb5a9003c28a7bd4ecd46dd"
   }
  }
 },
 "nbformat": 4,
 "nbformat_minor": 4
}
