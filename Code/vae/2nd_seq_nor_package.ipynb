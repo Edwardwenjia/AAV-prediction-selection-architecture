{
 "cells": [
  {
   "cell_type": "code",
   "execution_count": 1,
   "metadata": {
    "is_executing": true
   },
   "outputs": [],
   "source": [
    "%load_ext autoreload\n",
    "%autoreload 2"
   ]
  },
  {
   "cell_type": "code",
   "execution_count": 2,
   "metadata": {},
   "outputs": [],
   "source": [
    "import numpy as np\n",
    "import pandas as pd\n",
    "import pickle\n",
    "import random\n",
    "import tensorflow as tf\n",
    "import os\n",
    "import sys\n",
    "from pathlib import Path\n",
    "from sklearn.preprocessing import StandardScaler\n",
    "from mpl_toolkits.axes_grid1 import make_axes_locatable\n",
    "from scipy.stats import gaussian_kde, norm\n",
    "import matplotlib as mpl\n",
    "import matplotlib.pyplot as plt\n",
    "from sklearn.mixture import GaussianMixture\n",
    "\n",
    "from vae.vae import SVAE\n",
    "from vae.train import train,train_new\n",
    "from utils.data_processing import prep_data, make_tf_batches, seq_to_onehot\n",
    "from vae.predict import predict\n",
    "from utils.utils_f4f import heatmap, si_format\n",
    "os.environ['TF_CPP_MIN_LOG_LEVEL'] = '0'\n"
   ]
  },
  {
   "cell_type": "markdown",
   "metadata": {},
   "source": [
    "#### Data_preparetion\n"
   ]
  },
  {
   "cell_type": "code",
   "execution_count": 3,
   "metadata": {},
   "outputs": [
    {
     "data": {
      "text/html": [
       "<div>\n",
       "<style scoped>\n",
       "    .dataframe tbody tr th:only-of-type {\n",
       "        vertical-align: middle;\n",
       "    }\n",
       "\n",
       "    .dataframe tbody tr th {\n",
       "        vertical-align: top;\n",
       "    }\n",
       "\n",
       "    .dataframe thead th {\n",
       "        text-align: right;\n",
       "    }\n",
       "</style>\n",
       "<table border=\"1\" class=\"dataframe\">\n",
       "  <thead>\n",
       "    <tr style=\"text-align: right;\">\n",
       "      <th></th>\n",
       "      <th>seq</th>\n",
       "      <th>nor_package</th>\n",
       "    </tr>\n",
       "  </thead>\n",
       "  <tbody>\n",
       "    <tr>\n",
       "      <th>6135</th>\n",
       "      <td>CAGGGTTGGTTTTATCTGCAT</td>\n",
       "      <td>0.000000</td>\n",
       "    </tr>\n",
       "    <tr>\n",
       "      <th>8050</th>\n",
       "      <td>AAGATGCGTTTGTGTAGGTGT</td>\n",
       "      <td>0.004044</td>\n",
       "    </tr>\n",
       "    <tr>\n",
       "      <th>9126</th>\n",
       "      <td>GGTGGGTGGATTCTTTGTTGG</td>\n",
       "      <td>0.006525</td>\n",
       "    </tr>\n",
       "    <tr>\n",
       "      <th>1845</th>\n",
       "      <td>TGTATGGTGACTAATTGGGGG</td>\n",
       "      <td>0.010300</td>\n",
       "    </tr>\n",
       "    <tr>\n",
       "      <th>4374</th>\n",
       "      <td>AAGACTTGTGGGTTTATTATT</td>\n",
       "      <td>0.018075</td>\n",
       "    </tr>\n",
       "    <tr>\n",
       "      <th>...</th>\n",
       "      <td>...</td>\n",
       "      <td>...</td>\n",
       "    </tr>\n",
       "    <tr>\n",
       "      <th>3605</th>\n",
       "      <td>GCTGTGAAGAGTGATGCGAGG</td>\n",
       "      <td>1.615085</td>\n",
       "    </tr>\n",
       "    <tr>\n",
       "      <th>5023</th>\n",
       "      <td>CTTACGCAGTCTGGTGTTTCG</td>\n",
       "      <td>1.639426</td>\n",
       "    </tr>\n",
       "    <tr>\n",
       "      <th>12</th>\n",
       "      <td>CGTGAGAAGGTGGTTGGTCAT</td>\n",
       "      <td>1.682482</td>\n",
       "    </tr>\n",
       "    <tr>\n",
       "      <th>5812</th>\n",
       "      <td>CGTATGAATGAGAGGCAGGAT</td>\n",
       "      <td>1.734835</td>\n",
       "    </tr>\n",
       "    <tr>\n",
       "      <th>3199</th>\n",
       "      <td>AGTCCGAATGCTCTGCATCAT</td>\n",
       "      <td>1.945740</td>\n",
       "    </tr>\n",
       "  </tbody>\n",
       "</table>\n",
       "<p>205 rows × 2 columns</p>\n",
       "</div>"
      ],
      "text/plain": [
       "                        seq  nor_package\n",
       "6135  CAGGGTTGGTTTTATCTGCAT     0.000000\n",
       "8050  AAGATGCGTTTGTGTAGGTGT     0.004044\n",
       "9126  GGTGGGTGGATTCTTTGTTGG     0.006525\n",
       "1845  TGTATGGTGACTAATTGGGGG     0.010300\n",
       "4374  AAGACTTGTGGGTTTATTATT     0.018075\n",
       "...                     ...          ...\n",
       "3605  GCTGTGAAGAGTGATGCGAGG     1.615085\n",
       "5023  CTTACGCAGTCTGGTGTTTCG     1.639426\n",
       "12    CGTGAGAAGGTGGTTGGTCAT     1.682482\n",
       "5812  CGTATGAATGAGAGGCAGGAT     1.734835\n",
       "3199  AGTCCGAATGCTCTGCATCAT     1.945740\n",
       "\n",
       "[205 rows x 2 columns]"
      ]
     },
     "execution_count": 3,
     "metadata": {},
     "output_type": "execute_result"
    }
   ],
   "source": [
    "# Import data \n",
    "assay = 'nor_package'  # nor_package\n",
    "array = 'seq'    #  RNA\n",
    "\n",
    "\n",
    "df_all = pd.read_csv('../data/2nd_10209_Package_seq.tsv',delimiter='\\t')\n",
    "df_all = df_all.rename(columns={'aa':'AA_sequence'})\n",
    "df = df_all[['seq', 'nor_package']]\n",
    "df= df.sort_values(by='nor_package')\n",
    "\n",
    "#Fill in the nan data and replace the inf value\n",
    "df['nor_package'] = df['nor_package'].fillna(0)  \n",
    "df['nor_package'] = df['nor_package'].replace([np.inf, -np.inf], np.nan)\n",
    "df = df.dropna(subset=['nor_package','seq'])\n",
    "df = df.iloc[::50]\n",
    "df"
   ]
  },
  {
   "cell_type": "code",
   "execution_count": 4,
   "metadata": {},
   "outputs": [
    {
     "data": {
      "image/png": "[encoded data removed]",
      "text/plain": [
       "<Figure size 200x170 with 1 Axes>"
      ]
     },
     "metadata": {},
     "output_type": "display_data"
    }
   ],
   "source": [
    "nor_package = df_all[np.isfinite(df_all[assay])][assay]\n",
    "data = np.array(nor_package) \n",
    "data = data.reshape(-1, 1)  # Convert the data into a column vector\n",
    "\n",
    "# Fit the data using GaussianMixture\n",
    "n_components = 1 # Set the number of components for the hybrid model\n",
    "gmm = GaussianMixture(n_components=n_components)\n",
    "gmm.fit(data)\n",
    "\n",
    "# Get the mean and covariance matrix for each component\n",
    "means = gmm.means_\n",
    "covariances = gmm.covariances_\n",
    "\n",
    "# Generate the fitted distribution\n",
    "x = np.linspace(-10, 5, 10000)\n",
    "x = x.reshape(-1, 1)\n",
    "y = np.exp(gmm.score_samples(x))\n",
    "\n",
    "fig,ax = plt.subplots(figsize=(2,1.7),dpi=100)\n",
    "# Plot the raw data and the distribution after fitting\n",
    "plt.hist(data, bins=100, density=True, alpha=0.6, color = '#BAB3A3',label='Prediction')\n",
    "\n",
    "# 绘制每个分量的正态分布\n",
    "for i in range(n_components):\n",
    "    component = np.exp(-(x - means[i]) ** 2 / (2 * covariances[i]))\n",
    "    component /= np.sqrt(2 * np.pi * covariances[i])\n",
    "    component *= gmm.weights_[i]\n",
    "    if i == 0:\n",
    "        ax.plot(x, component, '-', label=f'Distribution {i + 1}', color='#F66E68', alpha=1)\n",
    "        ax.fill_between(x.flatten(), 0, component.flatten(), color='#F66E68', alpha=0.4)\n",
    "    else:\n",
    "        ax.plot(x, component, '-', label=f'Distribution {i + 1}', color='#457B9D', alpha=1)\n",
    "        ax.fill_between(x.flatten(), 0, component.flatten(), color='#457B9D', alpha=0.4)\n",
    "\n",
    "\n",
    "plt.title('Truth_distribution',fontsize=10)\n",
    "ax.tick_params(axis='both', which='both', length=2,labelsize=8)\n",
    "ax.set_xticks([-1, 0, 1,2,3,4]); \n",
    "ax.set_xlim([-1,4])\n",
    "plt.ylabel('Density',labelpad=2,fontsize=10)\n",
    "plt.xlabel('Nor_package',labelpad=2,fontsize=10)\n",
    "plt.legend(fontsize=7,frameon=False,loc='best')\n",
    "plt.show()"
   ]
  },
  {
   "cell_type": "markdown",
   "metadata": {},
   "source": [
    "### Prep data and make Tensorflow-compatible data batches\n",
    "\n",
    "`prep_data()` will one-hot encode the `AA_sequence` column and split the data into\n",
    "training and test sets. The training split will be split\n",
    "futher into training and validation batches with `make_tf_batches()`.\n"
   ]
  },
  {
   "cell_type": "code",
   "execution_count": 5,
   "metadata": {},
   "outputs": [],
   "source": [
    "(data_list, train_df, test_df, prepped_df) = prep_data(df, AA_colname=array,target_assay_col=assay)\n",
    "train_df['Y--nor_package'] = train_df['seq'].map(df.drop_duplicates('seq').set_index('seq')['nor_package'])\n",
    "test_df['Y--nor_package'] = test_df['seq'].map(df.drop_duplicates('seq').set_index('seq')['nor_package'])\n",
    "prepped_df['Y--nor_package'] = prepped_df['seq'].map(df.drop_duplicates('seq').set_index('seq')['nor_package'])"
   ]
  },
  {
   "cell_type": "markdown",
   "metadata": {},
   "source": [
    "Now we split `train_df` into TensorFlow-compatible training and validation batches using\n",
    "`make_tf_batches()`. `unbatched_data` is a tuple of Numpy arrays corresponding to the X, Y\n",
    "and CV (if using) values across both the training and validation batches.\n"
   ]
  },
  {
   "cell_type": "code",
   "execution_count": 6,
   "metadata": {},
   "outputs": [],
   "source": [
    "X, Y = data_list\n",
    "train_batches, val_batches, unbatched_data = make_tf_batches(X, Y)"
   ]
  },
  {
   "cell_type": "markdown",
   "metadata": {},
   "source": [
    "## SVAE training\n",
    "\n",
    "Default parameterization (used in paper):\n",
    "\n",
    "- `input_dim = 140`\n",
    "- `latent_dim = 2`\n",
    "- `enc_hidden_dims = [100,40]`\n",
    "- `dec_hidden_dims = [40,100]`\n",
    "- `reg_hidden_dims = [100,10]`\n"
   ]
  },
  {
   "cell_type": "code",
   "execution_count": 7,
   "metadata": {},
   "outputs": [
    {
     "name": "stdout",
     "output_type": "stream",
     "text": [
      "Model: \"svae\"\n",
      "__________________________________________________________________________________________________\n",
      " Layer (type)                Output Shape                 Param #   Connected to                  \n",
      "==================================================================================================\n",
      " encoder_input (InputLayer)  [(None, 420)]                0         []                            \n",
      "                                                                                                  \n",
      " encoder (Functional)        [(None, 6),                  163872    ['encoder_input[0][0]',       \n",
      "                              (None, 6),                             'encoder_input[0][0]']       \n",
      "                              (None, 6)]                                                          \n",
      "                                                                                                  \n",
      " tf.concat_1 (TFOpLambda)    (None, 426)                  0         ['encoder[1][0]',             \n",
      "                                                                     'encoder_input[0][0]']       \n",
      "                                                                                                  \n",
      " decoder (Functional)        (None, 420)                  163560    ['encoder[0][2]']             \n",
      "                                                                                                  \n",
      " regressor (Functional)      (None, 1)                    146461    ['tf.concat_1[0][0]']         \n",
      "                                                                                                  \n",
      "==================================================================================================\n",
      "Total params: 473893 (1.81 MB)\n",
      "Trainable params: 473893 (1.81 MB)\n",
      "Non-trainable params: 0 (0.00 Byte)\n",
      "__________________________________________________________________________________________________\n"
     ]
    }
   ],
   "source": [
    "# SVAE parameters (same as default)\n",
    "input_dim = 420\n",
    "latent_dim = 2\n",
    "enc_hidden_dims = [300,120]\n",
    "dec_hidden_dims = [120,300]\n",
    "reg_hidden_dims = [300,30]\n",
    "\n",
    "# training parameters \n",
    "loss_weights = [1.0,0.8,1.5] # [reconstruction, KL, regression]\n",
    "\n",
    "initial_learning_rate = 5e-3\n",
    "optimizer = tf.keras.optimizers.Adam(initial_learning_rate)\n",
    "\n",
    "outpath = 'pretrain/model_2nd_seq_nor_package'\n",
    "\n",
    "initial_learning_rate = 5e-3\n",
    "optimizer = tf.keras.optimizers.Adam(initial_learning_rate)\n",
    "\n",
    "# Initialize SVAE model (with default parameterizations)\n",
    "model = SVAE(input_dim=420, latent_dim=6, enc_hidden_dims=[300,120], dec_hidden_dims=[120,300], reg_hidden_dims=[300,30], name='svae')\n",
    "model.summary()"
   ]
  },
  {
   "cell_type": "markdown",
   "metadata": {},
   "source": [
    "The `train()` function returns the trained `model` and `preds_df`, a DataFrame of\n",
    "regressor predictions on the X values in `unbatched_data`, along with their latent space\n",
    "projections and their true Y values.\n",
    "\n",
    "`train()` saves the trained model, as well as a log of the training and validation loss\n",
    "values per epoch and `preds_df`, to disk. These saves will be made to an optional\n",
    "parameter `model_outdir` - if not specified, `train()` will make a new,\n",
    "informatively-named directory to write to (path is returned)."
   ]
  },
  {
   "cell_type": "code",
   "execution_count": 8,
   "metadata": {},
   "outputs": [
    {
     "name": "stdout",
     "output_type": "stream",
     "text": [
      "Logging following metrics: ['train_model_loss', 'train_reconstruction_loss', 'train_kl_loss', 'train_regression_loss', 'val_model_loss', 'val_reconstruction_loss', 'val_kl_loss', 'val_regression_loss']\n",
      "\n",
      "\n",
      "----- Beginning training. -----\n",
      "\n",
      "epoch 1\n",
      "84/84 [==============================] - 1s 16ms/step - train_model_loss: 55.9282 - train_reconstruction_loss: 53.3989 - train_kl_loss: 0.7341 - train_regression_loss: 1.2909 - val_model_loss: 34.3816 - val_reconstruction_loss: 26.9562 - val_kl_loss: 1.1817 - val_regression_loss: 4.5331\n",
      "WARNING:tensorflow:Compiled the loaded model, but the compiled metrics have yet to be built. `model.compile_metrics` will be empty until you train or evaluate the model.\n",
      "INFO:tensorflow:Assets written to: pretrain/model_2nd_seq_nor_package\\assets\n"
     ]
    },
    {
     "name": "stderr",
     "output_type": "stream",
     "text": [
      "INFO:tensorflow:Assets written to: pretrain/model_2nd_seq_nor_package\\assets\n"
     ]
    },
    {
     "name": "stdout",
     "output_type": "stream",
     "text": [
      "Model saved to pretrain/model_2nd_seq_nor_package.\n",
      "\n",
      "epoch 2\n",
      "84/84 [==============================] - 1s 14ms/step - train_model_loss: 29.5337 - train_reconstruction_loss: 26.6297 - train_kl_loss: 0.7349 - train_regression_loss: 1.3396 - val_model_loss: 31.3203 - val_reconstruction_loss: 30.4322 - val_kl_loss: 0.3329 - val_regression_loss: 0.4620\n",
      "WARNING:tensorflow:Compiled the loaded model, but the compiled metrics have yet to be built. `model.compile_metrics` will be empty until you train or evaluate the model.\n"
     ]
    },
    {
     "name": "stderr",
     "output_type": "stream",
     "text": [
      "WARNING:tensorflow:Compiled the loaded model, but the compiled metrics have yet to be built. `model.compile_metrics` will be empty until you train or evaluate the model.\n"
     ]
    },
    {
     "name": "stdout",
     "output_type": "stream",
     "text": [
      "INFO:tensorflow:Assets written to: pretrain/model_2nd_seq_nor_package\\assets\n"
     ]
    },
    {
     "name": "stderr",
     "output_type": "stream",
     "text": [
      "INFO:tensorflow:Assets written to: pretrain/model_2nd_seq_nor_package\\assets\n"
     ]
    },
    {
     "name": "stdout",
     "output_type": "stream",
     "text": [
      "Model saved to pretrain/model_2nd_seq_nor_package.\n",
      "\n",
      "epoch 3\n",
      "84/84 [==============================] - 1s 14ms/step - train_model_loss: 30.5416 - train_reconstruction_loss: 29.0926 - train_kl_loss: 0.6305 - train_regression_loss: 0.5499 - val_model_loss: 26.3120 - val_reconstruction_loss: 25.6147 - val_kl_loss: 0.5713 - val_regression_loss: 0.1762\n",
      "WARNING:tensorflow:Compiled the loaded model, but the compiled metrics have yet to be built. `model.compile_metrics` will be empty until you train or evaluate the model.\n"
     ]
    },
    {
     "name": "stderr",
     "output_type": "stream",
     "text": [
      "WARNING:tensorflow:Compiled the loaded model, but the compiled metrics have yet to be built. `model.compile_metrics` will be empty until you train or evaluate the model.\n"
     ]
    },
    {
     "name": "stdout",
     "output_type": "stream",
     "text": [
      "INFO:tensorflow:Assets written to: pretrain/model_2nd_seq_nor_package\\assets\n"
     ]
    },
    {
     "name": "stderr",
     "output_type": "stream",
     "text": [
      "INFO:tensorflow:Assets written to: pretrain/model_2nd_seq_nor_package\\assets\n"
     ]
    },
    {
     "name": "stdout",
     "output_type": "stream",
     "text": [
      "Model saved to pretrain/model_2nd_seq_nor_package.\n",
      "\n",
      "epoch 4\n",
      "84/84 [==============================] - 1s 14ms/step - train_model_loss: 28.3204 - train_reconstruction_loss: 27.5396 - train_kl_loss: 0.5574 - train_regression_loss: 0.2248 - val_model_loss: 26.3448 - val_reconstruction_loss: 25.4767 - val_kl_loss: 0.5968 - val_regression_loss: 0.2287\n",
      "WARNING:tensorflow:Compiled the loaded model, but the compiled metrics have yet to be built. `model.compile_metrics` will be empty until you train or evaluate the model.\n"
     ]
    },
    {
     "name": "stderr",
     "output_type": "stream",
     "text": [
      "WARNING:tensorflow:Compiled the loaded model, but the compiled metrics have yet to be built. `model.compile_metrics` will be empty until you train or evaluate the model.\n"
     ]
    },
    {
     "name": "stdout",
     "output_type": "stream",
     "text": [
      "INFO:tensorflow:Assets written to: pretrain/model_2nd_seq_nor_package\\assets\n"
     ]
    },
    {
     "name": "stderr",
     "output_type": "stream",
     "text": [
      "INFO:tensorflow:Assets written to: pretrain/model_2nd_seq_nor_package\\assets\n"
     ]
    },
    {
     "name": "stdout",
     "output_type": "stream",
     "text": [
      "Model saved to pretrain/model_2nd_seq_nor_package.\n",
      "\n",
      "epoch 5\n",
      "84/84 [==============================] - 1s 17ms/step - train_model_loss: 25.0695 - train_reconstruction_loss: 24.3643 - train_kl_loss: 0.5577 - train_regression_loss: 0.1507 - val_model_loss: 24.1895 - val_reconstruction_loss: 23.5716 - val_kl_loss: 0.5534 - val_regression_loss: 0.0961\n",
      "WARNING:tensorflow:Compiled the loaded model, but the compiled metrics have yet to be built. `model.compile_metrics` will be empty until you train or evaluate the model.\n"
     ]
    },
    {
     "name": "stderr",
     "output_type": "stream",
     "text": [
      "WARNING:tensorflow:Compiled the loaded model, but the compiled metrics have yet to be built. `model.compile_metrics` will be empty until you train or evaluate the model.\n"
     ]
    },
    {
     "name": "stdout",
     "output_type": "stream",
     "text": [
      "INFO:tensorflow:Assets written to: pretrain/model_2nd_seq_nor_package\\assets\n"
     ]
    },
    {
     "name": "stderr",
     "output_type": "stream",
     "text": [
      "INFO:tensorflow:Assets written to: pretrain/model_2nd_seq_nor_package\\assets\n"
     ]
    },
    {
     "name": "stdout",
     "output_type": "stream",
     "text": [
      "Model saved to pretrain/model_2nd_seq_nor_package.\n",
      "\n",
      "epoch 6\n",
      "84/84 [==============================] - 1s 17ms/step - train_model_loss: 24.7680 - train_reconstruction_loss: 24.0648 - train_kl_loss: 0.6010 - train_regression_loss: 0.1406 - val_model_loss: 23.2058 - val_reconstruction_loss: 22.2716 - val_kl_loss: 0.6603 - val_regression_loss: 0.2059\n",
      "WARNING:tensorflow:Compiled the loaded model, but the compiled metrics have yet to be built. `model.compile_metrics` will be empty until you train or evaluate the model.\n"
     ]
    },
    {
     "name": "stderr",
     "output_type": "stream",
     "text": [
      "WARNING:tensorflow:Compiled the loaded model, but the compiled metrics have yet to be built. `model.compile_metrics` will be empty until you train or evaluate the model.\n"
     ]
    },
    {
     "name": "stdout",
     "output_type": "stream",
     "text": [
      "INFO:tensorflow:Assets written to: pretrain/model_2nd_seq_nor_package\\assets\n"
     ]
    },
    {
     "name": "stderr",
     "output_type": "stream",
     "text": [
      "INFO:tensorflow:Assets written to: pretrain/model_2nd_seq_nor_package\\assets\n"
     ]
    },
    {
     "name": "stdout",
     "output_type": "stream",
     "text": [
      "Model saved to pretrain/model_2nd_seq_nor_package.\n",
      "\n",
      "epoch 7\n",
      "84/84 [==============================] - 1s 14ms/step - train_model_loss: 23.8678 - train_reconstruction_loss: 23.2327 - train_kl_loss: 0.5093 - train_regression_loss: 0.1458 - val_model_loss: 23.9552 - val_reconstruction_loss: 23.5159 - val_kl_loss: 0.3058 - val_regression_loss: 0.1231\n",
      "WARNING:tensorflow:Compiled the loaded model, but the compiled metrics have yet to be built. `model.compile_metrics` will be empty until you train or evaluate the model.\n"
     ]
    },
    {
     "name": "stderr",
     "output_type": "stream",
     "text": [
      "WARNING:tensorflow:Compiled the loaded model, but the compiled metrics have yet to be built. `model.compile_metrics` will be empty until you train or evaluate the model.\n"
     ]
    },
    {
     "name": "stdout",
     "output_type": "stream",
     "text": [
      "INFO:tensorflow:Assets written to: pretrain/model_2nd_seq_nor_package\\assets\n"
     ]
    },
    {
     "name": "stderr",
     "output_type": "stream",
     "text": [
      "INFO:tensorflow:Assets written to: pretrain/model_2nd_seq_nor_package\\assets\n"
     ]
    },
    {
     "name": "stdout",
     "output_type": "stream",
     "text": [
      "Model saved to pretrain/model_2nd_seq_nor_package.\n",
      "\n",
      "epoch 8\n",
      "84/84 [==============================] - 1s 15ms/step - train_model_loss: 23.7194 - train_reconstruction_loss: 23.2326 - train_kl_loss: 0.3351 - train_regression_loss: 0.1377 - val_model_loss: 23.7532 - val_reconstruction_loss: 23.3016 - val_kl_loss: 0.3497 - val_regression_loss: 0.1109\n",
      "WARNING:tensorflow:Compiled the loaded model, but the compiled metrics have yet to be built. `model.compile_metrics` will be empty until you train or evaluate the model.\n"
     ]
    },
    {
     "name": "stderr",
     "output_type": "stream",
     "text": [
      "WARNING:tensorflow:Compiled the loaded model, but the compiled metrics have yet to be built. `model.compile_metrics` will be empty until you train or evaluate the model.\n"
     ]
    },
    {
     "name": "stdout",
     "output_type": "stream",
     "text": [
      "INFO:tensorflow:Assets written to: pretrain/model_2nd_seq_nor_package\\assets\n"
     ]
    },
    {
     "name": "stderr",
     "output_type": "stream",
     "text": [
      "INFO:tensorflow:Assets written to: pretrain/model_2nd_seq_nor_package\\assets\n"
     ]
    },
    {
     "name": "stdout",
     "output_type": "stream",
     "text": [
      "Model saved to pretrain/model_2nd_seq_nor_package.\n",
      "\n",
      "epoch 9\n",
      "84/84 [==============================] - 1s 14ms/step - train_model_loss: 23.3870 - train_reconstruction_loss: 22.9314 - train_kl_loss: 0.3530 - train_regression_loss: 0.1068 - val_model_loss: 23.7167 - val_reconstruction_loss: 23.2640 - val_kl_loss: 0.3711 - val_regression_loss: 0.1212\n",
      "WARNING:tensorflow:Compiled the loaded model, but the compiled metrics have yet to be built. `model.compile_metrics` will be empty until you train or evaluate the model.\n"
     ]
    },
    {
     "name": "stderr",
     "output_type": "stream",
     "text": [
      "WARNING:tensorflow:Compiled the loaded model, but the compiled metrics have yet to be built. `model.compile_metrics` will be empty until you train or evaluate the model.\n"
     ]
    },
    {
     "name": "stdout",
     "output_type": "stream",
     "text": [
      "INFO:tensorflow:Assets written to: pretrain/model_2nd_seq_nor_package\\assets\n"
     ]
    },
    {
     "name": "stderr",
     "output_type": "stream",
     "text": [
      "INFO:tensorflow:Assets written to: pretrain/model_2nd_seq_nor_package\\assets\n"
     ]
    },
    {
     "name": "stdout",
     "output_type": "stream",
     "text": [
      "Model saved to pretrain/model_2nd_seq_nor_package.\n",
      "\n",
      "epoch 10\n",
      "84/84 [==============================] - 1s 14ms/step - train_model_loss: 23.1592 - train_reconstruction_loss: 22.7333 - train_kl_loss: 0.3114 - train_regression_loss: 0.0986 - val_model_loss: 23.3865 - val_reconstruction_loss: 22.9298 - val_kl_loss: 0.2955 - val_regression_loss: 0.0993\n",
      "WARNING:tensorflow:Compiled the loaded model, but the compiled metrics have yet to be built. `model.compile_metrics` will be empty until you train or evaluate the model.\n"
     ]
    },
    {
     "name": "stderr",
     "output_type": "stream",
     "text": [
      "WARNING:tensorflow:Compiled the loaded model, but the compiled metrics have yet to be built. `model.compile_metrics` will be empty until you train or evaluate the model.\n"
     ]
    },
    {
     "name": "stdout",
     "output_type": "stream",
     "text": [
      "INFO:tensorflow:Assets written to: pretrain/model_2nd_seq_nor_package\\assets\n"
     ]
    },
    {
     "name": "stderr",
     "output_type": "stream",
     "text": [
      "INFO:tensorflow:Assets written to: pretrain/model_2nd_seq_nor_package\\assets\n"
     ]
    },
    {
     "name": "stdout",
     "output_type": "stream",
     "text": [
      "Model saved to pretrain/model_2nd_seq_nor_package.\n",
      "\n",
      "epoch 11\n",
      "84/84 [==============================] - 1s 15ms/step - train_model_loss: 23.2494 - train_reconstruction_loss: 22.8674 - train_kl_loss: 0.2818 - train_regression_loss: 0.1105 - val_model_loss: 22.9632 - val_reconstruction_loss: 22.5386 - val_kl_loss: 0.3011 - val_regression_loss: 0.1014\n",
      "WARNING:tensorflow:Compiled the loaded model, but the compiled metrics have yet to be built. `model.compile_metrics` will be empty until you train or evaluate the model.\n"
     ]
    },
    {
     "name": "stderr",
     "output_type": "stream",
     "text": [
      "WARNING:tensorflow:Compiled the loaded model, but the compiled metrics have yet to be built. `model.compile_metrics` will be empty until you train or evaluate the model.\n"
     ]
    },
    {
     "name": "stdout",
     "output_type": "stream",
     "text": [
      "INFO:tensorflow:Assets written to: pretrain/model_2nd_seq_nor_package\\assets\n"
     ]
    },
    {
     "name": "stderr",
     "output_type": "stream",
     "text": [
      "INFO:tensorflow:Assets written to: pretrain/model_2nd_seq_nor_package\\assets\n"
     ]
    },
    {
     "name": "stdout",
     "output_type": "stream",
     "text": [
      "Model saved to pretrain/model_2nd_seq_nor_package.\n",
      "\n",
      "epoch 12\n",
      "84/84 [==============================] - 1s 14ms/step - train_model_loss: 23.1430 - train_reconstruction_loss: 22.7687 - train_kl_loss: 0.2746 - train_regression_loss: 0.0948 - val_model_loss: 22.6068 - val_reconstruction_loss: 22.3047 - val_kl_loss: 0.2496 - val_regression_loss: 0.0528\n",
      "WARNING:tensorflow:Compiled the loaded model, but the compiled metrics have yet to be built. `model.compile_metrics` will be empty until you train or evaluate the model.\n"
     ]
    },
    {
     "name": "stderr",
     "output_type": "stream",
     "text": [
      "WARNING:tensorflow:Compiled the loaded model, but the compiled metrics have yet to be built. `model.compile_metrics` will be empty until you train or evaluate the model.\n"
     ]
    },
    {
     "name": "stdout",
     "output_type": "stream",
     "text": [
      "INFO:tensorflow:Assets written to: pretrain/model_2nd_seq_nor_package\\assets\n"
     ]
    },
    {
     "name": "stderr",
     "output_type": "stream",
     "text": [
      "INFO:tensorflow:Assets written to: pretrain/model_2nd_seq_nor_package\\assets\n"
     ]
    },
    {
     "name": "stdout",
     "output_type": "stream",
     "text": [
      "Model saved to pretrain/model_2nd_seq_nor_package.\n",
      "\n",
      "epoch 13\n",
      "84/84 [==============================] - 1s 15ms/step - train_model_loss: 22.5847 - train_reconstruction_loss: 22.2115 - train_kl_loss: 0.2701 - train_regression_loss: 0.1025 - val_model_loss: 22.4690 - val_reconstruction_loss: 22.1455 - val_kl_loss: 0.2613 - val_regression_loss: 0.0828\n",
      "WARNING:tensorflow:Compiled the loaded model, but the compiled metrics have yet to be built. `model.compile_metrics` will be empty until you train or evaluate the model.\n"
     ]
    },
    {
     "name": "stderr",
     "output_type": "stream",
     "text": [
      "WARNING:tensorflow:Compiled the loaded model, but the compiled metrics have yet to be built. `model.compile_metrics` will be empty until you train or evaluate the model.\n"
     ]
    },
    {
     "name": "stdout",
     "output_type": "stream",
     "text": [
      "INFO:tensorflow:Assets written to: pretrain/model_2nd_seq_nor_package\\assets\n"
     ]
    },
    {
     "name": "stderr",
     "output_type": "stream",
     "text": [
      "INFO:tensorflow:Assets written to: pretrain/model_2nd_seq_nor_package\\assets\n"
     ]
    },
    {
     "name": "stdout",
     "output_type": "stream",
     "text": [
      "Model saved to pretrain/model_2nd_seq_nor_package.\n",
      "\n",
      "epoch 14\n",
      "84/84 [==============================] - 2s 19ms/step - train_model_loss: 22.6357 - train_reconstruction_loss: 22.2569 - train_kl_loss: 0.2903 - train_regression_loss: 0.1289 - val_model_loss: 22.3834 - val_reconstruction_loss: 21.9466 - val_kl_loss: 0.3342 - val_regression_loss: 0.1165\n",
      "WARNING:tensorflow:Compiled the loaded model, but the compiled metrics have yet to be built. `model.compile_metrics` will be empty until you train or evaluate the model.\n"
     ]
    },
    {
     "name": "stderr",
     "output_type": "stream",
     "text": [
      "WARNING:tensorflow:Compiled the loaded model, but the compiled metrics have yet to be built. `model.compile_metrics` will be empty until you train or evaluate the model.\n"
     ]
    },
    {
     "name": "stdout",
     "output_type": "stream",
     "text": [
      "INFO:tensorflow:Assets written to: pretrain/model_2nd_seq_nor_package\\assets\n"
     ]
    },
    {
     "name": "stderr",
     "output_type": "stream",
     "text": [
      "INFO:tensorflow:Assets written to: pretrain/model_2nd_seq_nor_package\\assets\n"
     ]
    },
    {
     "name": "stdout",
     "output_type": "stream",
     "text": [
      "Model saved to pretrain/model_2nd_seq_nor_package.\n",
      "\n",
      "epoch 15\n",
      "84/84 [==============================] - 1s 16ms/step - train_model_loss: 22.5676 - train_reconstruction_loss: 22.1858 - train_kl_loss: 0.2987 - train_regression_loss: 0.0824 - val_model_loss: 22.4240 - val_reconstruction_loss: 21.9957 - val_kl_loss: 0.2866 - val_regression_loss: 0.1596\n",
      "WARNING:tensorflow:Compiled the loaded model, but the compiled metrics have yet to be built. `model.compile_metrics` will be empty until you train or evaluate the model.\n"
     ]
    },
    {
     "name": "stderr",
     "output_type": "stream",
     "text": [
      "WARNING:tensorflow:Compiled the loaded model, but the compiled metrics have yet to be built. `model.compile_metrics` will be empty until you train or evaluate the model.\n"
     ]
    },
    {
     "name": "stdout",
     "output_type": "stream",
     "text": [
      "INFO:tensorflow:Assets written to: pretrain/model_2nd_seq_nor_package\\assets\n"
     ]
    },
    {
     "name": "stderr",
     "output_type": "stream",
     "text": [
      "INFO:tensorflow:Assets written to: pretrain/model_2nd_seq_nor_package\\assets\n"
     ]
    },
    {
     "name": "stdout",
     "output_type": "stream",
     "text": [
      "Model saved to pretrain/model_2nd_seq_nor_package.\n",
      "\n",
      "epoch 16\n",
      "84/84 [==============================] - 2s 18ms/step - train_model_loss: 22.6220 - train_reconstruction_loss: 22.2501 - train_kl_loss: 0.2894 - train_regression_loss: 0.0793 - val_model_loss: 23.0703 - val_reconstruction_loss: 22.6893 - val_kl_loss: 0.2940 - val_regression_loss: 0.0720\n",
      "WARNING:tensorflow:Compiled the loaded model, but the compiled metrics have yet to be built. `model.compile_metrics` will be empty until you train or evaluate the model.\n"
     ]
    },
    {
     "name": "stderr",
     "output_type": "stream",
     "text": [
      "WARNING:tensorflow:Compiled the loaded model, but the compiled metrics have yet to be built. `model.compile_metrics` will be empty until you train or evaluate the model.\n"
     ]
    },
    {
     "name": "stdout",
     "output_type": "stream",
     "text": [
      "INFO:tensorflow:Assets written to: pretrain/model_2nd_seq_nor_package\\assets\n"
     ]
    },
    {
     "name": "stderr",
     "output_type": "stream",
     "text": [
      "INFO:tensorflow:Assets written to: pretrain/model_2nd_seq_nor_package\\assets\n"
     ]
    },
    {
     "name": "stdout",
     "output_type": "stream",
     "text": [
      "Model saved to pretrain/model_2nd_seq_nor_package.\n",
      "\n",
      "epoch 17\n",
      "84/84 [==============================] - 1s 16ms/step - train_model_loss: 22.2900 - train_reconstruction_loss: 21.9184 - train_kl_loss: 0.3010 - train_regression_loss: 0.0789 - val_model_loss: 21.7608 - val_reconstruction_loss: 21.3438 - val_kl_loss: 0.3698 - val_regression_loss: 0.1074\n",
      "WARNING:tensorflow:Compiled the loaded model, but the compiled metrics have yet to be built. `model.compile_metrics` will be empty until you train or evaluate the model.\n"
     ]
    },
    {
     "name": "stderr",
     "output_type": "stream",
     "text": [
      "WARNING:tensorflow:Compiled the loaded model, but the compiled metrics have yet to be built. `model.compile_metrics` will be empty until you train or evaluate the model.\n"
     ]
    },
    {
     "name": "stdout",
     "output_type": "stream",
     "text": [
      "INFO:tensorflow:Assets written to: pretrain/model_2nd_seq_nor_package\\assets\n"
     ]
    },
    {
     "name": "stderr",
     "output_type": "stream",
     "text": [
      "INFO:tensorflow:Assets written to: pretrain/model_2nd_seq_nor_package\\assets\n"
     ]
    },
    {
     "name": "stdout",
     "output_type": "stream",
     "text": [
      "Model saved to pretrain/model_2nd_seq_nor_package.\n",
      "\n",
      "epoch 18\n",
      "84/84 [==============================] - 1s 17ms/step - train_model_loss: 22.3359 - train_reconstruction_loss: 21.9315 - train_kl_loss: 0.3368 - train_regression_loss: 0.0880 - val_model_loss: 22.4108 - val_reconstruction_loss: 22.0667 - val_kl_loss: 0.2953 - val_regression_loss: 0.0653\n",
      "WARNING:tensorflow:Compiled the loaded model, but the compiled metrics have yet to be built. `model.compile_metrics` will be empty until you train or evaluate the model.\n"
     ]
    },
    {
     "name": "stderr",
     "output_type": "stream",
     "text": [
      "WARNING:tensorflow:Compiled the loaded model, but the compiled metrics have yet to be built. `model.compile_metrics` will be empty until you train or evaluate the model.\n"
     ]
    },
    {
     "name": "stdout",
     "output_type": "stream",
     "text": [
      "INFO:tensorflow:Assets written to: pretrain/model_2nd_seq_nor_package\\assets\n"
     ]
    },
    {
     "name": "stderr",
     "output_type": "stream",
     "text": [
      "INFO:tensorflow:Assets written to: pretrain/model_2nd_seq_nor_package\\assets\n"
     ]
    },
    {
     "name": "stdout",
     "output_type": "stream",
     "text": [
      "Model saved to pretrain/model_2nd_seq_nor_package.\n",
      "\n",
      "epoch 19\n",
      "84/84 [==============================] - 1s 18ms/step - train_model_loss: 22.1818 - train_reconstruction_loss: 21.7986 - train_kl_loss: 0.3119 - train_regression_loss: 0.0833 - val_model_loss: 22.3031 - val_reconstruction_loss: 21.9148 - val_kl_loss: 0.3160 - val_regression_loss: 0.0962\n",
      "WARNING:tensorflow:Compiled the loaded model, but the compiled metrics have yet to be built. `model.compile_metrics` will be empty until you train or evaluate the model.\n"
     ]
    },
    {
     "name": "stderr",
     "output_type": "stream",
     "text": [
      "WARNING:tensorflow:Compiled the loaded model, but the compiled metrics have yet to be built. `model.compile_metrics` will be empty until you train or evaluate the model.\n"
     ]
    },
    {
     "name": "stdout",
     "output_type": "stream",
     "text": [
      "INFO:tensorflow:Assets written to: pretrain/model_2nd_seq_nor_package\\assets\n"
     ]
    },
    {
     "name": "stderr",
     "output_type": "stream",
     "text": [
      "INFO:tensorflow:Assets written to: pretrain/model_2nd_seq_nor_package\\assets\n"
     ]
    },
    {
     "name": "stdout",
     "output_type": "stream",
     "text": [
      "Model saved to pretrain/model_2nd_seq_nor_package.\n",
      "\n",
      "epoch 20\n",
      "84/84 [==============================] - 1s 17ms/step - train_model_loss: 22.0153 - train_reconstruction_loss: 21.6000 - train_kl_loss: 0.3418 - train_regression_loss: 0.1059 - val_model_loss: 21.7942 - val_reconstruction_loss: 21.3624 - val_kl_loss: 0.3617 - val_regression_loss: 0.0824\n",
      "WARNING:tensorflow:Compiled the loaded model, but the compiled metrics have yet to be built. `model.compile_metrics` will be empty until you train or evaluate the model.\n"
     ]
    },
    {
     "name": "stderr",
     "output_type": "stream",
     "text": [
      "WARNING:tensorflow:Compiled the loaded model, but the compiled metrics have yet to be built. `model.compile_metrics` will be empty until you train or evaluate the model.\n"
     ]
    },
    {
     "name": "stdout",
     "output_type": "stream",
     "text": [
      "INFO:tensorflow:Assets written to: pretrain/model_2nd_seq_nor_package\\assets\n"
     ]
    },
    {
     "name": "stderr",
     "output_type": "stream",
     "text": [
      "INFO:tensorflow:Assets written to: pretrain/model_2nd_seq_nor_package\\assets\n"
     ]
    },
    {
     "name": "stdout",
     "output_type": "stream",
     "text": [
      "Model saved to pretrain/model_2nd_seq_nor_package.\n",
      "\n",
      "epoch 21\n",
      "84/84 [==============================] - 1s 18ms/step - train_model_loss: 22.1742 - train_reconstruction_loss: 21.7741 - train_kl_loss: 0.3499 - train_regression_loss: 0.0816 - val_model_loss: 22.4298 - val_reconstruction_loss: 22.0556 - val_kl_loss: 0.3129 - val_regression_loss: 0.0744\n",
      "WARNING:tensorflow:Compiled the loaded model, but the compiled metrics have yet to be built. `model.compile_metrics` will be empty until you train or evaluate the model.\n"
     ]
    },
    {
     "name": "stderr",
     "output_type": "stream",
     "text": [
      "WARNING:tensorflow:Compiled the loaded model, but the compiled metrics have yet to be built. `model.compile_metrics` will be empty until you train or evaluate the model.\n"
     ]
    },
    {
     "name": "stdout",
     "output_type": "stream",
     "text": [
      "INFO:tensorflow:Assets written to: pretrain/model_2nd_seq_nor_package\\assets\n"
     ]
    },
    {
     "name": "stderr",
     "output_type": "stream",
     "text": [
      "INFO:tensorflow:Assets written to: pretrain/model_2nd_seq_nor_package\\assets\n"
     ]
    },
    {
     "name": "stdout",
     "output_type": "stream",
     "text": [
      "Model saved to pretrain/model_2nd_seq_nor_package.\n",
      "\n",
      "epoch 22\n",
      "84/84 [==============================] - 2s 19ms/step - train_model_loss: 21.8549 - train_reconstruction_loss: 21.4340 - train_kl_loss: 0.3542 - train_regression_loss: 0.0816 - val_model_loss: 21.8852 - val_reconstruction_loss: 21.4386 - val_kl_loss: 0.3857 - val_regression_loss: 0.1197\n",
      "WARNING:tensorflow:Compiled the loaded model, but the compiled metrics have yet to be built. `model.compile_metrics` will be empty until you train or evaluate the model.\n"
     ]
    },
    {
     "name": "stderr",
     "output_type": "stream",
     "text": [
      "WARNING:tensorflow:Compiled the loaded model, but the compiled metrics have yet to be built. `model.compile_metrics` will be empty until you train or evaluate the model.\n"
     ]
    },
    {
     "name": "stdout",
     "output_type": "stream",
     "text": [
      "INFO:tensorflow:Assets written to: pretrain/model_2nd_seq_nor_package\\assets\n"
     ]
    },
    {
     "name": "stderr",
     "output_type": "stream",
     "text": [
      "INFO:tensorflow:Assets written to: pretrain/model_2nd_seq_nor_package\\assets\n"
     ]
    },
    {
     "name": "stdout",
     "output_type": "stream",
     "text": [
      "Model saved to pretrain/model_2nd_seq_nor_package.\n",
      "\n",
      "epoch 23\n",
      "84/84 [==============================] - 1s 15ms/step - train_model_loss: 21.9994 - train_reconstruction_loss: 21.5481 - train_kl_loss: 0.3989 - train_regression_loss: 0.1051 - val_model_loss: 21.7008 - val_reconstruction_loss: 21.2322 - val_kl_loss: 0.3740 - val_regression_loss: 0.0846\n",
      "WARNING:tensorflow:Compiled the loaded model, but the compiled metrics have yet to be built. `model.compile_metrics` will be empty until you train or evaluate the model.\n"
     ]
    },
    {
     "name": "stderr",
     "output_type": "stream",
     "text": [
      "WARNING:tensorflow:Compiled the loaded model, but the compiled metrics have yet to be built. `model.compile_metrics` will be empty until you train or evaluate the model.\n"
     ]
    },
    {
     "name": "stdout",
     "output_type": "stream",
     "text": [
      "INFO:tensorflow:Assets written to: pretrain/model_2nd_seq_nor_package\\assets\n"
     ]
    },
    {
     "name": "stderr",
     "output_type": "stream",
     "text": [
      "INFO:tensorflow:Assets written to: pretrain/model_2nd_seq_nor_package\\assets\n"
     ]
    },
    {
     "name": "stdout",
     "output_type": "stream",
     "text": [
      "Model saved to pretrain/model_2nd_seq_nor_package.\n",
      "\n",
      "epoch 24\n",
      "84/84 [==============================] - 1s 14ms/step - train_model_loss: 21.7411 - train_reconstruction_loss: 21.2893 - train_kl_loss: 0.3716 - train_regression_loss: 0.1103 - val_model_loss: 21.9231 - val_reconstruction_loss: 21.5068 - val_kl_loss: 0.4022 - val_regression_loss: 0.0560\n",
      "WARNING:tensorflow:Compiled the loaded model, but the compiled metrics have yet to be built. `model.compile_metrics` will be empty until you train or evaluate the model.\n"
     ]
    },
    {
     "name": "stderr",
     "output_type": "stream",
     "text": [
      "WARNING:tensorflow:Compiled the loaded model, but the compiled metrics have yet to be built. `model.compile_metrics` will be empty until you train or evaluate the model.\n"
     ]
    },
    {
     "name": "stdout",
     "output_type": "stream",
     "text": [
      "INFO:tensorflow:Assets written to: pretrain/model_2nd_seq_nor_package\\assets\n"
     ]
    },
    {
     "name": "stderr",
     "output_type": "stream",
     "text": [
      "INFO:tensorflow:Assets written to: pretrain/model_2nd_seq_nor_package\\assets\n"
     ]
    },
    {
     "name": "stdout",
     "output_type": "stream",
     "text": [
      "Model saved to pretrain/model_2nd_seq_nor_package.\n",
      "\n",
      "epoch 25\n",
      "84/84 [==============================] - 1s 15ms/step - train_model_loss: 21.4353 - train_reconstruction_loss: 21.0025 - train_kl_loss: 0.3772 - train_regression_loss: 0.0746 - val_model_loss: 21.6682 - val_reconstruction_loss: 21.1730 - val_kl_loss: 0.3835 - val_regression_loss: 0.1085\n",
      "WARNING:tensorflow:Compiled the loaded model, but the compiled metrics have yet to be built. `model.compile_metrics` will be empty until you train or evaluate the model.\n"
     ]
    },
    {
     "name": "stderr",
     "output_type": "stream",
     "text": [
      "WARNING:tensorflow:Compiled the loaded model, but the compiled metrics have yet to be built. `model.compile_metrics` will be empty until you train or evaluate the model.\n"
     ]
    },
    {
     "name": "stdout",
     "output_type": "stream",
     "text": [
      "INFO:tensorflow:Assets written to: pretrain/model_2nd_seq_nor_package\\assets\n"
     ]
    },
    {
     "name": "stderr",
     "output_type": "stream",
     "text": [
      "INFO:tensorflow:Assets written to: pretrain/model_2nd_seq_nor_package\\assets\n"
     ]
    },
    {
     "name": "stdout",
     "output_type": "stream",
     "text": [
      "Model saved to pretrain/model_2nd_seq_nor_package.\n",
      "\n",
      "epoch 26\n",
      "84/84 [==============================] - 1s 17ms/step - train_model_loss: 21.6751 - train_reconstruction_loss: 21.2201 - train_kl_loss: 0.4067 - train_regression_loss: 0.0833 - val_model_loss: 21.4047 - val_reconstruction_loss: 20.9374 - val_kl_loss: 0.4199 - val_regression_loss: 0.1055\n",
      "WARNING:tensorflow:Compiled the loaded model, but the compiled metrics have yet to be built. `model.compile_metrics` will be empty until you train or evaluate the model.\n"
     ]
    },
    {
     "name": "stderr",
     "output_type": "stream",
     "text": [
      "WARNING:tensorflow:Compiled the loaded model, but the compiled metrics have yet to be built. `model.compile_metrics` will be empty until you train or evaluate the model.\n"
     ]
    },
    {
     "name": "stdout",
     "output_type": "stream",
     "text": [
      "INFO:tensorflow:Assets written to: pretrain/model_2nd_seq_nor_package\\assets\n"
     ]
    },
    {
     "name": "stderr",
     "output_type": "stream",
     "text": [
      "INFO:tensorflow:Assets written to: pretrain/model_2nd_seq_nor_package\\assets\n"
     ]
    },
    {
     "name": "stdout",
     "output_type": "stream",
     "text": [
      "Model saved to pretrain/model_2nd_seq_nor_package.\n",
      "\n",
      "epoch 27\n",
      "84/84 [==============================] - 1s 14ms/step - train_model_loss: 21.4602 - train_reconstruction_loss: 20.9927 - train_kl_loss: 0.4224 - train_regression_loss: 0.0873 - val_model_loss: 21.2168 - val_reconstruction_loss: 20.7079 - val_kl_loss: 0.4221 - val_regression_loss: 0.1214\n",
      "WARNING:tensorflow:Compiled the loaded model, but the compiled metrics have yet to be built. `model.compile_metrics` will be empty until you train or evaluate the model.\n"
     ]
    },
    {
     "name": "stderr",
     "output_type": "stream",
     "text": [
      "WARNING:tensorflow:Compiled the loaded model, but the compiled metrics have yet to be built. `model.compile_metrics` will be empty until you train or evaluate the model.\n"
     ]
    },
    {
     "name": "stdout",
     "output_type": "stream",
     "text": [
      "INFO:tensorflow:Assets written to: pretrain/model_2nd_seq_nor_package\\assets\n"
     ]
    },
    {
     "name": "stderr",
     "output_type": "stream",
     "text": [
      "INFO:tensorflow:Assets written to: pretrain/model_2nd_seq_nor_package\\assets\n"
     ]
    },
    {
     "name": "stdout",
     "output_type": "stream",
     "text": [
      "Model saved to pretrain/model_2nd_seq_nor_package.\n",
      "\n",
      "epoch 28\n",
      "84/84 [==============================] - 1s 18ms/step - train_model_loss: 21.6563 - train_reconstruction_loss: 21.2021 - train_kl_loss: 0.4106 - train_regression_loss: 0.0696 - val_model_loss: 21.7768 - val_reconstruction_loss: 21.3344 - val_kl_loss: 0.4391 - val_regression_loss: 0.0746\n",
      "WARNING:tensorflow:Compiled the loaded model, but the compiled metrics have yet to be built. `model.compile_metrics` will be empty until you train or evaluate the model.\n"
     ]
    },
    {
     "name": "stderr",
     "output_type": "stream",
     "text": [
      "WARNING:tensorflow:Compiled the loaded model, but the compiled metrics have yet to be built. `model.compile_metrics` will be empty until you train or evaluate the model.\n"
     ]
    },
    {
     "name": "stdout",
     "output_type": "stream",
     "text": [
      "INFO:tensorflow:Assets written to: pretrain/model_2nd_seq_nor_package\\assets\n"
     ]
    },
    {
     "name": "stderr",
     "output_type": "stream",
     "text": [
      "INFO:tensorflow:Assets written to: pretrain/model_2nd_seq_nor_package\\assets\n"
     ]
    },
    {
     "name": "stdout",
     "output_type": "stream",
     "text": [
      "Model saved to pretrain/model_2nd_seq_nor_package.\n",
      "\n",
      "epoch 29\n",
      "84/84 [==============================] - 1s 16ms/step - train_model_loss: 21.8953 - train_reconstruction_loss: 21.4431 - train_kl_loss: 0.4313 - train_regression_loss: 0.0729 - val_model_loss: 21.5236 - val_reconstruction_loss: 21.0261 - val_kl_loss: 0.4560 - val_regression_loss: 0.0827\n",
      "WARNING:tensorflow:Compiled the loaded model, but the compiled metrics have yet to be built. `model.compile_metrics` will be empty until you train or evaluate the model.\n"
     ]
    },
    {
     "name": "stderr",
     "output_type": "stream",
     "text": [
      "WARNING:tensorflow:Compiled the loaded model, but the compiled metrics have yet to be built. `model.compile_metrics` will be empty until you train or evaluate the model.\n"
     ]
    },
    {
     "name": "stdout",
     "output_type": "stream",
     "text": [
      "INFO:tensorflow:Assets written to: pretrain/model_2nd_seq_nor_package\\assets\n"
     ]
    },
    {
     "name": "stderr",
     "output_type": "stream",
     "text": [
      "INFO:tensorflow:Assets written to: pretrain/model_2nd_seq_nor_package\\assets\n"
     ]
    },
    {
     "name": "stdout",
     "output_type": "stream",
     "text": [
      "Model saved to pretrain/model_2nd_seq_nor_package.\n",
      "\n",
      "epoch 30\n",
      "84/84 [==============================] - 1s 15ms/step - train_model_loss: 22.0851 - train_reconstruction_loss: 21.6680 - train_kl_loss: 0.3705 - train_regression_loss: 0.0897 - val_model_loss: 22.5383 - val_reconstruction_loss: 22.1075 - val_kl_loss: 0.3589 - val_regression_loss: 0.0918\n",
      "WARNING:tensorflow:Compiled the loaded model, but the compiled metrics have yet to be built. `model.compile_metrics` will be empty until you train or evaluate the model.\n"
     ]
    },
    {
     "name": "stderr",
     "output_type": "stream",
     "text": [
      "WARNING:tensorflow:Compiled the loaded model, but the compiled metrics have yet to be built. `model.compile_metrics` will be empty until you train or evaluate the model.\n"
     ]
    },
    {
     "name": "stdout",
     "output_type": "stream",
     "text": [
      "INFO:tensorflow:Assets written to: pretrain/model_2nd_seq_nor_package\\assets\n"
     ]
    },
    {
     "name": "stderr",
     "output_type": "stream",
     "text": [
      "INFO:tensorflow:Assets written to: pretrain/model_2nd_seq_nor_package\\assets\n"
     ]
    },
    {
     "name": "stdout",
     "output_type": "stream",
     "text": [
      "Model saved to pretrain/model_2nd_seq_nor_package.\n",
      "Convergence history: [0]\n",
      "\n",
      "epoch 31\n",
      "84/84 [==============================] - 1s 17ms/step - train_model_loss: 21.8321 - train_reconstruction_loss: 21.4034 - train_kl_loss: 0.3856 - train_regression_loss: 0.0777 - val_model_loss: 21.8784 - val_reconstruction_loss: 21.4370 - val_kl_loss: 0.3711 - val_regression_loss: 0.0719\n",
      "WARNING:tensorflow:Compiled the loaded model, but the compiled metrics have yet to be built. `model.compile_metrics` will be empty until you train or evaluate the model.\n"
     ]
    },
    {
     "name": "stderr",
     "output_type": "stream",
     "text": [
      "WARNING:tensorflow:Compiled the loaded model, but the compiled metrics have yet to be built. `model.compile_metrics` will be empty until you train or evaluate the model.\n"
     ]
    },
    {
     "name": "stdout",
     "output_type": "stream",
     "text": [
      "INFO:tensorflow:Assets written to: pretrain/model_2nd_seq_nor_package\\assets\n"
     ]
    },
    {
     "name": "stderr",
     "output_type": "stream",
     "text": [
      "INFO:tensorflow:Assets written to: pretrain/model_2nd_seq_nor_package\\assets\n"
     ]
    },
    {
     "name": "stdout",
     "output_type": "stream",
     "text": [
      "Model saved to pretrain/model_2nd_seq_nor_package.\n",
      "Convergence history: [0, 0]\n",
      "\n",
      "epoch 32\n",
      "84/84 [==============================] - 1s 17ms/step - train_model_loss: 21.8338 - train_reconstruction_loss: 21.4071 - train_kl_loss: 0.3730 - train_regression_loss: 0.0753 - val_model_loss: 20.9612 - val_reconstruction_loss: 20.5745 - val_kl_loss: 0.3716 - val_regression_loss: 0.0633\n",
      "WARNING:tensorflow:Compiled the loaded model, but the compiled metrics have yet to be built. `model.compile_metrics` will be empty until you train or evaluate the model.\n"
     ]
    },
    {
     "name": "stderr",
     "output_type": "stream",
     "text": [
      "WARNING:tensorflow:Compiled the loaded model, but the compiled metrics have yet to be built. `model.compile_metrics` will be empty until you train or evaluate the model.\n"
     ]
    },
    {
     "name": "stdout",
     "output_type": "stream",
     "text": [
      "INFO:tensorflow:Assets written to: pretrain/model_2nd_seq_nor_package\\assets\n"
     ]
    },
    {
     "name": "stderr",
     "output_type": "stream",
     "text": [
      "INFO:tensorflow:Assets written to: pretrain/model_2nd_seq_nor_package\\assets\n"
     ]
    },
    {
     "name": "stdout",
     "output_type": "stream",
     "text": [
      "Model saved to pretrain/model_2nd_seq_nor_package.\n",
      "Convergence history: [0, 0, 1]\n",
      "\n",
      "epoch 33\n",
      "84/84 [==============================] - 2s 20ms/step - train_model_loss: 21.9855 - train_reconstruction_loss: 21.5813 - train_kl_loss: 0.3646 - train_regression_loss: 0.0781 - val_model_loss: 21.3271 - val_reconstruction_loss: 20.8855 - val_kl_loss: 0.4336 - val_regression_loss: 0.0533\n",
      "WARNING:tensorflow:Compiled the loaded model, but the compiled metrics have yet to be built. `model.compile_metrics` will be empty until you train or evaluate the model.\n"
     ]
    },
    {
     "name": "stderr",
     "output_type": "stream",
     "text": [
      "WARNING:tensorflow:Compiled the loaded model, but the compiled metrics have yet to be built. `model.compile_metrics` will be empty until you train or evaluate the model.\n"
     ]
    },
    {
     "name": "stdout",
     "output_type": "stream",
     "text": [
      "INFO:tensorflow:Assets written to: pretrain/model_2nd_seq_nor_package\\assets\n"
     ]
    },
    {
     "name": "stderr",
     "output_type": "stream",
     "text": [
      "INFO:tensorflow:Assets written to: pretrain/model_2nd_seq_nor_package\\assets\n"
     ]
    },
    {
     "name": "stdout",
     "output_type": "stream",
     "text": [
      "Model saved to pretrain/model_2nd_seq_nor_package.\n",
      "Convergence history: [0, 0, 1, 0]\n",
      "\n",
      "epoch 34\n",
      "84/84 [==============================] - 1s 15ms/step - train_model_loss: 21.1886 - train_reconstruction_loss: 20.7190 - train_kl_loss: 0.4560 - train_regression_loss: 0.0699 - val_model_loss: 21.4530 - val_reconstruction_loss: 20.9764 - val_kl_loss: 0.4497 - val_regression_loss: 0.0486\n",
      "WARNING:tensorflow:Compiled the loaded model, but the compiled metrics have yet to be built. `model.compile_metrics` will be empty until you train or evaluate the model.\n"
     ]
    },
    {
     "name": "stderr",
     "output_type": "stream",
     "text": [
      "WARNING:tensorflow:Compiled the loaded model, but the compiled metrics have yet to be built. `model.compile_metrics` will be empty until you train or evaluate the model.\n"
     ]
    },
    {
     "name": "stdout",
     "output_type": "stream",
     "text": [
      "INFO:tensorflow:Assets written to: pretrain/model_2nd_seq_nor_package\\assets\n"
     ]
    },
    {
     "name": "stderr",
     "output_type": "stream",
     "text": [
      "INFO:tensorflow:Assets written to: pretrain/model_2nd_seq_nor_package\\assets\n"
     ]
    },
    {
     "name": "stdout",
     "output_type": "stream",
     "text": [
      "Model saved to pretrain/model_2nd_seq_nor_package.\n",
      "Convergence history: [0, 0, 1, 0, 0]\n",
      "\n",
      "epoch 35\n",
      "84/84 [==============================] - 1s 17ms/step - train_model_loss: 21.4349 - train_reconstruction_loss: 20.9529 - train_kl_loss: 0.4657 - train_regression_loss: 0.0884 - val_model_loss: 21.5674 - val_reconstruction_loss: 21.0664 - val_kl_loss: 0.4491 - val_regression_loss: 0.0964\n",
      "WARNING:tensorflow:Compiled the loaded model, but the compiled metrics have yet to be built. `model.compile_metrics` will be empty until you train or evaluate the model.\n"
     ]
    },
    {
     "name": "stderr",
     "output_type": "stream",
     "text": [
      "WARNING:tensorflow:Compiled the loaded model, but the compiled metrics have yet to be built. `model.compile_metrics` will be empty until you train or evaluate the model.\n"
     ]
    },
    {
     "name": "stdout",
     "output_type": "stream",
     "text": [
      "INFO:tensorflow:Assets written to: pretrain/model_2nd_seq_nor_package\\assets\n"
     ]
    },
    {
     "name": "stderr",
     "output_type": "stream",
     "text": [
      "INFO:tensorflow:Assets written to: pretrain/model_2nd_seq_nor_package\\assets\n"
     ]
    },
    {
     "name": "stdout",
     "output_type": "stream",
     "text": [
      "Model saved to pretrain/model_2nd_seq_nor_package.\n",
      "Convergence history: [0, 0, 1, 0, 0, 0]\n",
      "\n",
      "epoch 36\n",
      "84/84 [==============================] - 1s 16ms/step - train_model_loss: 21.2303 - train_reconstruction_loss: 20.7554 - train_kl_loss: 0.4185 - train_regression_loss: 0.1096 - val_model_loss: 21.4025 - val_reconstruction_loss: 20.9329 - val_kl_loss: 0.4351 - val_regression_loss: 0.0804\n",
      "WARNING:tensorflow:Compiled the loaded model, but the compiled metrics have yet to be built. `model.compile_metrics` will be empty until you train or evaluate the model.\n"
     ]
    },
    {
     "name": "stderr",
     "output_type": "stream",
     "text": [
      "WARNING:tensorflow:Compiled the loaded model, but the compiled metrics have yet to be built. `model.compile_metrics` will be empty until you train or evaluate the model.\n"
     ]
    },
    {
     "name": "stdout",
     "output_type": "stream",
     "text": [
      "INFO:tensorflow:Assets written to: pretrain/model_2nd_seq_nor_package\\assets\n"
     ]
    },
    {
     "name": "stderr",
     "output_type": "stream",
     "text": [
      "INFO:tensorflow:Assets written to: pretrain/model_2nd_seq_nor_package\\assets\n"
     ]
    },
    {
     "name": "stdout",
     "output_type": "stream",
     "text": [
      "Model saved to pretrain/model_2nd_seq_nor_package.\n",
      "Convergence history: [0, 0, 1, 0, 0, 0, 0]\n",
      "\n",
      "epoch 37\n",
      "84/84 [==============================] - 1s 15ms/step - train_model_loss: 21.5668 - train_reconstruction_loss: 21.0772 - train_kl_loss: 0.4194 - train_regression_loss: 0.0885 - val_model_loss: 21.3119 - val_reconstruction_loss: 20.8113 - val_kl_loss: 0.4868 - val_regression_loss: 0.0839\n",
      "WARNING:tensorflow:Compiled the loaded model, but the compiled metrics have yet to be built. `model.compile_metrics` will be empty until you train or evaluate the model.\n"
     ]
    },
    {
     "name": "stderr",
     "output_type": "stream",
     "text": [
      "WARNING:tensorflow:Compiled the loaded model, but the compiled metrics have yet to be built. `model.compile_metrics` will be empty until you train or evaluate the model.\n"
     ]
    },
    {
     "name": "stdout",
     "output_type": "stream",
     "text": [
      "INFO:tensorflow:Assets written to: pretrain/model_2nd_seq_nor_package\\assets\n"
     ]
    },
    {
     "name": "stderr",
     "output_type": "stream",
     "text": [
      "INFO:tensorflow:Assets written to: pretrain/model_2nd_seq_nor_package\\assets\n"
     ]
    },
    {
     "name": "stdout",
     "output_type": "stream",
     "text": [
      "Model saved to pretrain/model_2nd_seq_nor_package.\n",
      "Convergence history: [0, 0, 1, 0, 0, 0, 0, 0]\n",
      "\n",
      "epoch 38\n",
      "84/84 [==============================] - 2s 19ms/step - train_model_loss: 21.3418 - train_reconstruction_loss: 20.8535 - train_kl_loss: 0.4467 - train_regression_loss: 0.0831 - val_model_loss: 21.3497 - val_reconstruction_loss: 20.8532 - val_kl_loss: 0.4881 - val_regression_loss: 0.0845\n",
      "WARNING:tensorflow:Compiled the loaded model, but the compiled metrics have yet to be built. `model.compile_metrics` will be empty until you train or evaluate the model.\n"
     ]
    },
    {
     "name": "stderr",
     "output_type": "stream",
     "text": [
      "WARNING:tensorflow:Compiled the loaded model, but the compiled metrics have yet to be built. `model.compile_metrics` will be empty until you train or evaluate the model.\n"
     ]
    },
    {
     "name": "stdout",
     "output_type": "stream",
     "text": [
      "INFO:tensorflow:Assets written to: pretrain/model_2nd_seq_nor_package\\assets\n"
     ]
    },
    {
     "name": "stderr",
     "output_type": "stream",
     "text": [
      "INFO:tensorflow:Assets written to: pretrain/model_2nd_seq_nor_package\\assets\n"
     ]
    },
    {
     "name": "stdout",
     "output_type": "stream",
     "text": [
      "Model saved to pretrain/model_2nd_seq_nor_package.\n",
      "Convergence history: [0, 0, 1, 0, 0, 0, 0, 0, 0]\n",
      "\n",
      "epoch 39\n",
      "84/84 [==============================] - 1s 16ms/step - train_model_loss: 21.2106 - train_reconstruction_loss: 20.7165 - train_kl_loss: 0.4672 - train_regression_loss: 0.0767 - val_model_loss: 20.4286 - val_reconstruction_loss: 19.9348 - val_kl_loss: 0.4868 - val_regression_loss: 0.0582\n",
      "WARNING:tensorflow:Compiled the loaded model, but the compiled metrics have yet to be built. `model.compile_metrics` will be empty until you train or evaluate the model.\n"
     ]
    },
    {
     "name": "stderr",
     "output_type": "stream",
     "text": [
      "WARNING:tensorflow:Compiled the loaded model, but the compiled metrics have yet to be built. `model.compile_metrics` will be empty until you train or evaluate the model.\n"
     ]
    },
    {
     "name": "stdout",
     "output_type": "stream",
     "text": [
      "INFO:tensorflow:Assets written to: pretrain/model_2nd_seq_nor_package\\assets\n"
     ]
    },
    {
     "name": "stderr",
     "output_type": "stream",
     "text": [
      "INFO:tensorflow:Assets written to: pretrain/model_2nd_seq_nor_package\\assets\n"
     ]
    },
    {
     "name": "stdout",
     "output_type": "stream",
     "text": [
      "Model saved to pretrain/model_2nd_seq_nor_package.\n",
      "Convergence history: [0, 0, 1, 0, 0, 0, 0, 0, 0, 0]\n",
      "\n",
      "epoch 40\n",
      "84/84 [==============================] - 2s 20ms/step - train_model_loss: 21.1437 - train_reconstruction_loss: 20.6631 - train_kl_loss: 0.4315 - train_regression_loss: 0.0927 - val_model_loss: 20.8026 - val_reconstruction_loss: 20.3439 - val_kl_loss: 0.4234 - val_regression_loss: 0.0780\n",
      "WARNING:tensorflow:Compiled the loaded model, but the compiled metrics have yet to be built. `model.compile_metrics` will be empty until you train or evaluate the model.\n"
     ]
    },
    {
     "name": "stderr",
     "output_type": "stream",
     "text": [
      "WARNING:tensorflow:Compiled the loaded model, but the compiled metrics have yet to be built. `model.compile_metrics` will be empty until you train or evaluate the model.\n"
     ]
    },
    {
     "name": "stdout",
     "output_type": "stream",
     "text": [
      "INFO:tensorflow:Assets written to: pretrain/model_2nd_seq_nor_package\\assets\n"
     ]
    },
    {
     "name": "stderr",
     "output_type": "stream",
     "text": [
      "INFO:tensorflow:Assets written to: pretrain/model_2nd_seq_nor_package\\assets\n"
     ]
    },
    {
     "name": "stdout",
     "output_type": "stream",
     "text": [
      "Model saved to pretrain/model_2nd_seq_nor_package.\n",
      "Hit maximum epochs.\n",
      "Finished training model. Final overall losses:\n",
      "train: 21.144    val:20.803\n",
      "6/6 [==============================] - 0s 332us/step\n",
      "6/6 [==============================] - 0s 3ms/step\n",
      "\n",
      "MSE of predictions vs true labels: 0.08623743802309036\n",
      "WARNING:tensorflow:Compiled the loaded model, but the compiled metrics have yet to be built. `model.compile_metrics` will be empty until you train or evaluate the model.\n"
     ]
    },
    {
     "name": "stderr",
     "output_type": "stream",
     "text": [
      "WARNING:tensorflow:Compiled the loaded model, but the compiled metrics have yet to be built. `model.compile_metrics` will be empty until you train or evaluate the model.\n"
     ]
    },
    {
     "name": "stdout",
     "output_type": "stream",
     "text": [
      "INFO:tensorflow:Assets written to: e:\\Elite\\Now_repority\\20240220\\trained_models\\2024419_nor_package_6D_40epochs_21.14T_20.80V\\model\\assets\n"
     ]
    },
    {
     "name": "stderr",
     "output_type": "stream",
     "text": [
      "INFO:tensorflow:Assets written to: e:\\Elite\\Now_repority\\20240220\\trained_models\\2024419_nor_package_6D_40epochs_21.14T_20.80V\\model\\assets\n"
     ]
    },
    {
     "name": "stdout",
     "output_type": "stream",
     "text": [
      "Model saved to e:\\Elite\\Now_repority\\20240220\\trained_models\\2024419_nor_package_6D_40epochs_21.14T_20.80V\\model.\n",
      "Losses saved to e:\\Elite\\Now_repority\\20240220\\trained_models\\2024419_nor_package_6D_40epochs_21.14T_20.80V\\loss_log.csv.\n",
      "Train predictions saved to e:\\Elite\\Now_repority\\20240220\\trained_models\\2024419_nor_package_6D_40epochs_21.14T_20.80V\\preds.csv.\n"
     ]
    }
   ],
   "source": [
    "# Train model\n",
    "model, preds_df, model_outdir = train_new(model, train_batches, val_batches, array,outpath,train_df, \n",
    "                        optimizer=optimizer,\n",
    "                        loss_weights=loss_weights           \n",
    "                        )\n"
   ]
  },
  {
   "cell_type": "markdown",
   "metadata": {},
   "source": [
    "####  Correlation between result and prediction "
   ]
  },
  {
   "cell_type": "code",
   "execution_count": 9,
   "metadata": {},
   "outputs": [
    {
     "name": "stderr",
     "output_type": "stream",
     "text": [
      "d:\\ProgramData\\anaconda3\\envs\\tf\\lib\\site-packages\\numpy\\lib\\histograms.py:906: RuntimeWarning: invalid value encountered in divide\n",
      "  return n/db/n.sum(), bin_edges\n"
     ]
    },
    {
     "data": {
      "image/png": "[encoded data removed]",
      "text/plain": [
       "<Figure size 210x195 with 4 Axes>"
      ]
     },
     "metadata": {},
     "output_type": "display_data"
    }
   ],
   "source": [
    "x = preds_df['y_pred']\n",
    "y = preds_df['y_true']\n",
    "\n",
    "remove = np.isinf(x) & np.isinf(y)\n",
    "x = x[~remove]\n",
    "y = y[~remove]\n",
    "\n",
    "keep = (~np.isinf(x)) & (~np.isinf(y))\n",
    "x_both = x[keep]\n",
    "y_both = y[keep]\n",
    "\n",
    "y_missing = y[np.isinf(x)]\n",
    "x_missing = x[np.isinf(y)]\n",
    "\n",
    "\n",
    "kernel = gaussian_kde(np.vstack([\n",
    "    x_both.sample(n=100, random_state=1), \n",
    "    y_both.sample(n=100, random_state=1)\n",
    "]))\n",
    "c_both = kernel(np.vstack([x_both.values, y_both.values]))\n",
    "\n",
    "\n",
    "fig = plt.figure(figsize=(1.4,1.3), dpi=150)\n",
    "\n",
    "gs = fig.add_gridspec(2, 2, left=0.275, right=0.95, bottom=0.22, top=0.95, \n",
    "                      width_ratios=[1, 6], height_ratios=[6, 1], hspace=0., wspace=0)\n",
    "ax = fig.add_subplot(gs[0, 1])\n",
    "ax.scatter(x_both, y_both, c=c_both, cmap=mpl.cm.inferno, s=0.2, edgecolor='none', rasterized=True)\n",
    "ax.set_xticks([]); ax.set_yticks([])\n",
    "xlim = [-11, 12]\n",
    "bins = np.linspace(*xlim, 25)\n",
    "ax.set_xlim(xlim); ax.set_ylim(xlim)\n",
    "ax.text(0.03, 0.97, r'$r$ = {:.2f}'.format(np.corrcoef(x_both, y_both)[0, 1]),\n",
    "       transform=ax.transAxes, ha='left', va='top', fontsize=7)\n",
    "\n",
    "ax.text(0.97, 0.01, 'n={}'.format(si_format(len(x_both)), precision=2, format_str='{value}{prefix}',), \n",
    "        transform=ax.transAxes, ha='right', va='bottom', fontsize=7)\n",
    "\n",
    "# Left Marginal\n",
    "ax = fig.add_subplot(gs[0, 0])\n",
    "ax.hist(y_missing, bins=bins, edgecolor='none', orientation='horizontal', density=True, color='r')\n",
    "ax.set_ylim(xlim)\n",
    "ax.set_xticks([]); ax.set_yticks([-5, 0, 5, 10, 15,20])\n",
    "ax.text(0.97, 0.97, 'n={}'.format(si_format(len(y_missing)), precision=2, format_str='{value}{prefix}',), \n",
    "        transform=ax.transAxes, ha='right', va='top', fontsize=7, rotation=90, color='r')\n",
    "ax.set_ylabel('Prediction', labelpad=1,fontsize=7)\n",
    "ax.tick_params(axis='both', labelsize=6, length=2, pad=1)\n",
    "\n",
    "# Bottom Marginal\n",
    "ax = fig.add_subplot(gs[1, 1])\n",
    "ax.hist(x_missing, bins=bins, edgecolor='none', density=True, color='r')\n",
    "ax.set_xlim(xlim)\n",
    "ax.set_xticks([-5, 0, 5, 10, 15,20]); ax.set_yticks([])\n",
    "ax.text(0.97, 0.8, 'n={}'.format(si_format(len(x_missing)), precision=2, format_str='{value}{prefix}',), \n",
    "        transform=ax.transAxes, ha='right', va='top', fontsize=7, color='r')\n",
    "ax.set_xlabel('Truth', labelpad=2,fontsize=7)\n",
    "ax.tick_params(axis='both', labelsize=6, length=2, pad=1)\n",
    "\n",
    "\n",
    "# Missing label (not detected in either)\n",
    "ax = fig.add_subplot(gs[1, 0])\n",
    "for spine in ['bottom', 'left']:\n",
    "    ax.spines[spine].set_visible(False)\n",
    "ax.set_xticks([]); ax.set_yticks([])\n",
    "\n",
    "ax.text(0.8, 0.8, 'Missing', transform=ax.transAxes, color='r', ha='right', va='top', fontsize=7, clip_on=False)\n",
    "fig.savefig('../results/vae/2nd_results/2nd_vae_seq_nor_package_correlation_train.pdf',dpi=300,bbox_inches='tight')"
   ]
  },
  {
   "cell_type": "code",
   "execution_count": 10,
   "metadata": {},
   "outputs": [
    {
     "data": {
      "image/png": "[encoded data removed]",
      "text/plain": [
       "<Figure size 200x170 with 1 Axes>"
      ]
     },
     "metadata": {},
     "output_type": "display_data"
    }
   ],
   "source": [
    "\n",
    "data = np.array(preds_df['y_pred']) \n",
    "data = data.reshape(-1, 1)  # Convert the data into a column vector\n",
    "\n",
    "# Fit the data using GaussianMixture\n",
    "n_components = 1 # Set the number of components for the hybrid model\n",
    "gmm = GaussianMixture(n_components=n_components)\n",
    "gmm.fit(data)\n",
    "\n",
    "# Get the mean and covariance matrix for each component\n",
    "means = gmm.means_\n",
    "covariances = gmm.covariances_\n",
    "\n",
    "# Generate the fitted distribution\n",
    "x = np.linspace(-7, 5, 100000)\n",
    "x = x.reshape(-1, 1)\n",
    "y = np.exp(gmm.score_samples(x))\n",
    "\n",
    "fig,ax = plt.subplots(figsize=(2,1.7),dpi=100)\n",
    "# Plot the raw data and the distribution after fitting\n",
    "plt.hist(data, bins=100, density=True, alpha=0.6, color = '#BAB3A3',label='Prediction')\n",
    "\n",
    "# 绘制每个分量的正态分布\n",
    "for i in range(n_components):\n",
    "    component = np.exp(-(x - means[i]) ** 2 / (2 * covariances[i]))\n",
    "    component /= np.sqrt(2 * np.pi * covariances[i])\n",
    "    component *= gmm.weights_[i]\n",
    "    if i == 0:\n",
    "        ax.plot(x, component, '-', label=f'Distribution {i + 1}', color='#F66E68', alpha=1)\n",
    "        ax.fill_between(x.flatten(), 0, component.flatten(), color='#F66E68', alpha=0.4)\n",
    "    else:\n",
    "        ax.plot(x, component, '-', label=f'Distribution {i + 1}', color='#457B9D', alpha=1)\n",
    "        ax.fill_between(x.flatten(), 0, component.flatten(), color='#457B9D', alpha=0.4)\n",
    "\n",
    "\n",
    "plt.title('Prediction',fontsize=10)\n",
    "ax.tick_params(axis='both', which='both', length=2,labelsize=10)\n",
    "ax.set_xticks([-5, 0, 5]); \n",
    "# ax.set_yticks([])\n",
    "plt.ylabel('Density',labelpad=1,fontsize=10)\n",
    "plt.xlabel('Nor_package',labelpad=1,fontsize=10)\n",
    "plt.legend(fontsize=7,frameon=False)\n",
    "plt.show()\n",
    "fig.savefig('../results/vae/2nd_results/2nd_vae_seq_nor_package_distribution_train.pdf',dpi=300,bbox_inches='tight')"
   ]
  },
  {
   "cell_type": "code",
   "execution_count": 11,
   "metadata": {},
   "outputs": [
    {
     "ename": "TypeError",
     "evalue": "predict() missing 1 required positional argument: 'array'",
     "output_type": "error",
     "traceback": [
      "\u001b[1;31m---------------------------------------------------------------------------\u001b[0m",
      "\u001b[1;31mTypeError\u001b[0m                                 Traceback (most recent call last)",
      "Cell \u001b[1;32mIn[11], line 4\u001b[0m\n\u001b[0;32m      2\u001b[0m X \u001b[38;5;241m=\u001b[39m test_df\u001b[38;5;241m.\u001b[39mdrop(columns\u001b[38;5;241m=\u001b[39m[array,\u001b[38;5;124m'\u001b[39m\u001b[38;5;124mY--nor_package\u001b[39m\u001b[38;5;124m'\u001b[39m])\n\u001b[0;32m      3\u001b[0m Y \u001b[38;5;241m=\u001b[39m test_df[\u001b[38;5;124m'\u001b[39m\u001b[38;5;124mY--nor_package\u001b[39m\u001b[38;5;124m'\u001b[39m]\u001b[38;5;241m.\u001b[39mvalues\n\u001b[1;32m----> 4\u001b[0m preds_df \u001b[38;5;241m=\u001b[39m \u001b[43mpredict\u001b[49m\u001b[43m(\u001b[49m\u001b[43mmodel\u001b[49m\u001b[43m,\u001b[49m\u001b[43m \u001b[49m\u001b[43mX\u001b[49m\u001b[43m,\u001b[49m\u001b[43m \u001b[49m\u001b[43mY\u001b[49m\u001b[38;5;241;43m=\u001b[39;49m\u001b[43mY\u001b[49m\u001b[43m,\u001b[49m\u001b[43m \u001b[49m\u001b[43mAA\u001b[49m\u001b[38;5;241;43m=\u001b[39;49m\u001b[43mAA\u001b[49m\u001b[43m)\u001b[49m\n\u001b[0;32m      5\u001b[0m preds_df[\u001b[38;5;124m'\u001b[39m\u001b[38;5;124my_pred\u001b[39m\u001b[38;5;124m'\u001b[39m]\u001b[38;5;241m.\u001b[39mcorr(preds_df[\u001b[38;5;124m'\u001b[39m\u001b[38;5;124my_true\u001b[39m\u001b[38;5;124m'\u001b[39m])\n",
      "\u001b[1;31mTypeError\u001b[0m: predict() missing 1 required positional argument: 'array'"
     ]
    }
   ],
   "source": [
    "AA = test_df[array].values\n",
    "X = test_df.drop(columns=[array,'Y--nor_package'])\n",
    "Y = test_df['Y--nor_package'].values\n",
    "preds_df = predict(model, X,array, Y=Y, AA=AA)\n",
    "preds_df['y_pred'].corr(preds_df['y_true'])"
   ]
  },
  {
   "cell_type": "code",
   "execution_count": null,
   "metadata": {},
   "outputs": [],
   "source": [
    "x = preds_df['y_pred']\n",
    "y = preds_df['y_true']\n",
    "\n",
    "remove = np.isinf(x) & np.isinf(y)\n",
    "x = x[~remove]\n",
    "y = y[~remove]\n",
    "\n",
    "keep = (~np.isinf(x)) & (~np.isinf(y))\n",
    "x_both = x[keep]\n",
    "y_both = y[keep]\n",
    "\n",
    "y_missing = y[np.isinf(x)]\n",
    "x_missing = x[np.isinf(y)]\n",
    "\n",
    "\n",
    "kernel = gaussian_kde(np.vstack([\n",
    "    x_both.sample(n=100, random_state=1), \n",
    "    y_both.sample(n=100, random_state=1)\n",
    "]))\n",
    "c_both = kernel(np.vstack([x_both.values, y_both.values]))\n",
    "\n",
    "\n",
    "fig = plt.figure(figsize=(1.4,1.3), dpi=150)\n",
    "\n",
    "gs = fig.add_gridspec(2, 2, left=0.275, right=0.95, bottom=0.22, top=0.95, \n",
    "                      width_ratios=[1, 6], height_ratios=[6, 1], hspace=0., wspace=0)\n",
    "ax = fig.add_subplot(gs[0, 1])\n",
    "ax.scatter(x_both, y_both, c=c_both, cmap=mpl.cm.inferno, s=0.2, edgecolor='none', rasterized=True)\n",
    "ax.set_xticks([]); ax.set_yticks([])\n",
    "xlim = [-11, 12]\n",
    "bins = np.linspace(*xlim, 25)\n",
    "ax.set_xlim(xlim); ax.set_ylim(xlim)\n",
    "ax.text(0.03, 0.97, r'$r$ = {:.2f}'.format(np.corrcoef(x_both, y_both)[0, 1]),\n",
    "       transform=ax.transAxes, ha='left', va='top', fontsize=7)\n",
    "\n",
    "ax.text(0.97, 0.01, 'n={}'.format(si_format(len(x_both)), precision=2, format_str='{value}{prefix}',), \n",
    "        transform=ax.transAxes, ha='right', va='bottom', fontsize=7)\n",
    "\n",
    "# Left Marginal\n",
    "ax = fig.add_subplot(gs[0, 0])\n",
    "ax.hist(y_missing, bins=bins, edgecolor='none', orientation='horizontal', density=True, color='r')\n",
    "ax.set_ylim(xlim)\n",
    "ax.set_xticks([]); ax.set_yticks([-5, 0, 5, 10, 15,20])\n",
    "ax.text(0.97, 0.97, 'n={}'.format(si_format(len(y_missing)), precision=2, format_str='{value}{prefix}',), \n",
    "        transform=ax.transAxes, ha='right', va='top', fontsize=7, rotation=90, color='r')\n",
    "ax.set_ylabel('Prediction', labelpad=1,fontsize=7)\n",
    "ax.tick_params(axis='both', labelsize=6, length=2, pad=1)\n",
    "\n",
    "# Bottom Marginal\n",
    "ax = fig.add_subplot(gs[1, 1])\n",
    "ax.hist(x_missing, bins=bins, edgecolor='none', density=True, color='r')\n",
    "ax.set_xlim(xlim)\n",
    "ax.set_xticks([-5, 0, 5, 10, 15,20]); ax.set_yticks([])\n",
    "ax.text(0.97, 0.8, 'n={}'.format(si_format(len(x_missing)), precision=2, format_str='{value}{prefix}',), \n",
    "        transform=ax.transAxes, ha='right', va='top', fontsize=7, color='r')\n",
    "ax.set_xlabel('Truth', labelpad=2,fontsize=7)\n",
    "ax.tick_params(axis='both', labelsize=6, length=2, pad=1)\n",
    "\n",
    "\n",
    "# Missing label (not detected in either)\n",
    "ax = fig.add_subplot(gs[1, 0])\n",
    "for spine in ['bottom', 'left']:\n",
    "    ax.spines[spine].set_visible(False)\n",
    "ax.set_xticks([]); ax.set_yticks([])\n",
    "\n",
    "ax.text(0.8, 0.8, 'Missing', transform=ax.transAxes, color='r', ha='right', va='top', fontsize=7, clip_on=False)\n",
    "fig.savefig('../results/vae/2nd_results/2nd_vae_seq_nor_package_correlation_test.pdf',dpi=300,bbox_inches='tight')"
   ]
  },
  {
   "cell_type": "code",
   "execution_count": null,
   "metadata": {},
   "outputs": [],
   "source": [
    "\n",
    "data = np.array(preds_df['y_pred']) \n",
    "data = data.reshape(-1, 1)  # Convert the data into a column vector\n",
    "\n",
    "# Fit the data using GaussianMixture\n",
    "n_components = 2 # Set the number of components for the hybrid model\n",
    "gmm = GaussianMixture(n_components=n_components)\n",
    "gmm.fit(data)\n",
    "\n",
    "# Get the mean and covariance matrix for each component\n",
    "means = gmm.means_\n",
    "covariances = gmm.covariances_\n",
    "\n",
    "# Generate the fitted distribution\n",
    "x = np.linspace(-7, 5, 100000)\n",
    "x = x.reshape(-1, 1)\n",
    "y = np.exp(gmm.score_samples(x))\n",
    "\n",
    "fig,ax = plt.subplots(figsize=(2,1.7),dpi=100)\n",
    "# Plot the raw data and the distribution after fitting\n",
    "plt.hist(data, bins=100, density=True, alpha=0.6, color = '#BAB3A3',label='Prediction')\n",
    "\n",
    "# 绘制每个分量的正态分布\n",
    "for i in range(n_components):\n",
    "    component = np.exp(-(x - means[i]) ** 2 / (2 * covariances[i]))\n",
    "    component /= np.sqrt(2 * np.pi * covariances[i])\n",
    "    component *= gmm.weights_[i]\n",
    "    if i == 0:\n",
    "        ax.plot(x, component, '-', label=f'Distribution {i + 1}', color='#F66E68', alpha=1)\n",
    "        ax.fill_between(x.flatten(), 0, component.flatten(), color='#F66E68', alpha=0.4)\n",
    "    else:\n",
    "        ax.plot(x, component, '-', label=f'Distribution {i + 1}', color='#457B9D', alpha=1)\n",
    "        ax.fill_between(x.flatten(), 0, component.flatten(), color='#457B9D', alpha=0.4)\n",
    "\n",
    "\n",
    "plt.title('Prediction',fontsize=10)\n",
    "ax.tick_params(axis='both', which='both', length=2,labelsize=10)\n",
    "ax.set_xticks([-5, 0, 5]); \n",
    "# ax.set_yticks([])\n",
    "plt.ylabel('Density',labelpad=1,fontsize=10)\n",
    "plt.xlabel('Nor_package',labelpad=1,fontsize=10)\n",
    "plt.legend(fontsize=7,frameon=False)\n",
    "plt.show()\n",
    "fig.savefig('../results/vae/2nd_results/2nd_vae_seq_nor_package_distribution_test.pdf',dpi=300,bbox_inches='tight')"
   ]
  },
  {
   "cell_type": "code",
   "execution_count": null,
   "metadata": {},
   "outputs": [],
   "source": []
  },
  {
   "cell_type": "code",
   "execution_count": null,
   "metadata": {},
   "outputs": [],
   "source": []
  }
 ],
 "metadata": {
  "kernelspec": {
   "display_name": "Python 3 (ipykernel)",
   "language": "python",
   "name": "python3"
  },
  "language_info": {
   "codemirror_mode": {
    "name": "ipython",
    "version": 3
   },
   "file_extension": ".py",
   "mimetype": "text/x-python",
   "name": "python",
   "nbconvert_exporter": "python",
   "pygments_lexer": "ipython3",
   "version": "3.8.16"
  },
  "vscode": {
   "interpreter": {
    "hash": "00dedd32bda6164f33307b9f113fca69379b5d26ecb5a9003c28a7bd4ecd46dd"
   }
  }
 },
 "nbformat": 4,
 "nbformat_minor": 4
}
