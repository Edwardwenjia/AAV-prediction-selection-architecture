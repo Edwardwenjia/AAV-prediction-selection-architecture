{
 "cells": [
  {
   "cell_type": "code",
   "execution_count": 15,
   "metadata": {},
   "outputs": [],
   "source": [
    "import pandas as pd\n",
    "import numpy as np\n",
    "import matplotlib as mpl\n",
    "import matplotlib.pyplot as plt\n",
    "import seaborn as sn\n",
    "import tensorflow as tf\n",
    "from IPython.display import Image\n",
    "from scipy.stats import gaussian_kde, norm\n",
    "from sklearn.mixture import GaussianMixture\n",
    "\n",
    "from utils_f4f import CustomEarlyStopping, rnn_aa_model,AA_hotencoding ,heatmap, si_format\n",
    "\n"
   ]
  },
  {
   "cell_type": "code",
   "execution_count": 3,
   "metadata": {},
   "outputs": [],
   "source": [
    "def normdata(data):\n",
    "    max_val = max(data)\n",
    "    min_val = min(data)\n",
    "\n",
    "    norm_data = 10*(data - min_val)/(max_val - min_val) -5\n",
    "\n",
    "    return norm_data"
   ]
  },
  {
   "cell_type": "markdown",
   "metadata": {},
   "source": [
    "#### Data_preparetion"
   ]
  },
  {
   "cell_type": "code",
   "execution_count": 4,
   "metadata": {},
   "outputs": [],
   "source": [
    "df_all = pd.read_csv('../data/2nd_Top50_exprement.tsv',delimiter='\\t')\n",
    "df_all = df_all.rename(columns={'aa':'AA_sequence'})\n"
   ]
  },
  {
   "cell_type": "markdown",
   "metadata": {},
   "source": [
    "#### AA-sequence-nor_package"
   ]
  },
  {
   "cell_type": "code",
   "execution_count": 20,
   "metadata": {},
   "outputs": [],
   "source": [
    "aa_nor_package = df_all[['AA_sequence', 'nor_package']]\n",
    "aa_nor_package = aa_nor_package.sort_values(by='nor_package')\n",
    "train_size = 0\n",
    "validation_size = 50\n",
    "train, validate, test = np.split(aa_nor_package.sample(frac=1),  [train_size, train_size+validation_size])\n",
    "# Hot Encoding\n",
    "\n",
    "validate_x =  np.asarray([AA_hotencoding(variant) for variant in validate['AA_sequence']])\n",
    "validate_y = validate['nor_package']\n",
    "# \n",
    "# (data_list, train_df, test_df, prepped_df) = prep_data(aa_nor_package,AA_colname = 'AA_sequence', target_assay_col=\"nor_package\")\n",
    "\n",
    "# top50_df =  prepped_df.drop(columns=['test','AA_sequence','Y--nor_package'])\n",
    "# AA_sequence = prepped_df['AA_sequence'] \n",
    "array = 'AA_sequence'"
   ]
  },
  {
   "cell_type": "code",
   "execution_count": 14,
   "metadata": {},
   "outputs": [
    {
     "data": {
      "text/plain": [
       "(50,)"
      ]
     },
     "execution_count": 14,
     "metadata": {},
     "output_type": "execute_result"
    }
   ],
   "source": []
  },
  {
   "cell_type": "markdown",
   "metadata": {},
   "source": [
    "##### First model(1st_aa_nor_package) "
   ]
  },
  {
   "cell_type": "code",
   "execution_count": 18,
   "metadata": {},
   "outputs": [
    {
     "name": "stdout",
     "output_type": "stream",
     "text": [
      "2/2 [==============================] - 1s 3ms/step\n"
     ]
    },
    {
     "name": "stderr",
     "output_type": "stream",
     "text": [
      "d:\\ProgramData\\anaconda3\\envs\\tf\\lib\\site-packages\\numpy\\lib\\histograms.py:906: RuntimeWarning: invalid value encountered in divide\n",
      "  return n/db/n.sum(), bin_edges\n"
     ]
    },
    {
     "data": {
      "image/png": "[encoded data removed]",
      "text/plain": [
       "<Figure size 210x195 with 4 Axes>"
      ]
     },
     "metadata": {},
     "output_type": "display_data"
    },
    {
     "data": {
      "text/plain": [
       "<matplotlib.legend.Legend at 0x19091207820>"
      ]
     },
     "execution_count": 18,
     "metadata": {},
     "output_type": "execute_result"
    },
    {
     "data": {
      "image/png": "[encoded data removed]",
      "text/plain": [
       "<Figure size 200x170 with 1 Axes>"
      ]
     },
     "metadata": {},
     "output_type": "display_data"
    }
   ],
   "source": [
    "model_outdir = 'pretrain\\model_1st_rnn_aa_nor_package.h5'\n",
    "model_outpath = model_outdir\n",
    "model = tf.keras.models.load_model(model_outdir)\n",
    "y = model.predict(validate_x)\n",
    "x = np.array(validate_y)\n",
    "y = np.reshape(y, (1,y.shape[0]))[0]\n",
    "preds_df = pd.DataFrame(columns=['y_pred','y_true'])\n",
    "preds_df['y_pred'] = pd.DataFrame(y)\n",
    "preds_df['y_true']  = pd.DataFrame(x)\n",
    "\n",
    "\n",
    "preds_top50 = pd.DataFrame(columns=['norm_pred','norm_true'])\n",
    "preds_top50['norm_pred'] = normdata(preds_df['y_pred'])\n",
    "preds_top50['norm_true'] = normdata(preds_df['y_true'])\n",
    "\n",
    "x = preds_top50['norm_pred']\n",
    "y = preds_top50['norm_true']\n",
    "\n",
    "remove = np.isinf(x) & np.isinf(y)\n",
    "x = x[~remove]\n",
    "y = y[~remove]\n",
    "\n",
    "keep = (~np.isinf(x)) & (~np.isinf(y))\n",
    "x_both = x[keep]\n",
    "y_both = y[keep]\n",
    "\n",
    "y_missing = y[np.isinf(x)]\n",
    "x_missing = x[np.isinf(y)]\n",
    "\n",
    "\n",
    "kernel = gaussian_kde(np.vstack([\n",
    "    x_both.sample(n=50, random_state=1), \n",
    "    y_both.sample(n=50, random_state=1)\n",
    "]))\n",
    "c_both = kernel(np.vstack([x_both.values, y_both.values]))\n",
    "\n",
    "fig = plt.figure(figsize=(1.4,1.3), dpi=150)\n",
    "\n",
    "gs = fig.add_gridspec(2, 2, left=0.275, right=0.95, bottom=0.22, top=0.95, \n",
    "                      width_ratios=[1, 6], height_ratios=[6, 1], hspace=0., wspace=0)\n",
    "ax = fig.add_subplot(gs[0, 1])\n",
    "ax.scatter(x_both, y_both, c=c_both, cmap=mpl.cm.inferno, s=2, edgecolor='none', rasterized=True)\n",
    "ax.set_xticks([]); ax.set_yticks([])\n",
    "xlim = [-11, 12]\n",
    "bins = np.linspace(*xlim, 25)\n",
    "ax.set_xlim(xlim); ax.set_ylim(xlim)\n",
    "ax.text(0.03, 0.97, r'$r$ = {:.4f}'.format(np.corrcoef(x_both, y_both)[0, 1]),\n",
    "       transform=ax.transAxes, ha='left', va='top', fontsize=7)\n",
    "\n",
    "# ax.text(0.97, 0.01, 'n={}'.format(si_format(len(x_both)), precision=2, format_str='{value}{prefix}',), \n",
    "        # transform=ax.transAxes, ha='right', va='bottom', fontsize=7)\n",
    "\n",
    "# Left Marginal\n",
    "ax = fig.add_subplot(gs[0, 0])\n",
    "ax.hist(y_missing, bins=bins, edgecolor='none', orientation='horizontal', density=True, color='r')\n",
    "ax.set_ylim(xlim)\n",
    "ax.set_xticks([]); ax.set_yticks([-5, 0, 5, 10])\n",
    "ax.text(0.97, 0.97, 'n={}'.format(si_format(len(y_missing)), precision=2, format_str='{value}{prefix}',), \n",
    "        transform=ax.transAxes, ha='right', va='top', fontsize=7, rotation=90, color='r')\n",
    "ax.set_ylabel('Prediction', labelpad=1)\n",
    "ax.tick_params(axis='both', labelsize=7, length=2, pad=1)\n",
    "\n",
    "# Bottom Marginal\n",
    "ax = fig.add_subplot(gs[1, 1])\n",
    "ax.hist(x_missing, bins=bins, edgecolor='none', density=True, color='r')\n",
    "ax.set_xlim(xlim)\n",
    "ax.set_xticks([-5, 0, 5, 10]); ax.set_yticks([])\n",
    "ax.text(0.97, 0.8, 'n={}'.format(si_format(len(x_missing)), precision=4, format_str='{value}{prefix}',), \n",
    "        transform=ax.transAxes, ha='right', va='top', fontsize=7, color='r')\n",
    "ax.set_xlabel('Truth', labelpad=2)\n",
    "ax.tick_params(axis='both', labelsize=7, length=2, pad=1)\n",
    "\n",
    "# Missing label (not detected in either)\n",
    "ax = fig.add_subplot(gs[1, 0])\n",
    "for spine in ['bottom', 'left']:\n",
    "    ax.spines[spine].set_visible(False)\n",
    "ax.set_xticks([]); ax.set_yticks([])\n",
    "\n",
    "ax.text(0.8, 0.8, 'Missing', transform=ax.transAxes, color='r', ha='right', va='top', fontsize=7, clip_on=False)\n",
    "# fig.savefig('../results/vae/2nd_results/2nd_vae_Top50_aa_nor_package_correlation.pdf',dpi=300,bbox_inches='tight')\n",
    "plt.show()\n",
    "\n",
    "\n",
    "\n",
    "data1 = np.array(preds_top50['norm_pred']) \n",
    "data1 = data1.reshape(-1, 1)  # 将数据转换成列向量的形式\n",
    "data2 = np.array(preds_top50['norm_true']) \n",
    "data2 = data2.reshape(-1, 1)  # 将数据转换成列向量的形式\n",
    "fig,ax = plt.subplots(figsize=(2,1.7),dpi=100)\n",
    "# 绘制原始数据和拟合后的分布\n",
    "plt.hist(data1, bins=50, density=True, alpha=0.6, color = '#F66E68',label='Prediction')\n",
    "plt.hist(data2, bins=50, density=True, alpha=0.6, color = '#457B9D',label='Truth')\n",
    "plt.title('Prediction',fontsize=10)\n",
    "ax.tick_params(axis='both', which='both', length=2,labelsize=10)\n",
    "ax.set_xticks([-5, 0, 5]); \n",
    "# ax.set_yticks([])\n",
    "plt.ylabel('Density',labelpad=1,fontsize=10)\n",
    "plt.xlabel('Nor_package',labelpad=1,fontsize=10)\n",
    "plt.legend(fontsize=7,frameon=False)\n",
    "# fig.savefig('../results/vae/2nd_results/2nd_vae_Top50_aa_nor_package_distribution.pdf',dpi=300,bbox_inches='tight')\n"
   ]
  },
  {
   "cell_type": "markdown",
   "metadata": {},
   "source": [
    "##### Second model(2nd_aa_nor_package) "
   ]
  },
  {
   "cell_type": "code",
   "execution_count": 19,
   "metadata": {},
   "outputs": [
    {
     "name": "stdout",
     "output_type": "stream",
     "text": [
      "2/2 [==============================] - 0s 3ms/step\n"
     ]
    },
    {
     "name": "stderr",
     "output_type": "stream",
     "text": [
      "d:\\ProgramData\\anaconda3\\envs\\tf\\lib\\site-packages\\numpy\\lib\\histograms.py:906: RuntimeWarning: invalid value encountered in divide\n",
      "  return n/db/n.sum(), bin_edges\n"
     ]
    },
    {
     "data": {
      "image/png": "[encoded data removed]",
      "text/plain": [
       "<Figure size 210x195 with 4 Axes>"
      ]
     },
     "metadata": {},
     "output_type": "display_data"
    },
    {
     "data": {
      "text/plain": [
       "<matplotlib.legend.Legend at 0x1908fbc8f70>"
      ]
     },
     "execution_count": 19,
     "metadata": {},
     "output_type": "execute_result"
    },
    {
     "data": {
      "image/png": "[encoded data removed]",
      "text/plain": [
       "<Figure size 200x170 with 1 Axes>"
      ]
     },
     "metadata": {},
     "output_type": "display_data"
    }
   ],
   "source": [
    "model_outdir = 'pretrain\\model_2nd_rnn_aa_nor_package.h5'\n",
    "model_outpath = model_outdir\n",
    "model = tf.keras.models.load_model(model_outdir)\n",
    "y = model.predict(validate_x)\n",
    "x = np.array(validate_y)\n",
    "y = np.reshape(y, (1,y.shape[0]))[0]\n",
    "preds_df = pd.DataFrame(columns=['y_pred','y_true'])\n",
    "preds_df['y_pred'] = pd.DataFrame(y)\n",
    "preds_df['y_true']  = pd.DataFrame(x)\n",
    "\n",
    "\n",
    "preds_top50 = pd.DataFrame(columns=['norm_pred','norm_true'])\n",
    "preds_top50['norm_pred'] = normdata(preds_df['y_pred'])\n",
    "preds_top50['norm_true'] = normdata(preds_df['y_true'])\n",
    "\n",
    "x = preds_top50['norm_pred']\n",
    "y = preds_top50['norm_true']\n",
    "\n",
    "remove = np.isinf(x) & np.isinf(y)\n",
    "x = x[~remove]\n",
    "y = y[~remove]\n",
    "\n",
    "keep = (~np.isinf(x)) & (~np.isinf(y))\n",
    "x_both = x[keep]\n",
    "y_both = y[keep]\n",
    "\n",
    "y_missing = y[np.isinf(x)]\n",
    "x_missing = x[np.isinf(y)]\n",
    "\n",
    "\n",
    "kernel = gaussian_kde(np.vstack([\n",
    "    x_both.sample(n=50, random_state=1), \n",
    "    y_both.sample(n=50, random_state=1)\n",
    "]))\n",
    "c_both = kernel(np.vstack([x_both.values, y_both.values]))\n",
    "\n",
    "fig = plt.figure(figsize=(1.4,1.3), dpi=150)\n",
    "\n",
    "gs = fig.add_gridspec(2, 2, left=0.275, right=0.95, bottom=0.22, top=0.95, \n",
    "                      width_ratios=[1, 6], height_ratios=[6, 1], hspace=0., wspace=0)\n",
    "ax = fig.add_subplot(gs[0, 1])\n",
    "ax.scatter(x_both, y_both, c=c_both, cmap=mpl.cm.inferno, s=2, edgecolor='none', rasterized=True)\n",
    "ax.set_xticks([]); ax.set_yticks([])\n",
    "xlim = [-11, 12]\n",
    "bins = np.linspace(*xlim, 25)\n",
    "ax.set_xlim(xlim); ax.set_ylim(xlim)\n",
    "ax.text(0.03, 0.97, r'$r$ = {:.4f}'.format(np.corrcoef(x_both, y_both)[0, 1]),\n",
    "       transform=ax.transAxes, ha='left', va='top', fontsize=7)\n",
    "\n",
    "# ax.text(0.97, 0.01, 'n={}'.format(si_format(len(x_both)), precision=2, format_str='{value}{prefix}',), \n",
    "        # transform=ax.transAxes, ha='right', va='bottom', fontsize=7)\n",
    "\n",
    "# Left Marginal\n",
    "ax = fig.add_subplot(gs[0, 0])\n",
    "ax.hist(y_missing, bins=bins, edgecolor='none', orientation='horizontal', density=True, color='r')\n",
    "ax.set_ylim(xlim)\n",
    "ax.set_xticks([]); ax.set_yticks([-5, 0, 5, 10])\n",
    "ax.text(0.97, 0.97, 'n={}'.format(si_format(len(y_missing)), precision=2, format_str='{value}{prefix}',), \n",
    "        transform=ax.transAxes, ha='right', va='top', fontsize=7, rotation=90, color='r')\n",
    "ax.set_ylabel('Prediction', labelpad=1)\n",
    "ax.tick_params(axis='both', labelsize=7, length=2, pad=1)\n",
    "\n",
    "# Bottom Marginal\n",
    "ax = fig.add_subplot(gs[1, 1])\n",
    "ax.hist(x_missing, bins=bins, edgecolor='none', density=True, color='r')\n",
    "ax.set_xlim(xlim)\n",
    "ax.set_xticks([-5, 0, 5, 10]); ax.set_yticks([])\n",
    "ax.text(0.97, 0.8, 'n={}'.format(si_format(len(x_missing)), precision=4, format_str='{value}{prefix}',), \n",
    "        transform=ax.transAxes, ha='right', va='top', fontsize=7, color='r')\n",
    "ax.set_xlabel('Truth', labelpad=2)\n",
    "ax.tick_params(axis='both', labelsize=7, length=2, pad=1)\n",
    "\n",
    "# Missing label (not detected in either)\n",
    "ax = fig.add_subplot(gs[1, 0])\n",
    "for spine in ['bottom', 'left']:\n",
    "    ax.spines[spine].set_visible(False)\n",
    "ax.set_xticks([]); ax.set_yticks([])\n",
    "\n",
    "ax.text(0.8, 0.8, 'Missing', transform=ax.transAxes, color='r', ha='right', va='top', fontsize=7, clip_on=False)\n",
    "# fig.savefig('../results/vae/2nd_results/2nd_vae_Top50_aa_nor_package_correlation.pdf',dpi=300,bbox_inches='tight')\n",
    "plt.show()\n",
    "\n",
    "\n",
    "\n",
    "data1 = np.array(preds_top50['norm_pred']) \n",
    "data1 = data1.reshape(-1, 1)  # 将数据转换成列向量的形式\n",
    "data2 = np.array(preds_top50['norm_true']) \n",
    "data2 = data2.reshape(-1, 1)  # 将数据转换成列向量的形式\n",
    "fig,ax = plt.subplots(figsize=(2,1.7),dpi=100)\n",
    "# 绘制原始数据和拟合后的分布\n",
    "plt.hist(data1, bins=50, density=True, alpha=0.6, color = '#F66E68',label='Prediction')\n",
    "plt.hist(data2, bins=50, density=True, alpha=0.6, color = '#457B9D',label='Truth')\n",
    "plt.title('Prediction',fontsize=10)\n",
    "ax.tick_params(axis='both', which='both', length=2,labelsize=10)\n",
    "ax.set_xticks([-5, 0, 5]); \n",
    "# ax.set_yticks([])\n",
    "plt.ylabel('Density',labelpad=1,fontsize=10)\n",
    "plt.xlabel('Nor_package',labelpad=1,fontsize=10)\n",
    "plt.legend(fontsize=7,frameon=False)\n",
    "# fig.savefig('../results/vae/2nd_results/2nd_vae_Top50_aa_nor_package_distribution.pdf',dpi=300,bbox_inches='tight')\n"
   ]
  },
  {
   "cell_type": "code",
   "execution_count": null,
   "metadata": {},
   "outputs": [],
   "source": []
  },
  {
   "cell_type": "markdown",
   "metadata": {},
   "source": [
    "#### seq-nor_package"
   ]
  },
  {
   "cell_type": "code",
   "execution_count": 22,
   "metadata": {},
   "outputs": [],
   "source": [
    "seq_nor_package = df_all[['seq', 'nor_package']]\n",
    "seq_nor_package = seq_nor_package.sort_values(by='nor_package')\n",
    "\n",
    "train_size = 0\n",
    "validation_size = 50\n",
    "train, validate, test = np.split(seq_nor_package.sample(frac=1),  [train_size, train_size+validation_size])\n",
    "# Hot Encoding\n",
    "\n",
    "validate_x =  np.asarray([AA_hotencoding(variant) for variant in validate['seq']])\n",
    "validate_y = validate['nor_package']\n",
    "\n",
    "\n"
   ]
  },
  {
   "cell_type": "code",
   "execution_count": 24,
   "metadata": {},
   "outputs": [
    {
     "data": {
      "text/plain": [
       "(50, 21, 20)"
      ]
     },
     "execution_count": 24,
     "metadata": {},
     "output_type": "execute_result"
    }
   ],
   "source": []
  },
  {
   "cell_type": "markdown",
   "metadata": {},
   "source": [
    "##### First model(1st_seq_nor_package) "
   ]
  },
  {
   "cell_type": "code",
   "execution_count": 25,
   "metadata": {},
   "outputs": [
    {
     "name": "stdout",
     "output_type": "stream",
     "text": [
      "2/2 [==============================] - 1s 11ms/step\n"
     ]
    },
    {
     "name": "stderr",
     "output_type": "stream",
     "text": [
      "d:\\ProgramData\\anaconda3\\envs\\tf\\lib\\site-packages\\numpy\\lib\\histograms.py:906: RuntimeWarning: invalid value encountered in divide\n",
      "  return n/db/n.sum(), bin_edges\n"
     ]
    },
    {
     "data": {
      "image/png": "[encoded data removed]",
      "text/plain": [
       "<Figure size 210x195 with 4 Axes>"
      ]
     },
     "metadata": {},
     "output_type": "display_data"
    },
    {
     "data": {
      "text/plain": [
       "<matplotlib.legend.Legend at 0x1909c1b8730>"
      ]
     },
     "execution_count": 25,
     "metadata": {},
     "output_type": "execute_result"
    },
    {
     "data": {
      "image/png": "[encoded data removed]",
      "text/plain": [
       "<Figure size 200x170 with 1 Axes>"
      ]
     },
     "metadata": {},
     "output_type": "display_data"
    }
   ],
   "source": [
    "model_outdir = 'pretrain\\model_1st_rnn_seq_nor_package.h5'\n",
    "model_outpath = model_outdir\n",
    "model = tf.keras.models.load_model(model_outdir)\n",
    "y = model.predict(validate_x)\n",
    "x = np.array(validate_y)\n",
    "y = np.reshape(y, (1,y.shape[0]))[0]\n",
    "preds_df = pd.DataFrame(columns=['y_pred','y_true'])\n",
    "preds_df['y_pred'] = pd.DataFrame(y)\n",
    "preds_df['y_true']  = pd.DataFrame(x)\n",
    "\n",
    "\n",
    "preds_top50 = pd.DataFrame(columns=['norm_pred','norm_true'])\n",
    "preds_top50['norm_pred'] = normdata(preds_df['y_pred'])\n",
    "preds_top50['norm_true'] = normdata(preds_df['y_true'])\n",
    "\n",
    "x = preds_top50['norm_pred']\n",
    "y = preds_top50['norm_true']\n",
    "\n",
    "remove = np.isinf(x) & np.isinf(y)\n",
    "x = x[~remove]\n",
    "y = y[~remove]\n",
    "\n",
    "keep = (~np.isinf(x)) & (~np.isinf(y))\n",
    "x_both = x[keep]\n",
    "y_both = y[keep]\n",
    "\n",
    "y_missing = y[np.isinf(x)]\n",
    "x_missing = x[np.isinf(y)]\n",
    "\n",
    "\n",
    "kernel = gaussian_kde(np.vstack([\n",
    "    x_both.sample(n=50, random_state=1), \n",
    "    y_both.sample(n=50, random_state=1)\n",
    "]))\n",
    "c_both = kernel(np.vstack([x_both.values, y_both.values]))\n",
    "\n",
    "fig = plt.figure(figsize=(1.4,1.3), dpi=150)\n",
    "\n",
    "gs = fig.add_gridspec(2, 2, left=0.275, right=0.95, bottom=0.22, top=0.95, \n",
    "                      width_ratios=[1, 6], height_ratios=[6, 1], hspace=0., wspace=0)\n",
    "ax = fig.add_subplot(gs[0, 1])\n",
    "ax.scatter(x_both, y_both, c=c_both, cmap=mpl.cm.inferno, s=2, edgecolor='none', rasterized=True)\n",
    "ax.set_xticks([]); ax.set_yticks([])\n",
    "xlim = [-11, 12]\n",
    "bins = np.linspace(*xlim, 25)\n",
    "ax.set_xlim(xlim); ax.set_ylim(xlim)\n",
    "ax.text(0.03, 0.97, r'$r$ = {:.4f}'.format(np.corrcoef(x_both, y_both)[0, 1]),\n",
    "       transform=ax.transAxes, ha='left', va='top', fontsize=7)\n",
    "\n",
    "# ax.text(0.97, 0.01, 'n={}'.format(si_format(len(x_both)), precision=2, format_str='{value}{prefix}',), \n",
    "        # transform=ax.transAxes, ha='right', va='bottom', fontsize=7)\n",
    "\n",
    "# Left Marginal\n",
    "ax = fig.add_subplot(gs[0, 0])\n",
    "ax.hist(y_missing, bins=bins, edgecolor='none', orientation='horizontal', density=True, color='r')\n",
    "ax.set_ylim(xlim)\n",
    "ax.set_xticks([]); ax.set_yticks([-5, 0, 5, 10])\n",
    "ax.text(0.97, 0.97, 'n={}'.format(si_format(len(y_missing)), precision=2, format_str='{value}{prefix}',), \n",
    "        transform=ax.transAxes, ha='right', va='top', fontsize=7, rotation=90, color='r')\n",
    "ax.set_ylabel('Prediction', labelpad=1)\n",
    "ax.tick_params(axis='both', labelsize=7, length=2, pad=1)\n",
    "\n",
    "# Bottom Marginal\n",
    "ax = fig.add_subplot(gs[1, 1])\n",
    "ax.hist(x_missing, bins=bins, edgecolor='none', density=True, color='r')\n",
    "ax.set_xlim(xlim)\n",
    "ax.set_xticks([-5, 0, 5, 10]); ax.set_yticks([])\n",
    "ax.text(0.97, 0.8, 'n={}'.format(si_format(len(x_missing)), precision=4, format_str='{value}{prefix}',), \n",
    "        transform=ax.transAxes, ha='right', va='top', fontsize=7, color='r')\n",
    "ax.set_xlabel('Truth', labelpad=2)\n",
    "ax.tick_params(axis='both', labelsize=7, length=2, pad=1)\n",
    "\n",
    "# Missing label (not detected in either)\n",
    "ax = fig.add_subplot(gs[1, 0])\n",
    "for spine in ['bottom', 'left']:\n",
    "    ax.spines[spine].set_visible(False)\n",
    "ax.set_xticks([]); ax.set_yticks([])\n",
    "\n",
    "ax.text(0.8, 0.8, 'Missing', transform=ax.transAxes, color='r', ha='right', va='top', fontsize=7, clip_on=False)\n",
    "# fig.savefig('../results/vae/2nd_results/2nd_vae_Top50_aa_nor_package_correlation.pdf',dpi=300,bbox_inches='tight')\n",
    "plt.show()\n",
    "\n",
    "\n",
    "\n",
    "data1 = np.array(preds_top50['norm_pred']) \n",
    "data1 = data1.reshape(-1, 1)  # 将数据转换成列向量的形式\n",
    "data2 = np.array(preds_top50['norm_true']) \n",
    "data2 = data2.reshape(-1, 1)  # 将数据转换成列向量的形式\n",
    "fig,ax = plt.subplots(figsize=(2,1.7),dpi=100)\n",
    "# 绘制原始数据和拟合后的分布\n",
    "plt.hist(data1, bins=50, density=True, alpha=0.6, color = '#F66E68',label='Prediction')\n",
    "plt.hist(data2, bins=50, density=True, alpha=0.6, color = '#457B9D',label='Truth')\n",
    "plt.title('Prediction',fontsize=10)\n",
    "ax.tick_params(axis='both', which='both', length=2,labelsize=10)\n",
    "ax.set_xticks([-5, 0, 5]); \n",
    "# ax.set_yticks([])\n",
    "plt.ylabel('Density',labelpad=1,fontsize=10)\n",
    "plt.xlabel('Nor_package',labelpad=1,fontsize=10)\n",
    "plt.legend(fontsize=7,frameon=False)\n",
    "# fig.savefig('../results/vae/2nd_results/2nd_vae_Top50_aa_nor_package_distribution.pdf',dpi=300,bbox_inches='tight')\n"
   ]
  },
  {
   "cell_type": "markdown",
   "metadata": {},
   "source": [
    "##### Second model(2nd_aa_nor_package) "
   ]
  },
  {
   "cell_type": "code",
   "execution_count": 26,
   "metadata": {},
   "outputs": [
    {
     "name": "stdout",
     "output_type": "stream",
     "text": [
      "2/2 [==============================] - 1s 9ms/step\n"
     ]
    },
    {
     "name": "stderr",
     "output_type": "stream",
     "text": [
      "d:\\ProgramData\\anaconda3\\envs\\tf\\lib\\site-packages\\numpy\\lib\\histograms.py:906: RuntimeWarning: invalid value encountered in divide\n",
      "  return n/db/n.sum(), bin_edges\n"
     ]
    },
    {
     "data": {
      "image/png": "[encoded data removed]",
      "text/plain": [
       "<Figure size 210x195 with 4 Axes>"
      ]
     },
     "metadata": {},
     "output_type": "display_data"
    },
    {
     "data": {
      "text/plain": [
       "<matplotlib.legend.Legend at 0x1909de83a60>"
      ]
     },
     "execution_count": 26,
     "metadata": {},
     "output_type": "execute_result"
    },
    {
     "data": {
      "image/png": "[encoded data removed]",
      "text/plain": [
       "<Figure size 200x170 with 1 Axes>"
      ]
     },
     "metadata": {},
     "output_type": "display_data"
    }
   ],
   "source": [
    "model_outdir = 'pretrain\\model_2nd_rnn_seq_nor_package.h5'\n",
    "model_outpath = model_outdir\n",
    "model = tf.keras.models.load_model(model_outdir)\n",
    "y = model.predict(validate_x)\n",
    "x = np.array(validate_y)\n",
    "y = np.reshape(y, (1,y.shape[0]))[0]\n",
    "preds_df = pd.DataFrame(columns=['y_pred','y_true'])\n",
    "preds_df['y_pred'] = pd.DataFrame(y)\n",
    "preds_df['y_true']  = pd.DataFrame(x)\n",
    "\n",
    "\n",
    "preds_top50 = pd.DataFrame(columns=['norm_pred','norm_true'])\n",
    "preds_top50['norm_pred'] = normdata(preds_df['y_pred'])\n",
    "preds_top50['norm_true'] = normdata(preds_df['y_true'])\n",
    "\n",
    "x = preds_top50['norm_pred']\n",
    "y = preds_top50['norm_true']\n",
    "\n",
    "remove = np.isinf(x) & np.isinf(y)\n",
    "x = x[~remove]\n",
    "y = y[~remove]\n",
    "\n",
    "keep = (~np.isinf(x)) & (~np.isinf(y))\n",
    "x_both = x[keep]\n",
    "y_both = y[keep]\n",
    "\n",
    "y_missing = y[np.isinf(x)]\n",
    "x_missing = x[np.isinf(y)]\n",
    "\n",
    "\n",
    "kernel = gaussian_kde(np.vstack([\n",
    "    x_both.sample(n=50, random_state=1), \n",
    "    y_both.sample(n=50, random_state=1)\n",
    "]))\n",
    "c_both = kernel(np.vstack([x_both.values, y_both.values]))\n",
    "\n",
    "fig = plt.figure(figsize=(1.4,1.3), dpi=150)\n",
    "\n",
    "gs = fig.add_gridspec(2, 2, left=0.275, right=0.95, bottom=0.22, top=0.95, \n",
    "                      width_ratios=[1, 6], height_ratios=[6, 1], hspace=0., wspace=0)\n",
    "ax = fig.add_subplot(gs[0, 1])\n",
    "ax.scatter(x_both, y_both, c=c_both, cmap=mpl.cm.inferno, s=2, edgecolor='none', rasterized=True)\n",
    "ax.set_xticks([]); ax.set_yticks([])\n",
    "xlim = [-11, 12]\n",
    "bins = np.linspace(*xlim, 25)\n",
    "ax.set_xlim(xlim); ax.set_ylim(xlim)\n",
    "ax.text(0.03, 0.97, r'$r$ = {:.4f}'.format(np.corrcoef(x_both, y_both)[0, 1]),\n",
    "       transform=ax.transAxes, ha='left', va='top', fontsize=7)\n",
    "\n",
    "# ax.text(0.97, 0.01, 'n={}'.format(si_format(len(x_both)), precision=2, format_str='{value}{prefix}',), \n",
    "        # transform=ax.transAxes, ha='right', va='bottom', fontsize=7)\n",
    "\n",
    "# Left Marginal\n",
    "ax = fig.add_subplot(gs[0, 0])\n",
    "ax.hist(y_missing, bins=bins, edgecolor='none', orientation='horizontal', density=True, color='r')\n",
    "ax.set_ylim(xlim)\n",
    "ax.set_xticks([]); ax.set_yticks([-5, 0, 5, 10])\n",
    "ax.text(0.97, 0.97, 'n={}'.format(si_format(len(y_missing)), precision=2, format_str='{value}{prefix}',), \n",
    "        transform=ax.transAxes, ha='right', va='top', fontsize=7, rotation=90, color='r')\n",
    "ax.set_ylabel('Prediction', labelpad=1)\n",
    "ax.tick_params(axis='both', labelsize=7, length=2, pad=1)\n",
    "\n",
    "# Bottom Marginal\n",
    "ax = fig.add_subplot(gs[1, 1])\n",
    "ax.hist(x_missing, bins=bins, edgecolor='none', density=True, color='r')\n",
    "ax.set_xlim(xlim)\n",
    "ax.set_xticks([-5, 0, 5, 10]); ax.set_yticks([])\n",
    "ax.text(0.97, 0.8, 'n={}'.format(si_format(len(x_missing)), precision=4, format_str='{value}{prefix}',), \n",
    "        transform=ax.transAxes, ha='right', va='top', fontsize=7, color='r')\n",
    "ax.set_xlabel('Truth', labelpad=2)\n",
    "ax.tick_params(axis='both', labelsize=7, length=2, pad=1)\n",
    "\n",
    "# Missing label (not detected in either)\n",
    "ax = fig.add_subplot(gs[1, 0])\n",
    "for spine in ['bottom', 'left']:\n",
    "    ax.spines[spine].set_visible(False)\n",
    "ax.set_xticks([]); ax.set_yticks([])\n",
    "\n",
    "ax.text(0.8, 0.8, 'Missing', transform=ax.transAxes, color='r', ha='right', va='top', fontsize=7, clip_on=False)\n",
    "# fig.savefig('../results/vae/2nd_results/2nd_vae_Top50_aa_nor_package_correlation.pdf',dpi=300,bbox_inches='tight')\n",
    "plt.show()\n",
    "\n",
    "\n",
    "\n",
    "data1 = np.array(preds_top50['norm_pred']) \n",
    "data1 = data1.reshape(-1, 1)  # 将数据转换成列向量的形式\n",
    "data2 = np.array(preds_top50['norm_true']) \n",
    "data2 = data2.reshape(-1, 1)  # 将数据转换成列向量的形式\n",
    "fig,ax = plt.subplots(figsize=(2,1.7),dpi=100)\n",
    "# 绘制原始数据和拟合后的分布\n",
    "plt.hist(data1, bins=50, density=True, alpha=0.6, color = '#F66E68',label='Prediction')\n",
    "plt.hist(data2, bins=50, density=True, alpha=0.6, color = '#457B9D',label='Truth')\n",
    "plt.title('Prediction',fontsize=10)\n",
    "ax.tick_params(axis='both', which='both', length=2,labelsize=10)\n",
    "ax.set_xticks([-5, 0, 5]); \n",
    "# ax.set_yticks([])\n",
    "plt.ylabel('Density',labelpad=1,fontsize=10)\n",
    "plt.xlabel('Nor_package',labelpad=1,fontsize=10)\n",
    "plt.legend(fontsize=7,frameon=False)\n",
    "# fig.savefig('../results/vae/2nd_results/2nd_vae_Top50_aa_nor_package_distribution.pdf',dpi=300,bbox_inches='tight')\n"
   ]
  },
  {
   "cell_type": "code",
   "execution_count": null,
   "metadata": {},
   "outputs": [],
   "source": []
  }
 ],
 "metadata": {
  "kernelspec": {
   "display_name": "tf",
   "language": "python",
   "name": "python3"
  },
  "language_info": {
   "codemirror_mode": {
    "name": "ipython",
    "version": 3
   },
   "file_extension": ".py",
   "mimetype": "text/x-python",
   "name": "python",
   "nbconvert_exporter": "python",
   "pygments_lexer": "ipython3",
   "version": "3.8.16"
  }
 },
 "nbformat": 4,
 "nbformat_minor": 2
}
