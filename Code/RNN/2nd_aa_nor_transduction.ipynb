{
  "cells": [
    {
      "cell_type": "code",
      "execution_count": 1,
      "metadata": {
        "ExecuteTime": {
          "end_time": "2021-06-15T17:13:58.134959Z",
          "start_time": "2021-06-15T17:13:57.550003Z"
        }
      },
      "outputs": [],
      "source": [
        "import pandas as pd\n",
        "import numpy as np\n",
        "import matplotlib as mpl\n",
        "import matplotlib.pyplot as plt\n",
        "import seaborn as sns\n",
        "from IPython.display import Image\n",
        "from scipy.stats import gaussian_kde, norm\n",
        "from sklearn.mixture import GaussianMixture\n",
        "\n",
        "from utils_f4f import CustomEarlyStopping, rnn_aa_model,AA_hotencoding ,heatmap, si_format\n"
      ]
    },
    {
      "cell_type": "code",
      "execution_count": 2,
      "metadata": {},
      "outputs": [],
      "source": [
        "mpl.rcParams['svg.fonttype'] = 'none'\n",
        "mpl.rcParams['font.family'] = ['sans-serif']\n",
        "mpl.rcParams['font.sans-serif'] = ['Arial']\n",
        "mpl.rcParams['text.usetex'] = False\n",
        "mpl.rcParams['pdf.fonttype'] = 42\n",
        "mpl.rcParams['ps.fonttype'] = 42"
      ]
    },
    {
      "cell_type": "markdown",
      "metadata": {},
      "source": [
        "#### Data_preparetion\n",
        "\n"
      ]
    },
    {
      "cell_type": "code",
      "execution_count": 3,
      "metadata": {},
      "outputs": [],
      "source": [
        "\n",
        "df_all = pd.read_csv('../data/2nd_seq_aa_transduction.tsv',delimiter='\\t')\n",
        "# df_all = df_all.iloc[::50]\n",
        "df_modeling = df_all.rename(columns={'aa':'AA_seqenece'})\n",
        "df_modeling['label']=0\n",
        "df_modeling = df_modeling[['AA_seqenece', 'transduction', 'label']]\n",
        "df_missing = df_modeling[np.isinf(df_modeling['transduction']) ]#\n",
        "df_modeling = df_modeling[~np.isnan(df_modeling['transduction']) & ~np.isinf(df_modeling['transduction'])]\n",
        "df_modeling.reset_index(drop = True, inplace=True)\n",
        "AA_col = 'AA_seqenece'\n",
        "array = 'transduction'\n"
      ]
    },
    {
      "cell_type": "code",
      "execution_count": 7,
      "metadata": {},
      "outputs": [
        {
          "data": {
            "text/plain": [
              "(2556, 3)"
            ]
          },
          "execution_count": 7,
          "metadata": {},
          "output_type": "execute_result"
        }
      ],
      "source": [
        "df_all.shape"
      ]
    },
    {
      "cell_type": "code",
      "execution_count": 4,
      "metadata": {},
      "outputs": [
        {
          "data": {
            "image/png": "[encoded data removed]",
            "text/plain": [
              "<Figure size 200x170 with 1 Axes>"
            ]
          },
          "metadata": {},
          "output_type": "display_data"
        }
      ],
      "source": [
        "nor_package = df_all[np.isfinite(df_all[array])][array]\n",
        "data = np.array(nor_package) \n",
        "data = data.reshape(-1, 1)  # Convert the data into a column vector\n",
        "\n",
        "# Fit the data using GaussianMixture\n",
        "n_components = 1 # Set the number of components for the hybrid model\n",
        "gmm = GaussianMixture(n_components=n_components)\n",
        "gmm.fit(data)\n",
        "\n",
        "# Get the mean and covariance matrix for each component\n",
        "means = gmm.means_\n",
        "covariances = gmm.covariances_\n",
        "\n",
        "# Generate the fitted distribution\n",
        "x = np.linspace(-10, 10, 10000)\n",
        "x = x.reshape(-1, 1)\n",
        "y = np.exp(gmm.score_samples(x))\n",
        "\n",
        "fig,ax = plt.subplots(figsize=(2,1.7),dpi=100)\n",
        "# Plot the raw data and the distribution after fitting\n",
        "plt.hist(data, bins=100, density=True, alpha=0.6, color = '#BAB3A3',label='Prediction')\n",
        "\n",
        "# 绘制每个分量的正态分布\n",
        "for i in range(n_components):\n",
        "    component = np.exp(-(x - means[i]) ** 2 / (2 * covariances[i]))\n",
        "    component /= np.sqrt(2 * np.pi * covariances[i])\n",
        "    component *= gmm.weights_[i]\n",
        "    if i == 0:\n",
        "        ax.plot(x, component, '-', label=f'Distribution {i + 1}', color='#F66E68', alpha=1)\n",
        "        ax.fill_between(x.flatten(), 0, component.flatten(), color='#F66E68', alpha=0.4)\n",
        "    else:\n",
        "        ax.plot(x, component, '-', label=f'Distribution {i + 1}', color='#457B9D', alpha=1)\n",
        "        ax.fill_between(x.flatten(), 0, component.flatten(), color='#457B9D', alpha=0.4)\n",
        "\n",
        "\n",
        "plt.title('Truth_distribution',fontsize=10)\n",
        "ax.tick_params(axis='both', which='both', length=2,labelsize=8)\n",
        "ax.set_xticks([-10,-5, 0, 5,10]); \n",
        "ax.set_xlim([-10,10])\n",
        "plt.ylabel('Density',labelpad=2,fontsize=10)\n",
        "plt.xlabel('Nor_package',labelpad=2,fontsize=10)\n",
        "plt.legend(fontsize=7,frameon=False,loc='best')\n",
        "plt.show()"
      ]
    },
    {
      "cell_type": "markdown",
      "metadata": {},
      "source": [
        "### Prep data\n",
        " one-hot encode the `AA_sequence` column and split the data into\n",
        "training and test sets. The training split will be split\n",
        "\n"
      ]
    },
    {
      "cell_type": "code",
      "execution_count": 8,
      "metadata": {},
      "outputs": [],
      "source": [
        "# Train-Test split\n",
        "train_size = 1800\n",
        "validation_size = 300\n",
        "train, validate, test = np.split(df_modeling.sample(frac=1),  [train_size, train_size+validation_size])\n",
        "\n",
        "# Hot Encoding\n",
        "train_x =  np.asarray([AA_hotencoding(variant) for variant in train[AA_col]])\n",
        "train_y = train[array]\n",
        "validate_x = np.asarray([AA_hotencoding(variant) for variant in validate[AA_col]])\n",
        "validate_y = validate[array]\n",
        "test_x = np.asarray([AA_hotencoding(variant) for variant in test[AA_col]])\n",
        "test_y = test[array]\n",
        "missing_x = np.asarray([AA_hotencoding(variant) for variant in df_missing[AA_col]])\n"
      ]
    },
    {
      "cell_type": "code",
      "execution_count": 9,
      "metadata": {},
      "outputs": [
        {
          "data": {
            "text/plain": [
              "(1800, 7, 20)"
            ]
          },
          "execution_count": 9,
          "metadata": {},
          "output_type": "execute_result"
        }
      ],
      "source": [
        "train_x.shape"
      ]
    },
    {
      "cell_type": "markdown",
      "metadata": {},
      "source": [
        "#### RNN  model training\n",
        "Default parameterization:Here the model is applied to aa-nor_package learning process, as details"
      ]
    },
    {
      "cell_type": "code",
      "execution_count": 32,
      "metadata": {},
      "outputs": [
        {
          "name": "stdout",
          "output_type": "stream",
          "text": [
            "Epoch 1/300\n",
            "225/225 - 4s - loss: 5.6949 - mae: 1.4128 - val_loss: 5.2186 - val_mae: 1.3098 - 4s/epoch - 18ms/step\n",
            "Epoch 2/300\n",
            "225/225 - 1s - loss: 5.6244 - mae: 1.4144 - val_loss: 5.1891 - val_mae: 1.3357 - 818ms/epoch - 4ms/step\n",
            "Epoch 3/300\n",
            "225/225 - 1s - loss: 5.6198 - mae: 1.4241 - val_loss: 5.1823 - val_mae: 1.3119 - 875ms/epoch - 4ms/step\n",
            "Epoch 4/300\n",
            "225/225 - 1s - loss: 5.6064 - mae: 1.4178 - val_loss: 5.2252 - val_mae: 1.2761 - 877ms/epoch - 4ms/step\n",
            "Epoch 5/300\n",
            "225/225 - 1s - loss: 5.5857 - mae: 1.4064 - val_loss: 5.1743 - val_mae: 1.3888 - 866ms/epoch - 4ms/step\n",
            "Epoch 6/300\n",
            "225/225 - 1s - loss: 5.5634 - mae: 1.4199 - val_loss: 5.1594 - val_mae: 1.3045 - 873ms/epoch - 4ms/step\n",
            "Epoch 7/300\n",
            "225/225 - 1s - loss: 5.5633 - mae: 1.4214 - val_loss: 5.1489 - val_mae: 1.3263 - 884ms/epoch - 4ms/step\n",
            "Epoch 8/300\n",
            "225/225 - 1s - loss: 5.5369 - mae: 1.4046 - val_loss: 5.1707 - val_mae: 1.3882 - 887ms/epoch - 4ms/step\n",
            "Epoch 9/300\n",
            "225/225 - 1s - loss: 5.5167 - mae: 1.4196 - val_loss: 5.1623 - val_mae: 1.3259 - 890ms/epoch - 4ms/step\n",
            "Epoch 10/300\n",
            "225/225 - 1s - loss: 5.5138 - mae: 1.4216 - val_loss: 5.2333 - val_mae: 1.4358 - 803ms/epoch - 4ms/step\n",
            "Epoch 11/300\n",
            "225/225 - 1s - loss: 5.4909 - mae: 1.4240 - val_loss: 5.2038 - val_mae: 1.2906 - 824ms/epoch - 4ms/step\n",
            "Epoch 12/300\n",
            "225/225 - 1s - loss: 5.4741 - mae: 1.4256 - val_loss: 5.2251 - val_mae: 1.2505 - 788ms/epoch - 4ms/step\n",
            "Epoch 13/300\n",
            "225/225 - 1s - loss: 5.4475 - mae: 1.4083 - val_loss: 5.2316 - val_mae: 1.2904 - 815ms/epoch - 4ms/step\n",
            "Epoch 14/300\n",
            "225/225 - 1s - loss: 5.4357 - mae: 1.4145 - val_loss: 5.2058 - val_mae: 1.3400 - 1s/epoch - 5ms/step\n",
            "Epoch 15/300\n",
            "225/225 - 1s - loss: 5.3994 - mae: 1.4189 - val_loss: 5.2942 - val_mae: 1.3802 - 808ms/epoch - 4ms/step\n",
            "Epoch 16/300\n",
            "225/225 - 1s - loss: 5.3704 - mae: 1.4313 - val_loss: 5.2575 - val_mae: 1.3118 - 806ms/epoch - 4ms/step\n",
            "Epoch 17/300\n",
            "225/225 - 1s - loss: 5.3247 - mae: 1.4259 - val_loss: 5.3830 - val_mae: 1.2435 - 793ms/epoch - 4ms/step\n",
            "Epoch 18/300\n",
            "225/225 - 1s - loss: 5.2913 - mae: 1.3966 - val_loss: 5.3878 - val_mae: 1.4091 - 824ms/epoch - 4ms/step\n",
            "Epoch 19/300\n",
            "225/225 - 1s - loss: 5.2669 - mae: 1.4285 - val_loss: 5.2655 - val_mae: 1.2882 - 908ms/epoch - 4ms/step\n",
            "Epoch 20/300\n",
            "225/225 - 1s - loss: 5.1789 - mae: 1.4042 - val_loss: 5.3777 - val_mae: 1.3481 - 814ms/epoch - 4ms/step\n",
            "Epoch 21/300\n",
            "225/225 - 1s - loss: 5.1302 - mae: 1.4193 - val_loss: 5.4269 - val_mae: 1.3300 - 864ms/epoch - 4ms/step\n",
            "Epoch 22/300\n",
            "225/225 - 1s - loss: 5.0179 - mae: 1.3895 - val_loss: 5.7421 - val_mae: 1.5082 - 860ms/epoch - 4ms/step\n",
            "Epoch 23/300\n",
            "225/225 - 1s - loss: 4.9635 - mae: 1.4045 - val_loss: 5.5146 - val_mae: 1.3586 - 973ms/epoch - 4ms/step\n",
            "Epoch 24/300\n",
            "225/225 - 1s - loss: 4.8644 - mae: 1.3834 - val_loss: 5.9833 - val_mae: 1.5339 - 869ms/epoch - 4ms/step\n",
            "Epoch 25/300\n",
            "225/225 - 1s - loss: 4.7954 - mae: 1.3927 - val_loss: 5.6733 - val_mae: 1.4463 - 860ms/epoch - 4ms/step\n",
            "Epoch 26/300\n",
            "225/225 - 1s - loss: 4.7008 - mae: 1.3721 - val_loss: 5.8044 - val_mae: 1.4667 - 824ms/epoch - 4ms/step\n",
            "Epoch 27/300\n",
            "225/225 - 1s - loss: 4.5597 - mae: 1.3484 - val_loss: 5.9344 - val_mae: 1.4685 - 828ms/epoch - 4ms/step\n",
            "Epoch 28/300\n",
            "225/225 - 1s - loss: 4.4627 - mae: 1.3424 - val_loss: 5.9157 - val_mae: 1.4955 - 825ms/epoch - 4ms/step\n",
            "Epoch 29/300\n",
            "225/225 - 1s - loss: 4.3610 - mae: 1.3450 - val_loss: 5.9409 - val_mae: 1.4756 - 871ms/epoch - 4ms/step\n",
            "Epoch 30/300\n",
            "225/225 - 1s - loss: 4.1698 - mae: 1.3105 - val_loss: 6.2757 - val_mae: 1.5768 - 1s/epoch - 5ms/step\n",
            "Epoch 31/300\n",
            "225/225 - 1s - loss: 4.0911 - mae: 1.3006 - val_loss: 6.0904 - val_mae: 1.5014 - 1s/epoch - 5ms/step\n",
            "Epoch 32/300\n",
            "225/225 - 1s - loss: 3.9696 - mae: 1.2770 - val_loss: 6.1607 - val_mae: 1.5412 - 853ms/epoch - 4ms/step\n",
            "Epoch 33/300\n",
            "225/225 - 1s - loss: 3.8533 - mae: 1.2627 - val_loss: 6.9406 - val_mae: 1.6596 - 860ms/epoch - 4ms/step\n",
            "Epoch 34/300\n",
            "225/225 - 1s - loss: 3.7265 - mae: 1.2487 - val_loss: 6.4355 - val_mae: 1.6103 - 853ms/epoch - 4ms/step\n",
            "Epoch 35/300\n",
            "225/225 - 1s - loss: 3.5380 - mae: 1.2271 - val_loss: 6.1811 - val_mae: 1.4803 - 904ms/epoch - 4ms/step\n",
            "Epoch 36/300\n",
            "225/225 - 1s - loss: 3.4020 - mae: 1.1941 - val_loss: 6.9210 - val_mae: 1.6107 - 834ms/epoch - 4ms/step\n",
            "Epoch 37/300\n",
            "225/225 - 1s - loss: 3.3540 - mae: 1.1857 - val_loss: 6.3331 - val_mae: 1.5532 - 941ms/epoch - 4ms/step\n",
            "Epoch 38/300\n",
            "225/225 - 1s - loss: 3.1799 - mae: 1.1639 - val_loss: 6.3503 - val_mae: 1.5483 - 851ms/epoch - 4ms/step\n",
            "Epoch 39/300\n",
            "225/225 - 1s - loss: 2.9842 - mae: 1.1507 - val_loss: 6.3894 - val_mae: 1.5165 - 862ms/epoch - 4ms/step\n",
            "Epoch 40/300\n",
            "225/225 - 1s - loss: 2.8973 - mae: 1.1181 - val_loss: 7.0382 - val_mae: 1.6318 - 867ms/epoch - 4ms/step\n",
            "Epoch 41/300\n",
            "225/225 - 1s - loss: 2.8076 - mae: 1.1011 - val_loss: 6.9933 - val_mae: 1.6466 - 1s/epoch - 5ms/step\n",
            "Epoch 42/300\n",
            "225/225 - 1s - loss: 2.7415 - mae: 1.0918 - val_loss: 6.9027 - val_mae: 1.6008 - 818ms/epoch - 4ms/step\n",
            "Epoch 43/300\n",
            "225/225 - 1s - loss: 2.5448 - mae: 1.0689 - val_loss: 6.7555 - val_mae: 1.5444 - 1s/epoch - 4ms/step\n",
            "Epoch 44/300\n",
            "225/225 - 1s - loss: 2.4374 - mae: 1.0397 - val_loss: 6.6618 - val_mae: 1.5508 - 917ms/epoch - 4ms/step\n",
            "Epoch 45/300\n",
            "225/225 - 1s - loss: 2.3767 - mae: 1.0184 - val_loss: 7.2643 - val_mae: 1.6703 - 823ms/epoch - 4ms/step\n",
            "Epoch 46/300\n",
            "225/225 - 1s - loss: 2.2150 - mae: 1.0005 - val_loss: 6.9191 - val_mae: 1.5630 - 797ms/epoch - 4ms/step\n",
            "Epoch 47/300\n",
            "225/225 - 1s - loss: 2.1200 - mae: 0.9783 - val_loss: 7.3098 - val_mae: 1.6493 - 793ms/epoch - 4ms/step\n",
            "Epoch 48/300\n",
            "225/225 - 1s - loss: 1.9711 - mae: 0.9451 - val_loss: 7.3393 - val_mae: 1.6546 - 860ms/epoch - 4ms/step\n",
            "Epoch 49/300\n",
            "225/225 - 1s - loss: 2.0739 - mae: 0.9772 - val_loss: 7.2890 - val_mae: 1.6345 - 849ms/epoch - 4ms/step\n",
            "Epoch 50/300\n",
            "225/225 - 1s - loss: 1.8677 - mae: 0.9249 - val_loss: 7.7209 - val_mae: 1.7559 - 884ms/epoch - 4ms/step\n",
            "Epoch 51/300\n",
            "225/225 - 1s - loss: 1.8169 - mae: 0.9205 - val_loss: 7.2560 - val_mae: 1.6339 - 909ms/epoch - 4ms/step\n",
            "Epoch 52/300\n",
            "225/225 - 1s - loss: 1.7638 - mae: 0.9093 - val_loss: 8.0160 - val_mae: 1.7524 - 902ms/epoch - 4ms/step\n",
            "Epoch 53/300\n",
            "225/225 - 1s - loss: 1.6970 - mae: 0.8859 - val_loss: 7.7637 - val_mae: 1.7114 - 892ms/epoch - 4ms/step\n",
            "Epoch 54/300\n",
            "225/225 - 1s - loss: 1.6334 - mae: 0.8607 - val_loss: 7.8905 - val_mae: 1.7398 - 915ms/epoch - 4ms/step\n",
            "Epoch 55/300\n",
            "225/225 - 1s - loss: 1.5677 - mae: 0.8522 - val_loss: 8.1804 - val_mae: 1.7773 - 1s/epoch - 5ms/step\n",
            "Epoch 56/300\n",
            "225/225 - 1s - loss: 1.4962 - mae: 0.8362 - val_loss: 7.4411 - val_mae: 1.7033 - 902ms/epoch - 4ms/step\n",
            "Epoch 57/300\n",
            "225/225 - 1s - loss: 1.4001 - mae: 0.8080 - val_loss: 7.2788 - val_mae: 1.6786 - 927ms/epoch - 4ms/step\n",
            "Epoch 58/300\n",
            "225/225 - 1s - loss: 1.3669 - mae: 0.7945 - val_loss: 7.3892 - val_mae: 1.7051 - 927ms/epoch - 4ms/step\n",
            "Epoch 59/300\n",
            "225/225 - 1s - loss: 1.3673 - mae: 0.8007 - val_loss: 7.4352 - val_mae: 1.7046 - 815ms/epoch - 4ms/step\n",
            "Epoch 60/300\n",
            "225/225 - 1s - loss: 1.3087 - mae: 0.7821 - val_loss: 7.4819 - val_mae: 1.6940 - 820ms/epoch - 4ms/step\n",
            "Epoch 61/300\n",
            "225/225 - 1s - loss: 1.2888 - mae: 0.7813 - val_loss: 7.9137 - val_mae: 1.7802 - 884ms/epoch - 4ms/step\n",
            "Epoch 62/300\n",
            "225/225 - 1s - loss: 1.1565 - mae: 0.7264 - val_loss: 7.2845 - val_mae: 1.7116 - 1s/epoch - 5ms/step\n",
            "Epoch 63/300\n",
            "225/225 - 1s - loss: 1.1491 - mae: 0.7363 - val_loss: 7.9601 - val_mae: 1.7658 - 961ms/epoch - 4ms/step\n",
            "Epoch 64/300\n",
            "225/225 - 1s - loss: 1.1537 - mae: 0.7427 - val_loss: 7.3297 - val_mae: 1.7143 - 951ms/epoch - 4ms/step\n",
            "Epoch 65/300\n",
            "225/225 - 1s - loss: 1.1561 - mae: 0.7418 - val_loss: 7.3469 - val_mae: 1.7378 - 885ms/epoch - 4ms/step\n",
            "Epoch 66/300\n",
            "225/225 - 1s - loss: 1.0352 - mae: 0.7044 - val_loss: 7.3840 - val_mae: 1.7598 - 1s/epoch - 5ms/step\n",
            "Epoch 67/300\n",
            "225/225 - 1s - loss: 0.9489 - mae: 0.6737 - val_loss: 7.8195 - val_mae: 1.8178 - 917ms/epoch - 4ms/step\n",
            "Epoch 68/300\n",
            "225/225 - 1s - loss: 0.8896 - mae: 0.6422 - val_loss: 7.8738 - val_mae: 1.8006 - 808ms/epoch - 4ms/step\n",
            "Epoch 69/300\n",
            "225/225 - 1s - loss: 1.1257 - mae: 0.7373 - val_loss: 7.2700 - val_mae: 1.7618 - 876ms/epoch - 4ms/step\n",
            "Epoch 70/300\n",
            "225/225 - 1s - loss: 0.8538 - mae: 0.6433 - val_loss: 7.5412 - val_mae: 1.7346 - 919ms/epoch - 4ms/step\n",
            "Epoch 71/300\n",
            "225/225 - 1s - loss: 0.8150 - mae: 0.6195 - val_loss: 7.6614 - val_mae: 1.8271 - 1s/epoch - 5ms/step\n",
            "Epoch 72/300\n",
            "225/225 - 1s - loss: 0.7770 - mae: 0.6133 - val_loss: 7.4534 - val_mae: 1.7891 - 888ms/epoch - 4ms/step\n",
            "Epoch 73/300\n",
            "225/225 - 1s - loss: 0.7282 - mae: 0.5940 - val_loss: 6.9837 - val_mae: 1.7263 - 869ms/epoch - 4ms/step\n",
            "Epoch 74/300\n",
            "225/225 - 1s - loss: 0.6939 - mae: 0.5772 - val_loss: 7.4766 - val_mae: 1.7687 - 931ms/epoch - 4ms/step\n"
          ]
        },
        {
          "name": "stderr",
          "output_type": "stream",
          "text": [
            "d:\\ProgramData\\anaconda3\\envs\\tf\\lib\\site-packages\\keras\\src\\engine\\training.py:3000: UserWarning: You are saving your model as an HDF5 file via `model.save()`. This file format is considered legacy. We recommend using instead the native Keras format, e.g. `model.save('my_model.keras')`.\n",
            "  saving_api.save_model(\n"
          ]
        }
      ],
      "source": [
        "# Training\n",
        "\n",
        "# Define model \n",
        "model = rnn_aa_model(L1=140, L2=20)\n",
        "\n",
        "# Training parameters \n",
        "batch_size = 8\n",
        "EpochCount = 300\n",
        "#EpochCount = 5 #Used for quick excusion of the Notebook; please use a higher number instead to allow proper convergence\n",
        "\n",
        "# train model \n",
        "model.fit(train_x, train_y, batch_size=batch_size, epochs=EpochCount, \n",
        "          validation_data=(validate_x, validate_y),verbose=2,\n",
        "              callbacks=[CustomEarlyStopping(ratio=0.90, patience=50, restore_best_weights = True)])\n",
        "\n",
        "# Save model\n",
        "ModelFileName = 'pretrain/model_2nd_rnn_aa_nor_transduction'\n",
        "model.save(ModelFileName+'.h5')"
      ]
    },
    {
      "cell_type": "markdown",
      "metadata": {},
      "source": [
        "#### Model validation\n",
        "· `Train-data validation` \n",
        "\n"
      ]
    },
    {
      "cell_type": "code",
      "execution_count": 33,
      "metadata": {
        "ExecuteTime": {
          "end_time": "2021-06-15T18:02:53.571538Z",
          "start_time": "2021-06-15T18:02:46.205042Z"
        }
      },
      "outputs": [
        {
          "name": "stdout",
          "output_type": "stream",
          "text": [
            "57/57 [==============================] - 2s 6ms/step\n"
          ]
        },
        {
          "data": {
            "text/plain": [
              "0.9453983645622451"
            ]
          },
          "execution_count": 33,
          "metadata": {},
          "output_type": "execute_result"
        }
      ],
      "source": [
        "\n",
        "# Predict for train variants\n",
        "y = model.predict(train_x)\n",
        "x = np.array(train_y)\n",
        "y = np.reshape(y, (1,y.shape[0]))[0]\n",
        "preds_df = pd.DataFrame(columns=['y_pred','y_true'])\n",
        "preds_df['y_pred'] = pd.DataFrame(y)\n",
        "preds_df['y_true']  = pd.DataFrame(x)\n",
        "preds_df['y_pred'].corr(preds_df['y_true'])\n"
      ]
    },
    {
      "cell_type": "code",
      "execution_count": 25,
      "metadata": {},
      "outputs": [],
      "source": [
        "x = preds_df['y_pred']  \n",
        "y = preds_df['y_true']   \n",
        "\n",
        "remove = np.isinf(x) & np.isinf(y)\n",
        "x = x[~remove]\n",
        "y = y[~remove]\n",
        "\n",
        "keep = (~np.isinf(x)) & (~np.isinf(y))\n",
        "x_both = x[keep]\n",
        "y_both = y[keep]\n",
        "\n",
        "y_missing = y[np.isinf(x)]\n",
        "x_missing = x[np.isinf(y)]\n",
        "\n",
        "\n",
        "kernel = gaussian_kde(np.vstack([\n",
        "    x_both.sample(n=1800, random_state=1), \n",
        "    y_both.sample(n=1800, random_state=1)\n",
        "]))\n",
        "c_both = kernel(np.vstack([x_both.values, y_both.values]))\n"
      ]
    },
    {
      "cell_type": "code",
      "execution_count": 26,
      "metadata": {},
      "outputs": [
        {
          "name": "stderr",
          "output_type": "stream",
          "text": [
            "d:\\ProgramData\\anaconda3\\envs\\tf\\lib\\site-packages\\numpy\\lib\\histograms.py:906: RuntimeWarning: invalid value encountered in divide\n",
            "  return n/db/n.sum(), bin_edges\n"
          ]
        },
        {
          "data": {
            "image/png": "[encoded data removed]",
            "text/plain": [
              "<Figure size 210x195 with 4 Axes>"
            ]
          },
          "metadata": {},
          "output_type": "display_data"
        }
      ],
      "source": [
        "fig = plt.figure(figsize=(1.4,1.3), dpi=150)\n",
        "gs = fig.add_gridspec(2, 2, left=0.275, right=0.95, bottom=0.22, top=0.95, \n",
        "                      width_ratios=[1, 6], height_ratios=[6, 1], hspace=0., wspace=0)\n",
        "ax = fig.add_subplot(gs[0, 1])\n",
        "ax.scatter(x_both, y_both, c=c_both, cmap=mpl.cm.inferno, s=0.2, edgecolor='none', rasterized=True)\n",
        "ax.set_xticks([]); ax.set_yticks([])\n",
        "xlim = [-11, 12]\n",
        "bins = np.linspace(*xlim, 25)\n",
        "ax.set_xlim(xlim); ax.set_ylim(xlim)\n",
        "ax.text(0.03, 0.97, r'$r$ = {:.4f}'.format(np.corrcoef(x_both, y_both)[0, 1]),\n",
        "       transform=ax.transAxes, ha='left', va='top', fontsize=7)\n",
        "\n",
        "ax.text(0.97, 0.01, 'n={}'.format(si_format(len(x_both)), precision=2, format_str='{value}{prefix}',), \n",
        "        transform=ax.transAxes, ha='right', va='bottom', fontsize=7)\n",
        "\n",
        "# Left Marginal\n",
        "ax = fig.add_subplot(gs[0, 0])\n",
        "ax.hist(y_missing, bins=bins, edgecolor='none', orientation='horizontal', density=True, color='r')\n",
        "ax.set_ylim(xlim)\n",
        "ax.set_xticks([]); ax.set_yticks([-5, 0, 5, 10, 15,20])\n",
        "ax.text(0.97, 0.97, 'n={}'.format(si_format(len(y_missing)), precision=2, format_str='{value}{prefix}',), \n",
        "        transform=ax.transAxes, ha='right', va='top', fontsize=7, rotation=90, color='r')\n",
        "ax.set_ylabel('Prediction', labelpad=2,fontsize=8)\n",
        "ax.tick_params(axis='both', labelsize=7, length=2, pad=1)\n",
        "\n",
        "# Bottom Marginal\n",
        "ax = fig.add_subplot(gs[1, 1])\n",
        "ax.hist(x_missing, bins=bins, edgecolor='none', density=True, color='r')\n",
        "ax.set_xlim(xlim)\n",
        "ax.set_xticks([-5, 0, 5, 10, 15,20]); ax.set_yticks([])\n",
        "ax.text(0.97, 0.8, 'n={}'.format(si_format(len(x_missing)), precision=2, format_str='{value}{prefix}',), \n",
        "        transform=ax.transAxes, ha='right', va='top', fontsize=7, color='r')\n",
        "ax.set_xlabel('Truth', labelpad=2,fontsize=8)\n",
        "ax.tick_params(axis='both', labelsize=7, length=2, pad=1)\n",
        "\n",
        "# Missing label (not detected in either)\n",
        "ax = fig.add_subplot(gs[1, 0])\n",
        "for spine in ['bottom', 'left']:\n",
        "    ax.spines[spine].set_visible(False)\n",
        "ax.set_xticks([]); ax.set_yticks([])\n",
        "\n",
        "ax.text(0.8, 0.8, 'Missing', transform=ax.transAxes, color='r', ha='right', va='top', fontsize=7, clip_on=False)\n",
        "fig.savefig('../results/rnn/2nd_results/nor_transduction/2nd_aa_nor_transduction_prediction_correlation_train.pdf',dpi=300,bbox_inches='tight')"
      ]
    },
    {
      "cell_type": "code",
      "execution_count": 17,
      "metadata": {},
      "outputs": [
        {
          "data": {
            "image/png": "[encoded data removed]",
            "text/plain": [
              "<Figure size 180x150 with 1 Axes>"
            ]
          },
          "metadata": {},
          "output_type": "display_data"
        }
      ],
      "source": [
        "data = np.array(preds_df['y_pred']) \n",
        "data = data.reshape(-1, 1)  # 将数据转换成列向量的形式\n",
        "\n",
        "# 使用GaussianMixture拟合数据\n",
        "n_components = 1 # 设置混合模型的分量个数\n",
        "gmm = GaussianMixture(n_components=n_components)\n",
        "gmm.fit(data)\n",
        "\n",
        "# 获取每个分量的均值和协方差矩阵\n",
        "means = gmm.means_\n",
        "covariances = gmm.covariances_\n",
        "\n",
        "# 生成拟合后的分布\n",
        "x = np.linspace(-7, 6, 100000)\n",
        "x = x.reshape(-1, 1)\n",
        "y = np.exp(gmm.score_samples(x))\n",
        "\n",
        "fig,ax = plt.subplots(figsize=(1.8,1.5),dpi=100)\n",
        "# 绘制原始数据和拟合后的分布\n",
        "plt.hist(data, bins=100, density=True, alpha=0.6, color = '#BAB3A3',label='Prediction')\n",
        "#plt.plot(x, y, '-r', label='GMM fit')\n",
        "\n",
        "\n",
        "# 绘制每个分量的正态分布\n",
        "for i in range(n_components):\n",
        "    component = np.exp(-(x - means[i]) ** 2 / (2 * covariances[i]))\n",
        "    component /= np.sqrt(2 * np.pi * covariances[i])\n",
        "    component *= gmm.weights_[i]\n",
        "    if i == 0:\n",
        "        ax.plot(x, component, '-', label=f'Distribution {i + 1}', color='#F66E68', alpha=1)\n",
        "        ax.fill_between(x.flatten(), 0, component.flatten(), color='#F66E68', alpha=0.4)\n",
        "    else:\n",
        "        ax.plot(x, component, '-', label=f'Distribution {i + 1}', color='#457B9D', alpha=1)\n",
        "        ax.fill_between(x.flatten(), 0, component.flatten(), color='#457B9D', alpha=0.4)\n",
        "\n",
        "\n",
        "plt.title('Prediction',fontsize=10)\n",
        "ax.tick_params(axis='both', which='both', length=2,labelsize=10)\n",
        "ax.set_xticks([-5, 0, 5]); \n",
        "# ax.set_yticks([])\n",
        "plt.ylabel('Density',labelpad=1,fontsize=10)\n",
        "plt.xlabel('Nor_package',labelpad=1,fontsize=10)\n",
        "plt.legend(fontsize=7,frameon=False)\n",
        "fig.savefig('../results/rnn/2nd_results/nor_transduction/2nd_aa_nor_transduction_prediction_distribution_train.pdf',dpi=300,bbox_inches='tight')"
      ]
    },
    {
      "cell_type": "markdown",
      "metadata": {},
      "source": [
        "· `Test-data validation` "
      ]
    },
    {
      "cell_type": "code",
      "execution_count": 34,
      "metadata": {},
      "outputs": [
        {
          "name": "stdout",
          "output_type": "stream",
          "text": [
            " 1/15 [=>............................] - ETA: 0s"
          ]
        },
        {
          "name": "stdout",
          "output_type": "stream",
          "text": [
            "15/15 [==============================] - 0s 6ms/step\n"
          ]
        },
        {
          "data": {
            "text/plain": [
              "0.01308622781693636"
            ]
          },
          "execution_count": 34,
          "metadata": {},
          "output_type": "execute_result"
        }
      ],
      "source": [
        "\n",
        "# Predict for test variants\n",
        "y = model.predict(test_x)\n",
        "x = np.array(test_y)\n",
        "y = np.reshape(y, (1,y.shape[0]))[0]\n",
        "preds_df = pd.DataFrame(columns=['y_pred','y_true'])\n",
        "preds_df['y_pred'] = pd.DataFrame(y)\n",
        "preds_df['y_true']  = pd.DataFrame(x)\n",
        "preds_df['y_pred'].corr(preds_df['y_true'])\n"
      ]
    },
    {
      "cell_type": "code",
      "execution_count": 22,
      "metadata": {},
      "outputs": [
        {
          "ename": "ValueError",
          "evalue": "Cannot take a larger sample than population when 'replace=False'",
          "output_type": "error",
          "traceback": [
            "\u001b[1;31m---------------------------------------------------------------------------\u001b[0m",
            "\u001b[1;31mValueError\u001b[0m                                Traceback (most recent call last)",
            "Cell \u001b[1;32mIn[22], line 17\u001b[0m\n\u001b[0;32m     12\u001b[0m y_missing \u001b[38;5;241m=\u001b[39m y[np\u001b[38;5;241m.\u001b[39misinf(x)]\n\u001b[0;32m     13\u001b[0m x_missing \u001b[38;5;241m=\u001b[39m x[np\u001b[38;5;241m.\u001b[39misinf(y)]\n\u001b[0;32m     16\u001b[0m kernel \u001b[38;5;241m=\u001b[39m gaussian_kde(np\u001b[38;5;241m.\u001b[39mvstack([\n\u001b[1;32m---> 17\u001b[0m     \u001b[43mx_both\u001b[49m\u001b[38;5;241;43m.\u001b[39;49m\u001b[43msample\u001b[49m\u001b[43m(\u001b[49m\u001b[43mn\u001b[49m\u001b[38;5;241;43m=\u001b[39;49m\u001b[38;5;241;43m500\u001b[39;49m\u001b[43m,\u001b[49m\u001b[43m \u001b[49m\u001b[43mrandom_state\u001b[49m\u001b[38;5;241;43m=\u001b[39;49m\u001b[38;5;241;43m1\u001b[39;49m\u001b[43m)\u001b[49m, \n\u001b[0;32m     18\u001b[0m     y_both\u001b[38;5;241m.\u001b[39msample(n\u001b[38;5;241m=\u001b[39m\u001b[38;5;241m500\u001b[39m, random_state\u001b[38;5;241m=\u001b[39m\u001b[38;5;241m1\u001b[39m)\n\u001b[0;32m     19\u001b[0m ]))\n\u001b[0;32m     20\u001b[0m c_both \u001b[38;5;241m=\u001b[39m kernel(np\u001b[38;5;241m.\u001b[39mvstack([x_both\u001b[38;5;241m.\u001b[39mvalues, y_both\u001b[38;5;241m.\u001b[39mvalues]))\n\u001b[0;32m     22\u001b[0m fig \u001b[38;5;241m=\u001b[39m plt\u001b[38;5;241m.\u001b[39mfigure(figsize\u001b[38;5;241m=\u001b[39m(\u001b[38;5;241m1.4\u001b[39m,\u001b[38;5;241m1.3\u001b[39m), dpi\u001b[38;5;241m=\u001b[39m\u001b[38;5;241m150\u001b[39m)\n",
            "File \u001b[1;32md:\\ProgramData\\anaconda3\\envs\\tf\\lib\\site-packages\\pandas\\core\\generic.py:5858\u001b[0m, in \u001b[0;36mNDFrame.sample\u001b[1;34m(self, n, frac, replace, weights, random_state, axis, ignore_index)\u001b[0m\n\u001b[0;32m   5855\u001b[0m \u001b[38;5;28;01mif\u001b[39;00m weights \u001b[38;5;129;01mis\u001b[39;00m \u001b[38;5;129;01mnot\u001b[39;00m \u001b[38;5;28;01mNone\u001b[39;00m:\n\u001b[0;32m   5856\u001b[0m     weights \u001b[38;5;241m=\u001b[39m sample\u001b[38;5;241m.\u001b[39mpreprocess_weights(\u001b[38;5;28mself\u001b[39m, weights, axis)\n\u001b[1;32m-> 5858\u001b[0m sampled_indices \u001b[38;5;241m=\u001b[39m \u001b[43msample\u001b[49m\u001b[38;5;241;43m.\u001b[39;49m\u001b[43msample\u001b[49m\u001b[43m(\u001b[49m\u001b[43mobj_len\u001b[49m\u001b[43m,\u001b[49m\u001b[43m \u001b[49m\u001b[43msize\u001b[49m\u001b[43m,\u001b[49m\u001b[43m \u001b[49m\u001b[43mreplace\u001b[49m\u001b[43m,\u001b[49m\u001b[43m \u001b[49m\u001b[43mweights\u001b[49m\u001b[43m,\u001b[49m\u001b[43m \u001b[49m\u001b[43mrs\u001b[49m\u001b[43m)\u001b[49m\n\u001b[0;32m   5859\u001b[0m result \u001b[38;5;241m=\u001b[39m \u001b[38;5;28mself\u001b[39m\u001b[38;5;241m.\u001b[39mtake(sampled_indices, axis\u001b[38;5;241m=\u001b[39maxis)\n\u001b[0;32m   5861\u001b[0m \u001b[38;5;28;01mif\u001b[39;00m ignore_index:\n",
            "File \u001b[1;32md:\\ProgramData\\anaconda3\\envs\\tf\\lib\\site-packages\\pandas\\core\\sample.py:151\u001b[0m, in \u001b[0;36msample\u001b[1;34m(obj_len, size, replace, weights, random_state)\u001b[0m\n\u001b[0;32m    148\u001b[0m     \u001b[38;5;28;01melse\u001b[39;00m:\n\u001b[0;32m    149\u001b[0m         \u001b[38;5;28;01mraise\u001b[39;00m \u001b[38;5;167;01mValueError\u001b[39;00m(\u001b[38;5;124m\"\u001b[39m\u001b[38;5;124mInvalid weights: weights sum to zero\u001b[39m\u001b[38;5;124m\"\u001b[39m)\n\u001b[1;32m--> 151\u001b[0m \u001b[38;5;28;01mreturn\u001b[39;00m \u001b[43mrandom_state\u001b[49m\u001b[38;5;241;43m.\u001b[39;49m\u001b[43mchoice\u001b[49m\u001b[43m(\u001b[49m\u001b[43mobj_len\u001b[49m\u001b[43m,\u001b[49m\u001b[43m \u001b[49m\u001b[43msize\u001b[49m\u001b[38;5;241;43m=\u001b[39;49m\u001b[43msize\u001b[49m\u001b[43m,\u001b[49m\u001b[43m \u001b[49m\u001b[43mreplace\u001b[49m\u001b[38;5;241;43m=\u001b[39;49m\u001b[43mreplace\u001b[49m\u001b[43m,\u001b[49m\u001b[43m \u001b[49m\u001b[43mp\u001b[49m\u001b[38;5;241;43m=\u001b[39;49m\u001b[43mweights\u001b[49m\u001b[43m)\u001b[49m\u001b[38;5;241m.\u001b[39mastype(\n\u001b[0;32m    152\u001b[0m     np\u001b[38;5;241m.\u001b[39mintp, copy\u001b[38;5;241m=\u001b[39m\u001b[38;5;28;01mFalse\u001b[39;00m\n\u001b[0;32m    153\u001b[0m )\n",
            "File \u001b[1;32mmtrand.pyx:965\u001b[0m, in \u001b[0;36mnumpy.random.mtrand.RandomState.choice\u001b[1;34m()\u001b[0m\n",
            "\u001b[1;31mValueError\u001b[0m: Cannot take a larger sample than population when 'replace=False'"
          ]
        }
      ],
      "source": [
        "x = preds_df['y_pred']  \n",
        "y = preds_df['y_true']   \n",
        "\n",
        "remove = np.isinf(x) & np.isinf(y)\n",
        "x = x[~remove]\n",
        "y = y[~remove]\n",
        "\n",
        "keep = (~np.isinf(x)) & (~np.isinf(y))\n",
        "x_both = x[keep]\n",
        "y_both = y[keep]\n",
        "\n",
        "y_missing = y[np.isinf(x)]\n",
        "x_missing = x[np.isinf(y)]\n",
        "\n",
        "\n",
        "kernel = gaussian_kde(np.vstack([\n",
        "    x_both.sample(n=500, random_state=1), \n",
        "    y_both.sample(n=500, random_state=1)\n",
        "]))\n",
        "c_both = kernel(np.vstack([x_both.values, y_both.values]))\n",
        "\n",
        "fig = plt.figure(figsize=(1.4,1.3), dpi=150)\n",
        "gs = fig.add_gridspec(2, 2, left=0.275, right=0.95, bottom=0.22, top=0.95, \n",
        "                      width_ratios=[1, 6], height_ratios=[6, 1], hspace=0., wspace=0)\n",
        "ax = fig.add_subplot(gs[0, 1])\n",
        "ax.scatter(x_both, y_both, c=c_both, cmap=mpl.cm.inferno, s=0.2, edgecolor='none', rasterized=True)\n",
        "ax.set_xticks([]); ax.set_yticks([])\n",
        "xlim = [-11, 12]\n",
        "bins = np.linspace(*xlim, 25)\n",
        "ax.set_xlim(xlim); ax.set_ylim(xlim)\n",
        "ax.text(0.03, 0.97, r'$r$ = {:.4f}'.format(np.corrcoef(x_both, y_both)[0, 1]),\n",
        "       transform=ax.transAxes, ha='left', va='top', fontsize=7)\n",
        "\n",
        "ax.text(0.97, 0.01, 'n={}'.format(si_format(len(x_both)), precision=2, format_str='{value}{prefix}',), \n",
        "        transform=ax.transAxes, ha='right', va='bottom', fontsize=7)\n",
        "\n",
        "# Left Marginal\n",
        "ax = fig.add_subplot(gs[0, 0])\n",
        "ax.hist(y_missing, bins=bins, edgecolor='none', orientation='horizontal', density=True, color='r')\n",
        "ax.set_ylim(xlim)\n",
        "ax.set_xticks([]); ax.set_yticks([-5, 0, 5, 10, 15,20])\n",
        "ax.text(0.97, 0.97, 'n={}'.format(si_format(len(y_missing)), precision=2, format_str='{value}{prefix}',), \n",
        "        transform=ax.transAxes, ha='right', va='top', fontsize=7, rotation=90, color='r')\n",
        "ax.set_ylabel('Prediction', labelpad=2,fontsize=8)\n",
        "ax.tick_params(axis='both', labelsize=7, length=2, pad=1)\n",
        "\n",
        "# Bottom Marginal\n",
        "ax = fig.add_subplot(gs[1, 1])\n",
        "ax.hist(x_missing, bins=bins, edgecolor='none', density=True, color='r')\n",
        "ax.set_xlim(xlim)\n",
        "ax.set_xticks([-5, 0, 5, 10, 15,20]); ax.set_yticks([])\n",
        "ax.text(0.97, 0.8, 'n={}'.format(si_format(len(x_missing)), precision=2, format_str='{value}{prefix}',), \n",
        "        transform=ax.transAxes, ha='right', va='top', fontsize=7, color='r')\n",
        "ax.set_xlabel('Truth', labelpad=2,fontsize=8)\n",
        "ax.tick_params(axis='both', labelsize=6, length=2, pad=1)\n",
        "\n",
        "# Missing label (not detected in either)\n",
        "ax = fig.add_subplot(gs[1, 0])\n",
        "for spine in ['bottom', 'left']:\n",
        "    ax.spines[spine].set_visible(False)\n",
        "ax.set_xticks([]); ax.set_yticks([])\n",
        "\n",
        "ax.text(0.8, 0.8, 'Missing', transform=ax.transAxes, color='r', ha='right', va='top', fontsize=7, clip_on=False)\n",
        "fig.savefig('../results/rnn/2nd_results/nor_transduction/2nd_aa_nor_transduction_prediction_correlation_test.pdf',dpi=300,bbox_inches='tight')"
      ]
    },
    {
      "cell_type": "code",
      "execution_count": 21,
      "metadata": {
        "ExecuteTime": {
          "end_time": "2021-06-15T18:04:49.108828Z",
          "start_time": "2021-06-15T18:04:38.468240Z"
        }
      },
      "outputs": [
        {
          "data": {
            "image/png": "[encoded data removed]",
            "text/plain": [
              "<Figure size 180x150 with 1 Axes>"
            ]
          },
          "metadata": {},
          "output_type": "display_data"
        }
      ],
      "source": [
        "data = np.array(preds_df['y_pred']) \n",
        "data = data.reshape(-1, 1)  # 将数据转换成列向量的形式\n",
        "\n",
        "# 使用GaussianMixture拟合数据\n",
        "n_components = 1 # 设置混合模型的分量个数\n",
        "gmm = GaussianMixture(n_components=n_components)\n",
        "gmm.fit(data)\n",
        "\n",
        "# 获取每个分量的均值和协方差矩阵\n",
        "means = gmm.means_\n",
        "covariances = gmm.covariances_\n",
        "\n",
        "# 生成拟合后的分布\n",
        "x = np.linspace(-7, 8, 100000)\n",
        "x = x.reshape(-1, 1)\n",
        "y = np.exp(gmm.score_samples(x))\n",
        "\n",
        "fig,ax = plt.subplots(figsize=(1.8,1.5),dpi=100)\n",
        "# 绘制原始数据和拟合后的分布\n",
        "plt.hist(data, bins=100, density=True, alpha=0.6, color = '#BAB3A3',label='Prediction')\n",
        "#plt.plot(x, y, '-r', label='GMM fit')\n",
        "\n",
        "\n",
        "# 绘制每个分量的正态分布\n",
        "for i in range(n_components):\n",
        "    component = np.exp(-(x - means[i]) ** 2 / (2 * covariances[i]))\n",
        "    component /= np.sqrt(2 * np.pi * covariances[i])\n",
        "    component *= gmm.weights_[i]\n",
        "    if i == 0:\n",
        "        ax.plot(x, component, '-', label=f'Distribution {i + 1}', color='#F66E68', alpha=1)\n",
        "        ax.fill_between(x.flatten(), 0, component.flatten(), color='#F66E68', alpha=0.4)\n",
        "    else:\n",
        "        ax.plot(x, component, '-', label=f'Distribution {i + 1}', color='#457B9D', alpha=1)\n",
        "        ax.fill_between(x.flatten(), 0, component.flatten(), color='#457B9D', alpha=0.4)\n",
        "\n",
        "\n",
        "plt.title('Prediction',fontsize=10)\n",
        "ax.tick_params(axis='both', which='both', length=2,labelsize=10)\n",
        "ax.set_xticks([-5, 0, 5, ]); \n",
        "# ax.set_yticks([])\n",
        "plt.ylabel('Density',labelpad=1,fontsize=10)\n",
        "plt.xlabel('Nor_package',labelpad=1,fontsize=10)\n",
        "plt.legend(fontsize=7,frameon=False)\n",
        "fig.savefig('../results/rnn/2nd_results/nor_transduction/2nd_aa_nor_transduction_prediction_distribution_test.pdf',dpi=300,bbox_inches='tight')"
      ]
    },
    {
      "cell_type": "code",
      "execution_count": null,
      "metadata": {},
      "outputs": [],
      "source": []
    },
    {
      "cell_type": "code",
      "execution_count": null,
      "metadata": {},
      "outputs": [],
      "source": []
    }
  ],
  "metadata": {
    "kernelspec": {
      "display_name": "Python 3 (ipykernel)",
      "language": "python",
      "name": "python3"
    },
    "language_info": {
      "codemirror_mode": {
        "name": "ipython",
        "version": 3
      },
      "file_extension": ".py",
      "mimetype": "text/x-python",
      "name": "python",
      "nbconvert_exporter": "python",
      "pygments_lexer": "ipython3",
      "version": "3.8.16"
    },
    "toc": {
      "base_numbering": 1,
      "nav_menu": {},
      "number_sections": true,
      "sideBar": true,
      "skip_h1_title": false,
      "title_cell": "Table of Contents",
      "title_sidebar": "Contents",
      "toc_cell": true,
      "toc_position": {
        "height": "calc(100% - 180px)",
        "left": "10px",
        "top": "150px",
        "width": "320px"
      },
      "toc_section_display": true,
      "toc_window_display": true
    }
  },
  "nbformat": 4,
  "nbformat_minor": 4
}
