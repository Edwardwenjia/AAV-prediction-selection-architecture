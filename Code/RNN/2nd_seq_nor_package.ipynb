{
  "cells": [
    {
      "cell_type": "code",
      "execution_count": 2,
      "metadata": {
        "ExecuteTime": {
          "end_time": "2021-06-15T17:13:58.134959Z",
          "start_time": "2021-06-15T17:13:57.550003Z"
        }
      },
      "outputs": [],
      "source": [
        "import pandas as pd\n",
        "import numpy as np\n",
        "import matplotlib as mpl\n",
        "import matplotlib.pyplot as plt\n",
        "import seaborn as sns\n",
        "from IPython.display import Image\n",
        "from scipy.stats import gaussian_kde, norm\n",
        "from sklearn.mixture import GaussianMixture\n",
        "\n",
        "from utils_f4f import CustomEarlyStopping, rnn_seq_model,AA_hotencoding ,heatmap, si_format\n",
        "\n"
      ]
    },
    {
      "cell_type": "code",
      "execution_count": 3,
      "metadata": {},
      "outputs": [],
      "source": [
        "mpl.rcParams['svg.fonttype'] = 'none'\n",
        "mpl.rcParams['font.family'] = ['sans-serif']\n",
        "mpl.rcParams['font.sans-serif'] = ['Arial']\n",
        "mpl.rcParams['text.usetex'] = False\n",
        "mpl.rcParams['pdf.fonttype'] = 42\n",
        "mpl.rcParams['ps.fonttype'] = 42"
      ]
    },
    {
      "cell_type": "markdown",
      "metadata": {},
      "source": [
        "#### Data_preparetion\n",
        "\n"
      ]
    },
    {
      "cell_type": "code",
      "execution_count": 4,
      "metadata": {},
      "outputs": [],
      "source": [
        "\n",
        "df_all = pd.read_csv('../data/2nd_10209_Package_seq.tsv',delimiter='\\t')\n",
        "# df_all = df_all.iloc[::500]\n",
        "df_modeling =df_all\n",
        "df_modeling['label']=0\n",
        "df_modeling = df_modeling[['seq', 'nor_package', 'label']]\n",
        "df_missing = df_modeling[np.isinf(df_modeling['nor_package']) ]#\n",
        "df_modeling = df_modeling[~np.isnan(df_modeling['nor_package']) & ~np.isinf(df_modeling['nor_package'])]\n",
        "df_modeling.reset_index(drop = True, inplace=True)\n",
        "AA_col = 'seq'\n",
        "array = 'nor_package'\n"
      ]
    },
    {
      "cell_type": "code",
      "execution_count": 7,
      "metadata": {},
      "outputs": [
        {
          "data": {
            "image/png": "[encoded data removed]",
            "text/plain": [
              "<Figure size 200x170 with 1 Axes>"
            ]
          },
          "metadata": {},
          "output_type": "display_data"
        }
      ],
      "source": [
        "nor_package = df_all[np.isfinite(df_all[array])][array]\n",
        "data = np.array(nor_package) \n",
        "data = data.reshape(-1, 1)  # Convert the data into a column vector\n",
        "\n",
        "# Fit the data using GaussianMixture\n",
        "n_components = 1 # Set the number of components for the hybrid model\n",
        "gmm = GaussianMixture(n_components=n_components)\n",
        "gmm.fit(data)\n",
        "\n",
        "# Get the mean and covariance matrix for each component\n",
        "means = gmm.means_\n",
        "covariances = gmm.covariances_\n",
        "\n",
        "# Generate the fitted distribution\n",
        "x = np.linspace(-10, 5, 10000)\n",
        "x = x.reshape(-1, 1)\n",
        "y = np.exp(gmm.score_samples(x))\n",
        "\n",
        "fig,ax = plt.subplots(figsize=(2,1.7),dpi=100)\n",
        "# Plot the raw data and the distribution after fitting\n",
        "plt.hist(data, bins=100, density=True, alpha=0.6, color = '#BAB3A3',label='Prediction')\n",
        "\n",
        "# 绘制每个分量的正态分布\n",
        "for i in range(n_components):\n",
        "    component = np.exp(-(x - means[i]) ** 2 / (2 * covariances[i]))\n",
        "    component /= np.sqrt(2 * np.pi * covariances[i])\n",
        "    component *= gmm.weights_[i]\n",
        "    if i == 0:\n",
        "        ax.plot(x, component, '-', label=f'Distribution {i + 1}', color='#F66E68', alpha=1)\n",
        "        ax.fill_between(x.flatten(), 0, component.flatten(), color='#F66E68', alpha=0.4)\n",
        "    else:\n",
        "        ax.plot(x, component, '-', label=f'Distribution {i + 1}', color='#457B9D', alpha=1)\n",
        "        ax.fill_between(x.flatten(), 0, component.flatten(), color='#457B9D', alpha=0.4)\n",
        "\n",
        "\n",
        "plt.title('Truth_distribution',fontsize=10)\n",
        "ax.tick_params(axis='both', which='both', length=2,labelsize=8)\n",
        "ax.set_xticks([-10,-1, 0, 1,2,3,4]); \n",
        "ax.set_xlim([-1,4])\n",
        "plt.ylabel('Density',labelpad=2,fontsize=10)\n",
        "plt.xlabel('Nor_package',labelpad=2,fontsize=10)\n",
        "plt.legend(fontsize=7,frameon=False,loc='best')\n",
        "plt.show()"
      ]
    },
    {
      "cell_type": "markdown",
      "metadata": {},
      "source": []
    },
    {
      "cell_type": "markdown",
      "metadata": {},
      "source": [
        "### Prep data\n",
        " one-hot encode the `AA_sequence` column and split the data into\n",
        "training and test sets. The training split will be split\n",
        "\n"
      ]
    },
    {
      "cell_type": "code",
      "execution_count": 9,
      "metadata": {},
      "outputs": [],
      "source": [
        "# Train-Test split\n",
        "train_size = 9200\n",
        "validation_size = 500\n",
        "train, validate, test = np.split(df_modeling.sample(frac=1),  [train_size, train_size+validation_size])\n",
        "\n",
        "# Hot Encoding\n",
        "\n",
        "train_x =  np.asarray([AA_hotencoding(variant) for variant in train[AA_col]])\n",
        "train_y = train[array]\n",
        "validate_x = np.asarray([AA_hotencoding(variant) for variant in validate[AA_col]])\n",
        "validate_y = validate[array]\n",
        "test_x = np.asarray([AA_hotencoding(variant) for variant in test[AA_col]])\n",
        "test_y = test[array]\n",
        "missing_x = np.asarray([AA_hotencoding(variant) for variant in df_missing[AA_col]])\n"
      ]
    },
    {
      "cell_type": "code",
      "execution_count": 6,
      "metadata": {},
      "outputs": [
        {
          "data": {
            "text/plain": [
              "(9200, 21, 20)"
            ]
          },
          "execution_count": 6,
          "metadata": {},
          "output_type": "execute_result"
        }
      ],
      "source": [
        "train_x.shape"
      ]
    },
    {
      "cell_type": "markdown",
      "metadata": {},
      "source": [
        "#### RNN  model training\n",
        "Default parameterization:Here the model is applied to aa-nor_package learning process, as details"
      ]
    },
    {
      "cell_type": "code",
      "execution_count": 11,
      "metadata": {},
      "outputs": [
        {
          "name": "stdout",
          "output_type": "stream",
          "text": [
            "Epoch 1/120\n",
            "575/575 - 25s - loss: 0.1424 - mae: 0.2987 - val_loss: 0.1320 - val_mae: 0.2750 - 25s/epoch - 43ms/step\n",
            "Epoch 2/120\n",
            "575/575 - 22s - loss: 0.1329 - mae: 0.2878 - val_loss: 0.1401 - val_mae: 0.2822 - 22s/epoch - 39ms/step\n",
            "Epoch 3/120\n",
            "575/575 - 22s - loss: 0.1306 - mae: 0.2858 - val_loss: 0.1249 - val_mae: 0.2750 - 22s/epoch - 39ms/step\n",
            "Epoch 4/120\n",
            "575/575 - 22s - loss: 0.1288 - mae: 0.2821 - val_loss: 0.1266 - val_mae: 0.2851 - 22s/epoch - 39ms/step\n",
            "Epoch 5/120\n",
            "575/575 - 21s - loss: 0.1273 - mae: 0.2808 - val_loss: 0.1242 - val_mae: 0.2794 - 21s/epoch - 37ms/step\n",
            "Epoch 6/120\n",
            "575/575 - 21s - loss: 0.1249 - mae: 0.2773 - val_loss: 0.1215 - val_mae: 0.2644 - 21s/epoch - 36ms/step\n",
            "Epoch 7/120\n",
            "575/575 - 21s - loss: 0.1189 - mae: 0.2690 - val_loss: 0.1191 - val_mae: 0.2716 - 21s/epoch - 36ms/step\n",
            "Epoch 8/120\n",
            "575/575 - 21s - loss: 0.1107 - mae: 0.2598 - val_loss: 0.1039 - val_mae: 0.2542 - 21s/epoch - 36ms/step\n",
            "Epoch 9/120\n",
            "575/575 - 20s - loss: 0.0988 - mae: 0.2432 - val_loss: 0.0922 - val_mae: 0.2342 - 20s/epoch - 36ms/step\n",
            "Epoch 10/120\n",
            "575/575 - 21s - loss: 0.0894 - mae: 0.2305 - val_loss: 0.0974 - val_mae: 0.2323 - 21s/epoch - 36ms/step\n",
            "Epoch 11/120\n",
            "575/575 - 22s - loss: 0.0840 - mae: 0.2223 - val_loss: 0.0903 - val_mae: 0.2269 - 22s/epoch - 38ms/step\n",
            "Epoch 12/120\n",
            "575/575 - 20s - loss: 0.0792 - mae: 0.2156 - val_loss: 0.0874 - val_mae: 0.2232 - 20s/epoch - 35ms/step\n",
            "Epoch 13/120\n",
            "575/575 - 20s - loss: 0.0778 - mae: 0.2127 - val_loss: 0.0808 - val_mae: 0.2219 - 20s/epoch - 35ms/step\n",
            "Epoch 14/120\n",
            "575/575 - 20s - loss: 0.0751 - mae: 0.2086 - val_loss: 0.0793 - val_mae: 0.2181 - 20s/epoch - 36ms/step\n",
            "Epoch 15/120\n",
            "575/575 - 21s - loss: 0.0727 - mae: 0.2058 - val_loss: 0.0755 - val_mae: 0.2107 - 21s/epoch - 36ms/step\n",
            "Epoch 16/120\n",
            "575/575 - 21s - loss: 0.0710 - mae: 0.2025 - val_loss: 0.0771 - val_mae: 0.2103 - 21s/epoch - 36ms/step\n",
            "Epoch 17/120\n",
            "575/575 - 21s - loss: 0.0675 - mae: 0.1967 - val_loss: 0.0805 - val_mae: 0.2137 - 21s/epoch - 36ms/step\n",
            "Epoch 18/120\n",
            "575/575 - 22s - loss: 0.0651 - mae: 0.1929 - val_loss: 0.0787 - val_mae: 0.2135 - 22s/epoch - 38ms/step\n",
            "Epoch 19/120\n",
            "575/575 - 22s - loss: 0.0636 - mae: 0.1911 - val_loss: 0.0745 - val_mae: 0.2077 - 22s/epoch - 39ms/step\n",
            "Epoch 20/120\n",
            "575/575 - 22s - loss: 0.0606 - mae: 0.1871 - val_loss: 0.0838 - val_mae: 0.2278 - 22s/epoch - 39ms/step\n",
            "Epoch 21/120\n",
            "575/575 - 22s - loss: 0.0584 - mae: 0.1833 - val_loss: 0.0790 - val_mae: 0.2128 - 22s/epoch - 38ms/step\n",
            "Epoch 22/120\n",
            "575/575 - 22s - loss: 0.0552 - mae: 0.1780 - val_loss: 0.0818 - val_mae: 0.2166 - 22s/epoch - 39ms/step\n",
            "Epoch 23/120\n",
            "575/575 - 22s - loss: 0.0523 - mae: 0.1737 - val_loss: 0.0716 - val_mae: 0.2074 - 22s/epoch - 37ms/step\n",
            "Epoch 24/120\n",
            "575/575 - 28s - loss: 0.0486 - mae: 0.1675 - val_loss: 0.0708 - val_mae: 0.2045 - 28s/epoch - 49ms/step\n",
            "Epoch 25/120\n",
            "575/575 - 22s - loss: 0.0475 - mae: 0.1650 - val_loss: 0.0727 - val_mae: 0.2051 - 22s/epoch - 39ms/step\n",
            "Epoch 26/120\n",
            "575/575 - 23s - loss: 0.0436 - mae: 0.1584 - val_loss: 0.0714 - val_mae: 0.2042 - 23s/epoch - 40ms/step\n",
            "Epoch 27/120\n",
            "575/575 - 22s - loss: 0.0398 - mae: 0.1515 - val_loss: 0.0745 - val_mae: 0.2076 - 22s/epoch - 39ms/step\n",
            "Epoch 28/120\n",
            "575/575 - 33s - loss: 0.0368 - mae: 0.1465 - val_loss: 0.0750 - val_mae: 0.2103 - 33s/epoch - 58ms/step\n",
            "Epoch 29/120\n",
            "575/575 - 34s - loss: 0.0346 - mae: 0.1424 - val_loss: 0.0748 - val_mae: 0.2060 - 34s/epoch - 58ms/step\n",
            "Epoch 30/120\n",
            "575/575 - 33s - loss: 0.0313 - mae: 0.1355 - val_loss: 0.0757 - val_mae: 0.2104 - 33s/epoch - 58ms/step\n",
            "Epoch 31/120\n",
            "575/575 - 33s - loss: 0.0278 - mae: 0.1286 - val_loss: 0.0777 - val_mae: 0.2140 - 33s/epoch - 58ms/step\n",
            "Epoch 32/120\n",
            "575/575 - 34s - loss: 0.0254 - mae: 0.1225 - val_loss: 0.0836 - val_mae: 0.2194 - 34s/epoch - 58ms/step\n",
            "Epoch 33/120\n",
            "575/575 - 33s - loss: 0.0227 - mae: 0.1162 - val_loss: 0.0817 - val_mae: 0.2172 - 33s/epoch - 57ms/step\n",
            "Epoch 34/120\n",
            "575/575 - 33s - loss: 0.0207 - mae: 0.1110 - val_loss: 0.0812 - val_mae: 0.2155 - 33s/epoch - 57ms/step\n",
            "Epoch 35/120\n",
            "575/575 - 34s - loss: 0.0183 - mae: 0.1048 - val_loss: 0.0810 - val_mae: 0.2161 - 34s/epoch - 59ms/step\n",
            "Epoch 36/120\n",
            "575/575 - 33s - loss: 0.0161 - mae: 0.0988 - val_loss: 0.0844 - val_mae: 0.2216 - 33s/epoch - 58ms/step\n",
            "Epoch 37/120\n",
            "575/575 - 33s - loss: 0.0143 - mae: 0.0932 - val_loss: 0.0842 - val_mae: 0.2219 - 33s/epoch - 57ms/step\n",
            "Epoch 38/120\n",
            "575/575 - 32s - loss: 0.0129 - mae: 0.0883 - val_loss: 0.0849 - val_mae: 0.2208 - 32s/epoch - 56ms/step\n",
            "Epoch 39/120\n",
            "575/575 - 32s - loss: 0.0115 - mae: 0.0836 - val_loss: 0.0878 - val_mae: 0.2253 - 32s/epoch - 56ms/step\n",
            "Epoch 40/120\n",
            "575/575 - 32s - loss: 0.0099 - mae: 0.0773 - val_loss: 0.0862 - val_mae: 0.2278 - 32s/epoch - 56ms/step\n",
            "Epoch 41/120\n",
            "575/575 - 32s - loss: 0.0091 - mae: 0.0743 - val_loss: 0.0869 - val_mae: 0.2278 - 32s/epoch - 56ms/step\n",
            "Epoch 42/120\n",
            "575/575 - 33s - loss: 0.0086 - mae: 0.0728 - val_loss: 0.0844 - val_mae: 0.2231 - 33s/epoch - 57ms/step\n",
            "Epoch 43/120\n",
            "575/575 - 34s - loss: 0.0075 - mae: 0.0678 - val_loss: 0.0839 - val_mae: 0.2258 - 34s/epoch - 59ms/step\n",
            "Epoch 44/120\n",
            "575/575 - 32s - loss: 0.0070 - mae: 0.0653 - val_loss: 0.0888 - val_mae: 0.2297 - 32s/epoch - 56ms/step\n",
            "Epoch 45/120\n",
            "575/575 - 32s - loss: 0.0066 - mae: 0.0631 - val_loss: 0.0839 - val_mae: 0.2252 - 32s/epoch - 56ms/step\n",
            "Epoch 46/120\n",
            "575/575 - 32s - loss: 0.0061 - mae: 0.0606 - val_loss: 0.0849 - val_mae: 0.2232 - 32s/epoch - 56ms/step\n",
            "Epoch 47/120\n",
            "575/575 - 32s - loss: 0.0054 - mae: 0.0569 - val_loss: 0.0814 - val_mae: 0.2196 - 32s/epoch - 56ms/step\n"
          ]
        },
        {
          "name": "stderr",
          "output_type": "stream",
          "text": [
            "d:\\ProgramData\\anaconda3\\envs\\tf\\lib\\site-packages\\keras\\src\\engine\\training.py:3000: UserWarning: You are saving your model as an HDF5 file via `model.save()`. This file format is considered legacy. We recommend using instead the native Keras format, e.g. `model.save('my_model.keras')`.\n",
            "  saving_api.save_model(\n"
          ]
        }
      ],
      "source": [
        "# Training\n",
        "\n",
        "# Define model \n",
        "model = rnn_seq_model(L1=420, L2=60)\n",
        "\n",
        "# Training parameters \n",
        "batch_size = 16\n",
        "EpochCount = 120\n",
        "#EpochCount = 5 #Used for quick excusion of the Notebook; please use a higher number instead to allow proper convergence\n",
        "\n",
        "# train model \n",
        "model.fit(train_x, train_y, batch_size=batch_size, epochs=EpochCount, \n",
        "          validation_data=(validate_x, validate_y),verbose=2,\n",
        "              callbacks=[CustomEarlyStopping(ratio=0.90, patience=30, restore_best_weights = True)])\n",
        "\n",
        "# Save model\n",
        "ModelFileName = 'pretrain/model_2nd_rnn_seq_nor_package'\n",
        "model.save(ModelFileName+'.h5')"
      ]
    },
    {
      "cell_type": "markdown",
      "metadata": {},
      "source": [
        "#### Model validation\n",
        "· `Train-data validation` \n",
        "\n"
      ]
    },
    {
      "cell_type": "code",
      "execution_count": 17,
      "metadata": {
        "ExecuteTime": {
          "end_time": "2021-06-15T18:02:53.571538Z",
          "start_time": "2021-06-15T18:02:46.205042Z"
        }
      },
      "outputs": [
        {
          "name": "stdout",
          "output_type": "stream",
          "text": [
            "288/288 [==============================] - 8s 27ms/step\n"
          ]
        },
        {
          "data": {
            "text/html": [
              "<div>\n",
              "<style scoped>\n",
              "    .dataframe tbody tr th:only-of-type {\n",
              "        vertical-align: middle;\n",
              "    }\n",
              "\n",
              "    .dataframe tbody tr th {\n",
              "        vertical-align: top;\n",
              "    }\n",
              "\n",
              "    .dataframe thead th {\n",
              "        text-align: right;\n",
              "    }\n",
              "</style>\n",
              "<table border=\"1\" class=\"dataframe\">\n",
              "  <thead>\n",
              "    <tr style=\"text-align: right;\">\n",
              "      <th></th>\n",
              "      <th>y_pred</th>\n",
              "      <th>y_true</th>\n",
              "    </tr>\n",
              "  </thead>\n",
              "  <tbody>\n",
              "    <tr>\n",
              "      <th>0</th>\n",
              "      <td>-3.485417</td>\n",
              "      <td>-3.57065</td>\n",
              "    </tr>\n",
              "    <tr>\n",
              "      <th>1</th>\n",
              "      <td>-4.991142</td>\n",
              "      <td>-4.88247</td>\n",
              "    </tr>\n",
              "    <tr>\n",
              "      <th>2</th>\n",
              "      <td>-2.518423</td>\n",
              "      <td>-1.39799</td>\n",
              "    </tr>\n",
              "    <tr>\n",
              "      <th>3</th>\n",
              "      <td>-1.416544</td>\n",
              "      <td>-2.12507</td>\n",
              "    </tr>\n",
              "    <tr>\n",
              "      <th>4</th>\n",
              "      <td>-3.242646</td>\n",
              "      <td>-3.53670</td>\n",
              "    </tr>\n",
              "    <tr>\n",
              "      <th>...</th>\n",
              "      <td>...</td>\n",
              "      <td>...</td>\n",
              "    </tr>\n",
              "    <tr>\n",
              "      <th>9195</th>\n",
              "      <td>-3.379213</td>\n",
              "      <td>-3.67420</td>\n",
              "    </tr>\n",
              "    <tr>\n",
              "      <th>9196</th>\n",
              "      <td>-4.140450</td>\n",
              "      <td>-4.87774</td>\n",
              "    </tr>\n",
              "    <tr>\n",
              "      <th>9197</th>\n",
              "      <td>-3.117728</td>\n",
              "      <td>-3.95174</td>\n",
              "    </tr>\n",
              "    <tr>\n",
              "      <th>9198</th>\n",
              "      <td>-2.359335</td>\n",
              "      <td>-1.07203</td>\n",
              "    </tr>\n",
              "    <tr>\n",
              "      <th>9199</th>\n",
              "      <td>-1.219323</td>\n",
              "      <td>-3.79973</td>\n",
              "    </tr>\n",
              "  </tbody>\n",
              "</table>\n",
              "<p>9200 rows × 2 columns</p>\n",
              "</div>"
            ],
            "text/plain": [
              "        y_pred   y_true\n",
              "0    -3.485417 -3.57065\n",
              "1    -4.991142 -4.88247\n",
              "2    -2.518423 -1.39799\n",
              "3    -1.416544 -2.12507\n",
              "4    -3.242646 -3.53670\n",
              "...        ...      ...\n",
              "9195 -3.379213 -3.67420\n",
              "9196 -4.140450 -4.87774\n",
              "9197 -3.117728 -3.95174\n",
              "9198 -2.359335 -1.07203\n",
              "9199 -1.219323 -3.79973\n",
              "\n",
              "[9200 rows x 2 columns]"
            ]
          },
          "execution_count": 17,
          "metadata": {},
          "output_type": "execute_result"
        }
      ],
      "source": [
        "\n",
        "# Predict for train variants\n",
        "y = model.predict(train_x)\n",
        "x = np.array(train_y)\n",
        "y = np.reshape(y, (1,y.shape[0]))[0]\n",
        "preds_df = pd.DataFrame(columns=['y_pred','y_true'])\n",
        "preds_df['y_pred'] = pd.DataFrame(y)\n",
        "preds_df['y_true']  = pd.DataFrame(x)\n",
        "preds_df['y_pred'].corr(preds_df['y_true'])\n"
      ]
    },
    {
      "cell_type": "code",
      "execution_count": 18,
      "metadata": {},
      "outputs": [],
      "source": [
        "x = preds_df['y_pred']  \n",
        "y = preds_df['y_true']   \n",
        "\n",
        "remove = np.isinf(x) & np.isinf(y)\n",
        "x = x[~remove]\n",
        "y = y[~remove]\n",
        "\n",
        "keep = (~np.isinf(x)) & (~np.isinf(y))\n",
        "x_both = x[keep]\n",
        "y_both = y[keep]\n",
        "\n",
        "y_missing = y[np.isinf(x)]\n",
        "x_missing = x[np.isinf(y)]\n",
        "\n",
        "\n",
        "kernel = gaussian_kde(np.vstack([\n",
        "    x_both.sample(n=2000, random_state=1), \n",
        "    y_both.sample(n=2000, random_state=1)\n",
        "]))\n",
        "c_both = kernel(np.vstack([x_both.values, y_both.values]))"
      ]
    },
    {
      "cell_type": "code",
      "execution_count": 19,
      "metadata": {},
      "outputs": [
        {
          "name": "stderr",
          "output_type": "stream",
          "text": [
            "d:\\ProgramData\\anaconda3\\envs\\tf\\lib\\site-packages\\numpy\\lib\\histograms.py:906: RuntimeWarning: invalid value encountered in divide\n",
            "  return n/db/n.sum(), bin_edges\n",
            "meta NOT subset; don't know how to subset; dropped\n"
          ]
        },
        {
          "data": {
            "image/png": "[encoded data removed]",
            "text/plain": [
              "<Figure size 210x195 with 4 Axes>"
            ]
          },
          "metadata": {},
          "output_type": "display_data"
        }
      ],
      "source": [
        "fig = plt.figure(figsize=(1.4,1.3), dpi=150)\n",
        "gs = fig.add_gridspec(2, 2, left=0.275, right=0.95, bottom=0.22, top=0.95, \n",
        "                      width_ratios=[1, 6], height_ratios=[6, 1], hspace=0., wspace=0)\n",
        "ax = fig.add_subplot(gs[0, 1])\n",
        "ax.scatter(x_both, y_both, c=c_both, cmap=mpl.cm.inferno, s=0.2, edgecolor='none', rasterized=True)\n",
        "ax.set_xticks([]); ax.set_yticks([])\n",
        "xlim = [-11, 12]\n",
        "bins = np.linspace(*xlim, 25)\n",
        "ax.set_xlim(xlim); ax.set_ylim(xlim)\n",
        "ax.text(0.03, 0.97, r'$r$ = {:.4f}'.format(np.corrcoef(x_both, y_both)[0, 1]),\n",
        "       transform=ax.transAxes, ha='left', va='top', fontsize=7)\n",
        "\n",
        "ax.text(0.97, 0.01, 'n={}'.format(si_format(len(x_both)), precision=2, format_str='{value}{prefix}',), \n",
        "        transform=ax.transAxes, ha='right', va='bottom', fontsize=7)\n",
        "\n",
        "# Left Marginal\n",
        "ax = fig.add_subplot(gs[0, 0])\n",
        "ax.hist(y_missing, bins=bins, edgecolor='none', orientation='horizontal', density=True, color='r')\n",
        "ax.set_ylim(xlim)\n",
        "ax.set_xticks([]); ax.set_yticks([-5, 0, 5, 10, 15,20])\n",
        "ax.text(0.97, 0.97, 'n={}'.format(si_format(len(y_missing)), precision=2, format_str='{value}{prefix}',), \n",
        "        transform=ax.transAxes, ha='right', va='top', fontsize=7, rotation=90, color='r')\n",
        "ax.set_ylabel('Prediction', labelpad=2,fontsize=8)\n",
        "ax.tick_params(axis='both', labelsize=7, length=2, pad=1)\n",
        "\n",
        "# Bottom Marginal\n",
        "ax = fig.add_subplot(gs[1, 1])\n",
        "ax.hist(x_missing, bins=bins, edgecolor='none', density=True, color='r')\n",
        "ax.set_xlim(xlim)\n",
        "ax.set_xticks([-5, 0, 5, 10, 15,20]); ax.set_yticks([])\n",
        "ax.text(0.97, 0.8, 'n={}'.format(si_format(len(x_missing)), precision=2, format_str='{value}{prefix}',), \n",
        "        transform=ax.transAxes, ha='right', va='top', fontsize=7, color='r')\n",
        "ax.set_xlabel('Truth', labelpad=2,fontsize=8)\n",
        "ax.tick_params(axis='both', labelsize=7, length=2, pad=1)\n",
        "\n",
        "# Missing label (not detected in either)\n",
        "ax = fig.add_subplot(gs[1, 0])\n",
        "for spine in ['bottom', 'left']:\n",
        "    ax.spines[spine].set_visible(False)\n",
        "ax.set_xticks([]); ax.set_yticks([])\n",
        "\n",
        "ax.text(0.8, 0.8, 'Missing', transform=ax.transAxes, color='r', ha='right', va='top', fontsize=7, clip_on=False)\n",
        "fig.savefig('../results/rnn/2nd_results/nor_package/2nd_seq_nor_package_prediction_correlation_train.pdf',dpi=300,bbox_inches='tight')"
      ]
    },
    {
      "cell_type": "code",
      "execution_count": 20,
      "metadata": {},
      "outputs": [
        {
          "name": "stderr",
          "output_type": "stream",
          "text": [
            "meta NOT subset; don't know how to subset; dropped\n"
          ]
        },
        {
          "data": {
            "image/png": "[encoded data removed]",
            "text/plain": [
              "<Figure size 180x150 with 1 Axes>"
            ]
          },
          "metadata": {},
          "output_type": "display_data"
        }
      ],
      "source": [
        "data = np.array(preds_df['y_pred']) \n",
        "data = data.reshape(-1, 1)  # 将数据转换成列向量的形式\n",
        "\n",
        "# 使用GaussianMixture拟合数据\n",
        "n_components = 2 # 设置混合模型的分量个数\n",
        "gmm = GaussianMixture(n_components=n_components)\n",
        "gmm.fit(data)\n",
        "\n",
        "# 获取每个分量的均值和协方差矩阵\n",
        "means = gmm.means_\n",
        "covariances = gmm.covariances_\n",
        "\n",
        "# 生成拟合后的分布\n",
        "x = np.linspace(-7, 8, 100000)\n",
        "x = x.reshape(-1, 1)\n",
        "y = np.exp(gmm.score_samples(x))\n",
        "\n",
        "fig,ax = plt.subplots(figsize=(1.8,1.5),dpi=100)\n",
        "# 绘制原始数据和拟合后的分布\n",
        "plt.hist(data, bins=100, density=True, alpha=0.6, color = '#BAB3A3',label='Prediction')\n",
        "#plt.plot(x, y, '-r', label='GMM fit')\n",
        "\n",
        "\n",
        "# 绘制每个分量的正态分布\n",
        "for i in range(n_components):\n",
        "    component = np.exp(-(x - means[i]) ** 2 / (2 * covariances[i]))\n",
        "    component /= np.sqrt(2 * np.pi * covariances[i])\n",
        "    component *= gmm.weights_[i]\n",
        "    if i == 0:\n",
        "        ax.plot(x, component, '-', label=f'Distribution {i + 1}', color='#F66E68', alpha=1)\n",
        "        ax.fill_between(x.flatten(), 0, component.flatten(), color='#F66E68', alpha=0.4)\n",
        "    else:\n",
        "        ax.plot(x, component, '-', label=f'Distribution {i + 1}', color='#457B9D', alpha=1)\n",
        "        ax.fill_between(x.flatten(), 0, component.flatten(), color='#457B9D', alpha=0.4)\n",
        "\n",
        "\n",
        "plt.title('Prediction',fontsize=10)\n",
        "ax.tick_params(axis='both', which='both', length=2,labelsize=10)\n",
        "ax.set_xticks([-5, 0, 5, ]); \n",
        "\n",
        "plt.ylabel('Density',labelpad=1,fontsize=10)\n",
        "plt.xlabel('Nor_package',labelpad=1,fontsize=10)\n",
        "plt.legend(fontsize=7,frameon=False)\n",
        "fig.savefig('../results/rnn/2nd_results/nor_package/2nd_seq_nor_package_prediction_distribution_train.pdf',dpi=300,bbox_inches='tight')"
      ]
    },
    {
      "cell_type": "markdown",
      "metadata": {},
      "source": [
        "· `Test-data validation` "
      ]
    },
    {
      "cell_type": "code",
      "execution_count": 21,
      "metadata": {},
      "outputs": [
        {
          "name": "stdout",
          "output_type": "stream",
          "text": [
            "  8/186 [>.............................] - ETA: 4s"
          ]
        },
        {
          "name": "stdout",
          "output_type": "stream",
          "text": [
            "186/186 [==============================] - 5s 27ms/step\n"
          ]
        },
        {
          "data": {
            "text/html": [
              "<div>\n",
              "<style scoped>\n",
              "    .dataframe tbody tr th:only-of-type {\n",
              "        vertical-align: middle;\n",
              "    }\n",
              "\n",
              "    .dataframe tbody tr th {\n",
              "        vertical-align: top;\n",
              "    }\n",
              "\n",
              "    .dataframe thead th {\n",
              "        text-align: right;\n",
              "    }\n",
              "</style>\n",
              "<table border=\"1\" class=\"dataframe\">\n",
              "  <thead>\n",
              "    <tr style=\"text-align: right;\">\n",
              "      <th></th>\n",
              "      <th>y_pred</th>\n",
              "      <th>y_true</th>\n",
              "    </tr>\n",
              "  </thead>\n",
              "  <tbody>\n",
              "    <tr>\n",
              "      <th>0</th>\n",
              "      <td>-3.203669</td>\n",
              "      <td>-0.852201</td>\n",
              "    </tr>\n",
              "    <tr>\n",
              "      <th>1</th>\n",
              "      <td>0.463296</td>\n",
              "      <td>-0.746622</td>\n",
              "    </tr>\n",
              "    <tr>\n",
              "      <th>2</th>\n",
              "      <td>0.600278</td>\n",
              "      <td>-3.378000</td>\n",
              "    </tr>\n",
              "    <tr>\n",
              "      <th>3</th>\n",
              "      <td>0.610223</td>\n",
              "      <td>-3.029740</td>\n",
              "    </tr>\n",
              "    <tr>\n",
              "      <th>4</th>\n",
              "      <td>-0.283386</td>\n",
              "      <td>-2.010630</td>\n",
              "    </tr>\n",
              "    <tr>\n",
              "      <th>...</th>\n",
              "      <td>...</td>\n",
              "      <td>...</td>\n",
              "    </tr>\n",
              "    <tr>\n",
              "      <th>5918</th>\n",
              "      <td>-2.820093</td>\n",
              "      <td>-3.890340</td>\n",
              "    </tr>\n",
              "    <tr>\n",
              "      <th>5919</th>\n",
              "      <td>-1.926216</td>\n",
              "      <td>0.478898</td>\n",
              "    </tr>\n",
              "    <tr>\n",
              "      <th>5920</th>\n",
              "      <td>-2.748334</td>\n",
              "      <td>0.013013</td>\n",
              "    </tr>\n",
              "    <tr>\n",
              "      <th>5921</th>\n",
              "      <td>0.595150</td>\n",
              "      <td>-3.034200</td>\n",
              "    </tr>\n",
              "    <tr>\n",
              "      <th>5922</th>\n",
              "      <td>-3.821100</td>\n",
              "      <td>-3.536700</td>\n",
              "    </tr>\n",
              "  </tbody>\n",
              "</table>\n",
              "<p>5923 rows × 2 columns</p>\n",
              "</div>"
            ],
            "text/plain": [
              "        y_pred    y_true\n",
              "0    -3.203669 -0.852201\n",
              "1     0.463296 -0.746622\n",
              "2     0.600278 -3.378000\n",
              "3     0.610223 -3.029740\n",
              "4    -0.283386 -2.010630\n",
              "...        ...       ...\n",
              "5918 -2.820093 -3.890340\n",
              "5919 -1.926216  0.478898\n",
              "5920 -2.748334  0.013013\n",
              "5921  0.595150 -3.034200\n",
              "5922 -3.821100 -3.536700\n",
              "\n",
              "[5923 rows x 2 columns]"
            ]
          },
          "execution_count": 21,
          "metadata": {},
          "output_type": "execute_result"
        }
      ],
      "source": [
        "\n",
        "# Predict for test variants\n",
        "y = model.predict(test_x)\n",
        "x = np.array(test_y)\n",
        "y = np.reshape(y, (1,y.shape[0]))[0]\n",
        "preds_df = pd.DataFrame(columns=['y_pred','y_true'])\n",
        "preds_df['y_pred'] = pd.DataFrame(y)\n",
        "preds_df['y_true']  = pd.DataFrame(x)\n",
        "preds_df \n"
      ]
    },
    {
      "cell_type": "code",
      "execution_count": 22,
      "metadata": {},
      "outputs": [
        {
          "name": "stderr",
          "output_type": "stream",
          "text": [
            "d:\\ProgramData\\anaconda3\\envs\\tf\\lib\\site-packages\\numpy\\lib\\histograms.py:906: RuntimeWarning: invalid value encountered in divide\n",
            "  return n/db/n.sum(), bin_edges\n",
            "meta NOT subset; don't know how to subset; dropped\n"
          ]
        },
        {
          "data": {
            "image/png": "[encoded data removed]",
            "text/plain": [
              "<Figure size 210x195 with 4 Axes>"
            ]
          },
          "metadata": {},
          "output_type": "display_data"
        }
      ],
      "source": [
        "x = preds_df['y_pred']  \n",
        "y = preds_df['y_true']   \n",
        "preds_df['y_pred'][:1000].corr(preds_df['y_true'][:1000])\n",
        "remove = np.isinf(x) & np.isinf(y)\n",
        "x = x[~remove]\n",
        "y = y[~remove]\n",
        "\n",
        "keep = (~np.isinf(x)) & (~np.isinf(y))\n",
        "x_both = x[keep]\n",
        "y_both = y[keep]\n",
        "\n",
        "y_missing = y[np.isinf(x)]\n",
        "x_missing = x[np.isinf(y)]\n",
        "\n",
        "\n",
        "kernel = gaussian_kde(np.vstack([\n",
        "    x_both.sample(n=2000, random_state=1), \n",
        "    y_both.sample(n=2000, random_state=1)\n",
        "]))\n",
        "c_both = kernel(np.vstack([x_both.values, y_both.values]))\n",
        "\n",
        "fig = plt.figure(figsize=(1.4,1.3), dpi=150)\n",
        "gs = fig.add_gridspec(2, 2, left=0.275, right=0.95, bottom=0.22, top=0.95, \n",
        "                      width_ratios=[1, 6], height_ratios=[6, 1], hspace=0., wspace=0)\n",
        "ax = fig.add_subplot(gs[0, 1])\n",
        "ax.scatter(x_both, y_both, c=c_both, cmap=mpl.cm.inferno, s=0.2, edgecolor='none', rasterized=True)\n",
        "ax.set_xticks([]); ax.set_yticks([])\n",
        "xlim = [-11, 12]\n",
        "bins = np.linspace(*xlim, 25)\n",
        "ax.set_xlim(xlim); ax.set_ylim(xlim)\n",
        "ax.text(0.03, 0.97, r'$r$ = {:.4f}'.format(np.corrcoef(x_both, y_both)[0, 1]),\n",
        "       transform=ax.transAxes, ha='left', va='top', fontsize=7)\n",
        "\n",
        "ax.text(0.97, 0.01, 'n={}'.format(si_format(len(x_both)), precision=2, format_str='{value}{prefix}',), \n",
        "        transform=ax.transAxes, ha='right', va='bottom', fontsize=7)\n",
        "\n",
        "# Left Marginal\n",
        "ax = fig.add_subplot(gs[0, 0])\n",
        "ax.hist(y_missing, bins=bins, edgecolor='none', orientation='horizontal', density=True, color='r')\n",
        "ax.set_ylim(xlim)\n",
        "ax.set_xticks([]); ax.set_yticks([-5, 0, 5, 10, 15,20])\n",
        "ax.text(0.97, 0.97, 'n={}'.format(si_format(len(y_missing)), precision=2, format_str='{value}{prefix}',), \n",
        "        transform=ax.transAxes, ha='right', va='top', fontsize=7, rotation=90, color='r')\n",
        "ax.set_ylabel('Prediction', labelpad=2,fontsize=8)\n",
        "ax.tick_params(axis='both', labelsize=7, length=2, pad=1)\n",
        "\n",
        "# Bottom Marginal\n",
        "ax = fig.add_subplot(gs[1, 1])\n",
        "ax.hist(x_missing, bins=bins, edgecolor='none', density=True, color='r')\n",
        "ax.set_xlim(xlim)\n",
        "ax.set_xticks([-5, 0, 5, 10, 15,20]); ax.set_yticks([])\n",
        "ax.text(0.97, 0.8, 'n={}'.format(si_format(len(x_missing)), precision=2, format_str='{value}{prefix}',), \n",
        "        transform=ax.transAxes, ha='right', va='top', fontsize=7, color='r')\n",
        "ax.set_xlabel('Truth', labelpad=2,fontsize=8)\n",
        "ax.tick_params(axis='both', labelsize=6, length=2, pad=1)\n",
        "\n",
        "# Missing label (not detected in either)\n",
        "ax = fig.add_subplot(gs[1, 0])\n",
        "for spine in ['bottom', 'left']:\n",
        "    ax.spines[spine].set_visible(False)\n",
        "ax.set_xticks([]); ax.set_yticks([])\n",
        "\n",
        "ax.text(0.8, 0.8, 'Missing', transform=ax.transAxes, color='r', ha='right', va='top', fontsize=7, clip_on=False)\n",
        "fig.savefig('../results/rnn/2nd_results/nor_package/2nd_seq_nor_package_prediction_correlation_test.pdf',dpi=300,bbox_inches='tight')"
      ]
    },
    {
      "cell_type": "code",
      "execution_count": 23,
      "metadata": {
        "ExecuteTime": {
          "end_time": "2021-06-15T18:04:49.108828Z",
          "start_time": "2021-06-15T18:04:38.468240Z"
        }
      },
      "outputs": [
        {
          "name": "stderr",
          "output_type": "stream",
          "text": [
            "meta NOT subset; don't know how to subset; dropped\n"
          ]
        },
        {
          "data": {
            "image/png": "[encoded data removed]",
            "text/plain": [
              "<Figure size 180x150 with 1 Axes>"
            ]
          },
          "metadata": {},
          "output_type": "display_data"
        }
      ],
      "source": [
        "data = np.array(preds_df['y_pred']) \n",
        "data = data.reshape(-1, 1)  # 将数据转换成列向量的形式\n",
        "\n",
        "# 使用GaussianMixture拟合数据\n",
        "n_components = 2 # 设置混合模型的分量个数\n",
        "gmm = GaussianMixture(n_components=n_components)\n",
        "gmm.fit(data)\n",
        "\n",
        "# 获取每个分量的均值和协方差矩阵\n",
        "means = gmm.means_\n",
        "covariances = gmm.covariances_\n",
        "\n",
        "# 生成拟合后的分布\n",
        "x = np.linspace(-7, 8, 100000)\n",
        "x = x.reshape(-1, 1)\n",
        "y = np.exp(gmm.score_samples(x))\n",
        "\n",
        "fig,ax = plt.subplots(figsize=(1.8,1.5),dpi=100)\n",
        "# 绘制原始数据和拟合后的分布\n",
        "plt.hist(data, bins=100, density=True, alpha=0.6, color = '#BAB3A3',label='Prediction')\n",
        "#plt.plot(x, y, '-r', label='GMM fit')\n",
        "\n",
        "\n",
        "# 绘制每个分量的正态分布\n",
        "for i in range(n_components):\n",
        "    component = np.exp(-(x - means[i]) ** 2 / (2 * covariances[i]))\n",
        "    component /= np.sqrt(2 * np.pi * covariances[i])\n",
        "    component *= gmm.weights_[i]\n",
        "    if i == 0:\n",
        "        ax.plot(x, component, '-', label=f'Distribution {i + 1}', color='#F66E68', alpha=1)\n",
        "        ax.fill_between(x.flatten(), 0, component.flatten(), color='#F66E68', alpha=0.4)\n",
        "    else:\n",
        "        ax.plot(x, component, '-', label=f'Distribution {i + 1}', color='#457B9D', alpha=1)\n",
        "        ax.fill_between(x.flatten(), 0, component.flatten(), color='#457B9D', alpha=0.4)\n",
        "\n",
        "\n",
        "plt.title('Prediction',fontsize=10)\n",
        "ax.tick_params(axis='both', which='both', length=2,labelsize=10)\n",
        "ax.set_xticks([-5, 0, 5, ]); \n",
        "# ax.set_yticks([])\n",
        "plt.ylabel('Density',labelpad=1,fontsize=10)\n",
        "plt.xlabel('Nor_package',labelpad=1,fontsize=10)\n",
        "plt.legend(fontsize=7,frameon=False)\n",
        "fig.savefig('../results/rnn/2nd_results/nor_package/2nd_seq_nor_package_prediction_distribution_test.pdf',dpi=300,bbox_inches='tight')"
      ]
    },
    {
      "cell_type": "code",
      "execution_count": null,
      "metadata": {},
      "outputs": [],
      "source": []
    }
  ],
  "metadata": {
    "kernelspec": {
      "display_name": "Python 3 (ipykernel)",
      "language": "python",
      "name": "python3"
    },
    "language_info": {
      "codemirror_mode": {
        "name": "ipython",
        "version": 3
      },
      "file_extension": ".py",
      "mimetype": "text/x-python",
      "name": "python",
      "nbconvert_exporter": "python",
      "pygments_lexer": "ipython3",
      "version": "3.8.16"
    },
    "toc": {
      "base_numbering": 1,
      "nav_menu": {},
      "number_sections": true,
      "sideBar": true,
      "skip_h1_title": false,
      "title_cell": "Table of Contents",
      "title_sidebar": "Contents",
      "toc_cell": true,
      "toc_position": {
        "height": "calc(100% - 180px)",
        "left": "10px",
        "top": "150px",
        "width": "320px"
      },
      "toc_section_display": true,
      "toc_window_display": true
    }
  },
  "nbformat": 4,
  "nbformat_minor": 4
}
