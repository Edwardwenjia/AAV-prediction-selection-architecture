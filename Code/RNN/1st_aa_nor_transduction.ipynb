{
  "cells": [
    {
      "cell_type": "code",
      "execution_count": 1,
      "metadata": {
        "ExecuteTime": {
          "end_time": "2021-06-15T17:13:58.134959Z",
          "start_time": "2021-06-15T17:13:57.550003Z"
        }
      },
      "outputs": [],
      "source": [
        "import pandas as pd\n",
        "import numpy as np\n",
        "import matplotlib as mpl\n",
        "import matplotlib.pyplot as plt\n",
        "import seaborn as sns\n",
        "from IPython.display import Image\n",
        "from scipy.stats import gaussian_kde, norm\n",
        "from sklearn.mixture import GaussianMixture\n",
        "\n",
        "from utils_f4f import CustomEarlyStopping, rnn_aa_model,AA_hotencoding ,heatmap, si_format\n"
      ]
    },
    {
      "cell_type": "code",
      "execution_count": 2,
      "metadata": {},
      "outputs": [],
      "source": [
        "mpl.rcParams['svg.fonttype'] = 'none'\n",
        "mpl.rcParams['font.family'] = ['sans-serif']\n",
        "mpl.rcParams['font.sans-serif'] = ['Arial']\n",
        "mpl.rcParams['text.usetex'] = False\n",
        "mpl.rcParams['pdf.fonttype'] = 42\n",
        "mpl.rcParams['ps.fonttype'] = 42"
      ]
    },
    {
      "cell_type": "markdown",
      "metadata": {},
      "source": [
        "#### Data_preparetion\n",
        "\n"
      ]
    },
    {
      "cell_type": "code",
      "execution_count": 2,
      "metadata": {},
      "outputs": [],
      "source": [
        "\n",
        "df_all = pd.read_csv('../data/1stseq_aa_transduction.tsv',delimiter='\\t')\n",
        "# df_all = df_all.iloc[::50]\n",
        "df_modeling = df_all.rename(columns={'aa':'AA_seqenece'})\n",
        "df_modeling['label']=0\n",
        "df_modeling = df_modeling[['AA_seqenece', 'transduction', 'label']]\n",
        "df_missing = df_modeling[np.isinf(df_modeling['transduction']) ]#\n",
        "df_modeling = df_modeling[~np.isnan(df_modeling['transduction']) & ~np.isinf(df_modeling['transduction'])]\n",
        "df_modeling.reset_index(drop = True, inplace=True)\n",
        "AA_col = 'AA_seqenece'\n",
        "array = 'transduction'\n"
      ]
    },
    {
      "cell_type": "code",
      "execution_count": 3,
      "metadata": {},
      "outputs": [
        {
          "data": {
            "image/png": "[encoded data removed]",
            "text/plain": [
              "<Figure size 200x170 with 1 Axes>"
            ]
          },
          "metadata": {},
          "output_type": "display_data"
        }
      ],
      "source": [
        "nor_package = df_all[np.isfinite(df_all[array])][array]\n",
        "data = np.array(nor_package) \n",
        "data = data.reshape(-1, 1)  # Convert the data into a column vector\n",
        "\n",
        "# Fit the data using GaussianMixture\n",
        "n_components = 1 # Set the number of components for the hybrid model\n",
        "gmm = GaussianMixture(n_components=n_components)\n",
        "gmm.fit(data)\n",
        "\n",
        "# Get the mean and covariance matrix for each component\n",
        "means = gmm.means_\n",
        "covariances = gmm.covariances_\n",
        "\n",
        "# Generate the fitted distribution\n",
        "x = np.linspace(-10, 10, 10000)\n",
        "x = x.reshape(-1, 1)\n",
        "y = np.exp(gmm.score_samples(x))\n",
        "\n",
        "fig,ax = plt.subplots(figsize=(2,1.7),dpi=100)\n",
        "# Plot the raw data and the distribution after fitting\n",
        "plt.hist(data, bins=100, density=True, alpha=0.6, color = '#BAB3A3',label='Prediction')\n",
        "\n",
        "# 绘制每个分量的正态分布\n",
        "for i in range(n_components):\n",
        "    component = np.exp(-(x - means[i]) ** 2 / (2 * covariances[i]))\n",
        "    component /= np.sqrt(2 * np.pi * covariances[i])\n",
        "    component *= gmm.weights_[i]\n",
        "    if i == 0:\n",
        "        ax.plot(x, component, '-', label=f'Distribution {i + 1}', color='#F66E68', alpha=1)\n",
        "        ax.fill_between(x.flatten(), 0, component.flatten(), color='#F66E68', alpha=0.4)\n",
        "    else:\n",
        "        ax.plot(x, component, '-', label=f'Distribution {i + 1}', color='#457B9D', alpha=1)\n",
        "        ax.fill_between(x.flatten(), 0, component.flatten(), color='#457B9D', alpha=0.4)\n",
        "\n",
        "\n",
        "plt.title('Truth_distribution',fontsize=10)\n",
        "ax.tick_params(axis='both', which='both', length=2,labelsize=8)\n",
        "ax.set_xticks([-10,-5, 0, 5,10]); \n",
        "ax.set_xlim([-10,10])\n",
        "plt.ylabel('Density',labelpad=2,fontsize=10)\n",
        "plt.xlabel('Nor_package',labelpad=2,fontsize=10)\n",
        "plt.legend(fontsize=7,frameon=False,loc='best')\n",
        "plt.show()"
      ]
    },
    {
      "cell_type": "markdown",
      "metadata": {},
      "source": [
        "### Prep data\n",
        " one-hot encode the `AA_sequence` column and split the data into\n",
        "training and test sets. The training split will be split\n",
        "\n"
      ]
    },
    {
      "cell_type": "code",
      "execution_count": 4,
      "metadata": {},
      "outputs": [],
      "source": [
        "# Train-Test split\n",
        "train_size = 9200\n",
        "validation_size = 500\n",
        "train, validate, test = np.split(df_modeling.sample(frac=1),  [train_size, train_size+validation_size])\n",
        "\n",
        "# Hot Encoding\n",
        "train_x =  np.asarray([AA_hotencoding(variant) for variant in train[AA_col]])\n",
        "train_y = train[array]\n",
        "validate_x = np.asarray([AA_hotencoding(variant) for variant in validate[AA_col]])\n",
        "validate_y = validate[array]\n",
        "test_x = np.asarray([AA_hotencoding(variant) for variant in test[AA_col]])\n",
        "test_y = test[array]\n",
        "missing_x = np.asarray([AA_hotencoding(variant) for variant in df_missing[AA_col]])\n"
      ]
    },
    {
      "cell_type": "code",
      "execution_count": 5,
      "metadata": {},
      "outputs": [
        {
          "data": {
            "text/plain": [
              "(9200, 7, 20)"
            ]
          },
          "execution_count": 5,
          "metadata": {},
          "output_type": "execute_result"
        }
      ],
      "source": [
        "train_x.shape"
      ]
    },
    {
      "cell_type": "markdown",
      "metadata": {},
      "source": [
        "#### RNN  model training\n",
        "Default parameterization:Here the model is applied to aa-nor_package learning process, as details"
      ]
    },
    {
      "cell_type": "code",
      "execution_count": 9,
      "metadata": {},
      "outputs": [
        {
          "name": "stdout",
          "output_type": "stream",
          "text": [
            "Epoch 1/300\n",
            "575/575 - 11s - loss: 8.1355 - mae: 1.9342 - val_loss: 8.2818 - val_mae: 1.9753 - 11s/epoch - 19ms/step\n",
            "Epoch 2/300\n",
            "575/575 - 2s - loss: 8.0867 - mae: 1.9282 - val_loss: 8.3846 - val_mae: 2.0070 - 2s/epoch - 4ms/step\n",
            "Epoch 3/300\n",
            "575/575 - 2s - loss: 8.0726 - mae: 1.9250 - val_loss: 8.2821 - val_mae: 1.9731 - 2s/epoch - 4ms/step\n",
            "Epoch 4/300\n",
            "575/575 - 2s - loss: 8.0595 - mae: 1.9226 - val_loss: 8.3662 - val_mae: 1.9747 - 2s/epoch - 4ms/step\n",
            "Epoch 5/300\n",
            "575/575 - 2s - loss: 8.0472 - mae: 1.9210 - val_loss: 8.2566 - val_mae: 1.9740 - 2s/epoch - 4ms/step\n",
            "Epoch 6/300\n",
            "575/575 - 2s - loss: 8.0446 - mae: 1.9208 - val_loss: 8.2661 - val_mae: 1.9744 - 2s/epoch - 4ms/step\n",
            "Epoch 7/300\n",
            "575/575 - 5s - loss: 8.0375 - mae: 1.9214 - val_loss: 8.2783 - val_mae: 1.9716 - 5s/epoch - 8ms/step\n",
            "Epoch 8/300\n",
            "575/575 - 5s - loss: 8.0171 - mae: 1.9189 - val_loss: 8.3205 - val_mae: 1.9709 - 5s/epoch - 8ms/step\n",
            "Epoch 9/300\n",
            "575/575 - 5s - loss: 8.0164 - mae: 1.9183 - val_loss: 8.3036 - val_mae: 1.9831 - 5s/epoch - 9ms/step\n",
            "Epoch 10/300\n",
            "575/575 - 4s - loss: 8.0061 - mae: 1.9173 - val_loss: 8.3034 - val_mae: 1.9738 - 4s/epoch - 7ms/step\n",
            "Epoch 11/300\n",
            "575/575 - 5s - loss: 7.9838 - mae: 1.9132 - val_loss: 8.3184 - val_mae: 1.9720 - 5s/epoch - 8ms/step\n",
            "Epoch 12/300\n",
            "575/575 - 5s - loss: 7.9787 - mae: 1.9136 - val_loss: 8.3154 - val_mae: 1.9786 - 5s/epoch - 8ms/step\n",
            "Epoch 13/300\n",
            "575/575 - 4s - loss: 7.9667 - mae: 1.9120 - val_loss: 8.3461 - val_mae: 1.9818 - 4s/epoch - 8ms/step\n",
            "Epoch 14/300\n",
            "575/575 - 4s - loss: 7.9445 - mae: 1.9099 - val_loss: 8.2758 - val_mae: 1.9737 - 4s/epoch - 8ms/step\n",
            "Epoch 15/300\n",
            "575/575 - 4s - loss: 7.9211 - mae: 1.9081 - val_loss: 8.2983 - val_mae: 1.9701 - 4s/epoch - 8ms/step\n",
            "Epoch 16/300\n",
            "575/575 - 5s - loss: 7.9014 - mae: 1.9032 - val_loss: 8.2791 - val_mae: 1.9608 - 5s/epoch - 8ms/step\n",
            "Epoch 17/300\n",
            "575/575 - 5s - loss: 7.8780 - mae: 1.9013 - val_loss: 8.3452 - val_mae: 1.9781 - 5s/epoch - 8ms/step\n",
            "Epoch 18/300\n",
            "575/575 - 5s - loss: 7.8372 - mae: 1.8999 - val_loss: 8.3282 - val_mae: 1.9755 - 5s/epoch - 8ms/step\n",
            "Epoch 19/300\n",
            "575/575 - 5s - loss: 7.8220 - mae: 1.9013 - val_loss: 8.3422 - val_mae: 1.9722 - 5s/epoch - 8ms/step\n",
            "Epoch 20/300\n",
            "575/575 - 4s - loss: 7.7830 - mae: 1.8988 - val_loss: 8.3208 - val_mae: 1.9785 - 4s/epoch - 8ms/step\n",
            "Epoch 21/300\n",
            "575/575 - 5s - loss: 7.7440 - mae: 1.8952 - val_loss: 8.3938 - val_mae: 1.9809 - 5s/epoch - 8ms/step\n",
            "Epoch 22/300\n",
            "575/575 - 5s - loss: 7.6832 - mae: 1.8921 - val_loss: 8.2747 - val_mae: 1.9840 - 5s/epoch - 8ms/step\n",
            "Epoch 23/300\n",
            "575/575 - 5s - loss: 7.6783 - mae: 1.8894 - val_loss: 8.4328 - val_mae: 1.9918 - 5s/epoch - 9ms/step\n",
            "Epoch 24/300\n",
            "575/575 - 5s - loss: 7.6298 - mae: 1.8907 - val_loss: 8.5801 - val_mae: 2.0076 - 5s/epoch - 8ms/step\n",
            "Epoch 25/300\n",
            "575/575 - 6s - loss: 7.5691 - mae: 1.8879 - val_loss: 8.5379 - val_mae: 2.0238 - 6s/epoch - 10ms/step\n",
            "Epoch 26/300\n",
            "575/575 - 5s - loss: 7.5300 - mae: 1.8828 - val_loss: 8.5685 - val_mae: 2.0058 - 5s/epoch - 9ms/step\n",
            "Epoch 27/300\n",
            "575/575 - 5s - loss: 7.4498 - mae: 1.8814 - val_loss: 8.6118 - val_mae: 2.0114 - 5s/epoch - 9ms/step\n",
            "Epoch 28/300\n",
            "575/575 - 5s - loss: 7.3975 - mae: 1.8766 - val_loss: 8.6680 - val_mae: 2.0257 - 5s/epoch - 8ms/step\n",
            "Epoch 29/300\n",
            "575/575 - 5s - loss: 7.3415 - mae: 1.8753 - val_loss: 8.6330 - val_mae: 2.0292 - 5s/epoch - 8ms/step\n",
            "Epoch 30/300\n",
            "575/575 - 4s - loss: 7.2639 - mae: 1.8622 - val_loss: 8.8490 - val_mae: 2.0392 - 4s/epoch - 8ms/step\n",
            "Epoch 31/300\n",
            "575/575 - 4s - loss: 7.1947 - mae: 1.8658 - val_loss: 8.7201 - val_mae: 2.0384 - 4s/epoch - 8ms/step\n",
            "Epoch 32/300\n",
            "575/575 - 5s - loss: 7.1159 - mae: 1.8528 - val_loss: 8.7539 - val_mae: 2.0580 - 5s/epoch - 8ms/step\n",
            "Epoch 33/300\n",
            "575/575 - 5s - loss: 7.0051 - mae: 1.8427 - val_loss: 8.7415 - val_mae: 2.0606 - 5s/epoch - 8ms/step\n",
            "Epoch 34/300\n",
            "575/575 - 5s - loss: 6.8788 - mae: 1.8376 - val_loss: 8.8687 - val_mae: 2.0520 - 5s/epoch - 8ms/step\n",
            "Epoch 35/300\n",
            "575/575 - 5s - loss: 6.7616 - mae: 1.8249 - val_loss: 9.0558 - val_mae: 2.0940 - 5s/epoch - 8ms/step\n",
            "Epoch 36/300\n",
            "575/575 - 4s - loss: 6.6355 - mae: 1.8174 - val_loss: 9.0773 - val_mae: 2.0955 - 4s/epoch - 8ms/step\n",
            "Epoch 37/300\n",
            "575/575 - 5s - loss: 6.5028 - mae: 1.8050 - val_loss: 9.2172 - val_mae: 2.1067 - 5s/epoch - 8ms/step\n",
            "Epoch 38/300\n",
            "575/575 - 5s - loss: 6.3407 - mae: 1.7926 - val_loss: 9.2385 - val_mae: 2.1159 - 5s/epoch - 9ms/step\n",
            "Epoch 39/300\n",
            "575/575 - 5s - loss: 6.2064 - mae: 1.7746 - val_loss: 9.2022 - val_mae: 2.1311 - 5s/epoch - 8ms/step\n",
            "Epoch 40/300\n",
            "575/575 - 5s - loss: 6.0234 - mae: 1.7546 - val_loss: 9.6642 - val_mae: 2.2022 - 5s/epoch - 8ms/step\n",
            "Epoch 41/300\n",
            "575/575 - 4s - loss: 5.8526 - mae: 1.7378 - val_loss: 9.4696 - val_mae: 2.1633 - 4s/epoch - 8ms/step\n",
            "Epoch 42/300\n",
            "575/575 - 4s - loss: 5.6837 - mae: 1.7168 - val_loss: 9.9389 - val_mae: 2.2307 - 4s/epoch - 8ms/step\n",
            "Epoch 43/300\n",
            "575/575 - 5s - loss: 5.4850 - mae: 1.6919 - val_loss: 9.9338 - val_mae: 2.2128 - 5s/epoch - 8ms/step\n",
            "Epoch 44/300\n",
            "575/575 - 4s - loss: 5.2904 - mae: 1.6701 - val_loss: 9.7971 - val_mae: 2.2280 - 4s/epoch - 8ms/step\n",
            "Epoch 45/300\n",
            "575/575 - 5s - loss: 5.0875 - mae: 1.6392 - val_loss: 10.0331 - val_mae: 2.2644 - 5s/epoch - 8ms/step\n",
            "Epoch 46/300\n",
            "575/575 - 4s - loss: 4.8645 - mae: 1.6110 - val_loss: 10.6578 - val_mae: 2.3533 - 4s/epoch - 8ms/step\n",
            "Epoch 47/300\n",
            "575/575 - 5s - loss: 4.6303 - mae: 1.5789 - val_loss: 10.5580 - val_mae: 2.3251 - 5s/epoch - 8ms/step\n",
            "Epoch 48/300\n",
            "575/575 - 5s - loss: 4.3938 - mae: 1.5444 - val_loss: 10.8813 - val_mae: 2.3245 - 5s/epoch - 8ms/step\n",
            "Epoch 49/300\n",
            "575/575 - 4s - loss: 4.2068 - mae: 1.5102 - val_loss: 10.8440 - val_mae: 2.3710 - 4s/epoch - 8ms/step\n",
            "Epoch 50/300\n",
            "575/575 - 5s - loss: 3.9587 - mae: 1.4656 - val_loss: 11.3626 - val_mae: 2.4037 - 5s/epoch - 8ms/step\n",
            "Epoch 51/300\n",
            "575/575 - 5s - loss: 3.7520 - mae: 1.4463 - val_loss: 11.4538 - val_mae: 2.4145 - 5s/epoch - 8ms/step\n",
            "Epoch 52/300\n",
            "575/575 - 5s - loss: 3.5076 - mae: 1.3931 - val_loss: 11.9849 - val_mae: 2.5030 - 5s/epoch - 8ms/step\n",
            "Epoch 53/300\n",
            "575/575 - 5s - loss: 3.3399 - mae: 1.3656 - val_loss: 11.7727 - val_mae: 2.4668 - 5s/epoch - 8ms/step\n",
            "Epoch 54/300\n",
            "575/575 - 5s - loss: 3.1077 - mae: 1.3262 - val_loss: 11.9958 - val_mae: 2.4811 - 5s/epoch - 8ms/step\n",
            "Epoch 55/300\n",
            "575/575 - 6s - loss: 2.9316 - mae: 1.2867 - val_loss: 11.4038 - val_mae: 2.4195 - 6s/epoch - 10ms/step\n",
            "Epoch 56/300\n",
            "575/575 - 6s - loss: 2.7238 - mae: 1.2315 - val_loss: 11.8963 - val_mae: 2.4831 - 6s/epoch - 10ms/step\n",
            "Epoch 57/300\n",
            "575/575 - 6s - loss: 2.5222 - mae: 1.1942 - val_loss: 12.3968 - val_mae: 2.5181 - 6s/epoch - 11ms/step\n",
            "Epoch 58/300\n",
            "575/575 - 6s - loss: 2.3685 - mae: 1.1583 - val_loss: 11.9653 - val_mae: 2.5047 - 6s/epoch - 11ms/step\n",
            "Epoch 59/300\n",
            "575/575 - 6s - loss: 2.2335 - mae: 1.1242 - val_loss: 12.8157 - val_mae: 2.5721 - 6s/epoch - 11ms/step\n",
            "Epoch 60/300\n",
            "575/575 - 6s - loss: 2.0439 - mae: 1.0718 - val_loss: 12.5177 - val_mae: 2.5512 - 6s/epoch - 11ms/step\n",
            "Epoch 61/300\n",
            "575/575 - 6s - loss: 1.9495 - mae: 1.0524 - val_loss: 12.4829 - val_mae: 2.5609 - 6s/epoch - 11ms/step\n",
            "Epoch 62/300\n",
            "575/575 - 6s - loss: 1.7718 - mae: 0.9939 - val_loss: 12.7748 - val_mae: 2.5861 - 6s/epoch - 11ms/step\n",
            "Epoch 63/300\n",
            "575/575 - 6s - loss: 1.6541 - mae: 0.9665 - val_loss: 12.8135 - val_mae: 2.5812 - 6s/epoch - 11ms/step\n",
            "Epoch 64/300\n",
            "575/575 - 6s - loss: 1.5531 - mae: 0.9349 - val_loss: 12.7583 - val_mae: 2.5899 - 6s/epoch - 11ms/step\n",
            "Epoch 65/300\n",
            "575/575 - 6s - loss: 1.4351 - mae: 0.8962 - val_loss: 12.7559 - val_mae: 2.5849 - 6s/epoch - 11ms/step\n",
            "Epoch 66/300\n",
            "575/575 - 6s - loss: 1.3187 - mae: 0.8612 - val_loss: 13.3279 - val_mae: 2.6436 - 6s/epoch - 11ms/step\n",
            "Epoch 67/300\n",
            "575/575 - 6s - loss: 1.2738 - mae: 0.8509 - val_loss: 12.8782 - val_mae: 2.5924 - 6s/epoch - 11ms/step\n",
            "Epoch 68/300\n",
            "575/575 - 6s - loss: 1.1818 - mae: 0.8160 - val_loss: 13.5033 - val_mae: 2.6700 - 6s/epoch - 11ms/step\n",
            "Epoch 69/300\n",
            "575/575 - 6s - loss: 1.0862 - mae: 0.7809 - val_loss: 13.4574 - val_mae: 2.6779 - 6s/epoch - 11ms/step\n",
            "Epoch 70/300\n",
            "575/575 - 6s - loss: 0.9972 - mae: 0.7484 - val_loss: 13.7693 - val_mae: 2.7229 - 6s/epoch - 11ms/step\n",
            "Epoch 71/300\n",
            "575/575 - 6s - loss: 0.9784 - mae: 0.7400 - val_loss: 13.4046 - val_mae: 2.6683 - 6s/epoch - 11ms/step\n",
            "Epoch 72/300\n",
            "575/575 - 6s - loss: 0.9128 - mae: 0.7142 - val_loss: 13.4859 - val_mae: 2.6797 - 6s/epoch - 11ms/step\n",
            "Epoch 73/300\n",
            "575/575 - 7s - loss: 0.8285 - mae: 0.6816 - val_loss: 13.6937 - val_mae: 2.6990 - 7s/epoch - 11ms/step\n",
            "Epoch 74/300\n",
            "575/575 - 6s - loss: 0.7830 - mae: 0.6619 - val_loss: 13.5450 - val_mae: 2.6840 - 6s/epoch - 11ms/step\n"
          ]
        },
        {
          "name": "stderr",
          "output_type": "stream",
          "text": [
            "d:\\ProgramData\\anaconda3\\envs\\tf\\lib\\site-packages\\keras\\src\\engine\\training.py:3000: UserWarning: You are saving your model as an HDF5 file via `model.save()`. This file format is considered legacy. We recommend using instead the native Keras format, e.g. `model.save('my_model.keras')`.\n",
            "  saving_api.save_model(\n"
          ]
        }
      ],
      "source": [
        "# Training\n",
        "\n",
        "# Define model \n",
        "model = rnn_aa_model(L1=140, L2=20)\n",
        "\n",
        "# Training parameters \n",
        "batch_size = 16\n",
        "EpochCount = 300\n",
        "#EpochCount = 5 #Used for quick excusion of the Notebook; please use a higher number instead to allow proper convergence\n",
        "\n",
        "# train model \n",
        "model.fit(train_x, train_y, batch_size=batch_size, epochs=EpochCount, \n",
        "          validation_data=(validate_x, validate_y),verbose=2,\n",
        "              callbacks=[CustomEarlyStopping(ratio=0.90, patience=50, restore_best_weights = True)])\n",
        "\n",
        "# Save model\n",
        "ModelFileName = 'pretrain/model_1st_rnn_aa_nor_transduction'\n",
        "model.save(ModelFileName+'.h5')"
      ]
    },
    {
      "cell_type": "markdown",
      "metadata": {},
      "source": [
        "#### Model validation\n",
        "· `Train-data validation` \n",
        "\n"
      ]
    },
    {
      "cell_type": "code",
      "execution_count": 10,
      "metadata": {
        "ExecuteTime": {
          "end_time": "2021-06-15T18:02:53.571538Z",
          "start_time": "2021-06-15T18:02:46.205042Z"
        }
      },
      "outputs": [
        {
          "name": "stdout",
          "output_type": "stream",
          "text": [
            "288/288 [==============================] - 6s 8ms/step\n"
          ]
        },
        {
          "data": {
            "text/plain": [
              "0.9573682708548371"
            ]
          },
          "execution_count": 10,
          "metadata": {},
          "output_type": "execute_result"
        }
      ],
      "source": [
        "\n",
        "# Predict for train variants\n",
        "y = model.predict(train_x)\n",
        "x = np.array(train_y)\n",
        "y = np.reshape(y, (1,y.shape[0]))[0]\n",
        "preds_df = pd.DataFrame(columns=['y_pred','y_true'])\n",
        "preds_df['y_pred'] = pd.DataFrame(y)\n",
        "preds_df['y_true']  = pd.DataFrame(x)\n",
        "preds_df['y_pred'].corr(preds_df['y_true'])\n"
      ]
    },
    {
      "cell_type": "code",
      "execution_count": 11,
      "metadata": {},
      "outputs": [],
      "source": [
        "x = preds_df['y_pred']  \n",
        "y = preds_df['y_true']   \n",
        "\n",
        "remove = np.isinf(x) & np.isinf(y)\n",
        "x = x[~remove]\n",
        "y = y[~remove]\n",
        "\n",
        "keep = (~np.isinf(x)) & (~np.isinf(y))\n",
        "x_both = x[keep]\n",
        "y_both = y[keep]\n",
        "\n",
        "y_missing = y[np.isinf(x)]\n",
        "x_missing = x[np.isinf(y)]\n",
        "\n",
        "\n",
        "kernel = gaussian_kde(np.vstack([\n",
        "    x_both.sample(n=2000, random_state=1), \n",
        "    y_both.sample(n=2000, random_state=1)\n",
        "]))\n",
        "c_both = kernel(np.vstack([x_both.values, y_both.values]))\n"
      ]
    },
    {
      "cell_type": "code",
      "execution_count": 12,
      "metadata": {},
      "outputs": [
        {
          "name": "stderr",
          "output_type": "stream",
          "text": [
            "d:\\ProgramData\\anaconda3\\envs\\tf\\lib\\site-packages\\numpy\\lib\\histograms.py:906: RuntimeWarning: invalid value encountered in divide\n",
            "  return n/db/n.sum(), bin_edges\n"
          ]
        },
        {
          "data": {
            "image/png": "[encoded data removed]",
            "text/plain": [
              "<Figure size 210x195 with 4 Axes>"
            ]
          },
          "metadata": {},
          "output_type": "display_data"
        }
      ],
      "source": [
        "fig = plt.figure(figsize=(1.4,1.3), dpi=150)\n",
        "gs = fig.add_gridspec(2, 2, left=0.275, right=0.95, bottom=0.22, top=0.95, \n",
        "                      width_ratios=[1, 6], height_ratios=[6, 1], hspace=0., wspace=0)\n",
        "ax = fig.add_subplot(gs[0, 1])\n",
        "ax.scatter(x_both, y_both, c=c_both, cmap=mpl.cm.inferno, s=0.2, edgecolor='none', rasterized=True)\n",
        "ax.set_xticks([]); ax.set_yticks([])\n",
        "xlim = [-11, 12]\n",
        "bins = np.linspace(*xlim, 25)\n",
        "ax.set_xlim(xlim); ax.set_ylim(xlim)\n",
        "ax.text(0.03, 0.97, r'$r$ = {:.4f}'.format(np.corrcoef(x_both, y_both)[0, 1]),\n",
        "       transform=ax.transAxes, ha='left', va='top', fontsize=7)\n",
        "\n",
        "ax.text(0.97, 0.01, 'n={}'.format(si_format(len(x_both)), precision=2, format_str='{value}{prefix}',), \n",
        "        transform=ax.transAxes, ha='right', va='bottom', fontsize=7)\n",
        "\n",
        "# Left Marginal\n",
        "ax = fig.add_subplot(gs[0, 0])\n",
        "ax.hist(y_missing, bins=bins, edgecolor='none', orientation='horizontal', density=True, color='r')\n",
        "ax.set_ylim(xlim)\n",
        "ax.set_xticks([]); ax.set_yticks([-5, 0, 5, 10, 15,20])\n",
        "ax.text(0.97, 0.97, 'n={}'.format(si_format(len(y_missing)), precision=2, format_str='{value}{prefix}',), \n",
        "        transform=ax.transAxes, ha='right', va='top', fontsize=7, rotation=90, color='r')\n",
        "ax.set_ylabel('Prediction', labelpad=2,fontsize=8)\n",
        "ax.tick_params(axis='both', labelsize=7, length=2, pad=1)\n",
        "\n",
        "# Bottom Marginal\n",
        "ax = fig.add_subplot(gs[1, 1])\n",
        "ax.hist(x_missing, bins=bins, edgecolor='none', density=True, color='r')\n",
        "ax.set_xlim(xlim)\n",
        "ax.set_xticks([-5, 0, 5, 10, 15,20]); ax.set_yticks([])\n",
        "ax.text(0.97, 0.8, 'n={}'.format(si_format(len(x_missing)), precision=2, format_str='{value}{prefix}',), \n",
        "        transform=ax.transAxes, ha='right', va='top', fontsize=7, color='r')\n",
        "ax.set_xlabel('Truth', labelpad=2,fontsize=8)\n",
        "ax.tick_params(axis='both', labelsize=7, length=2, pad=1)\n",
        "\n",
        "# Missing label (not detected in either)\n",
        "ax = fig.add_subplot(gs[1, 0])\n",
        "for spine in ['bottom', 'left']:\n",
        "    ax.spines[spine].set_visible(False)\n",
        "ax.set_xticks([]); ax.set_yticks([])\n",
        "\n",
        "ax.text(0.8, 0.8, 'Missing', transform=ax.transAxes, color='r', ha='right', va='top', fontsize=7, clip_on=False)\n",
        "fig.savefig('../results/rnn/1st_results/nor_transduction/1st_aa_nor_transduction_prediction_correlation_train.pdf',dpi=300,bbox_inches='tight')"
      ]
    },
    {
      "cell_type": "code",
      "execution_count": 14,
      "metadata": {},
      "outputs": [
        {
          "data": {
            "image/png": "[encoded data removed]",
            "text/plain": [
              "<Figure size 180x150 with 1 Axes>"
            ]
          },
          "metadata": {},
          "output_type": "display_data"
        }
      ],
      "source": [
        "data = np.array(preds_df['y_pred']) \n",
        "data = data.reshape(-1, 1)  # 将数据转换成列向量的形式\n",
        "\n",
        "# 使用GaussianMixture拟合数据\n",
        "n_components = 1 # 设置混合模型的分量个数\n",
        "gmm = GaussianMixture(n_components=n_components)\n",
        "gmm.fit(data)\n",
        "\n",
        "# 获取每个分量的均值和协方差矩阵\n",
        "means = gmm.means_\n",
        "covariances = gmm.covariances_\n",
        "\n",
        "# 生成拟合后的分布\n",
        "x = np.linspace(-7, 8, 100000)\n",
        "x = x.reshape(-1, 1)\n",
        "y = np.exp(gmm.score_samples(x))\n",
        "\n",
        "fig,ax = plt.subplots(figsize=(1.8,1.5),dpi=100)\n",
        "# 绘制原始数据和拟合后的分布\n",
        "plt.hist(data, bins=100, density=True, alpha=0.6, color = '#BAB3A3',label='Prediction')\n",
        "#plt.plot(x, y, '-r', label='GMM fit')\n",
        "\n",
        "\n",
        "# 绘制每个分量的正态分布\n",
        "for i in range(n_components):\n",
        "    component = np.exp(-(x - means[i]) ** 2 / (2 * covariances[i]))\n",
        "    component /= np.sqrt(2 * np.pi * covariances[i])\n",
        "    component *= gmm.weights_[i]\n",
        "    if i == 0:\n",
        "        ax.plot(x, component, '-', label=f'Distribution {i + 1}', color='#F66E68', alpha=1)\n",
        "        ax.fill_between(x.flatten(), 0, component.flatten(), color='#F66E68', alpha=0.4)\n",
        "    else:\n",
        "        ax.plot(x, component, '-', label=f'Distribution {i + 1}', color='#457B9D', alpha=1)\n",
        "        ax.fill_between(x.flatten(), 0, component.flatten(), color='#457B9D', alpha=0.4)\n",
        "\n",
        "\n",
        "plt.title('Prediction',fontsize=10)\n",
        "ax.tick_params(axis='both', which='both', length=2,labelsize=10)\n",
        "ax.set_xticks([-5, 0, 5, ]); \n",
        "# ax.set_yticks([])\n",
        "plt.ylabel('Density',labelpad=1,fontsize=10)\n",
        "plt.xlabel('Nor_package',labelpad=1,fontsize=10)\n",
        "plt.legend(fontsize=7,frameon=False)\n",
        "fig.savefig('../results/rnn/1st_results/nor_transduction/1st_aa_nor_transduction_prediction_distribution_train.pdf',dpi=300,bbox_inches='tight')"
      ]
    },
    {
      "cell_type": "markdown",
      "metadata": {},
      "source": [
        "· `Test-data validation` "
      ]
    },
    {
      "cell_type": "code",
      "execution_count": 18,
      "metadata": {},
      "outputs": [
        {
          "name": "stdout",
          "output_type": "stream",
          "text": [
            "16/16 [==============================] - 0s 8ms/step\n"
          ]
        },
        {
          "data": {
            "text/plain": [
              "-0.004925318830369842"
            ]
          },
          "execution_count": 18,
          "metadata": {},
          "output_type": "execute_result"
        }
      ],
      "source": [
        "\n",
        "# Predict for test variants\n",
        "y = model.predict(test_x)\n",
        "x = np.array(test_y)\n",
        "y = np.reshape(y, (1,y.shape[0]))[0]\n",
        "preds_df = pd.DataFrame(columns=['y_pred','y_true'])\n",
        "preds_df['y_pred'] = pd.DataFrame(y)\n",
        "preds_df['y_true']  = pd.DataFrame(x)\n",
        "preds_df['y_pred'].corr(preds_df['y_true'])\n"
      ]
    },
    {
      "cell_type": "code",
      "execution_count": 19,
      "metadata": {},
      "outputs": [
        {
          "name": "stderr",
          "output_type": "stream",
          "text": [
            "d:\\ProgramData\\anaconda3\\envs\\tf\\lib\\site-packages\\numpy\\lib\\histograms.py:906: RuntimeWarning: invalid value encountered in divide\n",
            "  return n/db/n.sum(), bin_edges\n"
          ]
        },
        {
          "data": {
            "image/png": "[encoded data removed]",
            "text/plain": [
              "<Figure size 210x195 with 4 Axes>"
            ]
          },
          "metadata": {},
          "output_type": "display_data"
        }
      ],
      "source": [
        "x = preds_df['y_pred']  \n",
        "y = preds_df['y_true']   \n",
        "\n",
        "remove = np.isinf(x) & np.isinf(y)\n",
        "x = x[~remove]\n",
        "y = y[~remove]\n",
        "\n",
        "keep = (~np.isinf(x)) & (~np.isinf(y))\n",
        "x_both = x[keep]\n",
        "y_both = y[keep]\n",
        "\n",
        "y_missing = y[np.isinf(x)]\n",
        "x_missing = x[np.isinf(y)]\n",
        "\n",
        "\n",
        "kernel = gaussian_kde(np.vstack([\n",
        "    x_both.sample(n=500, random_state=1), \n",
        "    y_both.sample(n=500, random_state=1)\n",
        "]))\n",
        "c_both = kernel(np.vstack([x_both.values, y_both.values]))\n",
        "\n",
        "fig = plt.figure(figsize=(1.4,1.3), dpi=150)\n",
        "gs = fig.add_gridspec(2, 2, left=0.275, right=0.95, bottom=0.22, top=0.95, \n",
        "                      width_ratios=[1, 6], height_ratios=[6, 1], hspace=0., wspace=0)\n",
        "ax = fig.add_subplot(gs[0, 1])\n",
        "ax.scatter(x_both, y_both, c=c_both, cmap=mpl.cm.inferno, s=0.2, edgecolor='none', rasterized=True)\n",
        "ax.set_xticks([]); ax.set_yticks([])\n",
        "xlim = [-11, 12]\n",
        "bins = np.linspace(*xlim, 25)\n",
        "ax.set_xlim(xlim); ax.set_ylim(xlim)\n",
        "ax.text(0.03, 0.97, r'$r$ = {:.4f}'.format(np.corrcoef(x_both, y_both)[0, 1]),\n",
        "       transform=ax.transAxes, ha='left', va='top', fontsize=7)\n",
        "\n",
        "ax.text(0.97, 0.01, 'n={}'.format(si_format(len(x_both)), precision=2, format_str='{value}{prefix}',), \n",
        "        transform=ax.transAxes, ha='right', va='bottom', fontsize=7)\n",
        "\n",
        "# Left Marginal\n",
        "ax = fig.add_subplot(gs[0, 0])\n",
        "ax.hist(y_missing, bins=bins, edgecolor='none', orientation='horizontal', density=True, color='r')\n",
        "ax.set_ylim(xlim)\n",
        "ax.set_xticks([]); ax.set_yticks([-5, 0, 5, 10, 15,20])\n",
        "ax.text(0.97, 0.97, 'n={}'.format(si_format(len(y_missing)), precision=2, format_str='{value}{prefix}',), \n",
        "        transform=ax.transAxes, ha='right', va='top', fontsize=7, rotation=90, color='r')\n",
        "ax.set_ylabel('Prediction', labelpad=2,fontsize=8)\n",
        "ax.tick_params(axis='both', labelsize=7, length=2, pad=1)\n",
        "\n",
        "# Bottom Marginal\n",
        "ax = fig.add_subplot(gs[1, 1])\n",
        "ax.hist(x_missing, bins=bins, edgecolor='none', density=True, color='r')\n",
        "ax.set_xlim(xlim)\n",
        "ax.set_xticks([-5, 0, 5, 10, 15,20]); ax.set_yticks([])\n",
        "ax.text(0.97, 0.8, 'n={}'.format(si_format(len(x_missing)), precision=2, format_str='{value}{prefix}',), \n",
        "        transform=ax.transAxes, ha='right', va='top', fontsize=7, color='r')\n",
        "ax.set_xlabel('Truth', labelpad=2,fontsize=8)\n",
        "ax.tick_params(axis='both', labelsize=6, length=2, pad=1)\n",
        "\n",
        "# Missing label (not detected in either)\n",
        "ax = fig.add_subplot(gs[1, 0])\n",
        "for spine in ['bottom', 'left']:\n",
        "    ax.spines[spine].set_visible(False)\n",
        "ax.set_xticks([]); ax.set_yticks([])\n",
        "\n",
        "ax.text(0.8, 0.8, 'Missing', transform=ax.transAxes, color='r', ha='right', va='top', fontsize=7, clip_on=False)\n",
        "fig.savefig('../results/rnn/1st_results/nor_transduction/1st_aa_nor_transduction_prediction_correlation_test.pdf',dpi=300,bbox_inches='tight')"
      ]
    },
    {
      "cell_type": "code",
      "execution_count": 21,
      "metadata": {
        "ExecuteTime": {
          "end_time": "2021-06-15T18:04:49.108828Z",
          "start_time": "2021-06-15T18:04:38.468240Z"
        }
      },
      "outputs": [
        {
          "data": {
            "image/png": "[encoded data removed]",
            "text/plain": [
              "<Figure size 180x150 with 1 Axes>"
            ]
          },
          "metadata": {},
          "output_type": "display_data"
        }
      ],
      "source": [
        "data = np.array(preds_df['y_pred']) \n",
        "data = data.reshape(-1, 1)  # 将数据转换成列向量的形式\n",
        "\n",
        "# 使用GaussianMixture拟合数据\n",
        "n_components = 1 # 设置混合模型的分量个数\n",
        "gmm = GaussianMixture(n_components=n_components)\n",
        "gmm.fit(data)\n",
        "\n",
        "# 获取每个分量的均值和协方差矩阵\n",
        "means = gmm.means_\n",
        "covariances = gmm.covariances_\n",
        "\n",
        "# 生成拟合后的分布\n",
        "x = np.linspace(-7, 8, 100000)\n",
        "x = x.reshape(-1, 1)\n",
        "y = np.exp(gmm.score_samples(x))\n",
        "\n",
        "fig,ax = plt.subplots(figsize=(1.8,1.5),dpi=100)\n",
        "# 绘制原始数据和拟合后的分布\n",
        "plt.hist(data, bins=100, density=True, alpha=0.6, color = '#BAB3A3',label='Prediction')\n",
        "#plt.plot(x, y, '-r', label='GMM fit')\n",
        "\n",
        "\n",
        "# 绘制每个分量的正态分布\n",
        "for i in range(n_components):\n",
        "    component = np.exp(-(x - means[i]) ** 2 / (2 * covariances[i]))\n",
        "    component /= np.sqrt(2 * np.pi * covariances[i])\n",
        "    component *= gmm.weights_[i]\n",
        "    if i == 0:\n",
        "        ax.plot(x, component, '-', label=f'Distribution {i + 1}', color='#F66E68', alpha=1)\n",
        "        ax.fill_between(x.flatten(), 0, component.flatten(), color='#F66E68', alpha=0.4)\n",
        "    else:\n",
        "        ax.plot(x, component, '-', label=f'Distribution {i + 1}', color='#457B9D', alpha=1)\n",
        "        ax.fill_between(x.flatten(), 0, component.flatten(), color='#457B9D', alpha=0.4)\n",
        "\n",
        "\n",
        "plt.title('Prediction',fontsize=10)\n",
        "ax.tick_params(axis='both', which='both', length=2,labelsize=10)\n",
        "ax.set_xticks([-5, 0, 5, ]); \n",
        "# ax.set_yticks([])\n",
        "plt.ylabel('Density',labelpad=1,fontsize=10)\n",
        "plt.xlabel('Nor_package',labelpad=1,fontsize=10)\n",
        "plt.legend(fontsize=7,frameon=False)\n",
        "fig.savefig('../results/rnn/1st_results/nor_transduction/1st_aa_nor_transduction_prediction_distribution_test.pdf',dpi=300,bbox_inches='tight')"
      ]
    },
    {
      "cell_type": "code",
      "execution_count": null,
      "metadata": {},
      "outputs": [],
      "source": []
    },
    {
      "cell_type": "code",
      "execution_count": null,
      "metadata": {},
      "outputs": [],
      "source": []
    }
  ],
  "metadata": {
    "kernelspec": {
      "display_name": "Python 3 (ipykernel)",
      "language": "python",
      "name": "python3"
    },
    "language_info": {
      "codemirror_mode": {
        "name": "ipython",
        "version": 3
      },
      "file_extension": ".py",
      "mimetype": "text/x-python",
      "name": "python",
      "nbconvert_exporter": "python",
      "pygments_lexer": "ipython3",
      "version": "3.8.16"
    },
    "toc": {
      "base_numbering": 1,
      "nav_menu": {},
      "number_sections": true,
      "sideBar": true,
      "skip_h1_title": false,
      "title_cell": "Table of Contents",
      "title_sidebar": "Contents",
      "toc_cell": true,
      "toc_position": {
        "height": "calc(100% - 180px)",
        "left": "10px",
        "top": "150px",
        "width": "320px"
      },
      "toc_section_display": true,
      "toc_window_display": true
    }
  },
  "nbformat": 4,
  "nbformat_minor": 4
}
