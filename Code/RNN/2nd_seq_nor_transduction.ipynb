{
  "cells": [
    {
      "cell_type": "code",
      "execution_count": 1,
      "metadata": {
        "ExecuteTime": {
          "end_time": "2021-06-15T17:13:58.134959Z",
          "start_time": "2021-06-15T17:13:57.550003Z"
        }
      },
      "outputs": [],
      "source": [
        "import pandas as pd\n",
        "import numpy as np\n",
        "import matplotlib as mpl\n",
        "import matplotlib.pyplot as plt\n",
        "import seaborn as sns\n",
        "from IPython.display import Image\n",
        "from scipy.stats import gaussian_kde, norm\n",
        "from sklearn.mixture import GaussianMixture\n",
        "\n",
        "from utils_f4f import CustomEarlyStopping, rnn_seq_model,AA_hotencoding ,heatmap, si_format\n"
      ]
    },
    {
      "cell_type": "code",
      "execution_count": 2,
      "metadata": {},
      "outputs": [],
      "source": [
        "mpl.rcParams['svg.fonttype'] = 'none'\n",
        "mpl.rcParams['font.family'] = ['sans-serif']\n",
        "mpl.rcParams['font.sans-serif'] = ['Arial']\n",
        "mpl.rcParams['text.usetex'] = False\n",
        "mpl.rcParams['pdf.fonttype'] = 42\n",
        "mpl.rcParams['ps.fonttype'] = 42"
      ]
    },
    {
      "cell_type": "markdown",
      "metadata": {},
      "source": [
        "#### Data_preparetion\n",
        "\n"
      ]
    },
    {
      "cell_type": "code",
      "execution_count": 3,
      "metadata": {},
      "outputs": [],
      "source": [
        "\n",
        "df_all = pd.read_csv('../data/2nd_seq_aa_transduction.tsv',delimiter='\\t')\n",
        "# df_all = df_all.iloc[::50]\n",
        "df_modeling = df_all.rename(columns={'aa':'AA_seqenece'})\n",
        "df_modeling['label']=0\n",
        "df_modeling = df_modeling[['seq', 'transduction', 'label']]\n",
        "df_missing = df_modeling[np.isinf(df_modeling['transduction']) ]#\n",
        "df_modeling = df_modeling[~np.isnan(df_modeling['transduction']) & ~np.isinf(df_modeling['transduction'])]\n",
        "df_modeling.reset_index(drop = True, inplace=True)\n",
        "AA_col = 'seq'\n",
        "array = 'transduction'\n"
      ]
    },
    {
      "cell_type": "code",
      "execution_count": 4,
      "metadata": {},
      "outputs": [
        {
          "data": {
            "text/plain": [
              "(2556, 3)"
            ]
          },
          "execution_count": 4,
          "metadata": {},
          "output_type": "execute_result"
        }
      ],
      "source": [
        "df_modeling.shape"
      ]
    },
    {
      "cell_type": "code",
      "execution_count": 5,
      "metadata": {},
      "outputs": [
        {
          "data": {
            "image/png": "[encoded data removed]",
            "text/plain": [
              "<Figure size 200x170 with 1 Axes>"
            ]
          },
          "metadata": {},
          "output_type": "display_data"
        }
      ],
      "source": [
        "nor_package = df_all[np.isfinite(df_all[array])][array]\n",
        "data = np.array(nor_package) \n",
        "data = data.reshape(-1, 1)  # Convert the data into a column vector\n",
        "\n",
        "# Fit the data using GaussianMixture\n",
        "n_components = 1 # Set the number of components for the hybrid model\n",
        "gmm = GaussianMixture(n_components=n_components)\n",
        "gmm.fit(data)\n",
        "\n",
        "# Get the mean and covariance matrix for each component\n",
        "means = gmm.means_\n",
        "covariances = gmm.covariances_\n",
        "\n",
        "# Generate the fitted distribution\n",
        "x = np.linspace(-10, 10, 10000)\n",
        "x = x.reshape(-1, 1)\n",
        "y = np.exp(gmm.score_samples(x))\n",
        "\n",
        "fig,ax = plt.subplots(figsize=(2,1.7),dpi=100)\n",
        "# Plot the raw data and the distribution after fitting\n",
        "plt.hist(data, bins=100, density=True, alpha=0.6, color = '#BAB3A3',label='Prediction')\n",
        "\n",
        "# 绘制每个分量的正态分布\n",
        "for i in range(n_components):\n",
        "    component = np.exp(-(x - means[i]) ** 2 / (2 * covariances[i]))\n",
        "    component /= np.sqrt(2 * np.pi * covariances[i])\n",
        "    component *= gmm.weights_[i]\n",
        "    if i == 0:\n",
        "        ax.plot(x, component, '-', label=f'Distribution {i + 1}', color='#F66E68', alpha=1)\n",
        "        ax.fill_between(x.flatten(), 0, component.flatten(), color='#F66E68', alpha=0.4)\n",
        "    else:\n",
        "        ax.plot(x, component, '-', label=f'Distribution {i + 1}', color='#457B9D', alpha=1)\n",
        "        ax.fill_between(x.flatten(), 0, component.flatten(), color='#457B9D', alpha=0.4)\n",
        "\n",
        "\n",
        "plt.title('Truth_distribution',fontsize=10)\n",
        "ax.tick_params(axis='both', which='both', length=2,labelsize=8)\n",
        "ax.set_xticks([-10,-5, 0, 5,10]); \n",
        "ax.set_xlim([-10,10])\n",
        "plt.ylabel('Density',labelpad=2,fontsize=10)\n",
        "plt.xlabel('Nor_package',labelpad=2,fontsize=10)\n",
        "plt.legend(fontsize=7,frameon=False,loc='best')\n",
        "plt.show()"
      ]
    },
    {
      "cell_type": "markdown",
      "metadata": {},
      "source": []
    },
    {
      "cell_type": "markdown",
      "metadata": {},
      "source": [
        "### Prep data\n",
        " one-hot encode the `AA_sequence` column and split the data into\n",
        "training and test sets. The training split will be split\n",
        "\n"
      ]
    },
    {
      "cell_type": "code",
      "execution_count": 6,
      "metadata": {},
      "outputs": [],
      "source": [
        "# Train-Test split\n",
        "train_size = 1800\n",
        "validation_size = 300\n",
        "train, validate, test = np.split(df_modeling.sample(frac=1),  [train_size, train_size+validation_size])\n",
        "\n",
        "# Hot Encoding\n",
        "\n",
        "train_x =  np.asarray([AA_hotencoding(variant) for variant in train[AA_col]])\n",
        "train_y = train[array]\n",
        "validate_x = np.asarray([AA_hotencoding(variant) for variant in validate[AA_col]])\n",
        "validate_y = validate[array]\n",
        "test_x = np.asarray([AA_hotencoding(variant) for variant in test[AA_col]])\n",
        "test_y = test[array]\n",
        "missing_x = np.asarray([AA_hotencoding(variant) for variant in df_missing[AA_col]])\n"
      ]
    },
    {
      "cell_type": "code",
      "execution_count": 7,
      "metadata": {},
      "outputs": [
        {
          "data": {
            "text/plain": [
              "(1800, 21, 20)"
            ]
          },
          "execution_count": 7,
          "metadata": {},
          "output_type": "execute_result"
        }
      ],
      "source": [
        "train_x.shape"
      ]
    },
    {
      "cell_type": "markdown",
      "metadata": {},
      "source": [
        "#### RNN  model training\n",
        "Default parameterization:Here the model is applied to aa-nor_package learning process, as details"
      ]
    },
    {
      "cell_type": "code",
      "execution_count": 8,
      "metadata": {},
      "outputs": [
        {
          "name": "stdout",
          "output_type": "stream",
          "text": [
            "Epoch 1/300\n",
            "113/113 - 19s - loss: 5.4524 - mae: 1.3965 - val_loss: 5.5510 - val_mae: 1.3595 - 19s/epoch - 171ms/step\n",
            "Epoch 2/300\n",
            "113/113 - 7s - loss: 5.4324 - mae: 1.3991 - val_loss: 5.5607 - val_mae: 1.3304 - 7s/epoch - 65ms/step\n",
            "Epoch 3/300\n",
            "113/113 - 8s - loss: 5.4177 - mae: 1.3901 - val_loss: 5.5559 - val_mae: 1.3277 - 8s/epoch - 68ms/step\n",
            "Epoch 4/300\n",
            "113/113 - 8s - loss: 5.4147 - mae: 1.4027 - val_loss: 5.5464 - val_mae: 1.3385 - 8s/epoch - 67ms/step\n",
            "Epoch 5/300\n",
            "113/113 - 8s - loss: 5.4039 - mae: 1.3992 - val_loss: 5.5429 - val_mae: 1.3235 - 8s/epoch - 67ms/step\n",
            "Epoch 6/300\n",
            "113/113 - 8s - loss: 5.4031 - mae: 1.4014 - val_loss: 5.6306 - val_mae: 1.2872 - 8s/epoch - 67ms/step\n",
            "Epoch 7/300\n",
            "113/113 - 7s - loss: 5.4147 - mae: 1.3948 - val_loss: 5.5447 - val_mae: 1.3158 - 7s/epoch - 66ms/step\n",
            "Epoch 8/300\n",
            "113/113 - 8s - loss: 5.3997 - mae: 1.4001 - val_loss: 5.5520 - val_mae: 1.3059 - 8s/epoch - 66ms/step\n",
            "Epoch 9/300\n",
            "113/113 - 7s - loss: 5.3971 - mae: 1.3873 - val_loss: 5.5219 - val_mae: 1.3482 - 7s/epoch - 64ms/step\n",
            "Epoch 10/300\n",
            "113/113 - 7s - loss: 5.4033 - mae: 1.3926 - val_loss: 5.5184 - val_mae: 1.4156 - 7s/epoch - 66ms/step\n",
            "Epoch 11/300\n",
            "113/113 - 7s - loss: 5.3991 - mae: 1.4035 - val_loss: 5.5229 - val_mae: 1.3166 - 7s/epoch - 66ms/step\n",
            "Epoch 12/300\n",
            "113/113 - 7s - loss: 5.3949 - mae: 1.3947 - val_loss: 5.5190 - val_mae: 1.3415 - 7s/epoch - 66ms/step\n",
            "Epoch 13/300\n",
            "113/113 - 7s - loss: 5.4018 - mae: 1.4018 - val_loss: 5.5259 - val_mae: 1.3431 - 7s/epoch - 64ms/step\n",
            "Epoch 14/300\n",
            "113/113 - 7s - loss: 5.4095 - mae: 1.3933 - val_loss: 5.5310 - val_mae: 1.3307 - 7s/epoch - 65ms/step\n",
            "Epoch 15/300\n",
            "113/113 - 7s - loss: 5.4009 - mae: 1.3990 - val_loss: 5.5272 - val_mae: 1.3118 - 7s/epoch - 65ms/step\n",
            "Epoch 16/300\n",
            "113/113 - 7s - loss: 5.3967 - mae: 1.3919 - val_loss: 5.5170 - val_mae: 1.3263 - 7s/epoch - 65ms/step\n",
            "Epoch 17/300\n",
            "113/113 - 7s - loss: 5.3739 - mae: 1.4091 - val_loss: 5.5406 - val_mae: 1.3118 - 7s/epoch - 66ms/step\n",
            "Epoch 18/300\n",
            "113/113 - 7s - loss: 5.4220 - mae: 1.4012 - val_loss: 5.5759 - val_mae: 1.3347 - 7s/epoch - 63ms/step\n",
            "Epoch 19/300\n",
            "113/113 - 7s - loss: 5.4272 - mae: 1.4118 - val_loss: 5.5663 - val_mae: 1.3304 - 7s/epoch - 64ms/step\n",
            "Epoch 20/300\n",
            "113/113 - 7s - loss: 5.4104 - mae: 1.4048 - val_loss: 5.5561 - val_mae: 1.3370 - 7s/epoch - 66ms/step\n",
            "Epoch 21/300\n",
            "113/113 - 7s - loss: 5.4035 - mae: 1.4049 - val_loss: 5.5507 - val_mae: 1.3161 - 7s/epoch - 66ms/step\n",
            "Epoch 22/300\n",
            "113/113 - 7s - loss: 5.4135 - mae: 1.3969 - val_loss: 5.5456 - val_mae: 1.3371 - 7s/epoch - 66ms/step\n",
            "Epoch 23/300\n",
            "113/113 - 7s - loss: 5.3950 - mae: 1.3918 - val_loss: 5.5140 - val_mae: 1.3455 - 7s/epoch - 63ms/step\n",
            "Epoch 24/300\n",
            "113/113 - 7s - loss: 5.3802 - mae: 1.3954 - val_loss: 5.5514 - val_mae: 1.4172 - 7s/epoch - 66ms/step\n",
            "Epoch 25/300\n",
            "113/113 - 7s - loss: 5.3906 - mae: 1.4122 - val_loss: 5.5285 - val_mae: 1.3079 - 7s/epoch - 65ms/step\n",
            "Epoch 26/300\n",
            "113/113 - 7s - loss: 5.3878 - mae: 1.3921 - val_loss: 5.5069 - val_mae: 1.3203 - 7s/epoch - 66ms/step\n",
            "Epoch 27/300\n",
            "113/113 - 7s - loss: 5.3810 - mae: 1.3975 - val_loss: 5.5271 - val_mae: 1.3105 - 7s/epoch - 63ms/step\n",
            "Epoch 28/300\n",
            "113/113 - 7s - loss: 5.3724 - mae: 1.3775 - val_loss: 5.5376 - val_mae: 1.4288 - 7s/epoch - 66ms/step\n",
            "Epoch 29/300\n",
            "113/113 - 7s - loss: 5.3856 - mae: 1.4041 - val_loss: 5.5161 - val_mae: 1.3436 - 7s/epoch - 66ms/step\n",
            "Epoch 30/300\n",
            "113/113 - 8s - loss: 5.3839 - mae: 1.3983 - val_loss: 5.4990 - val_mae: 1.3255 - 8s/epoch - 68ms/step\n",
            "Epoch 31/300\n",
            "113/113 - 7s - loss: 5.3711 - mae: 1.3846 - val_loss: 5.5468 - val_mae: 1.3556 - 7s/epoch - 63ms/step\n",
            "Epoch 32/300\n",
            "113/113 - 7s - loss: 5.3866 - mae: 1.4063 - val_loss: 5.5248 - val_mae: 1.3264 - 7s/epoch - 64ms/step\n",
            "Epoch 33/300\n",
            "113/113 - 7s - loss: 5.3625 - mae: 1.3923 - val_loss: 5.6055 - val_mae: 1.3561 - 7s/epoch - 65ms/step\n",
            "Epoch 34/300\n",
            "113/113 - 7s - loss: 5.3967 - mae: 1.4049 - val_loss: 5.5222 - val_mae: 1.3342 - 7s/epoch - 66ms/step\n",
            "Epoch 35/300\n",
            "113/113 - 8s - loss: 5.3727 - mae: 1.3807 - val_loss: 5.5423 - val_mae: 1.3635 - 8s/epoch - 69ms/step\n",
            "Epoch 36/300\n",
            "113/113 - 8s - loss: 5.3465 - mae: 1.4284 - val_loss: 5.6234 - val_mae: 1.3134 - 8s/epoch - 69ms/step\n",
            "Epoch 37/300\n",
            "113/113 - 8s - loss: 5.3453 - mae: 1.3870 - val_loss: 5.6299 - val_mae: 1.3868 - 8s/epoch - 70ms/step\n",
            "Epoch 38/300\n",
            "113/113 - 7s - loss: 5.3317 - mae: 1.3946 - val_loss: 5.5409 - val_mae: 1.3785 - 7s/epoch - 66ms/step\n",
            "Epoch 39/300\n",
            "113/113 - 7s - loss: 5.3412 - mae: 1.4097 - val_loss: 5.5849 - val_mae: 1.3459 - 7s/epoch - 65ms/step\n",
            "Epoch 40/300\n",
            "113/113 - 7s - loss: 5.3108 - mae: 1.3988 - val_loss: 5.6291 - val_mae: 1.3674 - 7s/epoch - 64ms/step\n",
            "Epoch 41/300\n",
            "113/113 - 8s - loss: 5.3228 - mae: 1.3992 - val_loss: 5.6616 - val_mae: 1.3635 - 8s/epoch - 70ms/step\n",
            "Epoch 42/300\n",
            "113/113 - 7s - loss: 5.2821 - mae: 1.4073 - val_loss: 5.6086 - val_mae: 1.3459 - 7s/epoch - 66ms/step\n",
            "Epoch 43/300\n",
            "113/113 - 7s - loss: 5.3272 - mae: 1.3947 - val_loss: 5.7678 - val_mae: 1.4107 - 7s/epoch - 66ms/step\n",
            "Epoch 44/300\n",
            "113/113 - 7s - loss: 5.3067 - mae: 1.3989 - val_loss: 5.5985 - val_mae: 1.3636 - 7s/epoch - 66ms/step\n",
            "Epoch 45/300\n",
            "113/113 - 7s - loss: 5.3010 - mae: 1.4078 - val_loss: 5.6764 - val_mae: 1.3976 - 7s/epoch - 64ms/step\n",
            "Epoch 46/300\n",
            "113/113 - 7s - loss: 5.2726 - mae: 1.4052 - val_loss: 5.6849 - val_mae: 1.4192 - 7s/epoch - 66ms/step\n",
            "Epoch 47/300\n",
            "113/113 - 7s - loss: 5.2628 - mae: 1.3950 - val_loss: 5.7324 - val_mae: 1.3968 - 7s/epoch - 66ms/step\n",
            "Epoch 48/300\n",
            "113/113 - 7s - loss: 5.2200 - mae: 1.4023 - val_loss: 5.6936 - val_mae: 1.3992 - 7s/epoch - 65ms/step\n",
            "Epoch 49/300\n",
            "113/113 - 7s - loss: 5.2143 - mae: 1.4120 - val_loss: 5.6422 - val_mae: 1.3847 - 7s/epoch - 64ms/step\n",
            "Epoch 50/300\n",
            "113/113 - 7s - loss: 5.1766 - mae: 1.4220 - val_loss: 5.6817 - val_mae: 1.3539 - 7s/epoch - 66ms/step\n",
            "Epoch 51/300\n",
            "113/113 - 7s - loss: 5.2121 - mae: 1.4048 - val_loss: 5.8026 - val_mae: 1.4210 - 7s/epoch - 66ms/step\n",
            "Epoch 52/300\n",
            "113/113 - 8s - loss: 5.1181 - mae: 1.4012 - val_loss: 5.8177 - val_mae: 1.4316 - 8s/epoch - 66ms/step\n",
            "Epoch 53/300\n",
            "113/113 - 7s - loss: 5.0631 - mae: 1.4034 - val_loss: 5.7658 - val_mae: 1.4399 - 7s/epoch - 65ms/step\n",
            "Epoch 54/300\n",
            "113/113 - 8s - loss: 5.1924 - mae: 1.3979 - val_loss: 5.9200 - val_mae: 1.5016 - 8s/epoch - 68ms/step\n",
            "Epoch 55/300\n",
            "113/113 - 8s - loss: 5.0545 - mae: 1.4203 - val_loss: 6.0785 - val_mae: 1.4794 - 8s/epoch - 70ms/step\n",
            "Epoch 56/300\n",
            "113/113 - 8s - loss: 4.9869 - mae: 1.3844 - val_loss: 5.9271 - val_mae: 1.4395 - 8s/epoch - 67ms/step\n",
            "Epoch 57/300\n",
            "113/113 - 8s - loss: 4.9726 - mae: 1.4053 - val_loss: 5.8761 - val_mae: 1.4566 - 8s/epoch - 67ms/step\n",
            "Epoch 58/300\n",
            "113/113 - 7s - loss: 4.8472 - mae: 1.3917 - val_loss: 5.9399 - val_mae: 1.4621 - 7s/epoch - 65ms/step\n",
            "Epoch 59/300\n",
            "113/113 - 8s - loss: 4.8582 - mae: 1.4001 - val_loss: 6.0010 - val_mae: 1.4025 - 8s/epoch - 67ms/step\n",
            "Epoch 60/300\n",
            "113/113 - 8s - loss: 4.6966 - mae: 1.3688 - val_loss: 6.1425 - val_mae: 1.5272 - 8s/epoch - 68ms/step\n",
            "Epoch 61/300\n",
            "113/113 - 8s - loss: 4.8556 - mae: 1.4029 - val_loss: 6.1080 - val_mae: 1.5069 - 8s/epoch - 68ms/step\n",
            "Epoch 62/300\n",
            "113/113 - 7s - loss: 4.6213 - mae: 1.3743 - val_loss: 5.9178 - val_mae: 1.4387 - 7s/epoch - 66ms/step\n",
            "Epoch 63/300\n",
            "113/113 - 7s - loss: 4.6837 - mae: 1.3587 - val_loss: 6.0659 - val_mae: 1.4961 - 7s/epoch - 66ms/step\n",
            "Epoch 64/300\n",
            "113/113 - 8s - loss: 4.3873 - mae: 1.3519 - val_loss: 6.6687 - val_mae: 1.5806 - 8s/epoch - 68ms/step\n",
            "Epoch 65/300\n",
            "113/113 - 8s - loss: 4.2449 - mae: 1.3469 - val_loss: 6.3060 - val_mae: 1.5087 - 8s/epoch - 67ms/step\n",
            "Epoch 66/300\n",
            "113/113 - 7s - loss: 4.1445 - mae: 1.3092 - val_loss: 6.5906 - val_mae: 1.5832 - 7s/epoch - 66ms/step\n",
            "Epoch 67/300\n",
            "113/113 - 8s - loss: 4.0100 - mae: 1.3063 - val_loss: 7.1615 - val_mae: 1.6085 - 8s/epoch - 68ms/step\n",
            "Epoch 68/300\n",
            "113/113 - 8s - loss: 3.8278 - mae: 1.2640 - val_loss: 6.6824 - val_mae: 1.5490 - 8s/epoch - 71ms/step\n",
            "Epoch 69/300\n",
            "113/113 - 8s - loss: 3.7672 - mae: 1.2468 - val_loss: 7.1402 - val_mae: 1.6429 - 8s/epoch - 72ms/step\n",
            "Epoch 70/300\n",
            "113/113 - 8s - loss: 3.5247 - mae: 1.2130 - val_loss: 6.3684 - val_mae: 1.5113 - 8s/epoch - 66ms/step\n",
            "Epoch 71/300\n",
            "113/113 - 7s - loss: 3.2242 - mae: 1.1815 - val_loss: 7.0905 - val_mae: 1.6351 - 7s/epoch - 65ms/step\n",
            "Epoch 72/300\n",
            "113/113 - 8s - loss: 3.2484 - mae: 1.1758 - val_loss: 7.6107 - val_mae: 1.6938 - 8s/epoch - 67ms/step\n",
            "Epoch 73/300\n",
            "113/113 - 7s - loss: 2.9885 - mae: 1.1325 - val_loss: 8.9838 - val_mae: 1.8350 - 7s/epoch - 65ms/step\n",
            "Epoch 74/300\n",
            "113/113 - 7s - loss: 2.7409 - mae: 1.1038 - val_loss: 7.2529 - val_mae: 1.5981 - 7s/epoch - 66ms/step\n",
            "Epoch 75/300\n",
            "113/113 - 7s - loss: 2.3615 - mae: 1.0348 - val_loss: 8.1168 - val_mae: 1.7055 - 7s/epoch - 64ms/step\n",
            "Epoch 76/300\n",
            "113/113 - 7s - loss: 2.4855 - mae: 1.0543 - val_loss: 8.9081 - val_mae: 1.8015 - 7s/epoch - 65ms/step\n",
            "Epoch 77/300\n",
            "113/113 - 7s - loss: 2.2833 - mae: 1.0177 - val_loss: 8.1891 - val_mae: 1.7104 - 7s/epoch - 65ms/step\n",
            "Epoch 78/300\n",
            "113/113 - 7s - loss: 2.1826 - mae: 1.0087 - val_loss: 7.5299 - val_mae: 1.6857 - 7s/epoch - 65ms/step\n",
            "Epoch 79/300\n",
            "113/113 - 7s - loss: 2.3326 - mae: 1.0365 - val_loss: 7.5806 - val_mae: 1.6595 - 7s/epoch - 64ms/step\n",
            "Epoch 80/300\n",
            "113/113 - 7s - loss: 2.0953 - mae: 0.9820 - val_loss: 7.6433 - val_mae: 1.6532 - 7s/epoch - 66ms/step\n",
            "Epoch 81/300\n",
            "113/113 - 7s - loss: 1.7465 - mae: 0.9249 - val_loss: 8.0732 - val_mae: 1.6898 - 7s/epoch - 65ms/step\n",
            "Epoch 82/300\n",
            "113/113 - 7s - loss: 1.6206 - mae: 0.8964 - val_loss: 8.0291 - val_mae: 1.6678 - 7s/epoch - 65ms/step\n",
            "Epoch 83/300\n",
            "113/113 - 7s - loss: 1.5529 - mae: 0.8715 - val_loss: 7.8555 - val_mae: 1.6334 - 7s/epoch - 66ms/step\n",
            "Epoch 84/300\n",
            "113/113 - 7s - loss: 1.4847 - mae: 0.8614 - val_loss: 8.4244 - val_mae: 1.7743 - 7s/epoch - 63ms/step\n",
            "Epoch 85/300\n",
            "113/113 - 7s - loss: 1.3759 - mae: 0.8323 - val_loss: 8.5201 - val_mae: 1.7441 - 7s/epoch - 65ms/step\n",
            "Epoch 86/300\n",
            "113/113 - 7s - loss: 1.3577 - mae: 0.8233 - val_loss: 9.1493 - val_mae: 1.8162 - 7s/epoch - 66ms/step\n",
            "Epoch 87/300\n",
            "113/113 - 7s - loss: 1.2492 - mae: 0.7971 - val_loss: 8.5322 - val_mae: 1.7678 - 7s/epoch - 66ms/step\n",
            "Epoch 88/300\n",
            "113/113 - 6s - loss: 1.0825 - mae: 0.7366 - val_loss: 8.0048 - val_mae: 1.7151 - 6s/epoch - 53ms/step\n",
            "Epoch 89/300\n",
            "113/113 - 5s - loss: 1.0004 - mae: 0.7113 - val_loss: 8.3947 - val_mae: 1.7743 - 5s/epoch - 40ms/step\n",
            "Epoch 90/300\n",
            "113/113 - 4s - loss: 1.2246 - mae: 0.7773 - val_loss: 8.3661 - val_mae: 1.7366 - 4s/epoch - 39ms/step\n",
            "Epoch 91/300\n",
            "113/113 - 4s - loss: 1.4133 - mae: 0.8267 - val_loss: 8.4480 - val_mae: 1.7722 - 4s/epoch - 39ms/step\n",
            "Epoch 92/300\n",
            "113/113 - 4s - loss: 1.1355 - mae: 0.7518 - val_loss: 8.7989 - val_mae: 1.8330 - 4s/epoch - 39ms/step\n",
            "Epoch 93/300\n",
            "113/113 - 4s - loss: 1.0508 - mae: 0.7281 - val_loss: 7.9812 - val_mae: 1.7313 - 4s/epoch - 39ms/step\n",
            "Epoch 94/300\n",
            "113/113 - 4s - loss: 0.8978 - mae: 0.6942 - val_loss: 8.2305 - val_mae: 1.7262 - 4s/epoch - 39ms/step\n",
            "Epoch 95/300\n",
            "113/113 - 5s - loss: 1.0148 - mae: 0.7356 - val_loss: 8.0144 - val_mae: 1.7440 - 5s/epoch - 41ms/step\n",
            "Epoch 96/300\n",
            "113/113 - 5s - loss: 0.7691 - mae: 0.6392 - val_loss: 8.8742 - val_mae: 1.8084 - 5s/epoch - 43ms/step\n",
            "Epoch 97/300\n",
            "113/113 - 5s - loss: 0.6782 - mae: 0.6001 - val_loss: 8.3548 - val_mae: 1.7716 - 5s/epoch - 42ms/step\n",
            "Epoch 98/300\n",
            "113/113 - 4s - loss: 0.5942 - mae: 0.5625 - val_loss: 8.1193 - val_mae: 1.7451 - 4s/epoch - 40ms/step\n",
            "Epoch 99/300\n",
            "113/113 - 4s - loss: 0.5698 - mae: 0.5468 - val_loss: 8.1500 - val_mae: 1.7659 - 4s/epoch - 39ms/step\n",
            "Epoch 100/300\n",
            "113/113 - 5s - loss: 0.5036 - mae: 0.5186 - val_loss: 7.8440 - val_mae: 1.7026 - 5s/epoch - 41ms/step\n",
            "Epoch 101/300\n",
            "113/113 - 4s - loss: 0.4902 - mae: 0.5140 - val_loss: 8.5410 - val_mae: 1.7984 - 4s/epoch - 40ms/step\n"
          ]
        },
        {
          "name": "stderr",
          "output_type": "stream",
          "text": [
            "d:\\ProgramData\\anaconda3\\envs\\tf\\lib\\site-packages\\keras\\src\\engine\\training.py:3000: UserWarning: You are saving your model as an HDF5 file via `model.save()`. This file format is considered legacy. We recommend using instead the native Keras format, e.g. `model.save('my_model.keras')`.\n",
            "  saving_api.save_model(\n"
          ]
        }
      ],
      "source": [
        "# Training\n",
        "\n",
        "# Define model \n",
        "model = rnn_seq_model(L1=420, L2=60)\n",
        "\n",
        "# Training parameters \n",
        "batch_size = 16\n",
        "EpochCount = 300\n",
        "#EpochCount = 5 #Used for quick excusion of the Notebook; please use a higher number instead to allow proper convergence\n",
        "\n",
        "# train model \n",
        "model.fit(train_x, train_y, batch_size=batch_size, epochs=EpochCount, \n",
        "          validation_data=(validate_x, validate_y),verbose=2,\n",
        "              callbacks=[CustomEarlyStopping(ratio=0.90, patience=50, restore_best_weights = True)])\n",
        "\n",
        "# Save model\n",
        "ModelFileName = 'pretrain/model_2nd_rnn_seq_nor_transduction'\n",
        "model.save(ModelFileName+'.h5')"
      ]
    },
    {
      "cell_type": "markdown",
      "metadata": {},
      "source": [
        "#### Model validation\n",
        "· `Train-data validation` \n",
        "\n"
      ]
    },
    {
      "cell_type": "code",
      "execution_count": 9,
      "metadata": {
        "ExecuteTime": {
          "end_time": "2021-06-15T18:02:53.571538Z",
          "start_time": "2021-06-15T18:02:46.205042Z"
        }
      },
      "outputs": [
        {
          "name": "stdout",
          "output_type": "stream",
          "text": [
            "57/57 [==============================] - 2s 24ms/step\n"
          ]
        },
        {
          "data": {
            "text/plain": [
              "0.9618084222960512"
            ]
          },
          "execution_count": 9,
          "metadata": {},
          "output_type": "execute_result"
        }
      ],
      "source": [
        "\n",
        "# Predict for train variants\n",
        "y = model.predict(train_x)\n",
        "x = np.array(train_y)\n",
        "y = np.reshape(y, (1,y.shape[0]))[0]\n",
        "preds_df = pd.DataFrame(columns=['y_pred','y_true'])\n",
        "preds_df['y_pred'] = pd.DataFrame(y)\n",
        "preds_df['y_true']  = pd.DataFrame(x)\n",
        "preds_df['y_pred'].corr(preds_df['y_true'])\n"
      ]
    },
    {
      "cell_type": "code",
      "execution_count": 11,
      "metadata": {},
      "outputs": [],
      "source": [
        "x = preds_df['y_pred']  \n",
        "y = preds_df['y_true']   \n",
        "\n",
        "remove = np.isinf(x) & np.isinf(y)\n",
        "x = x[~remove]\n",
        "y = y[~remove]\n",
        "\n",
        "keep = (~np.isinf(x)) & (~np.isinf(y))\n",
        "x_both = x[keep]\n",
        "y_both = y[keep]\n",
        "\n",
        "y_missing = y[np.isinf(x)]\n",
        "x_missing = x[np.isinf(y)]\n",
        "\n",
        "\n",
        "kernel = gaussian_kde(np.vstack([\n",
        "    x_both.sample(n=1500, random_state=1), \n",
        "    y_both.sample(n=1500, random_state=1)\n",
        "]))\n",
        "c_both = kernel(np.vstack([x_both.values, y_both.values]))\n"
      ]
    },
    {
      "cell_type": "code",
      "execution_count": 12,
      "metadata": {},
      "outputs": [
        {
          "name": "stderr",
          "output_type": "stream",
          "text": [
            "d:\\ProgramData\\anaconda3\\envs\\tf\\lib\\site-packages\\numpy\\lib\\histograms.py:906: RuntimeWarning: invalid value encountered in divide\n",
            "  return n/db/n.sum(), bin_edges\n",
            "meta NOT subset; don't know how to subset; dropped\n"
          ]
        },
        {
          "data": {
            "image/png": "[encoded data removed]",
            "text/plain": [
              "<Figure size 210x195 with 4 Axes>"
            ]
          },
          "metadata": {},
          "output_type": "display_data"
        }
      ],
      "source": [
        "fig = plt.figure(figsize=(1.4,1.3), dpi=150)\n",
        "gs = fig.add_gridspec(2, 2, left=0.275, right=0.95, bottom=0.22, top=0.95, \n",
        "                      width_ratios=[1, 6], height_ratios=[6, 1], hspace=0., wspace=0)\n",
        "ax = fig.add_subplot(gs[0, 1])\n",
        "ax.scatter(x_both, y_both, c=c_both, cmap=mpl.cm.inferno, s=0.2, edgecolor='none', rasterized=True)\n",
        "ax.set_xticks([]); ax.set_yticks([])\n",
        "xlim = [-11, 12]\n",
        "bins = np.linspace(*xlim, 25)\n",
        "ax.set_xlim(xlim); ax.set_ylim(xlim)\n",
        "ax.text(0.03, 0.97, r'$r$ = {:.4f}'.format(np.corrcoef(x_both, y_both)[0, 1]),\n",
        "       transform=ax.transAxes, ha='left', va='top', fontsize=7)\n",
        "\n",
        "ax.text(0.97, 0.01, 'n={}'.format(si_format(len(x_both)), precision=2, format_str='{value}{prefix}',), \n",
        "        transform=ax.transAxes, ha='right', va='bottom', fontsize=7)\n",
        "\n",
        "# Left Marginal\n",
        "ax = fig.add_subplot(gs[0, 0])\n",
        "ax.hist(y_missing, bins=bins, edgecolor='none', orientation='horizontal', density=True, color='r')\n",
        "ax.set_ylim(xlim)\n",
        "ax.set_xticks([]); ax.set_yticks([-5, 0, 5, 10, 15,20])\n",
        "ax.text(0.97, 0.97, 'n={}'.format(si_format(len(y_missing)), precision=2, format_str='{value}{prefix}',), \n",
        "        transform=ax.transAxes, ha='right', va='top', fontsize=7, rotation=90, color='r')\n",
        "ax.set_ylabel('Prediction', labelpad=2,fontsize=8)\n",
        "ax.tick_params(axis='both', labelsize=7, length=2, pad=1)\n",
        "\n",
        "# Bottom Marginal\n",
        "ax = fig.add_subplot(gs[1, 1])\n",
        "ax.hist(x_missing, bins=bins, edgecolor='none', density=True, color='r')\n",
        "ax.set_xlim(xlim)\n",
        "ax.set_xticks([-5, 0, 5, 10, 15,20]); ax.set_yticks([])\n",
        "ax.text(0.97, 0.8, 'n={}'.format(si_format(len(x_missing)), precision=2, format_str='{value}{prefix}',), \n",
        "        transform=ax.transAxes, ha='right', va='top', fontsize=7, color='r')\n",
        "ax.set_xlabel('Truth', labelpad=2,fontsize=8)\n",
        "ax.tick_params(axis='both', labelsize=7, length=2, pad=1)\n",
        "\n",
        "# Missing label (not detected in either)\n",
        "ax = fig.add_subplot(gs[1, 0])\n",
        "for spine in ['bottom', 'left']:\n",
        "    ax.spines[spine].set_visible(False)\n",
        "ax.set_xticks([]); ax.set_yticks([])\n",
        "\n",
        "ax.text(0.8, 0.8, 'Missing', transform=ax.transAxes, color='r', ha='right', va='top', fontsize=7, clip_on=False)\n",
        "fig.savefig('../results/rnn/2nd_results/nor_transduction/2nd_seq_nor_transduction_prediction_correlation_train.pdf',dpi=300,bbox_inches='tight')"
      ]
    },
    {
      "cell_type": "code",
      "execution_count": 16,
      "metadata": {},
      "outputs": [
        {
          "name": "stderr",
          "output_type": "stream",
          "text": [
            "meta NOT subset; don't know how to subset; dropped\n"
          ]
        },
        {
          "data": {
            "image/png": "[encoded data removed]",
            "text/plain": [
              "<Figure size 180x150 with 1 Axes>"
            ]
          },
          "metadata": {},
          "output_type": "display_data"
        }
      ],
      "source": [
        "data = np.array(preds_df['y_pred']) \n",
        "data = data.reshape(-1, 1)  # 将数据转换成列向量的形式\n",
        "\n",
        "# 使用GaussianMixture拟合数据\n",
        "n_components = 1 # 设置混合模型的分量个数\n",
        "gmm = GaussianMixture(n_components=n_components)\n",
        "gmm.fit(data)\n",
        "\n",
        "# 获取每个分量的均值和协方差矩阵\n",
        "means = gmm.means_\n",
        "covariances = gmm.covariances_\n",
        "\n",
        "# 生成拟合后的分布\n",
        "x = np.linspace(-7, 8, 100000)\n",
        "x = x.reshape(-1, 1)\n",
        "y = np.exp(gmm.score_samples(x))\n",
        "\n",
        "fig,ax = plt.subplots(figsize=(1.8,1.5),dpi=100)\n",
        "# 绘制原始数据和拟合后的分布\n",
        "plt.hist(data, bins=100, density=True, alpha=0.6, color = '#BAB3A3',label='Prediction')\n",
        "#plt.plot(x, y, '-r', label='GMM fit')\n",
        "\n",
        "\n",
        "# 绘制每个分量的正态分布\n",
        "for i in range(n_components):\n",
        "    component = np.exp(-(x - means[i]) ** 2 / (2 * covariances[i]))\n",
        "    component /= np.sqrt(2 * np.pi * covariances[i])\n",
        "    component *= gmm.weights_[i]\n",
        "    if i == 0:\n",
        "        ax.plot(x, component, '-', label=f'Distribution {i + 1}', color='#F66E68', alpha=1)\n",
        "        ax.fill_between(x.flatten(), 0, component.flatten(), color='#F66E68', alpha=0.4)\n",
        "    else:\n",
        "        ax.plot(x, component, '-', label=f'Distribution {i + 1}', color='#457B9D', alpha=1)\n",
        "        ax.fill_between(x.flatten(), 0, component.flatten(), color='#457B9D', alpha=0.4)\n",
        "\n",
        "\n",
        "plt.title('Prediction',fontsize=10)\n",
        "ax.tick_params(axis='both', which='both', length=2,labelsize=10)\n",
        "ax.set_xticks([-5, 0, 5, ]); \n",
        "# ax.set_yticks([])\n",
        "plt.ylabel('Density',labelpad=1,fontsize=10)\n",
        "plt.xlabel('Nor_package',labelpad=1,fontsize=10)\n",
        "plt.legend(fontsize=7,frameon=False)\n",
        "fig.savefig('../results/rnn/2nd_results/nor_transduction/2nd_seq_nor_transduction_prediction_distribution_train.pdf',dpi=300,bbox_inches='tight')"
      ]
    },
    {
      "cell_type": "markdown",
      "metadata": {},
      "source": [
        "· `Test-data validation` "
      ]
    },
    {
      "cell_type": "code",
      "execution_count": 19,
      "metadata": {},
      "outputs": [
        {
          "name": "stdout",
          "output_type": "stream",
          "text": [
            " 9/15 [=================>............] - ETA: 0s"
          ]
        },
        {
          "name": "stdout",
          "output_type": "stream",
          "text": [
            "15/15 [==============================] - 0s 23ms/step\n"
          ]
        },
        {
          "data": {
            "text/plain": [
              "0.004307260864641889"
            ]
          },
          "execution_count": 19,
          "metadata": {},
          "output_type": "execute_result"
        }
      ],
      "source": [
        "\n",
        "# Predict for test variants\n",
        "y = model.predict(test_x)\n",
        "x = np.array(test_y)\n",
        "y = np.reshape(y, (1,y.shape[0]))[0]\n",
        "preds_df = pd.DataFrame(columns=['y_pred','y_true'])\n",
        "preds_df['y_pred'] = pd.DataFrame(y)\n",
        "preds_df['y_true']  = pd.DataFrame(x)\n",
        "preds_df['y_pred'].corr(preds_df['y_true'])\n"
      ]
    },
    {
      "cell_type": "code",
      "execution_count": 22,
      "metadata": {},
      "outputs": [
        {
          "name": "stderr",
          "output_type": "stream",
          "text": [
            "d:\\ProgramData\\anaconda3\\envs\\tf\\lib\\site-packages\\numpy\\lib\\histograms.py:906: RuntimeWarning: invalid value encountered in divide\n",
            "  return n/db/n.sum(), bin_edges\n",
            "meta NOT subset; don't know how to subset; dropped\n"
          ]
        },
        {
          "data": {
            "image/png": "[encoded data removed]",
            "text/plain": [
              "<Figure size 210x195 with 4 Axes>"
            ]
          },
          "metadata": {},
          "output_type": "display_data"
        }
      ],
      "source": [
        "x = preds_df['y_pred']  \n",
        "y = preds_df['y_true']   \n",
        "\n",
        "remove = np.isinf(x) & np.isinf(y)\n",
        "x = x[~remove]\n",
        "y = y[~remove]\n",
        "\n",
        "keep = (~np.isinf(x)) & (~np.isinf(y))\n",
        "x_both = x[keep]\n",
        "y_both = y[keep]\n",
        "\n",
        "y_missing = y[np.isinf(x)]\n",
        "x_missing = x[np.isinf(y)]\n",
        "\n",
        "\n",
        "kernel = gaussian_kde(np.vstack([\n",
        "    x_both.sample(n=400, random_state=1), \n",
        "    y_both.sample(n=400, random_state=1)\n",
        "]))\n",
        "c_both = kernel(np.vstack([x_both.values, y_both.values]))\n",
        "\n",
        "fig = plt.figure(figsize=(1.4,1.3), dpi=150)\n",
        "gs = fig.add_gridspec(2, 2, left=0.275, right=0.95, bottom=0.22, top=0.95, \n",
        "                      width_ratios=[1, 6], height_ratios=[6, 1], hspace=0., wspace=0)\n",
        "ax = fig.add_subplot(gs[0, 1])\n",
        "ax.scatter(x_both, y_both, c=c_both, cmap=mpl.cm.inferno, s=0.2, edgecolor='none', rasterized=True)\n",
        "ax.set_xticks([]); ax.set_yticks([])\n",
        "xlim = [-11, 12]\n",
        "bins = np.linspace(*xlim, 25)\n",
        "ax.set_xlim(xlim); ax.set_ylim(xlim)\n",
        "ax.text(0.03, 0.97, r'$r$ = {:.4f}'.format(np.corrcoef(x_both, y_both)[0, 1]),\n",
        "       transform=ax.transAxes, ha='left', va='top', fontsize=7)\n",
        "\n",
        "ax.text(0.97, 0.01, 'n={}'.format(si_format(len(x_both)), precision=2, format_str='{value}{prefix}',), \n",
        "        transform=ax.transAxes, ha='right', va='bottom', fontsize=7)\n",
        "\n",
        "# Left Marginal\n",
        "ax = fig.add_subplot(gs[0, 0])\n",
        "ax.hist(y_missing, bins=bins, edgecolor='none', orientation='horizontal', density=True, color='r')\n",
        "ax.set_ylim(xlim)\n",
        "ax.set_xticks([]); ax.set_yticks([-5, 0, 5, 10, 15,20])\n",
        "ax.text(0.97, 0.97, 'n={}'.format(si_format(len(y_missing)), precision=2, format_str='{value}{prefix}',), \n",
        "        transform=ax.transAxes, ha='right', va='top', fontsize=7, rotation=90, color='r')\n",
        "ax.set_ylabel('Prediction', labelpad=2,fontsize=8)\n",
        "ax.tick_params(axis='both', labelsize=7, length=2, pad=1)\n",
        "\n",
        "# Bottom Marginal\n",
        "ax = fig.add_subplot(gs[1, 1])\n",
        "ax.hist(x_missing, bins=bins, edgecolor='none', density=True, color='r')\n",
        "ax.set_xlim(xlim)\n",
        "ax.set_xticks([-5, 0, 5, 10, 15,20]); ax.set_yticks([])\n",
        "ax.text(0.97, 0.8, 'n={}'.format(si_format(len(x_missing)), precision=2, format_str='{value}{prefix}',), \n",
        "        transform=ax.transAxes, ha='right', va='top', fontsize=7, color='r')\n",
        "ax.set_xlabel('Truth', labelpad=2,fontsize=8)\n",
        "ax.tick_params(axis='both', labelsize=6, length=2, pad=1)\n",
        "\n",
        "# Missing label (not detected in either)\n",
        "ax = fig.add_subplot(gs[1, 0])\n",
        "for spine in ['bottom', 'left']:\n",
        "    ax.spines[spine].set_visible(False)\n",
        "ax.set_xticks([]); ax.set_yticks([])\n",
        "\n",
        "ax.text(0.8, 0.8, 'Missing', transform=ax.transAxes, color='r', ha='right', va='top', fontsize=7, clip_on=False)\n",
        "fig.savefig('../results/rnn/2nd_results/nor_transduction/2nd_seq_nor_transduction_prediction_correlation_test.pdf',dpi=300,bbox_inches='tight')"
      ]
    },
    {
      "cell_type": "code",
      "execution_count": 24,
      "metadata": {
        "ExecuteTime": {
          "end_time": "2021-06-15T18:04:49.108828Z",
          "start_time": "2021-06-15T18:04:38.468240Z"
        }
      },
      "outputs": [
        {
          "name": "stderr",
          "output_type": "stream",
          "text": [
            "meta NOT subset; don't know how to subset; dropped\n"
          ]
        },
        {
          "data": {
            "image/png": "[encoded data removed]",
            "text/plain": [
              "<Figure size 180x150 with 1 Axes>"
            ]
          },
          "metadata": {},
          "output_type": "display_data"
        }
      ],
      "source": [
        "data = np.array(preds_df['y_pred']) \n",
        "data = data.reshape(-1, 1)  # 将数据转换成列向量的形式\n",
        "\n",
        "# 使用GaussianMixture拟合数据\n",
        "n_components = 1 # 设置混合模型的分量个数\n",
        "gmm = GaussianMixture(n_components=n_components)\n",
        "gmm.fit(data)\n",
        "\n",
        "# 获取每个分量的均值和协方差矩阵\n",
        "means = gmm.means_\n",
        "covariances = gmm.covariances_\n",
        "\n",
        "# 生成拟合后的分布\n",
        "x = np.linspace(-7, 8, 100000)\n",
        "x = x.reshape(-1, 1)\n",
        "y = np.exp(gmm.score_samples(x))\n",
        "\n",
        "fig,ax = plt.subplots(figsize=(1.8,1.5),dpi=100)\n",
        "# 绘制原始数据和拟合后的分布\n",
        "plt.hist(data, bins=100, density=True, alpha=0.6, color = '#BAB3A3',label='Prediction')\n",
        "#plt.plot(x, y, '-r', label='GMM fit')\n",
        "\n",
        "\n",
        "# 绘制每个分量的正态分布\n",
        "for i in range(n_components):\n",
        "    component = np.exp(-(x - means[i]) ** 2 / (2 * covariances[i]))\n",
        "    component /= np.sqrt(2 * np.pi * covariances[i])\n",
        "    component *= gmm.weights_[i]\n",
        "    if i == 0:\n",
        "        ax.plot(x, component, '-', label=f'Distribution {i + 1}', color='#F66E68', alpha=1)\n",
        "        ax.fill_between(x.flatten(), 0, component.flatten(), color='#F66E68', alpha=0.4)\n",
        "    else:\n",
        "        ax.plot(x, component, '-', label=f'Distribution {i + 1}', color='#457B9D', alpha=1)\n",
        "        ax.fill_between(x.flatten(), 0, component.flatten(), color='#457B9D', alpha=0.4)\n",
        "\n",
        "\n",
        "plt.title('Prediction',fontsize=10)\n",
        "ax.tick_params(axis='both', which='both', length=2,labelsize=10)\n",
        "ax.set_xticks([-5, 0, 5, ]); \n",
        "# ax.set_yticks([])\n",
        "plt.ylabel('Density',labelpad=1,fontsize=10)\n",
        "plt.xlabel('Nor_package',labelpad=1,fontsize=10)\n",
        "plt.legend(fontsize=7,frameon=False)\n",
        "fig.savefig('../results/rnn/2nd_results/nor_transduction/2nd_seq_nor_transduction_prediction_distribution_test.pdf',dpi=300,bbox_inches='tight')"
      ]
    },
    {
      "cell_type": "code",
      "execution_count": null,
      "metadata": {},
      "outputs": [],
      "source": []
    },
    {
      "cell_type": "code",
      "execution_count": null,
      "metadata": {},
      "outputs": [],
      "source": []
    }
  ],
  "metadata": {
    "kernelspec": {
      "display_name": "Python 3 (ipykernel)",
      "language": "python",
      "name": "python3"
    },
    "language_info": {
      "codemirror_mode": {
        "name": "ipython",
        "version": 3
      },
      "file_extension": ".py",
      "mimetype": "text/x-python",
      "name": "python",
      "nbconvert_exporter": "python",
      "pygments_lexer": "ipython3",
      "version": "3.8.16"
    },
    "toc": {
      "base_numbering": 1,
      "nav_menu": {},
      "number_sections": true,
      "sideBar": true,
      "skip_h1_title": false,
      "title_cell": "Table of Contents",
      "title_sidebar": "Contents",
      "toc_cell": true,
      "toc_position": {
        "height": "calc(100% - 180px)",
        "left": "10px",
        "top": "150px",
        "width": "320px"
      },
      "toc_section_display": true,
      "toc_window_display": true
    }
  },
  "nbformat": 4,
  "nbformat_minor": 4
}
