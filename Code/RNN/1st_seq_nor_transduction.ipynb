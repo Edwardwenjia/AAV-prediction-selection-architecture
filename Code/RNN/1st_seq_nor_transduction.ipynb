{
  "cells": [
    {
      "cell_type": "code",
      "execution_count": 9,
      "metadata": {
        "ExecuteTime": {
          "end_time": "2021-06-15T17:13:58.134959Z",
          "start_time": "2021-06-15T17:13:57.550003Z"
        }
      },
      "outputs": [],
      "source": [
        "import pandas as pd\n",
        "import numpy as np\n",
        "import matplotlib as mpl\n",
        "import matplotlib.pyplot as plt\n",
        "import seaborn as sns\n",
        "from IPython.display import Image\n",
        "from scipy.stats import gaussian_kde, norm\n",
        "from sklearn.mixture import GaussianMixture\n",
        "\n",
        "from utils_f4f import CustomEarlyStopping, rnn_seq_model,AA_hotencoding ,heatmap, si_format\n"
      ]
    },
    {
      "cell_type": "code",
      "execution_count": 2,
      "metadata": {},
      "outputs": [],
      "source": [
        "mpl.rcParams['svg.fonttype'] = 'none'\n",
        "mpl.rcParams['font.family'] = ['sans-serif']\n",
        "mpl.rcParams['font.sans-serif'] = ['Arial']\n",
        "mpl.rcParams['text.usetex'] = False\n",
        "mpl.rcParams['pdf.fonttype'] = 42\n",
        "mpl.rcParams['ps.fonttype'] = 42"
      ]
    },
    {
      "cell_type": "markdown",
      "metadata": {},
      "source": [
        "#### Data_preparetion\n",
        "\n"
      ]
    },
    {
      "cell_type": "code",
      "execution_count": 5,
      "metadata": {},
      "outputs": [],
      "source": [
        "\n",
        "df_all = pd.read_csv('../data/1stseq_aa_transduction.tsv',delimiter='\\t')\n",
        "# df_all = df_all.iloc[::50]\n",
        "df_modeling = df_all.rename(columns={'aa':'AA_seqenece'})\n",
        "df_modeling['label']=0\n",
        "df_modeling = df_modeling[['seq', 'transduction', 'label']]\n",
        "df_missing = df_modeling[np.isinf(df_modeling['transduction']) ]#\n",
        "df_modeling = df_modeling[~np.isnan(df_modeling['transduction']) & ~np.isinf(df_modeling['transduction'])]\n",
        "df_modeling.reset_index(drop = True, inplace=True)\n",
        "AA_col = 'seq'\n",
        "array = 'transduction'\n"
      ]
    },
    {
      "cell_type": "code",
      "execution_count": 6,
      "metadata": {},
      "outputs": [
        {
          "data": {
            "image/png": "[encoded data removed]",
            "text/plain": [
              "<Figure size 200x170 with 1 Axes>"
            ]
          },
          "metadata": {},
          "output_type": "display_data"
        }
      ],
      "source": [
        "nor_package = df_all[np.isfinite(df_all[array])][array]\n",
        "data = np.array(nor_package) \n",
        "data = data.reshape(-1, 1)  # Convert the data into a column vector\n",
        "\n",
        "# Fit the data using GaussianMixture\n",
        "n_components = 1 # Set the number of components for the hybrid model\n",
        "gmm = GaussianMixture(n_components=n_components)\n",
        "gmm.fit(data)\n",
        "\n",
        "# Get the mean and covariance matrix for each component\n",
        "means = gmm.means_\n",
        "covariances = gmm.covariances_\n",
        "\n",
        "# Generate the fitted distribution\n",
        "x = np.linspace(-10, 10, 10000)\n",
        "x = x.reshape(-1, 1)\n",
        "y = np.exp(gmm.score_samples(x))\n",
        "\n",
        "fig,ax = plt.subplots(figsize=(2,1.7),dpi=100)\n",
        "# Plot the raw data and the distribution after fitting\n",
        "plt.hist(data, bins=100, density=True, alpha=0.6, color = '#BAB3A3',label='Prediction')\n",
        "\n",
        "# 绘制每个分量的正态分布\n",
        "for i in range(n_components):\n",
        "    component = np.exp(-(x - means[i]) ** 2 / (2 * covariances[i]))\n",
        "    component /= np.sqrt(2 * np.pi * covariances[i])\n",
        "    component *= gmm.weights_[i]\n",
        "    if i == 0:\n",
        "        ax.plot(x, component, '-', label=f'Distribution {i + 1}', color='#F66E68', alpha=1)\n",
        "        ax.fill_between(x.flatten(), 0, component.flatten(), color='#F66E68', alpha=0.4)\n",
        "    else:\n",
        "        ax.plot(x, component, '-', label=f'Distribution {i + 1}', color='#457B9D', alpha=1)\n",
        "        ax.fill_between(x.flatten(), 0, component.flatten(), color='#457B9D', alpha=0.4)\n",
        "\n",
        "\n",
        "plt.title('Truth_distribution',fontsize=10)\n",
        "ax.tick_params(axis='both', which='both', length=2,labelsize=8)\n",
        "ax.set_xticks([-10,-5, 0, 5,10]); \n",
        "ax.set_xlim([-10,10])\n",
        "plt.ylabel('Density',labelpad=2,fontsize=10)\n",
        "plt.xlabel('Nor_package',labelpad=2,fontsize=10)\n",
        "plt.legend(fontsize=7,frameon=False,loc='best')\n",
        "plt.show()"
      ]
    },
    {
      "cell_type": "markdown",
      "metadata": {},
      "source": []
    },
    {
      "cell_type": "markdown",
      "metadata": {},
      "source": [
        "### Prep data\n",
        " one-hot encode the `AA_sequence` column and split the data into\n",
        "training and test sets. The training split will be split\n",
        "\n"
      ]
    },
    {
      "cell_type": "code",
      "execution_count": 7,
      "metadata": {},
      "outputs": [],
      "source": [
        "# Train-Test split\n",
        "train_size = 9200\n",
        "validation_size = 500\n",
        "train, validate, test = np.split(df_modeling.sample(frac=1),  [train_size, train_size+validation_size])\n",
        "\n",
        "# Hot Encoding\n",
        "\n",
        "train_x =  np.asarray([AA_hotencoding(variant) for variant in train[AA_col]])\n",
        "train_y = train[array]\n",
        "validate_x = np.asarray([AA_hotencoding(variant) for variant in validate[AA_col]])\n",
        "validate_y = validate[array]\n",
        "test_x = np.asarray([AA_hotencoding(variant) for variant in test[AA_col]])\n",
        "test_y = test[array]\n",
        "missing_x = np.asarray([AA_hotencoding(variant) for variant in df_missing[AA_col]])\n"
      ]
    },
    {
      "cell_type": "code",
      "execution_count": 8,
      "metadata": {},
      "outputs": [
        {
          "data": {
            "text/plain": [
              "(9200, 21, 20)"
            ]
          },
          "execution_count": 8,
          "metadata": {},
          "output_type": "execute_result"
        }
      ],
      "source": [
        "train_x.shape"
      ]
    },
    {
      "cell_type": "markdown",
      "metadata": {},
      "source": [
        "#### RNN  model training\n",
        "Default parameterization:Here the model is applied to aa-nor_package learning process, as details"
      ]
    },
    {
      "cell_type": "code",
      "execution_count": 11,
      "metadata": {},
      "outputs": [
        {
          "name": "stdout",
          "output_type": "stream",
          "text": [
            "Epoch 1/300\n",
            "144/144 - 19s - loss: 8.2584 - mae: 1.9502 - val_loss: 7.9374 - val_mae: 1.9830 - 19s/epoch - 132ms/step\n",
            "Epoch 2/300\n",
            "144/144 - 15s - loss: 8.2279 - mae: 1.9453 - val_loss: 7.8534 - val_mae: 1.9625 - 15s/epoch - 105ms/step\n",
            "Epoch 3/300\n",
            "144/144 - 15s - loss: 8.2208 - mae: 1.9469 - val_loss: 7.6965 - val_mae: 1.9263 - 15s/epoch - 103ms/step\n",
            "Epoch 4/300\n",
            "144/144 - 15s - loss: 8.2183 - mae: 1.9427 - val_loss: 7.6994 - val_mae: 1.9262 - 15s/epoch - 104ms/step\n",
            "Epoch 5/300\n",
            "144/144 - 15s - loss: 8.2086 - mae: 1.9432 - val_loss: 7.6698 - val_mae: 1.9188 - 15s/epoch - 106ms/step\n",
            "Epoch 6/300\n",
            "144/144 - 17s - loss: 8.2127 - mae: 1.9426 - val_loss: 7.6802 - val_mae: 1.9228 - 17s/epoch - 116ms/step\n",
            "Epoch 7/300\n",
            "144/144 - 15s - loss: 8.1974 - mae: 1.9422 - val_loss: 7.7137 - val_mae: 1.9335 - 15s/epoch - 106ms/step\n",
            "Epoch 8/300\n",
            "144/144 - 15s - loss: 8.1986 - mae: 1.9429 - val_loss: 7.6917 - val_mae: 1.9262 - 15s/epoch - 102ms/step\n",
            "Epoch 9/300\n",
            "144/144 - 15s - loss: 8.1990 - mae: 1.9412 - val_loss: 7.6848 - val_mae: 1.9265 - 15s/epoch - 105ms/step\n",
            "Epoch 10/300\n",
            "144/144 - 15s - loss: 8.1889 - mae: 1.9392 - val_loss: 7.6809 - val_mae: 1.9289 - 15s/epoch - 106ms/step\n",
            "Epoch 11/300\n",
            "144/144 - 14s - loss: 8.1867 - mae: 1.9418 - val_loss: 7.6684 - val_mae: 1.9218 - 14s/epoch - 100ms/step\n",
            "Epoch 12/300\n",
            "144/144 - 15s - loss: 8.1918 - mae: 1.9393 - val_loss: 7.6671 - val_mae: 1.9213 - 15s/epoch - 102ms/step\n",
            "Epoch 13/300\n",
            "144/144 - 15s - loss: 8.1849 - mae: 1.9439 - val_loss: 7.7136 - val_mae: 1.9256 - 15s/epoch - 102ms/step\n",
            "Epoch 14/300\n",
            "144/144 - 15s - loss: 8.1847 - mae: 1.9381 - val_loss: 7.6980 - val_mae: 1.9307 - 15s/epoch - 105ms/step\n",
            "Epoch 15/300\n",
            "144/144 - 16s - loss: 8.1780 - mae: 1.9388 - val_loss: 7.6866 - val_mae: 1.9282 - 16s/epoch - 108ms/step\n",
            "Epoch 16/300\n",
            "144/144 - 19s - loss: 8.1822 - mae: 1.9377 - val_loss: 7.6895 - val_mae: 1.9282 - 19s/epoch - 130ms/step\n",
            "Epoch 17/300\n",
            "144/144 - 20s - loss: 8.1737 - mae: 1.9392 - val_loss: 7.6784 - val_mae: 1.9257 - 20s/epoch - 136ms/step\n",
            "Epoch 18/300\n",
            "144/144 - 20s - loss: 8.1783 - mae: 1.9393 - val_loss: 7.6797 - val_mae: 1.9221 - 20s/epoch - 138ms/step\n",
            "Epoch 19/300\n",
            "144/144 - 20s - loss: 8.1732 - mae: 1.9387 - val_loss: 7.6820 - val_mae: 1.9250 - 20s/epoch - 137ms/step\n",
            "Epoch 20/300\n",
            "144/144 - 20s - loss: 8.1738 - mae: 1.9387 - val_loss: 7.6936 - val_mae: 1.9280 - 20s/epoch - 137ms/step\n",
            "Epoch 21/300\n",
            "144/144 - 20s - loss: 8.1716 - mae: 1.9402 - val_loss: 7.7189 - val_mae: 1.9360 - 20s/epoch - 138ms/step\n",
            "Epoch 22/300\n",
            "144/144 - 19s - loss: 8.1670 - mae: 1.9393 - val_loss: 7.7089 - val_mae: 1.9338 - 19s/epoch - 131ms/step\n",
            "Epoch 23/300\n",
            "144/144 - 19s - loss: 8.1615 - mae: 1.9384 - val_loss: 7.6789 - val_mae: 1.9250 - 19s/epoch - 131ms/step\n",
            "Epoch 24/300\n",
            "144/144 - 19s - loss: 8.1554 - mae: 1.9361 - val_loss: 7.7654 - val_mae: 1.9476 - 19s/epoch - 133ms/step\n",
            "Epoch 25/300\n",
            "144/144 - 19s - loss: 8.1631 - mae: 1.9386 - val_loss: 7.6705 - val_mae: 1.9270 - 19s/epoch - 133ms/step\n",
            "Epoch 26/300\n",
            "144/144 - 19s - loss: 8.1610 - mae: 1.9367 - val_loss: 7.6854 - val_mae: 1.9296 - 19s/epoch - 133ms/step\n",
            "Epoch 27/300\n",
            "144/144 - 20s - loss: 8.1488 - mae: 1.9390 - val_loss: 7.7359 - val_mae: 1.9330 - 20s/epoch - 136ms/step\n",
            "Epoch 28/300\n",
            "144/144 - 19s - loss: 8.1509 - mae: 1.9382 - val_loss: 7.7320 - val_mae: 1.9415 - 19s/epoch - 133ms/step\n",
            "Epoch 29/300\n",
            "144/144 - 19s - loss: 8.1393 - mae: 1.9377 - val_loss: 7.7547 - val_mae: 1.9406 - 19s/epoch - 129ms/step\n",
            "Epoch 30/300\n",
            "144/144 - 19s - loss: 8.1473 - mae: 1.9392 - val_loss: 7.7581 - val_mae: 1.9409 - 19s/epoch - 133ms/step\n",
            "Epoch 31/300\n",
            "144/144 - 18s - loss: 8.1366 - mae: 1.9374 - val_loss: 7.6957 - val_mae: 1.9252 - 18s/epoch - 128ms/step\n",
            "Epoch 32/300\n",
            "144/144 - 19s - loss: 8.1189 - mae: 1.9346 - val_loss: 7.6942 - val_mae: 1.9344 - 19s/epoch - 129ms/step\n",
            "Epoch 33/300\n",
            "144/144 - 20s - loss: 8.1035 - mae: 1.9335 - val_loss: 7.7524 - val_mae: 1.9382 - 20s/epoch - 136ms/step\n",
            "Epoch 34/300\n",
            "144/144 - 20s - loss: 8.0971 - mae: 1.9348 - val_loss: 7.8141 - val_mae: 1.9543 - 20s/epoch - 136ms/step\n",
            "Epoch 35/300\n",
            "144/144 - 19s - loss: 8.0860 - mae: 1.9347 - val_loss: 7.7889 - val_mae: 1.9457 - 19s/epoch - 132ms/step\n",
            "Epoch 36/300\n",
            "144/144 - 18s - loss: 8.0813 - mae: 1.9352 - val_loss: 7.7627 - val_mae: 1.9386 - 18s/epoch - 126ms/step\n",
            "Epoch 37/300\n",
            "144/144 - 18s - loss: 8.0727 - mae: 1.9334 - val_loss: 7.8423 - val_mae: 1.9612 - 18s/epoch - 125ms/step\n",
            "Epoch 38/300\n",
            "144/144 - 19s - loss: 8.0566 - mae: 1.9338 - val_loss: 7.7559 - val_mae: 1.9379 - 19s/epoch - 129ms/step\n",
            "Epoch 39/300\n",
            "144/144 - 14s - loss: 7.9991 - mae: 1.9283 - val_loss: 7.8996 - val_mae: 1.9659 - 14s/epoch - 96ms/step\n",
            "Epoch 40/300\n",
            "144/144 - 13s - loss: 8.0097 - mae: 1.9303 - val_loss: 7.8633 - val_mae: 1.9640 - 13s/epoch - 92ms/step\n",
            "Epoch 41/300\n",
            "144/144 - 13s - loss: 7.9451 - mae: 1.9267 - val_loss: 7.9257 - val_mae: 1.9727 - 13s/epoch - 92ms/step\n",
            "Epoch 42/300\n",
            "144/144 - 14s - loss: 7.9321 - mae: 1.9280 - val_loss: 8.0532 - val_mae: 1.9909 - 14s/epoch - 96ms/step\n",
            "Epoch 43/300\n",
            "144/144 - 13s - loss: 7.8754 - mae: 1.9221 - val_loss: 7.9558 - val_mae: 2.0008 - 13s/epoch - 94ms/step\n",
            "Epoch 44/300\n",
            "144/144 - 13s - loss: 7.8271 - mae: 1.9185 - val_loss: 8.1173 - val_mae: 2.0256 - 13s/epoch - 92ms/step\n",
            "Epoch 45/300\n",
            "144/144 - 13s - loss: 7.7762 - mae: 1.9226 - val_loss: 8.1277 - val_mae: 2.0274 - 13s/epoch - 89ms/step\n",
            "Epoch 46/300\n",
            "144/144 - 13s - loss: 7.6983 - mae: 1.9076 - val_loss: 8.0156 - val_mae: 2.0162 - 13s/epoch - 87ms/step\n",
            "Epoch 47/300\n",
            "144/144 - 13s - loss: 7.6163 - mae: 1.9058 - val_loss: 8.3077 - val_mae: 2.0611 - 13s/epoch - 91ms/step\n",
            "Epoch 48/300\n",
            "144/144 - 13s - loss: 7.4784 - mae: 1.8927 - val_loss: 8.5070 - val_mae: 2.1071 - 13s/epoch - 91ms/step\n",
            "Epoch 49/300\n",
            "144/144 - 13s - loss: 7.3554 - mae: 1.8832 - val_loss: 8.2990 - val_mae: 2.0563 - 13s/epoch - 91ms/step\n",
            "Epoch 50/300\n",
            "144/144 - 17s - loss: 7.1952 - mae: 1.8666 - val_loss: 8.5544 - val_mae: 2.1166 - 17s/epoch - 119ms/step\n",
            "Epoch 51/300\n",
            "144/144 - 22s - loss: 7.0140 - mae: 1.8563 - val_loss: 8.8987 - val_mae: 2.1777 - 22s/epoch - 153ms/step\n",
            "Epoch 52/300\n",
            "144/144 - 24s - loss: 6.7732 - mae: 1.8368 - val_loss: 8.8431 - val_mae: 2.1581 - 24s/epoch - 163ms/step\n",
            "Epoch 53/300\n",
            "144/144 - 23s - loss: 6.5288 - mae: 1.8085 - val_loss: 9.2972 - val_mae: 2.2794 - 23s/epoch - 161ms/step\n",
            "Epoch 54/300\n",
            "144/144 - 23s - loss: 6.2937 - mae: 1.7854 - val_loss: 9.4039 - val_mae: 2.2635 - 23s/epoch - 160ms/step\n",
            "Epoch 55/300\n",
            "144/144 - 23s - loss: 5.8908 - mae: 1.7408 - val_loss: 9.1040 - val_mae: 2.2374 - 23s/epoch - 161ms/step\n",
            "Epoch 56/300\n",
            "144/144 - 23s - loss: 5.5768 - mae: 1.7126 - val_loss: 9.5191 - val_mae: 2.2793 - 23s/epoch - 160ms/step\n",
            "Epoch 57/300\n",
            "144/144 - 23s - loss: 5.0768 - mae: 1.6431 - val_loss: 9.8087 - val_mae: 2.3291 - 23s/epoch - 159ms/step\n",
            "Epoch 58/300\n",
            "144/144 - 24s - loss: 4.5815 - mae: 1.5722 - val_loss: 9.8772 - val_mae: 2.3276 - 24s/epoch - 164ms/step\n",
            "Epoch 59/300\n",
            "144/144 - 23s - loss: 4.0882 - mae: 1.4960 - val_loss: 10.9405 - val_mae: 2.4517 - 23s/epoch - 159ms/step\n",
            "Epoch 60/300\n",
            "144/144 - 23s - loss: 3.5625 - mae: 1.4146 - val_loss: 11.5309 - val_mae: 2.5128 - 23s/epoch - 159ms/step\n",
            "Epoch 61/300\n",
            "144/144 - 23s - loss: 3.0748 - mae: 1.3123 - val_loss: 11.4512 - val_mae: 2.5369 - 23s/epoch - 159ms/step\n",
            "Epoch 62/300\n",
            "144/144 - 23s - loss: 2.6048 - mae: 1.2182 - val_loss: 11.9240 - val_mae: 2.5850 - 23s/epoch - 159ms/step\n",
            "Epoch 63/300\n",
            "144/144 - 23s - loss: 2.1258 - mae: 1.1042 - val_loss: 12.3225 - val_mae: 2.6114 - 23s/epoch - 158ms/step\n",
            "Epoch 64/300\n",
            "144/144 - 24s - loss: 1.7515 - mae: 1.0082 - val_loss: 11.7017 - val_mae: 2.5567 - 24s/epoch - 163ms/step\n",
            "Epoch 65/300\n",
            "144/144 - 23s - loss: 1.4321 - mae: 0.9092 - val_loss: 12.8594 - val_mae: 2.6652 - 23s/epoch - 158ms/step\n",
            "Epoch 66/300\n",
            "144/144 - 23s - loss: 1.2015 - mae: 0.8321 - val_loss: 12.3874 - val_mae: 2.6210 - 23s/epoch - 157ms/step\n",
            "Epoch 67/300\n",
            "144/144 - 23s - loss: 0.9690 - mae: 0.7470 - val_loss: 12.9722 - val_mae: 2.6585 - 23s/epoch - 159ms/step\n",
            "Epoch 68/300\n",
            "144/144 - 23s - loss: 0.7865 - mae: 0.6763 - val_loss: 12.8374 - val_mae: 2.6694 - 23s/epoch - 158ms/step\n",
            "Epoch 69/300\n",
            "144/144 - 23s - loss: 0.6611 - mae: 0.6172 - val_loss: 12.7828 - val_mae: 2.6326 - 23s/epoch - 159ms/step\n",
            "Epoch 70/300\n",
            "144/144 - 23s - loss: 0.5612 - mae: 0.5668 - val_loss: 12.7268 - val_mae: 2.6460 - 23s/epoch - 157ms/step\n",
            "Epoch 71/300\n",
            "144/144 - 23s - loss: 0.4709 - mae: 0.5204 - val_loss: 12.7903 - val_mae: 2.6416 - 23s/epoch - 160ms/step\n",
            "Epoch 72/300\n",
            "144/144 - 23s - loss: 0.4223 - mae: 0.4898 - val_loss: 12.8887 - val_mae: 2.6577 - 23s/epoch - 159ms/step\n",
            "Epoch 73/300\n",
            "144/144 - 23s - loss: 0.3719 - mae: 0.4605 - val_loss: 12.6185 - val_mae: 2.6264 - 23s/epoch - 157ms/step\n",
            "Epoch 74/300\n",
            "144/144 - 23s - loss: 0.3130 - mae: 0.4245 - val_loss: 12.6191 - val_mae: 2.6222 - 23s/epoch - 157ms/step\n",
            "Epoch 75/300\n",
            "144/144 - 24s - loss: 0.2989 - mae: 0.4130 - val_loss: 12.9792 - val_mae: 2.6551 - 24s/epoch - 163ms/step\n",
            "Epoch 76/300\n",
            "144/144 - 23s - loss: 0.2830 - mae: 0.4013 - val_loss: 12.7115 - val_mae: 2.6571 - 23s/epoch - 162ms/step\n",
            "Epoch 77/300\n",
            "144/144 - 23s - loss: 0.2467 - mae: 0.3732 - val_loss: 12.7370 - val_mae: 2.6551 - 23s/epoch - 157ms/step\n",
            "Epoch 78/300\n",
            "144/144 - 23s - loss: 0.2396 - mae: 0.3716 - val_loss: 12.6225 - val_mae: 2.6271 - 23s/epoch - 158ms/step\n",
            "Epoch 79/300\n",
            "144/144 - 23s - loss: 0.2288 - mae: 0.3630 - val_loss: 12.3017 - val_mae: 2.6051 - 23s/epoch - 157ms/step\n",
            "Epoch 80/300\n",
            "144/144 - 23s - loss: 0.2315 - mae: 0.3655 - val_loss: 12.2636 - val_mae: 2.6005 - 23s/epoch - 156ms/step\n",
            "Epoch 81/300\n",
            "144/144 - 22s - loss: 0.2290 - mae: 0.3634 - val_loss: 12.3453 - val_mae: 2.5932 - 22s/epoch - 156ms/step\n",
            "Epoch 82/300\n",
            "144/144 - 23s - loss: 0.2226 - mae: 0.3578 - val_loss: 12.1841 - val_mae: 2.6109 - 23s/epoch - 157ms/step\n",
            "Epoch 83/300\n",
            "144/144 - 22s - loss: 0.2078 - mae: 0.3458 - val_loss: 12.1698 - val_mae: 2.5745 - 22s/epoch - 155ms/step\n",
            "Epoch 84/300\n",
            "144/144 - 22s - loss: 0.2044 - mae: 0.3430 - val_loss: 12.0267 - val_mae: 2.5809 - 22s/epoch - 156ms/step\n",
            "Epoch 85/300\n",
            "144/144 - 22s - loss: 0.2038 - mae: 0.3410 - val_loss: 11.9230 - val_mae: 2.5592 - 22s/epoch - 155ms/step\n",
            "Epoch 86/300\n",
            "144/144 - 22s - loss: 0.1988 - mae: 0.3374 - val_loss: 12.4115 - val_mae: 2.6068 - 22s/epoch - 155ms/step\n",
            "Epoch 87/300\n",
            "144/144 - 22s - loss: 0.1951 - mae: 0.3379 - val_loss: 12.1742 - val_mae: 2.5981 - 22s/epoch - 156ms/step\n",
            "Epoch 88/300\n",
            "144/144 - 22s - loss: 0.1912 - mae: 0.3332 - val_loss: 12.2027 - val_mae: 2.5943 - 22s/epoch - 156ms/step\n",
            "Epoch 89/300\n",
            "144/144 - 23s - loss: 0.1925 - mae: 0.3356 - val_loss: 11.7996 - val_mae: 2.5567 - 23s/epoch - 156ms/step\n",
            "Epoch 90/300\n",
            "144/144 - 22s - loss: 0.1915 - mae: 0.3333 - val_loss: 12.0454 - val_mae: 2.5774 - 22s/epoch - 156ms/step\n",
            "Epoch 91/300\n",
            "144/144 - 22s - loss: 0.1974 - mae: 0.3395 - val_loss: 11.9484 - val_mae: 2.5728 - 22s/epoch - 155ms/step\n",
            "Epoch 92/300\n",
            "144/144 - 22s - loss: 0.1949 - mae: 0.3372 - val_loss: 11.9070 - val_mae: 2.5586 - 22s/epoch - 155ms/step\n",
            "Epoch 93/300\n",
            "144/144 - 23s - loss: 0.2089 - mae: 0.3475 - val_loss: 11.7380 - val_mae: 2.5449 - 23s/epoch - 158ms/step\n",
            "Epoch 94/300\n",
            "144/144 - 14s - loss: 0.2016 - mae: 0.3417 - val_loss: 11.9308 - val_mae: 2.5585 - 14s/epoch - 98ms/step\n",
            "Epoch 95/300\n",
            "144/144 - 12s - loss: 0.1889 - mae: 0.3339 - val_loss: 11.5827 - val_mae: 2.5276 - 12s/epoch - 83ms/step\n",
            "Epoch 96/300\n",
            "144/144 - 12s - loss: 0.1677 - mae: 0.3127 - val_loss: 11.5433 - val_mae: 2.5271 - 12s/epoch - 84ms/step\n",
            "Epoch 97/300\n",
            "144/144 - 12s - loss: 0.1538 - mae: 0.2985 - val_loss: 11.6057 - val_mae: 2.5522 - 12s/epoch - 84ms/step\n",
            "Epoch 98/300\n",
            "144/144 - 12s - loss: 0.1458 - mae: 0.2895 - val_loss: 11.4898 - val_mae: 2.5337 - 12s/epoch - 84ms/step\n"
          ]
        },
        {
          "name": "stderr",
          "output_type": "stream",
          "text": [
            "d:\\ProgramData\\anaconda3\\envs\\tf\\lib\\site-packages\\keras\\src\\engine\\training.py:3000: UserWarning: You are saving your model as an HDF5 file via `model.save()`. This file format is considered legacy. We recommend using instead the native Keras format, e.g. `model.save('my_model.keras')`.\n",
            "  saving_api.save_model(\n"
          ]
        }
      ],
      "source": [
        "# Training\n",
        "\n",
        "# Define model \n",
        "model = rnn_seq_model(L1=420, L2=60)\n",
        "\n",
        "# Training parameters \n",
        "batch_size = 64\n",
        "EpochCount = 300\n",
        "#EpochCount = 5 #Used for quick excusion of the Notebook; please use a higher number instead to allow proper convergence\n",
        "\n",
        "# train model \n",
        "model.fit(train_x, train_y, batch_size=batch_size, epochs=EpochCount, \n",
        "          validation_data=(validate_x, validate_y),verbose=2,\n",
        "              callbacks=[CustomEarlyStopping(ratio=0.90, patience=50, restore_best_weights = True)])\n",
        "\n",
        "# Save model\n",
        "ModelFileName = 'pretrain/model_1st_rnn_seq_nor_transduction'\n",
        "model.save(ModelFileName+'.h5')"
      ]
    },
    {
      "cell_type": "markdown",
      "metadata": {},
      "source": [
        "#### Model validation\n",
        "· `Train-data validation` \n",
        "\n"
      ]
    },
    {
      "cell_type": "code",
      "execution_count": null,
      "metadata": {
        "ExecuteTime": {
          "end_time": "2021-06-15T18:02:53.571538Z",
          "start_time": "2021-06-15T18:02:46.205042Z"
        }
      },
      "outputs": [
        {
          "name": "stdout",
          "output_type": "stream",
          "text": [
            "288/288 [==============================] - 1s 2ms/step\n"
          ]
        },
        {
          "data": {
            "text/plain": [
              "0.8357217599890905"
            ]
          },
          "execution_count": 7,
          "metadata": {},
          "output_type": "execute_result"
        }
      ],
      "source": [
        "\n",
        "# Predict for train variants\n",
        "y = model.predict(train_x)\n",
        "x = np.array(train_y)\n",
        "y = np.reshape(y, (1,y.shape[0]))[0]\n",
        "preds_df = pd.DataFrame(columns=['y_pred','y_true'])\n",
        "preds_df['y_pred'] = pd.DataFrame(y)\n",
        "preds_df['y_true']  = pd.DataFrame(x)\n",
        "preds_df['y_pred'].corr(preds_df['y_true'])\n"
      ]
    },
    {
      "cell_type": "code",
      "execution_count": null,
      "metadata": {},
      "outputs": [],
      "source": [
        "x = preds_df['y_pred']  \n",
        "y = preds_df['y_true']   \n",
        "\n",
        "remove = np.isinf(x) & np.isinf(y)\n",
        "x = x[~remove]\n",
        "y = y[~remove]\n",
        "\n",
        "keep = (~np.isinf(x)) & (~np.isinf(y))\n",
        "x_both = x[keep]\n",
        "y_both = y[keep]\n",
        "\n",
        "y_missing = y[np.isinf(x)]\n",
        "x_missing = x[np.isinf(y)]\n",
        "\n",
        "\n",
        "kernel = gaussian_kde(np.vstack([\n",
        "    x_both.sample(n=2000, random_state=1), \n",
        "    y_both.sample(n=2000, random_state=1)\n",
        "]))\n",
        "c_both = kernel(np.vstack([x_both.values, y_both.values]))\n"
      ]
    },
    {
      "cell_type": "code",
      "execution_count": null,
      "metadata": {},
      "outputs": [
        {
          "name": "stderr",
          "output_type": "stream",
          "text": [
            "d:\\ProgramData\\anaconda3\\envs\\tf\\lib\\site-packages\\numpy\\lib\\histograms.py:906: RuntimeWarning: invalid value encountered in divide\n",
            "  return n/db/n.sum(), bin_edges\n",
            "meta NOT subset; don't know how to subset; dropped\n"
          ]
        },
        {
          "data": {
            "image/png": "[encoded data removed]",
            "text/plain": [
              "<Figure size 210x195 with 4 Axes>"
            ]
          },
          "metadata": {},
          "output_type": "display_data"
        }
      ],
      "source": [
        "fig = plt.figure(figsize=(1.4,1.3), dpi=150)\n",
        "gs = fig.add_gridspec(2, 2, left=0.275, right=0.95, bottom=0.22, top=0.95, \n",
        "                      width_ratios=[1, 6], height_ratios=[6, 1], hspace=0., wspace=0)\n",
        "ax = fig.add_subplot(gs[0, 1])\n",
        "ax.scatter(x_both, y_both, c=c_both, cmap=mpl.cm.inferno, s=0.2, edgecolor='none', rasterized=True)\n",
        "ax.set_xticks([]); ax.set_yticks([])\n",
        "xlim = [-11, 12]\n",
        "bins = np.linspace(*xlim, 25)\n",
        "ax.set_xlim(xlim); ax.set_ylim(xlim)\n",
        "ax.text(0.03, 0.97, r'$r$ = {:.4f}'.format(np.corrcoef(x_both, y_both)[0, 1]),\n",
        "       transform=ax.transAxes, ha='left', va='top', fontsize=7)\n",
        "\n",
        "ax.text(0.97, 0.01, 'n={}'.format(si_format(len(x_both)), precision=2, format_str='{value}{prefix}',), \n",
        "        transform=ax.transAxes, ha='right', va='bottom', fontsize=7)\n",
        "\n",
        "# Left Marginal\n",
        "ax = fig.add_subplot(gs[0, 0])\n",
        "ax.hist(y_missing, bins=bins, edgecolor='none', orientation='horizontal', density=True, color='r')\n",
        "ax.set_ylim(xlim)\n",
        "ax.set_xticks([]); ax.set_yticks([-5, 0, 5, 10, 15,20])\n",
        "ax.text(0.97, 0.97, 'n={}'.format(si_format(len(y_missing)), precision=2, format_str='{value}{prefix}',), \n",
        "        transform=ax.transAxes, ha='right', va='top', fontsize=7, rotation=90, color='r')\n",
        "ax.set_ylabel('Prediction', labelpad=2,fontsize=8)\n",
        "ax.tick_params(axis='both', labelsize=7, length=2, pad=1)\n",
        "\n",
        "# Bottom Marginal\n",
        "ax = fig.add_subplot(gs[1, 1])\n",
        "ax.hist(x_missing, bins=bins, edgecolor='none', density=True, color='r')\n",
        "ax.set_xlim(xlim)\n",
        "ax.set_xticks([-5, 0, 5, 10, 15,20]); ax.set_yticks([])\n",
        "ax.text(0.97, 0.8, 'n={}'.format(si_format(len(x_missing)), precision=2, format_str='{value}{prefix}',), \n",
        "        transform=ax.transAxes, ha='right', va='top', fontsize=7, color='r')\n",
        "ax.set_xlabel('Truth', labelpad=2,fontsize=8)\n",
        "ax.tick_params(axis='both', labelsize=7, length=2, pad=1)\n",
        "\n",
        "# Missing label (not detected in either)\n",
        "ax = fig.add_subplot(gs[1, 0])\n",
        "for spine in ['bottom', 'left']:\n",
        "    ax.spines[spine].set_visible(False)\n",
        "ax.set_xticks([]); ax.set_yticks([])\n",
        "\n",
        "ax.text(0.8, 0.8, 'Missing', transform=ax.transAxes, color='r', ha='right', va='top', fontsize=7, clip_on=False)\n",
        "fig.savefig('../results/rnn/1st_results/nor_transduction/1st_seq_nor_transduction_prediction_correlation_train.pdf',dpi=300,bbox_inches='tight')"
      ]
    },
    {
      "cell_type": "code",
      "execution_count": null,
      "metadata": {},
      "outputs": [
        {
          "data": {
            "image/png": "[encoded data removed]",
            "text/plain": [
              "<Figure size 180x150 with 1 Axes>"
            ]
          },
          "metadata": {},
          "output_type": "display_data"
        }
      ],
      "source": [
        "data = np.array(preds_df['y_pred']) \n",
        "data = data.reshape(-1, 1)  # 将数据转换成列向量的形式\n",
        "\n",
        "# 使用GaussianMixture拟合数据\n",
        "n_components = 2 # 设置混合模型的分量个数\n",
        "gmm = GaussianMixture(n_components=n_components)\n",
        "gmm.fit(data)\n",
        "\n",
        "# 获取每个分量的均值和协方差矩阵\n",
        "means = gmm.means_\n",
        "covariances = gmm.covariances_\n",
        "\n",
        "# 生成拟合后的分布\n",
        "x = np.linspace(-7, 8, 100000)\n",
        "x = x.reshape(-1, 1)\n",
        "y = np.exp(gmm.score_samples(x))\n",
        "\n",
        "fig,ax = plt.subplots(figsize=(1.8,1.5),dpi=100)\n",
        "# 绘制原始数据和拟合后的分布\n",
        "plt.hist(data, bins=100, density=True, alpha=0.6, color = '#BAB3A3',label='Prediction')\n",
        "#plt.plot(x, y, '-r', label='GMM fit')\n",
        "\n",
        "\n",
        "# 绘制每个分量的正态分布\n",
        "for i in range(n_components):\n",
        "    component = np.exp(-(x - means[i]) ** 2 / (2 * covariances[i]))\n",
        "    component /= np.sqrt(2 * np.pi * covariances[i])\n",
        "    component *= gmm.weights_[i]\n",
        "    if i == 0:\n",
        "        ax.plot(x, component, '-', label=f'Distribution {i + 1}', color='#F66E68', alpha=1)\n",
        "        ax.fill_between(x.flatten(), 0, component.flatten(), color='#F66E68', alpha=0.4)\n",
        "    else:\n",
        "        ax.plot(x, component, '-', label=f'Distribution {i + 1}', color='#457B9D', alpha=1)\n",
        "        ax.fill_between(x.flatten(), 0, component.flatten(), color='#457B9D', alpha=0.4)\n",
        "\n",
        "\n",
        "plt.title('Prediction',fontsize=10)\n",
        "ax.tick_params(axis='both', which='both', length=2,labelsize=10)\n",
        "ax.set_xticks([-5, 0, 5, ]); \n",
        "# ax.set_yticks([])\n",
        "plt.ylabel('Density',labelpad=1,fontsize=10)\n",
        "plt.xlabel('Nor_package',labelpad=1,fontsize=10)\n",
        "plt.legend(fontsize=7,frameon=False)\n",
        "fig.savefig('../results/rnn/1st_results/nor_transduction/1st_seq_nor_transduction_prediction_distribution_train.pdf',dpi=300,bbox_inches='tight')"
      ]
    },
    {
      "cell_type": "markdown",
      "metadata": {},
      "source": [
        "· `Test-data validation` "
      ]
    },
    {
      "cell_type": "code",
      "execution_count": null,
      "metadata": {},
      "outputs": [
        {
          "name": "stdout",
          "output_type": "stream",
          "text": [
            "186/186 [==============================] - 0s 2ms/step\n"
          ]
        },
        {
          "data": {
            "text/html": [
              "<div>\n",
              "<style scoped>\n",
              "    .dataframe tbody tr th:only-of-type {\n",
              "        vertical-align: middle;\n",
              "    }\n",
              "\n",
              "    .dataframe tbody tr th {\n",
              "        vertical-align: top;\n",
              "    }\n",
              "\n",
              "    .dataframe thead th {\n",
              "        text-align: right;\n",
              "    }\n",
              "</style>\n",
              "<table border=\"1\" class=\"dataframe\">\n",
              "  <thead>\n",
              "    <tr style=\"text-align: right;\">\n",
              "      <th></th>\n",
              "      <th>y_pred</th>\n",
              "      <th>y_true</th>\n",
              "    </tr>\n",
              "  </thead>\n",
              "  <tbody>\n",
              "    <tr>\n",
              "      <th>0</th>\n",
              "      <td>-4.015704</td>\n",
              "      <td>-3.65218</td>\n",
              "    </tr>\n",
              "    <tr>\n",
              "      <th>1</th>\n",
              "      <td>-0.227657</td>\n",
              "      <td>-1.86685</td>\n",
              "    </tr>\n",
              "    <tr>\n",
              "      <th>2</th>\n",
              "      <td>-3.742590</td>\n",
              "      <td>-3.93156</td>\n",
              "    </tr>\n",
              "    <tr>\n",
              "      <th>3</th>\n",
              "      <td>-0.873402</td>\n",
              "      <td>2.40844</td>\n",
              "    </tr>\n",
              "    <tr>\n",
              "      <th>4</th>\n",
              "      <td>-0.077202</td>\n",
              "      <td>-1.34405</td>\n",
              "    </tr>\n",
              "    <tr>\n",
              "      <th>...</th>\n",
              "      <td>...</td>\n",
              "      <td>...</td>\n",
              "    </tr>\n",
              "    <tr>\n",
              "      <th>5918</th>\n",
              "      <td>0.947092</td>\n",
              "      <td>1.27066</td>\n",
              "    </tr>\n",
              "    <tr>\n",
              "      <th>5919</th>\n",
              "      <td>-3.823211</td>\n",
              "      <td>-4.75909</td>\n",
              "    </tr>\n",
              "    <tr>\n",
              "      <th>5920</th>\n",
              "      <td>-2.555281</td>\n",
              "      <td>-1.30822</td>\n",
              "    </tr>\n",
              "    <tr>\n",
              "      <th>5921</th>\n",
              "      <td>-4.167810</td>\n",
              "      <td>-3.99613</td>\n",
              "    </tr>\n",
              "    <tr>\n",
              "      <th>5922</th>\n",
              "      <td>-3.629791</td>\n",
              "      <td>-3.70662</td>\n",
              "    </tr>\n",
              "  </tbody>\n",
              "</table>\n",
              "<p>5923 rows × 2 columns</p>\n",
              "</div>"
            ],
            "text/plain": [
              "        y_pred   y_true\n",
              "0    -4.015704 -3.65218\n",
              "1    -0.227657 -1.86685\n",
              "2    -3.742590 -3.93156\n",
              "3    -0.873402  2.40844\n",
              "4    -0.077202 -1.34405\n",
              "...        ...      ...\n",
              "5918  0.947092  1.27066\n",
              "5919 -3.823211 -4.75909\n",
              "5920 -2.555281 -1.30822\n",
              "5921 -4.167810 -3.99613\n",
              "5922 -3.629791 -3.70662\n",
              "\n",
              "[5923 rows x 2 columns]"
            ]
          },
          "execution_count": 37,
          "metadata": {},
          "output_type": "execute_result"
        }
      ],
      "source": [
        "\n",
        "# Predict for test variants\n",
        "y = model.predict(test_x)\n",
        "x = np.array(test_y)\n",
        "y = np.reshape(y, (1,y.shape[0]))[0]\n",
        "preds_df = pd.DataFrame(columns=['y_pred','y_true'])\n",
        "preds_df['y_pred'] = pd.DataFrame(y)\n",
        "preds_df['y_true']  = pd.DataFrame(x)\n",
        "preds_df \n"
      ]
    },
    {
      "cell_type": "code",
      "execution_count": null,
      "metadata": {},
      "outputs": [
        {
          "name": "stderr",
          "output_type": "stream",
          "text": [
            "d:\\ProgramData\\anaconda3\\envs\\tf\\lib\\site-packages\\numpy\\lib\\histograms.py:906: RuntimeWarning: invalid value encountered in divide\n",
            "  return n/db/n.sum(), bin_edges\n"
          ]
        },
        {
          "data": {
            "image/png": "[encoded data removed]",
            "text/plain": [
              "<Figure size 210x195 with 4 Axes>"
            ]
          },
          "metadata": {},
          "output_type": "display_data"
        }
      ],
      "source": [
        "x = preds_df['y_pred']  \n",
        "y = preds_df['y_true']   \n",
        "preds_df['y_pred'][:1000].corr(preds_df['y_true'][:1000])\n",
        "remove = np.isinf(x) & np.isinf(y)\n",
        "x = x[~remove]\n",
        "y = y[~remove]\n",
        "\n",
        "keep = (~np.isinf(x)) & (~np.isinf(y))\n",
        "x_both = x[keep]\n",
        "y_both = y[keep]\n",
        "\n",
        "y_missing = y[np.isinf(x)]\n",
        "x_missing = x[np.isinf(y)]\n",
        "\n",
        "\n",
        "kernel = gaussian_kde(np.vstack([\n",
        "    x_both.sample(n=2000, random_state=1), \n",
        "    y_both.sample(n=2000, random_state=1)\n",
        "]))\n",
        "c_both = kernel(np.vstack([x_both.values, y_both.values]))\n",
        "\n",
        "fig = plt.figure(figsize=(1.4,1.3), dpi=150)\n",
        "gs = fig.add_gridspec(2, 2, left=0.275, right=0.95, bottom=0.22, top=0.95, \n",
        "                      width_ratios=[1, 6], height_ratios=[6, 1], hspace=0., wspace=0)\n",
        "ax = fig.add_subplot(gs[0, 1])\n",
        "ax.scatter(x_both, y_both, c=c_both, cmap=mpl.cm.inferno, s=0.2, edgecolor='none', rasterized=True)\n",
        "ax.set_xticks([]); ax.set_yticks([])\n",
        "xlim = [-11, 12]\n",
        "bins = np.linspace(*xlim, 25)\n",
        "ax.set_xlim(xlim); ax.set_ylim(xlim)\n",
        "ax.text(0.03, 0.97, r'$r$ = {:.4f}'.format(np.corrcoef(x_both, y_both)[0, 1]),\n",
        "       transform=ax.transAxes, ha='left', va='top', fontsize=7)\n",
        "\n",
        "ax.text(0.97, 0.01, 'n={}'.format(si_format(len(x_both)), precision=2, format_str='{value}{prefix}',), \n",
        "        transform=ax.transAxes, ha='right', va='bottom', fontsize=7)\n",
        "\n",
        "# Left Marginal\n",
        "ax = fig.add_subplot(gs[0, 0])\n",
        "ax.hist(y_missing, bins=bins, edgecolor='none', orientation='horizontal', density=True, color='r')\n",
        "ax.set_ylim(xlim)\n",
        "ax.set_xticks([]); ax.set_yticks([-5, 0, 5, 10, 15,20])\n",
        "ax.text(0.97, 0.97, 'n={}'.format(si_format(len(y_missing)), precision=2, format_str='{value}{prefix}',), \n",
        "        transform=ax.transAxes, ha='right', va='top', fontsize=7, rotation=90, color='r')\n",
        "ax.set_ylabel('Prediction', labelpad=2,fontsize=8)\n",
        "ax.tick_params(axis='both', labelsize=7, length=2, pad=1)\n",
        "\n",
        "# Bottom Marginal\n",
        "ax = fig.add_subplot(gs[1, 1])\n",
        "ax.hist(x_missing, bins=bins, edgecolor='none', density=True, color='r')\n",
        "ax.set_xlim(xlim)\n",
        "ax.set_xticks([-5, 0, 5, 10, 15,20]); ax.set_yticks([])\n",
        "ax.text(0.97, 0.8, 'n={}'.format(si_format(len(x_missing)), precision=2, format_str='{value}{prefix}',), \n",
        "        transform=ax.transAxes, ha='right', va='top', fontsize=7, color='r')\n",
        "ax.set_xlabel('Truth', labelpad=2,fontsize=8)\n",
        "ax.tick_params(axis='both', labelsize=6, length=2, pad=1)\n",
        "\n",
        "# Missing label (not detected in either)\n",
        "ax = fig.add_subplot(gs[1, 0])\n",
        "for spine in ['bottom', 'left']:\n",
        "    ax.spines[spine].set_visible(False)\n",
        "ax.set_xticks([]); ax.set_yticks([])\n",
        "\n",
        "ax.text(0.8, 0.8, 'Missing', transform=ax.transAxes, color='r', ha='right', va='top', fontsize=7, clip_on=False)\n",
        "fig.savefig('../results/rnn/1st_results/nor_transduction/1st_seq_nor_transduction_prediction_correlation_test.pdf',dpi=300,bbox_inches='tight')"
      ]
    },
    {
      "cell_type": "code",
      "execution_count": null,
      "metadata": {
        "ExecuteTime": {
          "end_time": "2021-06-15T18:04:49.108828Z",
          "start_time": "2021-06-15T18:04:38.468240Z"
        }
      },
      "outputs": [
        {
          "data": {
            "image/png": "[encoded data removed]",
            "text/plain": [
              "<Figure size 180x150 with 1 Axes>"
            ]
          },
          "metadata": {},
          "output_type": "display_data"
        }
      ],
      "source": [
        "data = np.array(preds_df['y_pred']) \n",
        "data = data.reshape(-1, 1)  # 将数据转换成列向量的形式\n",
        "\n",
        "# 使用GaussianMixture拟合数据\n",
        "n_components = 2 # 设置混合模型的分量个数\n",
        "gmm = GaussianMixture(n_components=n_components)\n",
        "gmm.fit(data)\n",
        "\n",
        "# 获取每个分量的均值和协方差矩阵\n",
        "means = gmm.means_\n",
        "covariances = gmm.covariances_\n",
        "\n",
        "# 生成拟合后的分布\n",
        "x = np.linspace(-7, 8, 100000)\n",
        "x = x.reshape(-1, 1)\n",
        "y = np.exp(gmm.score_samples(x))\n",
        "\n",
        "fig,ax = plt.subplots(figsize=(1.8,1.5),dpi=100)\n",
        "# 绘制原始数据和拟合后的分布\n",
        "plt.hist(data, bins=100, density=True, alpha=0.6, color = '#BAB3A3',label='Prediction')\n",
        "#plt.plot(x, y, '-r', label='GMM fit')\n",
        "\n",
        "\n",
        "# 绘制每个分量的正态分布\n",
        "for i in range(n_components):\n",
        "    component = np.exp(-(x - means[i]) ** 2 / (2 * covariances[i]))\n",
        "    component /= np.sqrt(2 * np.pi * covariances[i])\n",
        "    component *= gmm.weights_[i]\n",
        "    if i == 0:\n",
        "        ax.plot(x, component, '-', label=f'Distribution {i + 1}', color='#F66E68', alpha=1)\n",
        "        ax.fill_between(x.flatten(), 0, component.flatten(), color='#F66E68', alpha=0.4)\n",
        "    else:\n",
        "        ax.plot(x, component, '-', label=f'Distribution {i + 1}', color='#457B9D', alpha=1)\n",
        "        ax.fill_between(x.flatten(), 0, component.flatten(), color='#457B9D', alpha=0.4)\n",
        "\n",
        "\n",
        "plt.title('Prediction',fontsize=10)\n",
        "ax.tick_params(axis='both', which='both', length=2,labelsize=10)\n",
        "ax.set_xticks([-5, 0, 5, ]); \n",
        "# ax.set_yticks([])\n",
        "plt.ylabel('Density',labelpad=1,fontsize=10)\n",
        "plt.xlabel('Nor_package',labelpad=1,fontsize=10)\n",
        "plt.legend(fontsize=7,frameon=False)\n",
        "fig.savefig('../results/rnn/1st_results/nor_transduction/1st_seq_nor_transduction_prediction_distribution_test.pdf',dpi=300,bbox_inches='tight')"
      ]
    },
    {
      "cell_type": "code",
      "execution_count": null,
      "metadata": {},
      "outputs": [],
      "source": []
    },
    {
      "cell_type": "code",
      "execution_count": null,
      "metadata": {},
      "outputs": [],
      "source": []
    }
  ],
  "metadata": {
    "kernelspec": {
      "display_name": "Python 3 (ipykernel)",
      "language": "python",
      "name": "python3"
    },
    "language_info": {
      "codemirror_mode": {
        "name": "ipython",
        "version": 3
      },
      "file_extension": ".py",
      "mimetype": "text/x-python",
      "name": "python",
      "nbconvert_exporter": "python",
      "pygments_lexer": "ipython3",
      "version": "3.8.16"
    },
    "toc": {
      "base_numbering": 1,
      "nav_menu": {},
      "number_sections": true,
      "sideBar": true,
      "skip_h1_title": false,
      "title_cell": "Table of Contents",
      "title_sidebar": "Contents",
      "toc_cell": true,
      "toc_position": {
        "height": "calc(100% - 180px)",
        "left": "10px",
        "top": "150px",
        "width": "320px"
      },
      "toc_section_display": true,
      "toc_window_display": true
    }
  },
  "nbformat": 4,
  "nbformat_minor": 4
}
