{
  "cells": [
    {
      "cell_type": "code",
      "execution_count": 1,
      "metadata": {
        "ExecuteTime": {
          "end_time": "2021-06-15T17:13:58.134959Z",
          "start_time": "2021-06-15T17:13:57.550003Z"
        }
      },
      "outputs": [],
      "source": [
        "import pandas as pd\n",
        "import numpy as np\n",
        "import matplotlib as mpl\n",
        "import matplotlib.pyplot as plt\n",
        "import seaborn as sns\n",
        "from IPython.display import Image\n",
        "from scipy.stats import gaussian_kde, norm\n",
        "from sklearn.mixture import GaussianMixture\n",
        "\n",
        "from utils_f4f import CustomEarlyStopping, cnn_aa_model,AA_hotencoding ,heatmap, si_format\n"
      ]
    },
    {
      "cell_type": "code",
      "execution_count": 2,
      "metadata": {},
      "outputs": [],
      "source": [
        "mpl.rcParams['svg.fonttype'] = 'none'\n",
        "mpl.rcParams['font.family'] = ['sans-serif']\n",
        "mpl.rcParams['font.sans-serif'] = ['Arial']\n",
        "mpl.rcParams['text.usetex'] = False\n",
        "mpl.rcParams['pdf.fonttype'] = 42\n",
        "mpl.rcParams['ps.fonttype'] = 42"
      ]
    },
    {
      "cell_type": "markdown",
      "metadata": {},
      "source": [
        "#### Data_preparetion\n",
        "\n"
      ]
    },
    {
      "cell_type": "code",
      "execution_count": 3,
      "metadata": {},
      "outputs": [],
      "source": [
        "\n",
        "df_all = pd.read_csv('../data/2nd_seq_aa_transduction.tsv',delimiter='\\t')\n",
        "# df_all = df_all.iloc[::50]\n",
        "df_modeling = df_all.rename(columns={'aa':'AA_seqenece'})\n",
        "df_modeling['label']=0\n",
        "df_modeling = df_modeling[['AA_seqenece', 'transduction', 'label']]\n",
        "df_missing = df_modeling[np.isinf(df_modeling['transduction']) ]#\n",
        "df_modeling = df_modeling[~np.isnan(df_modeling['transduction']) & ~np.isinf(df_modeling['transduction'])]\n",
        "df_modeling.reset_index(drop = True, inplace=True)\n",
        "AA_col = 'AA_seqenece'\n",
        "array = 'transduction'\n"
      ]
    },
    {
      "cell_type": "code",
      "execution_count": 4,
      "metadata": {},
      "outputs": [
        {
          "data": {
            "text/plain": [
              "(2556, 3)"
            ]
          },
          "execution_count": 4,
          "metadata": {},
          "output_type": "execute_result"
        }
      ],
      "source": [
        "df_all.shape"
      ]
    },
    {
      "cell_type": "code",
      "execution_count": 5,
      "metadata": {},
      "outputs": [
        {
          "data": {
            "image/png": "[encoded data removed]",
            "text/plain": [
              "<Figure size 200x170 with 1 Axes>"
            ]
          },
          "metadata": {},
          "output_type": "display_data"
        }
      ],
      "source": [
        "nor_package = df_all[np.isfinite(df_all[array])][array]\n",
        "data = np.array(nor_package) \n",
        "data = data.reshape(-1, 1)  # Convert the data into a column vector\n",
        "\n",
        "# Fit the data using GaussianMixture\n",
        "n_components = 1 # Set the number of components for the hybrid model\n",
        "gmm = GaussianMixture(n_components=n_components)\n",
        "gmm.fit(data)\n",
        "\n",
        "# Get the mean and covariance matrix for each component\n",
        "means = gmm.means_\n",
        "covariances = gmm.covariances_\n",
        "\n",
        "# Generate the fitted distribution\n",
        "x = np.linspace(-10, 10, 10000)\n",
        "x = x.reshape(-1, 1)\n",
        "y = np.exp(gmm.score_samples(x))\n",
        "\n",
        "fig,ax = plt.subplots(figsize=(2,1.7),dpi=100)\n",
        "# Plot the raw data and the distribution after fitting\n",
        "plt.hist(data, bins=100, density=True, alpha=0.6, color = '#BAB3A3',label='Prediction')\n",
        "\n",
        "# 绘制每个分量的正态分布\n",
        "for i in range(n_components):\n",
        "    component = np.exp(-(x - means[i]) ** 2 / (2 * covariances[i]))\n",
        "    component /= np.sqrt(2 * np.pi * covariances[i])\n",
        "    component *= gmm.weights_[i]\n",
        "    if i == 0:\n",
        "        ax.plot(x, component, '-', label=f'Distribution {i + 1}', color='#F66E68', alpha=1)\n",
        "        ax.fill_between(x.flatten(), 0, component.flatten(), color='#F66E68', alpha=0.4)\n",
        "    else:\n",
        "        ax.plot(x, component, '-', label=f'Distribution {i + 1}', color='#457B9D', alpha=1)\n",
        "        ax.fill_between(x.flatten(), 0, component.flatten(), color='#457B9D', alpha=0.4)\n",
        "\n",
        "\n",
        "plt.title('Truth_distribution',fontsize=10)\n",
        "ax.tick_params(axis='both', which='both', length=2,labelsize=8)\n",
        "ax.set_xticks([-10,-5, 0, 5,10]); \n",
        "ax.set_xlim([-10,10])\n",
        "plt.ylabel('Density',labelpad=2,fontsize=10)\n",
        "plt.xlabel('Nor_package',labelpad=2,fontsize=10)\n",
        "plt.legend(fontsize=7,frameon=False,loc='best')\n",
        "plt.show()"
      ]
    },
    {
      "cell_type": "markdown",
      "metadata": {},
      "source": [
        "### Prep data\n",
        " one-hot encode the `AA_sequence` column and split the data into\n",
        "training and test sets. The training split will be split\n",
        "\n"
      ]
    },
    {
      "cell_type": "code",
      "execution_count": 6,
      "metadata": {},
      "outputs": [],
      "source": [
        "# Train-Test split\n",
        "train_size = 1800\n",
        "validation_size = 300\n",
        "train, validate, test = np.split(df_modeling.sample(frac=1),  [train_size, train_size+validation_size])\n",
        "\n",
        "# Hot Encoding\n",
        "train_x =  np.asarray([AA_hotencoding(variant) for variant in train[AA_col]])\n",
        "train_y = train[array]\n",
        "validate_x = np.asarray([AA_hotencoding(variant) for variant in validate[AA_col]])\n",
        "validate_y = validate[array]\n",
        "test_x = np.asarray([AA_hotencoding(variant) for variant in test[AA_col]])\n",
        "test_y = test[array]\n",
        "missing_x = np.asarray([AA_hotencoding(variant) for variant in df_missing[AA_col]])\n"
      ]
    },
    {
      "cell_type": "code",
      "execution_count": 7,
      "metadata": {},
      "outputs": [
        {
          "data": {
            "text/plain": [
              "(1800, 7, 20)"
            ]
          },
          "execution_count": 7,
          "metadata": {},
          "output_type": "execute_result"
        }
      ],
      "source": [
        "train_x.shape"
      ]
    },
    {
      "cell_type": "markdown",
      "metadata": {},
      "source": [
        "#### cnn  model training\n",
        "Default parameterization:Here the model is applied to aa-nor_package learning process, as details"
      ]
    },
    {
      "cell_type": "code",
      "execution_count": 8,
      "metadata": {},
      "outputs": [
        {
          "name": "stdout",
          "output_type": "stream",
          "text": [
            "Epoch 1/300\n",
            "225/225 - 1s - loss: 5.3970 - mae: 1.3818 - val_loss: 5.8572 - val_mae: 1.3741 - 886ms/epoch - 4ms/step\n",
            "Epoch 2/300\n",
            "225/225 - 0s - loss: 5.3344 - mae: 1.3803 - val_loss: 5.8504 - val_mae: 1.3573 - 289ms/epoch - 1ms/step\n",
            "Epoch 3/300\n",
            "225/225 - 0s - loss: 5.2879 - mae: 1.3829 - val_loss: 5.8869 - val_mae: 1.3662 - 296ms/epoch - 1ms/step\n",
            "Epoch 4/300\n",
            "225/225 - 0s - loss: 5.2465 - mae: 1.3680 - val_loss: 5.8695 - val_mae: 1.4332 - 291ms/epoch - 1ms/step\n",
            "Epoch 5/300\n",
            "225/225 - 0s - loss: 5.1882 - mae: 1.3743 - val_loss: 5.8743 - val_mae: 1.4575 - 295ms/epoch - 1ms/step\n",
            "Epoch 6/300\n",
            "225/225 - 0s - loss: 5.1514 - mae: 1.3730 - val_loss: 5.9278 - val_mae: 1.4124 - 289ms/epoch - 1ms/step\n",
            "Epoch 7/300\n",
            "225/225 - 0s - loss: 5.1135 - mae: 1.3770 - val_loss: 5.9194 - val_mae: 1.4315 - 292ms/epoch - 1ms/step\n",
            "Epoch 8/300\n",
            "225/225 - 0s - loss: 5.0145 - mae: 1.3729 - val_loss: 5.9245 - val_mae: 1.4261 - 323ms/epoch - 1ms/step\n",
            "Epoch 9/300\n",
            "225/225 - 0s - loss: 4.9432 - mae: 1.3576 - val_loss: 6.1733 - val_mae: 1.5891 - 312ms/epoch - 1ms/step\n",
            "Epoch 10/300\n",
            "225/225 - 0s - loss: 4.8597 - mae: 1.3725 - val_loss: 6.0310 - val_mae: 1.4883 - 305ms/epoch - 1ms/step\n",
            "Epoch 11/300\n",
            "225/225 - 0s - loss: 4.7866 - mae: 1.3513 - val_loss: 6.0175 - val_mae: 1.4185 - 319ms/epoch - 1ms/step\n",
            "Epoch 12/300\n",
            "225/225 - 0s - loss: 4.6934 - mae: 1.3422 - val_loss: 6.1762 - val_mae: 1.6599 - 346ms/epoch - 2ms/step\n",
            "Epoch 13/300\n",
            "225/225 - 0s - loss: 4.5990 - mae: 1.3535 - val_loss: 5.9616 - val_mae: 1.4785 - 301ms/epoch - 1ms/step\n",
            "Epoch 14/300\n",
            "225/225 - 0s - loss: 4.4824 - mae: 1.3260 - val_loss: 6.1136 - val_mae: 1.5000 - 301ms/epoch - 1ms/step\n",
            "Epoch 15/300\n",
            "225/225 - 0s - loss: 4.3460 - mae: 1.3150 - val_loss: 6.2455 - val_mae: 1.6439 - 308ms/epoch - 1ms/step\n",
            "Epoch 16/300\n",
            "225/225 - 0s - loss: 4.2714 - mae: 1.3191 - val_loss: 6.1257 - val_mae: 1.5794 - 312ms/epoch - 1ms/step\n",
            "Epoch 17/300\n",
            "225/225 - 0s - loss: 4.0885 - mae: 1.2883 - val_loss: 6.2452 - val_mae: 1.6023 - 310ms/epoch - 1ms/step\n",
            "Epoch 18/300\n",
            "225/225 - 0s - loss: 3.9736 - mae: 1.2863 - val_loss: 6.2152 - val_mae: 1.5411 - 313ms/epoch - 1ms/step\n",
            "Epoch 19/300\n",
            "225/225 - 0s - loss: 3.8977 - mae: 1.2715 - val_loss: 6.2867 - val_mae: 1.5725 - 318ms/epoch - 1ms/step\n",
            "Epoch 20/300\n",
            "225/225 - 0s - loss: 3.7329 - mae: 1.2491 - val_loss: 6.6311 - val_mae: 1.7155 - 291ms/epoch - 1ms/step\n",
            "Epoch 21/300\n",
            "225/225 - 0s - loss: 3.6680 - mae: 1.2584 - val_loss: 6.4970 - val_mae: 1.6310 - 293ms/epoch - 1ms/step\n",
            "Epoch 22/300\n",
            "225/225 - 0s - loss: 3.5100 - mae: 1.2370 - val_loss: 6.3255 - val_mae: 1.5603 - 300ms/epoch - 1ms/step\n",
            "Epoch 23/300\n",
            "225/225 - 0s - loss: 3.4014 - mae: 1.2148 - val_loss: 6.4807 - val_mae: 1.5890 - 306ms/epoch - 1ms/step\n",
            "Epoch 24/300\n",
            "225/225 - 0s - loss: 3.2469 - mae: 1.1901 - val_loss: 6.6534 - val_mae: 1.6667 - 302ms/epoch - 1ms/step\n",
            "Epoch 25/300\n",
            "225/225 - 0s - loss: 3.1375 - mae: 1.1933 - val_loss: 6.9170 - val_mae: 1.7645 - 319ms/epoch - 1ms/step\n",
            "Epoch 26/300\n",
            "225/225 - 0s - loss: 3.0554 - mae: 1.1685 - val_loss: 7.0373 - val_mae: 1.7445 - 302ms/epoch - 1ms/step\n",
            "Epoch 27/300\n",
            "225/225 - 0s - loss: 2.9801 - mae: 1.1733 - val_loss: 6.7806 - val_mae: 1.6459 - 296ms/epoch - 1ms/step\n",
            "Epoch 28/300\n",
            "225/225 - 0s - loss: 2.8295 - mae: 1.1426 - val_loss: 7.0974 - val_mae: 1.7027 - 296ms/epoch - 1ms/step\n",
            "Epoch 29/300\n",
            "225/225 - 0s - loss: 2.7624 - mae: 1.1372 - val_loss: 7.0040 - val_mae: 1.7507 - 295ms/epoch - 1ms/step\n",
            "Epoch 30/300\n",
            "225/225 - 0s - loss: 2.6483 - mae: 1.1047 - val_loss: 7.1211 - val_mae: 1.7180 - 298ms/epoch - 1ms/step\n",
            "Epoch 31/300\n",
            "225/225 - 0s - loss: 2.6197 - mae: 1.1062 - val_loss: 7.0553 - val_mae: 1.7431 - 299ms/epoch - 1ms/step\n",
            "Epoch 32/300\n",
            "225/225 - 0s - loss: 2.4947 - mae: 1.0818 - val_loss: 7.1680 - val_mae: 1.7635 - 296ms/epoch - 1ms/step\n",
            "Epoch 33/300\n",
            "225/225 - 0s - loss: 2.4138 - mae: 1.0729 - val_loss: 7.5529 - val_mae: 1.8160 - 299ms/epoch - 1ms/step\n",
            "Epoch 34/300\n",
            "225/225 - 0s - loss: 2.2944 - mae: 1.0436 - val_loss: 7.5292 - val_mae: 1.8375 - 292ms/epoch - 1ms/step\n",
            "Epoch 35/300\n",
            "225/225 - 0s - loss: 2.2558 - mae: 1.0511 - val_loss: 7.4052 - val_mae: 1.7971 - 290ms/epoch - 1ms/step\n",
            "Epoch 36/300\n",
            "225/225 - 0s - loss: 2.2578 - mae: 1.0448 - val_loss: 7.7354 - val_mae: 1.8694 - 294ms/epoch - 1ms/step\n",
            "Epoch 37/300\n",
            "225/225 - 0s - loss: 2.0963 - mae: 1.0088 - val_loss: 7.7102 - val_mae: 1.8442 - 296ms/epoch - 1ms/step\n",
            "Epoch 38/300\n",
            "225/225 - 0s - loss: 2.0281 - mae: 0.9868 - val_loss: 7.8628 - val_mae: 1.8536 - 295ms/epoch - 1ms/step\n",
            "Epoch 39/300\n",
            "225/225 - 0s - loss: 1.9679 - mae: 0.9869 - val_loss: 8.0216 - val_mae: 1.8602 - 308ms/epoch - 1ms/step\n",
            "Epoch 40/300\n",
            "225/225 - 0s - loss: 1.9196 - mae: 0.9845 - val_loss: 8.0307 - val_mae: 1.8899 - 288ms/epoch - 1ms/step\n",
            "Epoch 41/300\n",
            "225/225 - 0s - loss: 1.8738 - mae: 0.9592 - val_loss: 7.7275 - val_mae: 1.8556 - 294ms/epoch - 1ms/step\n",
            "Epoch 42/300\n",
            "225/225 - 0s - loss: 1.7596 - mae: 0.9250 - val_loss: 7.9161 - val_mae: 1.8574 - 294ms/epoch - 1ms/step\n",
            "Epoch 43/300\n",
            "225/225 - 0s - loss: 1.7463 - mae: 0.9321 - val_loss: 7.8000 - val_mae: 1.8507 - 294ms/epoch - 1ms/step\n",
            "Epoch 44/300\n",
            "225/225 - 0s - loss: 1.6262 - mae: 0.8994 - val_loss: 7.8399 - val_mae: 1.8501 - 297ms/epoch - 1ms/step\n",
            "Epoch 45/300\n",
            "225/225 - 0s - loss: 1.5866 - mae: 0.8879 - val_loss: 7.8084 - val_mae: 1.8679 - 292ms/epoch - 1ms/step\n",
            "Epoch 46/300\n",
            "225/225 - 0s - loss: 1.5456 - mae: 0.8850 - val_loss: 7.8277 - val_mae: 1.8352 - 294ms/epoch - 1ms/step\n",
            "Epoch 47/300\n",
            "225/225 - 0s - loss: 1.4601 - mae: 0.8562 - val_loss: 8.2066 - val_mae: 1.9755 - 289ms/epoch - 1ms/step\n",
            "Epoch 48/300\n",
            "225/225 - 0s - loss: 1.4238 - mae: 0.8435 - val_loss: 8.1752 - val_mae: 1.9293 - 296ms/epoch - 1ms/step\n",
            "Epoch 49/300\n",
            "225/225 - 0s - loss: 1.3663 - mae: 0.8254 - val_loss: 8.1555 - val_mae: 1.9276 - 292ms/epoch - 1ms/step\n",
            "Epoch 50/300\n",
            "225/225 - 0s - loss: 1.3476 - mae: 0.8286 - val_loss: 8.4223 - val_mae: 1.9670 - 314ms/epoch - 1ms/step\n",
            "Epoch 51/300\n",
            "225/225 - 0s - loss: 1.2635 - mae: 0.8076 - val_loss: 8.4586 - val_mae: 1.9916 - 306ms/epoch - 1ms/step\n",
            "Epoch 52/300\n",
            "225/225 - 0s - loss: 1.2346 - mae: 0.8053 - val_loss: 8.5099 - val_mae: 2.0263 - 323ms/epoch - 1ms/step\n",
            "Epoch 53/300\n",
            "225/225 - 0s - loss: 1.1669 - mae: 0.7785 - val_loss: 8.2702 - val_mae: 1.9566 - 296ms/epoch - 1ms/step\n"
          ]
        },
        {
          "name": "stderr",
          "output_type": "stream",
          "text": [
            "d:\\ProgramData\\anaconda3\\envs\\tf\\lib\\site-packages\\keras\\src\\engine\\training.py:3000: UserWarning: You are saving your model as an HDF5 file via `model.save()`. This file format is considered legacy. We recommend using instead the native Keras format, e.g. `model.save('my_model.keras')`.\n",
            "  saving_api.save_model(\n"
          ]
        }
      ],
      "source": [
        "# Training\n",
        "\n",
        "# Define model \n",
        "model = cnn_aa_model(L1=140, L2=20)\n",
        "\n",
        "# Training parameters \n",
        "batch_size = 8\n",
        "EpochCount = 300\n",
        "#EpochCount = 5 #Used for quick excusion of the Notebook; please use a higher number instead to allow proper convergence\n",
        "\n",
        "# train model \n",
        "model.fit(train_x, train_y, batch_size=batch_size, epochs=EpochCount, \n",
        "          validation_data=(validate_x, validate_y),verbose=2,\n",
        "              callbacks=[CustomEarlyStopping(ratio=0.90, patience=50, restore_best_weights = True)])\n",
        "\n",
        "# Save model\n",
        "ModelFileName = 'pretrain/model_2nd_cnn_aa_nor_transduction'\n",
        "model.save(ModelFileName+'.h5')"
      ]
    },
    {
      "cell_type": "markdown",
      "metadata": {},
      "source": [
        "#### Model validation\n",
        "· `Train-data validation` \n",
        "\n"
      ]
    },
    {
      "cell_type": "code",
      "execution_count": 9,
      "metadata": {
        "ExecuteTime": {
          "end_time": "2021-06-15T18:02:53.571538Z",
          "start_time": "2021-06-15T18:02:46.205042Z"
        }
      },
      "outputs": [
        {
          "name": "stdout",
          "output_type": "stream",
          "text": [
            "57/57 [==============================] - 0s 2ms/step\n"
          ]
        },
        {
          "data": {
            "text/plain": [
              "0.9014437256570424"
            ]
          },
          "execution_count": 9,
          "metadata": {},
          "output_type": "execute_result"
        }
      ],
      "source": [
        "\n",
        "# Predict for train variants\n",
        "y = model.predict(train_x)\n",
        "x = np.array(train_y)\n",
        "y = np.reshape(y, (1,y.shape[0]))[0]\n",
        "preds_df = pd.DataFrame(columns=['y_pred','y_true'])\n",
        "preds_df['y_pred'] = pd.DataFrame(y)\n",
        "preds_df['y_true']  = pd.DataFrame(x)\n",
        "preds_df['y_pred'].corr(preds_df['y_true'])\n"
      ]
    },
    {
      "cell_type": "code",
      "execution_count": 10,
      "metadata": {},
      "outputs": [],
      "source": [
        "x = preds_df['y_pred']  \n",
        "y = preds_df['y_true']   \n",
        "\n",
        "remove = np.isinf(x) & np.isinf(y)\n",
        "x = x[~remove]\n",
        "y = y[~remove]\n",
        "\n",
        "keep = (~np.isinf(x)) & (~np.isinf(y))\n",
        "x_both = x[keep]\n",
        "y_both = y[keep]\n",
        "\n",
        "y_missing = y[np.isinf(x)]\n",
        "x_missing = x[np.isinf(y)]\n",
        "\n",
        "\n",
        "kernel = gaussian_kde(np.vstack([\n",
        "    x_both.sample(n=1800, random_state=1), \n",
        "    y_both.sample(n=1800, random_state=1)\n",
        "]))\n",
        "c_both = kernel(np.vstack([x_both.values, y_both.values]))\n"
      ]
    },
    {
      "cell_type": "code",
      "execution_count": 12,
      "metadata": {},
      "outputs": [
        {
          "name": "stderr",
          "output_type": "stream",
          "text": [
            "meta NOT subset; don't know how to subset; dropped\n"
          ]
        },
        {
          "data": {
            "image/png": "[encoded data removed]",
            "text/plain": [
              "<Figure size 210x195 with 4 Axes>"
            ]
          },
          "metadata": {},
          "output_type": "display_data"
        }
      ],
      "source": [
        "fig = plt.figure(figsize=(1.4,1.3), dpi=150)\n",
        "gs = fig.add_gridspec(2, 2, left=0.275, right=0.95, bottom=0.22, top=0.95, \n",
        "                      width_ratios=[1, 6], height_ratios=[6, 1], hspace=0., wspace=0)\n",
        "ax = fig.add_subplot(gs[0, 1])\n",
        "ax.scatter(x_both, y_both, c=c_both, cmap=mpl.cm.inferno, s=0.2, edgecolor='none', rasterized=True)\n",
        "ax.set_xticks([]); ax.set_yticks([])\n",
        "xlim = [-11, 12]\n",
        "bins = np.linspace(*xlim, 25)\n",
        "ax.set_xlim(xlim); ax.set_ylim(xlim)\n",
        "ax.text(0.03, 0.97, r'$r$ = {:.4f}'.format(np.corrcoef(x_both, y_both)[0, 1]),\n",
        "       transform=ax.transAxes, ha='left', va='top', fontsize=7)\n",
        "\n",
        "ax.text(0.97, 0.01, 'n={}'.format(si_format(len(x_both)), precision=2, format_str='{value}{prefix}',), \n",
        "        transform=ax.transAxes, ha='right', va='bottom', fontsize=7)\n",
        "\n",
        "# Left Marginal\n",
        "ax = fig.add_subplot(gs[0, 0])\n",
        "ax.hist(y_missing, bins=bins, edgecolor='none', orientation='horizontal', density=True, color='r')\n",
        "ax.set_ylim(xlim)\n",
        "ax.set_xticks([]); ax.set_yticks([-5, 0, 5, 10, 15,20])\n",
        "ax.text(0.97, 0.97, 'n={}'.format(si_format(len(y_missing)), precision=2, format_str='{value}{prefix}',), \n",
        "        transform=ax.transAxes, ha='right', va='top', fontsize=7, rotation=90, color='r')\n",
        "ax.set_ylabel('Prediction', labelpad=2,fontsize=8)\n",
        "ax.tick_params(axis='both', labelsize=7, length=2, pad=1)\n",
        "\n",
        "# Bottom Marginal\n",
        "ax = fig.add_subplot(gs[1, 1])\n",
        "ax.hist(x_missing, bins=bins, edgecolor='none', density=True, color='r')\n",
        "ax.set_xlim(xlim)\n",
        "ax.set_xticks([-5, 0, 5, 10, 15,20]); ax.set_yticks([])\n",
        "ax.text(0.97, 0.8, 'n={}'.format(si_format(len(x_missing)), precision=2, format_str='{value}{prefix}',), \n",
        "        transform=ax.transAxes, ha='right', va='top', fontsize=7, color='r')\n",
        "ax.set_xlabel('Truth', labelpad=2,fontsize=8)\n",
        "ax.tick_params(axis='both', labelsize=7, length=2, pad=1)\n",
        "\n",
        "# Missing label (not detected in either)\n",
        "ax = fig.add_subplot(gs[1, 0])\n",
        "for spine in ['bottom', 'left']:\n",
        "    ax.spines[spine].set_visible(False)\n",
        "ax.set_xticks([]); ax.set_yticks([])\n",
        "\n",
        "ax.text(0.8, 0.8, 'Missing', transform=ax.transAxes, color='r', ha='right', va='top', fontsize=7, clip_on=False)\n",
        "fig.savefig('../results/cnn/2nd_results/nor_transduction/2nd_aa_nor_transduction_prediction_correlation_train.pdf',dpi=300,bbox_inches='tight')"
      ]
    },
    {
      "cell_type": "code",
      "execution_count": 13,
      "metadata": {},
      "outputs": [
        {
          "name": "stderr",
          "output_type": "stream",
          "text": [
            "meta NOT subset; don't know how to subset; dropped\n"
          ]
        },
        {
          "data": {
            "image/png": "[encoded data removed]",
            "text/plain": [
              "<Figure size 180x150 with 1 Axes>"
            ]
          },
          "metadata": {},
          "output_type": "display_data"
        }
      ],
      "source": [
        "data = np.array(preds_df['y_pred']) \n",
        "data = data.reshape(-1, 1)  # 将数据转换成列向量的形式\n",
        "\n",
        "# 使用GaussianMixture拟合数据\n",
        "n_components = 1 # 设置混合模型的分量个数\n",
        "gmm = GaussianMixture(n_components=n_components)\n",
        "gmm.fit(data)\n",
        "\n",
        "# 获取每个分量的均值和协方差矩阵\n",
        "means = gmm.means_\n",
        "covariances = gmm.covariances_\n",
        "\n",
        "# 生成拟合后的分布\n",
        "x = np.linspace(-7, 6, 100000)\n",
        "x = x.reshape(-1, 1)\n",
        "y = np.exp(gmm.score_samples(x))\n",
        "\n",
        "fig,ax = plt.subplots(figsize=(1.8,1.5),dpi=100)\n",
        "# 绘制原始数据和拟合后的分布\n",
        "plt.hist(data, bins=100, density=True, alpha=0.6, color = '#BAB3A3',label='Prediction')\n",
        "#plt.plot(x, y, '-r', label='GMM fit')\n",
        "\n",
        "\n",
        "# 绘制每个分量的正态分布\n",
        "for i in range(n_components):\n",
        "    component = np.exp(-(x - means[i]) ** 2 / (2 * covariances[i]))\n",
        "    component /= np.sqrt(2 * np.pi * covariances[i])\n",
        "    component *= gmm.weights_[i]\n",
        "    if i == 0:\n",
        "        ax.plot(x, component, '-', label=f'Distribution {i + 1}', color='#F66E68', alpha=1)\n",
        "        ax.fill_between(x.flatten(), 0, component.flatten(), color='#F66E68', alpha=0.4)\n",
        "    else:\n",
        "        ax.plot(x, component, '-', label=f'Distribution {i + 1}', color='#457B9D', alpha=1)\n",
        "        ax.fill_between(x.flatten(), 0, component.flatten(), color='#457B9D', alpha=0.4)\n",
        "\n",
        "\n",
        "plt.title('Prediction',fontsize=10)\n",
        "ax.tick_params(axis='both', which='both', length=2,labelsize=10)\n",
        "ax.set_xticks([-5, 0, 5]); \n",
        "# ax.set_yticks([])\n",
        "plt.ylabel('Density',labelpad=1,fontsize=10)\n",
        "plt.xlabel('Nor_package',labelpad=1,fontsize=10)\n",
        "plt.legend(fontsize=7,frameon=False)\n",
        "fig.savefig('../results/cnn/2nd_results/nor_transduction/2nd_aa_nor_transduction_prediction_distribution_train.pdf',dpi=300,bbox_inches='tight')"
      ]
    },
    {
      "cell_type": "markdown",
      "metadata": {},
      "source": [
        "· `Test-data validation` "
      ]
    },
    {
      "cell_type": "code",
      "execution_count": 14,
      "metadata": {},
      "outputs": [
        {
          "name": "stdout",
          "output_type": "stream",
          "text": [
            " 1/15 [=>............................] - ETA: 0s"
          ]
        },
        {
          "name": "stdout",
          "output_type": "stream",
          "text": [
            "15/15 [==============================] - 0s 2ms/step\n"
          ]
        },
        {
          "data": {
            "text/plain": [
              "0.054136220636842605"
            ]
          },
          "execution_count": 14,
          "metadata": {},
          "output_type": "execute_result"
        }
      ],
      "source": [
        "\n",
        "# Predict for test variants\n",
        "y = model.predict(test_x)\n",
        "x = np.array(test_y)\n",
        "y = np.reshape(y, (1,y.shape[0]))[0]\n",
        "preds_df = pd.DataFrame(columns=['y_pred','y_true'])\n",
        "preds_df['y_pred'] = pd.DataFrame(y)\n",
        "preds_df['y_true']  = pd.DataFrame(x)\n",
        "preds_df['y_pred'].corr(preds_df['y_true'])\n"
      ]
    },
    {
      "cell_type": "code",
      "execution_count": 16,
      "metadata": {},
      "outputs": [
        {
          "name": "stderr",
          "output_type": "stream",
          "text": [
            "d:\\ProgramData\\anaconda3\\envs\\tf\\lib\\site-packages\\numpy\\lib\\histograms.py:906: RuntimeWarning: invalid value encountered in divide\n",
            "  return n/db/n.sum(), bin_edges\n",
            "meta NOT subset; don't know how to subset; dropped\n"
          ]
        },
        {
          "data": {
            "image/png": "[encoded data removed]",
            "text/plain": [
              "<Figure size 210x195 with 4 Axes>"
            ]
          },
          "metadata": {},
          "output_type": "display_data"
        }
      ],
      "source": [
        "x = preds_df['y_pred']  \n",
        "y = preds_df['y_true']   \n",
        "\n",
        "remove = np.isinf(x) & np.isinf(y)\n",
        "x = x[~remove]\n",
        "y = y[~remove]\n",
        "\n",
        "keep = (~np.isinf(x)) & (~np.isinf(y))\n",
        "x_both = x[keep]\n",
        "y_both = y[keep]\n",
        "\n",
        "y_missing = y[np.isinf(x)]\n",
        "x_missing = x[np.isinf(y)]\n",
        "\n",
        "\n",
        "kernel = gaussian_kde(np.vstack([\n",
        "    x_both.sample(n=300, random_state=1), \n",
        "    y_both.sample(n=300, random_state=1)\n",
        "]))\n",
        "c_both = kernel(np.vstack([x_both.values, y_both.values]))\n",
        "\n",
        "fig = plt.figure(figsize=(1.4,1.3), dpi=150)\n",
        "gs = fig.add_gridspec(2, 2, left=0.275, right=0.95, bottom=0.22, top=0.95, \n",
        "                      width_ratios=[1, 6], height_ratios=[6, 1], hspace=0., wspace=0)\n",
        "ax = fig.add_subplot(gs[0, 1])\n",
        "ax.scatter(x_both, y_both, c=c_both, cmap=mpl.cm.inferno, s=0.2, edgecolor='none', rasterized=True)\n",
        "ax.set_xticks([]); ax.set_yticks([])\n",
        "xlim = [-11, 12]\n",
        "bins = np.linspace(*xlim, 25)\n",
        "ax.set_xlim(xlim); ax.set_ylim(xlim)\n",
        "ax.text(0.03, 0.97, r'$r$ = {:.4f}'.format(np.corrcoef(x_both, y_both)[0, 1]),\n",
        "       transform=ax.transAxes, ha='left', va='top', fontsize=7)\n",
        "\n",
        "ax.text(0.97, 0.01, 'n={}'.format(si_format(len(x_both)), precision=2, format_str='{value}{prefix}',), \n",
        "        transform=ax.transAxes, ha='right', va='bottom', fontsize=7)\n",
        "\n",
        "# Left Marginal\n",
        "ax = fig.add_subplot(gs[0, 0])\n",
        "ax.hist(y_missing, bins=bins, edgecolor='none', orientation='horizontal', density=True, color='r')\n",
        "ax.set_ylim(xlim)\n",
        "ax.set_xticks([]); ax.set_yticks([-5, 0, 5, 10, 15,20])\n",
        "ax.text(0.97, 0.97, 'n={}'.format(si_format(len(y_missing)), precision=2, format_str='{value}{prefix}',), \n",
        "        transform=ax.transAxes, ha='right', va='top', fontsize=7, rotation=90, color='r')\n",
        "ax.set_ylabel('Prediction', labelpad=2,fontsize=8)\n",
        "ax.tick_params(axis='both', labelsize=7, length=2, pad=1)\n",
        "\n",
        "# Bottom Marginal\n",
        "ax = fig.add_subplot(gs[1, 1])\n",
        "ax.hist(x_missing, bins=bins, edgecolor='none', density=True, color='r')\n",
        "ax.set_xlim(xlim)\n",
        "ax.set_xticks([-5, 0, 5, 10, 15,20]); ax.set_yticks([])\n",
        "ax.text(0.97, 0.8, 'n={}'.format(si_format(len(x_missing)), precision=2, format_str='{value}{prefix}',), \n",
        "        transform=ax.transAxes, ha='right', va='top', fontsize=7, color='r')\n",
        "ax.set_xlabel('Truth', labelpad=2,fontsize=8)\n",
        "ax.tick_params(axis='both', labelsize=6, length=2, pad=1)\n",
        "\n",
        "# Missing label (not detected in either)\n",
        "ax = fig.add_subplot(gs[1, 0])\n",
        "for spine in ['bottom', 'left']:\n",
        "    ax.spines[spine].set_visible(False)\n",
        "ax.set_xticks([]); ax.set_yticks([])\n",
        "\n",
        "ax.text(0.8, 0.8, 'Missing', transform=ax.transAxes, color='r', ha='right', va='top', fontsize=7, clip_on=False)\n",
        "fig.savefig('../results/cnn/2nd_results/nor_transduction/2nd_aa_nor_transduction_prediction_correlation_test.pdf',dpi=300,bbox_inches='tight')"
      ]
    },
    {
      "cell_type": "code",
      "execution_count": 17,
      "metadata": {
        "ExecuteTime": {
          "end_time": "2021-06-15T18:04:49.108828Z",
          "start_time": "2021-06-15T18:04:38.468240Z"
        }
      },
      "outputs": [
        {
          "name": "stderr",
          "output_type": "stream",
          "text": [
            "meta NOT subset; don't know how to subset; dropped\n"
          ]
        },
        {
          "data": {
            "image/png": "[encoded data removed]",
            "text/plain": [
              "<Figure size 180x150 with 1 Axes>"
            ]
          },
          "metadata": {},
          "output_type": "display_data"
        }
      ],
      "source": [
        "data = np.array(preds_df['y_pred']) \n",
        "data = data.reshape(-1, 1)  # 将数据转换成列向量的形式\n",
        "\n",
        "# 使用GaussianMixture拟合数据\n",
        "n_components = 1 # 设置混合模型的分量个数\n",
        "gmm = GaussianMixture(n_components=n_components)\n",
        "gmm.fit(data)\n",
        "\n",
        "# 获取每个分量的均值和协方差矩阵\n",
        "means = gmm.means_\n",
        "covariances = gmm.covariances_\n",
        "\n",
        "# 生成拟合后的分布\n",
        "x = np.linspace(-7, 8, 100000)\n",
        "x = x.reshape(-1, 1)\n",
        "y = np.exp(gmm.score_samples(x))\n",
        "\n",
        "fig,ax = plt.subplots(figsize=(1.8,1.5),dpi=100)\n",
        "# 绘制原始数据和拟合后的分布\n",
        "plt.hist(data, bins=100, density=True, alpha=0.6, color = '#BAB3A3',label='Prediction')\n",
        "#plt.plot(x, y, '-r', label='GMM fit')\n",
        "\n",
        "\n",
        "# 绘制每个分量的正态分布\n",
        "for i in range(n_components):\n",
        "    component = np.exp(-(x - means[i]) ** 2 / (2 * covariances[i]))\n",
        "    component /= np.sqrt(2 * np.pi * covariances[i])\n",
        "    component *= gmm.weights_[i]\n",
        "    if i == 0:\n",
        "        ax.plot(x, component, '-', label=f'Distribution {i + 1}', color='#F66E68', alpha=1)\n",
        "        ax.fill_between(x.flatten(), 0, component.flatten(), color='#F66E68', alpha=0.4)\n",
        "    else:\n",
        "        ax.plot(x, component, '-', label=f'Distribution {i + 1}', color='#457B9D', alpha=1)\n",
        "        ax.fill_between(x.flatten(), 0, component.flatten(), color='#457B9D', alpha=0.4)\n",
        "\n",
        "\n",
        "plt.title('Prediction',fontsize=10)\n",
        "ax.tick_params(axis='both', which='both', length=2,labelsize=10)\n",
        "ax.set_xticks([-5, 0, 5, ]); \n",
        "# ax.set_yticks([])\n",
        "plt.ylabel('Density',labelpad=1,fontsize=10)\n",
        "plt.xlabel('Nor_package',labelpad=1,fontsize=10)\n",
        "plt.legend(fontsize=7,frameon=False)\n",
        "fig.savefig('../results/cnn/2nd_results/nor_transduction/2nd_aa_nor_transduction_prediction_distribution_test.pdf',dpi=300,bbox_inches='tight')"
      ]
    },
    {
      "cell_type": "code",
      "execution_count": null,
      "metadata": {},
      "outputs": [],
      "source": []
    },
    {
      "cell_type": "code",
      "execution_count": null,
      "metadata": {},
      "outputs": [],
      "source": []
    }
  ],
  "metadata": {
    "kernelspec": {
      "display_name": "Python 3 (ipykernel)",
      "language": "python",
      "name": "python3"
    },
    "language_info": {
      "codemirror_mode": {
        "name": "ipython",
        "version": 3
      },
      "file_extension": ".py",
      "mimetype": "text/x-python",
      "name": "python",
      "nbconvert_exporter": "python",
      "pygments_lexer": "ipython3",
      "version": "3.8.16"
    },
    "toc": {
      "base_numbering": 1,
      "nav_menu": {},
      "number_sections": true,
      "sideBar": true,
      "skip_h1_title": false,
      "title_cell": "Table of Contents",
      "title_sidebar": "Contents",
      "toc_cell": true,
      "toc_position": {
        "height": "calc(100% - 180px)",
        "left": "10px",
        "top": "150px",
        "width": "320px"
      },
      "toc_section_display": true,
      "toc_window_display": true
    }
  },
  "nbformat": 4,
  "nbformat_minor": 4
}
