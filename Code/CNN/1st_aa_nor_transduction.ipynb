{
  "cells": [
    {
      "cell_type": "code",
      "execution_count": 1,
      "metadata": {
        "ExecuteTime": {
          "end_time": "2021-06-15T17:13:58.134959Z",
          "start_time": "2021-06-15T17:13:57.550003Z"
        }
      },
      "outputs": [],
      "source": [
        "import pandas as pd\n",
        "import numpy as np\n",
        "import matplotlib as mpl\n",
        "import matplotlib.pyplot as plt\n",
        "import seaborn as sns\n",
        "from IPython.display import Image\n",
        "from scipy.stats import gaussian_kde, norm\n",
        "from sklearn.mixture import GaussianMixture\n",
        "\n",
        "from utils_f4f import CustomEarlyStopping, cnn_aa_model,AA_hotencoding ,heatmap, si_format\n"
      ]
    },
    {
      "cell_type": "code",
      "execution_count": 2,
      "metadata": {},
      "outputs": [],
      "source": [
        "mpl.rcParams['svg.fonttype'] = 'none'\n",
        "mpl.rcParams['font.family'] = ['sans-serif']\n",
        "mpl.rcParams['font.sans-serif'] = ['Arial']\n",
        "mpl.rcParams['text.usetex'] = False\n",
        "mpl.rcParams['pdf.fonttype'] = 42\n",
        "mpl.rcParams['ps.fonttype'] = 42"
      ]
    },
    {
      "cell_type": "markdown",
      "metadata": {},
      "source": [
        "#### Data_preparetion\n",
        "\n"
      ]
    },
    {
      "cell_type": "code",
      "execution_count": 3,
      "metadata": {},
      "outputs": [],
      "source": [
        "\n",
        "df_all = pd.read_csv('../data/1stseq_aa_transduction.tsv',delimiter='\\t')\n",
        "# df_all = df_all.iloc[::50]\n",
        "df_modeling = df_all.rename(columns={'aa':'AA_seqenece'})\n",
        "df_modeling['label']=0\n",
        "df_modeling = df_modeling[['AA_seqenece', 'transduction', 'label']]\n",
        "df_missing = df_modeling[np.isinf(df_modeling['transduction']) ]#\n",
        "df_modeling = df_modeling[~np.isnan(df_modeling['transduction']) & ~np.isinf(df_modeling['transduction'])]\n",
        "df_modeling.reset_index(drop = True, inplace=True)\n",
        "AA_col = 'AA_seqenece'\n",
        "array = 'transduction'\n"
      ]
    },
    {
      "cell_type": "code",
      "execution_count": 4,
      "metadata": {},
      "outputs": [
        {
          "data": {
            "image/png": "[encoded data removed]",
            "text/plain": [
              "<Figure size 200x170 with 1 Axes>"
            ]
          },
          "metadata": {},
          "output_type": "display_data"
        }
      ],
      "source": [
        "nor_package = df_all[np.isfinite(df_all[array])][array]\n",
        "data = np.array(nor_package) \n",
        "data = data.reshape(-1, 1)  # Convert the data into a column vector\n",
        "\n",
        "# Fit the data using GaussianMixture\n",
        "n_components = 1 # Set the number of components for the hybrid model\n",
        "gmm = GaussianMixture(n_components=n_components)\n",
        "gmm.fit(data)\n",
        "\n",
        "# Get the mean and covariance matrix for each component\n",
        "means = gmm.means_\n",
        "covariances = gmm.covariances_\n",
        "\n",
        "# Generate the fitted distribution\n",
        "x = np.linspace(-10, 10, 10000)\n",
        "x = x.reshape(-1, 1)\n",
        "y = np.exp(gmm.score_samples(x))\n",
        "\n",
        "fig,ax = plt.subplots(figsize=(2,1.7),dpi=100)\n",
        "# Plot the raw data and the distribution after fitting\n",
        "plt.hist(data, bins=100, density=True, alpha=0.6, color = '#BAB3A3',label='Prediction')\n",
        "\n",
        "# 绘制每个分量的正态分布\n",
        "for i in range(n_components):\n",
        "    component = np.exp(-(x - means[i]) ** 2 / (2 * covariances[i]))\n",
        "    component /= np.sqrt(2 * np.pi * covariances[i])\n",
        "    component *= gmm.weights_[i]\n",
        "    if i == 0:\n",
        "        ax.plot(x, component, '-', label=f'Distribution {i + 1}', color='#F66E68', alpha=1)\n",
        "        ax.fill_between(x.flatten(), 0, component.flatten(), color='#F66E68', alpha=0.4)\n",
        "    else:\n",
        "        ax.plot(x, component, '-', label=f'Distribution {i + 1}', color='#457B9D', alpha=1)\n",
        "        ax.fill_between(x.flatten(), 0, component.flatten(), color='#457B9D', alpha=0.4)\n",
        "\n",
        "\n",
        "plt.title('Truth_distribution',fontsize=10)\n",
        "ax.tick_params(axis='both', which='both', length=2,labelsize=8)\n",
        "ax.set_xticks([-10,-5, 0, 5,10]); \n",
        "ax.set_xlim([-10,10])\n",
        "plt.ylabel('Density',labelpad=2,fontsize=10)\n",
        "plt.xlabel('Nor_package',labelpad=2,fontsize=10)\n",
        "plt.legend(fontsize=7,frameon=False,loc='best')\n",
        "plt.show()"
      ]
    },
    {
      "cell_type": "markdown",
      "metadata": {},
      "source": [
        "### Prep data\n",
        " one-hot encode the `AA_sequence` column and split the data into\n",
        "training and test sets. The training split will be split\n",
        "\n"
      ]
    },
    {
      "cell_type": "code",
      "execution_count": 5,
      "metadata": {},
      "outputs": [],
      "source": [
        "# Train-Test split\n",
        "train_size = 9200\n",
        "validation_size = 500\n",
        "train, validate, test = np.split(df_modeling.sample(frac=1),  [train_size, train_size+validation_size])\n",
        "\n",
        "# Hot Encoding\n",
        "train_x =  np.asarray([AA_hotencoding(variant) for variant in train[AA_col]])\n",
        "train_y = train[array]\n",
        "validate_x = np.asarray([AA_hotencoding(variant) for variant in validate[AA_col]])\n",
        "validate_y = validate[array]\n",
        "test_x = np.asarray([AA_hotencoding(variant) for variant in test[AA_col]])\n",
        "test_y = test[array]\n",
        "missing_x = np.asarray([AA_hotencoding(variant) for variant in df_missing[AA_col]])\n"
      ]
    },
    {
      "cell_type": "code",
      "execution_count": 6,
      "metadata": {},
      "outputs": [
        {
          "data": {
            "text/plain": [
              "(9200, 7, 20)"
            ]
          },
          "execution_count": 6,
          "metadata": {},
          "output_type": "execute_result"
        }
      ],
      "source": [
        "train_x.shape"
      ]
    },
    {
      "cell_type": "markdown",
      "metadata": {},
      "source": [
        "#### cnn  model training\n",
        "Default parameterization:Here the model is applied to aa-nor_package learning process, as details"
      ]
    },
    {
      "cell_type": "code",
      "execution_count": 7,
      "metadata": {},
      "outputs": [
        {
          "name": "stdout",
          "output_type": "stream",
          "text": [
            "Epoch 1/300\n",
            "575/575 - 2s - loss: 8.1178 - mae: 1.9298 - val_loss: 9.0733 - val_mae: 2.0441 - 2s/epoch - 3ms/step\n",
            "Epoch 2/300\n",
            "575/575 - 1s - loss: 8.0575 - mae: 1.9218 - val_loss: 9.1160 - val_mae: 2.0393 - 893ms/epoch - 2ms/step\n",
            "Epoch 3/300\n",
            "575/575 - 1s - loss: 8.0190 - mae: 1.9216 - val_loss: 9.1487 - val_mae: 2.0421 - 899ms/epoch - 2ms/step\n",
            "Epoch 4/300\n",
            "575/575 - 1s - loss: 7.9974 - mae: 1.9188 - val_loss: 9.2208 - val_mae: 2.0476 - 853ms/epoch - 1ms/step\n",
            "Epoch 5/300\n",
            "575/575 - 1s - loss: 7.9711 - mae: 1.9160 - val_loss: 9.1895 - val_mae: 2.0467 - 878ms/epoch - 2ms/step\n",
            "Epoch 6/300\n",
            "575/575 - 1s - loss: 7.9420 - mae: 1.9150 - val_loss: 9.2081 - val_mae: 2.0472 - 849ms/epoch - 1ms/step\n",
            "Epoch 7/300\n",
            "575/575 - 1s - loss: 7.9164 - mae: 1.9114 - val_loss: 9.2941 - val_mae: 2.0511 - 835ms/epoch - 1ms/step\n",
            "Epoch 8/300\n",
            "575/575 - 1s - loss: 7.8986 - mae: 1.9123 - val_loss: 9.2428 - val_mae: 2.0508 - 819ms/epoch - 1ms/step\n",
            "Epoch 9/300\n",
            "575/575 - 1s - loss: 7.8590 - mae: 1.9080 - val_loss: 9.2811 - val_mae: 2.0473 - 827ms/epoch - 1ms/step\n",
            "Epoch 10/300\n",
            "575/575 - 1s - loss: 7.8249 - mae: 1.9071 - val_loss: 9.3138 - val_mae: 2.0552 - 819ms/epoch - 1ms/step\n",
            "Epoch 11/300\n",
            "575/575 - 1s - loss: 7.7915 - mae: 1.9009 - val_loss: 9.3763 - val_mae: 2.0883 - 818ms/epoch - 1ms/step\n",
            "Epoch 12/300\n",
            "575/575 - 1s - loss: 7.7332 - mae: 1.8986 - val_loss: 9.4548 - val_mae: 2.0701 - 811ms/epoch - 1ms/step\n",
            "Epoch 13/300\n",
            "575/575 - 1s - loss: 7.6975 - mae: 1.8928 - val_loss: 9.4282 - val_mae: 2.0839 - 857ms/epoch - 1ms/step\n",
            "Epoch 14/300\n",
            "575/575 - 1s - loss: 7.6308 - mae: 1.8907 - val_loss: 9.5144 - val_mae: 2.0753 - 862ms/epoch - 1ms/step\n",
            "Epoch 15/300\n",
            "575/575 - 1s - loss: 7.5846 - mae: 1.8875 - val_loss: 9.4406 - val_mae: 2.0819 - 889ms/epoch - 2ms/step\n",
            "Epoch 16/300\n",
            "575/575 - 1s - loss: 7.5323 - mae: 1.8847 - val_loss: 9.7161 - val_mae: 2.1061 - 842ms/epoch - 1ms/step\n",
            "Epoch 17/300\n",
            "575/575 - 1s - loss: 7.4796 - mae: 1.8766 - val_loss: 9.5740 - val_mae: 2.1066 - 813ms/epoch - 1ms/step\n",
            "Epoch 18/300\n",
            "575/575 - 1s - loss: 7.4126 - mae: 1.8785 - val_loss: 9.6285 - val_mae: 2.1068 - 846ms/epoch - 1ms/step\n",
            "Epoch 19/300\n",
            "575/575 - 1s - loss: 7.3666 - mae: 1.8699 - val_loss: 9.8546 - val_mae: 2.1625 - 810ms/epoch - 1ms/step\n",
            "Epoch 20/300\n",
            "575/575 - 1s - loss: 7.3217 - mae: 1.8702 - val_loss: 9.7423 - val_mae: 2.1544 - 786ms/epoch - 1ms/step\n",
            "Epoch 21/300\n",
            "575/575 - 1s - loss: 7.2579 - mae: 1.8657 - val_loss: 9.7906 - val_mae: 2.1470 - 831ms/epoch - 1ms/step\n",
            "Epoch 22/300\n",
            "575/575 - 1s - loss: 7.2061 - mae: 1.8602 - val_loss: 9.6151 - val_mae: 2.1287 - 812ms/epoch - 1ms/step\n",
            "Epoch 23/300\n",
            "575/575 - 1s - loss: 7.1163 - mae: 1.8537 - val_loss: 9.7574 - val_mae: 2.1555 - 816ms/epoch - 1ms/step\n",
            "Epoch 24/300\n",
            "575/575 - 1s - loss: 7.0895 - mae: 1.8539 - val_loss: 9.8792 - val_mae: 2.1440 - 786ms/epoch - 1ms/step\n",
            "Epoch 25/300\n",
            "575/575 - 1s - loss: 7.0061 - mae: 1.8443 - val_loss: 9.9818 - val_mae: 2.1721 - 778ms/epoch - 1ms/step\n",
            "Epoch 26/300\n",
            "575/575 - 1s - loss: 6.9634 - mae: 1.8451 - val_loss: 9.8826 - val_mae: 2.1812 - 786ms/epoch - 1ms/step\n",
            "Epoch 27/300\n",
            "575/575 - 1s - loss: 6.9005 - mae: 1.8339 - val_loss: 9.8824 - val_mae: 2.1788 - 804ms/epoch - 1ms/step\n",
            "Epoch 28/300\n",
            "575/575 - 1s - loss: 6.8121 - mae: 1.8259 - val_loss: 10.0547 - val_mae: 2.2267 - 869ms/epoch - 2ms/step\n",
            "Epoch 29/300\n",
            "575/575 - 1s - loss: 6.7674 - mae: 1.8285 - val_loss: 10.0097 - val_mae: 2.1950 - 804ms/epoch - 1ms/step\n",
            "Epoch 30/300\n",
            "575/575 - 1s - loss: 6.6983 - mae: 1.8200 - val_loss: 10.2761 - val_mae: 2.2652 - 892ms/epoch - 2ms/step\n",
            "Epoch 31/300\n",
            "575/575 - 1s - loss: 6.6345 - mae: 1.8129 - val_loss: 10.0970 - val_mae: 2.2105 - 830ms/epoch - 1ms/step\n",
            "Epoch 32/300\n",
            "575/575 - 1s - loss: 6.5712 - mae: 1.8104 - val_loss: 10.2370 - val_mae: 2.2276 - 784ms/epoch - 1ms/step\n",
            "Epoch 33/300\n",
            "575/575 - 1s - loss: 6.4928 - mae: 1.8026 - val_loss: 10.3992 - val_mae: 2.2750 - 775ms/epoch - 1ms/step\n",
            "Epoch 34/300\n",
            "575/575 - 1s - loss: 6.4301 - mae: 1.7982 - val_loss: 10.1442 - val_mae: 2.2477 - 795ms/epoch - 1ms/step\n",
            "Epoch 35/300\n",
            "575/575 - 1s - loss: 6.3663 - mae: 1.7922 - val_loss: 10.3765 - val_mae: 2.2611 - 814ms/epoch - 1ms/step\n",
            "Epoch 36/300\n",
            "575/575 - 1s - loss: 6.3027 - mae: 1.7886 - val_loss: 10.5493 - val_mae: 2.3143 - 789ms/epoch - 1ms/step\n",
            "Epoch 37/300\n",
            "575/575 - 1s - loss: 6.2526 - mae: 1.7836 - val_loss: 10.3376 - val_mae: 2.2833 - 864ms/epoch - 2ms/step\n",
            "Epoch 38/300\n",
            "575/575 - 1s - loss: 6.1722 - mae: 1.7776 - val_loss: 10.4066 - val_mae: 2.2900 - 882ms/epoch - 2ms/step\n",
            "Epoch 39/300\n",
            "575/575 - 1s - loss: 6.1010 - mae: 1.7659 - val_loss: 10.4784 - val_mae: 2.2917 - 845ms/epoch - 1ms/step\n",
            "Epoch 40/300\n",
            "575/575 - 1s - loss: 6.0391 - mae: 1.7584 - val_loss: 10.4437 - val_mae: 2.2931 - 805ms/epoch - 1ms/step\n",
            "Epoch 41/300\n",
            "575/575 - 1s - loss: 5.9580 - mae: 1.7558 - val_loss: 10.7427 - val_mae: 2.3401 - 810ms/epoch - 1ms/step\n",
            "Epoch 42/300\n",
            "575/575 - 1s - loss: 5.9381 - mae: 1.7539 - val_loss: 10.6669 - val_mae: 2.3198 - 768ms/epoch - 1ms/step\n",
            "Epoch 43/300\n",
            "575/575 - 1s - loss: 5.8588 - mae: 1.7446 - val_loss: 10.8252 - val_mae: 2.3688 - 799ms/epoch - 1ms/step\n",
            "Epoch 44/300\n",
            "575/575 - 1s - loss: 5.8003 - mae: 1.7382 - val_loss: 10.9658 - val_mae: 2.3478 - 773ms/epoch - 1ms/step\n",
            "Epoch 45/300\n",
            "575/575 - 1s - loss: 5.7560 - mae: 1.7306 - val_loss: 10.6930 - val_mae: 2.3401 - 798ms/epoch - 1ms/step\n",
            "Epoch 46/300\n",
            "575/575 - 1s - loss: 5.6568 - mae: 1.7210 - val_loss: 10.8138 - val_mae: 2.3511 - 814ms/epoch - 1ms/step\n",
            "Epoch 47/300\n",
            "575/575 - 1s - loss: 5.6203 - mae: 1.7195 - val_loss: 10.9053 - val_mae: 2.3726 - 791ms/epoch - 1ms/step\n",
            "Epoch 48/300\n",
            "575/575 - 1s - loss: 5.5779 - mae: 1.7209 - val_loss: 11.1758 - val_mae: 2.4209 - 775ms/epoch - 1ms/step\n",
            "Epoch 49/300\n",
            "575/575 - 1s - loss: 5.5071 - mae: 1.7067 - val_loss: 10.7139 - val_mae: 2.3528 - 853ms/epoch - 1ms/step\n",
            "Epoch 50/300\n",
            "575/575 - 1s - loss: 5.4943 - mae: 1.7082 - val_loss: 10.8779 - val_mae: 2.3621 - 812ms/epoch - 1ms/step\n",
            "Epoch 51/300\n",
            "575/575 - 1s - loss: 5.4245 - mae: 1.6987 - val_loss: 11.0491 - val_mae: 2.3839 - 779ms/epoch - 1ms/step\n"
          ]
        },
        {
          "name": "stderr",
          "output_type": "stream",
          "text": [
            "d:\\ProgramData\\anaconda3\\envs\\tf\\lib\\site-packages\\keras\\src\\engine\\training.py:3000: UserWarning: You are saving your model as an HDF5 file via `model.save()`. This file format is considered legacy. We recommend using instead the native Keras format, e.g. `model.save('my_model.keras')`.\n",
            "  saving_api.save_model(\n"
          ]
        }
      ],
      "source": [
        "# Training\n",
        "\n",
        "# Define model \n",
        "model = cnn_aa_model(L1=140, L2=20)\n",
        "\n",
        "# Training parameters \n",
        "batch_size = 16\n",
        "EpochCount = 300\n",
        "#EpochCount = 5 #Used for quick excusion of the Notebook; please use a higher number instead to allow proper convergence\n",
        "\n",
        "# train model \n",
        "model.fit(train_x, train_y, batch_size=batch_size, epochs=EpochCount, \n",
        "          validation_data=(validate_x, validate_y),verbose=2,\n",
        "              callbacks=[CustomEarlyStopping(ratio=0.90, patience=50, restore_best_weights = True)])\n",
        "\n",
        "# Save model\n",
        "ModelFileName = 'pretrain/model_1st_cnn_aa_nor_transduction'\n",
        "model.save(ModelFileName+'.h5')"
      ]
    },
    {
      "cell_type": "markdown",
      "metadata": {},
      "source": [
        "#### Model validation\n",
        "· `Train-data validation` \n",
        "\n"
      ]
    },
    {
      "cell_type": "code",
      "execution_count": 15,
      "metadata": {
        "ExecuteTime": {
          "end_time": "2021-06-15T18:02:53.571538Z",
          "start_time": "2021-06-15T18:02:46.205042Z"
        }
      },
      "outputs": [
        {
          "name": "stdout",
          "output_type": "stream",
          "text": [
            "  1/288 [..............................] - ETA: 4s"
          ]
        },
        {
          "name": "stdout",
          "output_type": "stream",
          "text": [
            "288/288 [==============================] - 0s 2ms/step\n"
          ]
        },
        {
          "data": {
            "text/plain": [
              "0.6195781720629474"
            ]
          },
          "execution_count": 15,
          "metadata": {},
          "output_type": "execute_result"
        }
      ],
      "source": [
        "\n",
        "# Predict for train variants\n",
        "y = model.predict(train_x)\n",
        "x = np.array(train_y)\n",
        "y = np.reshape(y, (1,y.shape[0]))[0]\n",
        "preds_df = pd.DataFrame(columns=['y_pred','y_true'])\n",
        "preds_df['y_pred'] = pd.DataFrame(y)\n",
        "preds_df['y_true']  = pd.DataFrame(x)\n",
        "preds_df['y_pred'].corr(preds_df['y_true'])\n"
      ]
    },
    {
      "cell_type": "code",
      "execution_count": 16,
      "metadata": {},
      "outputs": [],
      "source": [
        "x = preds_df['y_pred']  \n",
        "y = preds_df['y_true']   \n",
        "\n",
        "remove = np.isinf(x) & np.isinf(y)\n",
        "x = x[~remove]\n",
        "y = y[~remove]\n",
        "\n",
        "keep = (~np.isinf(x)) & (~np.isinf(y))\n",
        "x_both = x[keep]\n",
        "y_both = y[keep]\n",
        "\n",
        "y_missing = y[np.isinf(x)]\n",
        "x_missing = x[np.isinf(y)]\n",
        "\n",
        "\n",
        "kernel = gaussian_kde(np.vstack([\n",
        "    x_both.sample(n=2000, random_state=1), \n",
        "    y_both.sample(n=2000, random_state=1)\n",
        "]))\n",
        "c_both = kernel(np.vstack([x_both.values, y_both.values]))\n"
      ]
    },
    {
      "cell_type": "code",
      "execution_count": 17,
      "metadata": {},
      "outputs": [
        {
          "name": "stderr",
          "output_type": "stream",
          "text": [
            "d:\\ProgramData\\anaconda3\\envs\\tf\\lib\\site-packages\\numpy\\lib\\histograms.py:906: RuntimeWarning: invalid value encountered in divide\n",
            "  return n/db/n.sum(), bin_edges\n",
            "meta NOT subset; don't know how to subset; dropped\n"
          ]
        },
        {
          "data": {
            "image/png": "[encoded data removed]",
            "text/plain": [
              "<Figure size 210x195 with 4 Axes>"
            ]
          },
          "metadata": {},
          "output_type": "display_data"
        }
      ],
      "source": [
        "fig = plt.figure(figsize=(1.4,1.3), dpi=150)\n",
        "gs = fig.add_gridspec(2, 2, left=0.275, right=0.95, bottom=0.22, top=0.95, \n",
        "                      width_ratios=[1, 6], height_ratios=[6, 1], hspace=0., wspace=0)\n",
        "ax = fig.add_subplot(gs[0, 1])\n",
        "ax.scatter(x_both, y_both, c=c_both, cmap=mpl.cm.inferno, s=0.2, edgecolor='none', rasterized=True)\n",
        "ax.set_xticks([]); ax.set_yticks([])\n",
        "xlim = [-11, 12]\n",
        "bins = np.linspace(*xlim, 25)\n",
        "ax.set_xlim(xlim); ax.set_ylim(xlim)\n",
        "ax.text(0.03, 0.97, r'$r$ = {:.4f}'.format(np.corrcoef(x_both, y_both)[0, 1]),\n",
        "       transform=ax.transAxes, ha='left', va='top', fontsize=7)\n",
        "\n",
        "ax.text(0.97, 0.01, 'n={}'.format(si_format(len(x_both)), precision=2, format_str='{value}{prefix}',), \n",
        "        transform=ax.transAxes, ha='right', va='bottom', fontsize=7)\n",
        "\n",
        "# Left Marginal\n",
        "ax = fig.add_subplot(gs[0, 0])\n",
        "ax.hist(y_missing, bins=bins, edgecolor='none', orientation='horizontal', density=True, color='r')\n",
        "ax.set_ylim(xlim)\n",
        "ax.set_xticks([]); ax.set_yticks([-5, 0, 5, 10, 15,20])\n",
        "ax.text(0.97, 0.97, 'n={}'.format(si_format(len(y_missing)), precision=2, format_str='{value}{prefix}',), \n",
        "        transform=ax.transAxes, ha='right', va='top', fontsize=7, rotation=90, color='r')\n",
        "ax.set_ylabel('Prediction', labelpad=2,fontsize=8)\n",
        "ax.tick_params(axis='both', labelsize=7, length=2, pad=1)\n",
        "\n",
        "# Bottom Marginal\n",
        "ax = fig.add_subplot(gs[1, 1])\n",
        "ax.hist(x_missing, bins=bins, edgecolor='none', density=True, color='r')\n",
        "ax.set_xlim(xlim)\n",
        "ax.set_xticks([-5, 0, 5, 10, 15,20]); ax.set_yticks([])\n",
        "ax.text(0.97, 0.8, 'n={}'.format(si_format(len(x_missing)), precision=2, format_str='{value}{prefix}',), \n",
        "        transform=ax.transAxes, ha='right', va='top', fontsize=7, color='r')\n",
        "ax.set_xlabel('Truth', labelpad=2,fontsize=8)\n",
        "ax.tick_params(axis='both', labelsize=7, length=2, pad=1)\n",
        "\n",
        "# Missing label (not detected in either)\n",
        "ax = fig.add_subplot(gs[1, 0])\n",
        "for spine in ['bottom', 'left']:\n",
        "    ax.spines[spine].set_visible(False)\n",
        "ax.set_xticks([]); ax.set_yticks([])\n",
        "\n",
        "ax.text(0.8, 0.8, 'Missing', transform=ax.transAxes, color='r', ha='right', va='top', fontsize=7, clip_on=False)\n",
        "fig.savefig('../results/cnn/1st_results/nor_transduction/1st_aa_nor_transduction_prediction_correlation_train.pdf',dpi=300,bbox_inches='tight')"
      ]
    },
    {
      "cell_type": "code",
      "execution_count": 18,
      "metadata": {},
      "outputs": [
        {
          "name": "stderr",
          "output_type": "stream",
          "text": [
            "meta NOT subset; don't know how to subset; dropped\n"
          ]
        },
        {
          "data": {
            "image/png": "[encoded data removed]",
            "text/plain": [
              "<Figure size 180x150 with 1 Axes>"
            ]
          },
          "metadata": {},
          "output_type": "display_data"
        }
      ],
      "source": [
        "data = np.array(preds_df['y_pred']) \n",
        "data = data.reshape(-1, 1)  # 将数据转换成列向量的形式\n",
        "\n",
        "# 使用GaussianMixture拟合数据\n",
        "n_components = 1 # 设置混合模型的分量个数\n",
        "gmm = GaussianMixture(n_components=n_components)\n",
        "gmm.fit(data)\n",
        "\n",
        "# 获取每个分量的均值和协方差矩阵\n",
        "means = gmm.means_\n",
        "covariances = gmm.covariances_\n",
        "\n",
        "# 生成拟合后的分布\n",
        "x = np.linspace(-7, 8, 100000)\n",
        "x = x.reshape(-1, 1)\n",
        "y = np.exp(gmm.score_samples(x))\n",
        "\n",
        "fig,ax = plt.subplots(figsize=(1.8,1.5),dpi=100)\n",
        "# 绘制原始数据和拟合后的分布\n",
        "plt.hist(data, bins=100, density=True, alpha=0.6, color = '#BAB3A3',label='Prediction')\n",
        "#plt.plot(x, y, '-r', label='GMM fit')\n",
        "\n",
        "\n",
        "# 绘制每个分量的正态分布\n",
        "for i in range(n_components):\n",
        "    component = np.exp(-(x - means[i]) ** 2 / (2 * covariances[i]))\n",
        "    component /= np.sqrt(2 * np.pi * covariances[i])\n",
        "    component *= gmm.weights_[i]\n",
        "    if i == 0:\n",
        "        ax.plot(x, component, '-', label=f'Distribution {i + 1}', color='#F66E68', alpha=1)\n",
        "        ax.fill_between(x.flatten(), 0, component.flatten(), color='#F66E68', alpha=0.4)\n",
        "    else:\n",
        "        ax.plot(x, component, '-', label=f'Distribution {i + 1}', color='#457B9D', alpha=1)\n",
        "        ax.fill_between(x.flatten(), 0, component.flatten(), color='#457B9D', alpha=0.4)\n",
        "\n",
        "\n",
        "plt.title('Prediction',fontsize=10)\n",
        "ax.tick_params(axis='both', which='both', length=2,labelsize=10)\n",
        "ax.set_xticks([-5, 0, 5, ]); \n",
        "# ax.set_yticks([])\n",
        "plt.ylabel('Density',labelpad=1,fontsize=10)\n",
        "plt.xlabel('Nor_package',labelpad=1,fontsize=10)\n",
        "plt.legend(fontsize=7,frameon=False)\n",
        "fig.savefig('../results/cnn/1st_results/nor_transduction/1st_aa_nor_transduction_prediction_distribution_train.pdf',dpi=300,bbox_inches='tight')"
      ]
    },
    {
      "cell_type": "markdown",
      "metadata": {},
      "source": [
        "· `Test-data validation` "
      ]
    },
    {
      "cell_type": "code",
      "execution_count": 19,
      "metadata": {},
      "outputs": [
        {
          "name": "stdout",
          "output_type": "stream",
          "text": [
            " 1/16 [>.............................] - ETA: 0s"
          ]
        },
        {
          "name": "stdout",
          "output_type": "stream",
          "text": [
            "16/16 [==============================] - 0s 2ms/step\n"
          ]
        },
        {
          "data": {
            "text/plain": [
              "-0.06339272852614754"
            ]
          },
          "execution_count": 19,
          "metadata": {},
          "output_type": "execute_result"
        }
      ],
      "source": [
        "\n",
        "# Predict for test variants\n",
        "y = model.predict(test_x)\n",
        "x = np.array(test_y)\n",
        "y = np.reshape(y, (1,y.shape[0]))[0]\n",
        "preds_df = pd.DataFrame(columns=['y_pred','y_true'])\n",
        "preds_df['y_pred'] = pd.DataFrame(y)\n",
        "preds_df['y_true']  = pd.DataFrame(x)\n",
        "preds_df['y_pred'].corr(preds_df['y_true'])\n"
      ]
    },
    {
      "cell_type": "code",
      "execution_count": 20,
      "metadata": {},
      "outputs": [
        {
          "name": "stderr",
          "output_type": "stream",
          "text": [
            "d:\\ProgramData\\anaconda3\\envs\\tf\\lib\\site-packages\\numpy\\lib\\histograms.py:906: RuntimeWarning: invalid value encountered in divide\n",
            "  return n/db/n.sum(), bin_edges\n",
            "meta NOT subset; don't know how to subset; dropped\n"
          ]
        },
        {
          "data": {
            "image/png": "[encoded data removed]",
            "text/plain": [
              "<Figure size 210x195 with 4 Axes>"
            ]
          },
          "metadata": {},
          "output_type": "display_data"
        }
      ],
      "source": [
        "x = preds_df['y_pred']  \n",
        "y = preds_df['y_true']   \n",
        "\n",
        "remove = np.isinf(x) & np.isinf(y)\n",
        "x = x[~remove]\n",
        "y = y[~remove]\n",
        "\n",
        "keep = (~np.isinf(x)) & (~np.isinf(y))\n",
        "x_both = x[keep]\n",
        "y_both = y[keep]\n",
        "\n",
        "y_missing = y[np.isinf(x)]\n",
        "x_missing = x[np.isinf(y)]\n",
        "\n",
        "\n",
        "kernel = gaussian_kde(np.vstack([\n",
        "    x_both.sample(n=500, random_state=1), \n",
        "    y_both.sample(n=500, random_state=1)\n",
        "]))\n",
        "c_both = kernel(np.vstack([x_both.values, y_both.values]))\n",
        "\n",
        "fig = plt.figure(figsize=(1.4,1.3), dpi=150)\n",
        "gs = fig.add_gridspec(2, 2, left=0.275, right=0.95, bottom=0.22, top=0.95, \n",
        "                      width_ratios=[1, 6], height_ratios=[6, 1], hspace=0., wspace=0)\n",
        "ax = fig.add_subplot(gs[0, 1])\n",
        "ax.scatter(x_both, y_both, c=c_both, cmap=mpl.cm.inferno, s=0.2, edgecolor='none', rasterized=True)\n",
        "ax.set_xticks([]); ax.set_yticks([])\n",
        "xlim = [-11, 12]\n",
        "bins = np.linspace(*xlim, 25)\n",
        "ax.set_xlim(xlim); ax.set_ylim(xlim)\n",
        "ax.text(0.03, 0.97, r'$r$ = {:.4f}'.format(np.corrcoef(x_both, y_both)[0, 1]),\n",
        "       transform=ax.transAxes, ha='left', va='top', fontsize=7)\n",
        "\n",
        "ax.text(0.97, 0.01, 'n={}'.format(si_format(len(x_both)), precision=2, format_str='{value}{prefix}',), \n",
        "        transform=ax.transAxes, ha='right', va='bottom', fontsize=7)\n",
        "\n",
        "# Left Marginal\n",
        "ax = fig.add_subplot(gs[0, 0])\n",
        "ax.hist(y_missing, bins=bins, edgecolor='none', orientation='horizontal', density=True, color='r')\n",
        "ax.set_ylim(xlim)\n",
        "ax.set_xticks([]); ax.set_yticks([-5, 0, 5, 10, 15,20])\n",
        "ax.text(0.97, 0.97, 'n={}'.format(si_format(len(y_missing)), precision=2, format_str='{value}{prefix}',), \n",
        "        transform=ax.transAxes, ha='right', va='top', fontsize=7, rotation=90, color='r')\n",
        "ax.set_ylabel('Prediction', labelpad=2,fontsize=8)\n",
        "ax.tick_params(axis='both', labelsize=7, length=2, pad=1)\n",
        "\n",
        "# Bottom Marginal\n",
        "ax = fig.add_subplot(gs[1, 1])\n",
        "ax.hist(x_missing, bins=bins, edgecolor='none', density=True, color='r')\n",
        "ax.set_xlim(xlim)\n",
        "ax.set_xticks([-5, 0, 5, 10, 15,20]); ax.set_yticks([])\n",
        "ax.text(0.97, 0.8, 'n={}'.format(si_format(len(x_missing)), precision=2, format_str='{value}{prefix}',), \n",
        "        transform=ax.transAxes, ha='right', va='top', fontsize=7, color='r')\n",
        "ax.set_xlabel('Truth', labelpad=2,fontsize=8)\n",
        "ax.tick_params(axis='both', labelsize=6, length=2, pad=1)\n",
        "\n",
        "# Missing label (not detected in either)\n",
        "ax = fig.add_subplot(gs[1, 0])\n",
        "for spine in ['bottom', 'left']:\n",
        "    ax.spines[spine].set_visible(False)\n",
        "ax.set_xticks([]); ax.set_yticks([])\n",
        "\n",
        "ax.text(0.8, 0.8, 'Missing', transform=ax.transAxes, color='r', ha='right', va='top', fontsize=7, clip_on=False)\n",
        "fig.savefig('../results/cnn/1st_results/nor_transduction/1st_aa_nor_transduction_prediction_correlation_test.pdf',dpi=300,bbox_inches='tight')"
      ]
    },
    {
      "cell_type": "code",
      "execution_count": 21,
      "metadata": {
        "ExecuteTime": {
          "end_time": "2021-06-15T18:04:49.108828Z",
          "start_time": "2021-06-15T18:04:38.468240Z"
        }
      },
      "outputs": [
        {
          "name": "stderr",
          "output_type": "stream",
          "text": [
            "meta NOT subset; don't know how to subset; dropped\n"
          ]
        },
        {
          "data": {
            "image/png": "[encoded data removed]",
            "text/plain": [
              "<Figure size 180x150 with 1 Axes>"
            ]
          },
          "metadata": {},
          "output_type": "display_data"
        }
      ],
      "source": [
        "data = np.array(preds_df['y_pred']) \n",
        "data = data.reshape(-1, 1)  # 将数据转换成列向量的形式\n",
        "\n",
        "# 使用GaussianMixture拟合数据\n",
        "n_components = 1 # 设置混合模型的分量个数\n",
        "gmm = GaussianMixture(n_components=n_components)\n",
        "gmm.fit(data)\n",
        "\n",
        "# 获取每个分量的均值和协方差矩阵\n",
        "means = gmm.means_\n",
        "covariances = gmm.covariances_\n",
        "\n",
        "# 生成拟合后的分布\n",
        "x = np.linspace(-7, 8, 100000)\n",
        "x = x.reshape(-1, 1)\n",
        "y = np.exp(gmm.score_samples(x))\n",
        "\n",
        "fig,ax = plt.subplots(figsize=(1.8,1.5),dpi=100)\n",
        "# 绘制原始数据和拟合后的分布\n",
        "plt.hist(data, bins=100, density=True, alpha=0.6, color = '#BAB3A3',label='Prediction')\n",
        "#plt.plot(x, y, '-r', label='GMM fit')\n",
        "\n",
        "\n",
        "# 绘制每个分量的正态分布\n",
        "for i in range(n_components):\n",
        "    component = np.exp(-(x - means[i]) ** 2 / (2 * covariances[i]))\n",
        "    component /= np.sqrt(2 * np.pi * covariances[i])\n",
        "    component *= gmm.weights_[i]\n",
        "    if i == 0:\n",
        "        ax.plot(x, component, '-', label=f'Distribution {i + 1}', color='#F66E68', alpha=1)\n",
        "        ax.fill_between(x.flatten(), 0, component.flatten(), color='#F66E68', alpha=0.4)\n",
        "    else:\n",
        "        ax.plot(x, component, '-', label=f'Distribution {i + 1}', color='#457B9D', alpha=1)\n",
        "        ax.fill_between(x.flatten(), 0, component.flatten(), color='#457B9D', alpha=0.4)\n",
        "\n",
        "\n",
        "plt.title('Prediction',fontsize=10)\n",
        "ax.tick_params(axis='both', which='both', length=2,labelsize=10)\n",
        "ax.set_xticks([-5, 0, 5, ]); \n",
        "# ax.set_yticks([])\n",
        "plt.ylabel('Density',labelpad=1,fontsize=10)\n",
        "plt.xlabel('Nor_package',labelpad=1,fontsize=10)\n",
        "plt.legend(fontsize=7,frameon=False)\n",
        "fig.savefig('../results/cnn/1st_results/nor_transduction/1st_aa_nor_transduction_prediction_distribution_test.pdf',dpi=300,bbox_inches='tight')"
      ]
    },
    {
      "cell_type": "code",
      "execution_count": null,
      "metadata": {},
      "outputs": [],
      "source": []
    },
    {
      "cell_type": "code",
      "execution_count": null,
      "metadata": {},
      "outputs": [],
      "source": []
    }
  ],
  "metadata": {
    "kernelspec": {
      "display_name": "Python 3 (ipykernel)",
      "language": "python",
      "name": "python3"
    },
    "language_info": {
      "codemirror_mode": {
        "name": "ipython",
        "version": 3
      },
      "file_extension": ".py",
      "mimetype": "text/x-python",
      "name": "python",
      "nbconvert_exporter": "python",
      "pygments_lexer": "ipython3",
      "version": "3.8.16"
    },
    "toc": {
      "base_numbering": 1,
      "nav_menu": {},
      "number_sections": true,
      "sideBar": true,
      "skip_h1_title": false,
      "title_cell": "Table of Contents",
      "title_sidebar": "Contents",
      "toc_cell": true,
      "toc_position": {
        "height": "calc(100% - 180px)",
        "left": "10px",
        "top": "150px",
        "width": "320px"
      },
      "toc_section_display": true,
      "toc_window_display": true
    }
  },
  "nbformat": 4,
  "nbformat_minor": 4
}
