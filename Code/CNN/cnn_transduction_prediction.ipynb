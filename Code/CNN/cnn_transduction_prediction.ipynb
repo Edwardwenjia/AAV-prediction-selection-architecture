{
 "cells": [
  {
   "cell_type": "code",
   "execution_count": 5,
   "metadata": {},
   "outputs": [],
   "source": [
    "import pandas as pd\n",
    "import numpy as np\n",
    "import matplotlib as mpl\n",
    "import matplotlib.pyplot as plt\n",
    "import seaborn as sns\n",
    "from IPython.display import Image\n",
    "from scipy.stats import gaussian_kde, norm\n",
    "from sklearn.mixture import GaussianMixture\n",
    "import tensorflow as tf\n",
    "from utils_f4f import CustomEarlyStopping, cnn_aa_model,AA_hotencoding ,heatmap, si_format\n",
    "\n"
   ]
  },
  {
   "cell_type": "markdown",
   "metadata": {},
   "source": [
    "#### Data_preparetion"
   ]
  },
  {
   "cell_type": "code",
   "execution_count": 2,
   "metadata": {},
   "outputs": [
    {
     "data": {
      "text/html": [
       "<div>\n",
       "<style scoped>\n",
       "    .dataframe tbody tr th:only-of-type {\n",
       "        vertical-align: middle;\n",
       "    }\n",
       "\n",
       "    .dataframe tbody tr th {\n",
       "        vertical-align: top;\n",
       "    }\n",
       "\n",
       "    .dataframe thead th {\n",
       "        text-align: right;\n",
       "    }\n",
       "</style>\n",
       "<table border=\"1\" class=\"dataframe\">\n",
       "  <thead>\n",
       "    <tr style=\"text-align: right;\">\n",
       "      <th></th>\n",
       "      <th>AA_sequence</th>\n",
       "      <th>nor_package</th>\n",
       "    </tr>\n",
       "  </thead>\n",
       "  <tbody>\n",
       "    <tr>\n",
       "      <th>0</th>\n",
       "      <td>GANTIIG</td>\n",
       "      <td>0</td>\n",
       "    </tr>\n",
       "    <tr>\n",
       "      <th>1</th>\n",
       "      <td>SWDMDGD</td>\n",
       "      <td>0</td>\n",
       "    </tr>\n",
       "    <tr>\n",
       "      <th>2</th>\n",
       "      <td>LVSSSNI</td>\n",
       "      <td>0</td>\n",
       "    </tr>\n",
       "    <tr>\n",
       "      <th>3</th>\n",
       "      <td>WMGDESK</td>\n",
       "      <td>0</td>\n",
       "    </tr>\n",
       "    <tr>\n",
       "      <th>4</th>\n",
       "      <td>DKQGAKF</td>\n",
       "      <td>0</td>\n",
       "    </tr>\n",
       "  </tbody>\n",
       "</table>\n",
       "</div>"
      ],
      "text/plain": [
       "  AA_sequence  nor_package\n",
       "0     GANTIIG            0\n",
       "1     SWDMDGD            0\n",
       "2     LVSSSNI            0\n",
       "3     WMGDESK            0\n",
       "4     DKQGAKF            0"
      ]
     },
     "execution_count": 2,
     "metadata": {},
     "output_type": "execute_result"
    }
   ],
   "source": [
    "df_all = pd.read_csv('../data/prediction_data_p1.tsv',delimiter='\\t')\n",
    "df_all = df_all.rename(columns={'aa':'AA_sequence'})\n",
    "df_all['nor_package'] = 0\n",
    "df_all.head()\n"
   ]
  },
  {
   "cell_type": "markdown",
   "metadata": {},
   "source": [
    "#### AA-sequence-nor_package"
   ]
  },
  {
   "cell_type": "code",
   "execution_count": 3,
   "metadata": {},
   "outputs": [],
   "source": [
    "aa_nor_package = df_all[['AA_sequence', 'nor_package']][::500]\n",
    "aa_nor_package = aa_nor_package.sort_values(by='nor_package')\n",
    "\n",
    "train_size = 0\n",
    "validation_size = 50\n",
    "train, validate, test = np.split(aa_nor_package.sample(frac=1),  [train_size, train_size+validation_size])\n",
    "# Hot Encoding\n",
    "\n",
    "test_x =  np.asarray([AA_hotencoding(variant) for variant in test['AA_sequence']])\n",
    "test_y = test['nor_package']\n",
    "\n",
    "\n",
    "array = 'AA_sequence'"
   ]
  },
  {
   "cell_type": "markdown",
   "metadata": {},
   "source": [
    "##### First model(1st_aa_nor_package) "
   ]
  },
  {
   "cell_type": "code",
   "execution_count": 35,
   "metadata": {},
   "outputs": [
    {
     "name": "stdout",
     "output_type": "stream",
     "text": [
      "799/799 [==============================] - 2s 2ms/step\n"
     ]
    }
   ],
   "source": [
    "model_outdir = 'pretrain\\model_1st_cnn_aa_nor_package.h5'\n",
    "model_outpath = model_outdir\n",
    "model = tf.keras.models.load_model(model_outdir)\n",
    "y = model.predict(test_x)\n",
    "test['nor_package'] = pd.DataFrame(y).values\n",
    "test.to_csv('../results/cnn/1st_results/pred/1st_cnn_aa_nor_package_prediction.csv',index=False)"
   ]
  },
  {
   "cell_type": "code",
   "execution_count": 36,
   "metadata": {},
   "outputs": [
    {
     "data": {
      "image/png": "[encoded data removed]",
      "text/plain": [
       "<Figure size 200x170 with 1 Axes>"
      ]
     },
     "metadata": {},
     "output_type": "display_data"
    }
   ],
   "source": [
    "nor_package = test['nor_package']\n",
    "data = np.array(nor_package) \n",
    "data = data.reshape(-1, 1)  # Convert the data into a column vector\n",
    "\n",
    "# Fit the data using GaussianMixture\n",
    "n_components = 2 # Set the number of components for the hybrid model\n",
    "gmm = GaussianMixture(n_components=n_components)\n",
    "gmm.fit(data)\n",
    "\n",
    "# Get the mean and covariance matrix for each component\n",
    "means = gmm.means_\n",
    "covariances = gmm.covariances_\n",
    "\n",
    "# Generate the fitted distribution\n",
    "x = np.linspace(-10, 5, 10000)\n",
    "x = x.reshape(-1, 1)\n",
    "y = np.exp(gmm.score_samples(x))\n",
    "\n",
    "fig,ax = plt.subplots(figsize=(2,1.7),dpi=100)\n",
    "# Plot the raw data and the distribution after fitting\n",
    "plt.hist(data, bins=100, density=True, alpha=0.6, color = '#BAB3A3',label='Prediction')\n",
    "\n",
    "# 绘制每个分量的正态分布\n",
    "for i in range(n_components):\n",
    "    component = np.exp(-(x - means[i]) ** 2 / (2 * covariances[i]))\n",
    "    component /= np.sqrt(2 * np.pi * covariances[i])\n",
    "    component *= gmm.weights_[i]\n",
    "    if i == 0:\n",
    "        ax.plot(x, component, '-', label=f'Distribution {i + 1}', color='#F66E68', alpha=1)\n",
    "        ax.fill_between(x.flatten(), 0, component.flatten(), color='#F66E68', alpha=0.4)\n",
    "    else:\n",
    "        ax.plot(x, component, '-', label=f'Distribution {i + 1}', color='#457B9D', alpha=1)\n",
    "        ax.fill_between(x.flatten(), 0, component.flatten(), color='#457B9D', alpha=0.4)\n",
    "\n",
    "\n",
    "plt.title('Prediction_distribution',fontsize=10)\n",
    "ax.tick_params(axis='both', which='both', length=2,labelsize=8)\n",
    "ax.set_xticks([-10,-5,0,5,10]); \n",
    "ax.set_xlim([-10,10])\n",
    "plt.ylabel('Density',labelpad=2,fontsize=10)\n",
    "plt.xlabel('Nor_package',labelpad=2,fontsize=10)\n",
    "plt.legend(fontsize=7,frameon=False,loc='best')\n",
    "fig.savefig('../results/cnn/1st_results/pred/1st_cnn_aa_nor_package_prediction_distribution.pdf',dpi=300,bbox_inches='tight')\n",
    "plt.show()"
   ]
  },
  {
   "cell_type": "markdown",
   "metadata": {},
   "source": [
    "##### Second model(2nd_aa_nor_package) "
   ]
  },
  {
   "cell_type": "code",
   "execution_count": 38,
   "metadata": {},
   "outputs": [
    {
     "name": "stdout",
     "output_type": "stream",
     "text": [
      "799/799 [==============================] - 2s 2ms/step\n"
     ]
    }
   ],
   "source": [
    "model_outdir = 'pretrain\\model_2nd_cnn_aa_nor_package.h5'\n",
    "model_outpath = model_outdir\n",
    "model = tf.keras.models.load_model(model_outdir)\n",
    "y = model.predict(test_x)\n",
    "test['nor_package'] = pd.DataFrame(y).values\n",
    "test.to_csv('../results/cnn/2nd_results/pred/2nd_cnn_aa_nor_package_prediction.csv',index=False)"
   ]
  },
  {
   "cell_type": "code",
   "execution_count": 41,
   "metadata": {},
   "outputs": [
    {
     "data": {
      "image/png": "[encoded data removed]",
      "text/plain": [
       "<Figure size 200x170 with 1 Axes>"
      ]
     },
     "metadata": {},
     "output_type": "display_data"
    }
   ],
   "source": [
    "nor_package = test['nor_package']\n",
    "data = np.array(nor_package) \n",
    "data = data.reshape(-1, 1)  # Convert the data into a column vector\n",
    "\n",
    "# Fit the data using GaussianMixture\n",
    "n_components = 2 # Set the number of components for the hybrid model\n",
    "gmm = GaussianMixture(n_components=n_components)\n",
    "gmm.fit(data)\n",
    "\n",
    "# Get the mean and covariance matrix for each component\n",
    "means = gmm.means_\n",
    "covariances = gmm.covariances_\n",
    "\n",
    "# Generate the fitted distribution\n",
    "x = np.linspace(-10, 5, 10000)\n",
    "x = x.reshape(-1, 1)\n",
    "y = np.exp(gmm.score_samples(x))\n",
    "\n",
    "fig,ax = plt.subplots(figsize=(2,1.7),dpi=100)\n",
    "# Plot the raw data and the distribution after fitting\n",
    "plt.hist(data, bins=100, density=True, alpha=0.6, color = '#BAB3A3',label='Prediction')\n",
    "\n",
    "# 绘制每个分量的正态分布\n",
    "for i in range(n_components):\n",
    "    component = np.exp(-(x - means[i]) ** 2 / (2 * covariances[i]))\n",
    "    component /= np.sqrt(2 * np.pi * covariances[i])\n",
    "    component *= gmm.weights_[i]\n",
    "    if i == 0:\n",
    "        ax.plot(x, component, '-', label=f'Distribution {i + 1}', color='#F66E68', alpha=1)\n",
    "        ax.fill_between(x.flatten(), 0, component.flatten(), color='#F66E68', alpha=0.4)\n",
    "    else:\n",
    "        ax.plot(x, component, '-', label=f'Distribution {i + 1}', color='#457B9D', alpha=1)\n",
    "        ax.fill_between(x.flatten(), 0, component.flatten(), color='#457B9D', alpha=0.4)\n",
    "\n",
    "\n",
    "plt.title('Prediction_distribution',fontsize=10)\n",
    "ax.tick_params(axis='both', which='both', length=2,labelsize=8)\n",
    "ax.set_xticks([-2,0,2,4]); \n",
    "ax.set_xlim([-2,4])\n",
    "plt.ylabel('Density',labelpad=2,fontsize=10)\n",
    "plt.xlabel('Nor_package',labelpad=2,fontsize=10)\n",
    "plt.legend(fontsize=7,frameon=False,loc='best')\n",
    "fig.savefig('../results/cnn/2nd_results/pred/2nd_vae_aa_nor_package_prediction_distribution.pdf',dpi=300,bbox_inches='tight')\n",
    "plt.show()"
   ]
  },
  {
   "cell_type": "code",
   "execution_count": null,
   "metadata": {},
   "outputs": [],
   "source": []
  },
  {
   "cell_type": "markdown",
   "metadata": {},
   "source": [
    "#### aa-nor_transduction"
   ]
  },
  {
   "cell_type": "markdown",
   "metadata": {},
   "source": [
    "##### First model(1st_seq_nor_transduction) "
   ]
  },
  {
   "cell_type": "code",
   "execution_count": 48,
   "metadata": {},
   "outputs": [
    {
     "name": "stdout",
     "output_type": "stream",
     "text": [
      "799/799 [==============================] - 2s 2ms/step\n"
     ]
    }
   ],
   "source": [
    "model_outdir = 'pretrain\\model_1st_cnn_aa_nor_transduction.h5'\n",
    "model_outpath = model_outdir\n",
    "model = tf.keras.models.load_model(model_outdir)\n",
    "y = model.predict(test_x)\n",
    "test['nor_package'] = pd.DataFrame(y).values\n",
    "test.to_csv('../results/cnn/1st_results/pred/1st_cnn_aa_nor_transduction.csv',index=False)\n"
   ]
  },
  {
   "cell_type": "code",
   "execution_count": 49,
   "metadata": {},
   "outputs": [
    {
     "data": {
      "image/png": "[encoded data removed]",
      "text/plain": [
       "<Figure size 200x170 with 1 Axes>"
      ]
     },
     "metadata": {},
     "output_type": "display_data"
    }
   ],
   "source": [
    "nor_package = test['nor_package']\n",
    "data = np.array(nor_package) \n",
    "data = data.reshape(-1, 1)  # Convert the data into a column vector\n",
    "\n",
    "# Fit the data using GaussianMixture\n",
    "n_components = 1 # Set the number of components for the hybrid model\n",
    "gmm = GaussianMixture(n_components=n_components)\n",
    "gmm.fit(data)\n",
    "\n",
    "# Get the mean and covariance matrix for each component\n",
    "means = gmm.means_\n",
    "covariances = gmm.covariances_\n",
    "\n",
    "# Generate the fitted distribution\n",
    "x = np.linspace(-10, 10, 10000)\n",
    "x = x.reshape(-1, 1)\n",
    "y = np.exp(gmm.score_samples(x))\n",
    "\n",
    "fig,ax = plt.subplots(figsize=(2,1.7),dpi=100)\n",
    "# Plot the raw data and the distribution after fitting\n",
    "plt.hist(data, bins=100, density=True, alpha=0.6, color = '#BAB3A3',label='Prediction')\n",
    "\n",
    "# 绘制每个分量的正态分布\n",
    "for i in range(n_components):\n",
    "    component = np.exp(-(x - means[i]) ** 2 / (2 * covariances[i]))\n",
    "    component /= np.sqrt(2 * np.pi * covariances[i])\n",
    "    component *= gmm.weights_[i]\n",
    "    if i == 0:\n",
    "        ax.plot(x, component, '-', label=f'Distribution {i + 1}', color='#F66E68', alpha=1)\n",
    "        ax.fill_between(x.flatten(), 0, component.flatten(), color='#F66E68', alpha=0.4)\n",
    "    else:\n",
    "        ax.plot(x, component, '-', label=f'Distribution {i + 1}', color='#457B9D', alpha=1)\n",
    "        ax.fill_between(x.flatten(), 0, component.flatten(), color='#457B9D', alpha=0.4)\n",
    "\n",
    "\n",
    "plt.title('Prediction_distribution',fontsize=9)\n",
    "ax.tick_params(axis='both', which='both', length=2,labelsize=8)\n",
    "ax.set_xticks([-10,-5,0,5,10]); \n",
    "ax.set_xlim([-10,10])\n",
    "plt.ylabel('Density',labelpad=2,fontsize=10)\n",
    "plt.xlabel('Nor_package',labelpad=2,fontsize=10)\n",
    "plt.legend(fontsize=7,frameon=False,loc='best')\n",
    "fig.savefig('../results/cnn/1st_results/pred/1st_cnn_aa_transduction_prediction_distribution.pdf',dpi=300,bbox_inches='tight')\n",
    "plt.show()"
   ]
  },
  {
   "cell_type": "markdown",
   "metadata": {},
   "source": [
    "##### Second model(2nd_aa_nor_transduction) "
   ]
  },
  {
   "cell_type": "code",
   "execution_count": 50,
   "metadata": {},
   "outputs": [
    {
     "name": "stdout",
     "output_type": "stream",
     "text": [
      "799/799 [==============================] - 2s 2ms/step\n"
     ]
    }
   ],
   "source": [
    "model_outdir = 'pretrain\\model_2nd_cnn_aa_nor_transduction.h5'\n",
    "model_outpath = model_outdir\n",
    "model = tf.keras.models.load_model(model_outdir)\n",
    "y = model.predict(test_x)\n",
    "test['nor_package'] = pd.DataFrame(y).values\n",
    "test.to_csv('../results/cnn/2nd_results/pred/2nd_cnn_aa_nor_transduction.csv',index=False)\n"
   ]
  },
  {
   "cell_type": "code",
   "execution_count": 51,
   "metadata": {},
   "outputs": [
    {
     "data": {
      "image/png": "[encoded data removed]",
      "text/plain": [
       "<Figure size 200x170 with 1 Axes>"
      ]
     },
     "metadata": {},
     "output_type": "display_data"
    }
   ],
   "source": [
    "nor_package = test['nor_package']\n",
    "data = np.array(nor_package) \n",
    "data = data.reshape(-1, 1)  # Convert the data into a column vector\n",
    "\n",
    "# Fit the data using GaussianMixture\n",
    "n_components = 1 # Set the number of components for the hybrid model\n",
    "gmm = GaussianMixture(n_components=n_components)\n",
    "gmm.fit(data)\n",
    "\n",
    "# Get the mean and covariance matrix for each component\n",
    "means = gmm.means_\n",
    "covariances = gmm.covariances_\n",
    "\n",
    "# Generate the fitted distribution\n",
    "x = np.linspace(-10, 10, 10000)\n",
    "x = x.reshape(-1, 1)\n",
    "y = np.exp(gmm.score_samples(x))\n",
    "\n",
    "fig,ax = plt.subplots(figsize=(2,1.7),dpi=100)\n",
    "# Plot the raw data and the distribution after fitting\n",
    "plt.hist(data, bins=100, density=True, alpha=0.6, color = '#BAB3A3',label='Prediction')\n",
    "\n",
    "# 绘制每个分量的正态分布\n",
    "for i in range(n_components):\n",
    "    component = np.exp(-(x - means[i]) ** 2 / (2 * covariances[i]))\n",
    "    component /= np.sqrt(2 * np.pi * covariances[i])\n",
    "    component *= gmm.weights_[i]\n",
    "    if i == 0:\n",
    "        ax.plot(x, component, '-', label=f'Distribution {i + 1}', color='#F66E68', alpha=1)\n",
    "        ax.fill_between(x.flatten(), 0, component.flatten(), color='#F66E68', alpha=0.4)\n",
    "    else:\n",
    "        ax.plot(x, component, '-', label=f'Distribution {i + 1}', color='#457B9D', alpha=1)\n",
    "        ax.fill_between(x.flatten(), 0, component.flatten(), color='#457B9D', alpha=0.4)\n",
    "\n",
    "\n",
    "plt.title('Prediction_distribution',fontsize=9)\n",
    "ax.tick_params(axis='both', which='both', length=2,labelsize=8)\n",
    "ax.set_xticks([-10,-5,0,5,10]); \n",
    "ax.set_xlim([-10,10])\n",
    "plt.ylabel('Density',labelpad=2,fontsize=10)\n",
    "plt.xlabel('Nor_package',labelpad=2,fontsize=10)\n",
    "plt.legend(fontsize=7,frameon=False,loc='best')\n",
    "fig.savefig('../results/cnn/2nd_results/pred/2nd_cnn_aa_transduction_prediction_distribution.pdf',dpi=300,bbox_inches='tight')\n",
    "plt.show()"
   ]
  },
  {
   "cell_type": "code",
   "execution_count": null,
   "metadata": {},
   "outputs": [],
   "source": []
  }
 ],
 "metadata": {
  "kernelspec": {
   "display_name": "tf",
   "language": "python",
   "name": "python3"
  },
  "language_info": {
   "codemirror_mode": {
    "name": "ipython",
    "version": 3
   },
   "file_extension": ".py",
   "mimetype": "text/x-python",
   "name": "python",
   "nbconvert_exporter": "python",
   "pygments_lexer": "ipython3",
   "version": "3.8.16"
  }
 },
 "nbformat": 4,
 "nbformat_minor": 2
}
