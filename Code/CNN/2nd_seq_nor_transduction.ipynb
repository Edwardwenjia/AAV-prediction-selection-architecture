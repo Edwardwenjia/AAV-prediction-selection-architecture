{
  "cells": [
    {
      "cell_type": "code",
      "execution_count": 1,
      "metadata": {
        "ExecuteTime": {
          "end_time": "2021-06-15T17:13:58.134959Z",
          "start_time": "2021-06-15T17:13:57.550003Z"
        }
      },
      "outputs": [],
      "source": [
        "import pandas as pd\n",
        "import numpy as np\n",
        "import matplotlib as mpl\n",
        "import matplotlib.pyplot as plt\n",
        "import seaborn as sns\n",
        "from IPython.display import Image\n",
        "from scipy.stats import gaussian_kde, norm\n",
        "from sklearn.mixture import GaussianMixture\n",
        "\n",
        "from utils_f4f import CustomEarlyStopping, cnn_seq_model,AA_hotencoding ,heatmap, si_format\n"
      ]
    },
    {
      "cell_type": "code",
      "execution_count": 2,
      "metadata": {},
      "outputs": [],
      "source": [
        "mpl.rcParams['svg.fonttype'] = 'none'\n",
        "mpl.rcParams['font.family'] = ['sans-serif']\n",
        "mpl.rcParams['font.sans-serif'] = ['Arial']\n",
        "mpl.rcParams['text.usetex'] = False\n",
        "mpl.rcParams['pdf.fonttype'] = 42\n",
        "mpl.rcParams['ps.fonttype'] = 42"
      ]
    },
    {
      "cell_type": "markdown",
      "metadata": {},
      "source": [
        "#### Data_preparetion\n",
        "\n"
      ]
    },
    {
      "cell_type": "code",
      "execution_count": 3,
      "metadata": {},
      "outputs": [],
      "source": [
        "\n",
        "df_all = pd.read_csv('../data/2nd_seq_aa_transduction.tsv',delimiter='\\t')\n",
        "# df_all = df_all.iloc[::50]\n",
        "df_modeling = df_all.rename(columns={'aa':'AA_seqenece'})\n",
        "df_modeling['label']=0\n",
        "df_modeling = df_modeling[['seq', 'transduction', 'label']]\n",
        "df_missing = df_modeling[np.isinf(df_modeling['transduction']) ]#\n",
        "df_modeling = df_modeling[~np.isnan(df_modeling['transduction']) & ~np.isinf(df_modeling['transduction'])]\n",
        "df_modeling.reset_index(drop = True, inplace=True)\n",
        "AA_col = 'seq'\n",
        "array = 'transduction'\n"
      ]
    },
    {
      "cell_type": "code",
      "execution_count": 4,
      "metadata": {},
      "outputs": [
        {
          "data": {
            "text/plain": [
              "(2556, 3)"
            ]
          },
          "execution_count": 4,
          "metadata": {},
          "output_type": "execute_result"
        }
      ],
      "source": [
        "df_modeling.shape"
      ]
    },
    {
      "cell_type": "code",
      "execution_count": 5,
      "metadata": {},
      "outputs": [
        {
          "data": {
            "image/png": "[encoded data removed]",
            "text/plain": [
              "<Figure size 200x170 with 1 Axes>"
            ]
          },
          "metadata": {},
          "output_type": "display_data"
        }
      ],
      "source": [
        "nor_package = df_all[np.isfinite(df_all[array])][array]\n",
        "data = np.array(nor_package) \n",
        "data = data.reshape(-1, 1)  # Convert the data into a column vector\n",
        "\n",
        "# Fit the data using GaussianMixture\n",
        "n_components = 1 # Set the number of components for the hybrid model\n",
        "gmm = GaussianMixture(n_components=n_components)\n",
        "gmm.fit(data)\n",
        "\n",
        "# Get the mean and covariance matrix for each component\n",
        "means = gmm.means_\n",
        "covariances = gmm.covariances_\n",
        "\n",
        "# Generate the fitted distribution\n",
        "x = np.linspace(-10, 10, 10000)\n",
        "x = x.reshape(-1, 1)\n",
        "y = np.exp(gmm.score_samples(x))\n",
        "\n",
        "fig,ax = plt.subplots(figsize=(2,1.7),dpi=100)\n",
        "# Plot the raw data and the distribution after fitting\n",
        "plt.hist(data, bins=100, density=True, alpha=0.6, color = '#BAB3A3',label='Prediction')\n",
        "\n",
        "# 绘制每个分量的正态分布\n",
        "for i in range(n_components):\n",
        "    component = np.exp(-(x - means[i]) ** 2 / (2 * covariances[i]))\n",
        "    component /= np.sqrt(2 * np.pi * covariances[i])\n",
        "    component *= gmm.weights_[i]\n",
        "    if i == 0:\n",
        "        ax.plot(x, component, '-', label=f'Distribution {i + 1}', color='#F66E68', alpha=1)\n",
        "        ax.fill_between(x.flatten(), 0, component.flatten(), color='#F66E68', alpha=0.4)\n",
        "    else:\n",
        "        ax.plot(x, component, '-', label=f'Distribution {i + 1}', color='#457B9D', alpha=1)\n",
        "        ax.fill_between(x.flatten(), 0, component.flatten(), color='#457B9D', alpha=0.4)\n",
        "\n",
        "\n",
        "plt.title('Truth_distribution',fontsize=10)\n",
        "ax.tick_params(axis='both', which='both', length=2,labelsize=8)\n",
        "ax.set_xticks([-10,-5, 0, 5,10]); \n",
        "ax.set_xlim([-10,10])\n",
        "plt.ylabel('Density',labelpad=2,fontsize=10)\n",
        "plt.xlabel('Nor_package',labelpad=2,fontsize=10)\n",
        "plt.legend(fontsize=7,frameon=False,loc='best')\n",
        "plt.show()"
      ]
    },
    {
      "cell_type": "markdown",
      "metadata": {},
      "source": []
    },
    {
      "cell_type": "markdown",
      "metadata": {},
      "source": [
        "### Prep data\n",
        " one-hot encode the `AA_sequence` column and split the data into\n",
        "training and test sets. The training split will be split\n",
        "\n"
      ]
    },
    {
      "cell_type": "code",
      "execution_count": 6,
      "metadata": {},
      "outputs": [],
      "source": [
        "# Train-Test split\n",
        "train_size = 1800\n",
        "validation_size = 300\n",
        "train, validate, test = np.split(df_modeling.sample(frac=1),  [train_size, train_size+validation_size])\n",
        "\n",
        "# Hot Encoding\n",
        "\n",
        "train_x =  np.asarray([AA_hotencoding(variant) for variant in train[AA_col]])\n",
        "train_y = train[array]\n",
        "validate_x = np.asarray([AA_hotencoding(variant) for variant in validate[AA_col]])\n",
        "validate_y = validate[array]\n",
        "test_x = np.asarray([AA_hotencoding(variant) for variant in test[AA_col]])\n",
        "test_y = test[array]\n",
        "missing_x = np.asarray([AA_hotencoding(variant) for variant in df_missing[AA_col]])\n"
      ]
    },
    {
      "cell_type": "code",
      "execution_count": 7,
      "metadata": {},
      "outputs": [
        {
          "data": {
            "text/plain": [
              "(1800, 21, 20)"
            ]
          },
          "execution_count": 7,
          "metadata": {},
          "output_type": "execute_result"
        }
      ],
      "source": [
        "train_x.shape"
      ]
    },
    {
      "cell_type": "markdown",
      "metadata": {},
      "source": [
        "#### cnn  model training\n",
        "Default parameterization:Here the model is applied to aa-nor_package learning process, as details"
      ]
    },
    {
      "cell_type": "code",
      "execution_count": 8,
      "metadata": {},
      "outputs": [
        {
          "name": "stdout",
          "output_type": "stream",
          "text": [
            "Epoch 1/300\n",
            "113/113 - 20s - loss: 6.0401 - mae: 1.4791 - val_loss: 4.7671 - val_mae: 1.3881 - 20s/epoch - 180ms/step\n",
            "Epoch 2/300\n",
            "113/113 - 6s - loss: 5.8962 - mae: 1.4449 - val_loss: 4.9478 - val_mae: 1.5149 - 6s/epoch - 50ms/step\n",
            "Epoch 3/300\n",
            "113/113 - 6s - loss: 5.8273 - mae: 1.4585 - val_loss: 4.7907 - val_mae: 1.3399 - 6s/epoch - 49ms/step\n",
            "Epoch 4/300\n",
            "113/113 - 6s - loss: 5.8085 - mae: 1.4543 - val_loss: 4.8121 - val_mae: 1.3754 - 6s/epoch - 51ms/step\n",
            "Epoch 5/300\n",
            "113/113 - 6s - loss: 5.7890 - mae: 1.4515 - val_loss: 4.8196 - val_mae: 1.3734 - 6s/epoch - 52ms/step\n",
            "Epoch 6/300\n",
            "113/113 - 6s - loss: 5.7687 - mae: 1.4515 - val_loss: 4.9322 - val_mae: 1.4528 - 6s/epoch - 52ms/step\n",
            "Epoch 7/300\n",
            "113/113 - 6s - loss: 5.7095 - mae: 1.4612 - val_loss: 4.8793 - val_mae: 1.3831 - 6s/epoch - 54ms/step\n",
            "Epoch 8/300\n",
            "113/113 - 6s - loss: 5.6798 - mae: 1.4563 - val_loss: 4.8935 - val_mae: 1.3623 - 6s/epoch - 51ms/step\n",
            "Epoch 9/300\n",
            "113/113 - 6s - loss: 5.6894 - mae: 1.4681 - val_loss: 4.9572 - val_mae: 1.4229 - 6s/epoch - 52ms/step\n",
            "Epoch 10/300\n",
            "113/113 - 6s - loss: 5.6330 - mae: 1.4563 - val_loss: 4.9672 - val_mae: 1.4063 - 6s/epoch - 49ms/step\n",
            "Epoch 11/300\n",
            "113/113 - 6s - loss: 5.6054 - mae: 1.4526 - val_loss: 4.9600 - val_mae: 1.3475 - 6s/epoch - 49ms/step\n",
            "Epoch 12/300\n",
            "113/113 - 6s - loss: 5.5362 - mae: 1.4505 - val_loss: 5.0303 - val_mae: 1.4639 - 6s/epoch - 50ms/step\n",
            "Epoch 13/300\n",
            "113/113 - 6s - loss: 5.5059 - mae: 1.4517 - val_loss: 5.3245 - val_mae: 1.5496 - 6s/epoch - 51ms/step\n",
            "Epoch 14/300\n",
            "113/113 - 6s - loss: 5.4691 - mae: 1.4611 - val_loss: 5.1976 - val_mae: 1.4491 - 6s/epoch - 52ms/step\n",
            "Epoch 15/300\n",
            "113/113 - 6s - loss: 5.4291 - mae: 1.4515 - val_loss: 5.4435 - val_mae: 1.5692 - 6s/epoch - 49ms/step\n",
            "Epoch 16/300\n",
            "113/113 - 6s - loss: 5.3835 - mae: 1.4566 - val_loss: 5.1595 - val_mae: 1.4157 - 6s/epoch - 53ms/step\n",
            "Epoch 17/300\n",
            "113/113 - 6s - loss: 5.3225 - mae: 1.4433 - val_loss: 5.3984 - val_mae: 1.5198 - 6s/epoch - 49ms/step\n",
            "Epoch 18/300\n",
            "113/113 - 6s - loss: 5.2118 - mae: 1.4392 - val_loss: 5.2991 - val_mae: 1.5559 - 6s/epoch - 54ms/step\n",
            "Epoch 19/300\n",
            "113/113 - 6s - loss: 5.1280 - mae: 1.4317 - val_loss: 5.2507 - val_mae: 1.4223 - 6s/epoch - 50ms/step\n",
            "Epoch 20/300\n",
            "113/113 - 6s - loss: 5.0161 - mae: 1.4148 - val_loss: 5.6226 - val_mae: 1.5422 - 6s/epoch - 52ms/step\n",
            "Epoch 21/300\n",
            "113/113 - 6s - loss: 4.9665 - mae: 1.4258 - val_loss: 5.9099 - val_mae: 1.6834 - 6s/epoch - 53ms/step\n",
            "Epoch 22/300\n",
            "113/113 - 6s - loss: 4.7721 - mae: 1.3962 - val_loss: 5.5454 - val_mae: 1.5236 - 6s/epoch - 51ms/step\n",
            "Epoch 23/300\n",
            "113/113 - 6s - loss: 4.6224 - mae: 1.3883 - val_loss: 5.7727 - val_mae: 1.6010 - 6s/epoch - 50ms/step\n",
            "Epoch 24/300\n",
            "113/113 - 5s - loss: 4.4643 - mae: 1.3939 - val_loss: 5.7288 - val_mae: 1.5289 - 5s/epoch - 49ms/step\n",
            "Epoch 25/300\n",
            "113/113 - 6s - loss: 4.3111 - mae: 1.3711 - val_loss: 6.5664 - val_mae: 1.8003 - 6s/epoch - 52ms/step\n",
            "Epoch 26/300\n",
            "113/113 - 6s - loss: 4.1767 - mae: 1.3757 - val_loss: 6.1053 - val_mae: 1.6262 - 6s/epoch - 50ms/step\n",
            "Epoch 27/300\n",
            "113/113 - 6s - loss: 4.0641 - mae: 1.3559 - val_loss: 6.0642 - val_mae: 1.6199 - 6s/epoch - 51ms/step\n",
            "Epoch 28/300\n",
            "113/113 - 6s - loss: 3.8493 - mae: 1.3323 - val_loss: 6.6748 - val_mae: 1.7608 - 6s/epoch - 50ms/step\n",
            "Epoch 29/300\n",
            "113/113 - 6s - loss: 3.6902 - mae: 1.3311 - val_loss: 6.9623 - val_mae: 1.8320 - 6s/epoch - 51ms/step\n",
            "Epoch 30/300\n",
            "113/113 - 6s - loss: 3.6068 - mae: 1.3136 - val_loss: 6.9087 - val_mae: 1.7908 - 6s/epoch - 52ms/step\n",
            "Epoch 31/300\n",
            "113/113 - 6s - loss: 3.3958 - mae: 1.2933 - val_loss: 6.8917 - val_mae: 1.7893 - 6s/epoch - 50ms/step\n",
            "Epoch 32/300\n",
            "113/113 - 6s - loss: 3.3241 - mae: 1.2910 - val_loss: 6.8417 - val_mae: 1.7190 - 6s/epoch - 54ms/step\n",
            "Epoch 33/300\n",
            "113/113 - 6s - loss: 3.1222 - mae: 1.2578 - val_loss: 7.4905 - val_mae: 1.8840 - 6s/epoch - 53ms/step\n",
            "Epoch 34/300\n",
            "113/113 - 6s - loss: 3.0639 - mae: 1.2460 - val_loss: 6.6956 - val_mae: 1.7546 - 6s/epoch - 53ms/step\n",
            "Epoch 35/300\n",
            "113/113 - 6s - loss: 2.9311 - mae: 1.2323 - val_loss: 6.9606 - val_mae: 1.7871 - 6s/epoch - 51ms/step\n",
            "Epoch 36/300\n",
            "113/113 - 6s - loss: 2.8218 - mae: 1.2097 - val_loss: 7.1324 - val_mae: 1.8093 - 6s/epoch - 52ms/step\n",
            "Epoch 37/300\n",
            "113/113 - 6s - loss: 2.6859 - mae: 1.1865 - val_loss: 7.6604 - val_mae: 1.9242 - 6s/epoch - 51ms/step\n",
            "Epoch 38/300\n",
            "113/113 - 6s - loss: 2.5833 - mae: 1.1685 - val_loss: 7.4932 - val_mae: 1.8921 - 6s/epoch - 54ms/step\n",
            "Epoch 39/300\n",
            "113/113 - 6s - loss: 2.4985 - mae: 1.1588 - val_loss: 7.7270 - val_mae: 1.9363 - 6s/epoch - 52ms/step\n",
            "Epoch 40/300\n",
            "113/113 - 6s - loss: 2.3287 - mae: 1.1291 - val_loss: 7.4882 - val_mae: 1.8818 - 6s/epoch - 53ms/step\n",
            "Epoch 41/300\n",
            "113/113 - 6s - loss: 2.2540 - mae: 1.1205 - val_loss: 7.9315 - val_mae: 1.9366 - 6s/epoch - 55ms/step\n",
            "Epoch 42/300\n",
            "113/113 - 6s - loss: 2.1916 - mae: 1.0973 - val_loss: 8.0390 - val_mae: 2.0322 - 6s/epoch - 51ms/step\n",
            "Epoch 43/300\n",
            "113/113 - 6s - loss: 2.0669 - mae: 1.0721 - val_loss: 8.0324 - val_mae: 1.9889 - 6s/epoch - 54ms/step\n",
            "Epoch 44/300\n",
            "113/113 - 6s - loss: 2.0211 - mae: 1.0658 - val_loss: 7.8302 - val_mae: 1.9670 - 6s/epoch - 51ms/step\n",
            "Epoch 45/300\n",
            "113/113 - 6s - loss: 1.9281 - mae: 1.0454 - val_loss: 8.5223 - val_mae: 2.0760 - 6s/epoch - 57ms/step\n",
            "Epoch 46/300\n",
            "113/113 - 6s - loss: 1.8404 - mae: 1.0156 - val_loss: 8.3522 - val_mae: 2.0416 - 6s/epoch - 50ms/step\n",
            "Epoch 47/300\n",
            "113/113 - 6s - loss: 1.7639 - mae: 1.0007 - val_loss: 9.0153 - val_mae: 2.1563 - 6s/epoch - 55ms/step\n",
            "Epoch 48/300\n",
            "113/113 - 6s - loss: 1.7159 - mae: 0.9957 - val_loss: 8.2323 - val_mae: 2.0087 - 6s/epoch - 53ms/step\n",
            "Epoch 49/300\n",
            "113/113 - 6s - loss: 1.6494 - mae: 0.9724 - val_loss: 8.6863 - val_mae: 2.1060 - 6s/epoch - 51ms/step\n",
            "Epoch 50/300\n",
            "113/113 - 6s - loss: 1.5869 - mae: 0.9609 - val_loss: 8.8274 - val_mae: 2.1211 - 6s/epoch - 53ms/step\n",
            "Epoch 51/300\n",
            "113/113 - 6s - loss: 1.4988 - mae: 0.9347 - val_loss: 8.6876 - val_mae: 2.0961 - 6s/epoch - 49ms/step\n",
            "Epoch 52/300\n",
            "113/113 - 6s - loss: 1.5005 - mae: 0.9348 - val_loss: 8.8740 - val_mae: 2.1435 - 6s/epoch - 53ms/step\n",
            "Epoch 53/300\n",
            "113/113 - 4s - loss: 1.3973 - mae: 0.9076 - val_loss: 9.3404 - val_mae: 2.1962 - 4s/epoch - 37ms/step\n",
            "Epoch 54/300\n",
            "113/113 - 4s - loss: 1.3490 - mae: 0.8910 - val_loss: 8.6603 - val_mae: 2.1136 - 4s/epoch - 39ms/step\n",
            "Epoch 55/300\n",
            "113/113 - 4s - loss: 1.2927 - mae: 0.8722 - val_loss: 9.6059 - val_mae: 2.2405 - 4s/epoch - 35ms/step\n",
            "Epoch 56/300\n",
            "113/113 - 3s - loss: 1.2890 - mae: 0.8715 - val_loss: 9.3833 - val_mae: 2.2195 - 3s/epoch - 31ms/step\n",
            "Epoch 57/300\n",
            "113/113 - 3s - loss: 1.2127 - mae: 0.8485 - val_loss: 9.6696 - val_mae: 2.2535 - 3s/epoch - 31ms/step\n",
            "Epoch 58/300\n",
            "113/113 - 3s - loss: 1.1770 - mae: 0.8330 - val_loss: 9.7614 - val_mae: 2.2673 - 3s/epoch - 30ms/step\n",
            "Epoch 59/300\n",
            "113/113 - 3s - loss: 1.1792 - mae: 0.8305 - val_loss: 9.5350 - val_mae: 2.2281 - 3s/epoch - 31ms/step\n",
            "Epoch 60/300\n",
            "113/113 - 3s - loss: 1.0821 - mae: 0.8050 - val_loss: 9.3747 - val_mae: 2.2106 - 3s/epoch - 29ms/step\n",
            "Epoch 61/300\n",
            "113/113 - 4s - loss: 1.0639 - mae: 0.7972 - val_loss: 9.9894 - val_mae: 2.3037 - 4s/epoch - 32ms/step\n",
            "Epoch 62/300\n",
            "113/113 - 4s - loss: 1.0482 - mae: 0.7830 - val_loss: 9.5872 - val_mae: 2.2221 - 4s/epoch - 31ms/step\n",
            "Epoch 63/300\n",
            "113/113 - 3s - loss: 1.0001 - mae: 0.7712 - val_loss: 9.8403 - val_mae: 2.2912 - 3s/epoch - 31ms/step\n",
            "Epoch 64/300\n",
            "113/113 - 4s - loss: 1.0095 - mae: 0.7712 - val_loss: 9.8729 - val_mae: 2.2779 - 4s/epoch - 31ms/step\n",
            "Epoch 65/300\n",
            "113/113 - 3s - loss: 0.9286 - mae: 0.7378 - val_loss: 10.8288 - val_mae: 2.3915 - 3s/epoch - 28ms/step\n",
            "Epoch 66/300\n",
            "113/113 - 3s - loss: 0.9760 - mae: 0.7646 - val_loss: 9.5003 - val_mae: 2.2433 - 3s/epoch - 31ms/step\n",
            "Epoch 67/300\n",
            "113/113 - 3s - loss: 0.8955 - mae: 0.7361 - val_loss: 10.2791 - val_mae: 2.3381 - 3s/epoch - 31ms/step\n",
            "Epoch 68/300\n",
            "113/113 - 4s - loss: 0.8297 - mae: 0.6981 - val_loss: 9.7424 - val_mae: 2.2689 - 4s/epoch - 31ms/step\n",
            "Epoch 69/300\n",
            "113/113 - 3s - loss: 0.8434 - mae: 0.7027 - val_loss: 10.6379 - val_mae: 2.3949 - 3s/epoch - 29ms/step\n",
            "Epoch 70/300\n",
            "113/113 - 4s - loss: 0.8296 - mae: 0.7033 - val_loss: 9.8771 - val_mae: 2.2873 - 4s/epoch - 33ms/step\n"
          ]
        },
        {
          "name": "stderr",
          "output_type": "stream",
          "text": [
            "d:\\ProgramData\\anaconda3\\envs\\tf\\lib\\site-packages\\keras\\src\\engine\\training.py:3000: UserWarning: You are saving your model as an HDF5 file via `model.save()`. This file format is considered legacy. We recommend using instead the native Keras format, e.g. `model.save('my_model.keras')`.\n",
            "  saving_api.save_model(\n"
          ]
        }
      ],
      "source": [
        "# Training\n",
        "\n",
        "# Define model \n",
        "model = cnn_seq_model(L1=420, L2=60)\n",
        "\n",
        "# Training parameters \n",
        "batch_size = 16\n",
        "EpochCount = 300\n",
        "#EpochCount = 5 #Used for quick excusion of the Notebook; please use a higher number instead to allow proper convergence\n",
        "\n",
        "# train model \n",
        "model.fit(train_x, train_y, batch_size=batch_size, epochs=EpochCount, \n",
        "          validation_data=(validate_x, validate_y),verbose=2,\n",
        "              callbacks=[CustomEarlyStopping(ratio=0.90, patience=50, restore_best_weights = True)])\n",
        "\n",
        "# Save model\n",
        "ModelFileName = 'pretrain/model_2nd_cnn_seq_nor_transduction'\n",
        "model.save(ModelFileName+'.h5')"
      ]
    },
    {
      "cell_type": "markdown",
      "metadata": {},
      "source": [
        "#### Model validation\n",
        "· `Train-data validation` \n",
        "\n"
      ]
    },
    {
      "cell_type": "code",
      "execution_count": 9,
      "metadata": {
        "ExecuteTime": {
          "end_time": "2021-06-15T18:02:53.571538Z",
          "start_time": "2021-06-15T18:02:46.205042Z"
        }
      },
      "outputs": [
        {
          "name": "stdout",
          "output_type": "stream",
          "text": [
            "57/57 [==============================] - 1s 14ms/step\n"
          ]
        },
        {
          "data": {
            "text/plain": [
              "0.9360902098259642"
            ]
          },
          "execution_count": 9,
          "metadata": {},
          "output_type": "execute_result"
        }
      ],
      "source": [
        "\n",
        "# Predict for train variants\n",
        "y = model.predict(train_x)\n",
        "x = np.array(train_y)\n",
        "y = np.reshape(y, (1,y.shape[0]))[0]\n",
        "preds_df = pd.DataFrame(columns=['y_pred','y_true'])\n",
        "preds_df['y_pred'] = pd.DataFrame(y)\n",
        "preds_df['y_true']  = pd.DataFrame(x)\n",
        "preds_df['y_pred'].corr(preds_df['y_true'])\n"
      ]
    },
    {
      "cell_type": "code",
      "execution_count": 10,
      "metadata": {},
      "outputs": [],
      "source": [
        "x = preds_df['y_pred']  \n",
        "y = preds_df['y_true']   \n",
        "\n",
        "remove = np.isinf(x) & np.isinf(y)\n",
        "x = x[~remove]\n",
        "y = y[~remove]\n",
        "\n",
        "keep = (~np.isinf(x)) & (~np.isinf(y))\n",
        "x_both = x[keep]\n",
        "y_both = y[keep]\n",
        "\n",
        "y_missing = y[np.isinf(x)]\n",
        "x_missing = x[np.isinf(y)]\n",
        "\n",
        "\n",
        "kernel = gaussian_kde(np.vstack([\n",
        "    x_both.sample(n=1500, random_state=1), \n",
        "    y_both.sample(n=1500, random_state=1)\n",
        "]))\n",
        "c_both = kernel(np.vstack([x_both.values, y_both.values]))\n"
      ]
    },
    {
      "cell_type": "code",
      "execution_count": 11,
      "metadata": {},
      "outputs": [
        {
          "name": "stderr",
          "output_type": "stream",
          "text": [
            "d:\\ProgramData\\anaconda3\\envs\\tf\\lib\\site-packages\\numpy\\lib\\histograms.py:906: RuntimeWarning: invalid value encountered in divide\n",
            "  return n/db/n.sum(), bin_edges\n",
            "meta NOT subset; don't know how to subset; dropped\n"
          ]
        },
        {
          "data": {
            "image/png": "[encoded data removed]",
            "text/plain": [
              "<Figure size 210x195 with 4 Axes>"
            ]
          },
          "metadata": {},
          "output_type": "display_data"
        }
      ],
      "source": [
        "fig = plt.figure(figsize=(1.4,1.3), dpi=150)\n",
        "gs = fig.add_gridspec(2, 2, left=0.275, right=0.95, bottom=0.22, top=0.95, \n",
        "                      width_ratios=[1, 6], height_ratios=[6, 1], hspace=0., wspace=0)\n",
        "ax = fig.add_subplot(gs[0, 1])\n",
        "ax.scatter(x_both, y_both, c=c_both, cmap=mpl.cm.inferno, s=0.2, edgecolor='none', rasterized=True)\n",
        "ax.set_xticks([]); ax.set_yticks([])\n",
        "xlim = [-11, 12]\n",
        "bins = np.linspace(*xlim, 25)\n",
        "ax.set_xlim(xlim); ax.set_ylim(xlim)\n",
        "ax.text(0.03, 0.97, r'$r$ = {:.4f}'.format(np.corrcoef(x_both, y_both)[0, 1]),\n",
        "       transform=ax.transAxes, ha='left', va='top', fontsize=7)\n",
        "\n",
        "ax.text(0.97, 0.01, 'n={}'.format(si_format(len(x_both)), precision=2, format_str='{value}{prefix}',), \n",
        "        transform=ax.transAxes, ha='right', va='bottom', fontsize=7)\n",
        "\n",
        "# Left Marginal\n",
        "ax = fig.add_subplot(gs[0, 0])\n",
        "ax.hist(y_missing, bins=bins, edgecolor='none', orientation='horizontal', density=True, color='r')\n",
        "ax.set_ylim(xlim)\n",
        "ax.set_xticks([]); ax.set_yticks([-5, 0, 5, 10, 15,20])\n",
        "ax.text(0.97, 0.97, 'n={}'.format(si_format(len(y_missing)), precision=2, format_str='{value}{prefix}',), \n",
        "        transform=ax.transAxes, ha='right', va='top', fontsize=7, rotation=90, color='r')\n",
        "ax.set_ylabel('Prediction', labelpad=2,fontsize=8)\n",
        "ax.tick_params(axis='both', labelsize=7, length=2, pad=1)\n",
        "\n",
        "# Bottom Marginal\n",
        "ax = fig.add_subplot(gs[1, 1])\n",
        "ax.hist(x_missing, bins=bins, edgecolor='none', density=True, color='r')\n",
        "ax.set_xlim(xlim)\n",
        "ax.set_xticks([-5, 0, 5, 10, 15,20]); ax.set_yticks([])\n",
        "ax.text(0.97, 0.8, 'n={}'.format(si_format(len(x_missing)), precision=2, format_str='{value}{prefix}',), \n",
        "        transform=ax.transAxes, ha='right', va='top', fontsize=7, color='r')\n",
        "ax.set_xlabel('Truth', labelpad=2,fontsize=8)\n",
        "ax.tick_params(axis='both', labelsize=7, length=2, pad=1)\n",
        "\n",
        "# Missing label (not detected in either)\n",
        "ax = fig.add_subplot(gs[1, 0])\n",
        "for spine in ['bottom', 'left']:\n",
        "    ax.spines[spine].set_visible(False)\n",
        "ax.set_xticks([]); ax.set_yticks([])\n",
        "\n",
        "ax.text(0.8, 0.8, 'Missing', transform=ax.transAxes, color='r', ha='right', va='top', fontsize=7, clip_on=False)\n",
        "fig.savefig('../results/cnn/2nd_results/nor_transduction/2nd_seq_nor_transduction_prediction_correlation_train.pdf',dpi=300,bbox_inches='tight')"
      ]
    },
    {
      "cell_type": "code",
      "execution_count": 12,
      "metadata": {},
      "outputs": [
        {
          "name": "stderr",
          "output_type": "stream",
          "text": [
            "meta NOT subset; don't know how to subset; dropped\n"
          ]
        },
        {
          "data": {
            "image/png": "[encoded data removed]",
            "text/plain": [
              "<Figure size 180x150 with 1 Axes>"
            ]
          },
          "metadata": {},
          "output_type": "display_data"
        }
      ],
      "source": [
        "data = np.array(preds_df['y_pred']) \n",
        "data = data.reshape(-1, 1)  # 将数据转换成列向量的形式\n",
        "\n",
        "# 使用GaussianMixture拟合数据\n",
        "n_components = 1 # 设置混合模型的分量个数\n",
        "gmm = GaussianMixture(n_components=n_components)\n",
        "gmm.fit(data)\n",
        "\n",
        "# 获取每个分量的均值和协方差矩阵\n",
        "means = gmm.means_\n",
        "covariances = gmm.covariances_\n",
        "\n",
        "# 生成拟合后的分布\n",
        "x = np.linspace(-7, 8, 100000)\n",
        "x = x.reshape(-1, 1)\n",
        "y = np.exp(gmm.score_samples(x))\n",
        "\n",
        "fig,ax = plt.subplots(figsize=(1.8,1.5),dpi=100)\n",
        "# 绘制原始数据和拟合后的分布\n",
        "plt.hist(data, bins=100, density=True, alpha=0.6, color = '#BAB3A3',label='Prediction')\n",
        "#plt.plot(x, y, '-r', label='GMM fit')\n",
        "\n",
        "\n",
        "# 绘制每个分量的正态分布\n",
        "for i in range(n_components):\n",
        "    component = np.exp(-(x - means[i]) ** 2 / (2 * covariances[i]))\n",
        "    component /= np.sqrt(2 * np.pi * covariances[i])\n",
        "    component *= gmm.weights_[i]\n",
        "    if i == 0:\n",
        "        ax.plot(x, component, '-', label=f'Distribution {i + 1}', color='#F66E68', alpha=1)\n",
        "        ax.fill_between(x.flatten(), 0, component.flatten(), color='#F66E68', alpha=0.4)\n",
        "    else:\n",
        "        ax.plot(x, component, '-', label=f'Distribution {i + 1}', color='#457B9D', alpha=1)\n",
        "        ax.fill_between(x.flatten(), 0, component.flatten(), color='#457B9D', alpha=0.4)\n",
        "\n",
        "\n",
        "plt.title('Prediction',fontsize=10)\n",
        "ax.tick_params(axis='both', which='both', length=2,labelsize=10)\n",
        "ax.set_xticks([-5, 0, 5, ]); \n",
        "# ax.set_yticks([])\n",
        "plt.ylabel('Density',labelpad=1,fontsize=10)\n",
        "plt.xlabel('Nor_package',labelpad=1,fontsize=10)\n",
        "plt.legend(fontsize=7,frameon=False)\n",
        "fig.savefig('../results/cnn/2nd_results/nor_transduction/2nd_seq_nor_transduction_prediction_distribution_train.pdf',dpi=300,bbox_inches='tight')"
      ]
    },
    {
      "cell_type": "markdown",
      "metadata": {},
      "source": [
        "· `Test-data validation` "
      ]
    },
    {
      "cell_type": "code",
      "execution_count": 13,
      "metadata": {},
      "outputs": [
        {
          "name": "stdout",
          "output_type": "stream",
          "text": [
            "15/15 [==============================] - 0s 14ms/step\n"
          ]
        },
        {
          "data": {
            "text/plain": [
              "-0.025706977681290804"
            ]
          },
          "execution_count": 13,
          "metadata": {},
          "output_type": "execute_result"
        }
      ],
      "source": [
        "\n",
        "# Predict for test variants\n",
        "y = model.predict(test_x)\n",
        "x = np.array(test_y)\n",
        "y = np.reshape(y, (1,y.shape[0]))[0]\n",
        "preds_df = pd.DataFrame(columns=['y_pred','y_true'])\n",
        "preds_df['y_pred'] = pd.DataFrame(y)\n",
        "preds_df['y_true']  = pd.DataFrame(x)\n",
        "preds_df['y_pred'].corr(preds_df['y_true'])\n"
      ]
    },
    {
      "cell_type": "code",
      "execution_count": 14,
      "metadata": {},
      "outputs": [
        {
          "name": "stderr",
          "output_type": "stream",
          "text": [
            "d:\\ProgramData\\anaconda3\\envs\\tf\\lib\\site-packages\\numpy\\lib\\histograms.py:906: RuntimeWarning: invalid value encountered in divide\n",
            "  return n/db/n.sum(), bin_edges\n",
            "meta NOT subset; don't know how to subset; dropped\n"
          ]
        },
        {
          "data": {
            "image/png": "[encoded data removed]",
            "text/plain": [
              "<Figure size 210x195 with 4 Axes>"
            ]
          },
          "metadata": {},
          "output_type": "display_data"
        }
      ],
      "source": [
        "x = preds_df['y_pred']  \n",
        "y = preds_df['y_true']   \n",
        "\n",
        "remove = np.isinf(x) & np.isinf(y)\n",
        "x = x[~remove]\n",
        "y = y[~remove]\n",
        "\n",
        "keep = (~np.isinf(x)) & (~np.isinf(y))\n",
        "x_both = x[keep]\n",
        "y_both = y[keep]\n",
        "\n",
        "y_missing = y[np.isinf(x)]\n",
        "x_missing = x[np.isinf(y)]\n",
        "\n",
        "\n",
        "kernel = gaussian_kde(np.vstack([\n",
        "    x_both.sample(n=400, random_state=1), \n",
        "    y_both.sample(n=400, random_state=1)\n",
        "]))\n",
        "c_both = kernel(np.vstack([x_both.values, y_both.values]))\n",
        "\n",
        "fig = plt.figure(figsize=(1.4,1.3), dpi=150)\n",
        "gs = fig.add_gridspec(2, 2, left=0.275, right=0.95, bottom=0.22, top=0.95, \n",
        "                      width_ratios=[1, 6], height_ratios=[6, 1], hspace=0., wspace=0)\n",
        "ax = fig.add_subplot(gs[0, 1])\n",
        "ax.scatter(x_both, y_both, c=c_both, cmap=mpl.cm.inferno, s=0.2, edgecolor='none', rasterized=True)\n",
        "ax.set_xticks([]); ax.set_yticks([])\n",
        "xlim = [-11, 12]\n",
        "bins = np.linspace(*xlim, 25)\n",
        "ax.set_xlim(xlim); ax.set_ylim(xlim)\n",
        "ax.text(0.03, 0.97, r'$r$ = {:.4f}'.format(np.corrcoef(x_both, y_both)[0, 1]),\n",
        "       transform=ax.transAxes, ha='left', va='top', fontsize=7)\n",
        "\n",
        "ax.text(0.97, 0.01, 'n={}'.format(si_format(len(x_both)), precision=2, format_str='{value}{prefix}',), \n",
        "        transform=ax.transAxes, ha='right', va='bottom', fontsize=7)\n",
        "\n",
        "# Left Marginal\n",
        "ax = fig.add_subplot(gs[0, 0])\n",
        "ax.hist(y_missing, bins=bins, edgecolor='none', orientation='horizontal', density=True, color='r')\n",
        "ax.set_ylim(xlim)\n",
        "ax.set_xticks([]); ax.set_yticks([-5, 0, 5, 10, 15,20])\n",
        "ax.text(0.97, 0.97, 'n={}'.format(si_format(len(y_missing)), precision=2, format_str='{value}{prefix}',), \n",
        "        transform=ax.transAxes, ha='right', va='top', fontsize=7, rotation=90, color='r')\n",
        "ax.set_ylabel('Prediction', labelpad=2,fontsize=8)\n",
        "ax.tick_params(axis='both', labelsize=7, length=2, pad=1)\n",
        "\n",
        "# Bottom Marginal\n",
        "ax = fig.add_subplot(gs[1, 1])\n",
        "ax.hist(x_missing, bins=bins, edgecolor='none', density=True, color='r')\n",
        "ax.set_xlim(xlim)\n",
        "ax.set_xticks([-5, 0, 5, 10, 15,20]); ax.set_yticks([])\n",
        "ax.text(0.97, 0.8, 'n={}'.format(si_format(len(x_missing)), precision=2, format_str='{value}{prefix}',), \n",
        "        transform=ax.transAxes, ha='right', va='top', fontsize=7, color='r')\n",
        "ax.set_xlabel('Truth', labelpad=2,fontsize=8)\n",
        "ax.tick_params(axis='both', labelsize=6, length=2, pad=1)\n",
        "\n",
        "# Missing label (not detected in either)\n",
        "ax = fig.add_subplot(gs[1, 0])\n",
        "for spine in ['bottom', 'left']:\n",
        "    ax.spines[spine].set_visible(False)\n",
        "ax.set_xticks([]); ax.set_yticks([])\n",
        "\n",
        "ax.text(0.8, 0.8, 'Missing', transform=ax.transAxes, color='r', ha='right', va='top', fontsize=7, clip_on=False)\n",
        "fig.savefig('../results/cnn/2nd_results/nor_transduction/2nd_seq_nor_transduction_prediction_correlation_test.pdf',dpi=300,bbox_inches='tight')"
      ]
    },
    {
      "cell_type": "code",
      "execution_count": 15,
      "metadata": {
        "ExecuteTime": {
          "end_time": "2021-06-15T18:04:49.108828Z",
          "start_time": "2021-06-15T18:04:38.468240Z"
        }
      },
      "outputs": [
        {
          "name": "stderr",
          "output_type": "stream",
          "text": [
            "meta NOT subset; don't know how to subset; dropped\n"
          ]
        },
        {
          "data": {
            "image/png": "[encoded data removed]",
            "text/plain": [
              "<Figure size 180x150 with 1 Axes>"
            ]
          },
          "metadata": {},
          "output_type": "display_data"
        }
      ],
      "source": [
        "data = np.array(preds_df['y_pred']) \n",
        "data = data.reshape(-1, 1)  # 将数据转换成列向量的形式\n",
        "\n",
        "# 使用GaussianMixture拟合数据\n",
        "n_components = 1 # 设置混合模型的分量个数\n",
        "gmm = GaussianMixture(n_components=n_components)\n",
        "gmm.fit(data)\n",
        "\n",
        "# 获取每个分量的均值和协方差矩阵\n",
        "means = gmm.means_\n",
        "covariances = gmm.covariances_\n",
        "\n",
        "# 生成拟合后的分布\n",
        "x = np.linspace(-7, 8, 100000)\n",
        "x = x.reshape(-1, 1)\n",
        "y = np.exp(gmm.score_samples(x))\n",
        "\n",
        "fig,ax = plt.subplots(figsize=(1.8,1.5),dpi=100)\n",
        "# 绘制原始数据和拟合后的分布\n",
        "plt.hist(data, bins=100, density=True, alpha=0.6, color = '#BAB3A3',label='Prediction')\n",
        "#plt.plot(x, y, '-r', label='GMM fit')\n",
        "\n",
        "\n",
        "# 绘制每个分量的正态分布\n",
        "for i in range(n_components):\n",
        "    component = np.exp(-(x - means[i]) ** 2 / (2 * covariances[i]))\n",
        "    component /= np.sqrt(2 * np.pi * covariances[i])\n",
        "    component *= gmm.weights_[i]\n",
        "    if i == 0:\n",
        "        ax.plot(x, component, '-', label=f'Distribution {i + 1}', color='#F66E68', alpha=1)\n",
        "        ax.fill_between(x.flatten(), 0, component.flatten(), color='#F66E68', alpha=0.4)\n",
        "    else:\n",
        "        ax.plot(x, component, '-', label=f'Distribution {i + 1}', color='#457B9D', alpha=1)\n",
        "        ax.fill_between(x.flatten(), 0, component.flatten(), color='#457B9D', alpha=0.4)\n",
        "\n",
        "\n",
        "plt.title('Prediction',fontsize=10)\n",
        "ax.tick_params(axis='both', which='both', length=2,labelsize=10)\n",
        "ax.set_xticks([-5, 0, 5, ]); \n",
        "# ax.set_yticks([])\n",
        "plt.ylabel('Density',labelpad=1,fontsize=10)\n",
        "plt.xlabel('Nor_package',labelpad=1,fontsize=10)\n",
        "plt.legend(fontsize=7,frameon=False)\n",
        "fig.savefig('../results/cnn/2nd_results/nor_transduction/2nd_seq_nor_transduction_prediction_distribution_test.pdf',dpi=300,bbox_inches='tight')"
      ]
    },
    {
      "cell_type": "code",
      "execution_count": null,
      "metadata": {},
      "outputs": [],
      "source": []
    },
    {
      "cell_type": "code",
      "execution_count": null,
      "metadata": {},
      "outputs": [],
      "source": []
    }
  ],
  "metadata": {
    "kernelspec": {
      "display_name": "Python 3 (ipykernel)",
      "language": "python",
      "name": "python3"
    },
    "language_info": {
      "codemirror_mode": {
        "name": "ipython",
        "version": 3
      },
      "file_extension": ".py",
      "mimetype": "text/x-python",
      "name": "python",
      "nbconvert_exporter": "python",
      "pygments_lexer": "ipython3",
      "version": "3.8.16"
    },
    "toc": {
      "base_numbering": 1,
      "nav_menu": {},
      "number_sections": true,
      "sideBar": true,
      "skip_h1_title": false,
      "title_cell": "Table of Contents",
      "title_sidebar": "Contents",
      "toc_cell": true,
      "toc_position": {
        "height": "calc(100% - 180px)",
        "left": "10px",
        "top": "150px",
        "width": "320px"
      },
      "toc_section_display": true,
      "toc_window_display": true
    }
  },
  "nbformat": 4,
  "nbformat_minor": 4
}
