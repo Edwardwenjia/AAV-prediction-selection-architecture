{
  "cells": [
    {
      "cell_type": "code",
      "execution_count": 1,
      "metadata": {
        "ExecuteTime": {
          "end_time": "2021-06-15T17:13:58.134959Z",
          "start_time": "2021-06-15T17:13:57.550003Z"
        }
      },
      "outputs": [],
      "source": [
        "import pandas as pd\n",
        "import numpy as np\n",
        "import matplotlib as mpl\n",
        "import matplotlib.pyplot as plt\n",
        "import seaborn as sns\n",
        "from IPython.display import Image\n",
        "from scipy.stats import gaussian_kde, norm\n",
        "from sklearn.mixture import GaussianMixture\n",
        "\n",
        "from utils_f4f import CustomEarlyStopping, rnn_aa_model,AA_hotencoding ,heatmap, si_format\n",
        "\n"
      ]
    },
    {
      "cell_type": "code",
      "execution_count": 2,
      "metadata": {
        "ExecuteTime": {
          "end_time": "2021-06-15T17:13:58.138092Z",
          "start_time": "2021-06-15T17:13:58.136004Z"
        }
      },
      "outputs": [],
      "source": [
        "mpl.rcParams['svg.fonttype'] = 'none'\n",
        "mpl.rcParams['font.family'] = ['sans-serif']\n",
        "mpl.rcParams['font.sans-serif'] = ['Arial']\n",
        "mpl.rcParams['text.usetex'] = False\n",
        "mpl.rcParams['pdf.fonttype'] = 42\n",
        "mpl.rcParams['ps.fonttype'] = 42"
      ]
    },
    {
      "cell_type": "markdown",
      "metadata": {},
      "source": [
        "------\n",
        "\n",
        "# Production Fitness Modeling\n"
      ]
    },
    {
      "cell_type": "code",
      "execution_count": 3,
      "metadata": {},
      "outputs": [],
      "source": [
        "# Data\n",
        "# Modeling data file \n",
        "df_all = pd.read_csv('../data/2nd_10209_Package_aa.tsv', delimiter='\\t')\n",
        "df_modeling = df_all.rename(columns={'aa':'AA_seqenece'})\n",
        "df_modeling['label']=0\n",
        "df_modeling = df_modeling[['AA_seqenece', 'nor_package', 'label']]\n",
        "df_missing = df_modeling[np.isinf(df_modeling['nor_package']) ]#\n",
        "df_modeling = df_modeling[~np.isnan(df_modeling['nor_package']) & ~np.isinf(df_modeling['nor_package'])]\n",
        "df_modeling.reset_index(drop = True, inplace=True)\n",
        "AA_col = 'AA_seqenece'\n",
        "array = 'nor_package'\n",
        "\n"
      ]
    },
    {
      "cell_type": "code",
      "execution_count": 4,
      "metadata": {},
      "outputs": [
        {
          "data": {
            "image/png": "[encoded data removed]",
            "text/plain": [
              "<Figure size 200x170 with 1 Axes>"
            ]
          },
          "metadata": {},
          "output_type": "display_data"
        }
      ],
      "source": [
        "nor_package = df_all[np.isfinite(df_all[array])][array]\n",
        "data = np.array(nor_package) \n",
        "data = data.reshape(-1, 1)  # Convert the data into a column vector\n",
        "\n",
        "# Fit the data using GaussianMixture\n",
        "n_components = 1 # Set the number of components for the hybrid model\n",
        "gmm = GaussianMixture(n_components=n_components)\n",
        "gmm.fit(data)\n",
        "\n",
        "# Get the mean and covariance matrix for each component\n",
        "means = gmm.means_\n",
        "covariances = gmm.covariances_\n",
        "\n",
        "# Generate the fitted distribution\n",
        "x = np.linspace(-10, 5, 10000)\n",
        "x = x.reshape(-1, 1)\n",
        "y = np.exp(gmm.score_samples(x))\n",
        "\n",
        "fig,ax = plt.subplots(figsize=(2,1.7),dpi=100)\n",
        "# Plot the raw data and the distribution after fitting\n",
        "plt.hist(data, bins=100, density=True, alpha=0.6, color = '#BAB3A3',label='Prediction')\n",
        "\n",
        "# 绘制每个分量的正态分布\n",
        "for i in range(n_components):\n",
        "    component = np.exp(-(x - means[i]) ** 2 / (2 * covariances[i]))\n",
        "    component /= np.sqrt(2 * np.pi * covariances[i])\n",
        "    component *= gmm.weights_[i]\n",
        "    if i == 0:\n",
        "        ax.plot(x, component, '-', label=f'Distribution {i + 1}', color='#F66E68', alpha=1)\n",
        "        ax.fill_between(x.flatten(), 0, component.flatten(), color='#F66E68', alpha=0.4)\n",
        "    else:\n",
        "        ax.plot(x, component, '-', label=f'Distribution {i + 1}', color='#457B9D', alpha=1)\n",
        "        ax.fill_between(x.flatten(), 0, component.flatten(), color='#457B9D', alpha=0.4)\n",
        "\n",
        "\n",
        "plt.title('Truth_distribution',fontsize=10)\n",
        "ax.tick_params(axis='both', which='both', length=2,labelsize=8)\n",
        "ax.set_xticks([-1, 0, 1,2,3,4]); \n",
        "ax.set_xlim([-1,4])\n",
        "plt.ylabel('Density',labelpad=2,fontsize=10)\n",
        "plt.xlabel('Nor_package',labelpad=2,fontsize=10)\n",
        "plt.legend(fontsize=7,frameon=False,loc='best')\n",
        "plt.show()"
      ]
    },
    {
      "cell_type": "code",
      "execution_count": null,
      "metadata": {},
      "outputs": [],
      "source": []
    },
    {
      "cell_type": "code",
      "execution_count": null,
      "metadata": {},
      "outputs": [],
      "source": []
    },
    {
      "cell_type": "markdown",
      "metadata": {},
      "source": [
        "### Prep data\n",
        " one-hot encode the `AA_sequence` column and split the data into\n",
        "training and test sets. The training split will be split"
      ]
    },
    {
      "cell_type": "code",
      "execution_count": 5,
      "metadata": {},
      "outputs": [],
      "source": [
        "# Preprocessing\n",
        "df_missing = df_modeling[np.isinf(df_modeling['nor_package']) ]#\n",
        "df_modeling = df_modeling[~np.isnan(df_modeling['nor_package']) & ~np.isinf(df_modeling['nor_package'])]\n",
        "df_modeling.reset_index(drop = True, inplace=True)"
      ]
    },
    {
      "cell_type": "code",
      "execution_count": 6,
      "metadata": {},
      "outputs": [],
      "source": [
        "# Train-Test split\n",
        "train_size = 9160\n",
        "validation_size = 1000\n",
        "train, validate, test = np.split(df_modeling.sample(frac=1), \n",
        "                                 [train_size, train_size+validation_size])"
      ]
    },
    {
      "cell_type": "code",
      "execution_count": 7,
      "metadata": {},
      "outputs": [
        {
          "name": "stdout",
          "output_type": "stream",
          "text": [
            "[[0 1 0 0 0 0 0 0 0 0 0 0 0 0 0 0 0 0 0 0]\n",
            " [0 0 0 0 0 0 0 0 0 0 0 0 0 0 0 0 0 1 0 0]\n",
            " [1 0 0 0 0 0 0 0 0 0 0 0 0 0 0 0 0 0 0 0]\n",
            " [0 0 0 0 0 0 0 1 0 0 0 0 0 0 0 0 0 0 0 0]\n",
            " [0 0 0 0 0 0 0 1 0 0 0 0 0 0 0 0 0 0 0 0]\n",
            " [0 0 0 0 0 0 1 0 0 0 0 0 0 0 0 0 0 0 0 0]\n",
            " [0 0 0 0 0 0 0 1 0 0 0 0 0 0 0 0 0 0 0 0]]\n"
          ]
        }
      ],
      "source": [
        "# Hot Encoding\n",
        "AA_col = 'AA_seqenece'\n",
        "train_x =  np.asarray([AA_hotencoding(variant) for variant in train[AA_col]])\n",
        "train_y = train['nor_package']\n",
        "validate_x = np.asarray([AA_hotencoding(variant) for variant in validate[AA_col]])\n",
        "validate_y = validate['nor_package']\n",
        "test_x = np.asarray([AA_hotencoding(variant) for variant in test[AA_col]])\n",
        "test_y = test['nor_package']\n",
        "missing_x = np.asarray([AA_hotencoding(variant) for variant in df_missing[AA_col]])\n",
        "\n",
        "\n",
        "\n",
        "\n",
        "print(test_x[0])"
      ]
    },
    {
      "cell_type": "code",
      "execution_count": 8,
      "metadata": {},
      "outputs": [
        {
          "name": "stdout",
          "output_type": "stream",
          "text": [
            "Epoch 1/300\n",
            "573/573 - 6s - loss: 0.1264 - mae: 0.2682 - val_loss: 0.0873 - val_mae: 0.2288 - 6s/epoch - 10ms/step\n",
            "Epoch 2/300\n",
            "573/573 - 3s - loss: 0.0799 - mae: 0.2185 - val_loss: 0.0842 - val_mae: 0.2234 - 3s/epoch - 5ms/step\n",
            "Epoch 3/300\n",
            "573/573 - 3s - loss: 0.0769 - mae: 0.2135 - val_loss: 0.0859 - val_mae: 0.2362 - 3s/epoch - 5ms/step\n",
            "Epoch 4/300\n",
            "573/573 - 3s - loss: 0.0679 - mae: 0.1999 - val_loss: 0.0706 - val_mae: 0.1978 - 3s/epoch - 5ms/step\n",
            "Epoch 5/300\n",
            "573/573 - 3s - loss: 0.0582 - mae: 0.1848 - val_loss: 0.0564 - val_mae: 0.1782 - 3s/epoch - 5ms/step\n",
            "Epoch 6/300\n",
            "573/573 - 3s - loss: 0.0513 - mae: 0.1730 - val_loss: 0.0512 - val_mae: 0.1726 - 3s/epoch - 5ms/step\n",
            "Epoch 7/300\n",
            "573/573 - 3s - loss: 0.0482 - mae: 0.1669 - val_loss: 0.0533 - val_mae: 0.1726 - 3s/epoch - 5ms/step\n",
            "Epoch 8/300\n",
            "573/573 - 3s - loss: 0.0463 - mae: 0.1630 - val_loss: 0.0484 - val_mae: 0.1630 - 3s/epoch - 5ms/step\n",
            "Epoch 9/300\n",
            "573/573 - 3s - loss: 0.0447 - mae: 0.1600 - val_loss: 0.0470 - val_mae: 0.1615 - 3s/epoch - 5ms/step\n",
            "Epoch 10/300\n",
            "573/573 - 3s - loss: 0.0432 - mae: 0.1564 - val_loss: 0.0464 - val_mae: 0.1606 - 3s/epoch - 5ms/step\n",
            "Epoch 11/300\n",
            "573/573 - 3s - loss: 0.0428 - mae: 0.1563 - val_loss: 0.0447 - val_mae: 0.1574 - 3s/epoch - 5ms/step\n",
            "Epoch 12/300\n",
            "573/573 - 3s - loss: 0.0416 - mae: 0.1537 - val_loss: 0.0459 - val_mae: 0.1597 - 3s/epoch - 5ms/step\n",
            "Epoch 13/300\n",
            "573/573 - 3s - loss: 0.0408 - mae: 0.1522 - val_loss: 0.0437 - val_mae: 0.1569 - 3s/epoch - 5ms/step\n",
            "Epoch 14/300\n",
            "573/573 - 3s - loss: 0.0406 - mae: 0.1519 - val_loss: 0.0444 - val_mae: 0.1589 - 3s/epoch - 5ms/step\n",
            "Epoch 15/300\n",
            "573/573 - 3s - loss: 0.0397 - mae: 0.1499 - val_loss: 0.0499 - val_mae: 0.1648 - 3s/epoch - 5ms/step\n",
            "Epoch 16/300\n",
            "573/573 - 3s - loss: 0.0389 - mae: 0.1487 - val_loss: 0.0420 - val_mae: 0.1553 - 3s/epoch - 5ms/step\n",
            "Epoch 17/300\n",
            "573/573 - 3s - loss: 0.0382 - mae: 0.1472 - val_loss: 0.0450 - val_mae: 0.1582 - 3s/epoch - 5ms/step\n",
            "Epoch 18/300\n",
            "573/573 - 3s - loss: 0.0377 - mae: 0.1471 - val_loss: 0.0418 - val_mae: 0.1514 - 3s/epoch - 5ms/step\n",
            "Epoch 19/300\n",
            "573/573 - 3s - loss: 0.0371 - mae: 0.1449 - val_loss: 0.0416 - val_mae: 0.1535 - 3s/epoch - 5ms/step\n",
            "Epoch 20/300\n",
            "573/573 - 3s - loss: 0.0368 - mae: 0.1444 - val_loss: 0.0406 - val_mae: 0.1509 - 3s/epoch - 5ms/step\n",
            "Epoch 21/300\n",
            "573/573 - 3s - loss: 0.0359 - mae: 0.1427 - val_loss: 0.0395 - val_mae: 0.1483 - 3s/epoch - 5ms/step\n",
            "Epoch 22/300\n",
            "573/573 - 3s - loss: 0.0350 - mae: 0.1412 - val_loss: 0.0405 - val_mae: 0.1498 - 3s/epoch - 5ms/step\n",
            "Epoch 23/300\n",
            "573/573 - 3s - loss: 0.0353 - mae: 0.1414 - val_loss: 0.0426 - val_mae: 0.1525 - 3s/epoch - 5ms/step\n",
            "Epoch 24/300\n",
            "573/573 - 3s - loss: 0.0345 - mae: 0.1401 - val_loss: 0.0383 - val_mae: 0.1457 - 3s/epoch - 5ms/step\n",
            "Epoch 25/300\n",
            "573/573 - 3s - loss: 0.0335 - mae: 0.1377 - val_loss: 0.0415 - val_mae: 0.1512 - 3s/epoch - 5ms/step\n",
            "Epoch 26/300\n",
            "573/573 - 3s - loss: 0.0333 - mae: 0.1375 - val_loss: 0.0402 - val_mae: 0.1483 - 3s/epoch - 5ms/step\n",
            "Epoch 27/300\n",
            "573/573 - 3s - loss: 0.0326 - mae: 0.1359 - val_loss: 0.0411 - val_mae: 0.1507 - 3s/epoch - 5ms/step\n",
            "Epoch 28/300\n",
            "573/573 - 3s - loss: 0.0319 - mae: 0.1348 - val_loss: 0.0402 - val_mae: 0.1490 - 3s/epoch - 5ms/step\n",
            "Epoch 29/300\n",
            "573/573 - 3s - loss: 0.0318 - mae: 0.1344 - val_loss: 0.0409 - val_mae: 0.1509 - 3s/epoch - 5ms/step\n",
            "Epoch 30/300\n",
            "573/573 - 3s - loss: 0.0311 - mae: 0.1329 - val_loss: 0.0429 - val_mae: 0.1538 - 3s/epoch - 5ms/step\n",
            "Epoch 31/300\n",
            "573/573 - 3s - loss: 0.0304 - mae: 0.1312 - val_loss: 0.0402 - val_mae: 0.1478 - 3s/epoch - 6ms/step\n",
            "Epoch 32/300\n",
            "573/573 - 3s - loss: 0.0300 - mae: 0.1308 - val_loss: 0.0400 - val_mae: 0.1478 - 3s/epoch - 5ms/step\n",
            "Epoch 33/300\n",
            "573/573 - 3s - loss: 0.0293 - mae: 0.1289 - val_loss: 0.0419 - val_mae: 0.1527 - 3s/epoch - 5ms/step\n",
            "Epoch 34/300\n",
            "573/573 - 3s - loss: 0.0287 - mae: 0.1282 - val_loss: 0.0403 - val_mae: 0.1485 - 3s/epoch - 5ms/step\n",
            "Epoch 35/300\n",
            "573/573 - 3s - loss: 0.0281 - mae: 0.1269 - val_loss: 0.0396 - val_mae: 0.1488 - 3s/epoch - 5ms/step\n",
            "Epoch 36/300\n",
            "573/573 - 3s - loss: 0.0276 - mae: 0.1255 - val_loss: 0.0437 - val_mae: 0.1551 - 3s/epoch - 5ms/step\n",
            "Epoch 37/300\n",
            "573/573 - 3s - loss: 0.0272 - mae: 0.1253 - val_loss: 0.0421 - val_mae: 0.1533 - 3s/epoch - 5ms/step\n",
            "Epoch 38/300\n",
            "573/573 - 3s - loss: 0.0266 - mae: 0.1236 - val_loss: 0.0442 - val_mae: 0.1562 - 3s/epoch - 5ms/step\n",
            "Epoch 39/300\n",
            "573/573 - 3s - loss: 0.0258 - mae: 0.1219 - val_loss: 0.0422 - val_mae: 0.1539 - 3s/epoch - 5ms/step\n",
            "Epoch 40/300\n",
            "573/573 - 3s - loss: 0.0250 - mae: 0.1205 - val_loss: 0.0431 - val_mae: 0.1575 - 3s/epoch - 5ms/step\n",
            "Epoch 41/300\n",
            "573/573 - 3s - loss: 0.0245 - mae: 0.1187 - val_loss: 0.0419 - val_mae: 0.1521 - 3s/epoch - 6ms/step\n",
            "Epoch 42/300\n",
            "573/573 - 3s - loss: 0.0239 - mae: 0.1172 - val_loss: 0.0451 - val_mae: 0.1585 - 3s/epoch - 5ms/step\n",
            "Epoch 43/300\n",
            "573/573 - 3s - loss: 0.0231 - mae: 0.1155 - val_loss: 0.0471 - val_mae: 0.1627 - 3s/epoch - 5ms/step\n",
            "Epoch 44/300\n",
            "573/573 - 3s - loss: 0.0226 - mae: 0.1145 - val_loss: 0.0452 - val_mae: 0.1592 - 3s/epoch - 5ms/step\n",
            "Epoch 45/300\n",
            "573/573 - 3s - loss: 0.0220 - mae: 0.1132 - val_loss: 0.0462 - val_mae: 0.1599 - 3s/epoch - 6ms/step\n",
            "Epoch 46/300\n",
            "573/573 - 3s - loss: 0.0212 - mae: 0.1112 - val_loss: 0.0458 - val_mae: 0.1592 - 3s/epoch - 5ms/step\n",
            "Epoch 47/300\n",
            "573/573 - 3s - loss: 0.0204 - mae: 0.1084 - val_loss: 0.0449 - val_mae: 0.1566 - 3s/epoch - 5ms/step\n",
            "Epoch 48/300\n",
            "573/573 - 3s - loss: 0.0200 - mae: 0.1079 - val_loss: 0.0455 - val_mae: 0.1585 - 3s/epoch - 5ms/step\n",
            "Epoch 49/300\n",
            "573/573 - 3s - loss: 0.0190 - mae: 0.1057 - val_loss: 0.0454 - val_mae: 0.1611 - 3s/epoch - 5ms/step\n",
            "Epoch 50/300\n",
            "573/573 - 3s - loss: 0.0182 - mae: 0.1032 - val_loss: 0.0467 - val_mae: 0.1606 - 3s/epoch - 5ms/step\n",
            "Epoch 51/300\n",
            "573/573 - 3s - loss: 0.0177 - mae: 0.1019 - val_loss: 0.0489 - val_mae: 0.1649 - 3s/epoch - 5ms/step\n",
            "Epoch 52/300\n",
            "573/573 - 3s - loss: 0.0171 - mae: 0.1001 - val_loss: 0.0473 - val_mae: 0.1630 - 3s/epoch - 5ms/step\n",
            "Epoch 53/300\n",
            "573/573 - 3s - loss: 0.0162 - mae: 0.0976 - val_loss: 0.0500 - val_mae: 0.1659 - 3s/epoch - 5ms/step\n",
            "Epoch 54/300\n",
            "573/573 - 3s - loss: 0.0154 - mae: 0.0955 - val_loss: 0.0494 - val_mae: 0.1684 - 3s/epoch - 5ms/step\n",
            "Epoch 55/300\n",
            "573/573 - 3s - loss: 0.0146 - mae: 0.0932 - val_loss: 0.0493 - val_mae: 0.1662 - 3s/epoch - 5ms/step\n"
          ]
        },
        {
          "name": "stderr",
          "output_type": "stream",
          "text": [
            "d:\\ProgramData\\anaconda3\\envs\\tf\\lib\\site-packages\\keras\\src\\engine\\training.py:3000: UserWarning: You are saving your model as an HDF5 file via `model.save()`. This file format is considered legacy. We recommend using instead the native Keras format, e.g. `model.save('my_model.keras')`.\n",
            "  saving_api.save_model(\n"
          ]
        }
      ],
      "source": [
        "# Define model \n",
        "model = rnn_aa_model(L1=140,L2=60)\n",
        "\n",
        "# Training parameters \n",
        "batch_size = 16\n",
        "EpochCount = 300\n",
        "#EpochCount = 5 #Used for quick excusion of the Notebook; please use a higher number instead to allow proper convergence\n",
        "\n",
        "\n",
        "# Fit model \n",
        "model.fit(train_x, train_y, batch_size=batch_size, epochs=EpochCount, \n",
        "          validation_data=(validate_x, validate_y),verbose=2,\n",
        "              callbacks=[CustomEarlyStopping(ratio=0.90, patience=30, restore_best_weights = True)])\n",
        "\n",
        "\n",
        "# Save model\n",
        "ModelFileName = 'pretrain/model_2nd_nor_package'\n",
        "model.save(ModelFileName+'.h5')"
      ]
    },
    {
      "cell_type": "markdown",
      "metadata": {},
      "source": [
        "#### Model validation\n",
        "· `Train-data validation` "
      ]
    },
    {
      "cell_type": "code",
      "execution_count": 9,
      "metadata": {},
      "outputs": [
        {
          "name": "stdout",
          "output_type": "stream",
          "text": [
            "287/287 [==============================] - 1s 3ms/step\n"
          ]
        },
        {
          "data": {
            "text/html": [
              "<div>\n",
              "<style scoped>\n",
              "    .dataframe tbody tr th:only-of-type {\n",
              "        vertical-align: middle;\n",
              "    }\n",
              "\n",
              "    .dataframe tbody tr th {\n",
              "        vertical-align: top;\n",
              "    }\n",
              "\n",
              "    .dataframe thead th {\n",
              "        text-align: right;\n",
              "    }\n",
              "</style>\n",
              "<table border=\"1\" class=\"dataframe\">\n",
              "  <thead>\n",
              "    <tr style=\"text-align: right;\">\n",
              "      <th></th>\n",
              "      <th>y_pred</th>\n",
              "      <th>y_true</th>\n",
              "    </tr>\n",
              "  </thead>\n",
              "  <tbody>\n",
              "    <tr>\n",
              "      <th>0</th>\n",
              "      <td>0.581104</td>\n",
              "      <td>0.642510</td>\n",
              "    </tr>\n",
              "    <tr>\n",
              "      <th>1</th>\n",
              "      <td>1.307780</td>\n",
              "      <td>1.262124</td>\n",
              "    </tr>\n",
              "    <tr>\n",
              "      <th>2</th>\n",
              "      <td>1.310370</td>\n",
              "      <td>1.267255</td>\n",
              "    </tr>\n",
              "    <tr>\n",
              "      <th>3</th>\n",
              "      <td>0.904713</td>\n",
              "      <td>0.931656</td>\n",
              "    </tr>\n",
              "    <tr>\n",
              "      <th>4</th>\n",
              "      <td>1.281448</td>\n",
              "      <td>1.150326</td>\n",
              "    </tr>\n",
              "    <tr>\n",
              "      <th>...</th>\n",
              "      <td>...</td>\n",
              "      <td>...</td>\n",
              "    </tr>\n",
              "    <tr>\n",
              "      <th>9155</th>\n",
              "      <td>1.122215</td>\n",
              "      <td>1.252765</td>\n",
              "    </tr>\n",
              "    <tr>\n",
              "      <th>9156</th>\n",
              "      <td>0.511880</td>\n",
              "      <td>0.397672</td>\n",
              "    </tr>\n",
              "    <tr>\n",
              "      <th>9157</th>\n",
              "      <td>0.744995</td>\n",
              "      <td>0.823220</td>\n",
              "    </tr>\n",
              "    <tr>\n",
              "      <th>9158</th>\n",
              "      <td>0.628338</td>\n",
              "      <td>0.429564</td>\n",
              "    </tr>\n",
              "    <tr>\n",
              "      <th>9159</th>\n",
              "      <td>1.126372</td>\n",
              "      <td>1.214455</td>\n",
              "    </tr>\n",
              "  </tbody>\n",
              "</table>\n",
              "<p>9160 rows × 2 columns</p>\n",
              "</div>"
            ],
            "text/plain": [
              "        y_pred    y_true\n",
              "0     0.581104  0.642510\n",
              "1     1.307780  1.262124\n",
              "2     1.310370  1.267255\n",
              "3     0.904713  0.931656\n",
              "4     1.281448  1.150326\n",
              "...        ...       ...\n",
              "9155  1.122215  1.252765\n",
              "9156  0.511880  0.397672\n",
              "9157  0.744995  0.823220\n",
              "9158  0.628338  0.429564\n",
              "9159  1.126372  1.214455\n",
              "\n",
              "[9160 rows x 2 columns]"
            ]
          },
          "execution_count": 9,
          "metadata": {},
          "output_type": "execute_result"
        }
      ],
      "source": [
        "\n",
        "# Predict for train variants\n",
        "y = model.predict(train_x)\n",
        "x = np.array(train_y)\n",
        "y = np.reshape(y, (1,y.shape[0]))[0]\n",
        "preds_df = pd.DataFrame(columns=['y_pred','y_true'])\n",
        "preds_df['y_pred'] = pd.DataFrame(y)\n",
        "preds_df['y_true']  = pd.DataFrame(x)\n",
        "preds_df \n"
      ]
    },
    {
      "cell_type": "code",
      "execution_count": 10,
      "metadata": {},
      "outputs": [
        {
          "name": "stderr",
          "output_type": "stream",
          "text": [
            "d:\\ProgramData\\anaconda3\\envs\\tf\\lib\\site-packages\\numpy\\lib\\histograms.py:906: RuntimeWarning: invalid value encountered in divide\n",
            "  return n/db/n.sum(), bin_edges\n",
            "meta NOT subset; don't know how to subset; dropped\n"
          ]
        },
        {
          "data": {
            "image/png": "[encoded data removed]",
            "text/plain": [
              "<Figure size 210x195 with 4 Axes>"
            ]
          },
          "metadata": {},
          "output_type": "display_data"
        }
      ],
      "source": [
        "x = preds_df['y_pred']  \n",
        "y = preds_df['y_true']   \n",
        "preds_df['y_pred'][:1000].corr(preds_df['y_true'][:1000])\n",
        "remove = np.isinf(x) & np.isinf(y)\n",
        "x = x[~remove]\n",
        "y = y[~remove]\n",
        "\n",
        "keep = (~np.isinf(x)) & (~np.isinf(y))\n",
        "x_both = x[keep]\n",
        "y_both = y[keep]\n",
        "\n",
        "y_missing = y[np.isinf(x)]\n",
        "x_missing = x[np.isinf(y)]\n",
        "\n",
        "\n",
        "kernel = gaussian_kde(np.vstack([\n",
        "    x_both.sample(n=2000, random_state=1), \n",
        "    y_both.sample(n=2000, random_state=1)\n",
        "]))\n",
        "c_both = kernel(np.vstack([x_both.values, y_both.values]))\n",
        "\n",
        "\n",
        "fig = plt.figure(figsize=(1.4,1.3), dpi=150)\n",
        "gs = fig.add_gridspec(2, 2, left=0.275, right=0.95, bottom=0.22, top=0.95, \n",
        "                      width_ratios=[1, 6], height_ratios=[6, 1], hspace=0., wspace=0)\n",
        "ax = fig.add_subplot(gs[0, 1])\n",
        "ax.scatter(x_both, y_both, c=c_both, cmap=mpl.cm.inferno, s=0.2, edgecolor='none', rasterized=True)\n",
        "ax.set_xticks([]); ax.set_yticks([])\n",
        "xlim = [-11, 12]\n",
        "bins = np.linspace(*xlim, 25)\n",
        "ax.set_xlim(xlim); ax.set_ylim(xlim)\n",
        "ax.text(0.03, 0.97, r'$r$ = {:.4f}'.format(np.corrcoef(x_both, y_both)[0, 1]),\n",
        "       transform=ax.transAxes, ha='left', va='top', fontsize=7)\n",
        "\n",
        "ax.text(0.97, 0.01, 'n={}'.format(si_format(len(x_both)), precision=2, format_str='{value}{prefix}',), \n",
        "        transform=ax.transAxes, ha='right', va='bottom', fontsize=7)\n",
        "\n",
        "# Left Marginal\n",
        "ax = fig.add_subplot(gs[0, 0])\n",
        "ax.hist(y_missing, bins=bins, edgecolor='none', orientation='horizontal', density=True, color='r')\n",
        "ax.set_ylim(xlim)\n",
        "ax.set_xticks([]); ax.set_yticks([-5, 0, 5, 10, 15,20])\n",
        "ax.text(0.97, 0.97, 'n={}'.format(si_format(len(y_missing)), precision=2, format_str='{value}{prefix}',), \n",
        "        transform=ax.transAxes, ha='right', va='top', fontsize=7, rotation=90, color='r')\n",
        "ax.set_ylabel('Prediction', labelpad=2,fontsize=8)\n",
        "ax.tick_params(axis='both', labelsize=7, length=2, pad=1)\n",
        "\n",
        "# Bottom Marginal\n",
        "ax = fig.add_subplot(gs[1, 1])\n",
        "ax.hist(x_missing, bins=bins, edgecolor='none', density=True, color='r')\n",
        "ax.set_xlim(xlim)\n",
        "ax.set_xticks([-5, 0, 5, 10, 15,20]); ax.set_yticks([])\n",
        "ax.text(0.97, 0.8, 'n={}'.format(si_format(len(x_missing)), precision=2, format_str='{value}{prefix}',), \n",
        "        transform=ax.transAxes, ha='right', va='top', fontsize=7, color='r')\n",
        "ax.set_xlabel('Truth', labelpad=2,fontsize=8)\n",
        "ax.tick_params(axis='both', labelsize=7, length=2, pad=1)\n",
        "\n",
        "# Missing label (not detected in either)\n",
        "ax = fig.add_subplot(gs[1, 0])\n",
        "for spine in ['bottom', 'left']:\n",
        "    ax.spines[spine].set_visible(False)\n",
        "ax.set_xticks([]); ax.set_yticks([])\n",
        "\n",
        "ax.text(0.8, 0.8, 'Missing', transform=ax.transAxes, color='r', ha='right', va='top', fontsize=7, clip_on=False)\n",
        "fig.savefig('../results/rnn/2nd_results/nor_package/2nd_aa_nor_package_prediction_correlation_train.pdf',dpi=300,bbox_inches='tight')"
      ]
    },
    {
      "cell_type": "code",
      "execution_count": 11,
      "metadata": {},
      "outputs": [
        {
          "name": "stderr",
          "output_type": "stream",
          "text": [
            "meta NOT subset; don't know how to subset; dropped\n"
          ]
        },
        {
          "data": {
            "image/png": "[encoded data removed]",
            "text/plain": [
              "<Figure size 180x150 with 1 Axes>"
            ]
          },
          "metadata": {},
          "output_type": "display_data"
        }
      ],
      "source": [
        "data = np.array(preds_df['y_pred']) \n",
        "data = data.reshape(-1, 1)  # 将数据转换成列向量的形式\n",
        "\n",
        "# 使用GaussianMixture拟合数据\n",
        "n_components = 1 # 设置混合模型的分量个数\n",
        "gmm = GaussianMixture(n_components=n_components)\n",
        "gmm.fit(data)\n",
        "\n",
        "# 获取每个分量的均值和协方差矩阵\n",
        "means = gmm.means_\n",
        "covariances = gmm.covariances_\n",
        "\n",
        "# 生成拟合后的分布\n",
        "x = np.linspace(-7, 8, 100000)\n",
        "x = x.reshape(-1, 1)\n",
        "y = np.exp(gmm.score_samples(x))\n",
        "\n",
        "fig,ax = plt.subplots(figsize=(1.8,1.5),dpi=100)\n",
        "# 绘制原始数据和拟合后的分布\n",
        "plt.hist(data, bins=100, density=True, alpha=0.6, color = '#BAB3A3',label='Prediction')\n",
        "#plt.plot(x, y, '-r', label='GMM fit')\n",
        "\n",
        "\n",
        "# 绘制每个分量的正态分布\n",
        "for i in range(n_components):\n",
        "    component = np.exp(-(x - means[i]) ** 2 / (2 * covariances[i]))\n",
        "    component /= np.sqrt(2 * np.pi * covariances[i])\n",
        "    component *= gmm.weights_[i]\n",
        "    if i == 0:\n",
        "        ax.plot(x, component, '-', label=f'Distribution {i + 1}', color='#F66E68', alpha=1)\n",
        "        ax.fill_between(x.flatten(), 0, component.flatten(), color='#F66E68', alpha=0.4)\n",
        "    else:\n",
        "        ax.plot(x, component, '-', label=f'Distribution {i + 1}', color='#457B9D', alpha=1)\n",
        "        ax.fill_between(x.flatten(), 0, component.flatten(), color='#457B9D', alpha=0.4)\n",
        "\n",
        "\n",
        "plt.title('Prediction',fontsize=10)\n",
        "ax.tick_params(axis='both', which='both', length=2,labelsize=10)\n",
        "ax.set_xticks([-1, 0, 1,2,3,4 ]); \n",
        "ax.set_xlim([-1,4])\n",
        "plt.ylabel('Density',labelpad=1,fontsize=10)\n",
        "plt.xlabel('Nor_package',labelpad=1,fontsize=10)\n",
        "plt.legend(fontsize=7,frameon=False)\n",
        "fig.savefig('../results/rnn/2nd_results/nor_package/2nd_aa_nor_package_prediction_distribution_train.pdf',dpi=300,bbox_inches='tight')"
      ]
    },
    {
      "cell_type": "markdown",
      "metadata": {},
      "source": [
        "· `Test-data validation` "
      ]
    },
    {
      "cell_type": "code",
      "execution_count": 12,
      "metadata": {},
      "outputs": [
        {
          "name": "stdout",
          "output_type": "stream",
          "text": [
            "2/2 [==============================] - 0s 3ms/step\n"
          ]
        },
        {
          "data": {
            "text/plain": [
              "0.782863771467619"
            ]
          },
          "execution_count": 12,
          "metadata": {},
          "output_type": "execute_result"
        }
      ],
      "source": [
        "\n",
        "# Predict for test variants\n",
        "y = model.predict(test_x)\n",
        "x = np.array(test_y)\n",
        "y = np.reshape(y, (1,y.shape[0]))[0]\n",
        "preds_df = pd.DataFrame(columns=['y_pred','y_true'])\n",
        "preds_df['y_pred'] = pd.DataFrame(y)\n",
        "preds_df['y_true']  = pd.DataFrame(x)\n",
        "preds_df['y_pred'].corr(preds_df['y_true'])\n"
      ]
    },
    {
      "cell_type": "code",
      "execution_count": 13,
      "metadata": {},
      "outputs": [
        {
          "name": "stderr",
          "output_type": "stream",
          "text": [
            "d:\\ProgramData\\anaconda3\\envs\\tf\\lib\\site-packages\\numpy\\lib\\histograms.py:906: RuntimeWarning: invalid value encountered in divide\n",
            "  return n/db/n.sum(), bin_edges\n",
            "meta NOT subset; don't know how to subset; dropped\n"
          ]
        },
        {
          "data": {
            "image/png": "[encoded data removed]",
            "text/plain": [
              "<Figure size 210x195 with 4 Axes>"
            ]
          },
          "metadata": {},
          "output_type": "display_data"
        }
      ],
      "source": [
        "x = preds_df['y_pred']  \n",
        "y = preds_df['y_true']   \n",
        "\n",
        "remove = np.isinf(x) & np.isinf(y)\n",
        "x = x[~remove]\n",
        "y = y[~remove]\n",
        "\n",
        "keep = (~np.isinf(x)) & (~np.isinf(y))\n",
        "x_both = x[keep]\n",
        "y_both = y[keep]\n",
        "\n",
        "y_missing = y[np.isinf(x)]\n",
        "x_missing = x[np.isinf(y)]\n",
        "\n",
        "\n",
        "kernel = gaussian_kde(np.vstack([\n",
        "    x_both.sample(n=49, random_state=1), \n",
        "    y_both.sample(n=49, random_state=1)\n",
        "]))\n",
        "c_both = kernel(np.vstack([x_both.values, y_both.values]))\n",
        "\n",
        "fig = plt.figure(figsize=(1.4,1.3), dpi=150)\n",
        "gs = fig.add_gridspec(2, 2, left=0.275, right=0.95, bottom=0.22, top=0.95, \n",
        "                      width_ratios=[1, 6], height_ratios=[6, 1], hspace=0., wspace=0)\n",
        "ax = fig.add_subplot(gs[0, 1])\n",
        "ax.scatter(x_both, y_both, c=c_both, cmap=mpl.cm.inferno, s=0.2, edgecolor='none', rasterized=True)\n",
        "ax.set_xticks([]); ax.set_yticks([])\n",
        "xlim = [-11, 12]\n",
        "bins = np.linspace(*xlim, 25)\n",
        "ax.set_xlim(xlim); ax.set_ylim(xlim)\n",
        "ax.text(0.03, 0.97, r'$r$ = {:.4f}'.format(np.corrcoef(x_both, y_both)[0, 1]),\n",
        "       transform=ax.transAxes, ha='left', va='top', fontsize=7)\n",
        "\n",
        "ax.text(0.97, 0.01, 'n={}'.format(si_format(len(x_both)), precision=2, format_str='{value}{prefix}',), \n",
        "        transform=ax.transAxes, ha='right', va='bottom', fontsize=7)\n",
        "\n",
        "# Left Marginal\n",
        "ax = fig.add_subplot(gs[0, 0])\n",
        "ax.hist(y_missing, bins=bins, edgecolor='none', orientation='horizontal', density=True, color='r')\n",
        "ax.set_ylim(xlim)\n",
        "ax.set_xticks([]); ax.set_yticks([-5, 0, 5, 10, 15,20])\n",
        "ax.text(0.97, 0.97, 'n={}'.format(si_format(len(y_missing)), precision=2, format_str='{value}{prefix}',), \n",
        "        transform=ax.transAxes, ha='right', va='top', fontsize=7, rotation=90, color='r')\n",
        "ax.set_ylabel('Prediction', labelpad=2,fontsize=8)\n",
        "ax.tick_params(axis='both', labelsize=7, length=2, pad=1)\n",
        "\n",
        "# Bottom Marginal\n",
        "ax = fig.add_subplot(gs[1, 1])\n",
        "ax.hist(x_missing, bins=bins, edgecolor='none', density=True, color='r')\n",
        "ax.set_xlim(xlim)\n",
        "ax.set_xticks([-5, 0, 5, 10, 15,20]); ax.set_yticks([])\n",
        "ax.text(0.97, 0.8, 'n={}'.format(si_format(len(x_missing)), precision=2, format_str='{value}{prefix}',), \n",
        "        transform=ax.transAxes, ha='right', va='top', fontsize=7, color='r')\n",
        "ax.set_xlabel('Truth', labelpad=2,fontsize=8)\n",
        "ax.tick_params(axis='both', labelsize=6, length=2, pad=1)\n",
        "\n",
        "# Missing label (not detected in either)\n",
        "ax = fig.add_subplot(gs[1, 0])\n",
        "for spine in ['bottom', 'left']:\n",
        "    ax.spines[spine].set_visible(False)\n",
        "ax.set_xticks([]); ax.set_yticks([])\n",
        "\n",
        "ax.text(0.8, 0.8, 'Missing', transform=ax.transAxes, color='r', ha='right', va='top', fontsize=7, clip_on=False)\n",
        "fig.savefig('../results/rnn/2nd_results/nor_package/2nd_aa_nor_package_prediction_correlation_test.pdf',dpi=300,bbox_inches='tight')"
      ]
    },
    {
      "cell_type": "code",
      "execution_count": 14,
      "metadata": {},
      "outputs": [
        {
          "name": "stderr",
          "output_type": "stream",
          "text": [
            "meta NOT subset; don't know how to subset; dropped\n"
          ]
        },
        {
          "data": {
            "image/png": "[encoded data removed]",
            "text/plain": [
              "<Figure size 180x150 with 1 Axes>"
            ]
          },
          "metadata": {},
          "output_type": "display_data"
        }
      ],
      "source": [
        "data = np.array(preds_df['y_pred']) \n",
        "data = data.reshape(-1, 1)  # 将数据转换成列向量的形式\n",
        "\n",
        "# 使用GaussianMixture拟合数据\n",
        "n_components = 1 # 设置混合模型的分量个数\n",
        "gmm = GaussianMixture(n_components=n_components)\n",
        "gmm.fit(data)\n",
        "\n",
        "# 获取每个分量的均值和协方差矩阵\n",
        "means = gmm.means_\n",
        "covariances = gmm.covariances_\n",
        "\n",
        "# 生成拟合后的分布\n",
        "x = np.linspace(-7, 8, 100000)\n",
        "x = x.reshape(-1, 1)\n",
        "y = np.exp(gmm.score_samples(x))\n",
        "\n",
        "fig,ax = plt.subplots(figsize=(1.8,1.5),dpi=100)\n",
        "# 绘制原始数据和拟合后的分布\n",
        "plt.hist(data, bins=100, density=True, alpha=0.6, color = '#BAB3A3',label='Prediction')\n",
        "#plt.plot(x, y, '-r', label='GMM fit')\n",
        "\n",
        "\n",
        "# 绘制每个分量的正态分布\n",
        "for i in range(n_components):\n",
        "    component = np.exp(-(x - means[i]) ** 2 / (2 * covariances[i]))\n",
        "    component /= np.sqrt(2 * np.pi * covariances[i])\n",
        "    component *= gmm.weights_[i]\n",
        "    if i == 0:\n",
        "        ax.plot(x, component, '-', label=f'Distribution {i + 1}', color='#F66E68', alpha=1)\n",
        "        ax.fill_between(x.flatten(), 0, component.flatten(), color='#F66E68', alpha=0.4)\n",
        "    else:\n",
        "        ax.plot(x, component, '-', label=f'Distribution {i + 1}', color='#457B9D', alpha=1)\n",
        "        ax.fill_between(x.flatten(), 0, component.flatten(), color='#457B9D', alpha=0.4)\n",
        "\n",
        "\n",
        "plt.title('Prediction',fontsize=10)\n",
        "ax.tick_params(axis='both', which='both', length=2,labelsize=10)\n",
        "ax.set_xticks([-1, 0, 1,2,3,4 ]); \n",
        "ax.set_xlim([0,2])\n",
        "plt.ylabel('Density',labelpad=1,fontsize=10)\n",
        "plt.xlabel('Nor_package',labelpad=1,fontsize=10)\n",
        "plt.legend(fontsize=7,frameon=False)\n",
        "fig.savefig('../results/rnn/2nd_results/nor_package/2nd_aa_nor_package_prediction_distribution_test.pdf',dpi=300,bbox_inches='tight')"
      ]
    },
    {
      "cell_type": "code",
      "execution_count": null,
      "metadata": {},
      "outputs": [],
      "source": []
    }
  ],
  "metadata": {
    "kernelspec": {
      "display_name": "Python 3 (ipykernel)",
      "language": "python",
      "name": "python3"
    },
    "language_info": {
      "codemirror_mode": {
        "name": "ipython",
        "version": 3
      },
      "file_extension": ".py",
      "mimetype": "text/x-python",
      "name": "python",
      "nbconvert_exporter": "python",
      "pygments_lexer": "ipython3",
      "version": "3.8.16"
    },
    "toc": {
      "base_numbering": 1,
      "nav_menu": {},
      "number_sections": true,
      "sideBar": true,
      "skip_h1_title": false,
      "title_cell": "Table of Contents",
      "title_sidebar": "Contents",
      "toc_cell": true,
      "toc_position": {
        "height": "calc(100% - 180px)",
        "left": "10px",
        "top": "150px",
        "width": "320px"
      },
      "toc_section_display": true,
      "toc_window_display": true
    }
  },
  "nbformat": 4,
  "nbformat_minor": 4
}
